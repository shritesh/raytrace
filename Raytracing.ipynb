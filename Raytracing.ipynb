{
 "cells": [
  {
   "cell_type": "markdown",
   "metadata": {},
   "source": [
    "# Ray Tracing in One Weekend"
   ]
  },
  {
   "cell_type": "markdown",
   "metadata": {},
   "source": [
    "[Ray Tracing in One Weekend](https://raytracing.github.io/books/RayTracingInOneWeekend.html) in a Julia Notebook."
   ]
  },
  {
   "cell_type": "markdown",
   "metadata": {},
   "source": [
    "## Vec3"
   ]
  },
  {
   "cell_type": "code",
   "execution_count": 1,
   "metadata": {},
   "outputs": [],
   "source": [
    "struct Vec3\n",
    "    x::Float64\n",
    "    y::Float64\n",
    "    z::Float64\n",
    "end"
   ]
  },
  {
   "cell_type": "code",
   "execution_count": 2,
   "metadata": {},
   "outputs": [],
   "source": [
    "Base.:+(u::Vec3, v::Vec3) = Vec3(u.x + v.x, u.y + v.y, u.z + v.z)"
   ]
  },
  {
   "cell_type": "code",
   "execution_count": 3,
   "metadata": {},
   "outputs": [],
   "source": [
    "Base.:-(v::Vec3) = Vec3(-v.x, -v.y, -v.z)\n",
    "Base.:-(u::Vec3, v::Vec3) = Vec3(u.x - v.x, u.y - v.y, u.z - v.z)"
   ]
  },
  {
   "cell_type": "code",
   "execution_count": 4,
   "metadata": {},
   "outputs": [],
   "source": [
    "Base.:*(u::Vec3, v::Vec3) = Vec3(u.x * v.x, u.y * v.y, u.z * v.z)\n",
    "Base.:*(v::Vec3, t::Number) = Vec3(v.x * t, v.y * t, v.z * t)\n",
    "Base.:*(t::Number, v::Vec3) = v * t"
   ]
  },
  {
   "cell_type": "code",
   "execution_count": 5,
   "metadata": {},
   "outputs": [],
   "source": [
    "Base.:/(v::Vec3, t::Number) = Vec3(v.x / t, v.y / t, v.z / t)"
   ]
  },
  {
   "cell_type": "code",
   "execution_count": 6,
   "metadata": {},
   "outputs": [
    {
     "data": {
      "text/plain": [
       "length_squared (generic function with 1 method)"
      ]
     },
     "execution_count": 6,
     "metadata": {},
     "output_type": "execute_result"
    }
   ],
   "source": [
    "length_squared(v::Vec3) = v.x * v.x + v.y * v.y + v.z * v.z"
   ]
  },
  {
   "cell_type": "code",
   "execution_count": 7,
   "metadata": {},
   "outputs": [
    {
     "data": {
      "text/plain": [
       "length_vector (generic function with 1 method)"
      ]
     },
     "execution_count": 7,
     "metadata": {},
     "output_type": "execute_result"
    }
   ],
   "source": [
    "# length(collection) is for number of elements\n",
    "length_vector(v::Vec3) = sqrt(length_squared(v))"
   ]
  },
  {
   "cell_type": "code",
   "execution_count": 8,
   "metadata": {},
   "outputs": [
    {
     "data": {
      "text/plain": [
       "dot (generic function with 1 method)"
      ]
     },
     "execution_count": 8,
     "metadata": {},
     "output_type": "execute_result"
    }
   ],
   "source": [
    "dot(u::Vec3, v::Vec3) = u.x * v.x + u.y * v.y + u.z * v.z"
   ]
  },
  {
   "cell_type": "code",
   "execution_count": 9,
   "metadata": {},
   "outputs": [
    {
     "data": {
      "text/plain": [
       "cross (generic function with 1 method)"
      ]
     },
     "execution_count": 9,
     "metadata": {},
     "output_type": "execute_result"
    }
   ],
   "source": [
    "cross(u::Vec3, v::Vec3) = Vec3(\n",
    "    u.y * v.z - u.z * v.y,\n",
    "    u.z * v.x - u.x * v.z,\n",
    "    u.x * v.y - u.y * v.x\n",
    ")"
   ]
  },
  {
   "cell_type": "code",
   "execution_count": 10,
   "metadata": {},
   "outputs": [
    {
     "data": {
      "text/plain": [
       "unit_vector (generic function with 1 method)"
      ]
     },
     "execution_count": 10,
     "metadata": {},
     "output_type": "execute_result"
    }
   ],
   "source": [
    "unit_vector(v::Vec3) = v / length_vector(v)"
   ]
  },
  {
   "cell_type": "markdown",
   "metadata": {},
   "source": [
    "## Rays"
   ]
  },
  {
   "cell_type": "code",
   "execution_count": 11,
   "metadata": {},
   "outputs": [],
   "source": [
    "struct Ray\n",
    "    origin::Vec3\n",
    "    direction::Vec3\n",
    "end"
   ]
  },
  {
   "cell_type": "code",
   "execution_count": 12,
   "metadata": {},
   "outputs": [
    {
     "data": {
      "text/plain": [
       "at (generic function with 1 method)"
      ]
     },
     "execution_count": 12,
     "metadata": {},
     "output_type": "execute_result"
    }
   ],
   "source": [
    "at(ray::Ray, t::Number) = ray.origin + t * ray.direction"
   ]
  },
  {
   "cell_type": "markdown",
   "metadata": {},
   "source": [
    "## Image"
   ]
  },
  {
   "cell_type": "code",
   "execution_count": 13,
   "metadata": {},
   "outputs": [],
   "source": [
    "using Images"
   ]
  },
  {
   "cell_type": "code",
   "execution_count": 14,
   "metadata": {},
   "outputs": [
    {
     "data": {
      "text/plain": [
       "hit_sphere (generic function with 1 method)"
      ]
     },
     "execution_count": 14,
     "metadata": {},
     "output_type": "execute_result"
    }
   ],
   "source": [
    "function hit_sphere(center::Vec3, radius::Float64, r::Ray)\n",
    "    oc = r.origin - center\n",
    "    a = dot(r.direction, r.direction)\n",
    "    b = 2 * dot(oc, r.direction)\n",
    "    c = dot(oc, oc) - radius * radius\n",
    "    discriminant = b * b - 4 * a * c\n",
    "    discriminant > 0\n",
    " end"
   ]
  },
  {
   "cell_type": "code",
   "execution_count": 15,
   "metadata": {},
   "outputs": [
    {
     "data": {
      "text/plain": [
       "ray_color (generic function with 1 method)"
      ]
     },
     "execution_count": 15,
     "metadata": {},
     "output_type": "execute_result"
    }
   ],
   "source": [
    "function ray_color(r::Ray)\n",
    "    if hit_sphere(Vec3(0, 0, -1), 0.5, r)\n",
    "        Vec3(1, 0, 0)\n",
    "    else\n",
    "        unit_direction = unit_vector(r.direction)\n",
    "        t = 0.5 * (unit_direction.y + 1)\n",
    "        (1 - t) * Vec3(1, 1, 1) + t * Vec3(0.5, 0.7, 1.0)\n",
    "    end\n",
    "end"
   ]
  },
  {
   "cell_type": "code",
   "execution_count": 16,
   "metadata": {},
   "outputs": [],
   "source": [
    "const aspect_ratio = 16 / 9\n",
    "const image_width = 384\n",
    "const image_height = Int(image_width ÷ aspect_ratio);"
   ]
  },
  {
   "cell_type": "code",
   "execution_count": 17,
   "metadata": {},
   "outputs": [],
   "source": [
    "const origin = Vec3(0, 0, 0)\n",
    "const horizontal = Vec3(4, 0, 0)\n",
    "const vertical = Vec3(0, 2.25, 0)\n",
    "const lower_left_corner = origin - horizontal / 2 - vertical / 2 - Vec3(0, 0, 1);"
   ]
  },
  {
   "cell_type": "code",
   "execution_count": 18,
   "metadata": {},
   "outputs": [
    {
     "data": {
      "text/plain": [
       "color (generic function with 1 method)"
      ]
     },
     "execution_count": 18,
     "metadata": {},
     "output_type": "execute_result"
    }
   ],
   "source": [
    "function color(i::Int, j::Int)\n",
    "    u = i / image_width   \n",
    "    v = j / image_height\n",
    "    \n",
    "    r = Ray(origin, lower_left_corner + u * horizontal + v * vertical)\n",
    "    pixel_color = ray_color(r)\n",
    "    RGB(pixel_color.x, pixel_color.y, pixel_color.z)\n",
    "end"
   ]
  },
  {
   "cell_type": "code",
   "execution_count": 19,
   "metadata": {},
   "outputs": [
    {
     "data": {
      "text/plain": [
       "render (generic function with 1 method)"
      ]
     },
     "execution_count": 19,
     "metadata": {},
     "output_type": "execute_result"
    }
   ],
   "source": [
    "function render()\n",
    "    [color(i, j) for j in image_height:-1:1, i in 1:image_width]\n",
    "end"
   ]
  },
  {
   "cell_type": "code",
   "execution_count": 20,
   "metadata": {},
   "outputs": [
    {
     "name": "stdout",
     "output_type": "stream",
     "text": [
      "  0.001454 seconds (4 allocations: 1.899 MiB)\n"
     ]
    },
    {
     "data": {
      "image/png": "[encoded data removed]",
      "text/plain": [
       "216×384 Array{RGB{Float64},2} with eltype RGB{Float64}:\n",
       " RGB{Float64}(0.637266,0.78236,1.0)   …  RGB{Float64}(0.63764,0.782584,1.0)\n",
       " RGB{Float64}(0.6381,0.78286,1.0)        RGB{Float64}(0.638473,0.783084,1.0)\n",
       " RGB{Float64}(0.638938,0.783363,1.0)     RGB{Float64}(0.63931,0.783586,1.0)\n",
       " RGB{Float64}(0.639782,0.783869,1.0)     RGB{Float64}(0.640152,0.784091,1.0)\n",
       " RGB{Float64}(0.64063,0.784378,1.0)      RGB{Float64}(0.640998,0.784599,1.0)\n",
       " RGB{Float64}(0.641482,0.784889,1.0)  …  RGB{Float64}(0.64185,0.78511,1.0)\n",
       " RGB{Float64}(0.64234,0.785404,1.0)      RGB{Float64}(0.642706,0.785623,1.0)\n",
       " RGB{Float64}(0.643202,0.785921,1.0)     RGB{Float64}(0.643566,0.78614,1.0)\n",
       " RGB{Float64}(0.644069,0.786441,1.0)     RGB{Float64}(0.644431,0.786659,1.0)\n",
       " RGB{Float64}(0.64494,0.786964,1.0)      RGB{Float64}(0.645301,0.787181,1.0)\n",
       " RGB{Float64}(0.645816,0.78749,1.0)   …  RGB{Float64}(0.646175,0.787705,1.0)\n",
       " RGB{Float64}(0.646697,0.788018,1.0)     RGB{Float64}(0.647054,0.788233,1.0)\n",
       " RGB{Float64}(0.647583,0.78855,1.0)      RGB{Float64}(0.647938,0.788763,1.0)\n",
       " ⋮                                    ⋱  \n",
       " RGB{Float64}(0.852417,0.91145,1.0)      RGB{Float64}(0.852062,0.911237,1.0)\n",
       " RGB{Float64}(0.853303,0.911982,1.0)  …  RGB{Float64}(0.852946,0.911767,1.0)\n",
       " RGB{Float64}(0.854184,0.91251,1.0)      RGB{Float64}(0.853825,0.912295,1.0)\n",
       " RGB{Float64}(0.85506,0.913036,1.0)      RGB{Float64}(0.854699,0.912819,1.0)\n",
       " RGB{Float64}(0.855931,0.913559,1.0)     RGB{Float64}(0.855569,0.913341,1.0)\n",
       " RGB{Float64}(0.856798,0.914079,1.0)     RGB{Float64}(0.856434,0.91386,1.0)\n",
       " RGB{Float64}(0.85766,0.914596,1.0)   …  RGB{Float64}(0.857294,0.914377,1.0)\n",
       " RGB{Float64}(0.858518,0.915111,1.0)     RGB{Float64}(0.85815,0.91489,1.0)\n",
       " RGB{Float64}(0.85937,0.915622,1.0)      RGB{Float64}(0.859002,0.915401,1.0)\n",
       " RGB{Float64}(0.860218,0.916131,1.0)     RGB{Float64}(0.859848,0.915909,1.0)\n",
       " RGB{Float64}(0.861062,0.916637,1.0)     RGB{Float64}(0.86069,0.916414,1.0)\n",
       " RGB{Float64}(0.8619,0.91714,1.0)     …  RGB{Float64}(0.861527,0.916916,1.0)"
      ]
     },
     "execution_count": 20,
     "metadata": {},
     "output_type": "execute_result"
    }
   ],
   "source": [
    "@time render()"
   ]
  }
 ],
 "metadata": {
  "@webio": {
   "lastCommId": null,
   "lastKernelId": null
  },
  "kernelspec": {
   "display_name": "Julia 1.4.1",
   "language": "julia",
   "name": "julia-1.4"
  },
  "language_info": {
   "file_extension": ".jl",
   "mimetype": "application/julia",
   "name": "julia",
   "version": "1.4.1"
  }
 },
 "nbformat": 4,
 "nbformat_minor": 4
}
