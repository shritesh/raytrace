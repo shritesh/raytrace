{
 "cells": [
  {
   "cell_type": "markdown",
   "metadata": {},
   "source": [
    "# Ray Tracing in One Weekend"
   ]
  },
  {
   "cell_type": "markdown",
   "metadata": {},
   "source": [
    "[Ray Tracing in One Weekend](https://raytracing.github.io/books/RayTracingInOneWeekend.html) in a Julia Notebook."
   ]
  },
  {
   "cell_type": "code",
   "execution_count": 1,
   "metadata": {},
   "outputs": [],
   "source": [
    "using Images, LinearAlgebra, ProgressMeter"
   ]
  },
  {
   "cell_type": "markdown",
   "metadata": {},
   "source": [
    "## 2. Output an Image"
   ]
  },
  {
   "cell_type": "code",
   "execution_count": 2,
   "metadata": {},
   "outputs": [
    {
     "data": {
      "text/plain": [
       "(200, 100)"
      ]
     },
     "execution_count": 2,
     "metadata": {},
     "output_type": "execute_result"
    }
   ],
   "source": [
    "(image_width, image_height) = (200, 100)"
   ]
  },
  {
   "cell_type": "code",
   "execution_count": 3,
   "metadata": {},
   "outputs": [
    {
     "data": {
      "image/png": "[encoded data removed]",
      "text/plain": [
       "100×200 Array{RGB{Float64},2} with eltype RGB{Float64}:\n",
       " RGB{Float64}(0.005,1.0,0.2)   …  RGB{Float64}(1.0,1.0,0.2)\n",
       " RGB{Float64}(0.005,0.99,0.2)     RGB{Float64}(1.0,0.99,0.2)\n",
       " RGB{Float64}(0.005,0.98,0.2)     RGB{Float64}(1.0,0.98,0.2)\n",
       " RGB{Float64}(0.005,0.97,0.2)     RGB{Float64}(1.0,0.97,0.2)\n",
       " RGB{Float64}(0.005,0.96,0.2)     RGB{Float64}(1.0,0.96,0.2)\n",
       " RGB{Float64}(0.005,0.95,0.2)  …  RGB{Float64}(1.0,0.95,0.2)\n",
       " RGB{Float64}(0.005,0.94,0.2)     RGB{Float64}(1.0,0.94,0.2)\n",
       " RGB{Float64}(0.005,0.93,0.2)     RGB{Float64}(1.0,0.93,0.2)\n",
       " RGB{Float64}(0.005,0.92,0.2)     RGB{Float64}(1.0,0.92,0.2)\n",
       " RGB{Float64}(0.005,0.91,0.2)     RGB{Float64}(1.0,0.91,0.2)\n",
       " RGB{Float64}(0.005,0.9,0.2)   …  RGB{Float64}(1.0,0.9,0.2)\n",
       " RGB{Float64}(0.005,0.89,0.2)     RGB{Float64}(1.0,0.89,0.2)\n",
       " RGB{Float64}(0.005,0.88,0.2)     RGB{Float64}(1.0,0.88,0.2)\n",
       " ⋮                             ⋱  \n",
       " RGB{Float64}(0.005,0.12,0.2)     RGB{Float64}(1.0,0.12,0.2)\n",
       " RGB{Float64}(0.005,0.11,0.2)     RGB{Float64}(1.0,0.11,0.2)\n",
       " RGB{Float64}(0.005,0.1,0.2)   …  RGB{Float64}(1.0,0.1,0.2)\n",
       " RGB{Float64}(0.005,0.09,0.2)     RGB{Float64}(1.0,0.09,0.2)\n",
       " RGB{Float64}(0.005,0.08,0.2)     RGB{Float64}(1.0,0.08,0.2)\n",
       " RGB{Float64}(0.005,0.07,0.2)     RGB{Float64}(1.0,0.07,0.2)\n",
       " RGB{Float64}(0.005,0.06,0.2)     RGB{Float64}(1.0,0.06,0.2)\n",
       " RGB{Float64}(0.005,0.05,0.2)  …  RGB{Float64}(1.0,0.05,0.2)\n",
       " RGB{Float64}(0.005,0.04,0.2)     RGB{Float64}(1.0,0.04,0.2)\n",
       " RGB{Float64}(0.005,0.03,0.2)     RGB{Float64}(1.0,0.03,0.2)\n",
       " RGB{Float64}(0.005,0.02,0.2)     RGB{Float64}(1.0,0.02,0.2)\n",
       " RGB{Float64}(0.005,0.01,0.2)     RGB{Float64}(1.0,0.01,0.2)"
      ]
     },
     "execution_count": 3,
     "metadata": {},
     "output_type": "execute_result"
    }
   ],
   "source": [
    "[RGB(i / image_width, j / image_height, 0.2) for j in image_height:-1:1, i in 1:image_width]"
   ]
  },
  {
   "cell_type": "markdown",
   "metadata": {},
   "source": [
    "## 3. The Vec3 ~~Class~~ Array"
   ]
  },
  {
   "cell_type": "code",
   "execution_count": 4,
   "metadata": {},
   "outputs": [],
   "source": [
    "x(vec) = vec[1]\n",
    "y(vec) = vec[2]\n",
    "z(vec) = vec[3];"
   ]
  },
  {
   "cell_type": "code",
   "execution_count": 5,
   "metadata": {},
   "outputs": [
    {
     "data": {
      "text/plain": [
       "color (generic function with 1 method)"
      ]
     },
     "execution_count": 5,
     "metadata": {},
     "output_type": "execute_result"
    }
   ],
   "source": [
    "color(i,j) = [i / image_width, j / image_height, 0.2]"
   ]
  },
  {
   "cell_type": "code",
   "execution_count": 6,
   "metadata": {},
   "outputs": [
    {
     "name": "stderr",
     "output_type": "stream",
     "text": [
      "\u001b[32mProgress: 100%|█████████████████████████████████████████| Time: 0:00:00\u001b[39m\n"
     ]
    },
    {
     "data": {
      "image/png": "[encoded data removed]",
      "text/plain": [
       "100×200 Array{RGB{Float64},2} with eltype RGB{Float64}:\n",
       " RGB{Float64}(0.005,1.0,0.2)   …  RGB{Float64}(1.0,1.0,0.2)\n",
       " RGB{Float64}(0.005,0.99,0.2)     RGB{Float64}(1.0,0.99,0.2)\n",
       " RGB{Float64}(0.005,0.98,0.2)     RGB{Float64}(1.0,0.98,0.2)\n",
       " RGB{Float64}(0.005,0.97,0.2)     RGB{Float64}(1.0,0.97,0.2)\n",
       " RGB{Float64}(0.005,0.96,0.2)     RGB{Float64}(1.0,0.96,0.2)\n",
       " RGB{Float64}(0.005,0.95,0.2)  …  RGB{Float64}(1.0,0.95,0.2)\n",
       " RGB{Float64}(0.005,0.94,0.2)     RGB{Float64}(1.0,0.94,0.2)\n",
       " RGB{Float64}(0.005,0.93,0.2)     RGB{Float64}(1.0,0.93,0.2)\n",
       " RGB{Float64}(0.005,0.92,0.2)     RGB{Float64}(1.0,0.92,0.2)\n",
       " RGB{Float64}(0.005,0.91,0.2)     RGB{Float64}(1.0,0.91,0.2)\n",
       " RGB{Float64}(0.005,0.9,0.2)   …  RGB{Float64}(1.0,0.9,0.2)\n",
       " RGB{Float64}(0.005,0.89,0.2)     RGB{Float64}(1.0,0.89,0.2)\n",
       " RGB{Float64}(0.005,0.88,0.2)     RGB{Float64}(1.0,0.88,0.2)\n",
       " ⋮                             ⋱  \n",
       " RGB{Float64}(0.005,0.12,0.2)     RGB{Float64}(1.0,0.12,0.2)\n",
       " RGB{Float64}(0.005,0.11,0.2)     RGB{Float64}(1.0,0.11,0.2)\n",
       " RGB{Float64}(0.005,0.1,0.2)   …  RGB{Float64}(1.0,0.1,0.2)\n",
       " RGB{Float64}(0.005,0.09,0.2)     RGB{Float64}(1.0,0.09,0.2)\n",
       " RGB{Float64}(0.005,0.08,0.2)     RGB{Float64}(1.0,0.08,0.2)\n",
       " RGB{Float64}(0.005,0.07,0.2)     RGB{Float64}(1.0,0.07,0.2)\n",
       " RGB{Float64}(0.005,0.06,0.2)     RGB{Float64}(1.0,0.06,0.2)\n",
       " RGB{Float64}(0.005,0.05,0.2)  …  RGB{Float64}(1.0,0.05,0.2)\n",
       " RGB{Float64}(0.005,0.04,0.2)     RGB{Float64}(1.0,0.04,0.2)\n",
       " RGB{Float64}(0.005,0.03,0.2)     RGB{Float64}(1.0,0.03,0.2)\n",
       " RGB{Float64}(0.005,0.02,0.2)     RGB{Float64}(1.0,0.02,0.2)\n",
       " RGB{Float64}(0.005,0.01,0.2)     RGB{Float64}(1.0,0.01,0.2)"
      ]
     },
     "execution_count": 6,
     "metadata": {},
     "output_type": "execute_result"
    }
   ],
   "source": [
    "render() = @showprogress map(coords -> RGB(color(coords...)...), [(i,j) for j in image_height:-1:1, i in 1:image_width])\n",
    "render()"
   ]
  },
  {
   "cell_type": "markdown",
   "metadata": {},
   "source": [
    "## 4. Rays, a Simple Camera, and Background"
   ]
  },
  {
   "cell_type": "markdown",
   "metadata": {},
   "source": [
    "It is not possible to modify structs in the same Julia session. This can be gotten around by redefining the module. [FAQ Entry](https://docs.julialang.org/en/v1/manual/faq/#How-can-I-modify-the-declaration-of-a-type-in-my-session?-1) "
   ]
  },
  {
   "cell_type": "code",
   "execution_count": 7,
   "metadata": {},
   "outputs": [
    {
     "data": {
      "text/plain": [
       "Main.RayM"
      ]
     },
     "execution_count": 7,
     "metadata": {},
     "output_type": "execute_result"
    }
   ],
   "source": [
    "module RayM\n",
    "struct Ray \n",
    "    origin\n",
    "    direction\n",
    "end\n",
    "end"
   ]
  },
  {
   "cell_type": "code",
   "execution_count": 8,
   "metadata": {},
   "outputs": [
    {
     "data": {
      "text/plain": [
       "at (generic function with 1 method)"
      ]
     },
     "execution_count": 8,
     "metadata": {},
     "output_type": "execute_result"
    }
   ],
   "source": [
    "at(ray::RayM.Ray, t) = ray.origin + t * ray.direction"
   ]
  },
  {
   "cell_type": "code",
   "execution_count": 9,
   "metadata": {},
   "outputs": [
    {
     "data": {
      "text/plain": [
       "color (generic function with 2 methods)"
      ]
     },
     "execution_count": 9,
     "metadata": {},
     "output_type": "execute_result"
    }
   ],
   "source": [
    "function color(ray::RayM.Ray)\n",
    "    unit_direction = normalize(ray.direction)\n",
    "    t = 0.5 * (y(unit_direction) + 1)\n",
    "    (1 - t) * [1, 1, 1] + t * [0.5, 0.7, 1]\n",
    "end"
   ]
  },
  {
   "cell_type": "code",
   "execution_count": 10,
   "metadata": {},
   "outputs": [],
   "source": [
    "lower_left_corner = [-2, -1, -1]\n",
    "horizontal = [4, 0, 0]\n",
    "vertical = [0, 2, 0]\n",
    "origin = [0, 0, 0];"
   ]
  },
  {
   "cell_type": "code",
   "execution_count": 11,
   "metadata": {},
   "outputs": [
    {
     "data": {
      "text/plain": [
       "color (generic function with 2 methods)"
      ]
     },
     "execution_count": 11,
     "metadata": {},
     "output_type": "execute_result"
    }
   ],
   "source": [
    "function color(i, j) \n",
    "    u = i / image_width\n",
    "    v = j / image_height\n",
    "    r = RayM.Ray(origin, lower_left_corner + u * horizontal + v * vertical)\n",
    "    color(r)\n",
    "end"
   ]
  },
  {
   "cell_type": "code",
   "execution_count": 12,
   "metadata": {},
   "outputs": [
    {
     "name": "stderr",
     "output_type": "stream",
     "text": [
      "\u001b[32mProgress: 100%|█████████████████████████████████████████| Time: 0:00:00\u001b[39m\n"
     ]
    },
    {
     "data": {
      "image/png": "[encoded data removed]",
      "text/plain": [
       "100×200 Array{RGB{Float64},2} with eltype RGB{Float64}:\n",
       " RGB{Float64}(0.647254,0.788352,1.0)  …  RGB{Float64}(0.647938,0.788763,1.0)\n",
       " RGB{Float64}(0.648971,0.789382,1.0)     RGB{Float64}(0.649647,0.789788,1.0)\n",
       " RGB{Float64}(0.650704,0.790423,1.0)     RGB{Float64}(0.651374,0.790824,1.0)\n",
       " RGB{Float64}(0.652455,0.791473,1.0)     RGB{Float64}(0.653117,0.79187,1.0)\n",
       " RGB{Float64}(0.654223,0.792534,1.0)     RGB{Float64}(0.654877,0.792926,1.0)\n",
       " RGB{Float64}(0.656008,0.793605,1.0)  …  RGB{Float64}(0.656654,0.793993,1.0)\n",
       " RGB{Float64}(0.65781,0.794686,1.0)      RGB{Float64}(0.658448,0.795069,1.0)\n",
       " RGB{Float64}(0.659629,0.795777,1.0)     RGB{Float64}(0.660258,0.796155,1.0)\n",
       " RGB{Float64}(0.661464,0.796878,1.0)     RGB{Float64}(0.662084,0.79725,1.0)\n",
       " RGB{Float64}(0.663316,0.79799,1.0)      RGB{Float64}(0.663926,0.798356,1.0)\n",
       " RGB{Float64}(0.665184,0.79911,1.0)   …  RGB{Float64}(0.665785,0.799471,1.0)\n",
       " RGB{Float64}(0.667069,0.800241,1.0)     RGB{Float64}(0.667659,0.800596,1.0)\n",
       " RGB{Float64}(0.668969,0.801381,1.0)     RGB{Float64}(0.669549,0.80173,1.0)\n",
       " ⋮                                    ⋱  \n",
       " RGB{Float64}(0.831031,0.898619,1.0)     RGB{Float64}(0.830451,0.89827,1.0)\n",
       " RGB{Float64}(0.832931,0.899759,1.0)     RGB{Float64}(0.832341,0.899404,1.0)\n",
       " RGB{Float64}(0.834816,0.90089,1.0)   …  RGB{Float64}(0.834215,0.900529,1.0)\n",
       " RGB{Float64}(0.836684,0.90201,1.0)      RGB{Float64}(0.836074,0.901644,1.0)\n",
       " RGB{Float64}(0.838536,0.903122,1.0)     RGB{Float64}(0.837916,0.90275,1.0)\n",
       " RGB{Float64}(0.840371,0.904223,1.0)     RGB{Float64}(0.839742,0.903845,1.0)\n",
       " RGB{Float64}(0.84219,0.905314,1.0)      RGB{Float64}(0.841552,0.904931,1.0)\n",
       " RGB{Float64}(0.843992,0.906395,1.0)  …  RGB{Float64}(0.843346,0.906007,1.0)\n",
       " RGB{Float64}(0.845777,0.907466,1.0)     RGB{Float64}(0.845123,0.907074,1.0)\n",
       " RGB{Float64}(0.847545,0.908527,1.0)     RGB{Float64}(0.846883,0.90813,1.0)\n",
       " RGB{Float64}(0.849296,0.909577,1.0)     RGB{Float64}(0.848626,0.909176,1.0)\n",
       " RGB{Float64}(0.851029,0.910618,1.0)     RGB{Float64}(0.850353,0.910212,1.0)"
      ]
     },
     "execution_count": 12,
     "metadata": {},
     "output_type": "execute_result"
    }
   ],
   "source": [
    "render()"
   ]
  },
  {
   "cell_type": "markdown",
   "metadata": {},
   "source": [
    "## 5. Adding a Sphere"
   ]
  },
  {
   "cell_type": "code",
   "execution_count": 13,
   "metadata": {},
   "outputs": [
    {
     "data": {
      "text/plain": [
       "hit_sphere (generic function with 1 method)"
      ]
     },
     "execution_count": 13,
     "metadata": {},
     "output_type": "execute_result"
    }
   ],
   "source": [
    "function hit_sphere(center, radius, r)\n",
    "    oc = r.origin - center\n",
    "    a = dot(r.direction, r.direction)\n",
    "    b = 2 * dot(oc, r.direction)\n",
    "    c = dot(oc, oc) - radius * radius\n",
    "    discriminant = b * b - 4 * a * c\n",
    "    discriminant > 0\n",
    "end"
   ]
  },
  {
   "cell_type": "code",
   "execution_count": 14,
   "metadata": {},
   "outputs": [
    {
     "data": {
      "text/plain": [
       "color (generic function with 2 methods)"
      ]
     },
     "execution_count": 14,
     "metadata": {},
     "output_type": "execute_result"
    }
   ],
   "source": [
    "function color(r::RayM.Ray)\n",
    "    if hit_sphere([0, 0, -1], 0.5, r)\n",
    "        return [1, 0, 0]\n",
    "    end\n",
    "    unit_direction = normalize(r.direction)\n",
    "    t = 0.5 * (y(unit_direction) + 1)\n",
    "    (1 - t) * [1, 1, 1] + t * [0.5, 0.7, 1]\n",
    "end"
   ]
  },
  {
   "cell_type": "code",
   "execution_count": 15,
   "metadata": {},
   "outputs": [
    {
     "name": "stderr",
     "output_type": "stream",
     "text": [
      "\u001b[32mProgress: 100%|█████████████████████████████████████████| Time: 0:00:00\u001b[39m\n"
     ]
    },
    {
     "data": {
      "image/png": "[encoded data removed]",
      "text/plain": [
       "100×200 Array{RGB,2} with eltype RGB:\n",
       " RGB{Float64}(0.647254,0.788352,1.0)  …  RGB{Float64}(0.647938,0.788763,1.0)\n",
       " RGB{Float64}(0.648971,0.789382,1.0)     RGB{Float64}(0.649647,0.789788,1.0)\n",
       " RGB{Float64}(0.650704,0.790423,1.0)     RGB{Float64}(0.651374,0.790824,1.0)\n",
       " RGB{Float64}(0.652455,0.791473,1.0)     RGB{Float64}(0.653117,0.79187,1.0)\n",
       " RGB{Float64}(0.654223,0.792534,1.0)     RGB{Float64}(0.654877,0.792926,1.0)\n",
       " RGB{Float64}(0.656008,0.793605,1.0)  …  RGB{Float64}(0.656654,0.793993,1.0)\n",
       " RGB{Float64}(0.65781,0.794686,1.0)      RGB{Float64}(0.658448,0.795069,1.0)\n",
       " RGB{Float64}(0.659629,0.795777,1.0)     RGB{Float64}(0.660258,0.796155,1.0)\n",
       " RGB{Float64}(0.661464,0.796878,1.0)     RGB{Float64}(0.662084,0.79725,1.0)\n",
       " RGB{Float64}(0.663316,0.79799,1.0)      RGB{Float64}(0.663926,0.798356,1.0)\n",
       " RGB{Float64}(0.665184,0.79911,1.0)   …  RGB{Float64}(0.665785,0.799471,1.0)\n",
       " RGB{Float64}(0.667069,0.800241,1.0)     RGB{Float64}(0.667659,0.800596,1.0)\n",
       " RGB{Float64}(0.668969,0.801381,1.0)     RGB{Float64}(0.669549,0.80173,1.0)\n",
       " ⋮                                    ⋱  \n",
       " RGB{Float64}(0.831031,0.898619,1.0)     RGB{Float64}(0.830451,0.89827,1.0)\n",
       " RGB{Float64}(0.832931,0.899759,1.0)     RGB{Float64}(0.832341,0.899404,1.0)\n",
       " RGB{Float64}(0.834816,0.90089,1.0)   …  RGB{Float64}(0.834215,0.900529,1.0)\n",
       " RGB{Float64}(0.836684,0.90201,1.0)      RGB{Float64}(0.836074,0.901644,1.0)\n",
       " RGB{Float64}(0.838536,0.903122,1.0)     RGB{Float64}(0.837916,0.90275,1.0)\n",
       " RGB{Float64}(0.840371,0.904223,1.0)     RGB{Float64}(0.839742,0.903845,1.0)\n",
       " RGB{Float64}(0.84219,0.905314,1.0)      RGB{Float64}(0.841552,0.904931,1.0)\n",
       " RGB{Float64}(0.843992,0.906395,1.0)  …  RGB{Float64}(0.843346,0.906007,1.0)\n",
       " RGB{Float64}(0.845777,0.907466,1.0)     RGB{Float64}(0.845123,0.907074,1.0)\n",
       " RGB{Float64}(0.847545,0.908527,1.0)     RGB{Float64}(0.846883,0.90813,1.0)\n",
       " RGB{Float64}(0.849296,0.909577,1.0)     RGB{Float64}(0.848626,0.909176,1.0)\n",
       " RGB{Float64}(0.851029,0.910618,1.0)     RGB{Float64}(0.850353,0.910212,1.0)"
      ]
     },
     "execution_count": 15,
     "metadata": {},
     "output_type": "execute_result"
    }
   ],
   "source": [
    "render()"
   ]
  },
  {
   "cell_type": "markdown",
   "metadata": {},
   "source": [
    "## 6. Surface Normals and Multiple Objects"
   ]
  },
  {
   "cell_type": "code",
   "execution_count": 16,
   "metadata": {},
   "outputs": [
    {
     "data": {
      "text/plain": [
       "hit_sphere (generic function with 1 method)"
      ]
     },
     "execution_count": 16,
     "metadata": {},
     "output_type": "execute_result"
    }
   ],
   "source": [
    "function hit_sphere(center, radius, r)\n",
    "    oc = r.origin - center\n",
    "    a = dot(r.direction, r.direction)\n",
    "    b = 2 * dot(oc, r.direction)\n",
    "    c = dot(oc, oc) - radius * radius\n",
    "    discriminant = b * b - 4 * a * c\n",
    "    if discriminant < 0\n",
    "        -1\n",
    "    else\n",
    "        (-b - sqrt(discriminant)) / (2 * a)\n",
    "    end\n",
    "end"
   ]
  },
  {
   "cell_type": "code",
   "execution_count": 17,
   "metadata": {},
   "outputs": [
    {
     "data": {
      "text/plain": [
       "color (generic function with 2 methods)"
      ]
     },
     "execution_count": 17,
     "metadata": {},
     "output_type": "execute_result"
    }
   ],
   "source": [
    "function color(r::RayM.Ray)\n",
    "    t = hit_sphere([0, 0, -1], 0.5, r)\n",
    "    if t > 0\n",
    "        n = normalize(at(r, t) - [0, 0, -1])\n",
    "        return 0.5 * (n .+ 1)\n",
    "    end\n",
    "    unit_direction = normalize(r.direction)\n",
    "    t = 0.5 * (y(unit_direction) + 1)\n",
    "    (1 - t) * [1, 1, 1] + t * [0.5, 0.7, 1]\n",
    "end"
   ]
  },
  {
   "cell_type": "code",
   "execution_count": 18,
   "metadata": {},
   "outputs": [
    {
     "name": "stderr",
     "output_type": "stream",
     "text": [
      "\u001b[32mProgress: 100%|█████████████████████████████████████████| Time: 0:00:00\u001b[39m\n"
     ]
    },
    {
     "data": {
      "image/png": "[encoded data removed]",
      "text/plain": [
       "100×200 Array{RGB{Float64},2} with eltype RGB{Float64}:\n",
       " RGB{Float64}(0.647254,0.788352,1.0)  …  RGB{Float64}(0.647938,0.788763,1.0)\n",
       " RGB{Float64}(0.648971,0.789382,1.0)     RGB{Float64}(0.649647,0.789788,1.0)\n",
       " RGB{Float64}(0.650704,0.790423,1.0)     RGB{Float64}(0.651374,0.790824,1.0)\n",
       " RGB{Float64}(0.652455,0.791473,1.0)     RGB{Float64}(0.653117,0.79187,1.0)\n",
       " RGB{Float64}(0.654223,0.792534,1.0)     RGB{Float64}(0.654877,0.792926,1.0)\n",
       " RGB{Float64}(0.656008,0.793605,1.0)  …  RGB{Float64}(0.656654,0.793993,1.0)\n",
       " RGB{Float64}(0.65781,0.794686,1.0)      RGB{Float64}(0.658448,0.795069,1.0)\n",
       " RGB{Float64}(0.659629,0.795777,1.0)     RGB{Float64}(0.660258,0.796155,1.0)\n",
       " RGB{Float64}(0.661464,0.796878,1.0)     RGB{Float64}(0.662084,0.79725,1.0)\n",
       " RGB{Float64}(0.663316,0.79799,1.0)      RGB{Float64}(0.663926,0.798356,1.0)\n",
       " RGB{Float64}(0.665184,0.79911,1.0)   …  RGB{Float64}(0.665785,0.799471,1.0)\n",
       " RGB{Float64}(0.667069,0.800241,1.0)     RGB{Float64}(0.667659,0.800596,1.0)\n",
       " RGB{Float64}(0.668969,0.801381,1.0)     RGB{Float64}(0.669549,0.80173,1.0)\n",
       " ⋮                                    ⋱  \n",
       " RGB{Float64}(0.831031,0.898619,1.0)     RGB{Float64}(0.830451,0.89827,1.0)\n",
       " RGB{Float64}(0.832931,0.899759,1.0)     RGB{Float64}(0.832341,0.899404,1.0)\n",
       " RGB{Float64}(0.834816,0.90089,1.0)   …  RGB{Float64}(0.834215,0.900529,1.0)\n",
       " RGB{Float64}(0.836684,0.90201,1.0)      RGB{Float64}(0.836074,0.901644,1.0)\n",
       " RGB{Float64}(0.838536,0.903122,1.0)     RGB{Float64}(0.837916,0.90275,1.0)\n",
       " RGB{Float64}(0.840371,0.904223,1.0)     RGB{Float64}(0.839742,0.903845,1.0)\n",
       " RGB{Float64}(0.84219,0.905314,1.0)      RGB{Float64}(0.841552,0.904931,1.0)\n",
       " RGB{Float64}(0.843992,0.906395,1.0)  …  RGB{Float64}(0.843346,0.906007,1.0)\n",
       " RGB{Float64}(0.845777,0.907466,1.0)     RGB{Float64}(0.845123,0.907074,1.0)\n",
       " RGB{Float64}(0.847545,0.908527,1.0)     RGB{Float64}(0.846883,0.90813,1.0)\n",
       " RGB{Float64}(0.849296,0.909577,1.0)     RGB{Float64}(0.848626,0.909176,1.0)\n",
       " RGB{Float64}(0.851029,0.910618,1.0)     RGB{Float64}(0.850353,0.910212,1.0)"
      ]
     },
     "execution_count": 18,
     "metadata": {},
     "output_type": "execute_result"
    }
   ],
   "source": [
    "render()"
   ]
  },
  {
   "cell_type": "code",
   "execution_count": 19,
   "metadata": {},
   "outputs": [
    {
     "data": {
      "text/plain": [
       "hit_sphere (generic function with 1 method)"
      ]
     },
     "execution_count": 19,
     "metadata": {},
     "output_type": "execute_result"
    }
   ],
   "source": [
    "function hit_sphere(center, radius, r)\n",
    "    oc = r.origin - center\n",
    "    a = norm(r.direction)^2\n",
    "    half_b = dot(oc, r.direction)\n",
    "    c = norm(oc)^2 - radius * radius\n",
    "    discriminant = half_b * half_b - a * c\n",
    "    \n",
    "    if discriminant < 0\n",
    "        -1\n",
    "    else\n",
    "        (-half_b - sqrt(discriminant)) / a\n",
    "    end\n",
    "end"
   ]
  },
  {
   "cell_type": "code",
   "execution_count": 20,
   "metadata": {},
   "outputs": [
    {
     "name": "stderr",
     "output_type": "stream",
     "text": [
      "\u001b[32mProgress: 100%|█████████████████████████████████████████| Time: 0:00:00\u001b[39m\n"
     ]
    },
    {
     "data": {
      "image/png": "[encoded data removed]",
      "text/plain": [
       "100×200 Array{RGB{Float64},2} with eltype RGB{Float64}:\n",
       " RGB{Float64}(0.647254,0.788352,1.0)  …  RGB{Float64}(0.647938,0.788763,1.0)\n",
       " RGB{Float64}(0.648971,0.789382,1.0)     RGB{Float64}(0.649647,0.789788,1.0)\n",
       " RGB{Float64}(0.650704,0.790423,1.0)     RGB{Float64}(0.651374,0.790824,1.0)\n",
       " RGB{Float64}(0.652455,0.791473,1.0)     RGB{Float64}(0.653117,0.79187,1.0)\n",
       " RGB{Float64}(0.654223,0.792534,1.0)     RGB{Float64}(0.654877,0.792926,1.0)\n",
       " RGB{Float64}(0.656008,0.793605,1.0)  …  RGB{Float64}(0.656654,0.793993,1.0)\n",
       " RGB{Float64}(0.65781,0.794686,1.0)      RGB{Float64}(0.658448,0.795069,1.0)\n",
       " RGB{Float64}(0.659629,0.795777,1.0)     RGB{Float64}(0.660258,0.796155,1.0)\n",
       " RGB{Float64}(0.661464,0.796878,1.0)     RGB{Float64}(0.662084,0.79725,1.0)\n",
       " RGB{Float64}(0.663316,0.79799,1.0)      RGB{Float64}(0.663926,0.798356,1.0)\n",
       " RGB{Float64}(0.665184,0.79911,1.0)   …  RGB{Float64}(0.665785,0.799471,1.0)\n",
       " RGB{Float64}(0.667069,0.800241,1.0)     RGB{Float64}(0.667659,0.800596,1.0)\n",
       " RGB{Float64}(0.668969,0.801381,1.0)     RGB{Float64}(0.669549,0.80173,1.0)\n",
       " ⋮                                    ⋱  \n",
       " RGB{Float64}(0.831031,0.898619,1.0)     RGB{Float64}(0.830451,0.89827,1.0)\n",
       " RGB{Float64}(0.832931,0.899759,1.0)     RGB{Float64}(0.832341,0.899404,1.0)\n",
       " RGB{Float64}(0.834816,0.90089,1.0)   …  RGB{Float64}(0.834215,0.900529,1.0)\n",
       " RGB{Float64}(0.836684,0.90201,1.0)      RGB{Float64}(0.836074,0.901644,1.0)\n",
       " RGB{Float64}(0.838536,0.903122,1.0)     RGB{Float64}(0.837916,0.90275,1.0)\n",
       " RGB{Float64}(0.840371,0.904223,1.0)     RGB{Float64}(0.839742,0.903845,1.0)\n",
       " RGB{Float64}(0.84219,0.905314,1.0)      RGB{Float64}(0.841552,0.904931,1.0)\n",
       " RGB{Float64}(0.843992,0.906395,1.0)  …  RGB{Float64}(0.843346,0.906007,1.0)\n",
       " RGB{Float64}(0.845777,0.907466,1.0)     RGB{Float64}(0.845123,0.907074,1.0)\n",
       " RGB{Float64}(0.847545,0.908527,1.0)     RGB{Float64}(0.846883,0.90813,1.0)\n",
       " RGB{Float64}(0.849296,0.909577,1.0)     RGB{Float64}(0.848626,0.909176,1.0)\n",
       " RGB{Float64}(0.851029,0.910618,1.0)     RGB{Float64}(0.850353,0.910212,1.0)"
      ]
     },
     "execution_count": 20,
     "metadata": {},
     "output_type": "execute_result"
    }
   ],
   "source": [
    "render()"
   ]
  },
  {
   "cell_type": "code",
   "execution_count": 21,
   "metadata": {},
   "outputs": [
    {
     "data": {
      "text/plain": [
       "Main.HitRecordM"
      ]
     },
     "execution_count": 21,
     "metadata": {},
     "output_type": "execute_result"
    }
   ],
   "source": [
    "module HitRecordM\n",
    "mutable struct HitRecord\n",
    "    p\n",
    "    normal\n",
    "    t\n",
    "    front_face\n",
    "    \n",
    "    HitRecord() = new([0, 0, 0], [0, 0, 0], 0, false)\n",
    "end\n",
    "end"
   ]
  },
  {
   "cell_type": "code",
   "execution_count": 22,
   "metadata": {},
   "outputs": [
    {
     "data": {
      "text/plain": [
       "set_face_normal (generic function with 1 method)"
      ]
     },
     "execution_count": 22,
     "metadata": {},
     "output_type": "execute_result"
    }
   ],
   "source": [
    "function set_face_normal(rec::HitRecordM.HitRecord, r, outward_normal)\n",
    "    rec.front_face = dot(r.direction, outward_normal) < 0\n",
    "    rec.normal = if rec.front_face\n",
    "        outward_normal \n",
    "    else\n",
    "        -outward_normal\n",
    "    end\n",
    "end"
   ]
  },
  {
   "cell_type": "code",
   "execution_count": 23,
   "metadata": {},
   "outputs": [],
   "source": [
    "abstract type Hittable end"
   ]
  },
  {
   "cell_type": "code",
   "execution_count": 24,
   "metadata": {},
   "outputs": [
    {
     "data": {
      "text/plain": [
       "Main.SphereM"
      ]
     },
     "execution_count": 24,
     "metadata": {},
     "output_type": "execute_result"
    }
   ],
   "source": [
    "module SphereM\n",
    "struct Sphere <: Main.Hittable\n",
    "    center\n",
    "    radius\n",
    "end\n",
    "end"
   ]
  },
  {
   "cell_type": "code",
   "execution_count": 25,
   "metadata": {},
   "outputs": [
    {
     "data": {
      "text/plain": [
       "hit (generic function with 1 method)"
      ]
     },
     "execution_count": 25,
     "metadata": {},
     "output_type": "execute_result"
    }
   ],
   "source": [
    "function hit(sphere::SphereM.Sphere, r, t_min, t_max, rec)\n",
    "    oc = r.origin - sphere.center\n",
    "    a = norm(r.direction)^2\n",
    "    half_b = dot(oc, r.direction)\n",
    "    c = norm(oc)^2 - sphere.radius * sphere.radius\n",
    "    discriminant = half_b * half_b - a * c\n",
    "    \n",
    "    if discriminant > 0\n",
    "        root = sqrt(discriminant)\n",
    "        temp = (-half_b - root) / a\n",
    "        if t_min < temp < t_max \n",
    "            rec.t = temp\n",
    "            rec.p = at(r, rec.t)\n",
    "            outward_normal = (rec.p - sphere.center) / sphere.radius\n",
    "            set_face_normal(rec, r, outward_normal)\n",
    "            return true\n",
    "        end\n",
    "        temp = (-half_b + root) / a\n",
    "        if t_min < temp < t_max\n",
    "            rec.t = temp\n",
    "            rec.p = at(r, rec.t)\n",
    "            outward_normal = (rec.p - sphere.center) / sphere.radius\n",
    "            set_face_normal(rec, r, outward_normal)\n",
    "            return true\n",
    "        end\n",
    "    end\n",
    "    false\n",
    "end"
   ]
  },
  {
   "cell_type": "code",
   "execution_count": 26,
   "metadata": {},
   "outputs": [
    {
     "data": {
      "text/plain": [
       "Main.HittableListM"
      ]
     },
     "execution_count": 26,
     "metadata": {},
     "output_type": "execute_result"
    }
   ],
   "source": [
    "module HittableListM\n",
    "struct HittableList <: Main.Hittable\n",
    "    objects\n",
    "end\n",
    "end"
   ]
  },
  {
   "cell_type": "code",
   "execution_count": 27,
   "metadata": {},
   "outputs": [
    {
     "data": {
      "text/plain": [
       "hit (generic function with 2 methods)"
      ]
     },
     "execution_count": 27,
     "metadata": {},
     "output_type": "execute_result"
    }
   ],
   "source": [
    "function hit(hittable_list::HittableListM.HittableList, r, t_min, t_max, rec)\n",
    "    temp_rec = HitRecordM.HitRecord()\n",
    "    hit_anything = false\n",
    "    closest_so_far = t_max\n",
    "    \n",
    "    for object in hittable_list.objects\n",
    "        if hit(object, r, t_min, closest_so_far, temp_rec)\n",
    "            hit_anything = true\n",
    "            closest_so_far = temp_rec.t\n",
    "            rec.p = temp_rec.p\n",
    "            rec.normal = temp_rec.normal\n",
    "            rec.t = temp_rec.t\n",
    "            rec.front_face = temp_rec.front_face\n",
    "        end\n",
    "    end\n",
    "    \n",
    "    hit_anything\n",
    "end"
   ]
  },
  {
   "cell_type": "code",
   "execution_count": 28,
   "metadata": {},
   "outputs": [
    {
     "data": {
      "text/plain": [
       "color (generic function with 3 methods)"
      ]
     },
     "execution_count": 28,
     "metadata": {},
     "output_type": "execute_result"
    }
   ],
   "source": [
    "function color(r::RayM.Ray, world::Hittable)\n",
    "    rec = HitRecordM.HitRecord()\n",
    "    if hit(world, r, 0, Inf, rec)\n",
    "        return 0.5 * (rec.normal .+ 1)\n",
    "    end\n",
    "    unit_direction = normalize(r.direction)\n",
    "    t = 0.5 * (y(unit_direction) + 1)\n",
    "    (1 - t) * [1, 1, 1] + t * [0.5, 0.7, 1]\n",
    "end"
   ]
  },
  {
   "cell_type": "code",
   "execution_count": 29,
   "metadata": {},
   "outputs": [
    {
     "data": {
      "text/plain": [
       "Main.HittableListM.HittableList(Main.SphereM.Sphere[Main.SphereM.Sphere([0, 0, -1], 0.5), Main.SphereM.Sphere([0.0, -100.5, -1.0], 100)])"
      ]
     },
     "execution_count": 29,
     "metadata": {},
     "output_type": "execute_result"
    }
   ],
   "source": [
    "world = HittableListM.HittableList([\n",
    "        SphereM.Sphere([0, 0, -1], 0.5), \n",
    "        SphereM.Sphere([0, -100.5, -1], 100)\n",
    "        ])"
   ]
  },
  {
   "cell_type": "code",
   "execution_count": 30,
   "metadata": {},
   "outputs": [
    {
     "data": {
      "text/plain": [
       "color (generic function with 3 methods)"
      ]
     },
     "execution_count": 30,
     "metadata": {},
     "output_type": "execute_result"
    }
   ],
   "source": [
    "function color(i, j) \n",
    "    u = i / image_width\n",
    "    v = j / image_height\n",
    "    r = RayM.Ray(origin, lower_left_corner + u * horizontal + v * vertical)\n",
    "    color(r, world)\n",
    "end"
   ]
  },
  {
   "cell_type": "code",
   "execution_count": 31,
   "metadata": {},
   "outputs": [
    {
     "name": "stderr",
     "output_type": "stream",
     "text": [
      "\u001b[32mProgress: 100%|█████████████████████████████████████████| Time: 0:00:00\u001b[39m\n"
     ]
    },
    {
     "data": {
      "image/png": "[encoded data removed]",
      "text/plain": [
       "100×200 Array{RGB{Float64},2} with eltype RGB{Float64}:\n",
       " RGB{Float64}(0.647254,0.788352,1.0)       …  RGB{Float64}(0.647938,0.788763,1.0)\n",
       " RGB{Float64}(0.648971,0.789382,1.0)          RGB{Float64}(0.649647,0.789788,1.0)\n",
       " RGB{Float64}(0.650704,0.790423,1.0)          RGB{Float64}(0.651374,0.790824,1.0)\n",
       " RGB{Float64}(0.652455,0.791473,1.0)          RGB{Float64}(0.653117,0.79187,1.0)\n",
       " RGB{Float64}(0.654223,0.792534,1.0)          RGB{Float64}(0.654877,0.792926,1.0)\n",
       " RGB{Float64}(0.656008,0.793605,1.0)       …  RGB{Float64}(0.656654,0.793993,1.0)\n",
       " RGB{Float64}(0.65781,0.794686,1.0)           RGB{Float64}(0.658448,0.795069,1.0)\n",
       " RGB{Float64}(0.659629,0.795777,1.0)          RGB{Float64}(0.660258,0.796155,1.0)\n",
       " RGB{Float64}(0.661464,0.796878,1.0)          RGB{Float64}(0.662084,0.79725,1.0)\n",
       " RGB{Float64}(0.663316,0.79799,1.0)           RGB{Float64}(0.663926,0.798356,1.0)\n",
       " RGB{Float64}(0.665184,0.79911,1.0)        …  RGB{Float64}(0.665785,0.799471,1.0)\n",
       " RGB{Float64}(0.667069,0.800241,1.0)          RGB{Float64}(0.667659,0.800596,1.0)\n",
       " RGB{Float64}(0.668969,0.801381,1.0)          RGB{Float64}(0.669549,0.80173,1.0)\n",
       " ⋮                                         ⋱  \n",
       " RGB{Float64}(0.493365,0.999953,0.501649)     RGB{Float64}(0.506704,0.999952,0.501648)\n",
       " RGB{Float64}(0.49354,0.999955,0.501738)      RGB{Float64}(0.506527,0.999954,0.501736)\n",
       " RGB{Float64}(0.493706,0.999957,0.501821)  …  RGB{Float64}(0.506359,0.999956,0.50182)\n",
       " RGB{Float64}(0.493864,0.999959,0.501901)     RGB{Float64}(0.5062,0.999958,0.5019)\n",
       " RGB{Float64}(0.494013,0.99996,0.501976)      RGB{Float64}(0.506049,0.99996,0.501976)\n",
       " RGB{Float64}(0.494156,0.999962,0.502048)     RGB{Float64}(0.505905,0.999961,0.502048)\n",
       " RGB{Float64}(0.494292,0.999963,0.502117)     RGB{Float64}(0.505768,0.999962,0.502116)\n",
       " RGB{Float64}(0.494421,0.999964,0.502182)  …  RGB{Float64}(0.505637,0.999963,0.502182)\n",
       " RGB{Float64}(0.494545,0.999965,0.502245)     RGB{Float64}(0.505512,0.999965,0.502244)\n",
       " RGB{Float64}(0.494663,0.999966,0.502304)     RGB{Float64}(0.505392,0.999966,0.502304)\n",
       " RGB{Float64}(0.494776,0.999967,0.502362)     RGB{Float64}(0.505278,0.999967,0.502361)\n",
       " RGB{Float64}(0.494884,0.999968,0.502416)     RGB{Float64}(0.505168,0.999967,0.502416)"
      ]
     },
     "execution_count": 31,
     "metadata": {},
     "output_type": "execute_result"
    }
   ],
   "source": [
    "render()"
   ]
  },
  {
   "cell_type": "markdown",
   "metadata": {},
   "source": [
    "## 7. Antialiasing"
   ]
  },
  {
   "cell_type": "code",
   "execution_count": 32,
   "metadata": {},
   "outputs": [
    {
     "data": {
      "text/plain": [
       "Main.CameraM"
      ]
     },
     "execution_count": 32,
     "metadata": {},
     "output_type": "execute_result"
    }
   ],
   "source": [
    "module CameraM\n",
    "struct Camera\n",
    "    origin\n",
    "    lower_left_corner\n",
    "    horizontal\n",
    "    vertical\n",
    "    \n",
    "    Camera() = new([0, 0, 0], [-2, -1, -1], [4, 0, 0], [0, 2, 0])\n",
    "end\n",
    "end"
   ]
  },
  {
   "cell_type": "code",
   "execution_count": 33,
   "metadata": {},
   "outputs": [
    {
     "data": {
      "text/plain": [
       "get_ray (generic function with 1 method)"
      ]
     },
     "execution_count": 33,
     "metadata": {},
     "output_type": "execute_result"
    }
   ],
   "source": [
    "get_ray(camera::CameraM.Camera, u, v) = RayM.Ray(camera.origin, camera.lower_left_corner + u * camera.horizontal + v * camera.vertical - camera.origin)"
   ]
  },
  {
   "cell_type": "code",
   "execution_count": 34,
   "metadata": {},
   "outputs": [],
   "source": [
    "samples_per_pixel = 100;"
   ]
  },
  {
   "cell_type": "code",
   "execution_count": 35,
   "metadata": {},
   "outputs": [
    {
     "data": {
      "text/plain": [
       "Main.CameraM.Camera([0, 0, 0], [-2, -1, -1], [4, 0, 0], [0, 2, 0])"
      ]
     },
     "execution_count": 35,
     "metadata": {},
     "output_type": "execute_result"
    }
   ],
   "source": [
    "cam = CameraM.Camera()"
   ]
  },
  {
   "cell_type": "code",
   "execution_count": 36,
   "metadata": {},
   "outputs": [
    {
     "data": {
      "text/plain": [
       "color (generic function with 4 methods)"
      ]
     },
     "execution_count": 36,
     "metadata": {},
     "output_type": "execute_result"
    }
   ],
   "source": [
    "function color(i, j, cam) \n",
    "    c = [0, 0, 0]\n",
    "    for _ in 1:samples_per_pixel\n",
    "        u = (i + rand()) / image_width\n",
    "        v = (j + rand()) / image_height\n",
    "        r = get_ray(cam, u, v)\n",
    "        c += color(r, world)\n",
    "    end\n",
    "    c / samples_per_pixel\n",
    "end"
   ]
  },
  {
   "cell_type": "code",
   "execution_count": 37,
   "metadata": {},
   "outputs": [
    {
     "name": "stderr",
     "output_type": "stream",
     "text": [
      "\u001b[32mProgress: 100%|█████████████████████████████████████████| Time: 0:00:00\u001b[39m\n"
     ]
    },
    {
     "data": {
      "image/png": "[encoded data removed]",
      "text/plain": [
       "100×200 Array{RGB{Float64},2} with eltype RGB{Float64}:\n",
       " RGB{Float64}(0.647254,0.788352,1.0)       …  RGB{Float64}(0.647938,0.788763,1.0)\n",
       " RGB{Float64}(0.648971,0.789382,1.0)          RGB{Float64}(0.649647,0.789788,1.0)\n",
       " RGB{Float64}(0.650704,0.790423,1.0)          RGB{Float64}(0.651374,0.790824,1.0)\n",
       " RGB{Float64}(0.652455,0.791473,1.0)          RGB{Float64}(0.653117,0.79187,1.0)\n",
       " RGB{Float64}(0.654223,0.792534,1.0)          RGB{Float64}(0.654877,0.792926,1.0)\n",
       " RGB{Float64}(0.656008,0.793605,1.0)       …  RGB{Float64}(0.656654,0.793993,1.0)\n",
       " RGB{Float64}(0.65781,0.794686,1.0)           RGB{Float64}(0.658448,0.795069,1.0)\n",
       " RGB{Float64}(0.659629,0.795777,1.0)          RGB{Float64}(0.660258,0.796155,1.0)\n",
       " RGB{Float64}(0.661464,0.796878,1.0)          RGB{Float64}(0.662084,0.79725,1.0)\n",
       " RGB{Float64}(0.663316,0.79799,1.0)           RGB{Float64}(0.663926,0.798356,1.0)\n",
       " RGB{Float64}(0.665184,0.79911,1.0)        …  RGB{Float64}(0.665785,0.799471,1.0)\n",
       " RGB{Float64}(0.667069,0.800241,1.0)          RGB{Float64}(0.667659,0.800596,1.0)\n",
       " RGB{Float64}(0.668969,0.801381,1.0)          RGB{Float64}(0.669549,0.80173,1.0)\n",
       " ⋮                                         ⋱  \n",
       " RGB{Float64}(0.493365,0.999953,0.501649)     RGB{Float64}(0.506704,0.999952,0.501648)\n",
       " RGB{Float64}(0.49354,0.999955,0.501738)      RGB{Float64}(0.506527,0.999954,0.501736)\n",
       " RGB{Float64}(0.493706,0.999957,0.501821)  …  RGB{Float64}(0.506359,0.999956,0.50182)\n",
       " RGB{Float64}(0.493864,0.999959,0.501901)     RGB{Float64}(0.5062,0.999958,0.5019)\n",
       " RGB{Float64}(0.494013,0.99996,0.501976)      RGB{Float64}(0.506049,0.99996,0.501976)\n",
       " RGB{Float64}(0.494156,0.999962,0.502048)     RGB{Float64}(0.505905,0.999961,0.502048)\n",
       " RGB{Float64}(0.494292,0.999963,0.502117)     RGB{Float64}(0.505768,0.999962,0.502116)\n",
       " RGB{Float64}(0.494421,0.999964,0.502182)  …  RGB{Float64}(0.505637,0.999963,0.502182)\n",
       " RGB{Float64}(0.494545,0.999965,0.502245)     RGB{Float64}(0.505512,0.999965,0.502244)\n",
       " RGB{Float64}(0.494663,0.999966,0.502304)     RGB{Float64}(0.505392,0.999966,0.502304)\n",
       " RGB{Float64}(0.494776,0.999967,0.502362)     RGB{Float64}(0.505278,0.999967,0.502361)\n",
       " RGB{Float64}(0.494884,0.999968,0.502416)     RGB{Float64}(0.505168,0.999967,0.502416)"
      ]
     },
     "execution_count": 37,
     "metadata": {},
     "output_type": "execute_result"
    }
   ],
   "source": [
    "render()"
   ]
  },
  {
   "cell_type": "markdown",
   "metadata": {},
   "source": [
    "## 8. Diffuse Materials"
   ]
  },
  {
   "cell_type": "code",
   "execution_count": 38,
   "metadata": {},
   "outputs": [
    {
     "data": {
      "text/plain": [
       "random_in_unit_sphere (generic function with 1 method)"
      ]
     },
     "execution_count": 38,
     "metadata": {},
     "output_type": "execute_result"
    }
   ],
   "source": [
    "function random_in_unit_sphere()\n",
    "    while true\n",
    "        p = rand(-1:eps():1, 3)\n",
    "        if norm(p)^2 > 1\n",
    "            continue\n",
    "        end\n",
    "        return p\n",
    "    end\n",
    "end"
   ]
  },
  {
   "cell_type": "code",
   "execution_count": 39,
   "metadata": {},
   "outputs": [
    {
     "data": {
      "text/plain": [
       "color (generic function with 5 methods)"
      ]
     },
     "execution_count": 39,
     "metadata": {},
     "output_type": "execute_result"
    }
   ],
   "source": [
    "function color(r::RayM.Ray, world::Hittable, depth)\n",
    "    rec = HitRecordM.HitRecord()\n",
    "    \n",
    "    if depth <= 0\n",
    "        return [0, 0, 0]\n",
    "    end\n",
    "    \n",
    "    if hit(world, r, 0, Inf, rec)\n",
    "        target = rec.p + rec.normal + random_in_unit_sphere()\n",
    "        return 0.5 * color(RayM.Ray(rec.p, target - rec.p), world, depth - 1)\n",
    "    end\n",
    "    unit_direction = normalize(r.direction)\n",
    "    t = 0.5 * (y(unit_direction) + 1)\n",
    "    (1 - t) * [1, 1, 1] + t * [0.5, 0.7, 1]\n",
    "end"
   ]
  },
  {
   "cell_type": "code",
   "execution_count": 40,
   "metadata": {},
   "outputs": [],
   "source": [
    "max_depth = 50;"
   ]
  },
  {
   "cell_type": "code",
   "execution_count": 41,
   "metadata": {},
   "outputs": [
    {
     "data": {
      "text/plain": [
       "color (generic function with 5 methods)"
      ]
     },
     "execution_count": 41,
     "metadata": {},
     "output_type": "execute_result"
    }
   ],
   "source": [
    "function color(i, j) \n",
    "    c = [0, 0, 0]\n",
    "    for _ in 1:samples_per_pixel\n",
    "        u = (i + rand()) / image_width\n",
    "        v = (j + rand()) / image_height\n",
    "        r = get_ray(cam, u, v)\n",
    "        c += color(r, world, max_depth)\n",
    "    end\n",
    "    c / samples_per_pixel\n",
    "end"
   ]
  },
  {
   "cell_type": "code",
   "execution_count": 42,
   "metadata": {},
   "outputs": [
    {
     "name": "stderr",
     "output_type": "stream",
     "text": [
      "\u001b[32mProgress: 100%|█████████████████████████████████████████| Time: 0:00:16\u001b[39m\n"
     ]
    },
    {
     "data": {
      "image/png": "[encoded data removed]",
      "text/plain": [
       "100×200 Array{RGB{Float64},2} with eltype RGB{Float64}:\n",
       " RGB{Float64}(0.646152,0.787691,1.0)       …  RGB{Float64}(0.647452,0.788471,1.0)\n",
       " RGB{Float64}(0.647776,0.788665,1.0)          RGB{Float64}(0.649136,0.789482,1.0)\n",
       " RGB{Float64}(0.649493,0.789696,1.0)          RGB{Float64}(0.650795,0.790477,1.0)\n",
       " RGB{Float64}(0.651141,0.790684,1.0)          RGB{Float64}(0.652661,0.791596,1.0)\n",
       " RGB{Float64}(0.653043,0.791826,1.0)          RGB{Float64}(0.65441,0.792646,1.0)\n",
       " RGB{Float64}(0.65476,0.792856,1.0)        …  RGB{Float64}(0.656039,0.793624,1.0)\n",
       " RGB{Float64}(0.656447,0.793868,1.0)          RGB{Float64}(0.657816,0.79469,1.0)\n",
       " RGB{Float64}(0.658328,0.794997,1.0)          RGB{Float64}(0.659662,0.795797,1.0)\n",
       " RGB{Float64}(0.660109,0.796066,1.0)          RGB{Float64}(0.661568,0.796941,1.0)\n",
       " RGB{Float64}(0.662073,0.797244,1.0)          RGB{Float64}(0.663272,0.797963,1.0)\n",
       " RGB{Float64}(0.663901,0.79834,1.0)        …  RGB{Float64}(0.665122,0.799073,1.0)\n",
       " RGB{Float64}(0.665739,0.799444,1.0)          RGB{Float64}(0.666989,0.800193,1.0)\n",
       " RGB{Float64}(0.667677,0.800606,1.0)          RGB{Float64}(0.668915,0.801349,1.0)\n",
       " ⋮                                         ⋱  \n",
       " RGB{Float64}(0.229784,0.303912,0.415103)     RGB{Float64}(0.20084,0.267145,0.366603)\n",
       " RGB{Float64}(0.223055,0.29624,0.406018)      RGB{Float64}(0.211072,0.280317,0.384184)\n",
       " RGB{Float64}(0.218595,0.291377,0.40055)   …  RGB{Float64}(0.21129,0.279522,0.38187)\n",
       " RGB{Float64}(0.205824,0.273037,0.373856)     RGB{Float64}(0.235163,0.312927,0.429572)\n",
       " RGB{Float64}(0.228684,0.302262,0.412629)     RGB{Float64}(0.222843,0.296508,0.407006)\n",
       " RGB{Float64}(0.20264,0.268381,0.366992)      RGB{Float64}(0.215058,0.287777,0.396856)\n",
       " RGB{Float64}(0.193854,0.256602,0.350725)     RGB{Float64}(0.216139,0.286148,0.391162)\n",
       " RGB{Float64}(0.20013,0.266695,0.366541)   …  RGB{Float64}(0.232979,0.310082,0.425737)\n",
       " RGB{Float64}(0.200195,0.264547,0.361076)     RGB{Float64}(0.208411,0.277568,0.381303)\n",
       " RGB{Float64}(0.208632,0.276991,0.37953)      RGB{Float64}(0.227158,0.301619,0.413311)\n",
       " RGB{Float64}(0.215769,0.285656,0.390488)     RGB{Float64}(0.22584,0.298729,0.408062)\n",
       " RGB{Float64}(0.207567,0.274923,0.375955)     RGB{Float64}(0.202416,0.270616,0.372915)"
      ]
     },
     "execution_count": 42,
     "metadata": {},
     "output_type": "execute_result"
    }
   ],
   "source": [
    "render()"
   ]
  },
  {
   "cell_type": "code",
   "execution_count": 43,
   "metadata": {},
   "outputs": [
    {
     "data": {
      "text/plain": [
       "color (generic function with 5 methods)"
      ]
     },
     "execution_count": 43,
     "metadata": {},
     "output_type": "execute_result"
    }
   ],
   "source": [
    "function color(i, j) \n",
    "    c = [0, 0, 0]\n",
    "    for _ in 1:samples_per_pixel\n",
    "        u = (i + rand()) / image_width\n",
    "        v = (j + rand()) / image_height\n",
    "        r = get_ray(cam, u, v)\n",
    "        c += color(r, world, max_depth)\n",
    "    end\n",
    "    sqrt.(c / samples_per_pixel)\n",
    "end"
   ]
  },
  {
   "cell_type": "code",
   "execution_count": 44,
   "metadata": {},
   "outputs": [
    {
     "name": "stderr",
     "output_type": "stream",
     "text": [
      "\u001b[32mProgress: 100%|█████████████████████████████████████████| Time: 0:00:16\u001b[39m\n"
     ]
    },
    {
     "data": {
      "image/png": "[encoded data removed]",
      "text/plain": [
       "100×200 Array{RGB{Float64},2} with eltype RGB{Float64}:\n",
       " RGB{Float64}(0.803767,0.887482,1.0)       …  RGB{Float64}(0.804631,0.887952,1.0)\n",
       " RGB{Float64}(0.804833,0.888062,1.0)          RGB{Float64}(0.80566,0.888511,1.0)\n",
       " RGB{Float64}(0.805936,0.888662,1.0)          RGB{Float64}(0.806699,0.889077,1.0)\n",
       " RGB{Float64}(0.80702,0.889252,1.0)           RGB{Float64}(0.80778,0.889665,1.0)\n",
       " RGB{Float64}(0.808133,0.889858,1.0)          RGB{Float64}(0.808875,0.890263,1.0)\n",
       " RGB{Float64}(0.80915,0.890412,1.0)        …  RGB{Float64}(0.809967,0.890858,1.0)\n",
       " RGB{Float64}(0.810264,0.89102,1.0)           RGB{Float64}(0.811125,0.89149,1.0)\n",
       " RGB{Float64}(0.811403,0.891642,1.0)          RGB{Float64}(0.81217,0.892061,1.0)\n",
       " RGB{Float64}(0.812524,0.892254,1.0)          RGB{Float64}(0.813307,0.892682,1.0)\n",
       " RGB{Float64}(0.813677,0.892884,1.0)          RGB{Float64}(0.814437,0.8933,1.0)\n",
       " RGB{Float64}(0.814815,0.893507,1.0)       …  RGB{Float64}(0.815551,0.893909,1.0)\n",
       " RGB{Float64}(0.815983,0.894146,1.0)          RGB{Float64}(0.81673,0.894555,1.0)\n",
       " RGB{Float64}(0.817132,0.894775,1.0)          RGB{Float64}(0.817873,0.895181,1.0)\n",
       " ⋮                                         ⋱  \n",
       " RGB{Float64}(0.462257,0.533487,0.625299)     RGB{Float64}(0.477897,0.550604,0.644465)\n",
       " RGB{Float64}(0.454248,0.524322,0.614632)     RGB{Float64}(0.466676,0.539657,0.633557)\n",
       " RGB{Float64}(0.467262,0.53807,0.629521)   …  RGB{Float64}(0.46424,0.533111,0.622285)\n",
       " RGB{Float64}(0.444006,0.51149,0.598619)      RGB{Float64}(0.458018,0.528391,0.61913)\n",
       " RGB{Float64}(0.466678,0.536914,0.627702)     RGB{Float64}(0.471354,0.544306,0.638287)\n",
       " RGB{Float64}(0.473425,0.544758,0.63695)      RGB{Float64}(0.464818,0.536045,0.627916)\n",
       " RGB{Float64}(0.455952,0.524888,0.613946)     RGB{Float64}(0.463764,0.533562,0.623782)\n",
       " RGB{Float64}(0.451094,0.519493,0.607827)  …  RGB{Float64}(0.465122,0.537477,0.630631)\n",
       " RGB{Float64}(0.475288,0.549213,0.644391)     RGB{Float64}(0.450192,0.519497,0.608839)\n",
       " RGB{Float64}(0.475157,0.546634,0.63903)      RGB{Float64}(0.45503,0.524728,0.614629)\n",
       " RGB{Float64}(0.478228,0.551287,0.645553)     RGB{Float64}(0.464592,0.536074,0.628227)\n",
       " RGB{Float64}(0.471245,0.544092,0.637952)     RGB{Float64}(0.435069,0.501142,0.586456)"
      ]
     },
     "execution_count": 44,
     "metadata": {},
     "output_type": "execute_result"
    }
   ],
   "source": [
    "render()"
   ]
  },
  {
   "cell_type": "code",
   "execution_count": 45,
   "metadata": {},
   "outputs": [
    {
     "data": {
      "text/plain": [
       "random_unit_vector (generic function with 1 method)"
      ]
     },
     "execution_count": 45,
     "metadata": {},
     "output_type": "execute_result"
    }
   ],
   "source": [
    "function random_unit_vector()\n",
    "    a = rand(0:eps():2pi)\n",
    "    z = rand(-1:eps():1)\n",
    "    r = sqrt(1 - z * z)\n",
    "    [r*cos(a), r*sin(a), z]\n",
    "end"
   ]
  },
  {
   "cell_type": "code",
   "execution_count": 46,
   "metadata": {},
   "outputs": [
    {
     "data": {
      "text/plain": [
       "color (generic function with 5 methods)"
      ]
     },
     "execution_count": 46,
     "metadata": {},
     "output_type": "execute_result"
    }
   ],
   "source": [
    "function color(r::RayM.Ray, world::Hittable, depth)\n",
    "    rec = HitRecordM.HitRecord()\n",
    "    \n",
    "    if depth <= 0\n",
    "        return [0, 0, 0]\n",
    "    end\n",
    "    \n",
    "    if hit(world, r, 0.001, Inf, rec)\n",
    "        target = rec.p + rec.normal + random_unit_vector()\n",
    "        return 0.5 * color(RayM.Ray(rec.p, target - rec.p), world, depth - 1)\n",
    "    end\n",
    "    unit_direction = normalize(r.direction)\n",
    "    t = 0.5 * (y(unit_direction) + 1)\n",
    "    (1 - t) * [1, 1, 1] + t * [0.5, 0.7, 1]\n",
    "end"
   ]
  },
  {
   "cell_type": "code",
   "execution_count": 47,
   "metadata": {},
   "outputs": [
    {
     "name": "stderr",
     "output_type": "stream",
     "text": [
      "\u001b[32mProgress: 100%|█████████████████████████████████████████| Time: 0:00:09\u001b[39m\n"
     ]
    },
    {
     "data": {
      "image/png": "[encoded data removed]",
      "text/plain": [
       "100×200 Array{RGB{Float64},2} with eltype RGB{Float64}:\n",
       " RGB{Float64}(0.80375,0.887473,1.0)        …  RGB{Float64}(0.804707,0.887993,1.0)\n",
       " RGB{Float64}(0.804827,0.888058,1.0)          RGB{Float64}(0.805697,0.888532,1.0)\n",
       " RGB{Float64}(0.805899,0.888641,1.0)          RGB{Float64}(0.806718,0.889087,1.0)\n",
       " RGB{Float64}(0.807011,0.889247,1.0)          RGB{Float64}(0.807789,0.889671,1.0)\n",
       " RGB{Float64}(0.808042,0.889808,1.0)          RGB{Float64}(0.808947,0.890302,1.0)\n",
       " RGB{Float64}(0.809132,0.890403,1.0)       …  RGB{Float64}(0.810041,0.890898,1.0)\n",
       " RGB{Float64}(0.81027,0.891023,1.0)           RGB{Float64}(0.811115,0.891485,1.0)\n",
       " RGB{Float64}(0.811467,0.891677,1.0)          RGB{Float64}(0.812237,0.892097,1.0)\n",
       " RGB{Float64}(0.812523,0.892254,1.0)          RGB{Float64}(0.813337,0.892698,1.0)\n",
       " RGB{Float64}(0.813744,0.892921,1.0)          RGB{Float64}(0.814457,0.893311,1.0)\n",
       " RGB{Float64}(0.814854,0.893528,1.0)       …  RGB{Float64}(0.815628,0.893952,1.0)\n",
       " RGB{Float64}(0.815964,0.894135,1.0)          RGB{Float64}(0.816685,0.894531,1.0)\n",
       " RGB{Float64}(0.817117,0.894767,1.0)          RGB{Float64}(0.817903,0.895198,1.0)\n",
       " ⋮                                         ⋱  \n",
       " RGB{Float64}(0.528121,0.598203,0.690109)     RGB{Float64}(0.539638,0.611331,0.705337)\n",
       " RGB{Float64}(0.532642,0.603924,0.697316)     RGB{Float64}(0.531046,0.604736,0.700892)\n",
       " RGB{Float64}(0.52903,0.603675,0.700892)   …  RGB{Float64}(0.535179,0.604545,0.695746)\n",
       " RGB{Float64}(0.529109,0.602084,0.697372)     RGB{Float64}(0.529546,0.597712,0.687401)\n",
       " RGB{Float64}(0.53299,0.602139,0.693046)      RGB{Float64}(0.531515,0.60457,0.7)\n",
       " RGB{Float64}(0.528273,0.598702,0.691014)     RGB{Float64}(0.535666,0.606764,0.7)\n",
       " RGB{Float64}(0.532045,0.605779,0.702006)     RGB{Float64}(0.531326,0.603228,0.697316)\n",
       " RGB{Float64}(0.531711,0.604673,0.7)       …  RGB{Float64}(0.532406,0.606278,0.702673)\n",
       " RGB{Float64}(0.526385,0.597415,0.690392)     RGB{Float64}(0.532188,0.605751,0.701783)\n",
       " RGB{Float64}(0.525487,0.595972,0.688295)     RGB{Float64}(0.531096,0.603935,0.699107)\n",
       " RGB{Float64}(0.535253,0.604507,0.695578)     RGB{Float64}(0.532693,0.602397,0.693947)\n",
       " RGB{Float64}(0.532089,0.599997,0.689429)     RGB{Float64}(0.524606,0.59477,0.686704)"
      ]
     },
     "execution_count": 47,
     "metadata": {},
     "output_type": "execute_result"
    }
   ],
   "source": [
    "render()"
   ]
  },
  {
   "cell_type": "code",
   "execution_count": 48,
   "metadata": {},
   "outputs": [
    {
     "data": {
      "text/plain": [
       "random_in_hemisphere (generic function with 1 method)"
      ]
     },
     "execution_count": 48,
     "metadata": {},
     "output_type": "execute_result"
    }
   ],
   "source": [
    "function random_in_hemisphere(normal)\n",
    "    in_unit_sphere = random_in_unit_sphere()\n",
    "    if dot(in_unit_sphere, normal) > 0\n",
    "        in_unit_sphere\n",
    "    else\n",
    "        -in_unit_sphere\n",
    "    end\n",
    "end"
   ]
  },
  {
   "cell_type": "code",
   "execution_count": 49,
   "metadata": {},
   "outputs": [
    {
     "data": {
      "text/plain": [
       "color (generic function with 5 methods)"
      ]
     },
     "execution_count": 49,
     "metadata": {},
     "output_type": "execute_result"
    }
   ],
   "source": [
    "function color(r::RayM.Ray, world::Hittable, depth)\n",
    "    rec = HitRecordM.HitRecord()\n",
    "    \n",
    "    if depth <= 0\n",
    "        return [0, 0, 0]\n",
    "    end\n",
    "    \n",
    "    if hit(world, r, 0.001, Inf, rec)\n",
    "        target = rec.p + random_in_hemisphere(rec.normal)\n",
    "        return 0.5 * color(RayM.Ray(rec.p, target - rec.p), world, depth - 1)\n",
    "    end\n",
    "    unit_direction = normalize(r.direction)\n",
    "    t = 0.5 * (y(unit_direction) + 1)\n",
    "    (1 - t) * [1, 1, 1] + t * [0.5, 0.7, 1]\n",
    "end"
   ]
  },
  {
   "cell_type": "code",
   "execution_count": 50,
   "metadata": {},
   "outputs": [
    {
     "name": "stderr",
     "output_type": "stream",
     "text": [
      "\u001b[32mProgress: 100%|█████████████████████████████████████████| Time: 0:00:09\u001b[39m\n"
     ]
    },
    {
     "data": {
      "image/png": "[encoded data removed]",
      "text/plain": [
       "100×200 Array{RGB{Float64},2} with eltype RGB{Float64}:\n",
       " RGB{Float64}(0.803757,0.887477,1.0)       …  RGB{Float64}(0.804604,0.887937,1.0)\n",
       " RGB{Float64}(0.804791,0.888039,1.0)          RGB{Float64}(0.80571,0.888539,1.0)\n",
       " RGB{Float64}(0.805874,0.888628,1.0)          RGB{Float64}(0.806696,0.889075,1.0)\n",
       " RGB{Float64}(0.806954,0.889216,1.0)          RGB{Float64}(0.807859,0.889709,1.0)\n",
       " RGB{Float64}(0.808068,0.889823,1.0)          RGB{Float64}(0.808919,0.890286,1.0)\n",
       " RGB{Float64}(0.809248,0.890466,1.0)       …  RGB{Float64}(0.809998,0.890875,1.0)\n",
       " RGB{Float64}(0.810284,0.891031,1.0)          RGB{Float64}(0.811076,0.891463,1.0)\n",
       " RGB{Float64}(0.811435,0.891659,1.0)          RGB{Float64}(0.812228,0.892092,1.0)\n",
       " RGB{Float64}(0.812565,0.892277,1.0)          RGB{Float64}(0.813327,0.892693,1.0)\n",
       " RGB{Float64}(0.813714,0.892904,1.0)          RGB{Float64}(0.814408,0.893284,1.0)\n",
       " RGB{Float64}(0.814736,0.893463,1.0)       …  RGB{Float64}(0.815561,0.893915,1.0)\n",
       " RGB{Float64}(0.815972,0.89414,1.0)           RGB{Float64}(0.816741,0.894561,1.0)\n",
       " RGB{Float64}(0.817162,0.894791,1.0)          RGB{Float64}(0.81779,0.895136,1.0)\n",
       " ⋮                                         ⋱  \n",
       " RGB{Float64}(0.544433,0.60879,0.694228)      RGB{Float64}(0.548633,0.614084,0.700892)\n",
       " RGB{Float64}(0.546144,0.603812,0.681221)     RGB{Float64}(0.55413,0.617848,0.702673)\n",
       " RGB{Float64}(0.550146,0.612043,0.694622)  …  RGB{Float64}(0.551634,0.614577,0.698436)\n",
       " RGB{Float64}(0.546882,0.609465,0.69282)      RGB{Float64}(0.551763,0.612609,0.693947)\n",
       " RGB{Float64}(0.55516,0.617796,0.701338)      RGB{Float64}(0.540146,0.601917,0.684197)\n",
       " RGB{Float64}(0.550567,0.614314,0.699121)     RGB{Float64}(0.53889,0.600826,0.683283)\n",
       " RGB{Float64}(0.551446,0.611532,0.691946)     RGB{Float64}(0.54195,0.604959,0.688749)\n",
       " RGB{Float64}(0.544565,0.606161,0.688295)  …  RGB{Float64}(0.543804,0.606781,0.690561)\n",
       " RGB{Float64}(0.548129,0.60983,0.692143)      RGB{Float64}(0.53708,0.600061,0.68374)\n",
       " RGB{Float64}(0.549338,0.612424,0.696419)     RGB{Float64}(0.542604,0.603942,0.685736)\n",
       " RGB{Float64}(0.533459,0.593846,0.674363)     RGB{Float64}(0.53744,0.600749,0.684824)\n",
       " RGB{Float64}(0.538009,0.600898,0.684482)     RGB{Float64}(0.539861,0.602907,0.686708)"
      ]
     },
     "execution_count": 50,
     "metadata": {},
     "output_type": "execute_result"
    }
   ],
   "source": [
    "render()"
   ]
  },
  {
   "cell_type": "markdown",
   "metadata": {},
   "source": [
    "## 9. Metal"
   ]
  },
  {
   "cell_type": "code",
   "execution_count": 51,
   "metadata": {},
   "outputs": [],
   "source": [
    "abstract type Material end"
   ]
  },
  {
   "cell_type": "code",
   "execution_count": 52,
   "metadata": {},
   "outputs": [
    {
     "name": "stderr",
     "output_type": "stream",
     "text": [
      "WARNING: replacing module HitRecordM.\n"
     ]
    },
    {
     "data": {
      "text/plain": [
       "Main.HitRecordM"
      ]
     },
     "execution_count": 52,
     "metadata": {},
     "output_type": "execute_result"
    }
   ],
   "source": [
    "module HitRecordM\n",
    "mutable struct HitRecord\n",
    "    p\n",
    "    normal\n",
    "    mat\n",
    "    t\n",
    "    front_face\n",
    "    \n",
    "    HitRecord() = new([0, 0, 0], [0, 0, 0], nothing, 0, false)\n",
    "end\n",
    "end"
   ]
  },
  {
   "cell_type": "code",
   "execution_count": 53,
   "metadata": {},
   "outputs": [
    {
     "data": {
      "text/plain": [
       "set_face_normal (generic function with 2 methods)"
      ]
     },
     "execution_count": 53,
     "metadata": {},
     "output_type": "execute_result"
    }
   ],
   "source": [
    "function set_face_normal(rec::HitRecordM.HitRecord, r, outward_normal)\n",
    "    rec.front_face = dot(r.direction, outward_normal) < 0\n",
    "    rec.normal = if rec.front_face\n",
    "        outward_normal \n",
    "    else\n",
    "        -outward_normal\n",
    "    end\n",
    "end"
   ]
  },
  {
   "cell_type": "code",
   "execution_count": 54,
   "metadata": {},
   "outputs": [
    {
     "name": "stderr",
     "output_type": "stream",
     "text": [
      "WARNING: replacing module SphereM.\n"
     ]
    },
    {
     "data": {
      "text/plain": [
       "Main.SphereM"
      ]
     },
     "execution_count": 54,
     "metadata": {},
     "output_type": "execute_result"
    }
   ],
   "source": [
    "module SphereM\n",
    "struct Sphere <: Main.Hittable\n",
    "    center\n",
    "    radius\n",
    "    mat\n",
    "end\n",
    "end"
   ]
  },
  {
   "cell_type": "code",
   "execution_count": 55,
   "metadata": {},
   "outputs": [
    {
     "data": {
      "text/plain": [
       "hit (generic function with 3 methods)"
      ]
     },
     "execution_count": 55,
     "metadata": {},
     "output_type": "execute_result"
    }
   ],
   "source": [
    "function hit(sphere::SphereM.Sphere, r, t_min, t_max, rec)\n",
    "    oc = r.origin - sphere.center\n",
    "    a = norm(r.direction)^2\n",
    "    half_b = dot(oc, r.direction)\n",
    "    c = norm(oc)^2 - sphere.radius * sphere.radius\n",
    "    discriminant = half_b * half_b - a * c\n",
    "    \n",
    "    if discriminant > 0\n",
    "        root = sqrt(discriminant)\n",
    "        temp = (-half_b - root) / a\n",
    "        if t_min < temp < t_max \n",
    "            rec.t = temp\n",
    "            rec.p = at(r, rec.t)\n",
    "            outward_normal = (rec.p - sphere.center) / sphere.radius\n",
    "            set_face_normal(rec, r, outward_normal)\n",
    "            rec.mat = sphere.mat\n",
    "            return true\n",
    "        end\n",
    "        temp = (-half_b + root) / a\n",
    "        if t_min < temp < t_max\n",
    "            rec.t = temp\n",
    "            rec.p = at(r, rec.t)\n",
    "            outward_normal = (rec.p - sphere.center) / sphere.radius\n",
    "            set_face_normal(rec, r, outward_normal)\n",
    "            rec.mat = sphere.mat\n",
    "            return true\n",
    "        end\n",
    "    end\n",
    "    false\n",
    "end"
   ]
  },
  {
   "cell_type": "code",
   "execution_count": 56,
   "metadata": {},
   "outputs": [
    {
     "data": {
      "text/plain": [
       "Main.LambertianM"
      ]
     },
     "execution_count": 56,
     "metadata": {},
     "output_type": "execute_result"
    }
   ],
   "source": [
    "module LambertianM\n",
    "struct Lambertian <: Main.Material\n",
    "    albedo\n",
    "end\n",
    "end"
   ]
  },
  {
   "cell_type": "code",
   "execution_count": 57,
   "metadata": {},
   "outputs": [
    {
     "data": {
      "text/plain": [
       "scatter (generic function with 1 method)"
      ]
     },
     "execution_count": 57,
     "metadata": {},
     "output_type": "execute_result"
    }
   ],
   "source": [
    "function scatter(lambertian::LambertianM.Lambertian, r_in, rec)\n",
    "    scatter_direction = rec.normal + random_unit_vector()\n",
    "    scattered = RayM.Ray(rec.p, scatter_direction)\n",
    "    attenuation = lambertian.albedo\n",
    "    true, attenuation, scattered\n",
    "end"
   ]
  },
  {
   "cell_type": "code",
   "execution_count": 58,
   "metadata": {},
   "outputs": [
    {
     "data": {
      "text/plain": [
       "reflect (generic function with 1 method)"
      ]
     },
     "execution_count": 58,
     "metadata": {},
     "output_type": "execute_result"
    }
   ],
   "source": [
    "reflect(v, n) = v - 2 * dot(v, n) * n"
   ]
  },
  {
   "cell_type": "code",
   "execution_count": 59,
   "metadata": {},
   "outputs": [
    {
     "data": {
      "text/plain": [
       "Main.MetalM"
      ]
     },
     "execution_count": 59,
     "metadata": {},
     "output_type": "execute_result"
    }
   ],
   "source": [
    "module MetalM\n",
    "struct Metal <: Main.Material\n",
    "    albedo\n",
    "end\n",
    "end"
   ]
  },
  {
   "cell_type": "code",
   "execution_count": 60,
   "metadata": {},
   "outputs": [
    {
     "data": {
      "text/plain": [
       "scatter (generic function with 2 methods)"
      ]
     },
     "execution_count": 60,
     "metadata": {},
     "output_type": "execute_result"
    }
   ],
   "source": [
    "function scatter(metal::MetalM.Metal, r_in, rec)\n",
    "    reflected = reflect(normalize(r_in.direction), rec.normal)\n",
    "    scattered = RayM.Ray(rec.p, reflected)\n",
    "    attenuation = metal.albedo\n",
    "    dot(scattered.direction, rec.normal) > 0, attenuation, scattered\n",
    "end"
   ]
  },
  {
   "cell_type": "code",
   "execution_count": 61,
   "metadata": {},
   "outputs": [
    {
     "data": {
      "text/plain": [
       "hit (generic function with 3 methods)"
      ]
     },
     "execution_count": 61,
     "metadata": {},
     "output_type": "execute_result"
    }
   ],
   "source": [
    "function hit(hittable_list::HittableListM.HittableList, r, t_min, t_max, rec)\n",
    "    temp_rec = HitRecordM.HitRecord()\n",
    "    hit_anything = false\n",
    "    closest_so_far = t_max\n",
    "    \n",
    "    for object in hittable_list.objects\n",
    "        if hit(object, r, t_min, closest_so_far, temp_rec)\n",
    "            hit_anything = true\n",
    "            closest_so_far = temp_rec.t\n",
    "            rec.p = temp_rec.p\n",
    "            rec.normal = temp_rec.normal\n",
    "            rec.t = temp_rec.t\n",
    "            rec.front_face = temp_rec.front_face\n",
    "            rec.mat = temp_rec.mat\n",
    "        end\n",
    "    end\n",
    "    \n",
    "    hit_anything\n",
    "end"
   ]
  },
  {
   "cell_type": "code",
   "execution_count": 62,
   "metadata": {},
   "outputs": [
    {
     "data": {
      "text/plain": [
       "color (generic function with 5 methods)"
      ]
     },
     "execution_count": 62,
     "metadata": {},
     "output_type": "execute_result"
    }
   ],
   "source": [
    "function color(r::RayM.Ray, world::Hittable, depth)\n",
    "    rec = HitRecordM.HitRecord()\n",
    "    \n",
    "    if depth <= 0\n",
    "        return [0, 0, 0]\n",
    "    end\n",
    "    \n",
    "    if hit(world, r, 0.001, Inf, rec)\n",
    "        result, attenuation, scattered = scatter(rec.mat, r, rec)\n",
    "        if result \n",
    "            return attenuation .* color(scattered, world, depth - 1)\n",
    "        end\n",
    "        return [0, 0, 0]\n",
    "    end\n",
    "    unit_direction = normalize(r.direction)\n",
    "    t = 0.5 * (y(unit_direction) + 1)\n",
    "    (1 - t) * [1, 1, 1] + t * [0.5, 0.7, 1]\n",
    "end"
   ]
  },
  {
   "cell_type": "code",
   "execution_count": 63,
   "metadata": {},
   "outputs": [
    {
     "data": {
      "text/plain": [
       "Main.HittableListM.HittableList(Main.SphereM.Sphere[Main.SphereM.Sphere([0, 0, -1], 0.5, Main.LambertianM.Lambertian([0.7, 0.3, 0.3])), Main.SphereM.Sphere([0.0, -100.5, -1.0], 100, Main.LambertianM.Lambertian([0.8, 0.8, 0.0])), Main.SphereM.Sphere([1, 0, -1], 0.5, Main.MetalM.Metal([0.8, 0.6, 0.2])), Main.SphereM.Sphere([-1, 0, -1], 0.5, Main.MetalM.Metal([0.8, 0.8, 0.8]))])"
      ]
     },
     "execution_count": 63,
     "metadata": {},
     "output_type": "execute_result"
    }
   ],
   "source": [
    "world = HittableListM.HittableList([\n",
    "        SphereM.Sphere([0, 0, -1], 0.5, LambertianM.Lambertian([0.7, 0.3, 0.3])),\n",
    "        SphereM.Sphere([0, -100.5, -1], 100, LambertianM.Lambertian([0.8, 0.8, 0])),\n",
    "        SphereM.Sphere([1, 0, -1], 0.5, MetalM.Metal([0.8, 0.6, 0.2])),\n",
    "        SphereM.Sphere([-1, 0, -1], 0.5, MetalM.Metal([0.8, 0.8, 0.8]))\n",
    "        ])"
   ]
  },
  {
   "cell_type": "code",
   "execution_count": 64,
   "metadata": {},
   "outputs": [
    {
     "name": "stderr",
     "output_type": "stream",
     "text": [
      "\u001b[32mProgress: 100%|█████████████████████████████████████████| Time: 0:00:19\u001b[39m\n"
     ]
    },
    {
     "data": {
      "image/png": "[encoded data removed]",
      "text/plain": [
       "100×200 Array{RGB{Float64},2} with eltype RGB{Float64}:\n",
       " RGB{Float64}(0.803769,0.887484,1.0)  …  RGB{Float64}(0.804608,0.887939,1.0)\n",
       " RGB{Float64}(0.804798,0.888043,1.0)     RGB{Float64}(0.805646,0.888504,1.0)\n",
       " RGB{Float64}(0.80591,0.888648,1.0)      RGB{Float64}(0.806802,0.889133,1.0)\n",
       " RGB{Float64}(0.807044,0.889265,1.0)     RGB{Float64}(0.807839,0.889698,1.0)\n",
       " RGB{Float64}(0.808087,0.889833,1.0)     RGB{Float64}(0.808944,0.8903,1.0)\n",
       " RGB{Float64}(0.80918,0.890429,1.0)   …  RGB{Float64}(0.809988,0.89087,1.0)\n",
       " RGB{Float64}(0.810255,0.891015,1.0)     RGB{Float64}(0.811069,0.891459,1.0)\n",
       " RGB{Float64}(0.811402,0.891641,1.0)     RGB{Float64}(0.812251,0.892105,1.0)\n",
       " RGB{Float64}(0.812502,0.892242,1.0)     RGB{Float64}(0.813378,0.892721,1.0)\n",
       " RGB{Float64}(0.81369,0.892891,1.0)      RGB{Float64}(0.814482,0.893325,1.0)\n",
       " RGB{Float64}(0.814854,0.893528,1.0)  …  RGB{Float64}(0.815573,0.893921,1.0)\n",
       " RGB{Float64}(0.816024,0.894168,1.0)     RGB{Float64}(0.81667,0.894522,1.0)\n",
       " RGB{Float64}(0.817094,0.894754,1.0)     RGB{Float64}(0.817878,0.895184,1.0)\n",
       " ⋮                                    ⋱  \n",
       " RGB{Float64}(0.659127,0.737432,0.0)     RGB{Float64}(0.663596,0.720721,0.0)\n",
       " RGB{Float64}(0.640944,0.716925,0.0)     RGB{Float64}(0.641268,0.681601,0.0)\n",
       " RGB{Float64}(0.641894,0.719841,0.0)  …  RGB{Float64}(0.641184,0.689017,0.0)\n",
       " RGB{Float64}(0.643722,0.719276,0.0)     RGB{Float64}(0.63288,0.682137,0.0)\n",
       " RGB{Float64}(0.633024,0.713246,0.0)     RGB{Float64}(0.638528,0.685737,0.0)\n",
       " RGB{Float64}(0.627596,0.70351,0.0)      RGB{Float64}(0.639595,0.683779,0.0)\n",
       " RGB{Float64}(0.632062,0.712575,0.0)     RGB{Float64}(0.657858,0.705793,0.0)\n",
       " RGB{Float64}(0.644102,0.719472,0.0)  …  RGB{Float64}(0.642,0.689168,0.0)\n",
       " RGB{Float64}(0.64394,0.720182,0.0)      RGB{Float64}(0.636637,0.681544,0.0)\n",
       " RGB{Float64}(0.636812,0.711713,0.0)     RGB{Float64}(0.647496,0.699333,0.0)\n",
       " RGB{Float64}(0.629431,0.701403,0.0)     RGB{Float64}(0.630997,0.674323,0.0)\n",
       " RGB{Float64}(0.64916,0.724164,0.0)      RGB{Float64}(0.644107,0.690909,0.0)"
      ]
     },
     "execution_count": 64,
     "metadata": {},
     "output_type": "execute_result"
    }
   ],
   "source": [
    "render()"
   ]
  },
  {
   "cell_type": "code",
   "execution_count": 65,
   "metadata": {},
   "outputs": [
    {
     "name": "stderr",
     "output_type": "stream",
     "text": [
      "WARNING: replacing module MetalM.\n"
     ]
    },
    {
     "data": {
      "text/plain": [
       "Main.MetalM"
      ]
     },
     "execution_count": 65,
     "metadata": {},
     "output_type": "execute_result"
    }
   ],
   "source": [
    "module MetalM\n",
    "struct Metal <: Main.Material\n",
    "    albedo\n",
    "    fuzz\n",
    "    \n",
    "    Metal(albedo, fuzz) = new(albedo, fuzz < 1 ? fuzz : 1)\n",
    "end\n",
    "end"
   ]
  },
  {
   "cell_type": "code",
   "execution_count": 66,
   "metadata": {},
   "outputs": [
    {
     "data": {
      "text/plain": [
       "scatter (generic function with 3 methods)"
      ]
     },
     "execution_count": 66,
     "metadata": {},
     "output_type": "execute_result"
    }
   ],
   "source": [
    "function scatter(metal::MetalM.Metal, r_in, rec)\n",
    "    reflected = reflect(normalize(r_in.direction), rec.normal)\n",
    "    scattered = RayM.Ray(rec.p, reflected + metal.fuzz * random_in_unit_sphere())\n",
    "    attenuation = metal.albedo\n",
    "    dot(scattered.direction, rec.normal) > 0, attenuation, scattered\n",
    "end"
   ]
  },
  {
   "cell_type": "code",
   "execution_count": 67,
   "metadata": {},
   "outputs": [
    {
     "data": {
      "text/plain": [
       "Main.HittableListM.HittableList(Main.SphereM.Sphere[Main.SphereM.Sphere([0, 0, -1], 0.5, Main.LambertianM.Lambertian([0.7, 0.3, 0.3])), Main.SphereM.Sphere([0.0, -100.5, -1.0], 100, Main.LambertianM.Lambertian([0.8, 0.8, 0.0])), Main.SphereM.Sphere([1, 0, -1], 0.5, Main.MetalM.Metal([0.8, 0.6, 0.2], 0.3)), Main.SphereM.Sphere([-1, 0, -1], 0.5, Main.MetalM.Metal([0.8, 0.8, 0.8], 1))])"
      ]
     },
     "execution_count": 67,
     "metadata": {},
     "output_type": "execute_result"
    }
   ],
   "source": [
    "world = HittableListM.HittableList([\n",
    "        SphereM.Sphere([0, 0, -1], 0.5, LambertianM.Lambertian([0.7, 0.3, 0.3])),\n",
    "        SphereM.Sphere([0, -100.5, -1], 100, LambertianM.Lambertian([0.8, 0.8, 0])),\n",
    "        SphereM.Sphere([1, 0, -1], 0.5, MetalM.Metal([0.8, 0.6, 0.2], 0.3)),\n",
    "        SphereM.Sphere([-1, 0, -1], 0.5, MetalM.Metal([0.8, 0.8, 0.8], 1))\n",
    "        ])"
   ]
  },
  {
   "cell_type": "code",
   "execution_count": 68,
   "metadata": {},
   "outputs": [
    {
     "name": "stderr",
     "output_type": "stream",
     "text": [
      "\u001b[32mProgress: 100%|█████████████████████████████████████████| Time: 0:00:18\u001b[39m\n"
     ]
    },
    {
     "data": {
      "image/png": "[encoded data removed]",
      "text/plain": [
       "100×200 Array{RGB{Float64},2} with eltype RGB{Float64}:\n",
       " RGB{Float64}(0.803717,0.887455,1.0)  …  RGB{Float64}(0.804673,0.887975,1.0)\n",
       " RGB{Float64}(0.804809,0.888049,1.0)     RGB{Float64}(0.805703,0.888535,1.0)\n",
       " RGB{Float64}(0.80598,0.888686,1.0)      RGB{Float64}(0.806706,0.889081,1.0)\n",
       " RGB{Float64}(0.806949,0.889213,1.0)     RGB{Float64}(0.80777,0.88966,1.0)\n",
       " RGB{Float64}(0.808103,0.889842,1.0)     RGB{Float64}(0.808864,0.890256,1.0)\n",
       " RGB{Float64}(0.809173,0.890425,1.0)  …  RGB{Float64}(0.809971,0.89086,1.0)\n",
       " RGB{Float64}(0.810341,0.891062,1.0)     RGB{Float64}(0.811106,0.89148,1.0)\n",
       " RGB{Float64}(0.811401,0.891641,1.0)     RGB{Float64}(0.812239,0.892098,1.0)\n",
       " RGB{Float64}(0.812541,0.892263,1.0)     RGB{Float64}(0.813339,0.892699,1.0)\n",
       " RGB{Float64}(0.813677,0.892884,1.0)     RGB{Float64}(0.814415,0.893288,1.0)\n",
       " RGB{Float64}(0.81489,0.893548,1.0)   …  RGB{Float64}(0.815592,0.893932,1.0)\n",
       " RGB{Float64}(0.815887,0.894093,1.0)     RGB{Float64}(0.816736,0.894558,1.0)\n",
       " RGB{Float64}(0.817138,0.894778,1.0)     RGB{Float64}(0.817872,0.895181,1.0)\n",
       " ⋮                                    ⋱  \n",
       " RGB{Float64}(0.635653,0.709953,0.0)     RGB{Float64}(0.653735,0.711622,0.0)\n",
       " RGB{Float64}(0.625524,0.70095,0.0)      RGB{Float64}(0.654968,0.710895,0.0)\n",
       " RGB{Float64}(0.604467,0.675104,0.0)  …  RGB{Float64}(0.636396,0.68943,0.0)\n",
       " RGB{Float64}(0.634873,0.710983,0.0)     RGB{Float64}(0.641875,0.690394,0.0)\n",
       " RGB{Float64}(0.615687,0.69361,0.0)      RGB{Float64}(0.636868,0.677738,0.0)\n",
       " RGB{Float64}(0.629768,0.708141,0.0)     RGB{Float64}(0.648101,0.705617,0.0)\n",
       " RGB{Float64}(0.623917,0.69621,0.0)      RGB{Float64}(0.631222,0.672353,0.0)\n",
       " RGB{Float64}(0.6423,0.722031,0.0)    …  RGB{Float64}(0.646419,0.689774,0.0)\n",
       " RGB{Float64}(0.635487,0.704056,0.0)     RGB{Float64}(0.640271,0.685115,0.0)\n",
       " RGB{Float64}(0.595526,0.666846,0.0)     RGB{Float64}(0.642616,0.689897,0.0)\n",
       " RGB{Float64}(0.628837,0.694583,0.0)     RGB{Float64}(0.642162,0.688245,0.0)\n",
       " RGB{Float64}(0.633109,0.700868,0.0)     RGB{Float64}(0.629109,0.662471,0.0)"
      ]
     },
     "execution_count": 68,
     "metadata": {},
     "output_type": "execute_result"
    }
   ],
   "source": [
    "render()"
   ]
  },
  {
   "cell_type": "markdown",
   "metadata": {},
   "source": [
    "## 10. Dielectrics"
   ]
  },
  {
   "cell_type": "code",
   "execution_count": 69,
   "metadata": {},
   "outputs": [
    {
     "data": {
      "text/plain": [
       "refract (generic function with 1 method)"
      ]
     },
     "execution_count": 69,
     "metadata": {},
     "output_type": "execute_result"
    }
   ],
   "source": [
    "function refract(uv, n, etai_over_etat)\n",
    "    cos_theta = dot(-uv, n)\n",
    "    r_out_parallel = etai_over_etat * (uv + cos_theta * n)\n",
    "    r_out_perp = -sqrt(1 - norm(r_out_parallel)^2) * n\n",
    "    r_out_parallel + r_out_perp\n",
    "end"
   ]
  },
  {
   "cell_type": "code",
   "execution_count": 70,
   "metadata": {},
   "outputs": [
    {
     "data": {
      "text/plain": [
       "Main.DielectricM"
      ]
     },
     "execution_count": 70,
     "metadata": {},
     "output_type": "execute_result"
    }
   ],
   "source": [
    "module DielectricM\n",
    "struct Dielectric <: Main.Material\n",
    "    ref_idx\n",
    "end\n",
    "end"
   ]
  },
  {
   "cell_type": "code",
   "execution_count": 71,
   "metadata": {},
   "outputs": [
    {
     "data": {
      "text/plain": [
       "scatter (generic function with 4 methods)"
      ]
     },
     "execution_count": 71,
     "metadata": {},
     "output_type": "execute_result"
    }
   ],
   "source": [
    "function scatter(dielectric::DielectricM.Dielectric, r_in, rec)\n",
    "    attenuation = [1, 1, 1]\n",
    "    etai_over_etat = if rec.front_face\n",
    "        1 / dielectric.ref_idx\n",
    "    else\n",
    "        dielectric.ref_idx\n",
    "    end\n",
    "    unit_direction = normalize(r_in.direction)\n",
    "    \n",
    "    cos_theta = min(dot(-unit_direction, rec.normal), 1)\n",
    "    sin_theta = sqrt(1 - cos_theta * cos_theta)\n",
    "    \n",
    "    if etai_over_etat * sin_theta > 1 \n",
    "        reflected = reflect(unit_direction, rec.normal)\n",
    "        scattered = RayM.Ray(rec.p, reflected)\n",
    "        return true, attenuation, scattered\n",
    "    end\n",
    "    \n",
    "    refracted = refract(unit_direction, rec.normal, etai_over_etat)\n",
    "    scattered = RayM.Ray(rec.p, refracted)\n",
    "    true, attenuation, scattered\n",
    "end"
   ]
  },
  {
   "cell_type": "code",
   "execution_count": 72,
   "metadata": {},
   "outputs": [
    {
     "data": {
      "text/plain": [
       "Main.HittableListM.HittableList(Main.SphereM.Sphere[Main.SphereM.Sphere([0, 0, -1], 0.5, Main.LambertianM.Lambertian([0.1, 0.2, 0.5])), Main.SphereM.Sphere([0.0, -100.5, -1.0], 100, Main.LambertianM.Lambertian([0.8, 0.8, 0.0])), Main.SphereM.Sphere([1, 0, -1], 0.5, Main.MetalM.Metal([0.8, 0.6, 0.2], 0)), Main.SphereM.Sphere([-1, 0, -1], 0.5, Main.DielectricM.Dielectric(1.5))])"
      ]
     },
     "execution_count": 72,
     "metadata": {},
     "output_type": "execute_result"
    }
   ],
   "source": [
    "world = HittableListM.HittableList([\n",
    "        SphereM.Sphere([0, 0, -1], 0.5, LambertianM.Lambertian([0.1, 0.2, 0.5])),\n",
    "        SphereM.Sphere([0, -100.5, -1], 100, LambertianM.Lambertian([0.8, 0.8, 0])),\n",
    "        SphereM.Sphere([1, 0, -1], 0.5, MetalM.Metal([0.8, 0.6, 0.2], 0)),\n",
    "        SphereM.Sphere([-1, 0, -1], 0.5, DielectricM.Dielectric(1.5))\n",
    "        ])"
   ]
  },
  {
   "cell_type": "code",
   "execution_count": 73,
   "metadata": {},
   "outputs": [
    {
     "name": "stderr",
     "output_type": "stream",
     "text": [
      "\u001b[32mProgress: 100%|█████████████████████████████████████████| Time: 0:00:19\u001b[39m\n"
     ]
    },
    {
     "data": {
      "image/png": "[encoded data removed]",
      "text/plain": [
       "100×200 Array{RGB{Float64},2} with eltype RGB{Float64}:\n",
       " RGB{Float64}(0.803782,0.887491,1.0)  …  RGB{Float64}(0.80458,0.887924,1.0)\n",
       " RGB{Float64}(0.804874,0.888084,1.0)     RGB{Float64}(0.805712,0.88854,1.0)\n",
       " RGB{Float64}(0.805876,0.888629,1.0)     RGB{Float64}(0.806737,0.889098,1.0)\n",
       " RGB{Float64}(0.806956,0.889217,1.0)     RGB{Float64}(0.807866,0.889712,1.0)\n",
       " RGB{Float64}(0.808138,0.889861,1.0)     RGB{Float64}(0.808858,0.890253,1.0)\n",
       " RGB{Float64}(0.809179,0.890428,1.0)  …  RGB{Float64}(0.810047,0.890902,1.0)\n",
       " RGB{Float64}(0.81032,0.891051,1.0)      RGB{Float64}(0.811101,0.891477,1.0)\n",
       " RGB{Float64}(0.811406,0.891643,1.0)     RGB{Float64}(0.812182,0.892067,1.0)\n",
       " RGB{Float64}(0.812563,0.892275,1.0)     RGB{Float64}(0.813333,0.892696,1.0)\n",
       " RGB{Float64}(0.813705,0.8929,1.0)       RGB{Float64}(0.814463,0.893314,1.0)\n",
       " RGB{Float64}(0.814831,0.893515,1.0)  …  RGB{Float64}(0.815583,0.893927,1.0)\n",
       " RGB{Float64}(0.816002,0.894156,1.0)     RGB{Float64}(0.816732,0.894556,1.0)\n",
       " RGB{Float64}(0.817159,0.89479,1.0)      RGB{Float64}(0.817846,0.895167,1.0)\n",
       " ⋮                                    ⋱  \n",
       " RGB{Float64}(0.679617,0.77274,0.0)      RGB{Float64}(0.641057,0.695678,0.0)\n",
       " RGB{Float64}(0.681423,0.773694,0.0)     RGB{Float64}(0.651982,0.700164,0.0)\n",
       " RGB{Float64}(0.680492,0.770127,0.0)  …  RGB{Float64}(0.642796,0.690475,0.0)\n",
       " RGB{Float64}(0.683085,0.773001,0.0)     RGB{Float64}(0.624922,0.667385,0.0)\n",
       " RGB{Float64}(0.679439,0.772646,0.0)     RGB{Float64}(0.642489,0.690599,0.0)\n",
       " RGB{Float64}(0.681172,0.773561,0.0)     RGB{Float64}(0.642963,0.681405,0.0)\n",
       " RGB{Float64}(0.670858,0.763784,0.0)     RGB{Float64}(0.639722,0.681282,0.0)\n",
       " RGB{Float64}(0.678428,0.769052,0.0)  …  RGB{Float64}(0.633329,0.686913,0.0)\n",
       " RGB{Float64}(0.683179,0.774622,0.0)     RGB{Float64}(0.6423,0.701425,0.0)\n",
       " RGB{Float64}(0.672313,0.764357,0.0)     RGB{Float64}(0.648595,0.700129,0.0)\n",
       " RGB{Float64}(0.672346,0.762204,0.0)     RGB{Float64}(0.6366,0.688833,0.0)\n",
       " RGB{Float64}(0.664735,0.756764,0.0)     RGB{Float64}(0.644212,0.706909,0.0)"
      ]
     },
     "execution_count": 73,
     "metadata": {},
     "output_type": "execute_result"
    }
   ],
   "source": [
    "render()"
   ]
  },
  {
   "cell_type": "code",
   "execution_count": 74,
   "metadata": {},
   "outputs": [
    {
     "data": {
      "text/plain": [
       "schlick (generic function with 1 method)"
      ]
     },
     "execution_count": 74,
     "metadata": {},
     "output_type": "execute_result"
    }
   ],
   "source": [
    "function schlick(cosine, ref_idx)\n",
    "    r0 = (1 - ref_idx) / (1 + ref_idx)\n",
    "    r0 *= r0\n",
    "    r0 + (1 - r0) * (1 - cosine)^5\n",
    "end"
   ]
  },
  {
   "cell_type": "code",
   "execution_count": 75,
   "metadata": {},
   "outputs": [
    {
     "data": {
      "text/plain": [
       "scatter (generic function with 4 methods)"
      ]
     },
     "execution_count": 75,
     "metadata": {},
     "output_type": "execute_result"
    }
   ],
   "source": [
    "function scatter(dielectric::DielectricM.Dielectric, r_in, rec)\n",
    "    attenuation = [1, 1, 1]\n",
    "    etai_over_etat = if rec.front_face\n",
    "        1 / dielectric.ref_idx\n",
    "    else\n",
    "        dielectric.ref_idx\n",
    "    end\n",
    "    unit_direction = normalize(r_in.direction)\n",
    "    \n",
    "    cos_theta = min(dot(-unit_direction, rec.normal), 1)\n",
    "    sin_theta = sqrt(1 - cos_theta * cos_theta)\n",
    "    \n",
    "    if etai_over_etat * sin_theta > 1 \n",
    "        reflected = reflect(unit_direction, rec.normal)\n",
    "        scattered = RayM.Ray(rec.p, reflected)\n",
    "        return true, attenuation, scattered\n",
    "    end\n",
    "    \n",
    "    reflect_prob = schlick(cos_theta, etai_over_etat)\n",
    "    if rand() < reflect_prob\n",
    "        reflected = reflect(unit_direction, rec.normal)\n",
    "        scattered = RayM.Ray(rec.p, reflected)\n",
    "        return true, attenuation, scattered\n",
    "    end\n",
    "    \n",
    "    refracted = refract(unit_direction, rec.normal, etai_over_etat)\n",
    "    scattered = RayM.Ray(rec.p, refracted)\n",
    "    true, attenuation, scattered\n",
    "end"
   ]
  },
  {
   "cell_type": "code",
   "execution_count": 76,
   "metadata": {},
   "outputs": [
    {
     "data": {
      "text/plain": [
       "Main.HittableListM.HittableList(Main.SphereM.Sphere[Main.SphereM.Sphere([0, 0, -1], 0.5, Main.LambertianM.Lambertian([0.1, 0.2, 0.5])), Main.SphereM.Sphere([0.0, -100.5, -1.0], 100, Main.LambertianM.Lambertian([0.8, 0.8, 0.0])), Main.SphereM.Sphere([1, 0, -1], 0.5, Main.MetalM.Metal([0.8, 0.6, 0.2], 0.3)), Main.SphereM.Sphere([-1, 0, -1], 0.5, Main.DielectricM.Dielectric(1.5)), Main.SphereM.Sphere([-1, 0, -1], -0.45, Main.DielectricM.Dielectric(1.5))])"
      ]
     },
     "execution_count": 76,
     "metadata": {},
     "output_type": "execute_result"
    }
   ],
   "source": [
    "world = HittableListM.HittableList([\n",
    "        SphereM.Sphere([0, 0, -1], 0.5, LambertianM.Lambertian([0.1, 0.2, 0.5])),\n",
    "        SphereM.Sphere([0, -100.5, -1], 100, LambertianM.Lambertian([0.8, 0.8, 0])),\n",
    "        SphereM.Sphere([1, 0, -1], 0.5, MetalM.Metal([0.8, 0.6, 0.2], 0.3)),\n",
    "        SphereM.Sphere([-1, 0, -1], 0.5, DielectricM.Dielectric(1.5)),\n",
    "        SphereM.Sphere([-1, 0, -1], -0.45, DielectricM.Dielectric(1.5))\n",
    "        ])"
   ]
  },
  {
   "cell_type": "code",
   "execution_count": 77,
   "metadata": {},
   "outputs": [
    {
     "name": "stderr",
     "output_type": "stream",
     "text": [
      "\u001b[32mProgress: 100%|█████████████████████████████████████████| Time: 0:00:24\u001b[39m\n"
     ]
    },
    {
     "data": {
      "image/png": "[encoded data removed]",
      "text/plain": [
       "100×200 Array{RGB{Float64},2} with eltype RGB{Float64}:\n",
       " RGB{Float64}(0.803783,0.887491,1.0)  …  RGB{Float64}(0.804628,0.88795,1.0)\n",
       " RGB{Float64}(0.80482,0.888055,1.0)      RGB{Float64}(0.805718,0.888543,1.0)\n",
       " RGB{Float64}(0.805927,0.888657,1.0)     RGB{Float64}(0.806729,0.889093,1.0)\n",
       " RGB{Float64}(0.807015,0.889249,1.0)     RGB{Float64}(0.807836,0.889696,1.0)\n",
       " RGB{Float64}(0.808086,0.889832,1.0)     RGB{Float64}(0.808867,0.890258,1.0)\n",
       " RGB{Float64}(0.809193,0.890436,1.0)  …  RGB{Float64}(0.809995,0.890873,1.0)\n",
       " RGB{Float64}(0.810298,0.891038,1.0)     RGB{Float64}(0.811106,0.89148,1.0)\n",
       " RGB{Float64}(0.811372,0.891625,1.0)     RGB{Float64}(0.812193,0.892073,1.0)\n",
       " RGB{Float64}(0.812528,0.892256,1.0)     RGB{Float64}(0.813347,0.892704,1.0)\n",
       " RGB{Float64}(0.81366,0.892875,1.0)      RGB{Float64}(0.814419,0.89329,1.0)\n",
       " RGB{Float64}(0.814849,0.893525,1.0)  …  RGB{Float64}(0.815611,0.893942,1.0)\n",
       " RGB{Float64}(0.815945,0.894125,1.0)     RGB{Float64}(0.816747,0.894564,1.0)\n",
       " RGB{Float64}(0.817121,0.894769,1.0)     RGB{Float64}(0.817883,0.895187,1.0)\n",
       " ⋮                                    ⋱  \n",
       " RGB{Float64}(0.674044,0.764945,0.0)     RGB{Float64}(0.661457,0.720824,0.0)\n",
       " RGB{Float64}(0.670965,0.760134,0.0)     RGB{Float64}(0.639949,0.697932,0.0)\n",
       " RGB{Float64}(0.668266,0.761399,0.0)  …  RGB{Float64}(0.629003,0.67917,0.0)\n",
       " RGB{Float64}(0.669254,0.758993,0.0)     RGB{Float64}(0.632776,0.679744,0.0)\n",
       " RGB{Float64}(0.673232,0.76429,0.0)      RGB{Float64}(0.618166,0.652676,0.0)\n",
       " RGB{Float64}(0.682441,0.77199,0.0)      RGB{Float64}(0.637549,0.677011,0.0)\n",
       " RGB{Float64}(0.670011,0.759834,0.0)     RGB{Float64}(0.635007,0.684147,0.0)\n",
       " RGB{Float64}(0.672076,0.762177,0.0)  …  RGB{Float64}(0.624478,0.67787,0.0)\n",
       " RGB{Float64}(0.670608,0.758872,0.0)     RGB{Float64}(0.646735,0.707551,0.0)\n",
       " RGB{Float64}(0.661781,0.754854,0.0)     RGB{Float64}(0.647801,0.703719,0.0)\n",
       " RGB{Float64}(0.67413,0.764904,0.0)      RGB{Float64}(0.605869,0.647348,0.0)\n",
       " RGB{Float64}(0.664521,0.754292,0.0)     RGB{Float64}(0.632371,0.689264,0.0)"
      ]
     },
     "execution_count": 77,
     "metadata": {},
     "output_type": "execute_result"
    }
   ],
   "source": [
    "render()"
   ]
  },
  {
   "cell_type": "markdown",
   "metadata": {},
   "source": [
    "## 11. Positionable Camera"
   ]
  },
  {
   "cell_type": "code",
   "execution_count": 78,
   "metadata": {},
   "outputs": [
    {
     "name": "stderr",
     "output_type": "stream",
     "text": [
      "WARNING: replacing module CameraM.\n"
     ]
    },
    {
     "data": {
      "text/plain": [
       "Main.CameraM"
      ]
     },
     "execution_count": 78,
     "metadata": {},
     "output_type": "execute_result"
    }
   ],
   "source": [
    "module CameraM\n",
    "struct Camera\n",
    "    origin\n",
    "    lower_left_corner\n",
    "    horizontal\n",
    "    vertical\n",
    "    \n",
    "    function Camera(vfov, aspect) \n",
    "        origin = [0, 0, 0]\n",
    "        \n",
    "        theta = deg2rad(vfov)\n",
    "        half_height = tan(theta / 2)\n",
    "        half_width = aspect * half_height\n",
    "        \n",
    "        lower_left_corner = [-half_width, -half_height, -1]\n",
    "        \n",
    "        horizontal = [2 * half_width, 0, 0]\n",
    "        vertical = [0, 2 * half_height, 0]\n",
    "        \n",
    "        new(origin, lower_left_corner, horizontal, vertical)\n",
    "    end\n",
    "end\n",
    "end"
   ]
  },
  {
   "cell_type": "code",
   "execution_count": 79,
   "metadata": {},
   "outputs": [
    {
     "data": {
      "text/plain": [
       "get_ray (generic function with 2 methods)"
      ]
     },
     "execution_count": 79,
     "metadata": {},
     "output_type": "execute_result"
    }
   ],
   "source": [
    "get_ray(camera::CameraM.Camera, u, v) = RayM.Ray(camera.origin, camera.lower_left_corner + u * camera.horizontal + v * camera.vertical - camera.origin)"
   ]
  },
  {
   "cell_type": "code",
   "execution_count": 80,
   "metadata": {},
   "outputs": [
    {
     "data": {
      "text/plain": [
       "Main.CameraM.Camera([0, 0, 0], [-1.9999999999999998, -0.9999999999999999, -1.0], [3.9999999999999996, 0.0, 0.0], [0.0, 1.9999999999999998, 0.0])"
      ]
     },
     "execution_count": 80,
     "metadata": {},
     "output_type": "execute_result"
    }
   ],
   "source": [
    "cam = CameraM.Camera(90, image_width / image_height)"
   ]
  },
  {
   "cell_type": "code",
   "execution_count": 81,
   "metadata": {},
   "outputs": [
    {
     "data": {
      "text/plain": [
       "0.7071067811865476"
      ]
     },
     "execution_count": 81,
     "metadata": {},
     "output_type": "execute_result"
    }
   ],
   "source": [
    "r = cos(pi / 4)"
   ]
  },
  {
   "cell_type": "code",
   "execution_count": 82,
   "metadata": {},
   "outputs": [
    {
     "data": {
      "text/plain": [
       "Main.HittableListM.HittableList(Main.SphereM.Sphere[Main.SphereM.Sphere([-0.7071067811865476, 0.0, -1.0], 0.7071067811865476, Main.LambertianM.Lambertian([0, 0, 1])), Main.SphereM.Sphere([0.7071067811865476, 0.0, -1.0], 0.7071067811865476, Main.LambertianM.Lambertian([1, 0, 0]))])"
      ]
     },
     "execution_count": 82,
     "metadata": {},
     "output_type": "execute_result"
    }
   ],
   "source": [
    "world = HittableListM.HittableList([\n",
    "        SphereM.Sphere([-r, 0, -1], r, LambertianM.Lambertian([0, 0, 1])),\n",
    "        SphereM.Sphere([r, 0, -1], r, LambertianM.Lambertian([1, 0, 0])),\n",
    "        ])"
   ]
  },
  {
   "cell_type": "code",
   "execution_count": 83,
   "metadata": {},
   "outputs": [
    {
     "data": {
      "text/plain": [
       "color (generic function with 5 methods)"
      ]
     },
     "execution_count": 83,
     "metadata": {},
     "output_type": "execute_result"
    }
   ],
   "source": [
    "function color(cam, i, j) \n",
    "    c = [0, 0, 0]\n",
    "    for _ in 1:samples_per_pixel\n",
    "        u = (i + rand()) / image_width\n",
    "        v = (j + rand()) / image_height\n",
    "        r = get_ray(cam, u, v)\n",
    "        c += color(r, world, max_depth)\n",
    "    end\n",
    "    sqrt.(c / samples_per_pixel)\n",
    "end"
   ]
  },
  {
   "cell_type": "code",
   "execution_count": 84,
   "metadata": {},
   "outputs": [
    {
     "name": "stderr",
     "output_type": "stream",
     "text": [
      "\u001b[32mProgress: 100%|█████████████████████████████████████████| Time: 0:00:11\u001b[39m\n"
     ]
    },
    {
     "data": {
      "image/png": "[encoded data removed]",
      "text/plain": [
       "100×200 Array{RGB{Float64},2} with eltype RGB{Float64}:\n",
       " RGB{Float64}(0.803777,0.887488,1.0)  …  RGB{Float64}(0.804636,0.887954,1.0)\n",
       " RGB{Float64}(0.804832,0.888061,1.0)     RGB{Float64}(0.805668,0.888516,1.0)\n",
       " RGB{Float64}(0.805913,0.888649,1.0)     RGB{Float64}(0.806729,0.889093,1.0)\n",
       " RGB{Float64}(0.80697,0.889225,1.0)      RGB{Float64}(0.807827,0.889691,1.0)\n",
       " RGB{Float64}(0.79582,0.876355,1.0)      RGB{Float64}(0.808855,0.890252,1.0)\n",
       " RGB{Float64}(0.198123,0.218063,1.0)  …  RGB{Float64}(0.806994,0.734566,0.824621)\n",
       " RGB{Float64}(0.0,0.0,1.0)               RGB{Float64}(0.813756,0.0,0.0)\n",
       " RGB{Float64}(0.0,0.0,1.0)               RGB{Float64}(0.836104,0.0,0.0)\n",
       " RGB{Float64}(0.0,0.0,1.0)               RGB{Float64}(0.819132,0.0,0.0)\n",
       " RGB{Float64}(0.0,0.0,1.0)               RGB{Float64}(0.822952,0.0,0.0)\n",
       " RGB{Float64}(0.0,0.0,1.0)            …  RGB{Float64}(0.813832,0.0,0.0)\n",
       " RGB{Float64}(0.0,0.0,1.0)               RGB{Float64}(0.824231,0.0,0.0)\n",
       " RGB{Float64}(0.0,0.0,1.0)               RGB{Float64}(0.829702,0.0,0.0)\n",
       " ⋮                                    ⋱  \n",
       " RGB{Float64}(0.0,0.0,1.0)               RGB{Float64}(0.901946,0.0,0.0)\n",
       " RGB{Float64}(0.0,0.0,1.0)               RGB{Float64}(0.896404,0.0,0.0)\n",
       " RGB{Float64}(0.0,0.0,1.0)            …  RGB{Float64}(0.896748,0.0,0.0)\n",
       " RGB{Float64}(0.0,0.0,1.0)               RGB{Float64}(0.907028,0.0,0.0)\n",
       " RGB{Float64}(0.0,0.0,1.0)               RGB{Float64}(0.900935,0.0,0.0)\n",
       " RGB{Float64}(0.0,0.0,1.0)               RGB{Float64}(0.905559,0.0,0.0)\n",
       " RGB{Float64}(0.0,0.0,1.0)               RGB{Float64}(0.916868,0.0,0.0)\n",
       " RGB{Float64}(0.0,0.0,1.0)            …  RGB{Float64}(0.906621,0.0,0.0)\n",
       " RGB{Float64}(0.130058,0.134718,1.0)     RGB{Float64}(0.910906,0.731332,0.768115)\n",
       " RGB{Float64}(0.911045,0.943399,1.0)     RGB{Float64}(0.919602,0.952576,1.0)\n",
       " RGB{Float64}(0.921237,0.953523,1.0)     RGB{Float64}(0.920519,0.953107,1.0)\n",
       " RGB{Float64}(0.922174,0.954066,1.0)     RGB{Float64}(0.921503,0.953677,1.0)"
      ]
     },
     "execution_count": 84,
     "metadata": {},
     "output_type": "execute_result"
    }
   ],
   "source": [
    "render(cam) = @showprogress map(coords -> RGB(color(cam, coords...)...), [(i,j) for j in image_height:-1:1, i in 1:image_width])\n",
    "render(cam)"
   ]
  },
  {
   "cell_type": "code",
   "execution_count": 85,
   "metadata": {},
   "outputs": [
    {
     "name": "stderr",
     "output_type": "stream",
     "text": [
      "WARNING: replacing module CameraM.\n"
     ]
    },
    {
     "data": {
      "text/plain": [
       "Main.CameraM"
      ]
     },
     "execution_count": 85,
     "metadata": {},
     "output_type": "execute_result"
    }
   ],
   "source": [
    "module CameraM\n",
    "using LinearAlgebra\n",
    "struct Camera\n",
    "    origin\n",
    "    lower_left_corner\n",
    "    horizontal\n",
    "    vertical\n",
    "    \n",
    "    function Camera(lookfrom, lookat, vup, vfov, aspect) \n",
    "        origin = lookfrom\n",
    "        \n",
    "        theta = deg2rad(vfov)\n",
    "        half_height = tan(theta / 2)\n",
    "        half_width = aspect * half_height\n",
    "        \n",
    "        w = normalize(lookfrom - lookat)\n",
    "        u = normalize(cross(vup, w))\n",
    "        v = cross(w, u)\n",
    "        \n",
    "        lower_left_corner = origin - half_width * u - half_height * v - w\n",
    "        \n",
    "        horizontal = 2 * half_width * u\n",
    "        vertical = 2 * half_height * v\n",
    "        \n",
    "        new(origin, lower_left_corner, horizontal, vertical)\n",
    "    end\n",
    "end\n",
    "end"
   ]
  },
  {
   "cell_type": "code",
   "execution_count": 86,
   "metadata": {},
   "outputs": [
    {
     "data": {
      "text/plain": [
       "get_ray (generic function with 3 methods)"
      ]
     },
     "execution_count": 86,
     "metadata": {},
     "output_type": "execute_result"
    }
   ],
   "source": [
    "get_ray(camera::CameraM.Camera, u, v) = RayM.Ray(camera.origin, camera.lower_left_corner + u * camera.horizontal + v * camera.vertical - camera.origin)"
   ]
  },
  {
   "cell_type": "code",
   "execution_count": 87,
   "metadata": {},
   "outputs": [
    {
     "data": {
      "text/plain": [
       "2.0"
      ]
     },
     "execution_count": 87,
     "metadata": {},
     "output_type": "execute_result"
    }
   ],
   "source": [
    "aspect_ratio = image_width / image_height"
   ]
  },
  {
   "cell_type": "code",
   "execution_count": 88,
   "metadata": {},
   "outputs": [
    {
     "data": {
      "text/plain": [
       "Main.CameraM.Camera([-2, 2, 1], [-3.2451115836473323, 0.6061531498826481, -0.5833155410988577], [2.82842712474619, -0.0, 2.82842712474619], [0.816496580927726, 1.632993161855452, -0.816496580927726])"
      ]
     },
     "execution_count": 88,
     "metadata": {},
     "output_type": "execute_result"
    }
   ],
   "source": [
    "cam = CameraM.Camera([-2, 2, 1], [0, 0, -1], [0, 1, 0], 90, aspect_ratio)"
   ]
  },
  {
   "cell_type": "code",
   "execution_count": 89,
   "metadata": {},
   "outputs": [
    {
     "data": {
      "text/plain": [
       "Main.HittableListM.HittableList(Main.SphereM.Sphere[Main.SphereM.Sphere([0, 0, -1], 0.5, Main.LambertianM.Lambertian([0.1, 0.2, 0.5])), Main.SphereM.Sphere([0.0, -100.5, -1.0], 100, Main.LambertianM.Lambertian([0.8, 0.8, 0.0])), Main.SphereM.Sphere([1, 0, -1], 0.5, Main.MetalM.Metal([0.8, 0.6, 0.2], 0.3)), Main.SphereM.Sphere([-1, 0, -1], 0.5, Main.DielectricM.Dielectric(1.5)), Main.SphereM.Sphere([-1, 0, -1], -0.45, Main.DielectricM.Dielectric(1.5))])"
      ]
     },
     "execution_count": 89,
     "metadata": {},
     "output_type": "execute_result"
    }
   ],
   "source": [
    "world = HittableListM.HittableList([\n",
    "        SphereM.Sphere([0, 0, -1], 0.5, LambertianM.Lambertian([0.1, 0.2, 0.5])),\n",
    "        SphereM.Sphere([0, -100.5, -1], 100, LambertianM.Lambertian([0.8, 0.8, 0])),\n",
    "        SphereM.Sphere([1, 0, -1], 0.5, MetalM.Metal([0.8, 0.6, 0.2], 0.3)),\n",
    "        SphereM.Sphere([-1, 0, -1], 0.5, DielectricM.Dielectric(1.5)),\n",
    "        SphereM.Sphere([-1, 0, -1], -0.45, DielectricM.Dielectric(1.5))\n",
    "        ])"
   ]
  },
  {
   "cell_type": "code",
   "execution_count": 90,
   "metadata": {},
   "outputs": [
    {
     "name": "stderr",
     "output_type": "stream",
     "text": [
      "\u001b[32mProgress: 100%|█████████████████████████████████████████| Time: 0:00:14\u001b[39m\n"
     ]
    },
    {
     "data": {
      "image/png": "[encoded data removed]",
      "text/plain": [
       "100×200 Array{RGB{Float64},2} with eltype RGB{Float64}:\n",
       " RGB{Float64}(0.851237,0.913654,1.0)  …  RGB{Float64}(0.851403,0.913746,1.0)\n",
       " RGB{Float64}(0.852165,0.914172,1.0)     RGB{Float64}(0.852369,0.914286,1.0)\n",
       " RGB{Float64}(0.85308,0.914684,1.0)      RGB{Float64}(0.85326,0.914785,1.0)\n",
       " RGB{Float64}(0.854053,0.915229,1.0)     RGB{Float64}(0.854251,0.91534,1.0)\n",
       " RGB{Float64}(0.854971,0.915743,1.0)     RGB{Float64}(0.855139,0.915837,1.0)\n",
       " RGB{Float64}(0.855991,0.916315,1.0)  …  RGB{Float64}(0.856073,0.91636,1.0)\n",
       " RGB{Float64}(0.856879,0.916812,1.0)     RGB{Float64}(0.85706,0.916914,1.0)\n",
       " RGB{Float64}(0.857897,0.917383,1.0)     RGB{Float64}(0.857966,0.917422,1.0)\n",
       " RGB{Float64}(0.858898,0.917945,1.0)     RGB{Float64}(0.858975,0.917988,1.0)\n",
       " RGB{Float64}(0.859882,0.918498,1.0)     RGB{Float64}(0.859965,0.918545,1.0)\n",
       " RGB{Float64}(0.860841,0.919037,1.0)  …  RGB{Float64}(0.860883,0.91906,1.0)\n",
       " RGB{Float64}(0.86189,0.919626,1.0)      RGB{Float64}(0.861948,0.919659,1.0)\n",
       " RGB{Float64}(0.862833,0.920157,1.0)     RGB{Float64}(0.862888,0.920188,1.0)\n",
       " ⋮                                    ⋱  \n",
       " RGB{Float64}(0.686558,0.776413,0.0)     RGB{Float64}(0.675515,0.769094,0.0)\n",
       " RGB{Float64}(0.685793,0.776007,0.0)     RGB{Float64}(0.679457,0.772656,0.0)\n",
       " RGB{Float64}(0.681777,0.773881,0.0)  …  RGB{Float64}(0.685669,0.775941,0.0)\n",
       " RGB{Float64}(0.683125,0.774594,0.0)     RGB{Float64}(0.682383,0.774202,0.0)\n",
       " RGB{Float64}(0.683785,0.774943,0.0)     RGB{Float64}(0.685534,0.77587,0.0)\n",
       " RGB{Float64}(0.680813,0.773372,0.0)     RGB{Float64}(0.682566,0.773072,0.0)\n",
       " RGB{Float64}(0.6905,0.778508,0.0)       RGB{Float64}(0.678925,0.772375,0.0)\n",
       " RGB{Float64}(0.67787,0.771819,0.0)   …  RGB{Float64}(0.682963,0.774508,0.0)\n",
       " RGB{Float64}(0.680126,0.772595,0.0)     RGB{Float64}(0.684099,0.77511,0.0)\n",
       " RGB{Float64}(0.68204,0.77402,0.0)       RGB{Float64}(0.682929,0.77449,0.0)\n",
       " RGB{Float64}(0.684712,0.775434,0.0)     RGB{Float64}(0.690677,0.778602,0.0)\n",
       " RGB{Float64}(0.685427,0.775813,0.0)     RGB{Float64}(0.685465,0.775833,0.0)"
      ]
     },
     "execution_count": 90,
     "metadata": {},
     "output_type": "execute_result"
    }
   ],
   "source": [
    "render(cam)"
   ]
  },
  {
   "cell_type": "code",
   "execution_count": 91,
   "metadata": {},
   "outputs": [
    {
     "data": {
      "text/plain": [
       "Main.CameraM.Camera([-2, 2, 1], [-1.6625813854941125, 1.3151559166596698, 0.29021189027733996], [0.37236949521677276, -0.0, 0.37236949521677276], [0.10749381415070441, 0.21498762830140883, -0.10749381415070441])"
      ]
     },
     "execution_count": 91,
     "metadata": {},
     "output_type": "execute_result"
    }
   ],
   "source": [
    "cam = CameraM.Camera([-2, 2, 1], [0, 0, -1], [0, 1, 0], 15, aspect_ratio)"
   ]
  },
  {
   "cell_type": "code",
   "execution_count": 92,
   "metadata": {},
   "outputs": [
    {
     "name": "stderr",
     "output_type": "stream",
     "text": [
      "\u001b[32mProgress: 100%|█████████████████████████████████████████| Time: 0:00:28\u001b[39m\n"
     ]
    },
    {
     "data": {
      "image/png": "[encoded data removed]",
      "text/plain": [
       "100×200 Array{RGB{Float64},2} with eltype RGB{Float64}:\n",
       " RGB{Float64}(0.678855,0.772339,0.0)       …  RGB{Float64}(0.727825,0.691649,0.447214)\n",
       " RGB{Float64}(0.670245,0.76369,0.0)           RGB{Float64}(0.726201,0.69088,0.447214)\n",
       " RGB{Float64}(0.670418,0.766424,0.0)          RGB{Float64}(0.728448,0.691944,0.447214)\n",
       " RGB{Float64}(0.684085,0.773896,0.0)          RGB{Float64}(0.729285,0.692341,0.447214)\n",
       " RGB{Float64}(0.677614,0.768025,0.0)          RGB{Float64}(0.73162,0.693448,0.447214)\n",
       " RGB{Float64}(0.676853,0.770105,0.0)       …  RGB{Float64}(0.738332,0.696642,0.447214)\n",
       " RGB{Float64}(0.678427,0.772113,0.0)          RGB{Float64}(0.738674,0.696806,0.447214)\n",
       " RGB{Float64}(0.679249,0.77108,0.0)           RGB{Float64}(0.742344,0.698558,0.447214)\n",
       " RGB{Float64}(0.678453,0.77051,0.0)           RGB{Float64}(0.7443,0.699494,0.447214)\n",
       " RGB{Float64}(0.676241,0.76555,0.0)           RGB{Float64}(0.745463,0.700051,0.447214)\n",
       " RGB{Float64}(0.679398,0.769439,0.0)       …  RGB{Float64}(0.750456,0.702448,0.447214)\n",
       " RGB{Float64}(0.677487,0.770458,0.0)          RGB{Float64}(0.752233,0.703303,0.447214)\n",
       " RGB{Float64}(0.685848,0.776036,0.0)          RGB{Float64}(0.755355,0.704466,0.444972)\n",
       " ⋮                                         ⋱  \n",
       " RGB{Float64}(0.666188,0.754286,0.34641)      RGB{Float64}(0.623943,0.69302,0.0)\n",
       " RGB{Float64}(0.668577,0.759218,0.374166)     RGB{Float64}(0.636326,0.716999,0.0)\n",
       " RGB{Float64}(0.663759,0.75476,0.360555)   …  RGB{Float64}(0.610077,0.685291,0.0)\n",
       " RGB{Float64}(0.669894,0.761958,0.469042)     RGB{Float64}(0.632717,0.7014,0.0)\n",
       " RGB{Float64}(0.664216,0.750176,0.387298)     RGB{Float64}(0.641742,0.719315,0.0)\n",
       " RGB{Float64}(0.666148,0.758931,0.316228)     RGB{Float64}(0.621265,0.699368,0.0)\n",
       " RGB{Float64}(0.66657,0.75525,0.412311)       RGB{Float64}(0.611905,0.69441,0.0)\n",
       " RGB{Float64}(0.673326,0.762088,0.360555)  …  RGB{Float64}(0.622186,0.693837,0.0)\n",
       " RGB{Float64}(0.65986,0.751315,0.4)           RGB{Float64}(0.652043,0.732057,0.0)\n",
       " RGB{Float64}(0.683549,0.772754,0.331662)     RGB{Float64}(0.62868,0.707513,0.0)\n",
       " RGB{Float64}(0.650964,0.745128,0.264575)     RGB{Float64}(0.630653,0.70885,0.0)\n",
       " RGB{Float64}(0.687335,0.778549,0.424264)     RGB{Float64}(0.642339,0.722557,0.0)"
      ]
     },
     "execution_count": 92,
     "metadata": {},
     "output_type": "execute_result"
    }
   ],
   "source": [
    "render(cam)"
   ]
  },
  {
   "cell_type": "markdown",
   "metadata": {},
   "source": [
    "## 12. Defocus Blur"
   ]
  },
  {
   "cell_type": "code",
   "execution_count": 93,
   "metadata": {},
   "outputs": [
    {
     "data": {
      "text/plain": [
       "random_in_unit_disk (generic function with 1 method)"
      ]
     },
     "execution_count": 93,
     "metadata": {},
     "output_type": "execute_result"
    }
   ],
   "source": [
    "function random_in_unit_disk()\n",
    "    while true\n",
    "        p = [rand(-1:eps():1, 3), rand(-1:eps():1, 3), 0]\n",
    "        if norm(p)^2 > 1\n",
    "            continue\n",
    "        end\n",
    "        return p\n",
    "    end\n",
    "end"
   ]
  },
  {
   "cell_type": "code",
   "execution_count": 94,
   "metadata": {},
   "outputs": [
    {
     "name": "stderr",
     "output_type": "stream",
     "text": [
      "WARNING: replacing module CameraM.\n"
     ]
    },
    {
     "data": {
      "text/plain": [
       "Main.CameraM"
      ]
     },
     "execution_count": 94,
     "metadata": {},
     "output_type": "execute_result"
    }
   ],
   "source": [
    "module CameraM\n",
    "using LinearAlgebra\n",
    "struct Camera\n",
    "    origin\n",
    "    lower_left_corner\n",
    "    horizontal\n",
    "    vertical\n",
    "    u\n",
    "    v\n",
    "    w\n",
    "    lens_radius\n",
    "    \n",
    "    function Camera(lookfrom, lookat, vup, vfov, aspect, aperture, focus_dist) \n",
    "        origin = lookfrom\n",
    "        lens_radius = aperture / 2\n",
    "        \n",
    "        theta = deg2rad(vfov)\n",
    "        half_height = tan(theta / 2)\n",
    "        half_width = aspect * half_height\n",
    "        \n",
    "        w = normalize(lookfrom - lookat)\n",
    "        u = normalize(cross(vup, w))\n",
    "        v = cross(w, u)\n",
    "        \n",
    "    \n",
    "        lower_left_corner = origin - half_width * focus_dist * u - half_height * focus_dist * v - focus_dist * w\n",
    "        \n",
    "        horizontal = 2 * half_width * focus_dist * u\n",
    "        vertical = 2 * half_height * focus_dist * v\n",
    "        \n",
    "        new(origin, lower_left_corner, horizontal, vertical, u, v, w, lens_radius)\n",
    "    end\n",
    "end\n",
    "end"
   ]
  },
  {
   "cell_type": "code",
   "execution_count": 95,
   "metadata": {},
   "outputs": [
    {
     "data": {
      "text/plain": [
       "get_ray (generic function with 4 methods)"
      ]
     },
     "execution_count": 95,
     "metadata": {},
     "output_type": "execute_result"
    }
   ],
   "source": [
    "function get_ray(camera::CameraM.Camera, s, t) \n",
    "    rd = camera.lens_radius * random_in_unit_disk()\n",
    "    offset = camera.u .* x(rd) + camera.v .* y(rd)\n",
    "    \n",
    "    RayM.Ray(camera.origin + offset, camera.lower_left_corner + s * camera.horizontal + t * camera.vertical - camera.origin - offset)\n",
    "end"
   ]
  },
  {
   "cell_type": "code",
   "execution_count": 96,
   "metadata": {},
   "outputs": [],
   "source": [
    "lookfrom = [3, 3, 2]\n",
    "lookat = [0, 0, -1]\n",
    "vup = [0, 1, 0];"
   ]
  },
  {
   "cell_type": "code",
   "execution_count": 97,
   "metadata": {},
   "outputs": [
    {
     "data": {
      "text/plain": [
       "5.196152422706632"
      ]
     },
     "execution_count": 97,
     "metadata": {},
     "output_type": "execute_result"
    }
   ],
   "source": [
    "dist_to_focus = norm(lookfrom - lookat)"
   ]
  },
  {
   "cell_type": "code",
   "execution_count": 98,
   "metadata": {},
   "outputs": [
    {
     "data": {
      "text/plain": [
       "2"
      ]
     },
     "execution_count": 98,
     "metadata": {},
     "output_type": "execute_result"
    }
   ],
   "source": [
    "aperture = 2"
   ]
  },
  {
   "cell_type": "code",
   "execution_count": 99,
   "metadata": {},
   "outputs": [
    {
     "data": {
      "text/plain": [
       "Main.CameraM.Camera([3, 3, 2], [-0.9216873805686214, -0.7480920225906305, 0.6697794031592519], [2.5914667837278733, 0.0, -2.5914667837278733], [-0.7480920225906307, 1.4961840451812614, -0.7480920225906307], [0.7071067811865475, 0.0, -0.7071067811865475], [-0.40824829046386296, 0.8164965809277259, -0.40824829046386296], [0.5773502691896257, 0.5773502691896257, 0.5773502691896257], 1.0)"
      ]
     },
     "execution_count": 99,
     "metadata": {},
     "output_type": "execute_result"
    }
   ],
   "source": [
    "cam = CameraM.Camera(lookfrom, lookat, vup, 20, aspect_ratio, aperture, dist_to_focus)"
   ]
  },
  {
   "cell_type": "code",
   "execution_count": 100,
   "metadata": {},
   "outputs": [
    {
     "name": "stderr",
     "output_type": "stream",
     "text": [
      "\u001b[32mProgress: 100%|█████████████████████████████████████████| Time: 0:01:17\u001b[39m\n"
     ]
    },
    {
     "data": {
      "image/png": "[encoded data removed]",
      "text/plain": [
       "100×200 Array{RGB{Float64},2} with eltype RGB{Float64}:\n",
       " RGB{Float64}(0.675591,0.770619,0.0)  …  RGB{Float64}(0.682582,0.772823,0.0)\n",
       " RGB{Float64}(0.68478,0.774053,0.0)      RGB{Float64}(0.676869,0.771292,0.0)\n",
       " RGB{Float64}(0.688802,0.777604,0.0)     RGB{Float64}(0.681974,0.773985,0.0)\n",
       " RGB{Float64}(0.683328,0.774701,0.0)     RGB{Float64}(0.678608,0.772208,0.0)\n",
       " RGB{Float64}(0.678638,0.772224,0.0)     RGB{Float64}(0.689377,0.77791,0.0)\n",
       " RGB{Float64}(0.680548,0.773232,0.0)  …  RGB{Float64}(0.682881,0.774465,0.0)\n",
       " RGB{Float64}(0.683131,0.774597,0.0)     RGB{Float64}(0.680987,0.773464,0.0)\n",
       " RGB{Float64}(0.678935,0.772381,0.0)     RGB{Float64}(0.679593,0.772728,0.0)\n",
       " RGB{Float64}(0.681841,0.773915,0.0)     RGB{Float64}(0.68645,0.776356,0.0)\n",
       " RGB{Float64}(0.68112,0.773534,0.0)      RGB{Float64}(0.680801,0.771794,0.0)\n",
       " RGB{Float64}(0.67769,0.771724,0.0)   …  RGB{Float64}(0.680826,0.773378,0.0)\n",
       " RGB{Float64}(0.68219,0.774099,0.0)      RGB{Float64}(0.676404,0.769544,0.0)\n",
       " RGB{Float64}(0.682469,0.774247,0.0)     RGB{Float64}(0.678576,0.772191,0.0)\n",
       " ⋮                                    ⋱  \n",
       " RGB{Float64}(0.680709,0.771617,0.0)     RGB{Float64}(0.665562,0.754042,0.0)\n",
       " RGB{Float64}(0.676497,0.768607,0.0)     RGB{Float64}(0.674178,0.765289,0.0)\n",
       " RGB{Float64}(0.670225,0.766233,0.0)  …  RGB{Float64}(0.676171,0.763704,0.0)\n",
       " RGB{Float64}(0.67363,0.76605,0.0)       RGB{Float64}(0.666158,0.746178,0.0)\n",
       " RGB{Float64}(0.674639,0.765919,0.0)     RGB{Float64}(0.675917,0.764523,0.0)\n",
       " RGB{Float64}(0.672887,0.763715,0.0)     RGB{Float64}(0.673002,0.760209,0.0)\n",
       " RGB{Float64}(0.6705,0.759805,0.0)       RGB{Float64}(0.676128,0.762649,0.0)\n",
       " RGB{Float64}(0.67587,0.764407,0.0)   …  RGB{Float64}(0.66516,0.751945,0.0)\n",
       " RGB{Float64}(0.674607,0.765501,0.0)     RGB{Float64}(0.678706,0.76669,0.0)\n",
       " RGB{Float64}(0.684733,0.773579,0.0)     RGB{Float64}(0.669108,0.750644,0.0)\n",
       " RGB{Float64}(0.679529,0.769247,0.0)     RGB{Float64}(0.660087,0.745435,0.0)\n",
       " RGB{Float64}(0.668548,0.761182,0.0)     RGB{Float64}(0.674305,0.756932,0.0)"
      ]
     },
     "execution_count": 100,
     "metadata": {},
     "output_type": "execute_result"
    }
   ],
   "source": [
    "render(cam)"
   ]
  },
  {
   "cell_type": "markdown",
   "metadata": {},
   "source": [
    "## 13. Where Next?"
   ]
  },
  {
   "cell_type": "code",
   "execution_count": 101,
   "metadata": {},
   "outputs": [
    {
     "data": {
      "text/plain": [
       "random_scene (generic function with 1 method)"
      ]
     },
     "execution_count": 101,
     "metadata": {},
     "output_type": "execute_result"
    }
   ],
   "source": [
    "function random_scene()\n",
    "    world = HittableListM.HittableList([])\n",
    "    push!(world.objects, SphereM.Sphere([0, -1000, 0], 1000, LambertianM.Lambertian([0.5, 0.5, 0.5])))\n",
    "    \n",
    "    for a in -11:10, b in -11:10 \n",
    "        choose_mat = rand()\n",
    "        \n",
    "        center = [a + 0.9 * rand(), 0.2, b + 0.9 * rand()]\n",
    "        \n",
    "        if norm(center - [4, 0.2, 0]) > 0.9\n",
    "            if choose_mat < 0.8\n",
    "                # diffuse\n",
    "                albedo = rand(3) .* rand(3)\n",
    "                push!(world.objects, SphereM.Sphere(center, 0.2, LambertianM.Lambertian(albedo)))\n",
    "            elseif choose_mat < 0.95\n",
    "                # metal\n",
    "                albedo = rand(0.5:eps():1, 3)\n",
    "                fuzz = rand(0:eps():0.5)\n",
    "                push!(world.objects, SphereM.Sphere(center, 0.2, MetalM.Metal(albedo, fuzz)))\n",
    "            else\n",
    "                # glass\n",
    "                push!(world.objects, SphereM.Sphere(center, 0.2, DielectricM.Dielectric(1.5)))\n",
    "            end\n",
    "        end\n",
    "    end\n",
    "    \n",
    "    push!(world.objects, SphereM.Sphere([0, 1, 0], 1, DielectricM.Dielectric(1.5)))\n",
    "    push!(world.objects, SphereM.Sphere([-4, 1, 0], 1, LambertianM.Lambertian([0.4, 0.2, 0.1])))\n",
    "    push!(world.objects, SphereM.Sphere([4, 1, 0], 1, MetalM.Metal([0.7, 0.6, 0.5], 0)))\n",
    "    \n",
    "    world\n",
    "end"
   ]
  },
  {
   "cell_type": "code",
   "execution_count": 102,
   "metadata": {},
   "outputs": [
    {
     "name": "stderr",
     "output_type": "stream",
     "text": [
      "\u001b[32mProgress: 100%|█████████████████████████████████████████| Time: 0:18:40\u001b[39m\n"
     ]
    },
    {
     "data": {
      "image/png": "[encoded data removed]",
      "text/plain": [
       "100×200 Array{RGB{Float64},2} with eltype RGB{Float64}:\n",
       " RGB{Float64}(0.862267,0.919839,1.0)       …  RGB{Float64}(0.862287,0.919849,1.0)\n",
       " RGB{Float64}(0.862753,0.920112,1.0)          RGB{Float64}(0.862796,0.920136,1.0)\n",
       " RGB{Float64}(0.86317,0.920346,1.0)           RGB{Float64}(0.863214,0.920371,1.0)\n",
       " RGB{Float64}(0.863665,0.920625,1.0)          RGB{Float64}(0.863703,0.920646,1.0)\n",
       " RGB{Float64}(0.864132,0.920888,1.0)          RGB{Float64}(0.86417,0.920909,1.0)\n",
       " RGB{Float64}(0.86463,0.921168,1.0)        …  RGB{Float64}(0.864613,0.921159,1.0)\n",
       " RGB{Float64}(0.865078,0.921421,1.0)          RGB{Float64}(0.865105,0.921436,1.0)\n",
       " RGB{Float64}(0.865555,0.921689,1.0)          RGB{Float64}(0.865548,0.921685,1.0)\n",
       " RGB{Float64}(0.866045,0.921965,1.0)          RGB{Float64}(0.866027,0.921955,1.0)\n",
       " RGB{Float64}(0.866507,0.922226,1.0)          RGB{Float64}(0.866455,0.922197,1.0)\n",
       " RGB{Float64}(0.866923,0.92246,1.0)        …  RGB{Float64}(0.86699,0.922498,1.0)\n",
       " RGB{Float64}(0.867427,0.922745,1.0)          RGB{Float64}(0.867443,0.922754,1.0)\n",
       " RGB{Float64}(0.867931,0.923029,1.0)          RGB{Float64}(0.867871,0.922995,1.0)\n",
       " ⋮                                         ⋱  \n",
       " RGB{Float64}(0.510217,0.586997,0.682446)     RGB{Float64}(0.381431,0.0371949,0.464556)\n",
       " RGB{Float64}(0.498892,0.577625,0.658706)     RGB{Float64}(0.375915,0.230996,0.467853)\n",
       " RGB{Float64}(0.494684,0.573065,0.654949)  …  RGB{Float64}(0.452947,0.449565,0.587978)\n",
       " RGB{Float64}(0.471409,0.546593,0.629166)     RGB{Float64}(0.490415,0.531196,0.634194)\n",
       " RGB{Float64}(0.450351,0.550186,0.601368)     RGB{Float64}(0.454225,0.499404,0.594851)\n",
       " RGB{Float64}(0.439322,0.526479,0.573967)     RGB{Float64}(0.417019,0.450239,0.537361)\n",
       " RGB{Float64}(0.433455,0.525579,0.568128)     RGB{Float64}(0.43241,0.463093,0.552884)\n",
       " RGB{Float64}(0.407307,0.49943,0.539713)   …  RGB{Float64}(0.441001,0.471763,0.567715)\n",
       " RGB{Float64}(0.452977,0.534018,0.601829)     RGB{Float64}(0.455085,0.49514,0.594161)\n",
       " RGB{Float64}(0.436711,0.524467,0.579282)     RGB{Float64}(0.486944,0.545904,0.645115)\n",
       " RGB{Float64}(0.467304,0.543932,0.62099)      RGB{Float64}(0.507759,0.572946,0.671151)\n",
       " RGB{Float64}(0.447886,0.525077,0.586856)     RGB{Float64}(0.486139,0.552263,0.656485)"
      ]
     },
     "execution_count": 102,
     "metadata": {},
     "output_type": "execute_result"
    }
   ],
   "source": [
    "world = random_scene()\n",
    "lookfrom = [13, 2, 3]\n",
    "lookat = [0, 0, 0]\n",
    "vup = [0, 1, 0];\n",
    "dist_to_focus = 10\n",
    "aperture = 0.1\n",
    "\n",
    "cam = CameraM.Camera(lookfrom, lookat, vup, 20, aspect_ratio, aperture, dist_to_focus)\n",
    "\n",
    "render(cam)"
   ]
  }
 ],
 "metadata": {
  "kernelspec": {
   "display_name": "Julia (12 threads) 1.4.1",
   "language": "julia",
   "name": "julia-(12-threads)-1.4"
  },
  "language_info": {
   "file_extension": ".jl",
   "mimetype": "application/julia",
   "name": "julia",
   "version": "1.4.1"
  }
 },
 "nbformat": 4,
 "nbformat_minor": 4
}
