{
 "cells": [
  {
   "cell_type": "markdown",
   "metadata": {},
   "source": [
    "# Ray Tracing in One Weekend"
   ]
  },
  {
   "cell_type": "markdown",
   "metadata": {},
   "source": [
    "[Ray Tracing in One Weekend](https://raytracing.github.io/books/RayTracingInOneWeekend.html) in a Julia Notebook."
   ]
  },
  {
   "cell_type": "markdown",
   "metadata": {},
   "source": [
    "## Vec3"
   ]
  },
  {
   "cell_type": "code",
   "execution_count": 1,
   "metadata": {},
   "outputs": [],
   "source": [
    "struct Vec3\n",
    "    x::Float64\n",
    "    y::Float64\n",
    "    z::Float64\n",
    "end"
   ]
  },
  {
   "cell_type": "code",
   "execution_count": 2,
   "metadata": {},
   "outputs": [],
   "source": [
    "Base.:+(u::Vec3, v::Vec3) = Vec3(u.x + v.x, u.y + v.y, u.z + v.z)"
   ]
  },
  {
   "cell_type": "code",
   "execution_count": 3,
   "metadata": {},
   "outputs": [],
   "source": [
    "Base.:-(v::Vec3) = Vec3(-v.x, -v.y, -v.z)\n",
    "Base.:-(u::Vec3, v::Vec3) = Vec3(u.x - v.x, u.y - v.y, u.z - v.z)"
   ]
  },
  {
   "cell_type": "code",
   "execution_count": 4,
   "metadata": {},
   "outputs": [],
   "source": [
    "Base.:*(u::Vec3, v::Vec3) = Vec3(u.x * v.x, u.y * v.y, u.z * v.z)\n",
    "Base.:*(v::Vec3, t::Number) = Vec3(v.x * t, v.y * t, v.z * t)\n",
    "Base.:*(t::Number, v::Vec3) = v * t"
   ]
  },
  {
   "cell_type": "code",
   "execution_count": 5,
   "metadata": {},
   "outputs": [],
   "source": [
    "Base.:/(v::Vec3, t::Number) = Vec3(v.x / t, v.y / t, v.z / t)"
   ]
  },
  {
   "cell_type": "code",
   "execution_count": 6,
   "metadata": {},
   "outputs": [
    {
     "data": {
      "text/plain": [
       "length_squared (generic function with 1 method)"
      ]
     },
     "execution_count": 6,
     "metadata": {},
     "output_type": "execute_result"
    }
   ],
   "source": [
    "length_squared(v::Vec3) = v.x * v.x + v.y * v.y + v.z * v.z"
   ]
  },
  {
   "cell_type": "code",
   "execution_count": 7,
   "metadata": {},
   "outputs": [
    {
     "data": {
      "text/plain": [
       "length_vector (generic function with 1 method)"
      ]
     },
     "execution_count": 7,
     "metadata": {},
     "output_type": "execute_result"
    }
   ],
   "source": [
    "# length(collection) is for number of elements\n",
    "length_vector(v::Vec3) = sqrt(length_squared(v))"
   ]
  },
  {
   "cell_type": "code",
   "execution_count": 8,
   "metadata": {},
   "outputs": [
    {
     "data": {
      "text/plain": [
       "dot (generic function with 1 method)"
      ]
     },
     "execution_count": 8,
     "metadata": {},
     "output_type": "execute_result"
    }
   ],
   "source": [
    "dot(u::Vec3, v::Vec3) = u.x * v.x + u.y * v.y + u.z * v.z"
   ]
  },
  {
   "cell_type": "code",
   "execution_count": 9,
   "metadata": {},
   "outputs": [
    {
     "data": {
      "text/plain": [
       "cross (generic function with 1 method)"
      ]
     },
     "execution_count": 9,
     "metadata": {},
     "output_type": "execute_result"
    }
   ],
   "source": [
    "cross(u::Vec3, v::Vec3) = Vec3(\n",
    "    u.y * v.z - u.z * v.y,\n",
    "    u.z * v.x - u.x * v.z,\n",
    "    u.x * v.y - u.y * v.x\n",
    ")"
   ]
  },
  {
   "cell_type": "code",
   "execution_count": 10,
   "metadata": {},
   "outputs": [
    {
     "data": {
      "text/plain": [
       "unit_vector (generic function with 1 method)"
      ]
     },
     "execution_count": 10,
     "metadata": {},
     "output_type": "execute_result"
    }
   ],
   "source": [
    "unit_vector(v::Vec3) = v / length_vector(v)"
   ]
  },
  {
   "cell_type": "code",
   "execution_count": 11,
   "metadata": {},
   "outputs": [
    {
     "data": {
      "text/plain": [
       "reflect (generic function with 1 method)"
      ]
     },
     "execution_count": 11,
     "metadata": {},
     "output_type": "execute_result"
    }
   ],
   "source": [
    "reflect(v::Vec3, n::Vec3) = v - 2 * dot(v, n) * n"
   ]
  },
  {
   "cell_type": "code",
   "execution_count": 12,
   "metadata": {},
   "outputs": [
    {
     "data": {
      "text/plain": [
       "refract (generic function with 1 method)"
      ]
     },
     "execution_count": 12,
     "metadata": {},
     "output_type": "execute_result"
    }
   ],
   "source": [
    "function refract(uv::Vec3, n::Vec3, etai_over_etat::Float64)\n",
    "    cos_theta = dot(-uv, n)\n",
    "    r_out_parallel = etai_over_etat * (uv + cos_theta * n)\n",
    "    r_out_perp = -sqrt(1 - length_squared(r_out_parallel)) * n\n",
    "    r_out_parallel + r_out_perp\n",
    "end"
   ]
  },
  {
   "cell_type": "code",
   "execution_count": 13,
   "metadata": {},
   "outputs": [
    {
     "data": {
      "text/plain": [
       "random_in_unit_sphere (generic function with 1 method)"
      ]
     },
     "execution_count": 13,
     "metadata": {},
     "output_type": "execute_result"
    }
   ],
   "source": [
    "function random_in_unit_sphere()\n",
    "    while true\n",
    "        p = Vec3(rand(-1:eps():1, 3)...)\n",
    "        if length_squared(p) < 1\n",
    "            return p\n",
    "        end\n",
    "    end\n",
    " end"
   ]
  },
  {
   "cell_type": "code",
   "execution_count": 14,
   "metadata": {},
   "outputs": [
    {
     "data": {
      "text/plain": [
       "random_unit_vector (generic function with 1 method)"
      ]
     },
     "execution_count": 14,
     "metadata": {},
     "output_type": "execute_result"
    }
   ],
   "source": [
    "function random_unit_vector()\n",
    "    a = rand(0:eps():2pi)\n",
    "    z = rand(-1:eps():1)\n",
    "    r = sqrt(1 - z * z)\n",
    "    Vec3(r * cos(a), r * sin(a), z)\n",
    "end"
   ]
  },
  {
   "cell_type": "code",
   "execution_count": 15,
   "metadata": {},
   "outputs": [
    {
     "data": {
      "text/plain": [
       "random_in_hemisphere (generic function with 1 method)"
      ]
     },
     "execution_count": 15,
     "metadata": {},
     "output_type": "execute_result"
    }
   ],
   "source": [
    "function random_in_hemisphere(normal::Vec3)\n",
    "    in_unit_sphere = random_in_unit_sphere()\n",
    "    if dot(in_unit_sphere, normal) > 0\n",
    "        in_unit_sphere\n",
    "    else\n",
    "        -in_unit_sphere\n",
    "    end\n",
    "end"
   ]
  },
  {
   "cell_type": "code",
   "execution_count": 16,
   "metadata": {},
   "outputs": [
    {
     "data": {
      "text/plain": [
       "random_in_unit_disk (generic function with 1 method)"
      ]
     },
     "execution_count": 16,
     "metadata": {},
     "output_type": "execute_result"
    }
   ],
   "source": [
    "function random_in_unit_disk()\n",
    "    while true\n",
    "        p = Vec3(rand(-1:eps():1), rand(-1:eps():1), 0)\n",
    "        if length_squared(p) < 1\n",
    "            return p\n",
    "        end\n",
    "    end\n",
    "end"
   ]
  },
  {
   "cell_type": "markdown",
   "metadata": {},
   "source": [
    "## Ray"
   ]
  },
  {
   "cell_type": "code",
   "execution_count": 17,
   "metadata": {},
   "outputs": [],
   "source": [
    "struct Ray\n",
    "    origin::Vec3\n",
    "    direction::Vec3\n",
    "end"
   ]
  },
  {
   "cell_type": "code",
   "execution_count": 18,
   "metadata": {},
   "outputs": [
    {
     "data": {
      "text/plain": [
       "at (generic function with 1 method)"
      ]
     },
     "execution_count": 18,
     "metadata": {},
     "output_type": "execute_result"
    }
   ],
   "source": [
    "at(ray::Ray, t::Number) = ray.origin + t * ray.direction"
   ]
  },
  {
   "cell_type": "markdown",
   "metadata": {},
   "source": [
    "## Hittable and Material"
   ]
  },
  {
   "cell_type": "code",
   "execution_count": 19,
   "metadata": {},
   "outputs": [],
   "source": [
    "abstract type Hittable end"
   ]
  },
  {
   "cell_type": "code",
   "execution_count": 20,
   "metadata": {},
   "outputs": [],
   "source": [
    "abstract type Material end"
   ]
  },
  {
   "cell_type": "markdown",
   "metadata": {},
   "source": [
    "## HitRecord and HittableList"
   ]
  },
  {
   "cell_type": "code",
   "execution_count": 21,
   "metadata": {},
   "outputs": [],
   "source": [
    "struct HitRecord\n",
    "    p::Vec3\n",
    "    normal::Vec3\n",
    "    mat::Material\n",
    "    t::Float64\n",
    "    front_face::Bool\n",
    "    \n",
    "    function HitRecord(\n",
    "            p::Vec3,\n",
    "            t::Number,\n",
    "            mat::Material,\n",
    "            r::Ray,\n",
    "            outward_normal::Vec3)\n",
    "        front_face = dot(r.direction, outward_normal) < 0\n",
    "        normal = front_face ? outward_normal : -outward_normal\n",
    "        new(p, normal, mat, t, front_face)\n",
    "    end\n",
    "end"
   ]
  },
  {
   "cell_type": "code",
   "execution_count": 22,
   "metadata": {},
   "outputs": [],
   "source": [
    "struct HittableList <: Hittable\n",
    "    objects::Vector{Hittable}\n",
    "end"
   ]
  },
  {
   "cell_type": "code",
   "execution_count": 23,
   "metadata": {},
   "outputs": [
    {
     "data": {
      "text/plain": [
       "hit (generic function with 1 method)"
      ]
     },
     "execution_count": 23,
     "metadata": {},
     "output_type": "execute_result"
    }
   ],
   "source": [
    "function hit(\n",
    "        hl::HittableList,\n",
    "        r::Ray,\n",
    "        t_min::Number,\n",
    "        t_max::Number,\n",
    "        )::Union{HitRecord,Nothing}\n",
    "    closest_so_far = t_max\n",
    "    \n",
    "    hr::Union{HitRecord,Nothing} = nothing\n",
    "    \n",
    "    for obj in hl.objects\n",
    "        temp_hr = hit(obj, r, t_min, closest_so_far)\n",
    "        if temp_hr != nothing\n",
    "            closest_so_far = temp_hr.t\n",
    "            hr = temp_hr\n",
    "        end\n",
    "    end\n",
    "    \n",
    "    hr\n",
    " end"
   ]
  },
  {
   "cell_type": "markdown",
   "metadata": {},
   "source": [
    "## Sphere"
   ]
  },
  {
   "cell_type": "code",
   "execution_count": 24,
   "metadata": {},
   "outputs": [],
   "source": [
    "struct Sphere <: Hittable\n",
    "    center::Vec3\n",
    "    radius::Float64\n",
    "    mat::Material\n",
    "end"
   ]
  },
  {
   "cell_type": "code",
   "execution_count": 25,
   "metadata": {},
   "outputs": [
    {
     "data": {
      "text/plain": [
       "hit (generic function with 2 methods)"
      ]
     },
     "execution_count": 25,
     "metadata": {},
     "output_type": "execute_result"
    }
   ],
   "source": [
    "function hit(\n",
    "        sphere::Sphere,\n",
    "        r::Ray,\n",
    "        t_min::Number,\n",
    "        t_max::Number,\n",
    "        )::Union{HitRecord,Nothing}\n",
    "    \n",
    "    oc = r.origin - sphere.center\n",
    "    a = length_squared(r.direction)\n",
    "    half_b = dot(oc, r.direction)\n",
    "    c = length_squared(oc) - sphere.radius * sphere.radius\n",
    "    discriminant = half_b * half_b - a * c\n",
    "\n",
    "    if discriminant > 0\n",
    "        root = sqrt(discriminant)\n",
    "        temp = (-half_b - root) / a\n",
    "        if t_min < temp < t_max\n",
    "            p = at(r, temp)\n",
    "            outward_normal = (p - sphere.center) / sphere.radius\n",
    "            HitRecord(p, temp, sphere.mat, r, outward_normal)\n",
    "        else\n",
    "            temp = (-half_b + root) / a\n",
    "            if t_min < temp < t_max\n",
    "                p = at(r, temp)\n",
    "                outward_normal = (p - sphere.center) / sphere.radius\n",
    "                HitRecord(p, temp, sphere.mat, r, outward_normal)\n",
    "            end\n",
    "        end\n",
    "    end\n",
    "end"
   ]
  },
  {
   "cell_type": "markdown",
   "metadata": {},
   "source": [
    "## Lambertian"
   ]
  },
  {
   "cell_type": "code",
   "execution_count": 26,
   "metadata": {},
   "outputs": [],
   "source": [
    "struct Lambertian <: Material\n",
    "    albedo::Vec3\n",
    "end"
   ]
  },
  {
   "cell_type": "code",
   "execution_count": 27,
   "metadata": {},
   "outputs": [
    {
     "data": {
      "text/plain": [
       "scatter (generic function with 1 method)"
      ]
     },
     "execution_count": 27,
     "metadata": {},
     "output_type": "execute_result"
    }
   ],
   "source": [
    "function scatter(\n",
    "        lambertian::Lambertian,\n",
    "        r_in::Ray,\n",
    "        rec::HitRecord,\n",
    "        )::Tuple{Bool,Vec3,Ray}\n",
    "    scatter_direction = rec.normal + random_unit_vector()\n",
    "    scattered = Ray(rec.p, scatter_direction)\n",
    "    attenuation = lambertian.albedo\n",
    "    true, attenuation, scattered\n",
    "end"
   ]
  },
  {
   "cell_type": "markdown",
   "metadata": {},
   "source": [
    "## Metal"
   ]
  },
  {
   "cell_type": "code",
   "execution_count": 28,
   "metadata": {},
   "outputs": [],
   "source": [
    "struct Metal <: Material\n",
    "    albedo::Vec3\n",
    "    fuzz::Float64\n",
    "    \n",
    "    Metal(albedo::Vec3, fuzz::Number) = new(albedo, fuzz < 1 ? fuzz : 1)\n",
    " end"
   ]
  },
  {
   "cell_type": "code",
   "execution_count": 29,
   "metadata": {},
   "outputs": [
    {
     "data": {
      "text/plain": [
       "scatter (generic function with 2 methods)"
      ]
     },
     "execution_count": 29,
     "metadata": {},
     "output_type": "execute_result"
    }
   ],
   "source": [
    "function scatter(\n",
    "        metal::Metal, \n",
    "        r_in::Ray,\n",
    "        rec::HitRecord)::Tuple{Bool,Vec3,Ray}\n",
    "    reflected = reflect(unit_vector(r_in.direction), rec.normal)\n",
    "    scattered = Ray(rec.p, reflected)\n",
    "    attenuation = metal.albedo\n",
    "    dot(scattered.direction, rec.normal) > 0, attenuation, scattered\n",
    "end"
   ]
  },
  {
   "cell_type": "markdown",
   "metadata": {},
   "source": [
    "## Dielectric"
   ]
  },
  {
   "cell_type": "code",
   "execution_count": 30,
   "metadata": {},
   "outputs": [
    {
     "data": {
      "text/plain": [
       "schlick (generic function with 1 method)"
      ]
     },
     "execution_count": 30,
     "metadata": {},
     "output_type": "execute_result"
    }
   ],
   "source": [
    "function schlick(cosine::Float64, ref_idx::Float64)\n",
    "    r0 = (1 - ref_idx) / (1 + ref_idx)\n",
    "    r0 *= r0\n",
    "    r0 + (1 - r0) * (1 - cosine)^5\n",
    " end"
   ]
  },
  {
   "cell_type": "code",
   "execution_count": 31,
   "metadata": {},
   "outputs": [],
   "source": [
    "struct Dielectric <: Material\n",
    "    ref_idx::Float64\n",
    "end"
   ]
  },
  {
   "cell_type": "code",
   "execution_count": 32,
   "metadata": {},
   "outputs": [
    {
     "data": {
      "text/plain": [
       "scatter (generic function with 3 methods)"
      ]
     },
     "execution_count": 32,
     "metadata": {},
     "output_type": "execute_result"
    }
   ],
   "source": [
    "function scatter(\n",
    "        dielectric::Dielectric,\n",
    "        r_in::Ray,\n",
    "        rec::HitRecord\n",
    "        )::Tuple{Bool,Vec3,Ray}\n",
    "    attenuation = Vec3(1, 1, 1)\n",
    "    etai_over_etat = \n",
    "    rec.front_face ? 1 / dielectric.ref_idx : dielectric.ref_idx\n",
    "    \n",
    "    unit_direction = unit_vector(r_in.direction)\n",
    "    cos_theta = min(dot(-unit_direction, rec.normal), 1)\n",
    "    sin_theta = sqrt(1 - cos_theta * cos_theta)\n",
    "    \n",
    "    if etai_over_etat * sin_theta > 1\n",
    "        reflected = reflect(unit_direction, rec.normal)\n",
    "        scattered = Ray(rec.p, reflected)\n",
    "        true, attenuation, scattered\n",
    "    else\n",
    "        reflect_prob = schlick(cos_theta, etai_over_etat)\n",
    "        if rand() < reflect_prob\n",
    "            reflected = reflect(unit_direction, rec.normal)\n",
    "            scattered = Ray(rec.p, reflected)\n",
    "            true, attenuation, scattered\n",
    "        else\n",
    "            refracted = refract(unit_direction, rec.normal, etai_over_etat)\n",
    "            scattered = Ray(rec.p, refracted)\n",
    "            true, attenuation, scattered\n",
    "        end\n",
    "    end\n",
    "end"
   ]
  },
  {
   "cell_type": "markdown",
   "metadata": {},
   "source": [
    "## Camera"
   ]
  },
  {
   "cell_type": "code",
   "execution_count": 33,
   "metadata": {},
   "outputs": [],
   "source": [
    "struct Camera\n",
    "    origin::Vec3\n",
    "    lower_left_corner::Vec3\n",
    "    horizontal::Vec3\n",
    "    vertical::Vec3\n",
    "    u::Vec3\n",
    "    v::Vec3\n",
    "    w::Vec3\n",
    "    lens_radius::Float64\n",
    "    \n",
    "    function Camera(\n",
    "            lookfrom::Vec3,\n",
    "            lookat::Vec3,\n",
    "            vup::Vec3,\n",
    "            vfov::Number,\n",
    "            aspect_ratio::Number,\n",
    "            aperture::Float64,\n",
    "            focus_dist::Float64)\n",
    "        origin = lookfrom\n",
    "        lens_radius = aperture / 2\n",
    "        \n",
    "        theta = deg2rad(vfov)\n",
    "        half_height = tan(theta / 2)\n",
    "        half_width = aspect_ratio * half_height\n",
    "\n",
    "        w = unit_vector(lookfrom - lookat)\n",
    "        u = unit_vector(cross(vup, w))\n",
    "        v = cross(w, u)\n",
    "\n",
    "        lower_left_corner = origin - half_width * focus_dist * u - half_height * focus_dist * v - focus_dist * w\n",
    "\n",
    "        horizontal = 2 * half_width * focus_dist * u\n",
    "        vertical = 2 * half_height * focus_dist * v\n",
    "\n",
    "        new(origin, lower_left_corner, horizontal, vertical, u, v, w, lens_radius)\n",
    "    end\n",
    "end"
   ]
  },
  {
   "cell_type": "code",
   "execution_count": 34,
   "metadata": {},
   "outputs": [
    {
     "data": {
      "text/plain": [
       "get_ray (generic function with 1 method)"
      ]
     },
     "execution_count": 34,
     "metadata": {},
     "output_type": "execute_result"
    }
   ],
   "source": [
    "function get_ray(camera::Camera, s::Number, t::Number)::Ray\n",
    "    rd = camera.lens_radius * random_in_unit_disk()\n",
    "    offset = camera.u * rd.x + camera.v * rd.y\n",
    "\n",
    "     Ray(\n",
    "        camera.origin + offset,\n",
    "        camera.lower_left_corner + s * camera.horizontal + t * camera.vertical - camera.origin - offset)\n",
    " end"
   ]
  },
  {
   "cell_type": "markdown",
   "metadata": {},
   "source": [
    "## Image"
   ]
  },
  {
   "cell_type": "code",
   "execution_count": 35,
   "metadata": {},
   "outputs": [],
   "source": [
    "using Images"
   ]
  },
  {
   "cell_type": "code",
   "execution_count": 36,
   "metadata": {},
   "outputs": [],
   "source": [
    "const aspect_ratio = 16 / 9\n",
    "const image_width = 384\n",
    "const image_height = Int(image_width ÷ aspect_ratio)\n",
    "const samples_per_pixel = 100\n",
    "const max_depth = 50;"
   ]
  },
  {
   "cell_type": "code",
   "execution_count": 37,
   "metadata": {},
   "outputs": [
    {
     "data": {
      "text/plain": [
       "2.0"
      ]
     },
     "execution_count": 37,
     "metadata": {},
     "output_type": "execute_result"
    }
   ],
   "source": [
    "const lookfrom = Vec3(3, 3, 2)\n",
    "const lookat = Vec3(0, 0, -1)\n",
    "const vup = Vec3(0, 1, 0)\n",
    "const dist_to_focus = length_vector(lookfrom - lookat)\n",
    "const aperture = 2.0"
   ]
  },
  {
   "cell_type": "code",
   "execution_count": 38,
   "metadata": {},
   "outputs": [
    {
     "data": {
      "text/plain": [
       "Camera(Vec3(3.0, 3.0, 2.0), Vec3(-0.7777170036948506, -0.7480920225906305, 0.5258090262854811), Vec3(2.3035260299803317, 0.0, -2.3035260299803317), Vec3(-0.7480920225906307, 1.4961840451812614, -0.7480920225906307), Vec3(0.7071067811865475, 0.0, -0.7071067811865475), Vec3(-0.40824829046386296, 0.8164965809277259, -0.40824829046386296), Vec3(0.5773502691896257, 0.5773502691896257, 0.5773502691896257), 1.0)"
      ]
     },
     "execution_count": 38,
     "metadata": {},
     "output_type": "execute_result"
    }
   ],
   "source": [
    "const cam = Camera(lookfrom, lookat, vup, 20.0, aspect_ratio, aperture, dist_to_focus)"
   ]
  },
  {
   "cell_type": "code",
   "execution_count": 39,
   "metadata": {},
   "outputs": [
    {
     "data": {
      "text/plain": [
       "HittableList(Hittable[Sphere(Vec3(0.0, 0.0, -1.0), 0.5, Lambertian(Vec3(0.1, 0.2, 0.5))), Sphere(Vec3(0.0, -100.5, -1.0), 100.0, Lambertian(Vec3(0.8, 0.8, 0.0))), Sphere(Vec3(1.0, 0.0, -1.0), 0.5, Metal(Vec3(0.8, 0.6, 0.2), 0.3)), Sphere(Vec3(-1.0, 0.0, -1.0), 0.5, Dielectric(1.5)), Sphere(Vec3(-1.0, 0.0, -1.0), -0.45, Dielectric(1.5))])"
      ]
     },
     "execution_count": 39,
     "metadata": {},
     "output_type": "execute_result"
    }
   ],
   "source": [
    "const world = HittableList([\n",
    "        Sphere(Vec3(0, 0, -1), 0.5, Lambertian(Vec3(0.1, 0.2, 0.5))),\n",
    "        Sphere(Vec3(0, -100.5, -1), 100, Lambertian(Vec3(0.8, 0.8, 0))),\n",
    "        Sphere(Vec3(1, 0, -1), 0.5, Metal(Vec3(0.8, 0.6, 0.2), 0.3)),\n",
    "        Sphere(Vec3(-1, 0, -1), 0.5, Dielectric(1.5)),\n",
    "        Sphere(Vec3(-1, 0, -1), -0.45, Dielectric(1.5)),\n",
    "        ])"
   ]
  },
  {
   "cell_type": "code",
   "execution_count": 40,
   "metadata": {},
   "outputs": [
    {
     "data": {
      "text/plain": [
       "ray_color (generic function with 1 method)"
      ]
     },
     "execution_count": 40,
     "metadata": {},
     "output_type": "execute_result"
    }
   ],
   "source": [
    "function ray_color(r::Ray, depth::Int)\n",
    "    if depth <= 0\n",
    "        return Vec3(0, 0, 0)\n",
    "    end\n",
    "    \n",
    "    hr = hit(world, r, 0.001, Inf)\n",
    "    \n",
    "    if hr != nothing\n",
    "        did_scatter, attenuation, scattered = scatter(hr.mat, r, hr)\n",
    "        if did_scatter\n",
    "            attenuation * ray_color(scattered, depth - 1)\n",
    "        else\n",
    "            Vec3(0, 0, 0)\n",
    "        end\n",
    "    else\n",
    "        unit_direction = unit_vector(r.direction)\n",
    "        t = 0.5 * (unit_direction.y + 1)\n",
    "        (1 - t) * Vec3(1, 1, 1) + t * Vec3(0.5, 0.7, 1)\n",
    "    end\n",
    "end"
   ]
  },
  {
   "cell_type": "code",
   "execution_count": 41,
   "metadata": {},
   "outputs": [
    {
     "data": {
      "text/plain": [
       "color (generic function with 1 method)"
      ]
     },
     "execution_count": 41,
     "metadata": {},
     "output_type": "execute_result"
    }
   ],
   "source": [
    "function color(i::Int, j::Int)\n",
    "    c = Vec3(0, 0, 0)\n",
    "    for _ = 1:samples_per_pixel\n",
    "        u = (i + rand()) / image_width\n",
    "        v = (j + rand()) / image_height\n",
    "        r = get_ray(cam, u, v)\n",
    "        c += ray_color(r, max_depth)\n",
    "    end\n",
    "    c /= samples_per_pixel\n",
    "    RGB(sqrt(c.x), sqrt(c.y), sqrt(c.z))\n",
    "end"
   ]
  },
  {
   "cell_type": "code",
   "execution_count": 42,
   "metadata": {},
   "outputs": [
    {
     "data": {
      "text/plain": [
       "render (generic function with 1 method)"
      ]
     },
     "execution_count": 42,
     "metadata": {},
     "output_type": "execute_result"
    }
   ],
   "source": [
    "function render()\n",
    "    [color(i, j) for j in image_height:-1:1, i in 1:image_width]\n",
    "end"
   ]
  },
  {
   "cell_type": "code",
   "execution_count": 43,
   "metadata": {},
   "outputs": [
    {
     "name": "stdout",
     "output_type": "stream",
     "text": [
      "  3.969855 seconds (22.44 M allocations: 1.674 GiB, 4.21% gc time)\n"
     ]
    },
    {
     "data": {
      "image/png": "[encoded data removed]",
      "text/plain": [
       "216×384 Array{RGB{Float64},2} with eltype RGB{Float64}:\n",
       " RGB{Float64}(0.681136,0.773542,0.0)  …  RGB{Float64}(0.681814,0.773901,0.0)\n",
       " RGB{Float64}(0.687734,0.777037,0.0)     RGB{Float64}(0.683762,0.774931,0.0)\n",
       " RGB{Float64}(0.681617,0.772309,0.0)     RGB{Float64}(0.683076,0.773244,0.0)\n",
       " RGB{Float64}(0.685466,0.775834,0.0)     RGB{Float64}(0.681674,0.773827,0.0)\n",
       " RGB{Float64}(0.687442,0.776882,0.0)     RGB{Float64}(0.676879,0.76968,0.0)\n",
       " RGB{Float64}(0.6797,0.772784,0.0)    …  RGB{Float64}(0.680793,0.771755,0.0)\n",
       " RGB{Float64}(0.686116,0.774285,0.0)     RGB{Float64}(0.685768,0.775994,0.0)\n",
       " RGB{Float64}(0.679383,0.772617,0.0)     RGB{Float64}(0.68008,0.772985,0.0)\n",
       " RGB{Float64}(0.684376,0.775256,0.0)     RGB{Float64}(0.686708,0.776493,0.0)\n",
       " RGB{Float64}(0.678437,0.770195,0.0)     RGB{Float64}(0.685087,0.774384,0.0)\n",
       " RGB{Float64}(0.686148,0.774739,0.0)  …  RGB{Float64}(0.676289,0.769824,0.0)\n",
       " RGB{Float64}(0.686692,0.776484,0.0)     RGB{Float64}(0.687644,0.776989,0.0)\n",
       " RGB{Float64}(0.687297,0.776805,0.0)     RGB{Float64}(0.679636,0.771577,0.0)\n",
       " ⋮                                    ⋱  \n",
       " RGB{Float64}(0.677184,0.765531,0.0)     RGB{Float64}(0.655815,0.737064,0.0)\n",
       " RGB{Float64}(0.66854,0.761299,0.0)   …  RGB{Float64}(0.66334,0.747919,0.0)\n",
       " RGB{Float64}(0.667646,0.7603,0.0)       RGB{Float64}(0.668022,0.746728,0.0)\n",
       " RGB{Float64}(0.673265,0.764921,0.0)     RGB{Float64}(0.666918,0.746173,0.0)\n",
       " RGB{Float64}(0.67545,0.767312,0.0)      RGB{Float64}(0.672184,0.752473,0.0)\n",
       " RGB{Float64}(0.666498,0.756312,0.0)     RGB{Float64}(0.664975,0.739053,0.0)\n",
       " RGB{Float64}(0.676306,0.769003,0.0)  …  RGB{Float64}(0.667497,0.743197,0.0)\n",
       " RGB{Float64}(0.677745,0.770174,0.0)     RGB{Float64}(0.664267,0.748622,0.0)\n",
       " RGB{Float64}(0.666314,0.758316,0.0)     RGB{Float64}(0.673329,0.758917,0.0)\n",
       " RGB{Float64}(0.671985,0.762397,0.0)     RGB{Float64}(0.666508,0.749384,0.0)\n",
       " RGB{Float64}(0.676785,0.769658,0.0)     RGB{Float64}(0.664944,0.750365,0.0)\n",
       " RGB{Float64}(0.678599,0.768142,0.0)  …  RGB{Float64}(0.671522,0.748562,0.0)"
      ]
     },
     "execution_count": 43,
     "metadata": {},
     "output_type": "execute_result"
    }
   ],
   "source": [
    "@time render()"
   ]
  }
 ],
 "metadata": {
  "@webio": {
   "lastCommId": null,
   "lastKernelId": null
  },
  "kernelspec": {
   "display_name": "Julia 1.4.1",
   "language": "julia",
   "name": "julia-1.4"
  },
  "language_info": {
   "file_extension": ".jl",
   "mimetype": "application/julia",
   "name": "julia",
   "version": "1.4.1"
  }
 },
 "nbformat": 4,
 "nbformat_minor": 4
}
