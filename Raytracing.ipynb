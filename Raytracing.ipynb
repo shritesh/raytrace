{
 "cells": [
  {
   "cell_type": "markdown",
   "metadata": {},
   "source": [
    "# Ray Tracing in One Weekend"
   ]
  },
  {
   "cell_type": "markdown",
   "metadata": {},
   "source": [
    "[Ray Tracing in One Weekend](https://raytracing.github.io/books/RayTracingInOneWeekend.html) in a Julia Notebook."
   ]
  },
  {
   "cell_type": "markdown",
   "metadata": {},
   "source": [
    "# Vec3"
   ]
  },
  {
   "cell_type": "code",
   "execution_count": 1,
   "metadata": {},
   "outputs": [],
   "source": [
    "struct Vec3\n",
    "    x::Float64\n",
    "    y::Float64\n",
    "    z::Float64\n",
    "end"
   ]
  },
  {
   "cell_type": "code",
   "execution_count": 2,
   "metadata": {},
   "outputs": [],
   "source": [
    "Base.:+(u::Vec3, v::Vec3) = Vec3(u.x + v.x, u.y + v.y, u.z + v.z)"
   ]
  },
  {
   "cell_type": "code",
   "execution_count": 3,
   "metadata": {},
   "outputs": [],
   "source": [
    "Base.:-(v::Vec3) = Vec3(-v.x, -v.y, -v.z)\n",
    "Base.:-(u::Vec3, v::Vec3) = Vec3(u.x - v.x, u.y - v.y, u.z - v.z)"
   ]
  },
  {
   "cell_type": "code",
   "execution_count": 4,
   "metadata": {},
   "outputs": [],
   "source": [
    "Base.:*(u::Vec3, v::Vec3) = Vec3(u.x * v.x, u.y * v.y, u.z * v.z)\n",
    "Base.:*(v::Vec3, t::Number) = Vec3(v.x * t, v.y * t, v.z * t)\n",
    "Base.:*(t::Number, v::Vec3) = Vec3(v.x * t, v.y * t, v.z * t)"
   ]
  },
  {
   "cell_type": "code",
   "execution_count": 5,
   "metadata": {},
   "outputs": [],
   "source": [
    "Base.:/(v::Vec3, t::Number) = Vec3(v.x / t, v.y / t, v.z / t)"
   ]
  },
  {
   "cell_type": "code",
   "execution_count": 6,
   "metadata": {},
   "outputs": [
    {
     "data": {
      "text/plain": [
       "length_squared (generic function with 1 method)"
      ]
     },
     "execution_count": 6,
     "metadata": {},
     "output_type": "execute_result"
    }
   ],
   "source": [
    "length_squared(v::Vec3) = v.x * v.x + v.y * v.y + v.z * v.z"
   ]
  },
  {
   "cell_type": "code",
   "execution_count": 7,
   "metadata": {},
   "outputs": [
    {
     "data": {
      "text/plain": [
       "length_vector (generic function with 1 method)"
      ]
     },
     "execution_count": 7,
     "metadata": {},
     "output_type": "execute_result"
    }
   ],
   "source": [
    "# length(collection) is for number of elements\n",
    "length_vector(v::Vec3) = sqrt(length_squared(v))"
   ]
  },
  {
   "cell_type": "code",
   "execution_count": 8,
   "metadata": {},
   "outputs": [
    {
     "data": {
      "text/plain": [
       "dot (generic function with 1 method)"
      ]
     },
     "execution_count": 8,
     "metadata": {},
     "output_type": "execute_result"
    }
   ],
   "source": [
    "dot(u::Vec3, v::Vec3) = u.x * v.x + u.y * v.y + u.z * v.z"
   ]
  },
  {
   "cell_type": "code",
   "execution_count": 9,
   "metadata": {},
   "outputs": [
    {
     "data": {
      "text/plain": [
       "cross (generic function with 1 method)"
      ]
     },
     "execution_count": 9,
     "metadata": {},
     "output_type": "execute_result"
    }
   ],
   "source": [
    "cross(u::Vec3, v::Vec3) = Vec3(\n",
    "    u.y * v.z - u.z * v.y,\n",
    "    u.z * v.x - u.x * v.z,\n",
    "    u.x * v.y - u.y * v.x\n",
    ")"
   ]
  },
  {
   "cell_type": "code",
   "execution_count": 10,
   "metadata": {},
   "outputs": [
    {
     "data": {
      "text/plain": [
       "unit_vector (generic function with 1 method)"
      ]
     },
     "execution_count": 10,
     "metadata": {},
     "output_type": "execute_result"
    }
   ],
   "source": [
    "unit_vector(v::Vec3) = v / length_vector(v)"
   ]
  },
  {
   "cell_type": "markdown",
   "metadata": {},
   "source": [
    "# Displaying Images"
   ]
  },
  {
   "cell_type": "code",
   "execution_count": 11,
   "metadata": {},
   "outputs": [],
   "source": [
    "using Images"
   ]
  },
  {
   "cell_type": "code",
   "execution_count": 12,
   "metadata": {},
   "outputs": [],
   "source": [
    "const image_width = 256\n",
    "const image_height = 256;"
   ]
  },
  {
   "cell_type": "code",
   "execution_count": 13,
   "metadata": {},
   "outputs": [
    {
     "data": {
      "text/plain": [
       "color (generic function with 1 method)"
      ]
     },
     "execution_count": 13,
     "metadata": {},
     "output_type": "execute_result"
    }
   ],
   "source": [
    "function color(i::Int, j::Int)\n",
    "    pixel_color = Vec3(i / image_width, j / image_height, 0.25)\n",
    "    \n",
    "    RGB(pixel_color.x, pixel_color.y, pixel_color.z)\n",
    "end"
   ]
  },
  {
   "cell_type": "code",
   "execution_count": 14,
   "metadata": {},
   "outputs": [
    {
     "data": {
      "image/png": "[encoded data removed]",
      "text/plain": [
       "256×256 Array{RGB{Float64},2} with eltype RGB{Float64}:\n",
       " RGB{Float64}(0.00390625,1.0,0.25)         …  RGB{Float64}(1.0,1.0,0.25)\n",
       " RGB{Float64}(0.00390625,0.996094,0.25)       RGB{Float64}(1.0,0.996094,0.25)\n",
       " RGB{Float64}(0.00390625,0.992188,0.25)       RGB{Float64}(1.0,0.992188,0.25)\n",
       " RGB{Float64}(0.00390625,0.988281,0.25)       RGB{Float64}(1.0,0.988281,0.25)\n",
       " RGB{Float64}(0.00390625,0.984375,0.25)       RGB{Float64}(1.0,0.984375,0.25)\n",
       " RGB{Float64}(0.00390625,0.980469,0.25)    …  RGB{Float64}(1.0,0.980469,0.25)\n",
       " RGB{Float64}(0.00390625,0.976562,0.25)       RGB{Float64}(1.0,0.976562,0.25)\n",
       " RGB{Float64}(0.00390625,0.972656,0.25)       RGB{Float64}(1.0,0.972656,0.25)\n",
       " RGB{Float64}(0.00390625,0.96875,0.25)        RGB{Float64}(1.0,0.96875,0.25)\n",
       " RGB{Float64}(0.00390625,0.964844,0.25)       RGB{Float64}(1.0,0.964844,0.25)\n",
       " RGB{Float64}(0.00390625,0.960938,0.25)    …  RGB{Float64}(1.0,0.960938,0.25)\n",
       " RGB{Float64}(0.00390625,0.957031,0.25)       RGB{Float64}(1.0,0.957031,0.25)\n",
       " RGB{Float64}(0.00390625,0.953125,0.25)       RGB{Float64}(1.0,0.953125,0.25)\n",
       " ⋮                                         ⋱  ⋮\n",
       " RGB{Float64}(0.00390625,0.046875,0.25)       RGB{Float64}(1.0,0.046875,0.25)\n",
       " RGB{Float64}(0.00390625,0.0429688,0.25)   …  RGB{Float64}(1.0,0.0429688,0.25)\n",
       " RGB{Float64}(0.00390625,0.0390625,0.25)      RGB{Float64}(1.0,0.0390625,0.25)\n",
       " RGB{Float64}(0.00390625,0.0351562,0.25)      RGB{Float64}(1.0,0.0351562,0.25)\n",
       " RGB{Float64}(0.00390625,0.03125,0.25)        RGB{Float64}(1.0,0.03125,0.25)\n",
       " RGB{Float64}(0.00390625,0.0273438,0.25)      RGB{Float64}(1.0,0.0273438,0.25)\n",
       " RGB{Float64}(0.00390625,0.0234375,0.25)   …  RGB{Float64}(1.0,0.0234375,0.25)\n",
       " RGB{Float64}(0.00390625,0.0195312,0.25)      RGB{Float64}(1.0,0.0195312,0.25)\n",
       " RGB{Float64}(0.00390625,0.015625,0.25)       RGB{Float64}(1.0,0.015625,0.25)\n",
       " RGB{Float64}(0.00390625,0.0117188,0.25)      RGB{Float64}(1.0,0.0117188,0.25)\n",
       " RGB{Float64}(0.00390625,0.0078125,0.25)      RGB{Float64}(1.0,0.0078125,0.25)\n",
       " RGB{Float64}(0.00390625,0.00390625,0.25)  …  RGB{Float64}(1.0,0.00390625,0.25)"
      ]
     },
     "execution_count": 14,
     "metadata": {},
     "output_type": "execute_result"
    }
   ],
   "source": [
    "[color(i, j) for j in image_height:-1:1, i in 1:image_width]"
   ]
  }
 ],
 "metadata": {
  "@webio": {
   "lastCommId": null,
   "lastKernelId": null
  },
  "kernelspec": {
   "display_name": "Julia 1.4.1",
   "language": "julia",
   "name": "julia-1.4"
  },
  "language_info": {
   "file_extension": ".jl",
   "mimetype": "application/julia",
   "name": "julia",
   "version": "1.4.1"
  }
 },
 "nbformat": 4,
 "nbformat_minor": 4
}
