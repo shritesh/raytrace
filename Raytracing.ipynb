{
 "cells": [
  {
   "cell_type": "markdown",
   "metadata": {},
   "source": [
    "# Ray Tracing in One Weekend"
   ]
  },
  {
   "cell_type": "markdown",
   "metadata": {},
   "source": [
    "[Ray Tracing in One Weekend](https://raytracing.github.io/books/RayTracingInOneWeekend.html) in a Julia Notebook."
   ]
  },
  {
   "cell_type": "markdown",
   "metadata": {},
   "source": [
    "## Vec3"
   ]
  },
  {
   "cell_type": "code",
   "execution_count": 1,
   "metadata": {},
   "outputs": [],
   "source": [
    "struct Vec3\n",
    "    x::Float64\n",
    "    y::Float64\n",
    "    z::Float64\n",
    "end"
   ]
  },
  {
   "cell_type": "code",
   "execution_count": 2,
   "metadata": {},
   "outputs": [],
   "source": [
    "Base.:+(u::Vec3, v::Vec3) = Vec3(u.x + v.x, u.y + v.y, u.z + v.z)"
   ]
  },
  {
   "cell_type": "code",
   "execution_count": 3,
   "metadata": {},
   "outputs": [],
   "source": [
    "Base.:-(v::Vec3) = Vec3(-v.x, -v.y, -v.z)\n",
    "Base.:-(u::Vec3, v::Vec3) = Vec3(u.x - v.x, u.y - v.y, u.z - v.z)"
   ]
  },
  {
   "cell_type": "code",
   "execution_count": 4,
   "metadata": {},
   "outputs": [],
   "source": [
    "Base.:*(u::Vec3, v::Vec3) = Vec3(u.x * v.x, u.y * v.y, u.z * v.z)\n",
    "Base.:*(v::Vec3, t::Number) = Vec3(v.x * t, v.y * t, v.z * t)\n",
    "Base.:*(t::Number, v::Vec3) = Vec3(v.x * t, v.y * t, v.z * t)"
   ]
  },
  {
   "cell_type": "code",
   "execution_count": 5,
   "metadata": {},
   "outputs": [],
   "source": [
    "Base.:/(v::Vec3, t::Number) = Vec3(v.x / t, v.y / t, v.z / t)"
   ]
  },
  {
   "cell_type": "code",
   "execution_count": 6,
   "metadata": {},
   "outputs": [
    {
     "data": {
      "text/plain": [
       "length_squared (generic function with 1 method)"
      ]
     },
     "execution_count": 6,
     "metadata": {},
     "output_type": "execute_result"
    }
   ],
   "source": [
    "length_squared(v::Vec3) = v.x * v.x + v.y * v.y + v.z * v.z"
   ]
  },
  {
   "cell_type": "code",
   "execution_count": 7,
   "metadata": {},
   "outputs": [
    {
     "data": {
      "text/plain": [
       "length_vector (generic function with 1 method)"
      ]
     },
     "execution_count": 7,
     "metadata": {},
     "output_type": "execute_result"
    }
   ],
   "source": [
    "# length(collection) is for number of elements\n",
    "length_vector(v::Vec3) = sqrt(length_squared(v))"
   ]
  },
  {
   "cell_type": "code",
   "execution_count": 8,
   "metadata": {},
   "outputs": [
    {
     "data": {
      "text/plain": [
       "dot (generic function with 1 method)"
      ]
     },
     "execution_count": 8,
     "metadata": {},
     "output_type": "execute_result"
    }
   ],
   "source": [
    "dot(u::Vec3, v::Vec3) = u.x * v.x + u.y * v.y + u.z * v.z"
   ]
  },
  {
   "cell_type": "code",
   "execution_count": 9,
   "metadata": {},
   "outputs": [
    {
     "data": {
      "text/plain": [
       "cross (generic function with 1 method)"
      ]
     },
     "execution_count": 9,
     "metadata": {},
     "output_type": "execute_result"
    }
   ],
   "source": [
    "cross(u::Vec3, v::Vec3) = Vec3(\n",
    "    u.y * v.z - u.z * v.y,\n",
    "    u.z * v.x - u.x * v.z,\n",
    "    u.x * v.y - u.y * v.x\n",
    ")"
   ]
  },
  {
   "cell_type": "code",
   "execution_count": 10,
   "metadata": {},
   "outputs": [
    {
     "data": {
      "text/plain": [
       "unit_vector (generic function with 1 method)"
      ]
     },
     "execution_count": 10,
     "metadata": {},
     "output_type": "execute_result"
    }
   ],
   "source": [
    "unit_vector(v::Vec3) = v / length_vector(v)"
   ]
  },
  {
   "cell_type": "markdown",
   "metadata": {},
   "source": [
    "## Rays"
   ]
  },
  {
   "cell_type": "code",
   "execution_count": 11,
   "metadata": {},
   "outputs": [],
   "source": [
    "struct Ray\n",
    "    origin::Vec3\n",
    "    direction::Vec3\n",
    "end"
   ]
  },
  {
   "cell_type": "code",
   "execution_count": 12,
   "metadata": {},
   "outputs": [
    {
     "data": {
      "text/plain": [
       "at (generic function with 1 method)"
      ]
     },
     "execution_count": 12,
     "metadata": {},
     "output_type": "execute_result"
    }
   ],
   "source": [
    "at(ray::Ray, t::Number) = ray.origin + t * ray.direction"
   ]
  },
  {
   "cell_type": "markdown",
   "metadata": {},
   "source": [
    "## Image"
   ]
  },
  {
   "cell_type": "code",
   "execution_count": 13,
   "metadata": {},
   "outputs": [],
   "source": [
    "using Images"
   ]
  },
  {
   "cell_type": "code",
   "execution_count": 14,
   "metadata": {},
   "outputs": [
    {
     "data": {
      "text/plain": [
       "ray_color (generic function with 1 method)"
      ]
     },
     "execution_count": 14,
     "metadata": {},
     "output_type": "execute_result"
    }
   ],
   "source": [
    "function ray_color(r::Ray)\n",
    "    unit_direction = unit_vector(r.direction)\n",
    "    t = 0.5 * (unit_direction.y + 1)\n",
    "    (1 - t) * Vec3(1, 1, 1) + t * Vec3(0.5, 0.7, 1.0)\n",
    "end"
   ]
  },
  {
   "cell_type": "code",
   "execution_count": 15,
   "metadata": {},
   "outputs": [],
   "source": [
    "const aspect_ratio = 16 / 9\n",
    "const image_width = 384\n",
    "const image_height = Int(image_width ÷ aspect_ratio);"
   ]
  },
  {
   "cell_type": "code",
   "execution_count": 16,
   "metadata": {},
   "outputs": [],
   "source": [
    "const origin = Vec3(0, 0, 0)\n",
    "const horizontal = Vec3(4, 0, 0)\n",
    "const vertical = Vec3(0, 2.25, 0)\n",
    "const lower_left_corner = origin - horizontal / 2 - vertical / 2 - Vec3(0, 0, 1);"
   ]
  },
  {
   "cell_type": "code",
   "execution_count": 20,
   "metadata": {},
   "outputs": [
    {
     "data": {
      "text/plain": [
       "color (generic function with 1 method)"
      ]
     },
     "execution_count": 20,
     "metadata": {},
     "output_type": "execute_result"
    }
   ],
   "source": [
    "function color(i::Int, j::Int)\n",
    "    u = i / image_width   \n",
    "    v = i / image_height\n",
    "    \n",
    "    r = Ray(origin, lower_left_corner + u * horizontal + v * vertical)\n",
    "    pixel_color = ray_color(r)\n",
    "    RGB(pixel_color.x, pixel_color.y, pixel_color.z)\n",
    "end"
   ]
  },
  {
   "cell_type": "code",
   "execution_count": 21,
   "metadata": {},
   "outputs": [
    {
     "data": {
      "text/plain": [
       "render (generic function with 1 method)"
      ]
     },
     "execution_count": 21,
     "metadata": {},
     "output_type": "execute_result"
    }
   ],
   "source": [
    "function render()\n",
    "    [color(j, i) for j in image_height:-1:1, i in 1:image_width]\n",
    "end"
   ]
  },
  {
   "cell_type": "code",
   "execution_count": 26,
   "metadata": {},
   "outputs": [
    {
     "name": "stdout",
     "output_type": "stream",
     "text": [
      "  0.002342 seconds (4 allocations: 1.899 MiB)\n"
     ]
    },
    {
     "data": {
      "image/png": "[encoded data removed]",
      "text/plain": [
       "216×384 Array{RGB{Float64},2} with eltype RGB{Float64}:\n",
       " RGB{Float64}(0.565673,0.739404,1.0)  …  RGB{Float64}(0.565673,0.739404,1.0)\n",
       " RGB{Float64}(0.566254,0.739753,1.0)     RGB{Float64}(0.566254,0.739753,1.0)\n",
       " RGB{Float64}(0.566853,0.740112,1.0)     RGB{Float64}(0.566853,0.740112,1.0)\n",
       " RGB{Float64}(0.567471,0.740482,1.0)     RGB{Float64}(0.567471,0.740482,1.0)\n",
       " RGB{Float64}(0.568106,0.740864,1.0)     RGB{Float64}(0.568106,0.740864,1.0)\n",
       " RGB{Float64}(0.568761,0.741256,1.0)  …  RGB{Float64}(0.568761,0.741256,1.0)\n",
       " RGB{Float64}(0.569435,0.741661,1.0)     RGB{Float64}(0.569435,0.741661,1.0)\n",
       " RGB{Float64}(0.570129,0.742077,1.0)     RGB{Float64}(0.570129,0.742077,1.0)\n",
       " RGB{Float64}(0.570843,0.742506,1.0)     RGB{Float64}(0.570843,0.742506,1.0)\n",
       " RGB{Float64}(0.571577,0.742946,1.0)     RGB{Float64}(0.571577,0.742946,1.0)\n",
       " RGB{Float64}(0.572333,0.7434,1.0)    …  RGB{Float64}(0.572333,0.7434,1.0)\n",
       " RGB{Float64}(0.57311,0.743866,1.0)      RGB{Float64}(0.57311,0.743866,1.0)\n",
       " RGB{Float64}(0.57391,0.744346,1.0)      RGB{Float64}(0.57391,0.744346,1.0)\n",
       " ⋮                                    ⋱  \n",
       " RGB{Float64}(0.856449,0.91387,1.0)      RGB{Float64}(0.856449,0.91387,1.0)\n",
       " RGB{Float64}(0.856977,0.914186,1.0)  …  RGB{Float64}(0.856977,0.914186,1.0)\n",
       " RGB{Float64}(0.857498,0.914499,1.0)     RGB{Float64}(0.857498,0.914499,1.0)\n",
       " RGB{Float64}(0.858012,0.914807,1.0)     RGB{Float64}(0.858012,0.914807,1.0)\n",
       " RGB{Float64}(0.858519,0.915112,1.0)     RGB{Float64}(0.858519,0.915112,1.0)\n",
       " RGB{Float64}(0.859021,0.915412,1.0)     RGB{Float64}(0.859021,0.915412,1.0)\n",
       " RGB{Float64}(0.859516,0.915709,1.0)  …  RGB{Float64}(0.859516,0.915709,1.0)\n",
       " RGB{Float64}(0.860005,0.916003,1.0)     RGB{Float64}(0.860005,0.916003,1.0)\n",
       " RGB{Float64}(0.860487,0.916292,1.0)     RGB{Float64}(0.860487,0.916292,1.0)\n",
       " RGB{Float64}(0.860964,0.916578,1.0)     RGB{Float64}(0.860964,0.916578,1.0)\n",
       " RGB{Float64}(0.861435,0.916861,1.0)     RGB{Float64}(0.861435,0.916861,1.0)\n",
       " RGB{Float64}(0.8619,0.91714,1.0)     …  RGB{Float64}(0.8619,0.91714,1.0)"
      ]
     },
     "execution_count": 26,
     "metadata": {},
     "output_type": "execute_result"
    }
   ],
   "source": [
    "@time render()"
   ]
  }
 ],
 "metadata": {
  "@webio": {
   "lastCommId": null,
   "lastKernelId": null
  },
  "kernelspec": {
   "display_name": "Julia 1.4.1",
   "language": "julia",
   "name": "julia-1.4"
  },
  "language_info": {
   "file_extension": ".jl",
   "mimetype": "application/julia",
   "name": "julia",
   "version": "1.4.1"
  }
 },
 "nbformat": 4,
 "nbformat_minor": 4
}
