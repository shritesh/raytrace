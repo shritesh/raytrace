{
 "cells": [
  {
   "cell_type": "code",
   "execution_count": 1,
   "metadata": {},
   "outputs": [],
   "source": [
    "using Images, LinearAlgebra"
   ]
  },
  {
   "cell_type": "markdown",
   "metadata": {},
   "source": [
    "# 2. Output an Image"
   ]
  },
  {
   "cell_type": "code",
   "execution_count": 2,
   "metadata": {},
   "outputs": [
    {
     "data": {
      "text/plain": [
       "(200, 100)"
      ]
     },
     "execution_count": 2,
     "metadata": {},
     "output_type": "execute_result"
    }
   ],
   "source": [
    "(image_width, image_height) = (200, 100)"
   ]
  },
  {
   "cell_type": "code",
   "execution_count": 3,
   "metadata": {},
   "outputs": [
    {
     "data": {
      "image/png": "[encoded data removed]",
      "text/plain": [
       "100×200 Array{RGB{Float64},2} with eltype RGB{Float64}:\n",
       " RGB{Float64}(0.005,1.0,0.2)   …  RGB{Float64}(1.0,1.0,0.2)\n",
       " RGB{Float64}(0.005,0.99,0.2)     RGB{Float64}(1.0,0.99,0.2)\n",
       " RGB{Float64}(0.005,0.98,0.2)     RGB{Float64}(1.0,0.98,0.2)\n",
       " RGB{Float64}(0.005,0.97,0.2)     RGB{Float64}(1.0,0.97,0.2)\n",
       " RGB{Float64}(0.005,0.96,0.2)     RGB{Float64}(1.0,0.96,0.2)\n",
       " RGB{Float64}(0.005,0.95,0.2)  …  RGB{Float64}(1.0,0.95,0.2)\n",
       " RGB{Float64}(0.005,0.94,0.2)     RGB{Float64}(1.0,0.94,0.2)\n",
       " RGB{Float64}(0.005,0.93,0.2)     RGB{Float64}(1.0,0.93,0.2)\n",
       " RGB{Float64}(0.005,0.92,0.2)     RGB{Float64}(1.0,0.92,0.2)\n",
       " RGB{Float64}(0.005,0.91,0.2)     RGB{Float64}(1.0,0.91,0.2)\n",
       " RGB{Float64}(0.005,0.9,0.2)   …  RGB{Float64}(1.0,0.9,0.2)\n",
       " RGB{Float64}(0.005,0.89,0.2)     RGB{Float64}(1.0,0.89,0.2)\n",
       " RGB{Float64}(0.005,0.88,0.2)     RGB{Float64}(1.0,0.88,0.2)\n",
       " ⋮                             ⋱  \n",
       " RGB{Float64}(0.005,0.12,0.2)     RGB{Float64}(1.0,0.12,0.2)\n",
       " RGB{Float64}(0.005,0.11,0.2)     RGB{Float64}(1.0,0.11,0.2)\n",
       " RGB{Float64}(0.005,0.1,0.2)   …  RGB{Float64}(1.0,0.1,0.2)\n",
       " RGB{Float64}(0.005,0.09,0.2)     RGB{Float64}(1.0,0.09,0.2)\n",
       " RGB{Float64}(0.005,0.08,0.2)     RGB{Float64}(1.0,0.08,0.2)\n",
       " RGB{Float64}(0.005,0.07,0.2)     RGB{Float64}(1.0,0.07,0.2)\n",
       " RGB{Float64}(0.005,0.06,0.2)     RGB{Float64}(1.0,0.06,0.2)\n",
       " RGB{Float64}(0.005,0.05,0.2)  …  RGB{Float64}(1.0,0.05,0.2)\n",
       " RGB{Float64}(0.005,0.04,0.2)     RGB{Float64}(1.0,0.04,0.2)\n",
       " RGB{Float64}(0.005,0.03,0.2)     RGB{Float64}(1.0,0.03,0.2)\n",
       " RGB{Float64}(0.005,0.02,0.2)     RGB{Float64}(1.0,0.02,0.2)\n",
       " RGB{Float64}(0.005,0.01,0.2)     RGB{Float64}(1.0,0.01,0.2)"
      ]
     },
     "execution_count": 3,
     "metadata": {},
     "output_type": "execute_result"
    }
   ],
   "source": [
    "[RGB(i / image_width, j / image_height, 0.2) for j in image_height:-1:1, i in 1:image_width]"
   ]
  },
  {
   "cell_type": "markdown",
   "metadata": {},
   "source": [
    "# 3. The Vec3 ~~Class~~ Array"
   ]
  },
  {
   "cell_type": "code",
   "execution_count": 4,
   "metadata": {},
   "outputs": [],
   "source": [
    "x(vec) = vec[1]\n",
    "y(vec) = vec[2]\n",
    "z(vec) = vec[3];"
   ]
  },
  {
   "cell_type": "code",
   "execution_count": 5,
   "metadata": {},
   "outputs": [
    {
     "data": {
      "text/plain": [
       "color (generic function with 1 method)"
      ]
     },
     "execution_count": 5,
     "metadata": {},
     "output_type": "execute_result"
    }
   ],
   "source": [
    "color(i,j) = [i / image_width, j / image_height, 0.2]"
   ]
  },
  {
   "cell_type": "code",
   "execution_count": 6,
   "metadata": {
    "scrolled": true
   },
   "outputs": [
    {
     "data": {
      "image/png": "[encoded data removed]",
      "text/plain": [
       "100×200 Array{RGB{Float64},2} with eltype RGB{Float64}:\n",
       " RGB{Float64}(0.005,1.0,0.2)   …  RGB{Float64}(1.0,1.0,0.2)\n",
       " RGB{Float64}(0.005,0.99,0.2)     RGB{Float64}(1.0,0.99,0.2)\n",
       " RGB{Float64}(0.005,0.98,0.2)     RGB{Float64}(1.0,0.98,0.2)\n",
       " RGB{Float64}(0.005,0.97,0.2)     RGB{Float64}(1.0,0.97,0.2)\n",
       " RGB{Float64}(0.005,0.96,0.2)     RGB{Float64}(1.0,0.96,0.2)\n",
       " RGB{Float64}(0.005,0.95,0.2)  …  RGB{Float64}(1.0,0.95,0.2)\n",
       " RGB{Float64}(0.005,0.94,0.2)     RGB{Float64}(1.0,0.94,0.2)\n",
       " RGB{Float64}(0.005,0.93,0.2)     RGB{Float64}(1.0,0.93,0.2)\n",
       " RGB{Float64}(0.005,0.92,0.2)     RGB{Float64}(1.0,0.92,0.2)\n",
       " RGB{Float64}(0.005,0.91,0.2)     RGB{Float64}(1.0,0.91,0.2)\n",
       " RGB{Float64}(0.005,0.9,0.2)   …  RGB{Float64}(1.0,0.9,0.2)\n",
       " RGB{Float64}(0.005,0.89,0.2)     RGB{Float64}(1.0,0.89,0.2)\n",
       " RGB{Float64}(0.005,0.88,0.2)     RGB{Float64}(1.0,0.88,0.2)\n",
       " ⋮                             ⋱  \n",
       " RGB{Float64}(0.005,0.12,0.2)     RGB{Float64}(1.0,0.12,0.2)\n",
       " RGB{Float64}(0.005,0.11,0.2)     RGB{Float64}(1.0,0.11,0.2)\n",
       " RGB{Float64}(0.005,0.1,0.2)   …  RGB{Float64}(1.0,0.1,0.2)\n",
       " RGB{Float64}(0.005,0.09,0.2)     RGB{Float64}(1.0,0.09,0.2)\n",
       " RGB{Float64}(0.005,0.08,0.2)     RGB{Float64}(1.0,0.08,0.2)\n",
       " RGB{Float64}(0.005,0.07,0.2)     RGB{Float64}(1.0,0.07,0.2)\n",
       " RGB{Float64}(0.005,0.06,0.2)     RGB{Float64}(1.0,0.06,0.2)\n",
       " RGB{Float64}(0.005,0.05,0.2)  …  RGB{Float64}(1.0,0.05,0.2)\n",
       " RGB{Float64}(0.005,0.04,0.2)     RGB{Float64}(1.0,0.04,0.2)\n",
       " RGB{Float64}(0.005,0.03,0.2)     RGB{Float64}(1.0,0.03,0.2)\n",
       " RGB{Float64}(0.005,0.02,0.2)     RGB{Float64}(1.0,0.02,0.2)\n",
       " RGB{Float64}(0.005,0.01,0.2)     RGB{Float64}(1.0,0.01,0.2)"
      ]
     },
     "execution_count": 6,
     "metadata": {},
     "output_type": "execute_result"
    }
   ],
   "source": [
    "render() = [RGB(color(i,j)...) for j in image_height:-1:1, i in 1:image_width]\n",
    "render()"
   ]
  },
  {
   "cell_type": "markdown",
   "metadata": {},
   "source": [
    "# 4. Rays, a Simple Camera, and Background"
   ]
  },
  {
   "cell_type": "code",
   "execution_count": 7,
   "metadata": {},
   "outputs": [
    {
     "data": {
      "text/plain": [
       "Main.RayM"
      ]
     },
     "execution_count": 7,
     "metadata": {},
     "output_type": "execute_result"
    }
   ],
   "source": [
    "module RayM\n",
    "struct Ray \n",
    "    origin\n",
    "    direction\n",
    "end\n",
    "end"
   ]
  },
  {
   "cell_type": "code",
   "execution_count": 8,
   "metadata": {},
   "outputs": [
    {
     "data": {
      "text/plain": [
       "at (generic function with 1 method)"
      ]
     },
     "execution_count": 8,
     "metadata": {},
     "output_type": "execute_result"
    }
   ],
   "source": [
    "at(ray::RayM.Ray, t) = ray.origin + t * ray.direction"
   ]
  },
  {
   "cell_type": "code",
   "execution_count": 9,
   "metadata": {},
   "outputs": [
    {
     "data": {
      "text/plain": [
       "color (generic function with 2 methods)"
      ]
     },
     "execution_count": 9,
     "metadata": {},
     "output_type": "execute_result"
    }
   ],
   "source": [
    "function color(ray::RayM.Ray)\n",
    "    unit_direction = normalize(ray.direction)\n",
    "    t = 0.5 * (y(unit_direction) + 1)\n",
    "    (1 - t) * [1, 1, 1] + t * [0.5, 0.7, 1]\n",
    "end"
   ]
  },
  {
   "cell_type": "code",
   "execution_count": 10,
   "metadata": {},
   "outputs": [],
   "source": [
    "lower_left_corner = [-2, -1, -1]\n",
    "horizontal = [4, 0, 0]\n",
    "vertical = [0, 2, 0]\n",
    "origin = [0, 0, 0];"
   ]
  },
  {
   "cell_type": "code",
   "execution_count": 11,
   "metadata": {},
   "outputs": [
    {
     "data": {
      "text/plain": [
       "color (generic function with 2 methods)"
      ]
     },
     "execution_count": 11,
     "metadata": {},
     "output_type": "execute_result"
    }
   ],
   "source": [
    "function color(i, j) \n",
    "    u = i / image_width\n",
    "    v = j / image_height\n",
    "    r = RayM.Ray(origin, lower_left_corner + u * horizontal + v * vertical)\n",
    "    color(r)\n",
    "end"
   ]
  },
  {
   "cell_type": "code",
   "execution_count": 12,
   "metadata": {},
   "outputs": [
    {
     "data": {
      "image/png": "[encoded data removed]",
      "text/plain": [
       "100×200 Array{RGB{Float64},2} with eltype RGB{Float64}:\n",
       " RGB{Float64}(0.647254,0.788352,1.0)  …  RGB{Float64}(0.647938,0.788763,1.0)\n",
       " RGB{Float64}(0.648971,0.789382,1.0)     RGB{Float64}(0.649647,0.789788,1.0)\n",
       " RGB{Float64}(0.650704,0.790423,1.0)     RGB{Float64}(0.651374,0.790824,1.0)\n",
       " RGB{Float64}(0.652455,0.791473,1.0)     RGB{Float64}(0.653117,0.79187,1.0)\n",
       " RGB{Float64}(0.654223,0.792534,1.0)     RGB{Float64}(0.654877,0.792926,1.0)\n",
       " RGB{Float64}(0.656008,0.793605,1.0)  …  RGB{Float64}(0.656654,0.793993,1.0)\n",
       " RGB{Float64}(0.65781,0.794686,1.0)      RGB{Float64}(0.658448,0.795069,1.0)\n",
       " RGB{Float64}(0.659629,0.795777,1.0)     RGB{Float64}(0.660258,0.796155,1.0)\n",
       " RGB{Float64}(0.661464,0.796878,1.0)     RGB{Float64}(0.662084,0.79725,1.0)\n",
       " RGB{Float64}(0.663316,0.79799,1.0)      RGB{Float64}(0.663926,0.798356,1.0)\n",
       " RGB{Float64}(0.665184,0.79911,1.0)   …  RGB{Float64}(0.665785,0.799471,1.0)\n",
       " RGB{Float64}(0.667069,0.800241,1.0)     RGB{Float64}(0.667659,0.800596,1.0)\n",
       " RGB{Float64}(0.668969,0.801381,1.0)     RGB{Float64}(0.669549,0.80173,1.0)\n",
       " ⋮                                    ⋱  \n",
       " RGB{Float64}(0.831031,0.898619,1.0)     RGB{Float64}(0.830451,0.89827,1.0)\n",
       " RGB{Float64}(0.832931,0.899759,1.0)     RGB{Float64}(0.832341,0.899404,1.0)\n",
       " RGB{Float64}(0.834816,0.90089,1.0)   …  RGB{Float64}(0.834215,0.900529,1.0)\n",
       " RGB{Float64}(0.836684,0.90201,1.0)      RGB{Float64}(0.836074,0.901644,1.0)\n",
       " RGB{Float64}(0.838536,0.903122,1.0)     RGB{Float64}(0.837916,0.90275,1.0)\n",
       " RGB{Float64}(0.840371,0.904223,1.0)     RGB{Float64}(0.839742,0.903845,1.0)\n",
       " RGB{Float64}(0.84219,0.905314,1.0)      RGB{Float64}(0.841552,0.904931,1.0)\n",
       " RGB{Float64}(0.843992,0.906395,1.0)  …  RGB{Float64}(0.843346,0.906007,1.0)\n",
       " RGB{Float64}(0.845777,0.907466,1.0)     RGB{Float64}(0.845123,0.907074,1.0)\n",
       " RGB{Float64}(0.847545,0.908527,1.0)     RGB{Float64}(0.846883,0.90813,1.0)\n",
       " RGB{Float64}(0.849296,0.909577,1.0)     RGB{Float64}(0.848626,0.909176,1.0)\n",
       " RGB{Float64}(0.851029,0.910618,1.0)     RGB{Float64}(0.850353,0.910212,1.0)"
      ]
     },
     "execution_count": 12,
     "metadata": {},
     "output_type": "execute_result"
    }
   ],
   "source": [
    "render()"
   ]
  },
  {
   "cell_type": "markdown",
   "metadata": {},
   "source": [
    "# 5. Adding a Sphere"
   ]
  },
  {
   "cell_type": "code",
   "execution_count": 13,
   "metadata": {},
   "outputs": [
    {
     "data": {
      "text/plain": [
       "hit_sphere (generic function with 1 method)"
      ]
     },
     "execution_count": 13,
     "metadata": {},
     "output_type": "execute_result"
    }
   ],
   "source": [
    "function hit_sphere(center, radius, r)\n",
    "    oc = r.origin - center\n",
    "    a = dot(r.direction, r.direction)\n",
    "    b = 2 * dot(oc, r.direction)\n",
    "    c = dot(oc, oc) - radius * radius\n",
    "    discriminant = b * b - 4 * a * c\n",
    "    discriminant > 0\n",
    "end"
   ]
  },
  {
   "cell_type": "code",
   "execution_count": 14,
   "metadata": {},
   "outputs": [
    {
     "data": {
      "text/plain": [
       "color (generic function with 2 methods)"
      ]
     },
     "execution_count": 14,
     "metadata": {},
     "output_type": "execute_result"
    }
   ],
   "source": [
    "function color(r::RayM.Ray)\n",
    "    if hit_sphere([0, 0, -1], 0.5, r)\n",
    "        return [1, 0, 0]\n",
    "    end\n",
    "    unit_direction = normalize(r.direction)\n",
    "    t = 0.5 * (y(unit_direction) + 1)\n",
    "    (1 - t) * [1, 1, 1] + t * [0.5, 0.7, 1]\n",
    "end"
   ]
  },
  {
   "cell_type": "code",
   "execution_count": 15,
   "metadata": {},
   "outputs": [
    {
     "data": {
      "image/png": "[encoded data removed]",
      "text/plain": [
       "100×200 Array{RGB,2} with eltype RGB:\n",
       " RGB{Float64}(0.647254,0.788352,1.0)  …  RGB{Float64}(0.647938,0.788763,1.0)\n",
       " RGB{Float64}(0.648971,0.789382,1.0)     RGB{Float64}(0.649647,0.789788,1.0)\n",
       " RGB{Float64}(0.650704,0.790423,1.0)     RGB{Float64}(0.651374,0.790824,1.0)\n",
       " RGB{Float64}(0.652455,0.791473,1.0)     RGB{Float64}(0.653117,0.79187,1.0)\n",
       " RGB{Float64}(0.654223,0.792534,1.0)     RGB{Float64}(0.654877,0.792926,1.0)\n",
       " RGB{Float64}(0.656008,0.793605,1.0)  …  RGB{Float64}(0.656654,0.793993,1.0)\n",
       " RGB{Float64}(0.65781,0.794686,1.0)      RGB{Float64}(0.658448,0.795069,1.0)\n",
       " RGB{Float64}(0.659629,0.795777,1.0)     RGB{Float64}(0.660258,0.796155,1.0)\n",
       " RGB{Float64}(0.661464,0.796878,1.0)     RGB{Float64}(0.662084,0.79725,1.0)\n",
       " RGB{Float64}(0.663316,0.79799,1.0)      RGB{Float64}(0.663926,0.798356,1.0)\n",
       " RGB{Float64}(0.665184,0.79911,1.0)   …  RGB{Float64}(0.665785,0.799471,1.0)\n",
       " RGB{Float64}(0.667069,0.800241,1.0)     RGB{Float64}(0.667659,0.800596,1.0)\n",
       " RGB{Float64}(0.668969,0.801381,1.0)     RGB{Float64}(0.669549,0.80173,1.0)\n",
       " ⋮                                    ⋱  \n",
       " RGB{Float64}(0.831031,0.898619,1.0)     RGB{Float64}(0.830451,0.89827,1.0)\n",
       " RGB{Float64}(0.832931,0.899759,1.0)     RGB{Float64}(0.832341,0.899404,1.0)\n",
       " RGB{Float64}(0.834816,0.90089,1.0)   …  RGB{Float64}(0.834215,0.900529,1.0)\n",
       " RGB{Float64}(0.836684,0.90201,1.0)      RGB{Float64}(0.836074,0.901644,1.0)\n",
       " RGB{Float64}(0.838536,0.903122,1.0)     RGB{Float64}(0.837916,0.90275,1.0)\n",
       " RGB{Float64}(0.840371,0.904223,1.0)     RGB{Float64}(0.839742,0.903845,1.0)\n",
       " RGB{Float64}(0.84219,0.905314,1.0)      RGB{Float64}(0.841552,0.904931,1.0)\n",
       " RGB{Float64}(0.843992,0.906395,1.0)  …  RGB{Float64}(0.843346,0.906007,1.0)\n",
       " RGB{Float64}(0.845777,0.907466,1.0)     RGB{Float64}(0.845123,0.907074,1.0)\n",
       " RGB{Float64}(0.847545,0.908527,1.0)     RGB{Float64}(0.846883,0.90813,1.0)\n",
       " RGB{Float64}(0.849296,0.909577,1.0)     RGB{Float64}(0.848626,0.909176,1.0)\n",
       " RGB{Float64}(0.851029,0.910618,1.0)     RGB{Float64}(0.850353,0.910212,1.0)"
      ]
     },
     "execution_count": 15,
     "metadata": {},
     "output_type": "execute_result"
    }
   ],
   "source": [
    "render()"
   ]
  },
  {
   "cell_type": "markdown",
   "metadata": {},
   "source": [
    "# 6. Surface Normals and Multiple Objects"
   ]
  },
  {
   "cell_type": "code",
   "execution_count": 16,
   "metadata": {},
   "outputs": [
    {
     "data": {
      "text/plain": [
       "hit_sphere (generic function with 1 method)"
      ]
     },
     "execution_count": 16,
     "metadata": {},
     "output_type": "execute_result"
    }
   ],
   "source": [
    "function hit_sphere(center, radius, r)\n",
    "    oc = r.origin - center\n",
    "    a = dot(r.direction, r.direction)\n",
    "    b = 2 * dot(oc, r.direction)\n",
    "    c = dot(oc, oc) - radius * radius\n",
    "    discriminant = b * b - 4 * a * c\n",
    "    if discriminant < 0\n",
    "        -1\n",
    "    else\n",
    "        (-b - sqrt(discriminant)) / (2 * a)\n",
    "    end\n",
    "end"
   ]
  },
  {
   "cell_type": "code",
   "execution_count": 17,
   "metadata": {},
   "outputs": [
    {
     "data": {
      "text/plain": [
       "color (generic function with 2 methods)"
      ]
     },
     "execution_count": 17,
     "metadata": {},
     "output_type": "execute_result"
    }
   ],
   "source": [
    "function color(r::RayM.Ray)\n",
    "    t = hit_sphere([0, 0, -1], 0.5, r)\n",
    "    if t > 0\n",
    "        n = normalize(at(r, t) - [0, 0, -1])\n",
    "        return 0.5 * (n .+ 1)\n",
    "    end\n",
    "    unit_direction = normalize(r.direction)\n",
    "    t = 0.5 * (y(unit_direction) + 1)\n",
    "    (1 - t) * [1, 1, 1] + t * [0.5, 0.7, 1]\n",
    "end"
   ]
  },
  {
   "cell_type": "code",
   "execution_count": 18,
   "metadata": {},
   "outputs": [
    {
     "data": {
      "image/png": "[encoded data removed]",
      "text/plain": [
       "100×200 Array{RGB{Float64},2} with eltype RGB{Float64}:\n",
       " RGB{Float64}(0.647254,0.788352,1.0)  …  RGB{Float64}(0.647938,0.788763,1.0)\n",
       " RGB{Float64}(0.648971,0.789382,1.0)     RGB{Float64}(0.649647,0.789788,1.0)\n",
       " RGB{Float64}(0.650704,0.790423,1.0)     RGB{Float64}(0.651374,0.790824,1.0)\n",
       " RGB{Float64}(0.652455,0.791473,1.0)     RGB{Float64}(0.653117,0.79187,1.0)\n",
       " RGB{Float64}(0.654223,0.792534,1.0)     RGB{Float64}(0.654877,0.792926,1.0)\n",
       " RGB{Float64}(0.656008,0.793605,1.0)  …  RGB{Float64}(0.656654,0.793993,1.0)\n",
       " RGB{Float64}(0.65781,0.794686,1.0)      RGB{Float64}(0.658448,0.795069,1.0)\n",
       " RGB{Float64}(0.659629,0.795777,1.0)     RGB{Float64}(0.660258,0.796155,1.0)\n",
       " RGB{Float64}(0.661464,0.796878,1.0)     RGB{Float64}(0.662084,0.79725,1.0)\n",
       " RGB{Float64}(0.663316,0.79799,1.0)      RGB{Float64}(0.663926,0.798356,1.0)\n",
       " RGB{Float64}(0.665184,0.79911,1.0)   …  RGB{Float64}(0.665785,0.799471,1.0)\n",
       " RGB{Float64}(0.667069,0.800241,1.0)     RGB{Float64}(0.667659,0.800596,1.0)\n",
       " RGB{Float64}(0.668969,0.801381,1.0)     RGB{Float64}(0.669549,0.80173,1.0)\n",
       " ⋮                                    ⋱  \n",
       " RGB{Float64}(0.831031,0.898619,1.0)     RGB{Float64}(0.830451,0.89827,1.0)\n",
       " RGB{Float64}(0.832931,0.899759,1.0)     RGB{Float64}(0.832341,0.899404,1.0)\n",
       " RGB{Float64}(0.834816,0.90089,1.0)   …  RGB{Float64}(0.834215,0.900529,1.0)\n",
       " RGB{Float64}(0.836684,0.90201,1.0)      RGB{Float64}(0.836074,0.901644,1.0)\n",
       " RGB{Float64}(0.838536,0.903122,1.0)     RGB{Float64}(0.837916,0.90275,1.0)\n",
       " RGB{Float64}(0.840371,0.904223,1.0)     RGB{Float64}(0.839742,0.903845,1.0)\n",
       " RGB{Float64}(0.84219,0.905314,1.0)      RGB{Float64}(0.841552,0.904931,1.0)\n",
       " RGB{Float64}(0.843992,0.906395,1.0)  …  RGB{Float64}(0.843346,0.906007,1.0)\n",
       " RGB{Float64}(0.845777,0.907466,1.0)     RGB{Float64}(0.845123,0.907074,1.0)\n",
       " RGB{Float64}(0.847545,0.908527,1.0)     RGB{Float64}(0.846883,0.90813,1.0)\n",
       " RGB{Float64}(0.849296,0.909577,1.0)     RGB{Float64}(0.848626,0.909176,1.0)\n",
       " RGB{Float64}(0.851029,0.910618,1.0)     RGB{Float64}(0.850353,0.910212,1.0)"
      ]
     },
     "execution_count": 18,
     "metadata": {},
     "output_type": "execute_result"
    }
   ],
   "source": [
    "render()"
   ]
  },
  {
   "cell_type": "code",
   "execution_count": 19,
   "metadata": {},
   "outputs": [
    {
     "data": {
      "text/plain": [
       "hit_sphere (generic function with 1 method)"
      ]
     },
     "execution_count": 19,
     "metadata": {},
     "output_type": "execute_result"
    }
   ],
   "source": [
    "function hit_sphere(center, radius, r)\n",
    "    oc = r.origin - center\n",
    "    a = norm(r.direction)^2\n",
    "    half_b = dot(oc, r.direction)\n",
    "    c = norm(oc)^2 - radius * radius\n",
    "    discriminant = half_b * half_b - a * c\n",
    "    \n",
    "    if discriminant < 0\n",
    "        -1\n",
    "    else\n",
    "        (-half_b - sqrt(discriminant)) / a\n",
    "    end\n",
    "end"
   ]
  },
  {
   "cell_type": "code",
   "execution_count": 20,
   "metadata": {},
   "outputs": [
    {
     "data": {
      "image/png": "[encoded data removed]",
      "text/plain": [
       "100×200 Array{RGB{Float64},2} with eltype RGB{Float64}:\n",
       " RGB{Float64}(0.647254,0.788352,1.0)  …  RGB{Float64}(0.647938,0.788763,1.0)\n",
       " RGB{Float64}(0.648971,0.789382,1.0)     RGB{Float64}(0.649647,0.789788,1.0)\n",
       " RGB{Float64}(0.650704,0.790423,1.0)     RGB{Float64}(0.651374,0.790824,1.0)\n",
       " RGB{Float64}(0.652455,0.791473,1.0)     RGB{Float64}(0.653117,0.79187,1.0)\n",
       " RGB{Float64}(0.654223,0.792534,1.0)     RGB{Float64}(0.654877,0.792926,1.0)\n",
       " RGB{Float64}(0.656008,0.793605,1.0)  …  RGB{Float64}(0.656654,0.793993,1.0)\n",
       " RGB{Float64}(0.65781,0.794686,1.0)      RGB{Float64}(0.658448,0.795069,1.0)\n",
       " RGB{Float64}(0.659629,0.795777,1.0)     RGB{Float64}(0.660258,0.796155,1.0)\n",
       " RGB{Float64}(0.661464,0.796878,1.0)     RGB{Float64}(0.662084,0.79725,1.0)\n",
       " RGB{Float64}(0.663316,0.79799,1.0)      RGB{Float64}(0.663926,0.798356,1.0)\n",
       " RGB{Float64}(0.665184,0.79911,1.0)   …  RGB{Float64}(0.665785,0.799471,1.0)\n",
       " RGB{Float64}(0.667069,0.800241,1.0)     RGB{Float64}(0.667659,0.800596,1.0)\n",
       " RGB{Float64}(0.668969,0.801381,1.0)     RGB{Float64}(0.669549,0.80173,1.0)\n",
       " ⋮                                    ⋱  \n",
       " RGB{Float64}(0.831031,0.898619,1.0)     RGB{Float64}(0.830451,0.89827,1.0)\n",
       " RGB{Float64}(0.832931,0.899759,1.0)     RGB{Float64}(0.832341,0.899404,1.0)\n",
       " RGB{Float64}(0.834816,0.90089,1.0)   …  RGB{Float64}(0.834215,0.900529,1.0)\n",
       " RGB{Float64}(0.836684,0.90201,1.0)      RGB{Float64}(0.836074,0.901644,1.0)\n",
       " RGB{Float64}(0.838536,0.903122,1.0)     RGB{Float64}(0.837916,0.90275,1.0)\n",
       " RGB{Float64}(0.840371,0.904223,1.0)     RGB{Float64}(0.839742,0.903845,1.0)\n",
       " RGB{Float64}(0.84219,0.905314,1.0)      RGB{Float64}(0.841552,0.904931,1.0)\n",
       " RGB{Float64}(0.843992,0.906395,1.0)  …  RGB{Float64}(0.843346,0.906007,1.0)\n",
       " RGB{Float64}(0.845777,0.907466,1.0)     RGB{Float64}(0.845123,0.907074,1.0)\n",
       " RGB{Float64}(0.847545,0.908527,1.0)     RGB{Float64}(0.846883,0.90813,1.0)\n",
       " RGB{Float64}(0.849296,0.909577,1.0)     RGB{Float64}(0.848626,0.909176,1.0)\n",
       " RGB{Float64}(0.851029,0.910618,1.0)     RGB{Float64}(0.850353,0.910212,1.0)"
      ]
     },
     "execution_count": 20,
     "metadata": {},
     "output_type": "execute_result"
    }
   ],
   "source": [
    "render()"
   ]
  },
  {
   "cell_type": "code",
   "execution_count": 21,
   "metadata": {},
   "outputs": [
    {
     "data": {
      "text/plain": [
       "Main.HitRecordM"
      ]
     },
     "execution_count": 21,
     "metadata": {},
     "output_type": "execute_result"
    }
   ],
   "source": [
    "module HitRecordM\n",
    "mutable struct HitRecord\n",
    "    p\n",
    "    normal\n",
    "    t\n",
    "    front_face\n",
    "    \n",
    "    HitRecord() = new([0, 0, 0], [0, 0, 0], 0, false)\n",
    "end\n",
    "end"
   ]
  },
  {
   "cell_type": "code",
   "execution_count": 22,
   "metadata": {},
   "outputs": [
    {
     "data": {
      "text/plain": [
       "set_face_normal (generic function with 1 method)"
      ]
     },
     "execution_count": 22,
     "metadata": {},
     "output_type": "execute_result"
    }
   ],
   "source": [
    "function set_face_normal(rec::HitRecordM.HitRecord, r, outward_normal)\n",
    "    rec.front_face = dot(r.direction, outward_normal) < 0\n",
    "    rec.normal = if rec.front_face\n",
    "        outward_normal \n",
    "    else\n",
    "        -outward_normal\n",
    "    end\n",
    "end"
   ]
  },
  {
   "cell_type": "code",
   "execution_count": 23,
   "metadata": {},
   "outputs": [],
   "source": [
    "abstract type Hittable end"
   ]
  },
  {
   "cell_type": "code",
   "execution_count": 24,
   "metadata": {},
   "outputs": [
    {
     "data": {
      "text/plain": [
       "Main.SphereM"
      ]
     },
     "execution_count": 24,
     "metadata": {},
     "output_type": "execute_result"
    }
   ],
   "source": [
    "module SphereM\n",
    "struct Sphere <: Main.Hittable\n",
    "    center\n",
    "    radius\n",
    "end\n",
    "end"
   ]
  },
  {
   "cell_type": "code",
   "execution_count": 25,
   "metadata": {},
   "outputs": [
    {
     "data": {
      "text/plain": [
       "hit (generic function with 1 method)"
      ]
     },
     "execution_count": 25,
     "metadata": {},
     "output_type": "execute_result"
    }
   ],
   "source": [
    "function hit(sphere::SphereM.Sphere, r, t_min, t_max, rec)\n",
    "    oc = r.origin - sphere.center\n",
    "    a = norm(r.direction)^2\n",
    "    half_b = dot(oc, r.direction)\n",
    "    c = norm(oc)^2 - sphere.radius * sphere.radius\n",
    "    discriminant = half_b * half_b - a * c\n",
    "    \n",
    "    if discriminant > 0\n",
    "        root = sqrt(discriminant)\n",
    "        temp = (-half_b - root) / a\n",
    "        if t_min < temp < t_max \n",
    "            rec.t = temp\n",
    "            rec.p = at(r, rec.t)\n",
    "            outward_normal = (rec.p - sphere.center) / sphere.radius\n",
    "            set_face_normal(rec, r, outward_normal)\n",
    "            return true\n",
    "        end\n",
    "        temp = (-half_b + root) / a\n",
    "        if t_min < temp < t_max\n",
    "            rec.t = temp\n",
    "            rec.p = at(r, rec.t)\n",
    "            outward_normal = (rec.p - sphere.center) / sphere.radius\n",
    "            set_face_normal(rec, r, outward_normal)\n",
    "            return true\n",
    "        end\n",
    "    end\n",
    "    false\n",
    "end"
   ]
  },
  {
   "cell_type": "code",
   "execution_count": 26,
   "metadata": {},
   "outputs": [
    {
     "data": {
      "text/plain": [
       "Main.HittableListM"
      ]
     },
     "execution_count": 26,
     "metadata": {},
     "output_type": "execute_result"
    }
   ],
   "source": [
    "module HittableListM\n",
    "struct HittableList <: Main.Hittable\n",
    "    objects\n",
    "end\n",
    "end"
   ]
  },
  {
   "cell_type": "code",
   "execution_count": 27,
   "metadata": {},
   "outputs": [
    {
     "data": {
      "text/plain": [
       "hit (generic function with 2 methods)"
      ]
     },
     "execution_count": 27,
     "metadata": {},
     "output_type": "execute_result"
    }
   ],
   "source": [
    "function hit(hittable_list::HittableListM.HittableList, r, t_min, t_max, rec)\n",
    "    temp_rec = HitRecordM.HitRecord()\n",
    "    hit_anything = false\n",
    "    closest_so_far = t_max\n",
    "    \n",
    "    for object in hittable_list.objects\n",
    "        if hit(object, r, t_min, closest_so_far, temp_rec)\n",
    "            hit_anything = true\n",
    "            closest_so_far = temp_rec.t\n",
    "            rec.p = temp_rec.p\n",
    "            rec.normal = temp_rec.normal\n",
    "            rec.t = temp_rec.t\n",
    "            rec.front_face = temp_rec.front_face\n",
    "        end\n",
    "    end\n",
    "    \n",
    "    hit_anything\n",
    "end"
   ]
  },
  {
   "cell_type": "code",
   "execution_count": 28,
   "metadata": {},
   "outputs": [
    {
     "data": {
      "text/plain": [
       "color (generic function with 3 methods)"
      ]
     },
     "execution_count": 28,
     "metadata": {},
     "output_type": "execute_result"
    }
   ],
   "source": [
    "function color(r::RayM.Ray, world::Hittable)\n",
    "    rec = HitRecordM.HitRecord()\n",
    "    if hit(world, r, 0, Inf, rec)\n",
    "        return 0.5 * (rec.normal .+ 1)\n",
    "    end\n",
    "    unit_direction = normalize(r.direction)\n",
    "    t = 0.5 * (y(unit_direction) + 1)\n",
    "    (1 - t) * [1, 1, 1] + t * [0.5, 0.7, 1]\n",
    "end"
   ]
  },
  {
   "cell_type": "code",
   "execution_count": 29,
   "metadata": {},
   "outputs": [
    {
     "data": {
      "text/plain": [
       "Main.HittableListM.HittableList(Main.SphereM.Sphere[Main.SphereM.Sphere([0, 0, -1], 0.5), Main.SphereM.Sphere([0.0, -100.5, -1.0], 100)])"
      ]
     },
     "execution_count": 29,
     "metadata": {},
     "output_type": "execute_result"
    }
   ],
   "source": [
    "world = HittableListM.HittableList([\n",
    "        SphereM.Sphere([0, 0, -1], 0.5), \n",
    "        SphereM.Sphere([0, -100.5, -1], 100)\n",
    "        ])"
   ]
  },
  {
   "cell_type": "code",
   "execution_count": 30,
   "metadata": {},
   "outputs": [
    {
     "data": {
      "text/plain": [
       "color (generic function with 3 methods)"
      ]
     },
     "execution_count": 30,
     "metadata": {},
     "output_type": "execute_result"
    }
   ],
   "source": [
    "function color(i, j) \n",
    "    u = i / image_width\n",
    "    v = j / image_height\n",
    "    r = RayM.Ray(origin, lower_left_corner + u * horizontal + v * vertical)\n",
    "    color(r, world)\n",
    "end"
   ]
  },
  {
   "cell_type": "code",
   "execution_count": 31,
   "metadata": {},
   "outputs": [
    {
     "data": {
      "image/png": "[encoded data removed]",
      "text/plain": [
       "100×200 Array{RGB{Float64},2} with eltype RGB{Float64}:\n",
       " RGB{Float64}(0.647254,0.788352,1.0)       …  RGB{Float64}(0.647938,0.788763,1.0)\n",
       " RGB{Float64}(0.648971,0.789382,1.0)          RGB{Float64}(0.649647,0.789788,1.0)\n",
       " RGB{Float64}(0.650704,0.790423,1.0)          RGB{Float64}(0.651374,0.790824,1.0)\n",
       " RGB{Float64}(0.652455,0.791473,1.0)          RGB{Float64}(0.653117,0.79187,1.0)\n",
       " RGB{Float64}(0.654223,0.792534,1.0)          RGB{Float64}(0.654877,0.792926,1.0)\n",
       " RGB{Float64}(0.656008,0.793605,1.0)       …  RGB{Float64}(0.656654,0.793993,1.0)\n",
       " RGB{Float64}(0.65781,0.794686,1.0)           RGB{Float64}(0.658448,0.795069,1.0)\n",
       " RGB{Float64}(0.659629,0.795777,1.0)          RGB{Float64}(0.660258,0.796155,1.0)\n",
       " RGB{Float64}(0.661464,0.796878,1.0)          RGB{Float64}(0.662084,0.79725,1.0)\n",
       " RGB{Float64}(0.663316,0.79799,1.0)           RGB{Float64}(0.663926,0.798356,1.0)\n",
       " RGB{Float64}(0.665184,0.79911,1.0)        …  RGB{Float64}(0.665785,0.799471,1.0)\n",
       " RGB{Float64}(0.667069,0.800241,1.0)          RGB{Float64}(0.667659,0.800596,1.0)\n",
       " RGB{Float64}(0.668969,0.801381,1.0)          RGB{Float64}(0.669549,0.80173,1.0)\n",
       " ⋮                                         ⋱  \n",
       " RGB{Float64}(0.493365,0.999953,0.501649)     RGB{Float64}(0.506704,0.999952,0.501648)\n",
       " RGB{Float64}(0.49354,0.999955,0.501738)      RGB{Float64}(0.506527,0.999954,0.501736)\n",
       " RGB{Float64}(0.493706,0.999957,0.501821)  …  RGB{Float64}(0.506359,0.999956,0.50182)\n",
       " RGB{Float64}(0.493864,0.999959,0.501901)     RGB{Float64}(0.5062,0.999958,0.5019)\n",
       " RGB{Float64}(0.494013,0.99996,0.501976)      RGB{Float64}(0.506049,0.99996,0.501976)\n",
       " RGB{Float64}(0.494156,0.999962,0.502048)     RGB{Float64}(0.505905,0.999961,0.502048)\n",
       " RGB{Float64}(0.494292,0.999963,0.502117)     RGB{Float64}(0.505768,0.999962,0.502116)\n",
       " RGB{Float64}(0.494421,0.999964,0.502182)  …  RGB{Float64}(0.505637,0.999963,0.502182)\n",
       " RGB{Float64}(0.494545,0.999965,0.502245)     RGB{Float64}(0.505512,0.999965,0.502244)\n",
       " RGB{Float64}(0.494663,0.999966,0.502304)     RGB{Float64}(0.505392,0.999966,0.502304)\n",
       " RGB{Float64}(0.494776,0.999967,0.502362)     RGB{Float64}(0.505278,0.999967,0.502361)\n",
       " RGB{Float64}(0.494884,0.999968,0.502416)     RGB{Float64}(0.505168,0.999967,0.502416)"
      ]
     },
     "execution_count": 31,
     "metadata": {},
     "output_type": "execute_result"
    }
   ],
   "source": [
    "render()"
   ]
  },
  {
   "cell_type": "markdown",
   "metadata": {},
   "source": [
    "# 7. Antialiasing"
   ]
  },
  {
   "cell_type": "code",
   "execution_count": 32,
   "metadata": {},
   "outputs": [
    {
     "data": {
      "text/plain": [
       "Main.CameraM"
      ]
     },
     "execution_count": 32,
     "metadata": {},
     "output_type": "execute_result"
    }
   ],
   "source": [
    "module CameraM\n",
    "struct Camera\n",
    "    origin\n",
    "    lower_left_corner\n",
    "    horizontal\n",
    "    vertical\n",
    "    \n",
    "    Camera() = new([0, 0, 0], [-2, -1, -1], [4, 0, 0], [0, 2, 0])\n",
    "end\n",
    "end"
   ]
  },
  {
   "cell_type": "code",
   "execution_count": 33,
   "metadata": {},
   "outputs": [
    {
     "data": {
      "text/plain": [
       "get_ray (generic function with 1 method)"
      ]
     },
     "execution_count": 33,
     "metadata": {},
     "output_type": "execute_result"
    }
   ],
   "source": [
    "get_ray(camera::CameraM.Camera, u, v) = RayM.Ray(camera.origin, camera.lower_left_corner + u * camera.horizontal + v * camera.vertical - camera.origin)"
   ]
  },
  {
   "cell_type": "code",
   "execution_count": 34,
   "metadata": {},
   "outputs": [],
   "source": [
    "samples_per_pixel = 100;"
   ]
  },
  {
   "cell_type": "code",
   "execution_count": 35,
   "metadata": {},
   "outputs": [
    {
     "data": {
      "text/plain": [
       "Main.CameraM.Camera([0, 0, 0], [-2, -1, -1], [4, 0, 0], [0, 2, 0])"
      ]
     },
     "execution_count": 35,
     "metadata": {},
     "output_type": "execute_result"
    }
   ],
   "source": [
    "cam = CameraM.Camera()"
   ]
  },
  {
   "cell_type": "code",
   "execution_count": 36,
   "metadata": {},
   "outputs": [
    {
     "data": {
      "text/plain": [
       "color (generic function with 3 methods)"
      ]
     },
     "execution_count": 36,
     "metadata": {},
     "output_type": "execute_result"
    }
   ],
   "source": [
    "function color(i, j) \n",
    "    c = [0, 0, 0]\n",
    "    for _ in 1:samples_per_pixel\n",
    "        u = (i + rand()) / image_width\n",
    "        v = (j + rand()) / image_height\n",
    "        r = get_ray(cam, u, v)\n",
    "        c += color(r, world)\n",
    "    end\n",
    "    c / samples_per_pixel\n",
    "end"
   ]
  },
  {
   "cell_type": "code",
   "execution_count": 37,
   "metadata": {},
   "outputs": [
    {
     "data": {
      "image/png": "[encoded data removed]",
      "text/plain": [
       "100×200 Array{RGB{Float64},2} with eltype RGB{Float64}:\n",
       " RGB{Float64}(0.646015,0.787609,1.0)       …  RGB{Float64}(0.64745,0.78847,1.0)\n",
       " RGB{Float64}(0.647744,0.788647,1.0)          RGB{Float64}(0.649217,0.78953,1.0)\n",
       " RGB{Float64}(0.649441,0.789665,1.0)          RGB{Float64}(0.650841,0.790505,1.0)\n",
       " RGB{Float64}(0.651259,0.790755,1.0)          RGB{Float64}(0.652485,0.791491,1.0)\n",
       " RGB{Float64}(0.65292,0.791752,1.0)           RGB{Float64}(0.654285,0.792571,1.0)\n",
       " RGB{Float64}(0.654846,0.792907,1.0)       …  RGB{Float64}(0.656133,0.79368,1.0)\n",
       " RGB{Float64}(0.656631,0.793979,1.0)          RGB{Float64}(0.65783,0.794698,1.0)\n",
       " RGB{Float64}(0.65842,0.795052,1.0)           RGB{Float64}(0.659797,0.795878,1.0)\n",
       " RGB{Float64}(0.660213,0.796128,1.0)          RGB{Float64}(0.661523,0.796914,1.0)\n",
       " RGB{Float64}(0.662127,0.797276,1.0)          RGB{Float64}(0.663366,0.79802,1.0)\n",
       " RGB{Float64}(0.663966,0.798379,1.0)       …  RGB{Float64}(0.665205,0.799123,1.0)\n",
       " RGB{Float64}(0.665816,0.79949,1.0)           RGB{Float64}(0.667023,0.800214,1.0)\n",
       " RGB{Float64}(0.667705,0.800623,1.0)          RGB{Float64}(0.668911,0.801347,1.0)\n",
       " ⋮                                         ⋱  \n",
       " RGB{Float64}(0.49331,0.999953,0.501604)      RGB{Float64}(0.506832,0.999951,0.501602)\n",
       " RGB{Float64}(0.493483,0.999955,0.501691)     RGB{Float64}(0.506639,0.999953,0.501697)\n",
       " RGB{Float64}(0.493643,0.999956,0.501774)  …  RGB{Float64}(0.506473,0.999955,0.501779)\n",
       " RGB{Float64}(0.493823,0.999958,0.501864)     RGB{Float64}(0.506309,0.999957,0.50186)\n",
       " RGB{Float64}(0.493972,0.99996,0.501939)      RGB{Float64}(0.506157,0.999958,0.501938)\n",
       " RGB{Float64}(0.494111,0.999961,0.502012)     RGB{Float64}(0.505999,0.99996,0.502016)\n",
       " RGB{Float64}(0.494258,0.999963,0.502087)     RGB{Float64}(0.505859,0.999961,0.502084)\n",
       " RGB{Float64}(0.494385,0.999964,0.502149)  …  RGB{Float64}(0.505729,0.999963,0.50215)\n",
       " RGB{Float64}(0.49451,0.999965,0.502212)      RGB{Float64}(0.505606,0.999964,0.50221)\n",
       " RGB{Float64}(0.494631,0.999966,0.502276)     RGB{Float64}(0.505476,0.999965,0.502275)\n",
       " RGB{Float64}(0.49475,0.999967,0.502335)      RGB{Float64}(0.505363,0.999966,0.502332)\n",
       " RGB{Float64}(0.494857,0.999968,0.502389)     RGB{Float64}(0.505254,0.999967,0.502386)"
      ]
     },
     "execution_count": 37,
     "metadata": {},
     "output_type": "execute_result"
    }
   ],
   "source": [
    "render()"
   ]
  },
  {
   "cell_type": "markdown",
   "metadata": {},
   "source": [
    "# 8. Diffuse Materials"
   ]
  },
  {
   "cell_type": "code",
   "execution_count": 38,
   "metadata": {},
   "outputs": [
    {
     "data": {
      "text/plain": [
       "random_in_unit_sphere (generic function with 1 method)"
      ]
     },
     "execution_count": 38,
     "metadata": {},
     "output_type": "execute_result"
    }
   ],
   "source": [
    "function random_in_unit_sphere()\n",
    "    while true\n",
    "        p = rand(-1:eps():1, 3)\n",
    "        if norm(p)^2 > 1\n",
    "            continue\n",
    "        end\n",
    "        return p\n",
    "    end\n",
    "end"
   ]
  },
  {
   "cell_type": "code",
   "execution_count": 39,
   "metadata": {},
   "outputs": [
    {
     "data": {
      "text/plain": [
       "color (generic function with 4 methods)"
      ]
     },
     "execution_count": 39,
     "metadata": {},
     "output_type": "execute_result"
    }
   ],
   "source": [
    "function color(r::RayM.Ray, world::Hittable, depth)\n",
    "    rec = HitRecordM.HitRecord()\n",
    "    \n",
    "    if depth <= 0\n",
    "        return [0, 0, 0]\n",
    "    end\n",
    "    \n",
    "    if hit(world, r, 0, Inf, rec)\n",
    "        target = rec.p + rec.normal + random_in_unit_sphere()\n",
    "        return 0.5 * color(RayM.Ray(rec.p, target - rec.p), world, depth - 1)\n",
    "    end\n",
    "    unit_direction = normalize(r.direction)\n",
    "    t = 0.5 * (y(unit_direction) + 1)\n",
    "    (1 - t) * [1, 1, 1] + t * [0.5, 0.7, 1]\n",
    "end"
   ]
  },
  {
   "cell_type": "code",
   "execution_count": 40,
   "metadata": {},
   "outputs": [],
   "source": [
    "max_depth = 50;"
   ]
  },
  {
   "cell_type": "code",
   "execution_count": 41,
   "metadata": {},
   "outputs": [
    {
     "data": {
      "text/plain": [
       "color (generic function with 4 methods)"
      ]
     },
     "execution_count": 41,
     "metadata": {},
     "output_type": "execute_result"
    }
   ],
   "source": [
    "function color(i, j) \n",
    "    c = [0, 0, 0]\n",
    "    for _ in 1:samples_per_pixel\n",
    "        u = (i + rand()) / image_width\n",
    "        v = (j + rand()) / image_height\n",
    "        r = get_ray(cam, u, v)\n",
    "        c += color(r, world, max_depth)\n",
    "    end\n",
    "    c / samples_per_pixel\n",
    "end"
   ]
  },
  {
   "cell_type": "code",
   "execution_count": 42,
   "metadata": {},
   "outputs": [
    {
     "data": {
      "image/png": "[encoded data removed]",
      "text/plain": [
       "100×200 Array{RGB{Float64},2} with eltype RGB{Float64}:\n",
       " RGB{Float64}(0.645959,0.787575,1.0)       …  RGB{Float64}(0.647459,0.788476,1.0)\n",
       " RGB{Float64}(0.64775,0.78865,1.0)            RGB{Float64}(0.648998,0.789399,1.0)\n",
       " RGB{Float64}(0.649524,0.789714,1.0)          RGB{Float64}(0.650883,0.79053,1.0)\n",
       " RGB{Float64}(0.651259,0.790755,1.0)          RGB{Float64}(0.652589,0.791554,1.0)\n",
       " RGB{Float64}(0.653002,0.791801,1.0)          RGB{Float64}(0.654322,0.792593,1.0)\n",
       " RGB{Float64}(0.654797,0.792878,1.0)       …  RGB{Float64}(0.656088,0.793653,1.0)\n",
       " RGB{Float64}(0.656581,0.793949,1.0)          RGB{Float64}(0.657888,0.794733,1.0)\n",
       " RGB{Float64}(0.658537,0.795122,1.0)          RGB{Float64}(0.659685,0.795811,1.0)\n",
       " RGB{Float64}(0.66015,0.79609,1.0)            RGB{Float64}(0.661527,0.796916,1.0)\n",
       " RGB{Float64}(0.661985,0.797191,1.0)          RGB{Float64}(0.663388,0.798033,1.0)\n",
       " RGB{Float64}(0.664017,0.79841,1.0)        …  RGB{Float64}(0.665217,0.79913,1.0)\n",
       " RGB{Float64}(0.665888,0.799533,1.0)          RGB{Float64}(0.666983,0.80019,1.0)\n",
       " RGB{Float64}(0.667626,0.800576,1.0)          RGB{Float64}(0.668896,0.801338,1.0)\n",
       " ⋮                                         ⋱  \n",
       " RGB{Float64}(0.225317,0.299085,0.409736)     RGB{Float64}(0.224906,0.299245,0.410752)\n",
       " RGB{Float64}(0.228546,0.302844,0.414292)     RGB{Float64}(0.223761,0.298323,0.410166)\n",
       " RGB{Float64}(0.225282,0.29926,0.410226)   …  RGB{Float64}(0.21224,0.281868,0.386309)\n",
       " RGB{Float64}(0.226791,0.302856,0.416954)     RGB{Float64}(0.222054,0.295785,0.406382)\n",
       " RGB{Float64}(0.20707,0.274217,0.374937)      RGB{Float64}(0.204576,0.270465,0.369299)\n",
       " RGB{Float64}(0.216632,0.288378,0.395998)     RGB{Float64}(0.213271,0.280965,0.382507)\n",
       " RGB{Float64}(0.224637,0.296383,0.404003)     RGB{Float64}(0.231856,0.308468,0.423387)\n",
       " RGB{Float64}(0.210697,0.279967,0.383872)  …  RGB{Float64}(0.243763,0.319423,0.432912)\n",
       " RGB{Float64}(0.202932,0.270398,0.371597)     RGB{Float64}(0.218015,0.290375,0.398914)\n",
       " RGB{Float64}(0.218526,0.291451,0.40084)      RGB{Float64}(0.208634,0.277215,0.380086)\n",
       " RGB{Float64}(0.230785,0.30677,0.420748)      RGB{Float64}(0.197579,0.263576,0.362573)\n",
       " RGB{Float64}(0.186199,0.246895,0.33794)      RGB{Float64}(0.21323,0.285448,0.393774)"
      ]
     },
     "execution_count": 42,
     "metadata": {},
     "output_type": "execute_result"
    }
   ],
   "source": [
    "render()"
   ]
  },
  {
   "cell_type": "code",
   "execution_count": 43,
   "metadata": {},
   "outputs": [
    {
     "data": {
      "text/plain": [
       "color (generic function with 4 methods)"
      ]
     },
     "execution_count": 43,
     "metadata": {},
     "output_type": "execute_result"
    }
   ],
   "source": [
    "function color(i, j) \n",
    "    c = [0, 0, 0]\n",
    "    for _ in 1:samples_per_pixel\n",
    "        u = (i + rand()) / image_width\n",
    "        v = (j + rand()) / image_height\n",
    "        r = get_ray(cam, u, v)\n",
    "        c += color(r, world, max_depth)\n",
    "    end\n",
    "    sqrt.(c / samples_per_pixel)\n",
    "end"
   ]
  },
  {
   "cell_type": "code",
   "execution_count": 44,
   "metadata": {},
   "outputs": [
    {
     "data": {
      "image/png": "[encoded data removed]",
      "text/plain": [
       "100×200 Array{RGB{Float64},2} with eltype RGB{Float64}:\n",
       " RGB{Float64}(0.803823,0.887513,1.0)       …  RGB{Float64}(0.804666,0.887971,1.0)\n",
       " RGB{Float64}(0.804885,0.88809,1.0)           RGB{Float64}(0.805635,0.888498,1.0)\n",
       " RGB{Float64}(0.805965,0.888678,1.0)          RGB{Float64}(0.806699,0.889077,1.0)\n",
       " RGB{Float64}(0.806934,0.889205,1.0)          RGB{Float64}(0.807772,0.889661,1.0)\n",
       " RGB{Float64}(0.80807,0.889824,1.0)           RGB{Float64}(0.808914,0.890284,1.0)\n",
       " RGB{Float64}(0.809246,0.890465,1.0)       …  RGB{Float64}(0.809932,0.890839,1.0)\n",
       " RGB{Float64}(0.810298,0.891038,1.0)          RGB{Float64}(0.811145,0.891501,1.0)\n",
       " RGB{Float64}(0.811441,0.891662,1.0)          RGB{Float64}(0.812156,0.892053,1.0)\n",
       " RGB{Float64}(0.812524,0.892254,1.0)          RGB{Float64}(0.813335,0.892697,1.0)\n",
       " RGB{Float64}(0.813713,0.892904,1.0)          RGB{Float64}(0.814432,0.893297,1.0)\n",
       " RGB{Float64}(0.814817,0.893508,1.0)       …  RGB{Float64}(0.815595,0.893933,1.0)\n",
       " RGB{Float64}(0.815953,0.89413,1.0)           RGB{Float64}(0.81668,0.894527,1.0)\n",
       " RGB{Float64}(0.817142,0.894781,1.0)          RGB{Float64}(0.817819,0.895152,1.0)\n",
       " ⋮                                         ⋱  \n",
       " RGB{Float64}(0.442608,0.509185,0.595249)     RGB{Float64}(0.459474,0.530146,0.621259)\n",
       " RGB{Float64}(0.45616,0.5287,0.62184)         RGB{Float64}(0.458571,0.527847,0.617353)\n",
       " RGB{Float64}(0.438087,0.504722,0.590746)  …  RGB{Float64}(0.478199,0.550268,0.643409)\n",
       " RGB{Float64}(0.465192,0.536187,0.627804)     RGB{Float64}(0.465933,0.537311,0.629378)\n",
       " RGB{Float64}(0.445829,0.515419,0.604978)     RGB{Float64}(0.450757,0.521454,0.612382)\n",
       " RGB{Float64}(0.463656,0.534738,0.626416)     RGB{Float64}(0.458451,0.529436,0.620878)\n",
       " RGB{Float64}(0.461677,0.530337,0.619212)     RGB{Float64}(0.46511,0.537042,0.629717)\n",
       " RGB{Float64}(0.468223,0.53887,0.63016)    …  RGB{Float64}(0.448333,0.516724,0.604985)\n",
       " RGB{Float64}(0.477951,0.551427,0.646159)     RGB{Float64}(0.471732,0.54261,0.634247)\n",
       " RGB{Float64}(0.460878,0.532088,0.623844)     RGB{Float64}(0.476706,0.547226,0.638568)\n",
       " RGB{Float64}(0.437139,0.504245,0.590782)     RGB{Float64}(0.460551,0.532927,0.625993)\n",
       " RGB{Float64}(0.468786,0.53922,0.630281)      RGB{Float64}(0.470281,0.541381,0.633236)"
      ]
     },
     "execution_count": 44,
     "metadata": {},
     "output_type": "execute_result"
    }
   ],
   "source": [
    "render()"
   ]
  },
  {
   "cell_type": "code",
   "execution_count": 45,
   "metadata": {},
   "outputs": [
    {
     "data": {
      "text/plain": [
       "random_unit_vector (generic function with 1 method)"
      ]
     },
     "execution_count": 45,
     "metadata": {},
     "output_type": "execute_result"
    }
   ],
   "source": [
    "function random_unit_vector()\n",
    "    a = rand(0:eps():2pi)\n",
    "    z = rand(-1:eps():1)\n",
    "    r = sqrt(1 - z * z)\n",
    "    [r*cos(a), r*sin(a), z]\n",
    "end"
   ]
  },
  {
   "cell_type": "code",
   "execution_count": 46,
   "metadata": {},
   "outputs": [
    {
     "data": {
      "text/plain": [
       "color (generic function with 4 methods)"
      ]
     },
     "execution_count": 46,
     "metadata": {},
     "output_type": "execute_result"
    }
   ],
   "source": [
    "function color(r::RayM.Ray, world::Hittable, depth)\n",
    "    rec = HitRecordM.HitRecord()\n",
    "    \n",
    "    if depth <= 0\n",
    "        return [0, 0, 0]\n",
    "    end\n",
    "    \n",
    "    if hit(world, r, 0.001, Inf, rec)\n",
    "        target = rec.p + rec.normal + random_unit_vector()\n",
    "        return 0.5 * color(RayM.Ray(rec.p, target - rec.p), world, depth - 1)\n",
    "    end\n",
    "    unit_direction = normalize(r.direction)\n",
    "    t = 0.5 * (y(unit_direction) + 1)\n",
    "    (1 - t) * [1, 1, 1] + t * [0.5, 0.7, 1]\n",
    "end"
   ]
  },
  {
   "cell_type": "code",
   "execution_count": 47,
   "metadata": {},
   "outputs": [
    {
     "data": {
      "image/png": "[encoded data removed]",
      "text/plain": [
       "100×200 Array{RGB{Float64},2} with eltype RGB{Float64}:\n",
       " RGB{Float64}(0.803796,0.887498,1.0)       …  RGB{Float64}(0.804633,0.887953,1.0)\n",
       " RGB{Float64}(0.804835,0.888063,1.0)          RGB{Float64}(0.80565,0.888506,1.0)\n",
       " RGB{Float64}(0.805898,0.888641,1.0)          RGB{Float64}(0.806767,0.889114,1.0)\n",
       " RGB{Float64}(0.80699,0.889235,1.0)           RGB{Float64}(0.807813,0.889684,1.0)\n",
       " RGB{Float64}(0.808126,0.889854,1.0)          RGB{Float64}(0.808861,0.890255,1.0)\n",
       " RGB{Float64}(0.809183,0.89043,1.0)        …  RGB{Float64}(0.81001,0.890881,1.0)\n",
       " RGB{Float64}(0.810318,0.891049,1.0)          RGB{Float64}(0.811082,0.891467,1.0)\n",
       " RGB{Float64}(0.811417,0.891649,1.0)          RGB{Float64}(0.812242,0.8921,1.0)\n",
       " RGB{Float64}(0.812571,0.89228,1.0)           RGB{Float64}(0.813336,0.892698,1.0)\n",
       " RGB{Float64}(0.813609,0.892847,1.0)          RGB{Float64}(0.814464,0.893314,1.0)\n",
       " RGB{Float64}(0.814793,0.893495,1.0)       …  RGB{Float64}(0.815586,0.893928,1.0)\n",
       " RGB{Float64}(0.816073,0.894195,1.0)          RGB{Float64}(0.816715,0.894547,1.0)\n",
       " RGB{Float64}(0.817143,0.894782,1.0)          RGB{Float64}(0.817831,0.895158,1.0)\n",
       " ⋮                                         ⋱  \n",
       " RGB{Float64}(0.521275,0.594195,0.689259)     RGB{Float64}(0.530527,0.604049,0.7)\n",
       " RGB{Float64}(0.524405,0.594559,0.686477)     RGB{Float64}(0.529008,0.599508,0.691918)\n",
       " RGB{Float64}(0.529535,0.602282,0.697316)  …  RGB{Float64}(0.533813,0.606196,0.700892)\n",
       " RGB{Float64}(0.534039,0.605593,0.69933)      RGB{Float64}(0.533748,0.605439,0.69933)\n",
       " RGB{Float64}(0.535886,0.605644,0.697316)     RGB{Float64}(0.532698,0.60602,0.701783)\n",
       " RGB{Float64}(0.531728,0.603441,0.697316)     RGB{Float64}(0.530283,0.601847,0.695521)\n",
       " RGB{Float64}(0.523329,0.593674,0.685793)     RGB{Float64}(0.52367,0.597108,0.69282)\n",
       " RGB{Float64}(0.525547,0.596016,0.688323)  …  RGB{Float64}(0.522408,0.594765,0.689202)\n",
       " RGB{Float64}(0.522125,0.591243,0.681909)     RGB{Float64}(0.532866,0.603629,0.696419)\n",
       " RGB{Float64}(0.530495,0.603618,0.699107)     RGB{Float64}(0.526338,0.596847,0.689217)\n",
       " RGB{Float64}(0.537643,0.607812,0.7)          RGB{Float64}(0.533657,0.608172,0.705337)\n",
       " RGB{Float64}(0.527755,0.598427,0.691014)     RGB{Float64}(0.540111,0.610763,0.703562)"
      ]
     },
     "execution_count": 47,
     "metadata": {},
     "output_type": "execute_result"
    }
   ],
   "source": [
    "render()"
   ]
  },
  {
   "cell_type": "code",
   "execution_count": 48,
   "metadata": {},
   "outputs": [
    {
     "data": {
      "text/plain": [
       "random_in_hemisphere (generic function with 1 method)"
      ]
     },
     "execution_count": 48,
     "metadata": {},
     "output_type": "execute_result"
    }
   ],
   "source": [
    "function random_in_hemisphere(normal)\n",
    "    in_unit_sphere = random_in_unit_sphere()\n",
    "    if dot(in_unit_sphere, normal) > 0\n",
    "        in_unit_sphere\n",
    "    else\n",
    "        -in_unit_sphere\n",
    "    end\n",
    "end"
   ]
  },
  {
   "cell_type": "code",
   "execution_count": 49,
   "metadata": {},
   "outputs": [
    {
     "data": {
      "text/plain": [
       "color (generic function with 4 methods)"
      ]
     },
     "execution_count": 49,
     "metadata": {},
     "output_type": "execute_result"
    }
   ],
   "source": [
    "function color(r::RayM.Ray, world::Hittable, depth)\n",
    "    rec = HitRecordM.HitRecord()\n",
    "    \n",
    "    if depth <= 0\n",
    "        return [0, 0, 0]\n",
    "    end\n",
    "    \n",
    "    if hit(world, r, 0.001, Inf, rec)\n",
    "        target = rec.p + random_in_hemisphere(rec.normal)\n",
    "        return 0.5 * color(RayM.Ray(rec.p, target - rec.p), world, depth - 1)\n",
    "    end\n",
    "    unit_direction = normalize(r.direction)\n",
    "    t = 0.5 * (y(unit_direction) + 1)\n",
    "    (1 - t) * [1, 1, 1] + t * [0.5, 0.7, 1]\n",
    "end"
   ]
  },
  {
   "cell_type": "code",
   "execution_count": 50,
   "metadata": {},
   "outputs": [
    {
     "data": {
      "image/png": "[encoded data removed]",
      "text/plain": [
       "100×200 Array{RGB{Float64},2} with eltype RGB{Float64}:\n",
       " RGB{Float64}(0.803772,0.887485,1.0)       …  RGB{Float64}(0.8047,0.88799,1.0)\n",
       " RGB{Float64}(0.804849,0.88807,1.0)           RGB{Float64}(0.805629,0.888495,1.0)\n",
       " RGB{Float64}(0.805989,0.88869,1.0)           RGB{Float64}(0.806732,0.889095,1.0)\n",
       " RGB{Float64}(0.807008,0.889245,1.0)          RGB{Float64}(0.807883,0.889722,1.0)\n",
       " RGB{Float64}(0.808083,0.889831,1.0)          RGB{Float64}(0.808885,0.890268,1.0)\n",
       " RGB{Float64}(0.809192,0.890435,1.0)       …  RGB{Float64}(0.810005,0.890879,1.0)\n",
       " RGB{Float64}(0.810295,0.891037,1.0)          RGB{Float64}(0.811098,0.891475,1.0)\n",
       " RGB{Float64}(0.811477,0.891682,1.0)          RGB{Float64}(0.812149,0.892049,1.0)\n",
       " RGB{Float64}(0.812573,0.892281,1.0)          RGB{Float64}(0.813357,0.892709,1.0)\n",
       " RGB{Float64}(0.813644,0.892866,1.0)          RGB{Float64}(0.814444,0.893303,1.0)\n",
       " RGB{Float64}(0.814835,0.893518,1.0)       …  RGB{Float64}(0.815553,0.893911,1.0)\n",
       " RGB{Float64}(0.81593,0.894117,1.0)           RGB{Float64}(0.81666,0.894516,1.0)\n",
       " RGB{Float64}(0.817163,0.894792,1.0)          RGB{Float64}(0.81788,0.895185,1.0)\n",
       " ⋮                                         ⋱  \n",
       " RGB{Float64}(0.548067,0.610513,0.693722)     RGB{Float64}(0.546052,0.608198,0.691016)\n",
       " RGB{Float64}(0.558132,0.618188,0.698659)     RGB{Float64}(0.548697,0.611057,0.694172)\n",
       " RGB{Float64}(0.558079,0.620783,0.70445)   …  RGB{Float64}(0.542059,0.60243,0.683054)\n",
       " RGB{Float64}(0.550228,0.611273,0.692827)     RGB{Float64}(0.544083,0.608782,0.694622)\n",
       " RGB{Float64}(0.547613,0.611088,0.695521)     RGB{Float64}(0.547602,0.610084,0.693328)\n",
       " RGB{Float64}(0.550369,0.610834,0.691692)     RGB{Float64}(0.535318,0.60047,0.686704)\n",
       " RGB{Float64}(0.541044,0.602401,0.684197)     RGB{Float64}(0.543784,0.6078,0.69282)\n",
       " RGB{Float64}(0.537406,0.601068,0.685565)  …  RGB{Float64}(0.533832,0.593073,0.672216)\n",
       " RGB{Float64}(0.537282,0.596618,0.675925)     RGB{Float64}(0.542367,0.606009,0.690561)\n",
       " RGB{Float64}(0.542432,0.605012,0.688295)     RGB{Float64}(0.547589,0.611075,0.695521)\n",
       " RGB{Float64}(0.545005,0.607222,0.690109)     RGB{Float64}(0.533494,0.59489,0.676618)\n",
       " RGB{Float64}(0.542229,0.606965,0.69282)      RGB{Float64}(0.545306,0.606766,0.688749)"
      ]
     },
     "execution_count": 50,
     "metadata": {},
     "output_type": "execute_result"
    }
   ],
   "source": [
    "render()"
   ]
  },
  {
   "cell_type": "markdown",
   "metadata": {},
   "source": [
    "# 9. Metal"
   ]
  },
  {
   "cell_type": "code",
   "execution_count": 51,
   "metadata": {},
   "outputs": [],
   "source": [
    "abstract type Material end"
   ]
  },
  {
   "cell_type": "code",
   "execution_count": 52,
   "metadata": {},
   "outputs": [
    {
     "name": "stderr",
     "output_type": "stream",
     "text": [
      "WARNING: replacing module HitRecordM.\n"
     ]
    },
    {
     "data": {
      "text/plain": [
       "Main.HitRecordM"
      ]
     },
     "execution_count": 52,
     "metadata": {},
     "output_type": "execute_result"
    }
   ],
   "source": [
    "module HitRecordM\n",
    "mutable struct HitRecord\n",
    "    p\n",
    "    normal\n",
    "    mat\n",
    "    t\n",
    "    front_face\n",
    "    \n",
    "    HitRecord() = new([0, 0, 0], [0, 0, 0], nothing, 0, false)\n",
    "end\n",
    "end"
   ]
  },
  {
   "cell_type": "code",
   "execution_count": 53,
   "metadata": {},
   "outputs": [
    {
     "data": {
      "text/plain": [
       "set_face_normal (generic function with 2 methods)"
      ]
     },
     "execution_count": 53,
     "metadata": {},
     "output_type": "execute_result"
    }
   ],
   "source": [
    "function set_face_normal(rec::HitRecordM.HitRecord, r, outward_normal)\n",
    "    rec.front_face = dot(r.direction, outward_normal) < 0\n",
    "    rec.normal = if rec.front_face\n",
    "        outward_normal \n",
    "    else\n",
    "        -outward_normal\n",
    "    end\n",
    "end"
   ]
  },
  {
   "cell_type": "code",
   "execution_count": 54,
   "metadata": {},
   "outputs": [
    {
     "name": "stderr",
     "output_type": "stream",
     "text": [
      "WARNING: replacing module SphereM.\n"
     ]
    },
    {
     "data": {
      "text/plain": [
       "Main.SphereM"
      ]
     },
     "execution_count": 54,
     "metadata": {},
     "output_type": "execute_result"
    }
   ],
   "source": [
    "module SphereM\n",
    "struct Sphere <: Main.Hittable\n",
    "    center\n",
    "    radius\n",
    "    mat\n",
    "end\n",
    "end"
   ]
  },
  {
   "cell_type": "code",
   "execution_count": 55,
   "metadata": {},
   "outputs": [
    {
     "data": {
      "text/plain": [
       "hit (generic function with 3 methods)"
      ]
     },
     "execution_count": 55,
     "metadata": {},
     "output_type": "execute_result"
    }
   ],
   "source": [
    "function hit(sphere::SphereM.Sphere, r, t_min, t_max, rec)\n",
    "    oc = r.origin - sphere.center\n",
    "    a = norm(r.direction)^2\n",
    "    half_b = dot(oc, r.direction)\n",
    "    c = norm(oc)^2 - sphere.radius * sphere.radius\n",
    "    discriminant = half_b * half_b - a * c\n",
    "    \n",
    "    if discriminant > 0\n",
    "        root = sqrt(discriminant)\n",
    "        temp = (-half_b - root) / a\n",
    "        if t_min < temp < t_max \n",
    "            rec.t = temp\n",
    "            rec.p = at(r, rec.t)\n",
    "            outward_normal = (rec.p - sphere.center) / sphere.radius\n",
    "            set_face_normal(rec, r, outward_normal)\n",
    "            rec.mat = sphere.mat\n",
    "            return true\n",
    "        end\n",
    "        temp = (-half_b + root) / a\n",
    "        if t_min < temp < t_max\n",
    "            rec.t = temp\n",
    "            rec.p = at(r, rec.t)\n",
    "            outward_normal = (rec.p - sphere.center) / sphere.radius\n",
    "            set_face_normal(rec, r, outward_normal)\n",
    "            rec.mat = sphere.mat\n",
    "            return true\n",
    "        end\n",
    "    end\n",
    "    false\n",
    "end"
   ]
  },
  {
   "cell_type": "code",
   "execution_count": 56,
   "metadata": {},
   "outputs": [
    {
     "data": {
      "text/plain": [
       "Main.LambertianM"
      ]
     },
     "execution_count": 56,
     "metadata": {},
     "output_type": "execute_result"
    }
   ],
   "source": [
    "module LambertianM\n",
    "struct Lambertian <: Main.Material\n",
    "    albedo\n",
    "end\n",
    "end"
   ]
  },
  {
   "cell_type": "code",
   "execution_count": 57,
   "metadata": {},
   "outputs": [
    {
     "data": {
      "text/plain": [
       "scatter (generic function with 1 method)"
      ]
     },
     "execution_count": 57,
     "metadata": {},
     "output_type": "execute_result"
    }
   ],
   "source": [
    "function scatter(lambertian::LambertianM.Lambertian, r_in, rec)\n",
    "    scatter_direction = rec.normal + random_unit_vector()\n",
    "    scattered = RayM.Ray(rec.p, scatter_direction)\n",
    "    attenuation = lambertian.albedo\n",
    "    true, attenuation, scattered\n",
    "end"
   ]
  },
  {
   "cell_type": "code",
   "execution_count": 58,
   "metadata": {},
   "outputs": [
    {
     "data": {
      "text/plain": [
       "reflect (generic function with 1 method)"
      ]
     },
     "execution_count": 58,
     "metadata": {},
     "output_type": "execute_result"
    }
   ],
   "source": [
    "reflect(v, n) = v - 2 * dot(v, n) * n"
   ]
  },
  {
   "cell_type": "code",
   "execution_count": 59,
   "metadata": {},
   "outputs": [
    {
     "data": {
      "text/plain": [
       "Main.MetalM"
      ]
     },
     "execution_count": 59,
     "metadata": {},
     "output_type": "execute_result"
    }
   ],
   "source": [
    "module MetalM\n",
    "struct Metal <: Main.Material\n",
    "    albedo\n",
    "end\n",
    "end"
   ]
  },
  {
   "cell_type": "code",
   "execution_count": 60,
   "metadata": {},
   "outputs": [
    {
     "data": {
      "text/plain": [
       "scatter (generic function with 2 methods)"
      ]
     },
     "execution_count": 60,
     "metadata": {},
     "output_type": "execute_result"
    }
   ],
   "source": [
    "function scatter(metal::MetalM.Metal, r_in, rec)\n",
    "    reflected = reflect(normalize(r_in.direction), rec.normal)\n",
    "    scattered = RayM.Ray(rec.p, reflected)\n",
    "    attenuation = metal.albedo\n",
    "    dot(scattered.direction, rec.normal) > 0, attenuation, scattered\n",
    "end"
   ]
  },
  {
   "cell_type": "code",
   "execution_count": 61,
   "metadata": {},
   "outputs": [
    {
     "data": {
      "text/plain": [
       "hit (generic function with 3 methods)"
      ]
     },
     "execution_count": 61,
     "metadata": {},
     "output_type": "execute_result"
    }
   ],
   "source": [
    "function hit(hittable_list::HittableListM.HittableList, r, t_min, t_max, rec)\n",
    "    temp_rec = HitRecordM.HitRecord()\n",
    "    hit_anything = false\n",
    "    closest_so_far = t_max\n",
    "    \n",
    "    for object in hittable_list.objects\n",
    "        if hit(object, r, t_min, closest_so_far, temp_rec)\n",
    "            hit_anything = true\n",
    "            closest_so_far = temp_rec.t\n",
    "            rec.p = temp_rec.p\n",
    "            rec.normal = temp_rec.normal\n",
    "            rec.t = temp_rec.t\n",
    "            rec.front_face = temp_rec.front_face\n",
    "            rec.mat = temp_rec.mat\n",
    "        end\n",
    "    end\n",
    "    \n",
    "    hit_anything\n",
    "end"
   ]
  },
  {
   "cell_type": "code",
   "execution_count": 62,
   "metadata": {},
   "outputs": [
    {
     "data": {
      "text/plain": [
       "color (generic function with 4 methods)"
      ]
     },
     "execution_count": 62,
     "metadata": {},
     "output_type": "execute_result"
    }
   ],
   "source": [
    "function color(r::RayM.Ray, world::Hittable, depth)\n",
    "    rec = HitRecordM.HitRecord()\n",
    "    \n",
    "    if depth <= 0\n",
    "        return [0, 0, 0]\n",
    "    end\n",
    "    \n",
    "    if hit(world, r, 0.001, Inf, rec)\n",
    "        result, attenuation, scattered = scatter(rec.mat, r, rec)\n",
    "        if result \n",
    "            return attenuation .* color(scattered, world, depth - 1)\n",
    "        end\n",
    "        return [0, 0, 0]\n",
    "    end\n",
    "    unit_direction = normalize(r.direction)\n",
    "    t = 0.5 * (y(unit_direction) + 1)\n",
    "    (1 - t) * [1, 1, 1] + t * [0.5, 0.7, 1]\n",
    "end"
   ]
  },
  {
   "cell_type": "code",
   "execution_count": 63,
   "metadata": {},
   "outputs": [
    {
     "data": {
      "text/plain": [
       "Main.HittableListM.HittableList(Main.SphereM.Sphere[Main.SphereM.Sphere([0, 0, -1], 0.5, Main.LambertianM.Lambertian([0.7, 0.3, 0.3])), Main.SphereM.Sphere([0.0, -100.5, -1.0], 100, Main.LambertianM.Lambertian([0.8, 0.8, 0.0])), Main.SphereM.Sphere([1, 0, -1], 0.5, Main.MetalM.Metal([0.8, 0.6, 0.2])), Main.SphereM.Sphere([-1, 0, -1], 0.5, Main.MetalM.Metal([0.8, 0.8, 0.8]))])"
      ]
     },
     "execution_count": 63,
     "metadata": {},
     "output_type": "execute_result"
    }
   ],
   "source": [
    "world = HittableListM.HittableList([\n",
    "        SphereM.Sphere([0, 0, -1], 0.5, LambertianM.Lambertian([0.7, 0.3, 0.3])),\n",
    "        SphereM.Sphere([0, -100.5, -1], 100, LambertianM.Lambertian([0.8, 0.8, 0])),\n",
    "        SphereM.Sphere([1, 0, -1], 0.5, MetalM.Metal([0.8, 0.6, 0.2])),\n",
    "        SphereM.Sphere([-1, 0, -1], 0.5, MetalM.Metal([0.8, 0.8, 0.8]))\n",
    "        ])"
   ]
  },
  {
   "cell_type": "code",
   "execution_count": 64,
   "metadata": {},
   "outputs": [
    {
     "data": {
      "image/png": "[encoded data removed]",
      "text/plain": [
       "100×200 Array{RGB{Float64},2} with eltype RGB{Float64}:\n",
       " RGB{Float64}(0.803814,0.887508,1.0)  …  RGB{Float64}(0.804648,0.887961,1.0)\n",
       " RGB{Float64}(0.804791,0.888039,1.0)     RGB{Float64}(0.805692,0.888529,1.0)\n",
       " RGB{Float64}(0.805914,0.88865,1.0)      RGB{Float64}(0.806746,0.889103,1.0)\n",
       " RGB{Float64}(0.806995,0.889238,1.0)     RGB{Float64}(0.807839,0.889698,1.0)\n",
       " RGB{Float64}(0.80812,0.889851,1.0)      RGB{Float64}(0.808924,0.890289,1.0)\n",
       " RGB{Float64}(0.809173,0.890425,1.0)  …  RGB{Float64}(0.80996,0.890854,1.0)\n",
       " RGB{Float64}(0.81029,0.891034,1.0)      RGB{Float64}(0.811058,0.891454,1.0)\n",
       " RGB{Float64}(0.811468,0.891677,1.0)     RGB{Float64}(0.8122,0.892077,1.0)\n",
       " RGB{Float64}(0.812553,0.89227,1.0)      RGB{Float64}(0.81329,0.892673,1.0)\n",
       " RGB{Float64}(0.813745,0.892921,1.0)     RGB{Float64}(0.814411,0.893286,1.0)\n",
       " RGB{Float64}(0.814799,0.893498,1.0)  …  RGB{Float64}(0.815592,0.893932,1.0)\n",
       " RGB{Float64}(0.816006,0.894158,1.0)     RGB{Float64}(0.816683,0.894529,1.0)\n",
       " RGB{Float64}(0.817127,0.894773,1.0)     RGB{Float64}(0.817866,0.895178,1.0)\n",
       " ⋮                                    ⋱  \n",
       " RGB{Float64}(0.658783,0.738267,0.0)     RGB{Float64}(0.642129,0.691739,0.0)\n",
       " RGB{Float64}(0.653387,0.732563,0.0)     RGB{Float64}(0.65492,0.706848,0.0)\n",
       " RGB{Float64}(0.646556,0.729528,0.0)  …  RGB{Float64}(0.633689,0.679265,0.0)\n",
       " RGB{Float64}(0.630558,0.704903,0.0)     RGB{Float64}(0.644414,0.692189,0.0)\n",
       " RGB{Float64}(0.645208,0.71593,0.0)      RGB{Float64}(0.653728,0.701817,0.0)\n",
       " RGB{Float64}(0.652586,0.722031,0.0)     RGB{Float64}(0.646953,0.699901,0.0)\n",
       " RGB{Float64}(0.625533,0.695345,0.0)     RGB{Float64}(0.644812,0.688528,0.0)\n",
       " RGB{Float64}(0.63706,0.714373,0.0)   …  RGB{Float64}(0.643264,0.693059,0.0)\n",
       " RGB{Float64}(0.660128,0.736195,0.0)     RGB{Float64}(0.633238,0.677427,0.0)\n",
       " RGB{Float64}(0.642894,0.713391,0.0)     RGB{Float64}(0.62201,0.660415,0.0)\n",
       " RGB{Float64}(0.652174,0.724325,0.0)     RGB{Float64}(0.636045,0.678758,0.0)\n",
       " RGB{Float64}(0.651965,0.725958,0.0)     RGB{Float64}(0.645644,0.690952,0.0)"
      ]
     },
     "execution_count": 64,
     "metadata": {},
     "output_type": "execute_result"
    }
   ],
   "source": [
    "render()"
   ]
  },
  {
   "cell_type": "code",
   "execution_count": 65,
   "metadata": {},
   "outputs": [
    {
     "name": "stderr",
     "output_type": "stream",
     "text": [
      "WARNING: replacing module MetalM.\n"
     ]
    },
    {
     "data": {
      "text/plain": [
       "Main.MetalM"
      ]
     },
     "execution_count": 65,
     "metadata": {},
     "output_type": "execute_result"
    }
   ],
   "source": [
    "module MetalM\n",
    "struct Metal <: Main.Material\n",
    "    albedo\n",
    "    fuzz\n",
    "    \n",
    "    Metal(albedo, fuzz) = new(albedo, fuzz < 1 ? fuzz : 1)\n",
    "end\n",
    "end"
   ]
  },
  {
   "cell_type": "code",
   "execution_count": 66,
   "metadata": {},
   "outputs": [
    {
     "data": {
      "text/plain": [
       "scatter (generic function with 3 methods)"
      ]
     },
     "execution_count": 66,
     "metadata": {},
     "output_type": "execute_result"
    }
   ],
   "source": [
    "function scatter(metal::MetalM.Metal, r_in, rec)\n",
    "    reflected = reflect(normalize(r_in.direction), rec.normal)\n",
    "    scattered = RayM.Ray(rec.p, reflected + metal.fuzz * random_in_unit_sphere())\n",
    "    attenuation = metal.albedo\n",
    "    dot(scattered.direction, rec.normal) > 0, attenuation, scattered\n",
    "end"
   ]
  },
  {
   "cell_type": "code",
   "execution_count": 67,
   "metadata": {},
   "outputs": [
    {
     "data": {
      "text/plain": [
       "Main.HittableListM.HittableList(Main.SphereM.Sphere[Main.SphereM.Sphere([0, 0, -1], 0.5, Main.LambertianM.Lambertian([0.7, 0.3, 0.3])), Main.SphereM.Sphere([0.0, -100.5, -1.0], 100, Main.LambertianM.Lambertian([0.8, 0.8, 0.0])), Main.SphereM.Sphere([1, 0, -1], 0.5, Main.MetalM.Metal([0.8, 0.6, 0.2], 0.3)), Main.SphereM.Sphere([-1, 0, -1], 0.5, Main.MetalM.Metal([0.8, 0.8, 0.8], 1))])"
      ]
     },
     "execution_count": 67,
     "metadata": {},
     "output_type": "execute_result"
    }
   ],
   "source": [
    "world = HittableListM.HittableList([\n",
    "        SphereM.Sphere([0, 0, -1], 0.5, LambertianM.Lambertian([0.7, 0.3, 0.3])),\n",
    "        SphereM.Sphere([0, -100.5, -1], 100, LambertianM.Lambertian([0.8, 0.8, 0])),\n",
    "        SphereM.Sphere([1, 0, -1], 0.5, MetalM.Metal([0.8, 0.6, 0.2], 0.3)),\n",
    "        SphereM.Sphere([-1, 0, -1], 0.5, MetalM.Metal([0.8, 0.8, 0.8], 1))\n",
    "        ])"
   ]
  },
  {
   "cell_type": "code",
   "execution_count": 68,
   "metadata": {},
   "outputs": [
    {
     "data": {
      "image/png": "[encoded data removed]",
      "text/plain": [
       "100×200 Array{RGB{Float64},2} with eltype RGB{Float64}:\n",
       " RGB{Float64}(0.803801,0.887501,1.0)  …  RGB{Float64}(0.804661,0.887968,1.0)\n",
       " RGB{Float64}(0.804811,0.88805,1.0)      RGB{Float64}(0.805675,0.88852,1.0)\n",
       " RGB{Float64}(0.805942,0.888665,1.0)     RGB{Float64}(0.806756,0.889108,1.0)\n",
       " RGB{Float64}(0.806989,0.889235,1.0)     RGB{Float64}(0.807799,0.889676,1.0)\n",
       " RGB{Float64}(0.808023,0.889798,1.0)     RGB{Float64}(0.808923,0.890289,1.0)\n",
       " RGB{Float64}(0.809191,0.890435,1.0)  …  RGB{Float64}(0.810009,0.890881,1.0)\n",
       " RGB{Float64}(0.810275,0.891026,1.0)     RGB{Float64}(0.811103,0.891478,1.0)\n",
       " RGB{Float64}(0.811463,0.891674,1.0)     RGB{Float64}(0.812268,0.892114,1.0)\n",
       " RGB{Float64}(0.812559,0.892273,1.0)     RGB{Float64}(0.813256,0.892654,1.0)\n",
       " RGB{Float64}(0.813682,0.892887,1.0)     RGB{Float64}(0.814439,0.893301,1.0)\n",
       " RGB{Float64}(0.814742,0.893467,1.0)  …  RGB{Float64}(0.815619,0.893947,1.0)\n",
       " RGB{Float64}(0.815992,0.894151,1.0)     RGB{Float64}(0.816672,0.894523,1.0)\n",
       " RGB{Float64}(0.817153,0.894787,1.0)     RGB{Float64}(0.817877,0.895184,1.0)\n",
       " ⋮                                    ⋱  \n",
       " RGB{Float64}(0.633211,0.711584,0.0)     RGB{Float64}(0.660456,0.71423,0.0)\n",
       " RGB{Float64}(0.631469,0.702552,0.0)     RGB{Float64}(0.641704,0.683907,0.0)\n",
       " RGB{Float64}(0.619254,0.697898,0.0)  …  RGB{Float64}(0.647509,0.692288,0.0)\n",
       " RGB{Float64}(0.625997,0.70223,0.0)      RGB{Float64}(0.619899,0.656642,0.0)\n",
       " RGB{Float64}(0.629969,0.6998,0.0)       RGB{Float64}(0.647641,0.69007,0.0)\n",
       " RGB{Float64}(0.61052,0.684858,0.0)      RGB{Float64}(0.646915,0.691645,0.0)\n",
       " RGB{Float64}(0.628512,0.702943,0.0)     RGB{Float64}(0.629734,0.670578,0.0)\n",
       " RGB{Float64}(0.616733,0.69485,0.0)   …  RGB{Float64}(0.626927,0.663917,0.0)\n",
       " RGB{Float64}(0.6079,0.683763,0.0)       RGB{Float64}(0.626681,0.662555,0.0)\n",
       " RGB{Float64}(0.645794,0.723274,0.0)     RGB{Float64}(0.64073,0.677401,0.0)\n",
       " RGB{Float64}(0.624152,0.700866,0.0)     RGB{Float64}(0.643329,0.695077,0.0)\n",
       " RGB{Float64}(0.628641,0.704351,0.0)     RGB{Float64}(0.641978,0.686111,0.0)"
      ]
     },
     "execution_count": 68,
     "metadata": {},
     "output_type": "execute_result"
    }
   ],
   "source": [
    "render()"
   ]
  },
  {
   "cell_type": "markdown",
   "metadata": {},
   "source": [
    "# 10. Dielectrics"
   ]
  },
  {
   "cell_type": "code",
   "execution_count": 69,
   "metadata": {},
   "outputs": [
    {
     "data": {
      "text/plain": [
       "refract (generic function with 1 method)"
      ]
     },
     "execution_count": 69,
     "metadata": {},
     "output_type": "execute_result"
    }
   ],
   "source": [
    "function refract(uv, n, etai_over_etat)\n",
    "    cos_theta = dot(-uv, n)\n",
    "    r_out_parallel = etai_over_etat * (uv + cos_theta * n)\n",
    "    r_out_perp = -sqrt(1 - norm(r_out_parallel)^2) * n\n",
    "    r_out_parallel + r_out_perp\n",
    "end"
   ]
  },
  {
   "cell_type": "code",
   "execution_count": 70,
   "metadata": {},
   "outputs": [
    {
     "data": {
      "text/plain": [
       "Main.DielectricM"
      ]
     },
     "execution_count": 70,
     "metadata": {},
     "output_type": "execute_result"
    }
   ],
   "source": [
    "module DielectricM\n",
    "struct Dielectric <: Main.Material\n",
    "    ref_idx\n",
    "end\n",
    "end"
   ]
  },
  {
   "cell_type": "code",
   "execution_count": 71,
   "metadata": {},
   "outputs": [
    {
     "data": {
      "text/plain": [
       "scatter (generic function with 4 methods)"
      ]
     },
     "execution_count": 71,
     "metadata": {},
     "output_type": "execute_result"
    }
   ],
   "source": [
    "function scatter(dielectric::DielectricM.Dielectric, r_in, rec)\n",
    "    attenuation = [1, 1, 1]\n",
    "    etai_over_etat = if rec.front_face\n",
    "        1 / dielectric.ref_idx\n",
    "    else\n",
    "        dielectric.ref_idx\n",
    "    end\n",
    "    unit_direction = normalize(r_in.direction)\n",
    "    \n",
    "    cos_theta = min(dot(-unit_direction, rec.normal), 1)\n",
    "    sin_theta = sqrt(1 - cos_theta * cos_theta)\n",
    "    \n",
    "    if etai_over_etat * sin_theta > 1 \n",
    "        reflected = reflect(unit_direction, rec.normal)\n",
    "        scattered = RayM.Ray(rec.p, reflected)\n",
    "        return true, attenuation, scattered\n",
    "    end\n",
    "    \n",
    "    refracted = refract(unit_direction, rec.normal, etai_over_etat)\n",
    "    scattered = RayM.Ray(rec.p, refracted)\n",
    "    true, attenuation, scattered\n",
    "end"
   ]
  },
  {
   "cell_type": "code",
   "execution_count": 72,
   "metadata": {},
   "outputs": [
    {
     "data": {
      "text/plain": [
       "Main.HittableListM.HittableList(Main.SphereM.Sphere[Main.SphereM.Sphere([0, 0, -1], 0.5, Main.LambertianM.Lambertian([0.1, 0.2, 0.5])), Main.SphereM.Sphere([0.0, -100.5, -1.0], 100, Main.LambertianM.Lambertian([0.8, 0.8, 0.0])), Main.SphereM.Sphere([1, 0, -1], 0.5, Main.MetalM.Metal([0.8, 0.6, 0.2], 0)), Main.SphereM.Sphere([-1, 0, -1], 0.5, Main.DielectricM.Dielectric(1.5))])"
      ]
     },
     "execution_count": 72,
     "metadata": {},
     "output_type": "execute_result"
    }
   ],
   "source": [
    "world = HittableListM.HittableList([\n",
    "        SphereM.Sphere([0, 0, -1], 0.5, LambertianM.Lambertian([0.1, 0.2, 0.5])),\n",
    "        SphereM.Sphere([0, -100.5, -1], 100, LambertianM.Lambertian([0.8, 0.8, 0])),\n",
    "        SphereM.Sphere([1, 0, -1], 0.5, MetalM.Metal([0.8, 0.6, 0.2], 0)),\n",
    "        SphereM.Sphere([-1, 0, -1], 0.5, DielectricM.Dielectric(1.5))\n",
    "        ])"
   ]
  },
  {
   "cell_type": "code",
   "execution_count": 73,
   "metadata": {},
   "outputs": [
    {
     "data": {
      "image/png": "[encoded data removed]",
      "text/plain": [
       "100×200 Array{RGB{Float64},2} with eltype RGB{Float64}:\n",
       " RGB{Float64}(0.803751,0.887474,1.0)  …  RGB{Float64}(0.804546,0.887906,1.0)\n",
       " RGB{Float64}(0.804845,0.888068,1.0)     RGB{Float64}(0.805635,0.888498,1.0)\n",
       " RGB{Float64}(0.805916,0.888651,1.0)     RGB{Float64}(0.806821,0.889143,1.0)\n",
       " RGB{Float64}(0.80704,0.889263,1.0)      RGB{Float64}(0.807876,0.889718,1.0)\n",
       " RGB{Float64}(0.808105,0.889843,1.0)     RGB{Float64}(0.808863,0.890256,1.0)\n",
       " RGB{Float64}(0.809118,0.890395,1.0)  …  RGB{Float64}(0.809923,0.890834,1.0)\n",
       " RGB{Float64}(0.810337,0.89106,1.0)      RGB{Float64}(0.811072,0.891461,1.0)\n",
       " RGB{Float64}(0.811414,0.891648,1.0)     RGB{Float64}(0.812157,0.892053,1.0)\n",
       " RGB{Float64}(0.81252,0.892252,1.0)      RGB{Float64}(0.81325,0.892651,1.0)\n",
       " RGB{Float64}(0.81372,0.892908,1.0)      RGB{Float64}(0.814389,0.893274,1.0)\n",
       " RGB{Float64}(0.81474,0.893465,1.0)   …  RGB{Float64}(0.815537,0.893902,1.0)\n",
       " RGB{Float64}(0.815961,0.894134,1.0)     RGB{Float64}(0.816734,0.894557,1.0)\n",
       " RGB{Float64}(0.817138,0.894779,1.0)     RGB{Float64}(0.817789,0.895135,1.0)\n",
       " ⋮                                    ⋱  \n",
       " RGB{Float64}(0.684687,0.775421,0.0)     RGB{Float64}(0.648289,0.701036,0.0)\n",
       " RGB{Float64}(0.682177,0.770892,0.0)     RGB{Float64}(0.647473,0.698366,0.0)\n",
       " RGB{Float64}(0.678127,0.768535,0.0)  …  RGB{Float64}(0.639976,0.68397,0.0)\n",
       " RGB{Float64}(0.674723,0.765271,0.0)     RGB{Float64}(0.647759,0.696569,0.0)\n",
       " RGB{Float64}(0.686556,0.776412,0.0)     RGB{Float64}(0.639837,0.684072,0.0)\n",
       " RGB{Float64}(0.67912,0.767999,0.0)      RGB{Float64}(0.628461,0.671923,0.0)\n",
       " RGB{Float64}(0.675462,0.76608,0.0)      RGB{Float64}(0.639633,0.68181,0.0)\n",
       " RGB{Float64}(0.674563,0.765268,0.0)  …  RGB{Float64}(0.621613,0.668023,0.0)\n",
       " RGB{Float64}(0.67454,0.765392,0.0)      RGB{Float64}(0.635188,0.683447,0.0)\n",
       " RGB{Float64}(0.686591,0.77643,0.0)      RGB{Float64}(0.623149,0.670174,0.0)\n",
       " RGB{Float64}(0.680664,0.771828,0.0)     RGB{Float64}(0.634962,0.691735,0.0)\n",
       " RGB{Float64}(0.671972,0.762048,0.0)     RGB{Float64}(0.646461,0.702656,0.0)"
      ]
     },
     "execution_count": 73,
     "metadata": {},
     "output_type": "execute_result"
    }
   ],
   "source": [
    "render()"
   ]
  },
  {
   "cell_type": "code",
   "execution_count": 74,
   "metadata": {},
   "outputs": [
    {
     "data": {
      "text/plain": [
       "schlick (generic function with 1 method)"
      ]
     },
     "execution_count": 74,
     "metadata": {},
     "output_type": "execute_result"
    }
   ],
   "source": [
    "function schlick(cosine, ref_idx)\n",
    "    r0 = (1 - ref_idx) / (1 + ref_idx)\n",
    "    r0 *= r0\n",
    "    r0 + (1 - r0) * (1 - cosine)^5\n",
    "end"
   ]
  },
  {
   "cell_type": "code",
   "execution_count": 75,
   "metadata": {},
   "outputs": [
    {
     "data": {
      "text/plain": [
       "scatter (generic function with 4 methods)"
      ]
     },
     "execution_count": 75,
     "metadata": {},
     "output_type": "execute_result"
    }
   ],
   "source": [
    "function scatter(dielectric::DielectricM.Dielectric, r_in, rec)\n",
    "    attenuation = [1, 1, 1]\n",
    "    etai_over_etat = if rec.front_face\n",
    "        1 / dielectric.ref_idx\n",
    "    else\n",
    "        dielectric.ref_idx\n",
    "    end\n",
    "    unit_direction = normalize(r_in.direction)\n",
    "    \n",
    "    cos_theta = min(dot(-unit_direction, rec.normal), 1)\n",
    "    sin_theta = sqrt(1 - cos_theta * cos_theta)\n",
    "    \n",
    "    if etai_over_etat * sin_theta > 1 \n",
    "        reflected = reflect(unit_direction, rec.normal)\n",
    "        scattered = RayM.Ray(rec.p, reflected)\n",
    "        return true, attenuation, scattered\n",
    "    end\n",
    "    \n",
    "    reflect_prob = schlick(cos_theta, etai_over_etat)\n",
    "    if rand() < reflect_prob\n",
    "        reflected = reflect(unit_direction, rec.normal)\n",
    "        scattered = RayM.Ray(rec.p, reflected)\n",
    "        return true, attenuation, scattered\n",
    "    end\n",
    "    \n",
    "    refracted = refract(unit_direction, rec.normal, etai_over_etat)\n",
    "    scattered = RayM.Ray(rec.p, refracted)\n",
    "    true, attenuation, scattered\n",
    "end"
   ]
  },
  {
   "cell_type": "code",
   "execution_count": 76,
   "metadata": {},
   "outputs": [
    {
     "data": {
      "text/plain": [
       "Main.HittableListM.HittableList(Main.SphereM.Sphere[Main.SphereM.Sphere([0, 0, -1], 0.5, Main.LambertianM.Lambertian([0.1, 0.2, 0.5])), Main.SphereM.Sphere([0.0, -100.5, -1.0], 100, Main.LambertianM.Lambertian([0.8, 0.8, 0.0])), Main.SphereM.Sphere([1, 0, -1], 0.5, Main.MetalM.Metal([0.8, 0.6, 0.2], 0.3)), Main.SphereM.Sphere([-1, 0, -1], 0.5, Main.DielectricM.Dielectric(1.5)), Main.SphereM.Sphere([-1, 0, -1], -0.45, Main.DielectricM.Dielectric(1.5))])"
      ]
     },
     "execution_count": 76,
     "metadata": {},
     "output_type": "execute_result"
    }
   ],
   "source": [
    "world = HittableListM.HittableList([\n",
    "        SphereM.Sphere([0, 0, -1], 0.5, LambertianM.Lambertian([0.1, 0.2, 0.5])),\n",
    "        SphereM.Sphere([0, -100.5, -1], 100, LambertianM.Lambertian([0.8, 0.8, 0])),\n",
    "        SphereM.Sphere([1, 0, -1], 0.5, MetalM.Metal([0.8, 0.6, 0.2], 0.3)),\n",
    "        SphereM.Sphere([-1, 0, -1], 0.5, DielectricM.Dielectric(1.5)),\n",
    "        SphereM.Sphere([-1, 0, -1], -0.45, DielectricM.Dielectric(1.5))\n",
    "        ])"
   ]
  },
  {
   "cell_type": "code",
   "execution_count": 77,
   "metadata": {},
   "outputs": [
    {
     "data": {
      "image/png": "[encoded data removed]",
      "text/plain": [
       "100×200 Array{RGB{Float64},2} with eltype RGB{Float64}:\n",
       " RGB{Float64}(0.803737,0.887466,1.0)  …  RGB{Float64}(0.804663,0.887969,1.0)\n",
       " RGB{Float64}(0.804812,0.88805,1.0)      RGB{Float64}(0.805689,0.888527,1.0)\n",
       " RGB{Float64}(0.80589,0.888637,1.0)      RGB{Float64}(0.806796,0.88913,1.0)\n",
       " RGB{Float64}(0.807019,0.889251,1.0)     RGB{Float64}(0.807786,0.889669,1.0)\n",
       " RGB{Float64}(0.808059,0.889818,1.0)     RGB{Float64}(0.808893,0.890272,1.0)\n",
       " RGB{Float64}(0.80917,0.890424,1.0)   …  RGB{Float64}(0.809984,0.890867,1.0)\n",
       " RGB{Float64}(0.810316,0.891049,1.0)     RGB{Float64}(0.811093,0.891472,1.0)\n",
       " RGB{Float64}(0.81145,0.891667,1.0)      RGB{Float64}(0.812238,0.892098,1.0)\n",
       " RGB{Float64}(0.812494,0.892238,1.0)     RGB{Float64}(0.813316,0.892687,1.0)\n",
       " RGB{Float64}(0.813662,0.892876,1.0)     RGB{Float64}(0.814442,0.893303,1.0)\n",
       " RGB{Float64}(0.814821,0.89351,1.0)   …  RGB{Float64}(0.815564,0.893917,1.0)\n",
       " RGB{Float64}(0.815963,0.894135,1.0)     RGB{Float64}(0.816656,0.894514,1.0)\n",
       " RGB{Float64}(0.817142,0.894781,1.0)     RGB{Float64}(0.817875,0.895183,1.0)\n",
       " ⋮                                    ⋱  \n",
       " RGB{Float64}(0.670342,0.76084,0.0)      RGB{Float64}(0.640434,0.694775,0.0)\n",
       " RGB{Float64}(0.684192,0.769272,0.0)     RGB{Float64}(0.646816,0.699063,0.0)\n",
       " RGB{Float64}(0.662322,0.751519,0.0)  …  RGB{Float64}(0.635512,0.680323,0.0)\n",
       " RGB{Float64}(0.674833,0.764266,0.0)     RGB{Float64}(0.635144,0.690581,0.0)\n",
       " RGB{Float64}(0.672096,0.759547,0.0)     RGB{Float64}(0.636334,0.698409,0.0)\n",
       " RGB{Float64}(0.675484,0.762172,0.0)     RGB{Float64}(0.617914,0.669279,0.0)\n",
       " RGB{Float64}(0.681878,0.769818,0.0)     RGB{Float64}(0.654656,0.71209,0.0)\n",
       " RGB{Float64}(0.667595,0.756841,0.0)  …  RGB{Float64}(0.614401,0.658775,0.0)\n",
       " RGB{Float64}(0.678865,0.768055,0.0)     RGB{Float64}(0.630764,0.681824,0.0)\n",
       " RGB{Float64}(0.657399,0.749041,0.0)     RGB{Float64}(0.633087,0.682531,0.0)\n",
       " RGB{Float64}(0.668336,0.760041,0.0)     RGB{Float64}(0.629116,0.674213,0.0)\n",
       " RGB{Float64}(0.663227,0.755333,0.0)     RGB{Float64}(0.616213,0.669383,0.0)"
      ]
     },
     "execution_count": 77,
     "metadata": {},
     "output_type": "execute_result"
    }
   ],
   "source": [
    "render()"
   ]
  }
 ],
 "metadata": {
  "kernelspec": {
   "display_name": "Julia 1.4.1",
   "language": "julia",
   "name": "julia-1.4"
  },
  "language_info": {
   "file_extension": ".jl",
   "mimetype": "application/julia",
   "name": "julia",
   "version": "1.4.1"
  }
 },
 "nbformat": 4,
 "nbformat_minor": 4
}
