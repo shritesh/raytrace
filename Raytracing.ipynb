{
 "cells": [
  {
   "cell_type": "markdown",
   "metadata": {},
   "source": [
    "# Ray Tracing in One Weekend"
   ]
  },
  {
   "cell_type": "markdown",
   "metadata": {},
   "source": [
    "[Ray Tracing in One Weekend](https://raytracing.github.io/books/RayTracingInOneWeekend.html) in a Julia Notebook."
   ]
  },
  {
   "cell_type": "markdown",
   "metadata": {},
   "source": [
    "## Vec3"
   ]
  },
  {
   "cell_type": "code",
   "execution_count": 1,
   "metadata": {},
   "outputs": [],
   "source": [
    "struct Vec3\n",
    "    x::Float64\n",
    "    y::Float64\n",
    "    z::Float64\n",
    "end"
   ]
  },
  {
   "cell_type": "code",
   "execution_count": 2,
   "metadata": {},
   "outputs": [],
   "source": [
    "Base.:+(u::Vec3, v::Vec3) = Vec3(u.x + v.x, u.y + v.y, u.z + v.z)"
   ]
  },
  {
   "cell_type": "code",
   "execution_count": 3,
   "metadata": {},
   "outputs": [],
   "source": [
    "Base.:-(v::Vec3) = Vec3(-v.x, -v.y, -v.z)\n",
    "Base.:-(u::Vec3, v::Vec3) = Vec3(u.x - v.x, u.y - v.y, u.z - v.z)"
   ]
  },
  {
   "cell_type": "code",
   "execution_count": 4,
   "metadata": {},
   "outputs": [],
   "source": [
    "Base.:*(u::Vec3, v::Vec3) = Vec3(u.x * v.x, u.y * v.y, u.z * v.z)\n",
    "Base.:*(v::Vec3, t::Number) = Vec3(v.x * t, v.y * t, v.z * t)\n",
    "Base.:*(t::Number, v::Vec3) = v * t"
   ]
  },
  {
   "cell_type": "code",
   "execution_count": 5,
   "metadata": {},
   "outputs": [],
   "source": [
    "Base.:/(v::Vec3, t::Number) = Vec3(v.x / t, v.y / t, v.z / t)"
   ]
  },
  {
   "cell_type": "code",
   "execution_count": 6,
   "metadata": {},
   "outputs": [
    {
     "data": {
      "text/plain": [
       "length_squared (generic function with 1 method)"
      ]
     },
     "execution_count": 6,
     "metadata": {},
     "output_type": "execute_result"
    }
   ],
   "source": [
    "length_squared(v::Vec3) = v.x * v.x + v.y * v.y + v.z * v.z"
   ]
  },
  {
   "cell_type": "code",
   "execution_count": 7,
   "metadata": {},
   "outputs": [
    {
     "data": {
      "text/plain": [
       "length_vector (generic function with 1 method)"
      ]
     },
     "execution_count": 7,
     "metadata": {},
     "output_type": "execute_result"
    }
   ],
   "source": [
    "# length(collection) is for number of elements\n",
    "length_vector(v::Vec3) = sqrt(length_squared(v))"
   ]
  },
  {
   "cell_type": "code",
   "execution_count": 8,
   "metadata": {},
   "outputs": [
    {
     "data": {
      "text/plain": [
       "dot (generic function with 1 method)"
      ]
     },
     "execution_count": 8,
     "metadata": {},
     "output_type": "execute_result"
    }
   ],
   "source": [
    "dot(u::Vec3, v::Vec3) = u.x * v.x + u.y * v.y + u.z * v.z"
   ]
  },
  {
   "cell_type": "code",
   "execution_count": 9,
   "metadata": {},
   "outputs": [
    {
     "data": {
      "text/plain": [
       "cross (generic function with 1 method)"
      ]
     },
     "execution_count": 9,
     "metadata": {},
     "output_type": "execute_result"
    }
   ],
   "source": [
    "cross(u::Vec3, v::Vec3) = Vec3(\n",
    "    u.y * v.z - u.z * v.y,\n",
    "    u.z * v.x - u.x * v.z,\n",
    "    u.x * v.y - u.y * v.x\n",
    ")"
   ]
  },
  {
   "cell_type": "code",
   "execution_count": 10,
   "metadata": {},
   "outputs": [
    {
     "data": {
      "text/plain": [
       "unit_vector (generic function with 1 method)"
      ]
     },
     "execution_count": 10,
     "metadata": {},
     "output_type": "execute_result"
    }
   ],
   "source": [
    "unit_vector(v::Vec3) = v / length_vector(v)"
   ]
  },
  {
   "cell_type": "code",
   "execution_count": 11,
   "metadata": {},
   "outputs": [
    {
     "data": {
      "text/plain": [
       "reflect (generic function with 1 method)"
      ]
     },
     "execution_count": 11,
     "metadata": {},
     "output_type": "execute_result"
    }
   ],
   "source": [
    "reflect(v::Vec3, n::Vec3) = v - 2 * dot(v, n) * n"
   ]
  },
  {
   "cell_type": "code",
   "execution_count": 12,
   "metadata": {},
   "outputs": [
    {
     "data": {
      "text/plain": [
       "refract (generic function with 1 method)"
      ]
     },
     "execution_count": 12,
     "metadata": {},
     "output_type": "execute_result"
    }
   ],
   "source": [
    "function refract(uv::Vec3, n::Vec3, etai_over_etat::Float64)\n",
    "    cos_theta = dot(-uv, n)\n",
    "    r_out_parallel = etai_over_etat * (uv + cos_theta * n)\n",
    "    r_out_perp = -sqrt(1 - length_squared(r_out_parallel)) * n\n",
    "    r_out_parallel + r_out_perp\n",
    "end"
   ]
  },
  {
   "cell_type": "code",
   "execution_count": 13,
   "metadata": {},
   "outputs": [
    {
     "data": {
      "text/plain": [
       "random_in_unit_sphere (generic function with 1 method)"
      ]
     },
     "execution_count": 13,
     "metadata": {},
     "output_type": "execute_result"
    }
   ],
   "source": [
    "function random_in_unit_sphere()\n",
    "    while true\n",
    "        p = Vec3(rand(-1:eps():1), rand(-1:eps():1), rand(-1:eps():1))\n",
    "        if length_squared(p) < 1\n",
    "            return p\n",
    "        end\n",
    "    end\n",
    " end"
   ]
  },
  {
   "cell_type": "code",
   "execution_count": 14,
   "metadata": {},
   "outputs": [
    {
     "data": {
      "text/plain": [
       "random_unit_vector (generic function with 1 method)"
      ]
     },
     "execution_count": 14,
     "metadata": {},
     "output_type": "execute_result"
    }
   ],
   "source": [
    "function random_unit_vector()\n",
    "    a = rand(0:eps():2pi)\n",
    "    z = rand(-1:eps():1)\n",
    "    r = sqrt(1 - z * z)\n",
    "    Vec3(r * cos(a), r * sin(a), z)\n",
    "end"
   ]
  },
  {
   "cell_type": "code",
   "execution_count": 15,
   "metadata": {},
   "outputs": [
    {
     "data": {
      "text/plain": [
       "random_in_hemisphere (generic function with 1 method)"
      ]
     },
     "execution_count": 15,
     "metadata": {},
     "output_type": "execute_result"
    }
   ],
   "source": [
    "function random_in_hemisphere(normal::Vec3)\n",
    "    in_unit_sphere = random_in_unit_sphere()\n",
    "    if dot(in_unit_sphere, normal) > 0\n",
    "        in_unit_sphere\n",
    "    else\n",
    "        -in_unit_sphere\n",
    "    end\n",
    "end"
   ]
  },
  {
   "cell_type": "code",
   "execution_count": 16,
   "metadata": {},
   "outputs": [
    {
     "data": {
      "text/plain": [
       "random_in_unit_disk (generic function with 1 method)"
      ]
     },
     "execution_count": 16,
     "metadata": {},
     "output_type": "execute_result"
    }
   ],
   "source": [
    "function random_in_unit_disk()\n",
    "    while true\n",
    "        p = Vec3(rand(-1:eps():1), rand(-1:eps():1), 0)\n",
    "        if length_squared(p) < 1\n",
    "            return p\n",
    "        end\n",
    "    end\n",
    "end"
   ]
  },
  {
   "cell_type": "markdown",
   "metadata": {},
   "source": [
    "## Ray"
   ]
  },
  {
   "cell_type": "code",
   "execution_count": 17,
   "metadata": {},
   "outputs": [],
   "source": [
    "struct Ray\n",
    "    origin::Vec3\n",
    "    direction::Vec3\n",
    "end"
   ]
  },
  {
   "cell_type": "code",
   "execution_count": 18,
   "metadata": {},
   "outputs": [
    {
     "data": {
      "text/plain": [
       "at (generic function with 1 method)"
      ]
     },
     "execution_count": 18,
     "metadata": {},
     "output_type": "execute_result"
    }
   ],
   "source": [
    "at(ray::Ray, t::Number) = ray.origin + t * ray.direction"
   ]
  },
  {
   "cell_type": "markdown",
   "metadata": {},
   "source": [
    "## Hittable and Material"
   ]
  },
  {
   "cell_type": "code",
   "execution_count": 19,
   "metadata": {},
   "outputs": [],
   "source": [
    "abstract type Hittable end"
   ]
  },
  {
   "cell_type": "code",
   "execution_count": 20,
   "metadata": {},
   "outputs": [],
   "source": [
    "abstract type Material end"
   ]
  },
  {
   "cell_type": "markdown",
   "metadata": {},
   "source": [
    "## HitRecord"
   ]
  },
  {
   "cell_type": "code",
   "execution_count": 21,
   "metadata": {},
   "outputs": [],
   "source": [
    "struct HitRecord\n",
    "    p::Vec3\n",
    "    normal::Vec3\n",
    "    mat::Material\n",
    "    t::Float64\n",
    "    front_face::Bool\n",
    "    \n",
    "    function HitRecord(\n",
    "            p::Vec3,\n",
    "            t::Number,\n",
    "            mat::Material,\n",
    "            r::Ray,\n",
    "            outward_normal::Vec3)\n",
    "        front_face = dot(r.direction, outward_normal) < 0\n",
    "        normal = front_face ? outward_normal : -outward_normal\n",
    "        new(p, normal, mat, t, front_face)\n",
    "    end\n",
    "end"
   ]
  },
  {
   "cell_type": "markdown",
   "metadata": {},
   "source": [
    "## Sphere"
   ]
  },
  {
   "cell_type": "code",
   "execution_count": 22,
   "metadata": {},
   "outputs": [],
   "source": [
    "struct Sphere <: Hittable\n",
    "    center::Vec3\n",
    "    radius::Float64\n",
    "    mat::Material\n",
    "end"
   ]
  },
  {
   "cell_type": "code",
   "execution_count": 23,
   "metadata": {},
   "outputs": [
    {
     "data": {
      "text/plain": [
       "hit (generic function with 1 method)"
      ]
     },
     "execution_count": 23,
     "metadata": {},
     "output_type": "execute_result"
    }
   ],
   "source": [
    "function hit(\n",
    "        sphere::Sphere,\n",
    "        r::Ray,\n",
    "        t_min::Number,\n",
    "        t_max::Number,\n",
    "        )::Union{HitRecord,Nothing}\n",
    "    \n",
    "    oc = r.origin - sphere.center\n",
    "    a = length_squared(r.direction)\n",
    "    half_b = dot(oc, r.direction)\n",
    "    c = length_squared(oc) - sphere.radius * sphere.radius\n",
    "    discriminant = half_b * half_b - a * c\n",
    "\n",
    "    if discriminant > 0\n",
    "        root = sqrt(discriminant)\n",
    "        temp = (-half_b - root) / a\n",
    "        if t_min < temp < t_max\n",
    "            p = at(r, temp)\n",
    "            outward_normal = (p - sphere.center) / sphere.radius\n",
    "            HitRecord(p, temp, sphere.mat, r, outward_normal)\n",
    "        else\n",
    "            temp = (-half_b + root) / a\n",
    "            if t_min < temp < t_max\n",
    "                p = at(r, temp)\n",
    "                outward_normal = (p - sphere.center) / sphere.radius\n",
    "                HitRecord(p, temp, sphere.mat, r, outward_normal)\n",
    "            end\n",
    "        end\n",
    "    end\n",
    "end"
   ]
  },
  {
   "cell_type": "markdown",
   "metadata": {},
   "source": [
    "## HittableList"
   ]
  },
  {
   "cell_type": "code",
   "execution_count": 24,
   "metadata": {},
   "outputs": [],
   "source": [
    "struct HittableList <: Hittable\n",
    "    objects::Vector{Sphere}\n",
    "end"
   ]
  },
  {
   "cell_type": "code",
   "execution_count": 25,
   "metadata": {},
   "outputs": [
    {
     "data": {
      "text/plain": [
       "hit (generic function with 2 methods)"
      ]
     },
     "execution_count": 25,
     "metadata": {},
     "output_type": "execute_result"
    }
   ],
   "source": [
    "function hit(\n",
    "        hl::HittableList,\n",
    "        r::Ray,\n",
    "        t_min::Number,\n",
    "        t_max::Number,\n",
    "        )::Union{HitRecord,Nothing}\n",
    "    closest_so_far = t_max\n",
    "    \n",
    "    hr::Union{HitRecord,Nothing} = nothing\n",
    "    \n",
    "    for obj in hl.objects\n",
    "        temp_hr = hit(obj, r, t_min, closest_so_far)\n",
    "        if temp_hr != nothing\n",
    "            closest_so_far = temp_hr.t\n",
    "            hr = temp_hr\n",
    "        end\n",
    "    end\n",
    "    \n",
    "    hr\n",
    " end"
   ]
  },
  {
   "cell_type": "markdown",
   "metadata": {},
   "source": [
    "## Lambertian"
   ]
  },
  {
   "cell_type": "code",
   "execution_count": 26,
   "metadata": {},
   "outputs": [],
   "source": [
    "struct Lambertian <: Material\n",
    "    albedo::Vec3\n",
    "end"
   ]
  },
  {
   "cell_type": "code",
   "execution_count": 27,
   "metadata": {},
   "outputs": [
    {
     "data": {
      "text/plain": [
       "scatter (generic function with 1 method)"
      ]
     },
     "execution_count": 27,
     "metadata": {},
     "output_type": "execute_result"
    }
   ],
   "source": [
    "function scatter(\n",
    "        lambertian::Lambertian,\n",
    "        r_in::Ray,\n",
    "        rec::HitRecord,\n",
    "        )::Tuple{Bool,Vec3,Ray}\n",
    "    scatter_direction = rec.normal + random_unit_vector()\n",
    "    scattered = Ray(rec.p, scatter_direction)\n",
    "    attenuation = lambertian.albedo\n",
    "    true, attenuation, scattered\n",
    "end"
   ]
  },
  {
   "cell_type": "markdown",
   "metadata": {},
   "source": [
    "## Metal"
   ]
  },
  {
   "cell_type": "code",
   "execution_count": 28,
   "metadata": {},
   "outputs": [],
   "source": [
    "struct Metal <: Material\n",
    "    albedo::Vec3\n",
    "    fuzz::Float64\n",
    "    \n",
    "    Metal(albedo::Vec3, fuzz::Number) = new(albedo, fuzz < 1 ? fuzz : 1)\n",
    " end"
   ]
  },
  {
   "cell_type": "code",
   "execution_count": 29,
   "metadata": {},
   "outputs": [
    {
     "data": {
      "text/plain": [
       "scatter (generic function with 2 methods)"
      ]
     },
     "execution_count": 29,
     "metadata": {},
     "output_type": "execute_result"
    }
   ],
   "source": [
    "function scatter(\n",
    "        metal::Metal, \n",
    "        r_in::Ray,\n",
    "        rec::HitRecord)::Tuple{Bool,Vec3,Ray}\n",
    "    reflected = reflect(unit_vector(r_in.direction), rec.normal)\n",
    "    scattered = Ray(rec.p, reflected)\n",
    "    attenuation = metal.albedo\n",
    "    dot(scattered.direction, rec.normal) > 0, attenuation, scattered\n",
    "end"
   ]
  },
  {
   "cell_type": "markdown",
   "metadata": {},
   "source": [
    "## Dielectric"
   ]
  },
  {
   "cell_type": "code",
   "execution_count": 30,
   "metadata": {},
   "outputs": [
    {
     "data": {
      "text/plain": [
       "schlick (generic function with 1 method)"
      ]
     },
     "execution_count": 30,
     "metadata": {},
     "output_type": "execute_result"
    }
   ],
   "source": [
    "function schlick(cosine::Float64, ref_idx::Float64)\n",
    "    r0 = (1 - ref_idx) / (1 + ref_idx)\n",
    "    r0 *= r0\n",
    "    r0 + (1 - r0) * (1 - cosine)^5\n",
    " end"
   ]
  },
  {
   "cell_type": "code",
   "execution_count": 31,
   "metadata": {},
   "outputs": [],
   "source": [
    "struct Dielectric <: Material\n",
    "    ref_idx::Float64\n",
    "end"
   ]
  },
  {
   "cell_type": "code",
   "execution_count": 32,
   "metadata": {},
   "outputs": [
    {
     "data": {
      "text/plain": [
       "scatter (generic function with 3 methods)"
      ]
     },
     "execution_count": 32,
     "metadata": {},
     "output_type": "execute_result"
    }
   ],
   "source": [
    "function scatter(\n",
    "        dielectric::Dielectric,\n",
    "        r_in::Ray,\n",
    "        rec::HitRecord\n",
    "        )::Tuple{Bool,Vec3,Ray}\n",
    "    attenuation = Vec3(1, 1, 1)\n",
    "    etai_over_etat = \n",
    "    rec.front_face ? 1 / dielectric.ref_idx : dielectric.ref_idx\n",
    "    \n",
    "    unit_direction = unit_vector(r_in.direction)\n",
    "    cos_theta = min(dot(-unit_direction, rec.normal), 1)\n",
    "    sin_theta = sqrt(1 - cos_theta * cos_theta)\n",
    "    \n",
    "    if etai_over_etat * sin_theta > 1\n",
    "        reflected = reflect(unit_direction, rec.normal)\n",
    "        scattered = Ray(rec.p, reflected)\n",
    "        true, attenuation, scattered\n",
    "    else\n",
    "        reflect_prob = schlick(cos_theta, etai_over_etat)\n",
    "        if rand() < reflect_prob\n",
    "            reflected = reflect(unit_direction, rec.normal)\n",
    "            scattered = Ray(rec.p, reflected)\n",
    "            true, attenuation, scattered\n",
    "        else\n",
    "            refracted = refract(unit_direction, rec.normal, etai_over_etat)\n",
    "            scattered = Ray(rec.p, refracted)\n",
    "            true, attenuation, scattered\n",
    "        end\n",
    "    end\n",
    "end"
   ]
  },
  {
   "cell_type": "markdown",
   "metadata": {},
   "source": [
    "## Camera"
   ]
  },
  {
   "cell_type": "code",
   "execution_count": 33,
   "metadata": {},
   "outputs": [],
   "source": [
    "struct Camera\n",
    "    origin::Vec3\n",
    "    lower_left_corner::Vec3\n",
    "    horizontal::Vec3\n",
    "    vertical::Vec3\n",
    "    u::Vec3\n",
    "    v::Vec3\n",
    "    w::Vec3\n",
    "    lens_radius::Float64\n",
    "    \n",
    "    function Camera(\n",
    "            lookfrom::Vec3,\n",
    "            lookat::Vec3,\n",
    "            vup::Vec3,\n",
    "            vfov::Number,\n",
    "            aspect_ratio::Number,\n",
    "            aperture::Number,\n",
    "            focus_dist::Number)\n",
    "        origin = lookfrom\n",
    "        lens_radius = aperture / 2\n",
    "        \n",
    "        theta = deg2rad(vfov)\n",
    "        half_height = tan(theta / 2)\n",
    "        half_width = aspect_ratio * half_height\n",
    "\n",
    "        w = unit_vector(lookfrom - lookat)\n",
    "        u = unit_vector(cross(vup, w))\n",
    "        v = cross(w, u)\n",
    "\n",
    "        lower_left_corner = origin - half_width * focus_dist * u - half_height * focus_dist * v - focus_dist * w\n",
    "\n",
    "        horizontal = 2 * half_width * focus_dist * u\n",
    "        vertical = 2 * half_height * focus_dist * v\n",
    "\n",
    "        new(origin, lower_left_corner, horizontal, vertical, u, v, w, lens_radius)\n",
    "    end\n",
    "end"
   ]
  },
  {
   "cell_type": "code",
   "execution_count": 34,
   "metadata": {},
   "outputs": [
    {
     "data": {
      "text/plain": [
       "get_ray (generic function with 1 method)"
      ]
     },
     "execution_count": 34,
     "metadata": {},
     "output_type": "execute_result"
    }
   ],
   "source": [
    "function get_ray(camera::Camera, s::Number, t::Number)::Ray\n",
    "    rd = camera.lens_radius * random_in_unit_disk()\n",
    "    offset = camera.u * rd.x + camera.v * rd.y\n",
    "\n",
    "     Ray(\n",
    "        camera.origin + offset,\n",
    "        camera.lower_left_corner + s * camera.horizontal + t * camera.vertical - camera.origin - offset)\n",
    " end"
   ]
  },
  {
   "cell_type": "markdown",
   "metadata": {},
   "source": [
    "## Image"
   ]
  },
  {
   "cell_type": "code",
   "execution_count": 35,
   "metadata": {},
   "outputs": [],
   "source": [
    "using Images"
   ]
  },
  {
   "cell_type": "code",
   "execution_count": 36,
   "metadata": {},
   "outputs": [],
   "source": [
    "const aspect_ratio = 16 / 9\n",
    "const image_width = 384\n",
    "const image_height = Int(image_width ÷ aspect_ratio)\n",
    "const samples_per_pixel = 100\n",
    "const max_depth = 50;"
   ]
  },
  {
   "cell_type": "code",
   "execution_count": 37,
   "metadata": {},
   "outputs": [
    {
     "data": {
      "text/plain": [
       "0.1"
      ]
     },
     "execution_count": 37,
     "metadata": {},
     "output_type": "execute_result"
    }
   ],
   "source": [
    "const lookfrom = Vec3(13, 2, 3)\n",
    "const lookat = Vec3(0, 0, 0)\n",
    "const vup = Vec3(0, 1, 0)\n",
    "const dist_to_focus = 10\n",
    "const aperture = 0.1"
   ]
  },
  {
   "cell_type": "code",
   "execution_count": 38,
   "metadata": {},
   "outputs": [],
   "source": [
    "const cam = Camera(lookfrom, lookat, vup, 20.0, aspect_ratio, aperture, dist_to_focus);"
   ]
  },
  {
   "cell_type": "code",
   "execution_count": 39,
   "metadata": {},
   "outputs": [
    {
     "data": {
      "text/plain": [
       "random_scene (generic function with 1 method)"
      ]
     },
     "execution_count": 39,
     "metadata": {},
     "output_type": "execute_result"
    }
   ],
   "source": [
    "function random_scene()\n",
    "    world = HittableList([])\n",
    "    push!(world.objects, Sphere(Vec3(0, -1000, 0), 1000, Lambertian(Vec3(0.5, 0.5, 0.5))))\n",
    "    \n",
    "    for a = -11:10, b = -11:10\n",
    "        choose_mat = rand()\n",
    "        center = Vec3(a + 0.9 * rand(), 0.2, b + 0.9 * rand())\n",
    "        \n",
    "        if length_vector(center - Vec3(4, 0.2, 0)) > 0.9\n",
    "            if choose_mat < 0.8\n",
    "                # diffuse\n",
    "                albedo = Vec3(rand(), rand(), rand()) * Vec3(rand(), rand(), rand())\n",
    "                push!(world.objects, Sphere(center, 0.2, Lambertian(albedo)))\n",
    "            elseif choose_mat < 0.95\n",
    "                # metal\n",
    "                albedo = Vec3(rand(0.5:eps():1), rand(0.5:eps():1), rand(0.5:eps():1))\n",
    "                fuzz = rand(0:eps():0.5)\n",
    "                push!(world.objects, Sphere(center, 0.2, Metal(albedo, fuzz)))\n",
    "            else\n",
    "                # glass\n",
    "                push!(world.objects, Sphere(center, 0.2, Dielectric(1.5)))\n",
    "            end\n",
    "        end\n",
    "    end\n",
    "    \n",
    "    push!(world.objects, Sphere(Vec3(0, 1, 0), 1, Dielectric(1.5)))\n",
    "    push!(world.objects, Sphere(Vec3(-4, 1, 0), 1, Lambertian(Vec3(0.4, 0.2, 0.1))))\n",
    "    push!(world.objects, Sphere(Vec3(4, 1, 0), 1, Metal(Vec3(0.7, 0.6, 0.5), 0.0)))\n",
    "\n",
    "    world\n",
    "end"
   ]
  },
  {
   "cell_type": "code",
   "execution_count": 40,
   "metadata": {},
   "outputs": [],
   "source": [
    "const world = random_scene();"
   ]
  },
  {
   "cell_type": "code",
   "execution_count": 41,
   "metadata": {},
   "outputs": [
    {
     "data": {
      "text/plain": [
       "ray_color (generic function with 1 method)"
      ]
     },
     "execution_count": 41,
     "metadata": {},
     "output_type": "execute_result"
    }
   ],
   "source": [
    "function ray_color(r::Ray, depth::Int)\n",
    "    if depth <= 0\n",
    "        return Vec3(0, 0, 0)\n",
    "    end\n",
    "    \n",
    "    hr = hit(world, r, 0.001, Inf)\n",
    "    \n",
    "    if hr != nothing\n",
    "        did_scatter, attenuation, scattered = scatter(hr.mat, r, hr)\n",
    "        if did_scatter\n",
    "            attenuation * ray_color(scattered, depth - 1)\n",
    "        else\n",
    "            Vec3(0, 0, 0)\n",
    "        end\n",
    "    else\n",
    "        unit_direction = unit_vector(r.direction)\n",
    "        t = 0.5 * (unit_direction.y + 1)\n",
    "        (1 - t) * Vec3(1, 1, 1) + t * Vec3(0.5, 0.7, 1)\n",
    "    end\n",
    "end"
   ]
  },
  {
   "cell_type": "code",
   "execution_count": 42,
   "metadata": {},
   "outputs": [
    {
     "data": {
      "text/plain": [
       "color (generic function with 1 method)"
      ]
     },
     "execution_count": 42,
     "metadata": {},
     "output_type": "execute_result"
    }
   ],
   "source": [
    "function color(i::Int, j::Int)\n",
    "    c = Vec3(0, 0, 0)\n",
    "    for _ = 1:samples_per_pixel\n",
    "        u = (i + rand()) / image_width\n",
    "        v = (j + rand()) / image_height\n",
    "        r = get_ray(cam, u, v)\n",
    "        c += ray_color(r, max_depth)\n",
    "    end\n",
    "    c /= samples_per_pixel\n",
    "    RGB(sqrt(c.x), sqrt(c.y), sqrt(c.z))\n",
    "end"
   ]
  },
  {
   "cell_type": "code",
   "execution_count": 43,
   "metadata": {},
   "outputs": [
    {
     "data": {
      "text/plain": [
       "render (generic function with 1 method)"
      ]
     },
     "execution_count": 43,
     "metadata": {},
     "output_type": "execute_result"
    }
   ],
   "source": [
    "function render()\n",
    "    [color(i, j) for j in image_height:-1:1, i in 1:image_width]\n",
    "end"
   ]
  },
  {
   "cell_type": "code",
   "execution_count": 44,
   "metadata": {},
   "outputs": [
    {
     "name": "stdout",
     "output_type": "stream",
     "text": [
      " 43.463415 seconds (20.83 M allocations: 1.554 GiB, 0.40% gc time)\n"
     ]
    },
    {
     "data": {
      "image/png": "[encoded data removed]",
      "text/plain": [
       "216×384 Array{RGB{Float64},2} with eltype RGB{Float64}:\n",
       " RGB{Float64}(0.86234,0.91988,1.0)         …  RGB{Float64}(0.862365,0.919894,1.0)\n",
       " RGB{Float64}(0.862558,0.920002,1.0)          RGB{Float64}(0.862562,0.920004,1.0)\n",
       " RGB{Float64}(0.862762,0.920117,1.0)          RGB{Float64}(0.86278,0.920127,1.0)\n",
       " RGB{Float64}(0.862993,0.920247,1.0)          RGB{Float64}(0.86296,0.920228,1.0)\n",
       " RGB{Float64}(0.863206,0.920367,1.0)          RGB{Float64}(0.863143,0.920331,1.0)\n",
       " RGB{Float64}(0.863423,0.920489,1.0)       …  RGB{Float64}(0.863496,0.92053,1.0)\n",
       " RGB{Float64}(0.863697,0.920643,1.0)          RGB{Float64}(0.863669,0.920627,1.0)\n",
       " RGB{Float64}(0.863892,0.920753,1.0)          RGB{Float64}(0.863967,0.920795,1.0)\n",
       " RGB{Float64}(0.864093,0.920866,1.0)          RGB{Float64}(0.864129,0.920886,1.0)\n",
       " RGB{Float64}(0.864353,0.921012,1.0)          RGB{Float64}(0.864356,0.921014,1.0)\n",
       " RGB{Float64}(0.864557,0.921127,1.0)       …  RGB{Float64}(0.864621,0.921163,1.0)\n",
       " RGB{Float64}(0.864782,0.921254,1.0)          RGB{Float64}(0.864725,0.921222,1.0)\n",
       " RGB{Float64}(0.864962,0.921356,1.0)          RGB{Float64}(0.864997,0.921375,1.0)\n",
       " ⋮                                         ⋱  \n",
       " RGB{Float64}(0.475831,0.543298,0.456767)     RGB{Float64}(0.523986,0.591143,0.685458)\n",
       " RGB{Float64}(0.474051,0.535367,0.450114)  …  RGB{Float64}(0.521907,0.58836,0.691282)\n",
       " RGB{Float64}(0.473773,0.539706,0.458257)     RGB{Float64}(0.527937,0.600969,0.700035)\n",
       " RGB{Float64}(0.460037,0.519356,0.430341)     RGB{Float64}(0.506268,0.573429,0.673733)\n",
       " RGB{Float64}(0.469022,0.527208,0.426263)     RGB{Float64}(0.550014,0.614912,0.71506)\n",
       " RGB{Float64}(0.419161,0.476846,0.388782)     RGB{Float64}(0.543245,0.566753,0.703698)\n",
       " RGB{Float64}(0.43707,0.48871,0.37964)     …  RGB{Float64}(0.568082,0.557289,0.723732)\n",
       " RGB{Float64}(0.381121,0.424281,0.343565)     RGB{Float64}(0.575213,0.499747,0.723261)\n",
       " RGB{Float64}(0.375427,0.422332,0.366805)     RGB{Float64}(0.602473,0.470946,0.74924)\n",
       " RGB{Float64}(0.38087,0.424355,0.402607)      RGB{Float64}(0.627017,0.459129,0.769117)\n",
       " RGB{Float64}(0.350819,0.387549,0.383062)     RGB{Float64}(0.611163,0.428072,0.758569)\n",
       " RGB{Float64}(0.343827,0.379598,0.385406)  …  RGB{Float64}(0.624493,0.435353,0.769649)"
      ]
     },
     "execution_count": 44,
     "metadata": {},
     "output_type": "execute_result"
    }
   ],
   "source": [
    "@time render()"
   ]
  }
 ],
 "metadata": {
  "@webio": {
   "lastCommId": null,
   "lastKernelId": null
  },
  "kernelspec": {
   "display_name": "Julia Optimized 1.4.1",
   "language": "julia",
   "name": "julia-optimized-1.4"
  },
  "language_info": {
   "file_extension": ".jl",
   "mimetype": "application/julia",
   "name": "julia",
   "version": "1.4.1"
  }
 },
 "nbformat": 4,
 "nbformat_minor": 4
}
