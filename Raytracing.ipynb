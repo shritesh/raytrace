{
 "cells": [
  {
   "cell_type": "markdown",
   "metadata": {},
   "source": [
    "# Ray Tracing in One Weekend"
   ]
  },
  {
   "cell_type": "markdown",
   "metadata": {},
   "source": [
    "[Ray Tracing in One Weekend](https://raytracing.github.io/books/RayTracingInOneWeekend.html) in a Julia Notebook."
   ]
  },
  {
   "cell_type": "markdown",
   "metadata": {},
   "source": [
    "## Vec3"
   ]
  },
  {
   "cell_type": "code",
   "execution_count": 1,
   "metadata": {},
   "outputs": [],
   "source": [
    "struct Vec3\n",
    "    x::Float64\n",
    "    y::Float64\n",
    "    z::Float64\n",
    "end"
   ]
  },
  {
   "cell_type": "code",
   "execution_count": 2,
   "metadata": {},
   "outputs": [],
   "source": [
    "Base.:+(u::Vec3, v::Vec3) = Vec3(u.x + v.x, u.y + v.y, u.z + v.z)"
   ]
  },
  {
   "cell_type": "code",
   "execution_count": 3,
   "metadata": {},
   "outputs": [],
   "source": [
    "Base.:-(v::Vec3) = Vec3(-v.x, -v.y, -v.z)\n",
    "Base.:-(u::Vec3, v::Vec3) = Vec3(u.x - v.x, u.y - v.y, u.z - v.z)"
   ]
  },
  {
   "cell_type": "code",
   "execution_count": 4,
   "metadata": {},
   "outputs": [],
   "source": [
    "Base.:*(u::Vec3, v::Vec3) = Vec3(u.x * v.x, u.y * v.y, u.z * v.z)\n",
    "Base.:*(v::Vec3, t::Number) = Vec3(v.x * t, v.y * t, v.z * t)\n",
    "Base.:*(t::Number, v::Vec3) = v * t"
   ]
  },
  {
   "cell_type": "code",
   "execution_count": 5,
   "metadata": {},
   "outputs": [],
   "source": [
    "Base.:/(v::Vec3, t::Number) = Vec3(v.x / t, v.y / t, v.z / t)"
   ]
  },
  {
   "cell_type": "code",
   "execution_count": 6,
   "metadata": {},
   "outputs": [
    {
     "data": {
      "text/plain": [
       "length_squared (generic function with 1 method)"
      ]
     },
     "execution_count": 6,
     "metadata": {},
     "output_type": "execute_result"
    }
   ],
   "source": [
    "length_squared(v::Vec3) = v.x * v.x + v.y * v.y + v.z * v.z"
   ]
  },
  {
   "cell_type": "code",
   "execution_count": 7,
   "metadata": {},
   "outputs": [
    {
     "data": {
      "text/plain": [
       "length_vector (generic function with 1 method)"
      ]
     },
     "execution_count": 7,
     "metadata": {},
     "output_type": "execute_result"
    }
   ],
   "source": [
    "# length(collection) is for number of elements\n",
    "length_vector(v::Vec3) = sqrt(length_squared(v))"
   ]
  },
  {
   "cell_type": "code",
   "execution_count": 8,
   "metadata": {},
   "outputs": [
    {
     "data": {
      "text/plain": [
       "dot (generic function with 1 method)"
      ]
     },
     "execution_count": 8,
     "metadata": {},
     "output_type": "execute_result"
    }
   ],
   "source": [
    "dot(u::Vec3, v::Vec3) = u.x * v.x + u.y * v.y + u.z * v.z"
   ]
  },
  {
   "cell_type": "code",
   "execution_count": 9,
   "metadata": {},
   "outputs": [
    {
     "data": {
      "text/plain": [
       "cross (generic function with 1 method)"
      ]
     },
     "execution_count": 9,
     "metadata": {},
     "output_type": "execute_result"
    }
   ],
   "source": [
    "cross(u::Vec3, v::Vec3) = Vec3(\n",
    "    u.y * v.z - u.z * v.y,\n",
    "    u.z * v.x - u.x * v.z,\n",
    "    u.x * v.y - u.y * v.x\n",
    ")"
   ]
  },
  {
   "cell_type": "code",
   "execution_count": 10,
   "metadata": {},
   "outputs": [
    {
     "data": {
      "text/plain": [
       "unit_vector (generic function with 1 method)"
      ]
     },
     "execution_count": 10,
     "metadata": {},
     "output_type": "execute_result"
    }
   ],
   "source": [
    "unit_vector(v::Vec3) = v / length_vector(v)"
   ]
  },
  {
   "cell_type": "markdown",
   "metadata": {},
   "source": [
    "## Ray"
   ]
  },
  {
   "cell_type": "code",
   "execution_count": 11,
   "metadata": {},
   "outputs": [],
   "source": [
    "struct Ray\n",
    "    origin::Vec3\n",
    "    direction::Vec3\n",
    "end"
   ]
  },
  {
   "cell_type": "code",
   "execution_count": 12,
   "metadata": {},
   "outputs": [
    {
     "data": {
      "text/plain": [
       "at (generic function with 1 method)"
      ]
     },
     "execution_count": 12,
     "metadata": {},
     "output_type": "execute_result"
    }
   ],
   "source": [
    "at(ray::Ray, t::Number) = ray.origin + t * ray.direction"
   ]
  },
  {
   "cell_type": "markdown",
   "metadata": {},
   "source": [
    "## Hittable, HitRecord and HittableList"
   ]
  },
  {
   "cell_type": "code",
   "execution_count": 13,
   "metadata": {},
   "outputs": [],
   "source": [
    "abstract type Hittable end"
   ]
  },
  {
   "cell_type": "code",
   "execution_count": 14,
   "metadata": {},
   "outputs": [],
   "source": [
    "struct HitRecord\n",
    "    p::Vec3\n",
    "    normal::Vec3\n",
    "    t::Float64\n",
    "    front_face::Bool\n",
    "    \n",
    "    function HitRecord(p::Vec3, t::Number, r::Ray, outward_normal::Vec3)\n",
    "        front_face = dot(r.direction, outward_normal) < 0\n",
    "        normal = front_face ? outward_normal : -outward_normal\n",
    "        new(p, normal, t, front_face)\n",
    "    end\n",
    " end"
   ]
  },
  {
   "cell_type": "code",
   "execution_count": 15,
   "metadata": {},
   "outputs": [],
   "source": [
    "struct HittableList <: Hittable\n",
    "    objects::Vector{Hittable}\n",
    "end"
   ]
  },
  {
   "cell_type": "code",
   "execution_count": 16,
   "metadata": {},
   "outputs": [
    {
     "data": {
      "text/plain": [
       "hit (generic function with 1 method)"
      ]
     },
     "execution_count": 16,
     "metadata": {},
     "output_type": "execute_result"
    }
   ],
   "source": [
    "function hit(\n",
    "        hl::HittableList,\n",
    "        r::Ray,\n",
    "        t_min::Number,\n",
    "        t_max::Number,\n",
    "        )::Union{HitRecord,Nothing}\n",
    "    closest_so_far = t_max\n",
    "    \n",
    "    hr::Union{HitRecord,Nothing} = nothing\n",
    "    \n",
    "    for obj in hl.objects\n",
    "        temp_hr = hit(obj, r, t_min, closest_so_far)\n",
    "        if temp_hr != nothing\n",
    "            closest_so_far = temp_hr.t\n",
    "            hr = temp_hr\n",
    "        end\n",
    "    end\n",
    "    \n",
    "    hr\n",
    " end"
   ]
  },
  {
   "cell_type": "markdown",
   "metadata": {},
   "source": [
    "## Sphere"
   ]
  },
  {
   "cell_type": "code",
   "execution_count": 17,
   "metadata": {},
   "outputs": [],
   "source": [
    "struct Sphere <: Hittable\n",
    "    center::Vec3\n",
    "    radius::Float64\n",
    "end"
   ]
  },
  {
   "cell_type": "code",
   "execution_count": 18,
   "metadata": {},
   "outputs": [
    {
     "data": {
      "text/plain": [
       "hit (generic function with 2 methods)"
      ]
     },
     "execution_count": 18,
     "metadata": {},
     "output_type": "execute_result"
    }
   ],
   "source": [
    "function hit(\n",
    "        sphere::Sphere,\n",
    "        r::Ray,\n",
    "        t_min::Number,\n",
    "        t_max::Number,\n",
    "        )::Union{HitRecord,Nothing}\n",
    "    \n",
    "    oc = r.origin - sphere.center\n",
    "    a = length_squared(r.direction)\n",
    "    half_b = dot(oc, r.direction)\n",
    "    c = length_squared(oc) - sphere.radius * sphere.radius\n",
    "    discriminant = half_b * half_b - a * c\n",
    "\n",
    "    if discriminant > 0\n",
    "        root = sqrt(discriminant)\n",
    "        temp = (-half_b - root) / a\n",
    "        if t_min < temp < t_max\n",
    "            p = at(r, temp)\n",
    "            outward_normal = (p - sphere.center) / sphere.radius\n",
    "            HitRecord(p, temp, r, outward_normal)\n",
    "        else\n",
    "            temp = (-half_b + root) / a\n",
    "            if t_min < temp < t_max\n",
    "                p = at(r, temp)\n",
    "                outward_normal = (p - sphere.center) / sphere.radius\n",
    "                HitRecord(p, temp, r, outward_normal)\n",
    "            end\n",
    "        end\n",
    "    end\n",
    "end"
   ]
  },
  {
   "cell_type": "markdown",
   "metadata": {},
   "source": [
    "## Image"
   ]
  },
  {
   "cell_type": "code",
   "execution_count": 19,
   "metadata": {},
   "outputs": [],
   "source": [
    "using Images"
   ]
  },
  {
   "cell_type": "code",
   "execution_count": 20,
   "metadata": {},
   "outputs": [],
   "source": [
    "const aspect_ratio = 16 / 9\n",
    "const image_width = 384\n",
    "const image_height = Int(image_width ÷ aspect_ratio);"
   ]
  },
  {
   "cell_type": "code",
   "execution_count": 21,
   "metadata": {},
   "outputs": [
    {
     "data": {
      "text/plain": [
       "Vec3(-2.0, -1.0, -1.0)"
      ]
     },
     "execution_count": 21,
     "metadata": {},
     "output_type": "execute_result"
    }
   ],
   "source": [
    "const origin = Vec3(0, 0, 0)\n",
    "const horizontal = Vec3(4, 0, 0)\n",
    "const vertical = Vec3(0, 2, 0)\n",
    "const lower_left_corner = Vec3(-2, -1, -1)"
   ]
  },
  {
   "cell_type": "code",
   "execution_count": 22,
   "metadata": {},
   "outputs": [
    {
     "data": {
      "text/plain": [
       "HittableList(Hittable[Sphere(Vec3(0.0, 0.0, -1.0), 0.5), Sphere(Vec3(0.0, -100.5, -1.0), 100.0)])"
      ]
     },
     "execution_count": 22,
     "metadata": {},
     "output_type": "execute_result"
    }
   ],
   "source": [
    "const world = HittableList([\n",
    "        Sphere(Vec3(0, 0, -1), 0.5),\n",
    "        Sphere(Vec3(0, -100.5, -1), 100),\n",
    "        ])"
   ]
  },
  {
   "cell_type": "code",
   "execution_count": 23,
   "metadata": {},
   "outputs": [
    {
     "data": {
      "text/plain": [
       "ray_color (generic function with 1 method)"
      ]
     },
     "execution_count": 23,
     "metadata": {},
     "output_type": "execute_result"
    }
   ],
   "source": [
    "function ray_color(r::Ray)\n",
    "    hr = hit(world, r, 0.0, Inf)\n",
    "    \n",
    "    if hr != nothing\n",
    "        0.5 * (hr.normal + Vec3(1, 1, 1))\n",
    "    else\n",
    "        unit_direction = unit_vector(r.direction)\n",
    "        t = 0.5 * (unit_direction.y + 1)\n",
    "        (1 - t) * Vec3(1, 1, 1) + t * Vec3(0.5, 0.7, 1.0)\n",
    "    end\n",
    "end"
   ]
  },
  {
   "cell_type": "code",
   "execution_count": 24,
   "metadata": {},
   "outputs": [
    {
     "data": {
      "text/plain": [
       "color (generic function with 1 method)"
      ]
     },
     "execution_count": 24,
     "metadata": {},
     "output_type": "execute_result"
    }
   ],
   "source": [
    "function color(i::Int, j::Int)\n",
    "    u = i / image_width   \n",
    "    v = j / image_height\n",
    "    \n",
    "    r = Ray(origin, lower_left_corner + u * horizontal + v * vertical)\n",
    "    pixel_color = ray_color(r)\n",
    "    RGB(pixel_color.x, pixel_color.y, pixel_color.z)\n",
    "end"
   ]
  },
  {
   "cell_type": "code",
   "execution_count": 25,
   "metadata": {},
   "outputs": [
    {
     "data": {
      "text/plain": [
       "render (generic function with 1 method)"
      ]
     },
     "execution_count": 25,
     "metadata": {},
     "output_type": "execute_result"
    }
   ],
   "source": [
    "function render()\n",
    "    [color(i, j) for j in image_height:-1:1, i in 1:image_width]\n",
    "end"
   ]
  },
  {
   "cell_type": "code",
   "execution_count": 26,
   "metadata": {},
   "outputs": [
    {
     "name": "stdout",
     "output_type": "stream",
     "text": [
      "  0.003254 seconds (4 allocations: 1.899 MiB)\n"
     ]
    },
    {
     "data": {
      "image/png": "[encoded data removed]",
      "text/plain": [
       "216×384 Array{RGB{Float64},2} with eltype RGB{Float64}:\n",
       " RGB{Float64}(0.647583,0.78855,1.0)        …  RGB{Float64}(0.647938,0.788763,1.0)\n",
       " RGB{Float64}(0.648374,0.789024,1.0)          RGB{Float64}(0.648727,0.789236,1.0)\n",
       " RGB{Float64}(0.649168,0.789501,1.0)          RGB{Float64}(0.64952,0.789712,1.0)\n",
       " RGB{Float64}(0.649967,0.78998,1.0)           RGB{Float64}(0.650317,0.79019,1.0)\n",
       " RGB{Float64}(0.650769,0.790461,1.0)          RGB{Float64}(0.651117,0.79067,1.0)\n",
       " RGB{Float64}(0.651574,0.790945,1.0)       …  RGB{Float64}(0.651921,0.791153,1.0)\n",
       " RGB{Float64}(0.652384,0.79143,1.0)           RGB{Float64}(0.652728,0.791637,1.0)\n",
       " RGB{Float64}(0.653196,0.791918,1.0)          RGB{Float64}(0.653539,0.792124,1.0)\n",
       " RGB{Float64}(0.654013,0.792408,1.0)          RGB{Float64}(0.654354,0.792612,1.0)\n",
       " RGB{Float64}(0.654833,0.7929,1.0)            RGB{Float64}(0.655172,0.793103,1.0)\n",
       " RGB{Float64}(0.655657,0.793394,1.0)       …  RGB{Float64}(0.655994,0.793597,1.0)\n",
       " RGB{Float64}(0.656484,0.793891,1.0)          RGB{Float64}(0.65682,0.794092,1.0)\n",
       " RGB{Float64}(0.657315,0.794389,1.0)          RGB{Float64}(0.657649,0.794589,1.0)\n",
       " ⋮                                         ⋱  \n",
       " RGB{Float64}(0.494322,0.999963,0.502146)     RGB{Float64}(0.505709,0.999963,0.502146)\n",
       " RGB{Float64}(0.494382,0.999964,0.502176)  …  RGB{Float64}(0.505649,0.999963,0.502176)\n",
       " RGB{Float64}(0.49444,0.999964,0.502205)      RGB{Float64}(0.50559,0.999964,0.502205)\n",
       " RGB{Float64}(0.494497,0.999965,0.502234)     RGB{Float64}(0.505532,0.999964,0.502234)\n",
       " RGB{Float64}(0.494553,0.999965,0.502262)     RGB{Float64}(0.505476,0.999965,0.502262)\n",
       " RGB{Float64}(0.494608,0.999966,0.50229)      RGB{Float64}(0.505421,0.999965,0.50229)\n",
       " RGB{Float64}(0.494662,0.999966,0.502317)  …  RGB{Float64}(0.505366,0.999966,0.502317)\n",
       " RGB{Float64}(0.494715,0.999967,0.502344)     RGB{Float64}(0.505313,0.999966,0.502343)\n",
       " RGB{Float64}(0.494767,0.999967,0.50237)      RGB{Float64}(0.505261,0.999967,0.502369)\n",
       " RGB{Float64}(0.494817,0.999967,0.502395)     RGB{Float64}(0.505211,0.999967,0.502395)\n",
       " RGB{Float64}(0.494867,0.999968,0.50242)      RGB{Float64}(0.505161,0.999968,0.50242)\n",
       " RGB{Float64}(0.494916,0.999968,0.502445)  …  RGB{Float64}(0.505112,0.999968,0.502444)"
      ]
     },
     "execution_count": 26,
     "metadata": {},
     "output_type": "execute_result"
    }
   ],
   "source": [
    "@time render()"
   ]
  }
 ],
 "metadata": {
  "@webio": {
   "lastCommId": null,
   "lastKernelId": null
  },
  "kernelspec": {
   "display_name": "Julia 1.4.1",
   "language": "julia",
   "name": "julia-1.4"
  },
  "language_info": {
   "file_extension": ".jl",
   "mimetype": "application/julia",
   "name": "julia",
   "version": "1.4.1"
  }
 },
 "nbformat": 4,
 "nbformat_minor": 4
}
