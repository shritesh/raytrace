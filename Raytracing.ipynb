{
 "cells": [
  {
   "cell_type": "markdown",
   "metadata": {},
   "source": [
    "# Ray Tracing in One Weekend"
   ]
  },
  {
   "cell_type": "markdown",
   "metadata": {},
   "source": [
    "[Ray Tracing in One Weekend](https://raytracing.github.io/books/RayTracingInOneWeekend.html) in a Julia Notebook."
   ]
  },
  {
   "cell_type": "markdown",
   "metadata": {},
   "source": [
    "## Vec3"
   ]
  },
  {
   "cell_type": "code",
   "execution_count": 1,
   "metadata": {},
   "outputs": [],
   "source": [
    "struct Vec3\n",
    "    x::Float64\n",
    "    y::Float64\n",
    "    z::Float64\n",
    "end"
   ]
  },
  {
   "cell_type": "code",
   "execution_count": 2,
   "metadata": {},
   "outputs": [],
   "source": [
    "Base.:+(u::Vec3, v::Vec3) = Vec3(u.x + v.x, u.y + v.y, u.z + v.z)"
   ]
  },
  {
   "cell_type": "code",
   "execution_count": 3,
   "metadata": {},
   "outputs": [],
   "source": [
    "Base.:-(v::Vec3) = Vec3(-v.x, -v.y, -v.z)\n",
    "Base.:-(u::Vec3, v::Vec3) = Vec3(u.x - v.x, u.y - v.y, u.z - v.z)"
   ]
  },
  {
   "cell_type": "code",
   "execution_count": 4,
   "metadata": {},
   "outputs": [],
   "source": [
    "Base.:*(u::Vec3, v::Vec3) = Vec3(u.x * v.x, u.y * v.y, u.z * v.z)\n",
    "Base.:*(v::Vec3, t::Number) = Vec3(v.x * t, v.y * t, v.z * t)\n",
    "Base.:*(t::Number, v::Vec3) = v * t"
   ]
  },
  {
   "cell_type": "code",
   "execution_count": 5,
   "metadata": {},
   "outputs": [],
   "source": [
    "Base.:/(v::Vec3, t::Number) = Vec3(v.x / t, v.y / t, v.z / t)"
   ]
  },
  {
   "cell_type": "code",
   "execution_count": 6,
   "metadata": {},
   "outputs": [
    {
     "data": {
      "text/plain": [
       "length_squared (generic function with 1 method)"
      ]
     },
     "execution_count": 6,
     "metadata": {},
     "output_type": "execute_result"
    }
   ],
   "source": [
    "length_squared(v::Vec3) = v.x * v.x + v.y * v.y + v.z * v.z"
   ]
  },
  {
   "cell_type": "code",
   "execution_count": 7,
   "metadata": {},
   "outputs": [
    {
     "data": {
      "text/plain": [
       "length_vector (generic function with 1 method)"
      ]
     },
     "execution_count": 7,
     "metadata": {},
     "output_type": "execute_result"
    }
   ],
   "source": [
    "# length(collection) is for number of elements\n",
    "length_vector(v::Vec3) = sqrt(length_squared(v))"
   ]
  },
  {
   "cell_type": "code",
   "execution_count": 8,
   "metadata": {},
   "outputs": [
    {
     "data": {
      "text/plain": [
       "dot (generic function with 1 method)"
      ]
     },
     "execution_count": 8,
     "metadata": {},
     "output_type": "execute_result"
    }
   ],
   "source": [
    "dot(u::Vec3, v::Vec3) = u.x * v.x + u.y * v.y + u.z * v.z"
   ]
  },
  {
   "cell_type": "code",
   "execution_count": 9,
   "metadata": {},
   "outputs": [
    {
     "data": {
      "text/plain": [
       "cross (generic function with 1 method)"
      ]
     },
     "execution_count": 9,
     "metadata": {},
     "output_type": "execute_result"
    }
   ],
   "source": [
    "cross(u::Vec3, v::Vec3) = Vec3(\n",
    "    u.y * v.z - u.z * v.y,\n",
    "    u.z * v.x - u.x * v.z,\n",
    "    u.x * v.y - u.y * v.x\n",
    ")"
   ]
  },
  {
   "cell_type": "code",
   "execution_count": 10,
   "metadata": {},
   "outputs": [
    {
     "data": {
      "text/plain": [
       "unit_vector (generic function with 1 method)"
      ]
     },
     "execution_count": 10,
     "metadata": {},
     "output_type": "execute_result"
    }
   ],
   "source": [
    "unit_vector(v::Vec3) = v / length_vector(v)"
   ]
  },
  {
   "cell_type": "code",
   "execution_count": 11,
   "metadata": {},
   "outputs": [
    {
     "data": {
      "text/plain": [
       "reflect (generic function with 1 method)"
      ]
     },
     "execution_count": 11,
     "metadata": {},
     "output_type": "execute_result"
    }
   ],
   "source": [
    "reflect(v::Vec3, n::Vec3) = v - 2 * dot(v, n) * n"
   ]
  },
  {
   "cell_type": "code",
   "execution_count": 12,
   "metadata": {},
   "outputs": [
    {
     "data": {
      "text/plain": [
       "random_in_unit_sphere (generic function with 1 method)"
      ]
     },
     "execution_count": 12,
     "metadata": {},
     "output_type": "execute_result"
    }
   ],
   "source": [
    "function random_in_unit_sphere()\n",
    "    while true\n",
    "        p = Vec3(rand(-1:eps():1, 3)...)\n",
    "        if length_squared(p) < 1\n",
    "            return p\n",
    "        end\n",
    "    end\n",
    " end"
   ]
  },
  {
   "cell_type": "code",
   "execution_count": 13,
   "metadata": {},
   "outputs": [
    {
     "data": {
      "text/plain": [
       "random_unit_vector (generic function with 1 method)"
      ]
     },
     "execution_count": 13,
     "metadata": {},
     "output_type": "execute_result"
    }
   ],
   "source": [
    "function random_unit_vector()\n",
    "    a = rand(0:eps():2pi)\n",
    "    z = rand(-1:eps():1)\n",
    "    r = sqrt(1 - z * z)\n",
    "    Vec3(r * cos(a), r * sin(a), z)\n",
    "end"
   ]
  },
  {
   "cell_type": "code",
   "execution_count": 14,
   "metadata": {},
   "outputs": [
    {
     "data": {
      "text/plain": [
       "random_in_hemisphere (generic function with 1 method)"
      ]
     },
     "execution_count": 14,
     "metadata": {},
     "output_type": "execute_result"
    }
   ],
   "source": [
    "function random_in_hemisphere(normal::Vec3)\n",
    "    in_unit_sphere = random_in_unit_sphere()\n",
    "    if dot(in_unit_sphere, normal) > 0\n",
    "        in_unit_sphere\n",
    "    else\n",
    "        -in_unit_sphere\n",
    "    end\n",
    "end"
   ]
  },
  {
   "cell_type": "markdown",
   "metadata": {},
   "source": [
    "## Ray"
   ]
  },
  {
   "cell_type": "code",
   "execution_count": 15,
   "metadata": {},
   "outputs": [],
   "source": [
    "struct Ray\n",
    "    origin::Vec3\n",
    "    direction::Vec3\n",
    "end"
   ]
  },
  {
   "cell_type": "code",
   "execution_count": 16,
   "metadata": {},
   "outputs": [
    {
     "data": {
      "text/plain": [
       "at (generic function with 1 method)"
      ]
     },
     "execution_count": 16,
     "metadata": {},
     "output_type": "execute_result"
    }
   ],
   "source": [
    "at(ray::Ray, t::Number) = ray.origin + t * ray.direction"
   ]
  },
  {
   "cell_type": "markdown",
   "metadata": {},
   "source": [
    "## Hittable and Material"
   ]
  },
  {
   "cell_type": "code",
   "execution_count": 17,
   "metadata": {},
   "outputs": [],
   "source": [
    "abstract type Hittable end"
   ]
  },
  {
   "cell_type": "code",
   "execution_count": 18,
   "metadata": {},
   "outputs": [],
   "source": [
    "abstract type Material end"
   ]
  },
  {
   "cell_type": "markdown",
   "metadata": {},
   "source": [
    "## HitRecord and HittableList"
   ]
  },
  {
   "cell_type": "code",
   "execution_count": 19,
   "metadata": {},
   "outputs": [],
   "source": [
    "struct HitRecord\n",
    "    p::Vec3\n",
    "    normal::Vec3\n",
    "    mat::Material\n",
    "    t::Float64\n",
    "    front_face::Bool\n",
    "    \n",
    "    function HitRecord(\n",
    "            p::Vec3,\n",
    "            t::Number,\n",
    "            mat::Material,\n",
    "            r::Ray,\n",
    "            outward_normal::Vec3)\n",
    "        front_face = dot(r.direction, outward_normal) < 0\n",
    "        normal = front_face ? outward_normal : -outward_normal\n",
    "        new(p, normal, mat, t, front_face)\n",
    "    end\n",
    "end"
   ]
  },
  {
   "cell_type": "code",
   "execution_count": 20,
   "metadata": {},
   "outputs": [],
   "source": [
    "struct HittableList <: Hittable\n",
    "    objects::Vector{Hittable}\n",
    "end"
   ]
  },
  {
   "cell_type": "code",
   "execution_count": 21,
   "metadata": {},
   "outputs": [
    {
     "data": {
      "text/plain": [
       "hit (generic function with 1 method)"
      ]
     },
     "execution_count": 21,
     "metadata": {},
     "output_type": "execute_result"
    }
   ],
   "source": [
    "function hit(\n",
    "        hl::HittableList,\n",
    "        r::Ray,\n",
    "        t_min::Number,\n",
    "        t_max::Number,\n",
    "        )::Union{HitRecord,Nothing}\n",
    "    closest_so_far = t_max\n",
    "    \n",
    "    hr::Union{HitRecord,Nothing} = nothing\n",
    "    \n",
    "    for obj in hl.objects\n",
    "        temp_hr = hit(obj, r, t_min, closest_so_far)\n",
    "        if temp_hr != nothing\n",
    "            closest_so_far = temp_hr.t\n",
    "            hr = temp_hr\n",
    "        end\n",
    "    end\n",
    "    \n",
    "    hr\n",
    " end"
   ]
  },
  {
   "cell_type": "markdown",
   "metadata": {},
   "source": [
    "## Sphere"
   ]
  },
  {
   "cell_type": "code",
   "execution_count": 22,
   "metadata": {},
   "outputs": [],
   "source": [
    "struct Sphere <: Hittable\n",
    "    center::Vec3\n",
    "    radius::Float64\n",
    "    mat::Material\n",
    "end"
   ]
  },
  {
   "cell_type": "code",
   "execution_count": 23,
   "metadata": {},
   "outputs": [
    {
     "data": {
      "text/plain": [
       "hit (generic function with 2 methods)"
      ]
     },
     "execution_count": 23,
     "metadata": {},
     "output_type": "execute_result"
    }
   ],
   "source": [
    "function hit(\n",
    "        sphere::Sphere,\n",
    "        r::Ray,\n",
    "        t_min::Number,\n",
    "        t_max::Number,\n",
    "        )::Union{HitRecord,Nothing}\n",
    "    \n",
    "    oc = r.origin - sphere.center\n",
    "    a = length_squared(r.direction)\n",
    "    half_b = dot(oc, r.direction)\n",
    "    c = length_squared(oc) - sphere.radius * sphere.radius\n",
    "    discriminant = half_b * half_b - a * c\n",
    "\n",
    "    if discriminant > 0\n",
    "        root = sqrt(discriminant)\n",
    "        temp = (-half_b - root) / a\n",
    "        if t_min < temp < t_max\n",
    "            p = at(r, temp)\n",
    "            outward_normal = (p - sphere.center) / sphere.radius\n",
    "            HitRecord(p, temp, sphere.mat, r, outward_normal)\n",
    "        else\n",
    "            temp = (-half_b + root) / a\n",
    "            if t_min < temp < t_max\n",
    "                p = at(r, temp)\n",
    "                outward_normal = (p - sphere.center) / sphere.radius\n",
    "                HitRecord(p, temp, sphere.mat, r, outward_normal)\n",
    "            end\n",
    "        end\n",
    "    end\n",
    "end"
   ]
  },
  {
   "cell_type": "markdown",
   "metadata": {},
   "source": [
    "## Lambertian"
   ]
  },
  {
   "cell_type": "code",
   "execution_count": 24,
   "metadata": {},
   "outputs": [],
   "source": [
    "struct Lambertian <: Material\n",
    "    albedo::Vec3\n",
    "end"
   ]
  },
  {
   "cell_type": "code",
   "execution_count": 25,
   "metadata": {},
   "outputs": [
    {
     "data": {
      "text/plain": [
       "scatter (generic function with 1 method)"
      ]
     },
     "execution_count": 25,
     "metadata": {},
     "output_type": "execute_result"
    }
   ],
   "source": [
    "function scatter(\n",
    "        lambertian::Lambertian,\n",
    "        r_in::Ray,\n",
    "        rec::HitRecord,\n",
    "        )::Tuple{Bool,Vec3,Ray}\n",
    "    scatter_direction = rec.normal + random_unit_vector()\n",
    "    scattered = Ray(rec.p, scatter_direction)\n",
    "    attenuation = lambertian.albedo\n",
    "    true, attenuation, scattered\n",
    "end"
   ]
  },
  {
   "cell_type": "markdown",
   "metadata": {},
   "source": [
    "## Metal"
   ]
  },
  {
   "cell_type": "code",
   "execution_count": 26,
   "metadata": {},
   "outputs": [],
   "source": [
    "struct Metal <: Material\n",
    "    albedo::Vec3\n",
    "    fuzz::Float64\n",
    "    \n",
    "    Metal(albedo::Vec3, fuzz::Number) = new(albedo, fuzz < 1 ? fuzz : 1)\n",
    " end"
   ]
  },
  {
   "cell_type": "code",
   "execution_count": 27,
   "metadata": {},
   "outputs": [
    {
     "data": {
      "text/plain": [
       "scatter (generic function with 2 methods)"
      ]
     },
     "execution_count": 27,
     "metadata": {},
     "output_type": "execute_result"
    }
   ],
   "source": [
    "function scatter(metal::Metal, r_in::Ray, rec::HitRecord)::Tuple{Bool,Vec3,Ray}\n",
    "    reflected = reflect(unit_vector(r_in.direction), rec.normal)\n",
    "    scattered = Ray(rec.p, reflected)\n",
    "    attenuation = metal.albedo\n",
    "    dot(scattered.direction, rec.normal) > 0, attenuation, scattered\n",
    "end"
   ]
  },
  {
   "cell_type": "markdown",
   "metadata": {},
   "source": [
    "## Camera"
   ]
  },
  {
   "cell_type": "code",
   "execution_count": 28,
   "metadata": {},
   "outputs": [],
   "source": [
    "struct Camera\n",
    "    origin::Vec3\n",
    "    lower_left_corner::Vec3\n",
    "    horizontal::Vec3\n",
    "    vertical::Vec3\n",
    "    \n",
    "    Camera() = new(Vec3(0, 0, 0), Vec3(-2, -1, -1), Vec3(4, 0, 0), Vec3(0, 2, 0))\n",
    "end"
   ]
  },
  {
   "cell_type": "code",
   "execution_count": 29,
   "metadata": {},
   "outputs": [
    {
     "data": {
      "text/plain": [
       "get_ray (generic function with 1 method)"
      ]
     },
     "execution_count": 29,
     "metadata": {},
     "output_type": "execute_result"
    }
   ],
   "source": [
    "get_ray(c::Camera, u::Number, v::Number)::Ray = Ray(\n",
    "    c.origin,\n",
    "    c.lower_left_corner + u * c.horizontal + v * c.vertical - c.origin,\n",
    ")"
   ]
  },
  {
   "cell_type": "markdown",
   "metadata": {},
   "source": [
    "## Image"
   ]
  },
  {
   "cell_type": "code",
   "execution_count": 30,
   "metadata": {},
   "outputs": [],
   "source": [
    "using Images"
   ]
  },
  {
   "cell_type": "code",
   "execution_count": 31,
   "metadata": {},
   "outputs": [],
   "source": [
    "const aspect_ratio = 16 / 9\n",
    "const image_width = 384\n",
    "const image_height = Int(image_width ÷ aspect_ratio)\n",
    "const samples_per_pixel = 100\n",
    "const max_depth = 50;"
   ]
  },
  {
   "cell_type": "code",
   "execution_count": 32,
   "metadata": {},
   "outputs": [
    {
     "data": {
      "text/plain": [
       "HittableList(Hittable[Sphere(Vec3(0.0, 0.0, -1.0), 0.5, Lambertian(Vec3(0.7, 0.3, 0.3))), Sphere(Vec3(0.0, -100.5, -1.0), 100.0, Lambertian(Vec3(0.8, 0.8, 0.0))), Sphere(Vec3(1.0, 0.0, -1.0), 0.5, Metal(Vec3(0.8, 0.6, 0.2), 0.3)), Sphere(Vec3(-1.0, 0.0, -1.0), 0.5, Metal(Vec3(0.8, 0.8, 0.8), 1.0))])"
      ]
     },
     "execution_count": 32,
     "metadata": {},
     "output_type": "execute_result"
    }
   ],
   "source": [
    "const world = HittableList([\n",
    "        Sphere(Vec3(0, 0, -1), 0.5, Lambertian(Vec3(0.7, 0.3, 0.3))),\n",
    "        Sphere(Vec3(0, -100.5, -1), 100, Lambertian(Vec3(0.8, 0.8, 0))),\n",
    "        Sphere(Vec3(1, 0, -1), 0.5, Metal(Vec3(0.8, 0.6, 0.2), 0.3)),\n",
    "        Sphere(Vec3(-1, 0, -1), 0.5, Metal(Vec3(0.8, 0.8, 0.8), 1.0)),\n",
    "        ])"
   ]
  },
  {
   "cell_type": "code",
   "execution_count": 33,
   "metadata": {},
   "outputs": [
    {
     "data": {
      "text/plain": [
       "Camera(Vec3(0.0, 0.0, 0.0), Vec3(-2.0, -1.0, -1.0), Vec3(4.0, 0.0, 0.0), Vec3(0.0, 2.0, 0.0))"
      ]
     },
     "execution_count": 33,
     "metadata": {},
     "output_type": "execute_result"
    }
   ],
   "source": [
    "const cam = Camera()"
   ]
  },
  {
   "cell_type": "code",
   "execution_count": 34,
   "metadata": {},
   "outputs": [
    {
     "data": {
      "text/plain": [
       "ray_color (generic function with 1 method)"
      ]
     },
     "execution_count": 34,
     "metadata": {},
     "output_type": "execute_result"
    }
   ],
   "source": [
    "function ray_color(r::Ray, depth::Int)\n",
    "    if depth <= 0\n",
    "        return Vec3(0, 0, 0)\n",
    "    end\n",
    "    \n",
    "    hr = hit(world, r, 0.001, Inf)\n",
    "    \n",
    "    if hr != nothing\n",
    "        did_scatter, attenuation, scattered = scatter(hr.mat, r, hr)\n",
    "        if did_scatter\n",
    "            attenuation * ray_color(scattered, depth - 1)\n",
    "        else\n",
    "            Vec3(0, 0, 0)\n",
    "        end\n",
    "    else\n",
    "        unit_direction = unit_vector(r.direction)\n",
    "        t = 0.5 * (unit_direction.y + 1)\n",
    "        (1 - t) * Vec3(1, 1, 1) + t * Vec3(0.5, 0.7, 1)\n",
    "    end\n",
    "end"
   ]
  },
  {
   "cell_type": "code",
   "execution_count": 35,
   "metadata": {},
   "outputs": [
    {
     "data": {
      "text/plain": [
       "color (generic function with 1 method)"
      ]
     },
     "execution_count": 35,
     "metadata": {},
     "output_type": "execute_result"
    }
   ],
   "source": [
    "function color(i::Int, j::Int)\n",
    "    c = Vec3(0, 0, 0)\n",
    "    for _ = 1:samples_per_pixel\n",
    "        u = (i + rand()) / image_width\n",
    "        v = (j + rand()) / image_height\n",
    "        r = get_ray(cam, u, v)\n",
    "        c += ray_color(r, max_depth)\n",
    "    end\n",
    "    c /= samples_per_pixel\n",
    "    RGB(sqrt(c.x), sqrt(c.y), sqrt(c.z))\n",
    "end"
   ]
  },
  {
   "cell_type": "code",
   "execution_count": 36,
   "metadata": {},
   "outputs": [
    {
     "data": {
      "text/plain": [
       "render (generic function with 1 method)"
      ]
     },
     "execution_count": 36,
     "metadata": {},
     "output_type": "execute_result"
    }
   ],
   "source": [
    "function render()\n",
    "    [color(i, j) for j in image_height:-1:1, i in 1:image_width]\n",
    "end"
   ]
  },
  {
   "cell_type": "code",
   "execution_count": 37,
   "metadata": {},
   "outputs": [
    {
     "name": "stdout",
     "output_type": "stream",
     "text": [
      "  2.516920 seconds (15.59 M allocations: 1.163 GiB, 6.43% gc time)\n"
     ]
    },
    {
     "data": {
      "image/png": "[encoded data removed]",
      "text/plain": [
       "216×384 Array{RGB{Float64},2} with eltype RGB{Float64}:\n",
       " RGB{Float64}(0.804356,0.887803,1.0)  …  RGB{Float64}(0.804826,0.888058,1.0)\n",
       " RGB{Float64}(0.804844,0.888068,1.0)     RGB{Float64}(0.805269,0.888299,1.0)\n",
       " RGB{Float64}(0.805376,0.888357,1.0)     RGB{Float64}(0.805786,0.88858,1.0)\n",
       " RGB{Float64}(0.805823,0.8886,1.0)       RGB{Float64}(0.806297,0.888858,1.0)\n",
       " RGB{Float64}(0.806316,0.888868,1.0)     RGB{Float64}(0.806773,0.889117,1.0)\n",
       " RGB{Float64}(0.806839,0.889153,1.0)  …  RGB{Float64}(0.807296,0.889402,1.0)\n",
       " RGB{Float64}(0.807339,0.889426,1.0)     RGB{Float64}(0.807739,0.889643,1.0)\n",
       " RGB{Float64}(0.807859,0.889709,1.0)     RGB{Float64}(0.808297,0.889947,1.0)\n",
       " RGB{Float64}(0.808362,0.889983,1.0)     RGB{Float64}(0.808758,0.890199,1.0)\n",
       " RGB{Float64}(0.808835,0.890241,1.0)     RGB{Float64}(0.809292,0.89049,1.0)\n",
       " RGB{Float64}(0.809385,0.890541,1.0)  …  RGB{Float64}(0.809758,0.890744,1.0)\n",
       " RGB{Float64}(0.809869,0.890805,1.0)     RGB{Float64}(0.810298,0.891038,1.0)\n",
       " RGB{Float64}(0.810377,0.891081,1.0)     RGB{Float64}(0.810823,0.891325,1.0)\n",
       " ⋮                                    ⋱  \n",
       " RGB{Float64}(0.636815,0.706134,0.0)     RGB{Float64}(0.613807,0.645086,0.0)\n",
       " RGB{Float64}(0.642282,0.713537,0.0)  …  RGB{Float64}(0.631628,0.671632,0.0)\n",
       " RGB{Float64}(0.635417,0.716527,0.0)     RGB{Float64}(0.635623,0.681957,0.0)\n",
       " RGB{Float64}(0.65542,0.728999,0.0)      RGB{Float64}(0.639091,0.685273,0.0)\n",
       " RGB{Float64}(0.639191,0.714416,0.0)     RGB{Float64}(0.629007,0.665983,0.0)\n",
       " RGB{Float64}(0.657993,0.74173,0.0)      RGB{Float64}(0.634073,0.684635,0.0)\n",
       " RGB{Float64}(0.638769,0.708626,0.0)  …  RGB{Float64}(0.632872,0.669544,0.0)\n",
       " RGB{Float64}(0.647603,0.719826,0.0)     RGB{Float64}(0.624956,0.661371,0.0)\n",
       " RGB{Float64}(0.639235,0.717196,0.0)     RGB{Float64}(0.64336,0.672365,0.0)\n",
       " RGB{Float64}(0.624983,0.697057,0.0)     RGB{Float64}(0.619459,0.662894,0.0)\n",
       " RGB{Float64}(0.654072,0.72846,0.0)      RGB{Float64}(0.636233,0.68869,0.0)\n",
       " RGB{Float64}(0.636819,0.700688,0.0)  …  RGB{Float64}(0.651677,0.698934,0.0)"
      ]
     },
     "execution_count": 37,
     "metadata": {},
     "output_type": "execute_result"
    }
   ],
   "source": [
    "@time render()"
   ]
  }
 ],
 "metadata": {
  "@webio": {
   "lastCommId": null,
   "lastKernelId": null
  },
  "kernelspec": {
   "display_name": "Julia 1.4.1",
   "language": "julia",
   "name": "julia-1.4"
  },
  "language_info": {
   "file_extension": ".jl",
   "mimetype": "application/julia",
   "name": "julia",
   "version": "1.4.1"
  }
 },
 "nbformat": 4,
 "nbformat_minor": 4
}
