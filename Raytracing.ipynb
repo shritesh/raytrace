{
 "cells": [
  {
   "cell_type": "markdown",
   "metadata": {},
   "source": [
    "# Ray Tracing in One Weekend"
   ]
  },
  {
   "cell_type": "markdown",
   "metadata": {},
   "source": [
    "[Ray Tracing in One Weekend](https://raytracing.github.io/books/RayTracingInOneWeekend.html) in a Julia Notebook."
   ]
  },
  {
   "cell_type": "markdown",
   "metadata": {},
   "source": [
    "## Vec3"
   ]
  },
  {
   "cell_type": "code",
   "execution_count": 1,
   "metadata": {},
   "outputs": [],
   "source": [
    "struct Vec3\n",
    "    x::Float64\n",
    "    y::Float64\n",
    "    z::Float64\n",
    "end"
   ]
  },
  {
   "cell_type": "code",
   "execution_count": 2,
   "metadata": {},
   "outputs": [],
   "source": [
    "Base.:+(u::Vec3, v::Vec3) = Vec3(u.x + v.x, u.y + v.y, u.z + v.z)"
   ]
  },
  {
   "cell_type": "code",
   "execution_count": 3,
   "metadata": {},
   "outputs": [],
   "source": [
    "Base.:-(v::Vec3) = Vec3(-v.x, -v.y, -v.z)\n",
    "Base.:-(u::Vec3, v::Vec3) = Vec3(u.x - v.x, u.y - v.y, u.z - v.z)"
   ]
  },
  {
   "cell_type": "code",
   "execution_count": 4,
   "metadata": {},
   "outputs": [],
   "source": [
    "Base.:*(u::Vec3, v::Vec3) = Vec3(u.x * v.x, u.y * v.y, u.z * v.z)\n",
    "Base.:*(v::Vec3, t::Number) = Vec3(v.x * t, v.y * t, v.z * t)\n",
    "Base.:*(t::Number, v::Vec3) = v * t"
   ]
  },
  {
   "cell_type": "code",
   "execution_count": 5,
   "metadata": {},
   "outputs": [],
   "source": [
    "Base.:/(v::Vec3, t::Number) = Vec3(v.x / t, v.y / t, v.z / t)"
   ]
  },
  {
   "cell_type": "code",
   "execution_count": 6,
   "metadata": {},
   "outputs": [
    {
     "data": {
      "text/plain": [
       "length_squared (generic function with 1 method)"
      ]
     },
     "execution_count": 6,
     "metadata": {},
     "output_type": "execute_result"
    }
   ],
   "source": [
    "length_squared(v::Vec3) = v.x * v.x + v.y * v.y + v.z * v.z"
   ]
  },
  {
   "cell_type": "code",
   "execution_count": 7,
   "metadata": {},
   "outputs": [
    {
     "data": {
      "text/plain": [
       "length_vector (generic function with 1 method)"
      ]
     },
     "execution_count": 7,
     "metadata": {},
     "output_type": "execute_result"
    }
   ],
   "source": [
    "# length(collection) is for number of elements\n",
    "length_vector(v::Vec3) = sqrt(length_squared(v))"
   ]
  },
  {
   "cell_type": "code",
   "execution_count": 8,
   "metadata": {},
   "outputs": [
    {
     "data": {
      "text/plain": [
       "dot (generic function with 1 method)"
      ]
     },
     "execution_count": 8,
     "metadata": {},
     "output_type": "execute_result"
    }
   ],
   "source": [
    "dot(u::Vec3, v::Vec3) = u.x * v.x + u.y * v.y + u.z * v.z"
   ]
  },
  {
   "cell_type": "code",
   "execution_count": 9,
   "metadata": {},
   "outputs": [
    {
     "data": {
      "text/plain": [
       "cross (generic function with 1 method)"
      ]
     },
     "execution_count": 9,
     "metadata": {},
     "output_type": "execute_result"
    }
   ],
   "source": [
    "cross(u::Vec3, v::Vec3) = Vec3(\n",
    "    u.y * v.z - u.z * v.y,\n",
    "    u.z * v.x - u.x * v.z,\n",
    "    u.x * v.y - u.y * v.x\n",
    ")"
   ]
  },
  {
   "cell_type": "code",
   "execution_count": 10,
   "metadata": {},
   "outputs": [
    {
     "data": {
      "text/plain": [
       "unit_vector (generic function with 1 method)"
      ]
     },
     "execution_count": 10,
     "metadata": {},
     "output_type": "execute_result"
    }
   ],
   "source": [
    "unit_vector(v::Vec3) = v / length_vector(v)"
   ]
  },
  {
   "cell_type": "code",
   "execution_count": 11,
   "metadata": {},
   "outputs": [
    {
     "data": {
      "text/plain": [
       "random_in_unit_sphere (generic function with 1 method)"
      ]
     },
     "execution_count": 11,
     "metadata": {},
     "output_type": "execute_result"
    }
   ],
   "source": [
    "function random_in_unit_sphere()\n",
    "    while true\n",
    "        p = Vec3(rand(-1:eps():1, 3)...)\n",
    "        if length_squared(p) < 1\n",
    "            return p\n",
    "        end\n",
    "    end\n",
    " end"
   ]
  },
  {
   "cell_type": "code",
   "execution_count": 12,
   "metadata": {},
   "outputs": [
    {
     "data": {
      "text/plain": [
       "random_unit_vector (generic function with 1 method)"
      ]
     },
     "execution_count": 12,
     "metadata": {},
     "output_type": "execute_result"
    }
   ],
   "source": [
    "function random_unit_vector()\n",
    "    a = rand(0:eps():2pi)\n",
    "    z = rand(-1:eps():1)\n",
    "    r = sqrt(1 - z * z)\n",
    "    Vec3(r * cos(a), r * sin(a), z)\n",
    "end"
   ]
  },
  {
   "cell_type": "code",
   "execution_count": 13,
   "metadata": {},
   "outputs": [
    {
     "data": {
      "text/plain": [
       "random_in_hemisphere (generic function with 1 method)"
      ]
     },
     "execution_count": 13,
     "metadata": {},
     "output_type": "execute_result"
    }
   ],
   "source": [
    "function random_in_hemisphere(normal::Vec3)\n",
    "    in_unit_sphere = random_in_unit_sphere()\n",
    "    if dot(in_unit_sphere, normal) > 0\n",
    "        in_unit_sphere\n",
    "    else\n",
    "        -in_unit_sphere\n",
    "    end\n",
    "end"
   ]
  },
  {
   "cell_type": "markdown",
   "metadata": {},
   "source": [
    "## Ray"
   ]
  },
  {
   "cell_type": "code",
   "execution_count": 14,
   "metadata": {},
   "outputs": [],
   "source": [
    "struct Ray\n",
    "    origin::Vec3\n",
    "    direction::Vec3\n",
    "end"
   ]
  },
  {
   "cell_type": "code",
   "execution_count": 15,
   "metadata": {},
   "outputs": [
    {
     "data": {
      "text/plain": [
       "at (generic function with 1 method)"
      ]
     },
     "execution_count": 15,
     "metadata": {},
     "output_type": "execute_result"
    }
   ],
   "source": [
    "at(ray::Ray, t::Number) = ray.origin + t * ray.direction"
   ]
  },
  {
   "cell_type": "markdown",
   "metadata": {},
   "source": [
    "## Hittable, HitRecord and HittableList"
   ]
  },
  {
   "cell_type": "code",
   "execution_count": 16,
   "metadata": {},
   "outputs": [],
   "source": [
    "abstract type Hittable end"
   ]
  },
  {
   "cell_type": "code",
   "execution_count": 17,
   "metadata": {},
   "outputs": [],
   "source": [
    "struct HitRecord\n",
    "    p::Vec3\n",
    "    normal::Vec3\n",
    "    t::Float64\n",
    "    front_face::Bool\n",
    "    \n",
    "    function HitRecord(p::Vec3, t::Number, r::Ray, outward_normal::Vec3)\n",
    "        front_face = dot(r.direction, outward_normal) < 0\n",
    "        normal = front_face ? outward_normal : -outward_normal\n",
    "        new(p, normal, t, front_face)\n",
    "    end\n",
    " end"
   ]
  },
  {
   "cell_type": "code",
   "execution_count": 18,
   "metadata": {},
   "outputs": [],
   "source": [
    "struct HittableList <: Hittable\n",
    "    objects::Vector{Hittable}\n",
    "end"
   ]
  },
  {
   "cell_type": "code",
   "execution_count": 19,
   "metadata": {},
   "outputs": [
    {
     "data": {
      "text/plain": [
       "hit (generic function with 1 method)"
      ]
     },
     "execution_count": 19,
     "metadata": {},
     "output_type": "execute_result"
    }
   ],
   "source": [
    "function hit(\n",
    "        hl::HittableList,\n",
    "        r::Ray,\n",
    "        t_min::Number,\n",
    "        t_max::Number,\n",
    "        )::Union{HitRecord,Nothing}\n",
    "    closest_so_far = t_max\n",
    "    \n",
    "    hr::Union{HitRecord,Nothing} = nothing\n",
    "    \n",
    "    for obj in hl.objects\n",
    "        temp_hr = hit(obj, r, t_min, closest_so_far)\n",
    "        if temp_hr != nothing\n",
    "            closest_so_far = temp_hr.t\n",
    "            hr = temp_hr\n",
    "        end\n",
    "    end\n",
    "    \n",
    "    hr\n",
    " end"
   ]
  },
  {
   "cell_type": "markdown",
   "metadata": {},
   "source": [
    "## Sphere"
   ]
  },
  {
   "cell_type": "code",
   "execution_count": 20,
   "metadata": {},
   "outputs": [],
   "source": [
    "struct Sphere <: Hittable\n",
    "    center::Vec3\n",
    "    radius::Float64\n",
    "end"
   ]
  },
  {
   "cell_type": "code",
   "execution_count": 21,
   "metadata": {},
   "outputs": [
    {
     "data": {
      "text/plain": [
       "hit (generic function with 2 methods)"
      ]
     },
     "execution_count": 21,
     "metadata": {},
     "output_type": "execute_result"
    }
   ],
   "source": [
    "function hit(\n",
    "        sphere::Sphere,\n",
    "        r::Ray,\n",
    "        t_min::Number,\n",
    "        t_max::Number,\n",
    "        )::Union{HitRecord,Nothing}\n",
    "    \n",
    "    oc = r.origin - sphere.center\n",
    "    a = length_squared(r.direction)\n",
    "    half_b = dot(oc, r.direction)\n",
    "    c = length_squared(oc) - sphere.radius * sphere.radius\n",
    "    discriminant = half_b * half_b - a * c\n",
    "\n",
    "    if discriminant > 0\n",
    "        root = sqrt(discriminant)\n",
    "        temp = (-half_b - root) / a\n",
    "        if t_min < temp < t_max\n",
    "            p = at(r, temp)\n",
    "            outward_normal = (p - sphere.center) / sphere.radius\n",
    "            HitRecord(p, temp, r, outward_normal)\n",
    "        else\n",
    "            temp = (-half_b + root) / a\n",
    "            if t_min < temp < t_max\n",
    "                p = at(r, temp)\n",
    "                outward_normal = (p - sphere.center) / sphere.radius\n",
    "                HitRecord(p, temp, r, outward_normal)\n",
    "            end\n",
    "        end\n",
    "    end\n",
    "end"
   ]
  },
  {
   "cell_type": "markdown",
   "metadata": {},
   "source": [
    "## Camera"
   ]
  },
  {
   "cell_type": "code",
   "execution_count": 22,
   "metadata": {},
   "outputs": [],
   "source": [
    "struct Camera\n",
    "    origin::Vec3\n",
    "    lower_left_corner::Vec3\n",
    "    horizontal::Vec3\n",
    "    vertical::Vec3\n",
    "    \n",
    "    Camera() = new(Vec3(0, 0, 0), Vec3(-2, -1, -1), Vec3(4, 0, 0), Vec3(0, 2, 0))\n",
    "end"
   ]
  },
  {
   "cell_type": "code",
   "execution_count": 23,
   "metadata": {},
   "outputs": [
    {
     "data": {
      "text/plain": [
       "get_ray (generic function with 1 method)"
      ]
     },
     "execution_count": 23,
     "metadata": {},
     "output_type": "execute_result"
    }
   ],
   "source": [
    "get_ray(c::Camera, u::Number, v::Number)::Ray = Ray(\n",
    "    c.origin,\n",
    "    c.lower_left_corner + u * c.horizontal + v * c.vertical - c.origin,\n",
    ")"
   ]
  },
  {
   "cell_type": "markdown",
   "metadata": {},
   "source": [
    "## Image"
   ]
  },
  {
   "cell_type": "code",
   "execution_count": 24,
   "metadata": {},
   "outputs": [],
   "source": [
    "using Images"
   ]
  },
  {
   "cell_type": "code",
   "execution_count": 25,
   "metadata": {},
   "outputs": [],
   "source": [
    "const aspect_ratio = 16 / 9\n",
    "const image_width = 384\n",
    "const image_height = Int(image_width ÷ aspect_ratio)\n",
    "const samples_per_pixel = 100\n",
    "const max_depth = 50;"
   ]
  },
  {
   "cell_type": "code",
   "execution_count": 26,
   "metadata": {},
   "outputs": [
    {
     "data": {
      "text/plain": [
       "HittableList(Hittable[Sphere(Vec3(0.0, 0.0, -1.0), 0.5), Sphere(Vec3(0.0, -100.5, -1.0), 100.0)])"
      ]
     },
     "execution_count": 26,
     "metadata": {},
     "output_type": "execute_result"
    }
   ],
   "source": [
    "const world = HittableList([\n",
    "        Sphere(Vec3(0, 0, -1), 0.5),\n",
    "        Sphere(Vec3(0, -100.5, -1), 100),\n",
    "        ])"
   ]
  },
  {
   "cell_type": "code",
   "execution_count": 27,
   "metadata": {},
   "outputs": [
    {
     "data": {
      "text/plain": [
       "Camera(Vec3(0.0, 0.0, 0.0), Vec3(-2.0, -1.0, -1.0), Vec3(4.0, 0.0, 0.0), Vec3(0.0, 2.0, 0.0))"
      ]
     },
     "execution_count": 27,
     "metadata": {},
     "output_type": "execute_result"
    }
   ],
   "source": [
    "const cam = Camera()"
   ]
  },
  {
   "cell_type": "code",
   "execution_count": 28,
   "metadata": {},
   "outputs": [
    {
     "data": {
      "text/plain": [
       "ray_color (generic function with 1 method)"
      ]
     },
     "execution_count": 28,
     "metadata": {},
     "output_type": "execute_result"
    }
   ],
   "source": [
    "function ray_color(r::Ray, depth::Int)\n",
    "    if depth <= 0\n",
    "        return Vec3(0, 0, 0)\n",
    "    end\n",
    "    \n",
    "    hr = hit(world, r, 0.001, Inf)\n",
    "    \n",
    "    if hr != nothing\n",
    "        target = hr.p + random_in_hemisphere(hr.normal)\n",
    "        0.5 * ray_color(Ray(hr.p, target - hr.p), depth - 1)\n",
    "    else\n",
    "        unit_direction = unit_vector(r.direction)\n",
    "        t = 0.5 * (unit_direction.y + 1)\n",
    "        (1 - t) * Vec3(1, 1, 1) + t * Vec3(0.5, 0.7, 1)\n",
    "    end\n",
    "end"
   ]
  },
  {
   "cell_type": "code",
   "execution_count": 29,
   "metadata": {},
   "outputs": [
    {
     "data": {
      "text/plain": [
       "color (generic function with 1 method)"
      ]
     },
     "execution_count": 29,
     "metadata": {},
     "output_type": "execute_result"
    }
   ],
   "source": [
    "function color(i::Int, j::Int)\n",
    "    c = Vec3(0, 0, 0)\n",
    "    for _ = 1:samples_per_pixel\n",
    "        u = (i + rand()) / image_width\n",
    "        v = (j + rand()) / image_height\n",
    "        r = get_ray(cam, u, v)\n",
    "        c += ray_color(r, max_depth)\n",
    "    end\n",
    "    c /= samples_per_pixel\n",
    "    RGB(sqrt(c.x), sqrt(c.y), sqrt(c.z))\n",
    "end"
   ]
  },
  {
   "cell_type": "code",
   "execution_count": 30,
   "metadata": {},
   "outputs": [
    {
     "data": {
      "text/plain": [
       "render (generic function with 1 method)"
      ]
     },
     "execution_count": 30,
     "metadata": {},
     "output_type": "execute_result"
    }
   ],
   "source": [
    "function render()\n",
    "    [color(i, j) for j in image_height:-1:1, i in 1:image_width]\n",
    "end"
   ]
  },
  {
   "cell_type": "code",
   "execution_count": 32,
   "metadata": {},
   "outputs": [
    {
     "name": "stdout",
     "output_type": "stream",
     "text": [
      "  3.789948 seconds (57.21 M allocations: 2.048 GiB, 7.23% gc time)\n"
     ]
    },
    {
     "data": {
      "image/png": "[encoded data removed]",
      "text/plain": [
       "216×384 Array{RGB{Float64},2} with eltype RGB{Float64}:\n",
       " RGB{Float64}(0.804389,0.88782,1.0)        …  RGB{Float64}(0.80481,0.888049,1.0)\n",
       " RGB{Float64}(0.804837,0.888064,1.0)          RGB{Float64}(0.805275,0.888302,1.0)\n",
       " RGB{Float64}(0.805346,0.888341,1.0)          RGB{Float64}(0.805778,0.888576,1.0)\n",
       " RGB{Float64}(0.805826,0.888602,1.0)          RGB{Float64}(0.806297,0.888858,1.0)\n",
       " RGB{Float64}(0.806366,0.888896,1.0)          RGB{Float64}(0.806773,0.889117,1.0)\n",
       " RGB{Float64}(0.806837,0.889152,1.0)       …  RGB{Float64}(0.807257,0.889381,1.0)\n",
       " RGB{Float64}(0.807327,0.889419,1.0)          RGB{Float64}(0.807767,0.889659,1.0)\n",
       " RGB{Float64}(0.807852,0.889705,1.0)          RGB{Float64}(0.808275,0.889935,1.0)\n",
       " RGB{Float64}(0.808314,0.889957,1.0)          RGB{Float64}(0.808813,0.890228,1.0)\n",
       " RGB{Float64}(0.808833,0.890239,1.0)          RGB{Float64}(0.809266,0.890475,1.0)\n",
       " RGB{Float64}(0.809367,0.890531,1.0)       …  RGB{Float64}(0.8098,0.890767,1.0)\n",
       " RGB{Float64}(0.809828,0.890782,1.0)          RGB{Float64}(0.810292,0.891035,1.0)\n",
       " RGB{Float64}(0.810399,0.891093,1.0)          RGB{Float64}(0.810816,0.891321,1.0)\n",
       " ⋮                                         ⋱  \n",
       " RGB{Float64}(0.533117,0.594793,0.676849)     RGB{Float64}(0.546517,0.61055,0.695634)\n",
       " RGB{Float64}(0.548411,0.609059,0.690109)  …  RGB{Float64}(0.549071,0.609723,0.690788)\n",
       " RGB{Float64}(0.533241,0.593308,0.673436)     RGB{Float64}(0.549264,0.60993,0.691014)\n",
       " RGB{Float64}(0.541509,0.607609,0.695072)     RGB{Float64}(0.54888,0.609825,0.69124)\n",
       " RGB{Float64}(0.557978,0.618711,0.7)          RGB{Float64}(0.54313,0.607063,0.691974)\n",
       " RGB{Float64}(0.539373,0.602961,0.687401)     RGB{Float64}(0.549312,0.612818,0.697316)\n",
       " RGB{Float64}(0.555706,0.617483,0.7)       …  RGB{Float64}(0.544764,0.607304,0.690576)\n",
       " RGB{Float64}(0.540454,0.602031,0.684082)     RGB{Float64}(0.551075,0.61009,0.689202)\n",
       " RGB{Float64}(0.542792,0.60337,0.684254)      RGB{Float64}(0.546806,0.606134,0.685565)\n",
       " RGB{Float64}(0.545565,0.609167,0.693722)     RGB{Float64}(0.53822,0.60109,0.684653)\n",
       " RGB{Float64}(0.550997,0.614132,0.698212)     RGB{Float64}(0.546966,0.612783,0.7)\n",
       " RGB{Float64}(0.543264,0.605873,0.689202)  …  RGB{Float64}(0.542726,0.606511,0.69124)"
      ]
     },
     "execution_count": 32,
     "metadata": {},
     "output_type": "execute_result"
    }
   ],
   "source": [
    "@time render()"
   ]
  }
 ],
 "metadata": {
  "@webio": {
   "lastCommId": null,
   "lastKernelId": null
  },
  "kernelspec": {
   "display_name": "Julia 1.4.1",
   "language": "julia",
   "name": "julia-1.4"
  },
  "language_info": {
   "file_extension": ".jl",
   "mimetype": "application/julia",
   "name": "julia",
   "version": "1.4.1"
  }
 },
 "nbformat": 4,
 "nbformat_minor": 4
}
