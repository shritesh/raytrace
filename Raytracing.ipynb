{
 "cells": [
  {
   "cell_type": "code",
   "execution_count": 1,
   "metadata": {},
   "outputs": [],
   "source": [
    "using Images, LinearAlgebra, ProgressMeter"
   ]
  },
  {
   "cell_type": "markdown",
   "metadata": {},
   "source": [
    "# 2. Output an Image"
   ]
  },
  {
   "cell_type": "code",
   "execution_count": 2,
   "metadata": {},
   "outputs": [
    {
     "data": {
      "text/plain": [
       "(200, 100)"
      ]
     },
     "execution_count": 2,
     "metadata": {},
     "output_type": "execute_result"
    }
   ],
   "source": [
    "(image_width, image_height) = (200, 100)"
   ]
  },
  {
   "cell_type": "code",
   "execution_count": 3,
   "metadata": {},
   "outputs": [
    {
     "data": {
      "image/png": "[encoded data removed]",
      "text/plain": [
       "100×200 Array{RGB{Float64},2} with eltype RGB{Float64}:\n",
       " RGB{Float64}(0.005,1.0,0.2)   …  RGB{Float64}(1.0,1.0,0.2)\n",
       " RGB{Float64}(0.005,0.99,0.2)     RGB{Float64}(1.0,0.99,0.2)\n",
       " RGB{Float64}(0.005,0.98,0.2)     RGB{Float64}(1.0,0.98,0.2)\n",
       " RGB{Float64}(0.005,0.97,0.2)     RGB{Float64}(1.0,0.97,0.2)\n",
       " RGB{Float64}(0.005,0.96,0.2)     RGB{Float64}(1.0,0.96,0.2)\n",
       " RGB{Float64}(0.005,0.95,0.2)  …  RGB{Float64}(1.0,0.95,0.2)\n",
       " RGB{Float64}(0.005,0.94,0.2)     RGB{Float64}(1.0,0.94,0.2)\n",
       " RGB{Float64}(0.005,0.93,0.2)     RGB{Float64}(1.0,0.93,0.2)\n",
       " RGB{Float64}(0.005,0.92,0.2)     RGB{Float64}(1.0,0.92,0.2)\n",
       " RGB{Float64}(0.005,0.91,0.2)     RGB{Float64}(1.0,0.91,0.2)\n",
       " RGB{Float64}(0.005,0.9,0.2)   …  RGB{Float64}(1.0,0.9,0.2)\n",
       " RGB{Float64}(0.005,0.89,0.2)     RGB{Float64}(1.0,0.89,0.2)\n",
       " RGB{Float64}(0.005,0.88,0.2)     RGB{Float64}(1.0,0.88,0.2)\n",
       " ⋮                             ⋱  \n",
       " RGB{Float64}(0.005,0.12,0.2)     RGB{Float64}(1.0,0.12,0.2)\n",
       " RGB{Float64}(0.005,0.11,0.2)     RGB{Float64}(1.0,0.11,0.2)\n",
       " RGB{Float64}(0.005,0.1,0.2)   …  RGB{Float64}(1.0,0.1,0.2)\n",
       " RGB{Float64}(0.005,0.09,0.2)     RGB{Float64}(1.0,0.09,0.2)\n",
       " RGB{Float64}(0.005,0.08,0.2)     RGB{Float64}(1.0,0.08,0.2)\n",
       " RGB{Float64}(0.005,0.07,0.2)     RGB{Float64}(1.0,0.07,0.2)\n",
       " RGB{Float64}(0.005,0.06,0.2)     RGB{Float64}(1.0,0.06,0.2)\n",
       " RGB{Float64}(0.005,0.05,0.2)  …  RGB{Float64}(1.0,0.05,0.2)\n",
       " RGB{Float64}(0.005,0.04,0.2)     RGB{Float64}(1.0,0.04,0.2)\n",
       " RGB{Float64}(0.005,0.03,0.2)     RGB{Float64}(1.0,0.03,0.2)\n",
       " RGB{Float64}(0.005,0.02,0.2)     RGB{Float64}(1.0,0.02,0.2)\n",
       " RGB{Float64}(0.005,0.01,0.2)     RGB{Float64}(1.0,0.01,0.2)"
      ]
     },
     "execution_count": 3,
     "metadata": {},
     "output_type": "execute_result"
    }
   ],
   "source": [
    "[RGB(i / image_width, j / image_height, 0.2) for j in image_height:-1:1, i in 1:image_width]"
   ]
  },
  {
   "cell_type": "markdown",
   "metadata": {},
   "source": [
    "# 3. The Vec3 ~~Class~~ Array"
   ]
  },
  {
   "cell_type": "code",
   "execution_count": 4,
   "metadata": {},
   "outputs": [],
   "source": [
    "x(vec) = vec[1]\n",
    "y(vec) = vec[2]\n",
    "z(vec) = vec[3];"
   ]
  },
  {
   "cell_type": "code",
   "execution_count": 5,
   "metadata": {},
   "outputs": [
    {
     "data": {
      "text/plain": [
       "color (generic function with 1 method)"
      ]
     },
     "execution_count": 5,
     "metadata": {},
     "output_type": "execute_result"
    }
   ],
   "source": [
    "color(i,j) = [i / image_width, j / image_height, 0.2]"
   ]
  },
  {
   "cell_type": "code",
   "execution_count": 6,
   "metadata": {},
   "outputs": [
    {
     "name": "stderr",
     "output_type": "stream",
     "text": [
      "\u001b[32mProgress: 100%|█████████████████████████████████████████| Time: 0:00:00\u001b[39m\n"
     ]
    },
    {
     "data": {
      "image/png": "[encoded data removed]",
      "text/plain": [
       "100×200 Array{RGB{Float64},2} with eltype RGB{Float64}:\n",
       " RGB{Float64}(0.005,1.0,0.2)   …  RGB{Float64}(1.0,1.0,0.2)\n",
       " RGB{Float64}(0.005,0.99,0.2)     RGB{Float64}(1.0,0.99,0.2)\n",
       " RGB{Float64}(0.005,0.98,0.2)     RGB{Float64}(1.0,0.98,0.2)\n",
       " RGB{Float64}(0.005,0.97,0.2)     RGB{Float64}(1.0,0.97,0.2)\n",
       " RGB{Float64}(0.005,0.96,0.2)     RGB{Float64}(1.0,0.96,0.2)\n",
       " RGB{Float64}(0.005,0.95,0.2)  …  RGB{Float64}(1.0,0.95,0.2)\n",
       " RGB{Float64}(0.005,0.94,0.2)     RGB{Float64}(1.0,0.94,0.2)\n",
       " RGB{Float64}(0.005,0.93,0.2)     RGB{Float64}(1.0,0.93,0.2)\n",
       " RGB{Float64}(0.005,0.92,0.2)     RGB{Float64}(1.0,0.92,0.2)\n",
       " RGB{Float64}(0.005,0.91,0.2)     RGB{Float64}(1.0,0.91,0.2)\n",
       " RGB{Float64}(0.005,0.9,0.2)   …  RGB{Float64}(1.0,0.9,0.2)\n",
       " RGB{Float64}(0.005,0.89,0.2)     RGB{Float64}(1.0,0.89,0.2)\n",
       " RGB{Float64}(0.005,0.88,0.2)     RGB{Float64}(1.0,0.88,0.2)\n",
       " ⋮                             ⋱  \n",
       " RGB{Float64}(0.005,0.12,0.2)     RGB{Float64}(1.0,0.12,0.2)\n",
       " RGB{Float64}(0.005,0.11,0.2)     RGB{Float64}(1.0,0.11,0.2)\n",
       " RGB{Float64}(0.005,0.1,0.2)   …  RGB{Float64}(1.0,0.1,0.2)\n",
       " RGB{Float64}(0.005,0.09,0.2)     RGB{Float64}(1.0,0.09,0.2)\n",
       " RGB{Float64}(0.005,0.08,0.2)     RGB{Float64}(1.0,0.08,0.2)\n",
       " RGB{Float64}(0.005,0.07,0.2)     RGB{Float64}(1.0,0.07,0.2)\n",
       " RGB{Float64}(0.005,0.06,0.2)     RGB{Float64}(1.0,0.06,0.2)\n",
       " RGB{Float64}(0.005,0.05,0.2)  …  RGB{Float64}(1.0,0.05,0.2)\n",
       " RGB{Float64}(0.005,0.04,0.2)     RGB{Float64}(1.0,0.04,0.2)\n",
       " RGB{Float64}(0.005,0.03,0.2)     RGB{Float64}(1.0,0.03,0.2)\n",
       " RGB{Float64}(0.005,0.02,0.2)     RGB{Float64}(1.0,0.02,0.2)\n",
       " RGB{Float64}(0.005,0.01,0.2)     RGB{Float64}(1.0,0.01,0.2)"
      ]
     },
     "execution_count": 6,
     "metadata": {},
     "output_type": "execute_result"
    }
   ],
   "source": [
    "render() = @showprogress map(coords -> RGB(color(coords...)...), [(i,j) for j in image_height:-1:1, i in 1:image_width])\n",
    "render()"
   ]
  },
  {
   "cell_type": "markdown",
   "metadata": {},
   "source": [
    "# 4. Rays, a Simple Camera, and Background"
   ]
  },
  {
   "cell_type": "code",
   "execution_count": 7,
   "metadata": {},
   "outputs": [
    {
     "data": {
      "text/plain": [
       "Main.RayM"
      ]
     },
     "execution_count": 7,
     "metadata": {},
     "output_type": "execute_result"
    }
   ],
   "source": [
    "module RayM\n",
    "struct Ray \n",
    "    origin\n",
    "    direction\n",
    "end\n",
    "end"
   ]
  },
  {
   "cell_type": "code",
   "execution_count": 8,
   "metadata": {},
   "outputs": [
    {
     "data": {
      "text/plain": [
       "at (generic function with 1 method)"
      ]
     },
     "execution_count": 8,
     "metadata": {},
     "output_type": "execute_result"
    }
   ],
   "source": [
    "at(ray::RayM.Ray, t) = ray.origin + t * ray.direction"
   ]
  },
  {
   "cell_type": "code",
   "execution_count": 9,
   "metadata": {},
   "outputs": [
    {
     "data": {
      "text/plain": [
       "color (generic function with 2 methods)"
      ]
     },
     "execution_count": 9,
     "metadata": {},
     "output_type": "execute_result"
    }
   ],
   "source": [
    "function color(ray::RayM.Ray)\n",
    "    unit_direction = normalize(ray.direction)\n",
    "    t = 0.5 * (y(unit_direction) + 1)\n",
    "    (1 - t) * [1, 1, 1] + t * [0.5, 0.7, 1]\n",
    "end"
   ]
  },
  {
   "cell_type": "code",
   "execution_count": 10,
   "metadata": {},
   "outputs": [],
   "source": [
    "lower_left_corner = [-2, -1, -1]\n",
    "horizontal = [4, 0, 0]\n",
    "vertical = [0, 2, 0]\n",
    "origin = [0, 0, 0];"
   ]
  },
  {
   "cell_type": "code",
   "execution_count": 11,
   "metadata": {},
   "outputs": [
    {
     "data": {
      "text/plain": [
       "color (generic function with 2 methods)"
      ]
     },
     "execution_count": 11,
     "metadata": {},
     "output_type": "execute_result"
    }
   ],
   "source": [
    "function color(i, j) \n",
    "    u = i / image_width\n",
    "    v = j / image_height\n",
    "    r = RayM.Ray(origin, lower_left_corner + u * horizontal + v * vertical)\n",
    "    color(r)\n",
    "end"
   ]
  },
  {
   "cell_type": "code",
   "execution_count": 12,
   "metadata": {},
   "outputs": [
    {
     "name": "stderr",
     "output_type": "stream",
     "text": [
      "\u001b[32mProgress: 100%|█████████████████████████████████████████| Time: 0:00:00\u001b[39m\n"
     ]
    },
    {
     "data": {
      "image/png": "[encoded data removed]",
      "text/plain": [
       "100×200 Array{RGB{Float64},2} with eltype RGB{Float64}:\n",
       " RGB{Float64}(0.647254,0.788352,1.0)  …  RGB{Float64}(0.647938,0.788763,1.0)\n",
       " RGB{Float64}(0.648971,0.789382,1.0)     RGB{Float64}(0.649647,0.789788,1.0)\n",
       " RGB{Float64}(0.650704,0.790423,1.0)     RGB{Float64}(0.651374,0.790824,1.0)\n",
       " RGB{Float64}(0.652455,0.791473,1.0)     RGB{Float64}(0.653117,0.79187,1.0)\n",
       " RGB{Float64}(0.654223,0.792534,1.0)     RGB{Float64}(0.654877,0.792926,1.0)\n",
       " RGB{Float64}(0.656008,0.793605,1.0)  …  RGB{Float64}(0.656654,0.793993,1.0)\n",
       " RGB{Float64}(0.65781,0.794686,1.0)      RGB{Float64}(0.658448,0.795069,1.0)\n",
       " RGB{Float64}(0.659629,0.795777,1.0)     RGB{Float64}(0.660258,0.796155,1.0)\n",
       " RGB{Float64}(0.661464,0.796878,1.0)     RGB{Float64}(0.662084,0.79725,1.0)\n",
       " RGB{Float64}(0.663316,0.79799,1.0)      RGB{Float64}(0.663926,0.798356,1.0)\n",
       " RGB{Float64}(0.665184,0.79911,1.0)   …  RGB{Float64}(0.665785,0.799471,1.0)\n",
       " RGB{Float64}(0.667069,0.800241,1.0)     RGB{Float64}(0.667659,0.800596,1.0)\n",
       " RGB{Float64}(0.668969,0.801381,1.0)     RGB{Float64}(0.669549,0.80173,1.0)\n",
       " ⋮                                    ⋱  \n",
       " RGB{Float64}(0.831031,0.898619,1.0)     RGB{Float64}(0.830451,0.89827,1.0)\n",
       " RGB{Float64}(0.832931,0.899759,1.0)     RGB{Float64}(0.832341,0.899404,1.0)\n",
       " RGB{Float64}(0.834816,0.90089,1.0)   …  RGB{Float64}(0.834215,0.900529,1.0)\n",
       " RGB{Float64}(0.836684,0.90201,1.0)      RGB{Float64}(0.836074,0.901644,1.0)\n",
       " RGB{Float64}(0.838536,0.903122,1.0)     RGB{Float64}(0.837916,0.90275,1.0)\n",
       " RGB{Float64}(0.840371,0.904223,1.0)     RGB{Float64}(0.839742,0.903845,1.0)\n",
       " RGB{Float64}(0.84219,0.905314,1.0)      RGB{Float64}(0.841552,0.904931,1.0)\n",
       " RGB{Float64}(0.843992,0.906395,1.0)  …  RGB{Float64}(0.843346,0.906007,1.0)\n",
       " RGB{Float64}(0.845777,0.907466,1.0)     RGB{Float64}(0.845123,0.907074,1.0)\n",
       " RGB{Float64}(0.847545,0.908527,1.0)     RGB{Float64}(0.846883,0.90813,1.0)\n",
       " RGB{Float64}(0.849296,0.909577,1.0)     RGB{Float64}(0.848626,0.909176,1.0)\n",
       " RGB{Float64}(0.851029,0.910618,1.0)     RGB{Float64}(0.850353,0.910212,1.0)"
      ]
     },
     "execution_count": 12,
     "metadata": {},
     "output_type": "execute_result"
    }
   ],
   "source": [
    "render()"
   ]
  },
  {
   "cell_type": "markdown",
   "metadata": {},
   "source": [
    "# 5. Adding a Sphere"
   ]
  },
  {
   "cell_type": "code",
   "execution_count": 13,
   "metadata": {},
   "outputs": [
    {
     "data": {
      "text/plain": [
       "hit_sphere (generic function with 1 method)"
      ]
     },
     "execution_count": 13,
     "metadata": {},
     "output_type": "execute_result"
    }
   ],
   "source": [
    "function hit_sphere(center, radius, r)\n",
    "    oc = r.origin - center\n",
    "    a = dot(r.direction, r.direction)\n",
    "    b = 2 * dot(oc, r.direction)\n",
    "    c = dot(oc, oc) - radius * radius\n",
    "    discriminant = b * b - 4 * a * c\n",
    "    discriminant > 0\n",
    "end"
   ]
  },
  {
   "cell_type": "code",
   "execution_count": 14,
   "metadata": {},
   "outputs": [
    {
     "data": {
      "text/plain": [
       "color (generic function with 2 methods)"
      ]
     },
     "execution_count": 14,
     "metadata": {},
     "output_type": "execute_result"
    }
   ],
   "source": [
    "function color(r::RayM.Ray)\n",
    "    if hit_sphere([0, 0, -1], 0.5, r)\n",
    "        return [1, 0, 0]\n",
    "    end\n",
    "    unit_direction = normalize(r.direction)\n",
    "    t = 0.5 * (y(unit_direction) + 1)\n",
    "    (1 - t) * [1, 1, 1] + t * [0.5, 0.7, 1]\n",
    "end"
   ]
  },
  {
   "cell_type": "code",
   "execution_count": 15,
   "metadata": {},
   "outputs": [
    {
     "name": "stderr",
     "output_type": "stream",
     "text": [
      "\u001b[32mProgress: 100%|█████████████████████████████████████████| Time: 0:00:00\u001b[39m\n"
     ]
    },
    {
     "data": {
      "image/png": "[encoded data removed]",
      "text/plain": [
       "100×200 Array{RGB,2} with eltype RGB:\n",
       " RGB{Float64}(0.647254,0.788352,1.0)  …  RGB{Float64}(0.647938,0.788763,1.0)\n",
       " RGB{Float64}(0.648971,0.789382,1.0)     RGB{Float64}(0.649647,0.789788,1.0)\n",
       " RGB{Float64}(0.650704,0.790423,1.0)     RGB{Float64}(0.651374,0.790824,1.0)\n",
       " RGB{Float64}(0.652455,0.791473,1.0)     RGB{Float64}(0.653117,0.79187,1.0)\n",
       " RGB{Float64}(0.654223,0.792534,1.0)     RGB{Float64}(0.654877,0.792926,1.0)\n",
       " RGB{Float64}(0.656008,0.793605,1.0)  …  RGB{Float64}(0.656654,0.793993,1.0)\n",
       " RGB{Float64}(0.65781,0.794686,1.0)      RGB{Float64}(0.658448,0.795069,1.0)\n",
       " RGB{Float64}(0.659629,0.795777,1.0)     RGB{Float64}(0.660258,0.796155,1.0)\n",
       " RGB{Float64}(0.661464,0.796878,1.0)     RGB{Float64}(0.662084,0.79725,1.0)\n",
       " RGB{Float64}(0.663316,0.79799,1.0)      RGB{Float64}(0.663926,0.798356,1.0)\n",
       " RGB{Float64}(0.665184,0.79911,1.0)   …  RGB{Float64}(0.665785,0.799471,1.0)\n",
       " RGB{Float64}(0.667069,0.800241,1.0)     RGB{Float64}(0.667659,0.800596,1.0)\n",
       " RGB{Float64}(0.668969,0.801381,1.0)     RGB{Float64}(0.669549,0.80173,1.0)\n",
       " ⋮                                    ⋱  \n",
       " RGB{Float64}(0.831031,0.898619,1.0)     RGB{Float64}(0.830451,0.89827,1.0)\n",
       " RGB{Float64}(0.832931,0.899759,1.0)     RGB{Float64}(0.832341,0.899404,1.0)\n",
       " RGB{Float64}(0.834816,0.90089,1.0)   …  RGB{Float64}(0.834215,0.900529,1.0)\n",
       " RGB{Float64}(0.836684,0.90201,1.0)      RGB{Float64}(0.836074,0.901644,1.0)\n",
       " RGB{Float64}(0.838536,0.903122,1.0)     RGB{Float64}(0.837916,0.90275,1.0)\n",
       " RGB{Float64}(0.840371,0.904223,1.0)     RGB{Float64}(0.839742,0.903845,1.0)\n",
       " RGB{Float64}(0.84219,0.905314,1.0)      RGB{Float64}(0.841552,0.904931,1.0)\n",
       " RGB{Float64}(0.843992,0.906395,1.0)  …  RGB{Float64}(0.843346,0.906007,1.0)\n",
       " RGB{Float64}(0.845777,0.907466,1.0)     RGB{Float64}(0.845123,0.907074,1.0)\n",
       " RGB{Float64}(0.847545,0.908527,1.0)     RGB{Float64}(0.846883,0.90813,1.0)\n",
       " RGB{Float64}(0.849296,0.909577,1.0)     RGB{Float64}(0.848626,0.909176,1.0)\n",
       " RGB{Float64}(0.851029,0.910618,1.0)     RGB{Float64}(0.850353,0.910212,1.0)"
      ]
     },
     "execution_count": 15,
     "metadata": {},
     "output_type": "execute_result"
    }
   ],
   "source": [
    "render()"
   ]
  },
  {
   "cell_type": "markdown",
   "metadata": {},
   "source": [
    "# 6. Surface Normals and Multiple Objects"
   ]
  },
  {
   "cell_type": "code",
   "execution_count": 16,
   "metadata": {},
   "outputs": [
    {
     "data": {
      "text/plain": [
       "hit_sphere (generic function with 1 method)"
      ]
     },
     "execution_count": 16,
     "metadata": {},
     "output_type": "execute_result"
    }
   ],
   "source": [
    "function hit_sphere(center, radius, r)\n",
    "    oc = r.origin - center\n",
    "    a = dot(r.direction, r.direction)\n",
    "    b = 2 * dot(oc, r.direction)\n",
    "    c = dot(oc, oc) - radius * radius\n",
    "    discriminant = b * b - 4 * a * c\n",
    "    if discriminant < 0\n",
    "        -1\n",
    "    else\n",
    "        (-b - sqrt(discriminant)) / (2 * a)\n",
    "    end\n",
    "end"
   ]
  },
  {
   "cell_type": "code",
   "execution_count": 17,
   "metadata": {},
   "outputs": [
    {
     "data": {
      "text/plain": [
       "color (generic function with 2 methods)"
      ]
     },
     "execution_count": 17,
     "metadata": {},
     "output_type": "execute_result"
    }
   ],
   "source": [
    "function color(r::RayM.Ray)\n",
    "    t = hit_sphere([0, 0, -1], 0.5, r)\n",
    "    if t > 0\n",
    "        n = normalize(at(r, t) - [0, 0, -1])\n",
    "        return 0.5 * (n .+ 1)\n",
    "    end\n",
    "    unit_direction = normalize(r.direction)\n",
    "    t = 0.5 * (y(unit_direction) + 1)\n",
    "    (1 - t) * [1, 1, 1] + t * [0.5, 0.7, 1]\n",
    "end"
   ]
  },
  {
   "cell_type": "code",
   "execution_count": 18,
   "metadata": {},
   "outputs": [
    {
     "name": "stderr",
     "output_type": "stream",
     "text": [
      "\u001b[32mProgress: 100%|█████████████████████████████████████████| Time: 0:00:00\u001b[39m\n"
     ]
    },
    {
     "data": {
      "image/png": "[encoded data removed]",
      "text/plain": [
       "100×200 Array{RGB{Float64},2} with eltype RGB{Float64}:\n",
       " RGB{Float64}(0.647254,0.788352,1.0)  …  RGB{Float64}(0.647938,0.788763,1.0)\n",
       " RGB{Float64}(0.648971,0.789382,1.0)     RGB{Float64}(0.649647,0.789788,1.0)\n",
       " RGB{Float64}(0.650704,0.790423,1.0)     RGB{Float64}(0.651374,0.790824,1.0)\n",
       " RGB{Float64}(0.652455,0.791473,1.0)     RGB{Float64}(0.653117,0.79187,1.0)\n",
       " RGB{Float64}(0.654223,0.792534,1.0)     RGB{Float64}(0.654877,0.792926,1.0)\n",
       " RGB{Float64}(0.656008,0.793605,1.0)  …  RGB{Float64}(0.656654,0.793993,1.0)\n",
       " RGB{Float64}(0.65781,0.794686,1.0)      RGB{Float64}(0.658448,0.795069,1.0)\n",
       " RGB{Float64}(0.659629,0.795777,1.0)     RGB{Float64}(0.660258,0.796155,1.0)\n",
       " RGB{Float64}(0.661464,0.796878,1.0)     RGB{Float64}(0.662084,0.79725,1.0)\n",
       " RGB{Float64}(0.663316,0.79799,1.0)      RGB{Float64}(0.663926,0.798356,1.0)\n",
       " RGB{Float64}(0.665184,0.79911,1.0)   …  RGB{Float64}(0.665785,0.799471,1.0)\n",
       " RGB{Float64}(0.667069,0.800241,1.0)     RGB{Float64}(0.667659,0.800596,1.0)\n",
       " RGB{Float64}(0.668969,0.801381,1.0)     RGB{Float64}(0.669549,0.80173,1.0)\n",
       " ⋮                                    ⋱  \n",
       " RGB{Float64}(0.831031,0.898619,1.0)     RGB{Float64}(0.830451,0.89827,1.0)\n",
       " RGB{Float64}(0.832931,0.899759,1.0)     RGB{Float64}(0.832341,0.899404,1.0)\n",
       " RGB{Float64}(0.834816,0.90089,1.0)   …  RGB{Float64}(0.834215,0.900529,1.0)\n",
       " RGB{Float64}(0.836684,0.90201,1.0)      RGB{Float64}(0.836074,0.901644,1.0)\n",
       " RGB{Float64}(0.838536,0.903122,1.0)     RGB{Float64}(0.837916,0.90275,1.0)\n",
       " RGB{Float64}(0.840371,0.904223,1.0)     RGB{Float64}(0.839742,0.903845,1.0)\n",
       " RGB{Float64}(0.84219,0.905314,1.0)      RGB{Float64}(0.841552,0.904931,1.0)\n",
       " RGB{Float64}(0.843992,0.906395,1.0)  …  RGB{Float64}(0.843346,0.906007,1.0)\n",
       " RGB{Float64}(0.845777,0.907466,1.0)     RGB{Float64}(0.845123,0.907074,1.0)\n",
       " RGB{Float64}(0.847545,0.908527,1.0)     RGB{Float64}(0.846883,0.90813,1.0)\n",
       " RGB{Float64}(0.849296,0.909577,1.0)     RGB{Float64}(0.848626,0.909176,1.0)\n",
       " RGB{Float64}(0.851029,0.910618,1.0)     RGB{Float64}(0.850353,0.910212,1.0)"
      ]
     },
     "execution_count": 18,
     "metadata": {},
     "output_type": "execute_result"
    }
   ],
   "source": [
    "render()"
   ]
  },
  {
   "cell_type": "code",
   "execution_count": 19,
   "metadata": {},
   "outputs": [
    {
     "data": {
      "text/plain": [
       "hit_sphere (generic function with 1 method)"
      ]
     },
     "execution_count": 19,
     "metadata": {},
     "output_type": "execute_result"
    }
   ],
   "source": [
    "function hit_sphere(center, radius, r)\n",
    "    oc = r.origin - center\n",
    "    a = norm(r.direction)^2\n",
    "    half_b = dot(oc, r.direction)\n",
    "    c = norm(oc)^2 - radius * radius\n",
    "    discriminant = half_b * half_b - a * c\n",
    "    \n",
    "    if discriminant < 0\n",
    "        -1\n",
    "    else\n",
    "        (-half_b - sqrt(discriminant)) / a\n",
    "    end\n",
    "end"
   ]
  },
  {
   "cell_type": "code",
   "execution_count": 20,
   "metadata": {},
   "outputs": [
    {
     "name": "stderr",
     "output_type": "stream",
     "text": [
      "\u001b[32mProgress: 100%|█████████████████████████████████████████| Time: 0:00:00\u001b[39m\n"
     ]
    },
    {
     "data": {
      "image/png": "[encoded data removed]",
      "text/plain": [
       "100×200 Array{RGB{Float64},2} with eltype RGB{Float64}:\n",
       " RGB{Float64}(0.647254,0.788352,1.0)  …  RGB{Float64}(0.647938,0.788763,1.0)\n",
       " RGB{Float64}(0.648971,0.789382,1.0)     RGB{Float64}(0.649647,0.789788,1.0)\n",
       " RGB{Float64}(0.650704,0.790423,1.0)     RGB{Float64}(0.651374,0.790824,1.0)\n",
       " RGB{Float64}(0.652455,0.791473,1.0)     RGB{Float64}(0.653117,0.79187,1.0)\n",
       " RGB{Float64}(0.654223,0.792534,1.0)     RGB{Float64}(0.654877,0.792926,1.0)\n",
       " RGB{Float64}(0.656008,0.793605,1.0)  …  RGB{Float64}(0.656654,0.793993,1.0)\n",
       " RGB{Float64}(0.65781,0.794686,1.0)      RGB{Float64}(0.658448,0.795069,1.0)\n",
       " RGB{Float64}(0.659629,0.795777,1.0)     RGB{Float64}(0.660258,0.796155,1.0)\n",
       " RGB{Float64}(0.661464,0.796878,1.0)     RGB{Float64}(0.662084,0.79725,1.0)\n",
       " RGB{Float64}(0.663316,0.79799,1.0)      RGB{Float64}(0.663926,0.798356,1.0)\n",
       " RGB{Float64}(0.665184,0.79911,1.0)   …  RGB{Float64}(0.665785,0.799471,1.0)\n",
       " RGB{Float64}(0.667069,0.800241,1.0)     RGB{Float64}(0.667659,0.800596,1.0)\n",
       " RGB{Float64}(0.668969,0.801381,1.0)     RGB{Float64}(0.669549,0.80173,1.0)\n",
       " ⋮                                    ⋱  \n",
       " RGB{Float64}(0.831031,0.898619,1.0)     RGB{Float64}(0.830451,0.89827,1.0)\n",
       " RGB{Float64}(0.832931,0.899759,1.0)     RGB{Float64}(0.832341,0.899404,1.0)\n",
       " RGB{Float64}(0.834816,0.90089,1.0)   …  RGB{Float64}(0.834215,0.900529,1.0)\n",
       " RGB{Float64}(0.836684,0.90201,1.0)      RGB{Float64}(0.836074,0.901644,1.0)\n",
       " RGB{Float64}(0.838536,0.903122,1.0)     RGB{Float64}(0.837916,0.90275,1.0)\n",
       " RGB{Float64}(0.840371,0.904223,1.0)     RGB{Float64}(0.839742,0.903845,1.0)\n",
       " RGB{Float64}(0.84219,0.905314,1.0)      RGB{Float64}(0.841552,0.904931,1.0)\n",
       " RGB{Float64}(0.843992,0.906395,1.0)  …  RGB{Float64}(0.843346,0.906007,1.0)\n",
       " RGB{Float64}(0.845777,0.907466,1.0)     RGB{Float64}(0.845123,0.907074,1.0)\n",
       " RGB{Float64}(0.847545,0.908527,1.0)     RGB{Float64}(0.846883,0.90813,1.0)\n",
       " RGB{Float64}(0.849296,0.909577,1.0)     RGB{Float64}(0.848626,0.909176,1.0)\n",
       " RGB{Float64}(0.851029,0.910618,1.0)     RGB{Float64}(0.850353,0.910212,1.0)"
      ]
     },
     "execution_count": 20,
     "metadata": {},
     "output_type": "execute_result"
    }
   ],
   "source": [
    "render()"
   ]
  },
  {
   "cell_type": "code",
   "execution_count": 21,
   "metadata": {},
   "outputs": [
    {
     "data": {
      "text/plain": [
       "Main.HitRecordM"
      ]
     },
     "execution_count": 21,
     "metadata": {},
     "output_type": "execute_result"
    }
   ],
   "source": [
    "module HitRecordM\n",
    "mutable struct HitRecord\n",
    "    p\n",
    "    normal\n",
    "    t\n",
    "    front_face\n",
    "    \n",
    "    HitRecord() = new([0, 0, 0], [0, 0, 0], 0, false)\n",
    "end\n",
    "end"
   ]
  },
  {
   "cell_type": "code",
   "execution_count": 22,
   "metadata": {},
   "outputs": [
    {
     "data": {
      "text/plain": [
       "set_face_normal (generic function with 1 method)"
      ]
     },
     "execution_count": 22,
     "metadata": {},
     "output_type": "execute_result"
    }
   ],
   "source": [
    "function set_face_normal(rec::HitRecordM.HitRecord, r, outward_normal)\n",
    "    rec.front_face = dot(r.direction, outward_normal) < 0\n",
    "    rec.normal = if rec.front_face\n",
    "        outward_normal \n",
    "    else\n",
    "        -outward_normal\n",
    "    end\n",
    "end"
   ]
  },
  {
   "cell_type": "code",
   "execution_count": 23,
   "metadata": {},
   "outputs": [],
   "source": [
    "abstract type Hittable end"
   ]
  },
  {
   "cell_type": "code",
   "execution_count": 24,
   "metadata": {},
   "outputs": [
    {
     "data": {
      "text/plain": [
       "Main.SphereM"
      ]
     },
     "execution_count": 24,
     "metadata": {},
     "output_type": "execute_result"
    }
   ],
   "source": [
    "module SphereM\n",
    "struct Sphere <: Main.Hittable\n",
    "    center\n",
    "    radius\n",
    "end\n",
    "end"
   ]
  },
  {
   "cell_type": "code",
   "execution_count": 25,
   "metadata": {},
   "outputs": [
    {
     "data": {
      "text/plain": [
       "hit (generic function with 1 method)"
      ]
     },
     "execution_count": 25,
     "metadata": {},
     "output_type": "execute_result"
    }
   ],
   "source": [
    "function hit(sphere::SphereM.Sphere, r, t_min, t_max, rec)\n",
    "    oc = r.origin - sphere.center\n",
    "    a = norm(r.direction)^2\n",
    "    half_b = dot(oc, r.direction)\n",
    "    c = norm(oc)^2 - sphere.radius * sphere.radius\n",
    "    discriminant = half_b * half_b - a * c\n",
    "    \n",
    "    if discriminant > 0\n",
    "        root = sqrt(discriminant)\n",
    "        temp = (-half_b - root) / a\n",
    "        if t_min < temp < t_max \n",
    "            rec.t = temp\n",
    "            rec.p = at(r, rec.t)\n",
    "            outward_normal = (rec.p - sphere.center) / sphere.radius\n",
    "            set_face_normal(rec, r, outward_normal)\n",
    "            return true\n",
    "        end\n",
    "        temp = (-half_b + root) / a\n",
    "        if t_min < temp < t_max\n",
    "            rec.t = temp\n",
    "            rec.p = at(r, rec.t)\n",
    "            outward_normal = (rec.p - sphere.center) / sphere.radius\n",
    "            set_face_normal(rec, r, outward_normal)\n",
    "            return true\n",
    "        end\n",
    "    end\n",
    "    false\n",
    "end"
   ]
  },
  {
   "cell_type": "code",
   "execution_count": 26,
   "metadata": {},
   "outputs": [
    {
     "data": {
      "text/plain": [
       "Main.HittableListM"
      ]
     },
     "execution_count": 26,
     "metadata": {},
     "output_type": "execute_result"
    }
   ],
   "source": [
    "module HittableListM\n",
    "struct HittableList <: Main.Hittable\n",
    "    objects\n",
    "end\n",
    "end"
   ]
  },
  {
   "cell_type": "code",
   "execution_count": 27,
   "metadata": {},
   "outputs": [
    {
     "data": {
      "text/plain": [
       "hit (generic function with 2 methods)"
      ]
     },
     "execution_count": 27,
     "metadata": {},
     "output_type": "execute_result"
    }
   ],
   "source": [
    "function hit(hittable_list::HittableListM.HittableList, r, t_min, t_max, rec)\n",
    "    temp_rec = HitRecordM.HitRecord()\n",
    "    hit_anything = false\n",
    "    closest_so_far = t_max\n",
    "    \n",
    "    for object in hittable_list.objects\n",
    "        if hit(object, r, t_min, closest_so_far, temp_rec)\n",
    "            hit_anything = true\n",
    "            closest_so_far = temp_rec.t\n",
    "            rec.p = temp_rec.p\n",
    "            rec.normal = temp_rec.normal\n",
    "            rec.t = temp_rec.t\n",
    "            rec.front_face = temp_rec.front_face\n",
    "        end\n",
    "    end\n",
    "    \n",
    "    hit_anything\n",
    "end"
   ]
  },
  {
   "cell_type": "code",
   "execution_count": 28,
   "metadata": {},
   "outputs": [
    {
     "data": {
      "text/plain": [
       "color (generic function with 3 methods)"
      ]
     },
     "execution_count": 28,
     "metadata": {},
     "output_type": "execute_result"
    }
   ],
   "source": [
    "function color(r::RayM.Ray, world::Hittable)\n",
    "    rec = HitRecordM.HitRecord()\n",
    "    if hit(world, r, 0, Inf, rec)\n",
    "        return 0.5 * (rec.normal .+ 1)\n",
    "    end\n",
    "    unit_direction = normalize(r.direction)\n",
    "    t = 0.5 * (y(unit_direction) + 1)\n",
    "    (1 - t) * [1, 1, 1] + t * [0.5, 0.7, 1]\n",
    "end"
   ]
  },
  {
   "cell_type": "code",
   "execution_count": 29,
   "metadata": {},
   "outputs": [
    {
     "data": {
      "text/plain": [
       "Main.HittableListM.HittableList(Main.SphereM.Sphere[Main.SphereM.Sphere([0, 0, -1], 0.5), Main.SphereM.Sphere([0.0, -100.5, -1.0], 100)])"
      ]
     },
     "execution_count": 29,
     "metadata": {},
     "output_type": "execute_result"
    }
   ],
   "source": [
    "world = HittableListM.HittableList([\n",
    "        SphereM.Sphere([0, 0, -1], 0.5), \n",
    "        SphereM.Sphere([0, -100.5, -1], 100)\n",
    "        ])"
   ]
  },
  {
   "cell_type": "code",
   "execution_count": 30,
   "metadata": {},
   "outputs": [
    {
     "data": {
      "text/plain": [
       "color (generic function with 3 methods)"
      ]
     },
     "execution_count": 30,
     "metadata": {},
     "output_type": "execute_result"
    }
   ],
   "source": [
    "function color(i, j) \n",
    "    u = i / image_width\n",
    "    v = j / image_height\n",
    "    r = RayM.Ray(origin, lower_left_corner + u * horizontal + v * vertical)\n",
    "    color(r, world)\n",
    "end"
   ]
  },
  {
   "cell_type": "code",
   "execution_count": 31,
   "metadata": {},
   "outputs": [
    {
     "name": "stderr",
     "output_type": "stream",
     "text": [
      "\u001b[32mProgress: 100%|█████████████████████████████████████████| Time: 0:00:00\u001b[39m\n"
     ]
    },
    {
     "data": {
      "image/png": "[encoded data removed]",
      "text/plain": [
       "100×200 Array{RGB{Float64},2} with eltype RGB{Float64}:\n",
       " RGB{Float64}(0.647254,0.788352,1.0)       …  RGB{Float64}(0.647938,0.788763,1.0)\n",
       " RGB{Float64}(0.648971,0.789382,1.0)          RGB{Float64}(0.649647,0.789788,1.0)\n",
       " RGB{Float64}(0.650704,0.790423,1.0)          RGB{Float64}(0.651374,0.790824,1.0)\n",
       " RGB{Float64}(0.652455,0.791473,1.0)          RGB{Float64}(0.653117,0.79187,1.0)\n",
       " RGB{Float64}(0.654223,0.792534,1.0)          RGB{Float64}(0.654877,0.792926,1.0)\n",
       " RGB{Float64}(0.656008,0.793605,1.0)       …  RGB{Float64}(0.656654,0.793993,1.0)\n",
       " RGB{Float64}(0.65781,0.794686,1.0)           RGB{Float64}(0.658448,0.795069,1.0)\n",
       " RGB{Float64}(0.659629,0.795777,1.0)          RGB{Float64}(0.660258,0.796155,1.0)\n",
       " RGB{Float64}(0.661464,0.796878,1.0)          RGB{Float64}(0.662084,0.79725,1.0)\n",
       " RGB{Float64}(0.663316,0.79799,1.0)           RGB{Float64}(0.663926,0.798356,1.0)\n",
       " RGB{Float64}(0.665184,0.79911,1.0)        …  RGB{Float64}(0.665785,0.799471,1.0)\n",
       " RGB{Float64}(0.667069,0.800241,1.0)          RGB{Float64}(0.667659,0.800596,1.0)\n",
       " RGB{Float64}(0.668969,0.801381,1.0)          RGB{Float64}(0.669549,0.80173,1.0)\n",
       " ⋮                                         ⋱  \n",
       " RGB{Float64}(0.493365,0.999953,0.501649)     RGB{Float64}(0.506704,0.999952,0.501648)\n",
       " RGB{Float64}(0.49354,0.999955,0.501738)      RGB{Float64}(0.506527,0.999954,0.501736)\n",
       " RGB{Float64}(0.493706,0.999957,0.501821)  …  RGB{Float64}(0.506359,0.999956,0.50182)\n",
       " RGB{Float64}(0.493864,0.999959,0.501901)     RGB{Float64}(0.5062,0.999958,0.5019)\n",
       " RGB{Float64}(0.494013,0.99996,0.501976)      RGB{Float64}(0.506049,0.99996,0.501976)\n",
       " RGB{Float64}(0.494156,0.999962,0.502048)     RGB{Float64}(0.505905,0.999961,0.502048)\n",
       " RGB{Float64}(0.494292,0.999963,0.502117)     RGB{Float64}(0.505768,0.999962,0.502116)\n",
       " RGB{Float64}(0.494421,0.999964,0.502182)  …  RGB{Float64}(0.505637,0.999963,0.502182)\n",
       " RGB{Float64}(0.494545,0.999965,0.502245)     RGB{Float64}(0.505512,0.999965,0.502244)\n",
       " RGB{Float64}(0.494663,0.999966,0.502304)     RGB{Float64}(0.505392,0.999966,0.502304)\n",
       " RGB{Float64}(0.494776,0.999967,0.502362)     RGB{Float64}(0.505278,0.999967,0.502361)\n",
       " RGB{Float64}(0.494884,0.999968,0.502416)     RGB{Float64}(0.505168,0.999967,0.502416)"
      ]
     },
     "execution_count": 31,
     "metadata": {},
     "output_type": "execute_result"
    }
   ],
   "source": [
    "render()"
   ]
  },
  {
   "cell_type": "markdown",
   "metadata": {},
   "source": [
    "# 7. Antialiasing"
   ]
  },
  {
   "cell_type": "code",
   "execution_count": 32,
   "metadata": {},
   "outputs": [
    {
     "data": {
      "text/plain": [
       "Main.CameraM"
      ]
     },
     "execution_count": 32,
     "metadata": {},
     "output_type": "execute_result"
    }
   ],
   "source": [
    "module CameraM\n",
    "struct Camera\n",
    "    origin\n",
    "    lower_left_corner\n",
    "    horizontal\n",
    "    vertical\n",
    "    \n",
    "    Camera() = new([0, 0, 0], [-2, -1, -1], [4, 0, 0], [0, 2, 0])\n",
    "end\n",
    "end"
   ]
  },
  {
   "cell_type": "code",
   "execution_count": 33,
   "metadata": {},
   "outputs": [
    {
     "data": {
      "text/plain": [
       "get_ray (generic function with 1 method)"
      ]
     },
     "execution_count": 33,
     "metadata": {},
     "output_type": "execute_result"
    }
   ],
   "source": [
    "get_ray(camera::CameraM.Camera, u, v) = RayM.Ray(camera.origin, camera.lower_left_corner + u * camera.horizontal + v * camera.vertical - camera.origin)"
   ]
  },
  {
   "cell_type": "code",
   "execution_count": 34,
   "metadata": {},
   "outputs": [],
   "source": [
    "samples_per_pixel = 100;"
   ]
  },
  {
   "cell_type": "code",
   "execution_count": 35,
   "metadata": {},
   "outputs": [
    {
     "data": {
      "text/plain": [
       "Main.CameraM.Camera([0, 0, 0], [-2, -1, -1], [4, 0, 0], [0, 2, 0])"
      ]
     },
     "execution_count": 35,
     "metadata": {},
     "output_type": "execute_result"
    }
   ],
   "source": [
    "cam = CameraM.Camera()"
   ]
  },
  {
   "cell_type": "code",
   "execution_count": 36,
   "metadata": {},
   "outputs": [
    {
     "data": {
      "text/plain": [
       "color (generic function with 3 methods)"
      ]
     },
     "execution_count": 36,
     "metadata": {},
     "output_type": "execute_result"
    }
   ],
   "source": [
    "function color(i, j) \n",
    "    c = [0, 0, 0]\n",
    "    for _ in 1:samples_per_pixel\n",
    "        u = (i + rand()) / image_width\n",
    "        v = (j + rand()) / image_height\n",
    "        r = get_ray(cam, u, v)\n",
    "        c += color(r, world)\n",
    "    end\n",
    "    c / samples_per_pixel\n",
    "end"
   ]
  },
  {
   "cell_type": "code",
   "execution_count": 37,
   "metadata": {},
   "outputs": [
    {
     "name": "stderr",
     "output_type": "stream",
     "text": [
      "\u001b[32mProgress: 100%|█████████████████████████████████████████| Time: 0:00:05\u001b[39m\n"
     ]
    },
    {
     "data": {
      "image/png": "[encoded data removed]",
      "text/plain": [
       "100×200 Array{RGB{Float64},2} with eltype RGB{Float64}:\n",
       " RGB{Float64}(0.646043,0.787626,1.0)       …  RGB{Float64}(0.647345,0.788407,1.0)\n",
       " RGB{Float64}(0.64782,0.788692,1.0)           RGB{Float64}(0.649145,0.789487,1.0)\n",
       " RGB{Float64}(0.649527,0.789716,1.0)          RGB{Float64}(0.650831,0.790499,1.0)\n",
       " RGB{Float64}(0.651231,0.790739,1.0)          RGB{Float64}(0.652606,0.791563,1.0)\n",
       " RGB{Float64}(0.653082,0.791849,1.0)          RGB{Float64}(0.654351,0.792611,1.0)\n",
       " RGB{Float64}(0.654831,0.792898,1.0)       …  RGB{Float64}(0.656056,0.793633,1.0)\n",
       " RGB{Float64}(0.65663,0.793978,1.0)           RGB{Float64}(0.657856,0.794714,1.0)\n",
       " RGB{Float64}(0.658353,0.795012,1.0)          RGB{Float64}(0.659606,0.795764,1.0)\n",
       " RGB{Float64}(0.660266,0.79616,1.0)           RGB{Float64}(0.661489,0.796893,1.0)\n",
       " RGB{Float64}(0.661931,0.797159,1.0)          RGB{Float64}(0.6633,0.79798,1.0)\n",
       " RGB{Float64}(0.663849,0.798309,1.0)       …  RGB{Float64}(0.665139,0.799084,1.0)\n",
       " RGB{Float64}(0.665838,0.799503,1.0)          RGB{Float64}(0.666971,0.800182,1.0)\n",
       " RGB{Float64}(0.667795,0.800677,1.0)          RGB{Float64}(0.668886,0.801332,1.0)\n",
       " ⋮                                         ⋱  \n",
       " RGB{Float64}(0.493314,0.999953,0.501606)     RGB{Float64}(0.50683,0.999951,0.501602)\n",
       " RGB{Float64}(0.49349,0.999955,0.501695)      RGB{Float64}(0.506633,0.999953,0.5017)\n",
       " RGB{Float64}(0.493648,0.999956,0.501776)  …  RGB{Float64}(0.506472,0.999955,0.501779)\n",
       " RGB{Float64}(0.493818,0.999958,0.501862)     RGB{Float64}(0.506316,0.999957,0.501857)\n",
       " RGB{Float64}(0.493968,0.99996,0.501938)      RGB{Float64}(0.506158,0.999958,0.501937)\n",
       " RGB{Float64}(0.494117,0.999961,0.502013)     RGB{Float64}(0.506005,0.99996,0.502012)\n",
       " RGB{Float64}(0.494252,0.999963,0.502083)     RGB{Float64}(0.50586,0.999961,0.502084)\n",
       " RGB{Float64}(0.494376,0.999964,0.502148)  …  RGB{Float64}(0.505734,0.999963,0.502147)\n",
       " RGB{Float64}(0.49452,0.999965,0.502219)      RGB{Float64}(0.5056,0.999964,0.502214)\n",
       " RGB{Float64}(0.494633,0.999966,0.502275)     RGB{Float64}(0.505486,0.999965,0.50227)\n",
       " RGB{Float64}(0.494737,0.999967,0.50233)      RGB{Float64}(0.505359,0.999966,0.502333)\n",
       " RGB{Float64}(0.494857,0.999968,0.502389)     RGB{Float64}(0.505249,0.999967,0.502389)"
      ]
     },
     "execution_count": 37,
     "metadata": {},
     "output_type": "execute_result"
    }
   ],
   "source": [
    "render()"
   ]
  },
  {
   "cell_type": "markdown",
   "metadata": {},
   "source": [
    "# 8. Diffuse Materials"
   ]
  },
  {
   "cell_type": "code",
   "execution_count": 38,
   "metadata": {},
   "outputs": [
    {
     "data": {
      "text/plain": [
       "random_in_unit_sphere (generic function with 1 method)"
      ]
     },
     "execution_count": 38,
     "metadata": {},
     "output_type": "execute_result"
    }
   ],
   "source": [
    "function random_in_unit_sphere()\n",
    "    while true\n",
    "        p = rand(-1:eps():1, 3)\n",
    "        if norm(p)^2 > 1\n",
    "            continue\n",
    "        end\n",
    "        return p\n",
    "    end\n",
    "end"
   ]
  },
  {
   "cell_type": "code",
   "execution_count": 39,
   "metadata": {},
   "outputs": [
    {
     "data": {
      "text/plain": [
       "color (generic function with 4 methods)"
      ]
     },
     "execution_count": 39,
     "metadata": {},
     "output_type": "execute_result"
    }
   ],
   "source": [
    "function color(r::RayM.Ray, world::Hittable, depth)\n",
    "    rec = HitRecordM.HitRecord()\n",
    "    \n",
    "    if depth <= 0\n",
    "        return [0, 0, 0]\n",
    "    end\n",
    "    \n",
    "    if hit(world, r, 0, Inf, rec)\n",
    "        target = rec.p + rec.normal + random_in_unit_sphere()\n",
    "        return 0.5 * color(RayM.Ray(rec.p, target - rec.p), world, depth - 1)\n",
    "    end\n",
    "    unit_direction = normalize(r.direction)\n",
    "    t = 0.5 * (y(unit_direction) + 1)\n",
    "    (1 - t) * [1, 1, 1] + t * [0.5, 0.7, 1]\n",
    "end"
   ]
  },
  {
   "cell_type": "code",
   "execution_count": 40,
   "metadata": {},
   "outputs": [],
   "source": [
    "max_depth = 50;"
   ]
  },
  {
   "cell_type": "code",
   "execution_count": 41,
   "metadata": {},
   "outputs": [
    {
     "data": {
      "text/plain": [
       "color (generic function with 4 methods)"
      ]
     },
     "execution_count": 41,
     "metadata": {},
     "output_type": "execute_result"
    }
   ],
   "source": [
    "function color(i, j) \n",
    "    c = [0, 0, 0]\n",
    "    for _ in 1:samples_per_pixel\n",
    "        u = (i + rand()) / image_width\n",
    "        v = (j + rand()) / image_height\n",
    "        r = get_ray(cam, u, v)\n",
    "        c += color(r, world, max_depth)\n",
    "    end\n",
    "    c / samples_per_pixel\n",
    "end"
   ]
  },
  {
   "cell_type": "code",
   "execution_count": 42,
   "metadata": {},
   "outputs": [
    {
     "name": "stderr",
     "output_type": "stream",
     "text": [
      "\u001b[32mProgress: 100%|█████████████████████████████████████████| Time: 0:00:16\u001b[39m\n"
     ]
    },
    {
     "data": {
      "image/png": "[encoded data removed]",
      "text/plain": [
       "100×200 Array{RGB{Float64},2} with eltype RGB{Float64}:\n",
       " RGB{Float64}(0.646079,0.787648,1.0)       …  RGB{Float64}(0.647373,0.788424,1.0)\n",
       " RGB{Float64}(0.64772,0.788632,1.0)           RGB{Float64}(0.649196,0.789518,1.0)\n",
       " RGB{Float64}(0.649499,0.789699,1.0)          RGB{Float64}(0.650857,0.790514,1.0)\n",
       " RGB{Float64}(0.651199,0.790719,1.0)          RGB{Float64}(0.652642,0.791585,1.0)\n",
       " RGB{Float64}(0.653028,0.791817,1.0)          RGB{Float64}(0.654302,0.792581,1.0)\n",
       " RGB{Float64}(0.654844,0.792906,1.0)       …  RGB{Float64}(0.656016,0.793609,1.0)\n",
       " RGB{Float64}(0.656593,0.793956,1.0)          RGB{Float64}(0.657866,0.79472,1.0)\n",
       " RGB{Float64}(0.658412,0.795047,1.0)          RGB{Float64}(0.659637,0.795782,1.0)\n",
       " RGB{Float64}(0.660173,0.796104,1.0)          RGB{Float64}(0.661477,0.796886,1.0)\n",
       " RGB{Float64}(0.662039,0.797223,1.0)          RGB{Float64}(0.66337,0.798022,1.0)\n",
       " RGB{Float64}(0.663863,0.798318,1.0)       …  RGB{Float64}(0.665145,0.799087,1.0)\n",
       " RGB{Float64}(0.665906,0.799544,1.0)          RGB{Float64}(0.667027,0.800216,1.0)\n",
       " RGB{Float64}(0.667756,0.800654,1.0)          RGB{Float64}(0.668868,0.801321,1.0)\n",
       " ⋮                                         ⋱  \n",
       " RGB{Float64}(0.204698,0.269187,0.365921)     RGB{Float64}(0.19886,0.26234,0.357559)\n",
       " RGB{Float64}(0.234234,0.310616,0.425191)     RGB{Float64}(0.228481,0.303966,0.417194)\n",
       " RGB{Float64}(0.208613,0.277778,0.381525)  …  RGB{Float64}(0.219507,0.289503,0.394496)\n",
       " RGB{Float64}(0.222745,0.297366,0.409297)     RGB{Float64}(0.214415,0.286546,0.394743)\n",
       " RGB{Float64}(0.221023,0.293213,0.401498)     RGB{Float64}(0.225039,0.298129,0.407764)\n",
       " RGB{Float64}(0.194196,0.260004,0.358715)     RGB{Float64}(0.242961,0.322284,0.44127)\n",
       " RGB{Float64}(0.222902,0.296505,0.406909)     RGB{Float64}(0.21131,0.28003,0.38311)\n",
       " RGB{Float64}(0.200424,0.264429,0.360435)  …  RGB{Float64}(0.233608,0.309291,0.422816)\n",
       " RGB{Float64}(0.213581,0.282507,0.385894)     RGB{Float64}(0.230502,0.306347,0.420114)\n",
       " RGB{Float64}(0.217461,0.290119,0.399104)     RGB{Float64}(0.216424,0.288797,0.397356)\n",
       " RGB{Float64}(0.220419,0.292514,0.400658)     RGB{Float64}(0.216124,0.28643,0.391891)\n",
       " RGB{Float64}(0.195413,0.259934,0.356716)     RGB{Float64}(0.213722,0.283245,0.387529)"
      ]
     },
     "execution_count": 42,
     "metadata": {},
     "output_type": "execute_result"
    }
   ],
   "source": [
    "render()"
   ]
  },
  {
   "cell_type": "code",
   "execution_count": 43,
   "metadata": {},
   "outputs": [
    {
     "data": {
      "text/plain": [
       "color (generic function with 4 methods)"
      ]
     },
     "execution_count": 43,
     "metadata": {},
     "output_type": "execute_result"
    }
   ],
   "source": [
    "function color(i, j) \n",
    "    c = [0, 0, 0]\n",
    "    for _ in 1:samples_per_pixel\n",
    "        u = (i + rand()) / image_width\n",
    "        v = (j + rand()) / image_height\n",
    "        r = get_ray(cam, u, v)\n",
    "        c += color(r, world, max_depth)\n",
    "    end\n",
    "    sqrt.(c / samples_per_pixel)\n",
    "end"
   ]
  },
  {
   "cell_type": "code",
   "execution_count": 44,
   "metadata": {},
   "outputs": [
    {
     "name": "stderr",
     "output_type": "stream",
     "text": [
      "\u001b[32mProgress: 100%|█████████████████████████████████████████| Time: 0:00:16\u001b[39m\n"
     ]
    },
    {
     "data": {
      "image/png": "[encoded data removed]",
      "text/plain": [
       "100×200 Array{RGB{Float64},2} with eltype RGB{Float64}:\n",
       " RGB{Float64}(0.803783,0.887491,1.0)       …  RGB{Float64}(0.804673,0.887975,1.0)\n",
       " RGB{Float64}(0.804803,0.888045,1.0)          RGB{Float64}(0.805697,0.888532,1.0)\n",
       " RGB{Float64}(0.805901,0.888643,1.0)          RGB{Float64}(0.806789,0.889126,1.0)\n",
       " RGB{Float64}(0.806973,0.889226,1.0)          RGB{Float64}(0.807773,0.889662,1.0)\n",
       " RGB{Float64}(0.808097,0.889838,1.0)          RGB{Float64}(0.808846,0.890247,1.0)\n",
       " RGB{Float64}(0.809225,0.890453,1.0)       …  RGB{Float64}(0.809991,0.890871,1.0)\n",
       " RGB{Float64}(0.810266,0.891021,1.0)          RGB{Float64}(0.811108,0.891481,1.0)\n",
       " RGB{Float64}(0.811422,0.891652,1.0)          RGB{Float64}(0.81214,0.892044,1.0)\n",
       " RGB{Float64}(0.812532,0.892259,1.0)          RGB{Float64}(0.81329,0.892673,1.0)\n",
       " RGB{Float64}(0.813712,0.892903,1.0)          RGB{Float64}(0.814402,0.89328,1.0)\n",
       " RGB{Float64}(0.814861,0.893532,1.0)       …  RGB{Float64}(0.815579,0.893925,1.0)\n",
       " RGB{Float64}(0.81597,0.894139,1.0)           RGB{Float64}(0.816717,0.894548,1.0)\n",
       " RGB{Float64}(0.817214,0.89482,1.0)           RGB{Float64}(0.817837,0.895162,1.0)\n",
       " ⋮                                         ⋱  \n",
       " RGB{Float64}(0.468525,0.539451,0.631066)     RGB{Float64}(0.46271,0.532337,0.622338)\n",
       " RGB{Float64}(0.478166,0.551779,0.646672)     RGB{Float64}(0.474198,0.544651,0.63586)\n",
       " RGB{Float64}(0.450139,0.517309,0.604222)  …  RGB{Float64}(0.471284,0.545067,0.639987)\n",
       " RGB{Float64}(0.450448,0.519411,0.608371)     RGB{Float64}(0.442108,0.510514,0.598641)\n",
       " RGB{Float64}(0.439043,0.506073,0.592568)     RGB{Float64}(0.464093,0.537413,0.63163)\n",
       " RGB{Float64}(0.444503,0.513339,0.602012)     RGB{Float64}(0.472361,0.545051,0.638759)\n",
       " RGB{Float64}(0.480242,0.552344,0.645569)     RGB{Float64}(0.465322,0.534252,0.623519)\n",
       " RGB{Float64}(0.477333,0.54946,0.642646)   …  RGB{Float64}(0.454648,0.523328,0.612065)\n",
       " RGB{Float64}(0.463237,0.533925,0.625147)     RGB{Float64}(0.447509,0.514095,0.60028)\n",
       " RGB{Float64}(0.469601,0.540785,0.632719)     RGB{Float64}(0.447731,0.51827,0.608945)\n",
       " RGB{Float64}(0.47464,0.546932,0.640244)      RGB{Float64}(0.475032,0.54768,0.641406)\n",
       " RGB{Float64}(0.449315,0.518221,0.60709)      RGB{Float64}(0.438391,0.506156,0.593467)"
      ]
     },
     "execution_count": 44,
     "metadata": {},
     "output_type": "execute_result"
    }
   ],
   "source": [
    "render()"
   ]
  },
  {
   "cell_type": "code",
   "execution_count": 45,
   "metadata": {},
   "outputs": [
    {
     "data": {
      "text/plain": [
       "random_unit_vector (generic function with 1 method)"
      ]
     },
     "execution_count": 45,
     "metadata": {},
     "output_type": "execute_result"
    }
   ],
   "source": [
    "function random_unit_vector()\n",
    "    a = rand(0:eps():2pi)\n",
    "    z = rand(-1:eps():1)\n",
    "    r = sqrt(1 - z * z)\n",
    "    [r*cos(a), r*sin(a), z]\n",
    "end"
   ]
  },
  {
   "cell_type": "code",
   "execution_count": 46,
   "metadata": {},
   "outputs": [
    {
     "data": {
      "text/plain": [
       "color (generic function with 4 methods)"
      ]
     },
     "execution_count": 46,
     "metadata": {},
     "output_type": "execute_result"
    }
   ],
   "source": [
    "function color(r::RayM.Ray, world::Hittable, depth)\n",
    "    rec = HitRecordM.HitRecord()\n",
    "    \n",
    "    if depth <= 0\n",
    "        return [0, 0, 0]\n",
    "    end\n",
    "    \n",
    "    if hit(world, r, 0.001, Inf, rec)\n",
    "        target = rec.p + rec.normal + random_unit_vector()\n",
    "        return 0.5 * color(RayM.Ray(rec.p, target - rec.p), world, depth - 1)\n",
    "    end\n",
    "    unit_direction = normalize(r.direction)\n",
    "    t = 0.5 * (y(unit_direction) + 1)\n",
    "    (1 - t) * [1, 1, 1] + t * [0.5, 0.7, 1]\n",
    "end"
   ]
  },
  {
   "cell_type": "code",
   "execution_count": 47,
   "metadata": {},
   "outputs": [
    {
     "name": "stderr",
     "output_type": "stream",
     "text": [
      "\u001b[32mProgress: 100%|█████████████████████████████████████████| Time: 0:00:10\u001b[39m\n"
     ]
    },
    {
     "data": {
      "image/png": "[encoded data removed]",
      "text/plain": [
       "100×200 Array{RGB{Float64},2} with eltype RGB{Float64}:\n",
       " RGB{Float64}(0.803753,0.887475,1.0)       …  RGB{Float64}(0.804589,0.887929,1.0)\n",
       " RGB{Float64}(0.804838,0.888065,1.0)          RGB{Float64}(0.805647,0.888504,1.0)\n",
       " RGB{Float64}(0.805915,0.88865,1.0)           RGB{Float64}(0.806756,0.889108,1.0)\n",
       " RGB{Float64}(0.806991,0.889236,1.0)          RGB{Float64}(0.80783,0.889693,1.0)\n",
       " RGB{Float64}(0.808099,0.88984,1.0)           RGB{Float64}(0.808939,0.890297,1.0)\n",
       " RGB{Float64}(0.8092,0.89044,1.0)          …  RGB{Float64}(0.809993,0.890872,1.0)\n",
       " RGB{Float64}(0.810323,0.891052,1.0)          RGB{Float64}(0.811069,0.891459,1.0)\n",
       " RGB{Float64}(0.811427,0.891655,1.0)          RGB{Float64}(0.812208,0.892081,1.0)\n",
       " RGB{Float64}(0.812551,0.892269,1.0)          RGB{Float64}(0.813311,0.892684,1.0)\n",
       " RGB{Float64}(0.813706,0.8929,1.0)            RGB{Float64}(0.814447,0.893305,1.0)\n",
       " RGB{Float64}(0.814788,0.893492,1.0)       …  RGB{Float64}(0.815606,0.89394,1.0)\n",
       " RGB{Float64}(0.81595,0.894128,1.0)           RGB{Float64}(0.816708,0.894543,1.0)\n",
       " RGB{Float64}(0.817157,0.894789,1.0)          RGB{Float64}(0.817921,0.895208,1.0)\n",
       " ⋮                                         ⋱  \n",
       " RGB{Float64}(0.534552,0.605143,0.697764)     RGB{Float64}(0.54023,0.610826,0.703562)\n",
       " RGB{Float64}(0.530287,0.605163,0.702673)     RGB{Float64}(0.530511,0.602798,0.697316)\n",
       " RGB{Float64}(0.526857,0.596801,0.688522)  …  RGB{Float64}(0.536647,0.609749,0.705337)\n",
       " RGB{Float64}(0.528238,0.599517,0.69282)      RGB{Float64}(0.529042,0.603267,0.7)\n",
       " RGB{Float64}(0.533543,0.605228,0.699107)     RGB{Float64}(0.524886,0.596911,0.691014)\n",
       " RGB{Float64}(0.52618,0.600724,0.697764)      RGB{Float64}(0.535936,0.606907,0.7)\n",
       " RGB{Float64}(0.529835,0.601195,0.694622)     RGB{Float64}(0.528549,0.600619,0.694847)\n",
       " RGB{Float64}(0.517955,0.589569,0.683054)  …  RGB{Float64}(0.528357,0.600414,0.694622)\n",
       " RGB{Float64}(0.520915,0.589543,0.679614)     RGB{Float64}(0.5313,0.601554,0.693722)\n",
       " RGB{Float64}(0.529203,0.597941,0.688295)     RGB{Float64}(0.530174,0.600958,0.693722)\n",
       " RGB{Float64}(0.527829,0.601383,0.697316)     RGB{Float64}(0.534532,0.6074,0.702673)\n",
       " RGB{Float64}(0.530807,0.602539,0.696419)     RGB{Float64}(0.533399,0.60639,0.701783)"
      ]
     },
     "execution_count": 47,
     "metadata": {},
     "output_type": "execute_result"
    }
   ],
   "source": [
    "render()"
   ]
  },
  {
   "cell_type": "code",
   "execution_count": 48,
   "metadata": {},
   "outputs": [
    {
     "data": {
      "text/plain": [
       "random_in_hemisphere (generic function with 1 method)"
      ]
     },
     "execution_count": 48,
     "metadata": {},
     "output_type": "execute_result"
    }
   ],
   "source": [
    "function random_in_hemisphere(normal)\n",
    "    in_unit_sphere = random_in_unit_sphere()\n",
    "    if dot(in_unit_sphere, normal) > 0\n",
    "        in_unit_sphere\n",
    "    else\n",
    "        -in_unit_sphere\n",
    "    end\n",
    "end"
   ]
  },
  {
   "cell_type": "code",
   "execution_count": 49,
   "metadata": {},
   "outputs": [
    {
     "data": {
      "text/plain": [
       "color (generic function with 4 methods)"
      ]
     },
     "execution_count": 49,
     "metadata": {},
     "output_type": "execute_result"
    }
   ],
   "source": [
    "function color(r::RayM.Ray, world::Hittable, depth)\n",
    "    rec = HitRecordM.HitRecord()\n",
    "    \n",
    "    if depth <= 0\n",
    "        return [0, 0, 0]\n",
    "    end\n",
    "    \n",
    "    if hit(world, r, 0.001, Inf, rec)\n",
    "        target = rec.p + random_in_hemisphere(rec.normal)\n",
    "        return 0.5 * color(RayM.Ray(rec.p, target - rec.p), world, depth - 1)\n",
    "    end\n",
    "    unit_direction = normalize(r.direction)\n",
    "    t = 0.5 * (y(unit_direction) + 1)\n",
    "    (1 - t) * [1, 1, 1] + t * [0.5, 0.7, 1]\n",
    "end"
   ]
  },
  {
   "cell_type": "code",
   "execution_count": 50,
   "metadata": {},
   "outputs": [
    {
     "name": "stderr",
     "output_type": "stream",
     "text": [
      "\u001b[32mProgress: 100%|█████████████████████████████████████████| Time: 0:00:10\u001b[39m\n"
     ]
    },
    {
     "data": {
      "image/png": "[encoded data removed]",
      "text/plain": [
       "100×200 Array{RGB{Float64},2} with eltype RGB{Float64}:\n",
       " RGB{Float64}(0.803776,0.887487,1.0)       …  RGB{Float64}(0.80456,0.887913,1.0)\n",
       " RGB{Float64}(0.804847,0.888069,1.0)          RGB{Float64}(0.805672,0.888518,1.0)\n",
       " RGB{Float64}(0.805885,0.888634,1.0)          RGB{Float64}(0.80678,0.889121,1.0)\n",
       " RGB{Float64}(0.807031,0.889258,1.0)          RGB{Float64}(0.807838,0.889697,1.0)\n",
       " RGB{Float64}(0.808064,0.88982,1.0)           RGB{Float64}(0.808855,0.890252,1.0)\n",
       " RGB{Float64}(0.80919,0.890434,1.0)        …  RGB{Float64}(0.809953,0.89085,1.0)\n",
       " RGB{Float64}(0.810308,0.891044,1.0)          RGB{Float64}(0.811114,0.891484,1.0)\n",
       " RGB{Float64}(0.811426,0.891654,1.0)          RGB{Float64}(0.812188,0.89207,1.0)\n",
       " RGB{Float64}(0.81253,0.892257,1.0)           RGB{Float64}(0.813329,0.892694,1.0)\n",
       " RGB{Float64}(0.8137,0.892897,1.0)            RGB{Float64}(0.814472,0.893319,1.0)\n",
       " RGB{Float64}(0.814792,0.893494,1.0)       …  RGB{Float64}(0.815548,0.893908,1.0)\n",
       " RGB{Float64}(0.815939,0.894122,1.0)          RGB{Float64}(0.81668,0.894528,1.0)\n",
       " RGB{Float64}(0.817058,0.894735,1.0)          RGB{Float64}(0.817862,0.895175,1.0)\n",
       " ⋮                                         ⋱  \n",
       " RGB{Float64}(0.547793,0.612104,0.69754)      RGB{Float64}(0.545954,0.609793,0.694636)\n",
       " RGB{Float64}(0.548905,0.611374,0.694622)     RGB{Float64}(0.550071,0.611619,0.693778)\n",
       " RGB{Float64}(0.545644,0.61044,0.696419)   …  RGB{Float64}(0.53872,0.600533,0.682839)\n",
       " RGB{Float64}(0.548836,0.608058,0.68739)      RGB{Float64}(0.541303,0.604198,0.687841)\n",
       " RGB{Float64}(0.547052,0.609557,0.69282)      RGB{Float64}(0.547763,0.61321,0.7)\n",
       " RGB{Float64}(0.539309,0.602712,0.686932)     RGB{Float64}(0.544229,0.607319,0.69124)\n",
       " RGB{Float64}(0.552946,0.614776,0.697316)     RGB{Float64}(0.5412,0.604453,0.688522)\n",
       " RGB{Float64}(0.546278,0.60955,0.693722)   …  RGB{Float64}(0.544624,0.608353,0.693046)\n",
       " RGB{Float64}(0.53636,0.599257,0.682825)      RGB{Float64}(0.546622,0.608507,0.691021)\n",
       " RGB{Float64}(0.54236,0.603734,0.685569)      RGB{Float64}(0.54585,0.610959,0.697316)\n",
       " RGB{Float64}(0.546721,0.607838,0.689429)     RGB{Float64}(0.53301,0.595575,0.678694)\n",
       " RGB{Float64}(0.54649,0.611712,0.698212)      RGB{Float64}(0.542416,0.604797,0.687841)"
      ]
     },
     "execution_count": 50,
     "metadata": {},
     "output_type": "execute_result"
    }
   ],
   "source": [
    "render()"
   ]
  },
  {
   "cell_type": "markdown",
   "metadata": {},
   "source": [
    "# 9. Metal"
   ]
  },
  {
   "cell_type": "code",
   "execution_count": 51,
   "metadata": {},
   "outputs": [],
   "source": [
    "abstract type Material end"
   ]
  },
  {
   "cell_type": "code",
   "execution_count": 52,
   "metadata": {},
   "outputs": [
    {
     "name": "stderr",
     "output_type": "stream",
     "text": [
      "WARNING: replacing module HitRecordM.\n"
     ]
    },
    {
     "data": {
      "text/plain": [
       "Main.HitRecordM"
      ]
     },
     "execution_count": 52,
     "metadata": {},
     "output_type": "execute_result"
    }
   ],
   "source": [
    "module HitRecordM\n",
    "mutable struct HitRecord\n",
    "    p\n",
    "    normal\n",
    "    mat\n",
    "    t\n",
    "    front_face\n",
    "    \n",
    "    HitRecord() = new([0, 0, 0], [0, 0, 0], nothing, 0, false)\n",
    "end\n",
    "end"
   ]
  },
  {
   "cell_type": "code",
   "execution_count": 53,
   "metadata": {},
   "outputs": [
    {
     "data": {
      "text/plain": [
       "set_face_normal (generic function with 2 methods)"
      ]
     },
     "execution_count": 53,
     "metadata": {},
     "output_type": "execute_result"
    }
   ],
   "source": [
    "function set_face_normal(rec::HitRecordM.HitRecord, r, outward_normal)\n",
    "    rec.front_face = dot(r.direction, outward_normal) < 0\n",
    "    rec.normal = if rec.front_face\n",
    "        outward_normal \n",
    "    else\n",
    "        -outward_normal\n",
    "    end\n",
    "end"
   ]
  },
  {
   "cell_type": "code",
   "execution_count": 54,
   "metadata": {},
   "outputs": [
    {
     "name": "stderr",
     "output_type": "stream",
     "text": [
      "WARNING: replacing module SphereM.\n"
     ]
    },
    {
     "data": {
      "text/plain": [
       "Main.SphereM"
      ]
     },
     "execution_count": 54,
     "metadata": {},
     "output_type": "execute_result"
    }
   ],
   "source": [
    "module SphereM\n",
    "struct Sphere <: Main.Hittable\n",
    "    center\n",
    "    radius\n",
    "    mat\n",
    "end\n",
    "end"
   ]
  },
  {
   "cell_type": "code",
   "execution_count": 55,
   "metadata": {},
   "outputs": [
    {
     "data": {
      "text/plain": [
       "hit (generic function with 3 methods)"
      ]
     },
     "execution_count": 55,
     "metadata": {},
     "output_type": "execute_result"
    }
   ],
   "source": [
    "function hit(sphere::SphereM.Sphere, r, t_min, t_max, rec)\n",
    "    oc = r.origin - sphere.center\n",
    "    a = norm(r.direction)^2\n",
    "    half_b = dot(oc, r.direction)\n",
    "    c = norm(oc)^2 - sphere.radius * sphere.radius\n",
    "    discriminant = half_b * half_b - a * c\n",
    "    \n",
    "    if discriminant > 0\n",
    "        root = sqrt(discriminant)\n",
    "        temp = (-half_b - root) / a\n",
    "        if t_min < temp < t_max \n",
    "            rec.t = temp\n",
    "            rec.p = at(r, rec.t)\n",
    "            outward_normal = (rec.p - sphere.center) / sphere.radius\n",
    "            set_face_normal(rec, r, outward_normal)\n",
    "            rec.mat = sphere.mat\n",
    "            return true\n",
    "        end\n",
    "        temp = (-half_b + root) / a\n",
    "        if t_min < temp < t_max\n",
    "            rec.t = temp\n",
    "            rec.p = at(r, rec.t)\n",
    "            outward_normal = (rec.p - sphere.center) / sphere.radius\n",
    "            set_face_normal(rec, r, outward_normal)\n",
    "            rec.mat = sphere.mat\n",
    "            return true\n",
    "        end\n",
    "    end\n",
    "    false\n",
    "end"
   ]
  },
  {
   "cell_type": "code",
   "execution_count": 56,
   "metadata": {},
   "outputs": [
    {
     "data": {
      "text/plain": [
       "Main.LambertianM"
      ]
     },
     "execution_count": 56,
     "metadata": {},
     "output_type": "execute_result"
    }
   ],
   "source": [
    "module LambertianM\n",
    "struct Lambertian <: Main.Material\n",
    "    albedo\n",
    "end\n",
    "end"
   ]
  },
  {
   "cell_type": "code",
   "execution_count": 57,
   "metadata": {},
   "outputs": [
    {
     "data": {
      "text/plain": [
       "scatter (generic function with 1 method)"
      ]
     },
     "execution_count": 57,
     "metadata": {},
     "output_type": "execute_result"
    }
   ],
   "source": [
    "function scatter(lambertian::LambertianM.Lambertian, r_in, rec)\n",
    "    scatter_direction = rec.normal + random_unit_vector()\n",
    "    scattered = RayM.Ray(rec.p, scatter_direction)\n",
    "    attenuation = lambertian.albedo\n",
    "    true, attenuation, scattered\n",
    "end"
   ]
  },
  {
   "cell_type": "code",
   "execution_count": 58,
   "metadata": {},
   "outputs": [
    {
     "data": {
      "text/plain": [
       "reflect (generic function with 1 method)"
      ]
     },
     "execution_count": 58,
     "metadata": {},
     "output_type": "execute_result"
    }
   ],
   "source": [
    "reflect(v, n) = v - 2 * dot(v, n) * n"
   ]
  },
  {
   "cell_type": "code",
   "execution_count": 59,
   "metadata": {},
   "outputs": [
    {
     "data": {
      "text/plain": [
       "Main.MetalM"
      ]
     },
     "execution_count": 59,
     "metadata": {},
     "output_type": "execute_result"
    }
   ],
   "source": [
    "module MetalM\n",
    "struct Metal <: Main.Material\n",
    "    albedo\n",
    "end\n",
    "end"
   ]
  },
  {
   "cell_type": "code",
   "execution_count": 60,
   "metadata": {},
   "outputs": [
    {
     "data": {
      "text/plain": [
       "scatter (generic function with 2 methods)"
      ]
     },
     "execution_count": 60,
     "metadata": {},
     "output_type": "execute_result"
    }
   ],
   "source": [
    "function scatter(metal::MetalM.Metal, r_in, rec)\n",
    "    reflected = reflect(normalize(r_in.direction), rec.normal)\n",
    "    scattered = RayM.Ray(rec.p, reflected)\n",
    "    attenuation = metal.albedo\n",
    "    dot(scattered.direction, rec.normal) > 0, attenuation, scattered\n",
    "end"
   ]
  },
  {
   "cell_type": "code",
   "execution_count": 61,
   "metadata": {},
   "outputs": [
    {
     "data": {
      "text/plain": [
       "hit (generic function with 3 methods)"
      ]
     },
     "execution_count": 61,
     "metadata": {},
     "output_type": "execute_result"
    }
   ],
   "source": [
    "function hit(hittable_list::HittableListM.HittableList, r, t_min, t_max, rec)\n",
    "    temp_rec = HitRecordM.HitRecord()\n",
    "    hit_anything = false\n",
    "    closest_so_far = t_max\n",
    "    \n",
    "    for object in hittable_list.objects\n",
    "        if hit(object, r, t_min, closest_so_far, temp_rec)\n",
    "            hit_anything = true\n",
    "            closest_so_far = temp_rec.t\n",
    "            rec.p = temp_rec.p\n",
    "            rec.normal = temp_rec.normal\n",
    "            rec.t = temp_rec.t\n",
    "            rec.front_face = temp_rec.front_face\n",
    "            rec.mat = temp_rec.mat\n",
    "        end\n",
    "    end\n",
    "    \n",
    "    hit_anything\n",
    "end"
   ]
  },
  {
   "cell_type": "code",
   "execution_count": 62,
   "metadata": {},
   "outputs": [
    {
     "data": {
      "text/plain": [
       "color (generic function with 4 methods)"
      ]
     },
     "execution_count": 62,
     "metadata": {},
     "output_type": "execute_result"
    }
   ],
   "source": [
    "function color(r::RayM.Ray, world::Hittable, depth)\n",
    "    rec = HitRecordM.HitRecord()\n",
    "    \n",
    "    if depth <= 0\n",
    "        return [0, 0, 0]\n",
    "    end\n",
    "    \n",
    "    if hit(world, r, 0.001, Inf, rec)\n",
    "        result, attenuation, scattered = scatter(rec.mat, r, rec)\n",
    "        if result \n",
    "            return attenuation .* color(scattered, world, depth - 1)\n",
    "        end\n",
    "        return [0, 0, 0]\n",
    "    end\n",
    "    unit_direction = normalize(r.direction)\n",
    "    t = 0.5 * (y(unit_direction) + 1)\n",
    "    (1 - t) * [1, 1, 1] + t * [0.5, 0.7, 1]\n",
    "end"
   ]
  },
  {
   "cell_type": "code",
   "execution_count": 63,
   "metadata": {},
   "outputs": [
    {
     "data": {
      "text/plain": [
       "Main.HittableListM.HittableList(Main.SphereM.Sphere[Main.SphereM.Sphere([0, 0, -1], 0.5, Main.LambertianM.Lambertian([0.7, 0.3, 0.3])), Main.SphereM.Sphere([0.0, -100.5, -1.0], 100, Main.LambertianM.Lambertian([0.8, 0.8, 0.0])), Main.SphereM.Sphere([1, 0, -1], 0.5, Main.MetalM.Metal([0.8, 0.6, 0.2])), Main.SphereM.Sphere([-1, 0, -1], 0.5, Main.MetalM.Metal([0.8, 0.8, 0.8]))])"
      ]
     },
     "execution_count": 63,
     "metadata": {},
     "output_type": "execute_result"
    }
   ],
   "source": [
    "world = HittableListM.HittableList([\n",
    "        SphereM.Sphere([0, 0, -1], 0.5, LambertianM.Lambertian([0.7, 0.3, 0.3])),\n",
    "        SphereM.Sphere([0, -100.5, -1], 100, LambertianM.Lambertian([0.8, 0.8, 0])),\n",
    "        SphereM.Sphere([1, 0, -1], 0.5, MetalM.Metal([0.8, 0.6, 0.2])),\n",
    "        SphereM.Sphere([-1, 0, -1], 0.5, MetalM.Metal([0.8, 0.8, 0.8]))\n",
    "        ])"
   ]
  },
  {
   "cell_type": "code",
   "execution_count": 64,
   "metadata": {},
   "outputs": [
    {
     "name": "stderr",
     "output_type": "stream",
     "text": [
      "\u001b[32mProgress: 100%|█████████████████████████████████████████| Time: 0:00:18\u001b[39m\n"
     ]
    },
    {
     "data": {
      "image/png": "[encoded data removed]",
      "text/plain": [
       "100×200 Array{RGB{Float64},2} with eltype RGB{Float64}:\n",
       " RGB{Float64}(0.803746,0.887471,1.0)  …  RGB{Float64}(0.8046,0.887935,1.0)\n",
       " RGB{Float64}(0.804789,0.888038,1.0)     RGB{Float64}(0.805727,0.888548,1.0)\n",
       " RGB{Float64}(0.805849,0.888614,1.0)     RGB{Float64}(0.806728,0.889093,1.0)\n",
       " RGB{Float64}(0.806978,0.889229,1.0)     RGB{Float64}(0.807807,0.88968,1.0)\n",
       " RGB{Float64}(0.808064,0.88982,1.0)      RGB{Float64}(0.808929,0.890292,1.0)\n",
       " RGB{Float64}(0.809125,0.890399,1.0)  …  RGB{Float64}(0.810009,0.890881,1.0)\n",
       " RGB{Float64}(0.810297,0.891038,1.0)     RGB{Float64}(0.811053,0.891451,1.0)\n",
       " RGB{Float64}(0.811393,0.891636,1.0)     RGB{Float64}(0.812204,0.892079,1.0)\n",
       " RGB{Float64}(0.812523,0.892254,1.0)     RGB{Float64}(0.813301,0.892679,1.0)\n",
       " RGB{Float64}(0.813704,0.892899,1.0)     RGB{Float64}(0.814478,0.893322,1.0)\n",
       " RGB{Float64}(0.814845,0.893523,1.0)  …  RGB{Float64}(0.815606,0.89394,1.0)\n",
       " RGB{Float64}(0.815982,0.894145,1.0)     RGB{Float64}(0.816719,0.894549,1.0)\n",
       " RGB{Float64}(0.817152,0.894786,1.0)     RGB{Float64}(0.817847,0.895167,1.0)\n",
       " ⋮                                    ⋱  \n",
       " RGB{Float64}(0.649245,0.725405,0.0)     RGB{Float64}(0.640776,0.684218,0.0)\n",
       " RGB{Float64}(0.64683,0.722916,0.0)      RGB{Float64}(0.653928,0.702319,0.0)\n",
       " RGB{Float64}(0.655659,0.729803,0.0)  …  RGB{Float64}(0.646214,0.685382,0.0)\n",
       " RGB{Float64}(0.644702,0.71867,0.0)      RGB{Float64}(0.63644,0.685488,0.0)\n",
       " RGB{Float64}(0.638938,0.716004,0.0)     RGB{Float64}(0.630699,0.669041,0.0)\n",
       " RGB{Float64}(0.647005,0.725634,0.0)     RGB{Float64}(0.641782,0.688866,0.0)\n",
       " RGB{Float64}(0.638212,0.712482,0.0)     RGB{Float64}(0.641776,0.684803,0.0)\n",
       " RGB{Float64}(0.636612,0.710769,0.0)  …  RGB{Float64}(0.640971,0.689554,0.0)\n",
       " RGB{Float64}(0.628832,0.706773,0.0)     RGB{Float64}(0.643871,0.684549,0.0)\n",
       " RGB{Float64}(0.642664,0.717068,0.0)     RGB{Float64}(0.640012,0.680595,0.0)\n",
       " RGB{Float64}(0.651169,0.730141,0.0)     RGB{Float64}(0.639491,0.683049,0.0)\n",
       " RGB{Float64}(0.640094,0.723554,0.0)     RGB{Float64}(0.628244,0.672229,0.0)"
      ]
     },
     "execution_count": 64,
     "metadata": {},
     "output_type": "execute_result"
    }
   ],
   "source": [
    "render()"
   ]
  },
  {
   "cell_type": "code",
   "execution_count": 65,
   "metadata": {},
   "outputs": [
    {
     "name": "stderr",
     "output_type": "stream",
     "text": [
      "WARNING: replacing module MetalM.\n"
     ]
    },
    {
     "data": {
      "text/plain": [
       "Main.MetalM"
      ]
     },
     "execution_count": 65,
     "metadata": {},
     "output_type": "execute_result"
    }
   ],
   "source": [
    "module MetalM\n",
    "struct Metal <: Main.Material\n",
    "    albedo\n",
    "    fuzz\n",
    "    \n",
    "    Metal(albedo, fuzz) = new(albedo, fuzz < 1 ? fuzz : 1)\n",
    "end\n",
    "end"
   ]
  },
  {
   "cell_type": "code",
   "execution_count": 66,
   "metadata": {},
   "outputs": [
    {
     "data": {
      "text/plain": [
       "scatter (generic function with 3 methods)"
      ]
     },
     "execution_count": 66,
     "metadata": {},
     "output_type": "execute_result"
    }
   ],
   "source": [
    "function scatter(metal::MetalM.Metal, r_in, rec)\n",
    "    reflected = reflect(normalize(r_in.direction), rec.normal)\n",
    "    scattered = RayM.Ray(rec.p, reflected + metal.fuzz * random_in_unit_sphere())\n",
    "    attenuation = metal.albedo\n",
    "    dot(scattered.direction, rec.normal) > 0, attenuation, scattered\n",
    "end"
   ]
  },
  {
   "cell_type": "code",
   "execution_count": 67,
   "metadata": {},
   "outputs": [
    {
     "data": {
      "text/plain": [
       "Main.HittableListM.HittableList(Main.SphereM.Sphere[Main.SphereM.Sphere([0, 0, -1], 0.5, Main.LambertianM.Lambertian([0.7, 0.3, 0.3])), Main.SphereM.Sphere([0.0, -100.5, -1.0], 100, Main.LambertianM.Lambertian([0.8, 0.8, 0.0])), Main.SphereM.Sphere([1, 0, -1], 0.5, Main.MetalM.Metal([0.8, 0.6, 0.2], 0.3)), Main.SphereM.Sphere([-1, 0, -1], 0.5, Main.MetalM.Metal([0.8, 0.8, 0.8], 1))])"
      ]
     },
     "execution_count": 67,
     "metadata": {},
     "output_type": "execute_result"
    }
   ],
   "source": [
    "world = HittableListM.HittableList([\n",
    "        SphereM.Sphere([0, 0, -1], 0.5, LambertianM.Lambertian([0.7, 0.3, 0.3])),\n",
    "        SphereM.Sphere([0, -100.5, -1], 100, LambertianM.Lambertian([0.8, 0.8, 0])),\n",
    "        SphereM.Sphere([1, 0, -1], 0.5, MetalM.Metal([0.8, 0.6, 0.2], 0.3)),\n",
    "        SphereM.Sphere([-1, 0, -1], 0.5, MetalM.Metal([0.8, 0.8, 0.8], 1))\n",
    "        ])"
   ]
  },
  {
   "cell_type": "code",
   "execution_count": 68,
   "metadata": {},
   "outputs": [
    {
     "name": "stderr",
     "output_type": "stream",
     "text": [
      "\u001b[32mProgress: 100%|█████████████████████████████████████████| Time: 0:00:18\u001b[39m\n"
     ]
    },
    {
     "data": {
      "image/png": "[encoded data removed]",
      "text/plain": [
       "100×200 Array{RGB{Float64},2} with eltype RGB{Float64}:\n",
       " RGB{Float64}(0.803777,0.887488,1.0)  …  RGB{Float64}(0.804619,0.887945,1.0)\n",
       " RGB{Float64}(0.804818,0.888054,1.0)     RGB{Float64}(0.80571,0.888539,1.0)\n",
       " RGB{Float64}(0.805894,0.888639,1.0)     RGB{Float64}(0.806716,0.889086,1.0)\n",
       " RGB{Float64}(0.806997,0.88924,1.0)      RGB{Float64}(0.807852,0.889705,1.0)\n",
       " RGB{Float64}(0.808058,0.889817,1.0)     RGB{Float64}(0.808908,0.890281,1.0)\n",
       " RGB{Float64}(0.809244,0.890464,1.0)  …  RGB{Float64}(0.809964,0.890857,1.0)\n",
       " RGB{Float64}(0.810342,0.891063,1.0)     RGB{Float64}(0.811149,0.891503,1.0)\n",
       " RGB{Float64}(0.811304,0.891588,1.0)     RGB{Float64}(0.812178,0.892065,1.0)\n",
       " RGB{Float64}(0.812554,0.89227,1.0)      RGB{Float64}(0.813268,0.89266,1.0)\n",
       " RGB{Float64}(0.813659,0.892874,1.0)     RGB{Float64}(0.814397,0.893278,1.0)\n",
       " RGB{Float64}(0.814809,0.893504,1.0)  …  RGB{Float64}(0.815548,0.893908,1.0)\n",
       " RGB{Float64}(0.815965,0.894136,1.0)     RGB{Float64}(0.816697,0.894537,1.0)\n",
       " RGB{Float64}(0.81707,0.894741,1.0)      RGB{Float64}(0.817834,0.89516,1.0)\n",
       " ⋮                                    ⋱  \n",
       " RGB{Float64}(0.645708,0.7253,0.0)       RGB{Float64}(0.646077,0.696229,0.0)\n",
       " RGB{Float64}(0.639777,0.717946,0.0)     RGB{Float64}(0.650141,0.702391,0.0)\n",
       " RGB{Float64}(0.633878,0.711415,0.0)  …  RGB{Float64}(0.631279,0.675842,0.0)\n",
       " RGB{Float64}(0.63302,0.710661,0.0)      RGB{Float64}(0.642938,0.684947,0.0)\n",
       " RGB{Float64}(0.61661,0.687579,0.0)      RGB{Float64}(0.639681,0.677078,0.0)\n",
       " RGB{Float64}(0.632946,0.702159,0.0)     RGB{Float64}(0.638866,0.682466,0.0)\n",
       " RGB{Float64}(0.637772,0.710431,0.0)     RGB{Float64}(0.633839,0.674702,0.0)\n",
       " RGB{Float64}(0.615128,0.687034,0.0)  …  RGB{Float64}(0.629722,0.666396,0.0)\n",
       " RGB{Float64}(0.612966,0.687382,0.0)     RGB{Float64}(0.624572,0.658785,0.0)\n",
       " RGB{Float64}(0.619056,0.686064,0.0)     RGB{Float64}(0.628995,0.663105,0.0)\n",
       " RGB{Float64}(0.622706,0.692369,0.0)     RGB{Float64}(0.623637,0.661327,0.0)\n",
       " RGB{Float64}(0.629851,0.705507,0.0)     RGB{Float64}(0.635657,0.677336,0.0)"
      ]
     },
     "execution_count": 68,
     "metadata": {},
     "output_type": "execute_result"
    }
   ],
   "source": [
    "render()"
   ]
  },
  {
   "cell_type": "markdown",
   "metadata": {},
   "source": [
    "# 10. Dielectrics"
   ]
  },
  {
   "cell_type": "code",
   "execution_count": 69,
   "metadata": {},
   "outputs": [
    {
     "data": {
      "text/plain": [
       "refract (generic function with 1 method)"
      ]
     },
     "execution_count": 69,
     "metadata": {},
     "output_type": "execute_result"
    }
   ],
   "source": [
    "function refract(uv, n, etai_over_etat)\n",
    "    cos_theta = dot(-uv, n)\n",
    "    r_out_parallel = etai_over_etat * (uv + cos_theta * n)\n",
    "    r_out_perp = -sqrt(1 - norm(r_out_parallel)^2) * n\n",
    "    r_out_parallel + r_out_perp\n",
    "end"
   ]
  },
  {
   "cell_type": "code",
   "execution_count": 70,
   "metadata": {},
   "outputs": [
    {
     "data": {
      "text/plain": [
       "Main.DielectricM"
      ]
     },
     "execution_count": 70,
     "metadata": {},
     "output_type": "execute_result"
    }
   ],
   "source": [
    "module DielectricM\n",
    "struct Dielectric <: Main.Material\n",
    "    ref_idx\n",
    "end\n",
    "end"
   ]
  },
  {
   "cell_type": "code",
   "execution_count": 71,
   "metadata": {},
   "outputs": [
    {
     "data": {
      "text/plain": [
       "scatter (generic function with 4 methods)"
      ]
     },
     "execution_count": 71,
     "metadata": {},
     "output_type": "execute_result"
    }
   ],
   "source": [
    "function scatter(dielectric::DielectricM.Dielectric, r_in, rec)\n",
    "    attenuation = [1, 1, 1]\n",
    "    etai_over_etat = if rec.front_face\n",
    "        1 / dielectric.ref_idx\n",
    "    else\n",
    "        dielectric.ref_idx\n",
    "    end\n",
    "    unit_direction = normalize(r_in.direction)\n",
    "    \n",
    "    cos_theta = min(dot(-unit_direction, rec.normal), 1)\n",
    "    sin_theta = sqrt(1 - cos_theta * cos_theta)\n",
    "    \n",
    "    if etai_over_etat * sin_theta > 1 \n",
    "        reflected = reflect(unit_direction, rec.normal)\n",
    "        scattered = RayM.Ray(rec.p, reflected)\n",
    "        return true, attenuation, scattered\n",
    "    end\n",
    "    \n",
    "    refracted = refract(unit_direction, rec.normal, etai_over_etat)\n",
    "    scattered = RayM.Ray(rec.p, refracted)\n",
    "    true, attenuation, scattered\n",
    "end"
   ]
  },
  {
   "cell_type": "code",
   "execution_count": 72,
   "metadata": {},
   "outputs": [
    {
     "data": {
      "text/plain": [
       "Main.HittableListM.HittableList(Main.SphereM.Sphere[Main.SphereM.Sphere([0, 0, -1], 0.5, Main.LambertianM.Lambertian([0.1, 0.2, 0.5])), Main.SphereM.Sphere([0.0, -100.5, -1.0], 100, Main.LambertianM.Lambertian([0.8, 0.8, 0.0])), Main.SphereM.Sphere([1, 0, -1], 0.5, Main.MetalM.Metal([0.8, 0.6, 0.2], 0)), Main.SphereM.Sphere([-1, 0, -1], 0.5, Main.DielectricM.Dielectric(1.5))])"
      ]
     },
     "execution_count": 72,
     "metadata": {},
     "output_type": "execute_result"
    }
   ],
   "source": [
    "world = HittableListM.HittableList([\n",
    "        SphereM.Sphere([0, 0, -1], 0.5, LambertianM.Lambertian([0.1, 0.2, 0.5])),\n",
    "        SphereM.Sphere([0, -100.5, -1], 100, LambertianM.Lambertian([0.8, 0.8, 0])),\n",
    "        SphereM.Sphere([1, 0, -1], 0.5, MetalM.Metal([0.8, 0.6, 0.2], 0)),\n",
    "        SphereM.Sphere([-1, 0, -1], 0.5, DielectricM.Dielectric(1.5))\n",
    "        ])"
   ]
  },
  {
   "cell_type": "code",
   "execution_count": 73,
   "metadata": {},
   "outputs": [
    {
     "name": "stderr",
     "output_type": "stream",
     "text": [
      "\u001b[32mProgress: 100%|█████████████████████████████████████████| Time: 0:00:19\u001b[39m\n"
     ]
    },
    {
     "data": {
      "image/png": "[encoded data removed]",
      "text/plain": [
       "100×200 Array{RGB{Float64},2} with eltype RGB{Float64}:\n",
       " RGB{Float64}(0.803803,0.887502,1.0)  …  RGB{Float64}(0.804659,0.887967,1.0)\n",
       " RGB{Float64}(0.804847,0.888069,1.0)     RGB{Float64}(0.805652,0.888507,1.0)\n",
       " RGB{Float64}(0.805911,0.888648,1.0)     RGB{Float64}(0.806791,0.889127,1.0)\n",
       " RGB{Float64}(0.807032,0.889259,1.0)     RGB{Float64}(0.807833,0.889695,1.0)\n",
       " RGB{Float64}(0.80813,0.889856,1.0)      RGB{Float64}(0.808877,0.890264,1.0)\n",
       " RGB{Float64}(0.809165,0.89042,1.0)   …  RGB{Float64}(0.809967,0.890858,1.0)\n",
       " RGB{Float64}(0.810323,0.891052,1.0)     RGB{Float64}(0.811083,0.891467,1.0)\n",
       " RGB{Float64}(0.811428,0.891655,1.0)     RGB{Float64}(0.812204,0.892079,1.0)\n",
       " RGB{Float64}(0.812509,0.892246,1.0)     RGB{Float64}(0.813357,0.892709,1.0)\n",
       " RGB{Float64}(0.813746,0.892922,1.0)     RGB{Float64}(0.814436,0.893299,1.0)\n",
       " RGB{Float64}(0.814809,0.893503,1.0)  …  RGB{Float64}(0.815545,0.893906,1.0)\n",
       " RGB{Float64}(0.816027,0.89417,1.0)      RGB{Float64}(0.816678,0.894527,1.0)\n",
       " RGB{Float64}(0.817157,0.894789,1.0)     RGB{Float64}(0.817866,0.895177,1.0)\n",
       " ⋮                                    ⋱  \n",
       " RGB{Float64}(0.683575,0.774832,0.0)     RGB{Float64}(0.662028,0.717014,0.0)\n",
       " RGB{Float64}(0.683393,0.773175,0.0)     RGB{Float64}(0.64343,0.687143,0.0)\n",
       " RGB{Float64}(0.683115,0.773009,0.0)  …  RGB{Float64}(0.647478,0.696733,0.0)\n",
       " RGB{Float64}(0.68194,0.772498,0.0)      RGB{Float64}(0.66627,0.726466,0.0)\n",
       " RGB{Float64}(0.686432,0.776346,0.0)     RGB{Float64}(0.624711,0.665672,0.0)\n",
       " RGB{Float64}(0.671495,0.761766,0.0)     RGB{Float64}(0.640367,0.689019,0.0)\n",
       " RGB{Float64}(0.673202,0.766132,0.0)     RGB{Float64}(0.64747,0.702625,0.0)\n",
       " RGB{Float64}(0.679307,0.76902,0.0)   …  RGB{Float64}(0.635607,0.687326,0.0)\n",
       " RGB{Float64}(0.676644,0.768234,0.0)     RGB{Float64}(0.640801,0.691608,0.0)\n",
       " RGB{Float64}(0.658685,0.750908,0.0)     RGB{Float64}(0.642168,0.696593,0.0)\n",
       " RGB{Float64}(0.664659,0.757307,0.0)     RGB{Float64}(0.626275,0.677606,0.0)\n",
       " RGB{Float64}(0.667785,0.75684,0.0)      RGB{Float64}(0.632389,0.678567,0.0)"
      ]
     },
     "execution_count": 73,
     "metadata": {},
     "output_type": "execute_result"
    }
   ],
   "source": [
    "render()"
   ]
  },
  {
   "cell_type": "code",
   "execution_count": 74,
   "metadata": {},
   "outputs": [
    {
     "data": {
      "text/plain": [
       "schlick (generic function with 1 method)"
      ]
     },
     "execution_count": 74,
     "metadata": {},
     "output_type": "execute_result"
    }
   ],
   "source": [
    "function schlick(cosine, ref_idx)\n",
    "    r0 = (1 - ref_idx) / (1 + ref_idx)\n",
    "    r0 *= r0\n",
    "    r0 + (1 - r0) * (1 - cosine)^5\n",
    "end"
   ]
  },
  {
   "cell_type": "code",
   "execution_count": 75,
   "metadata": {},
   "outputs": [
    {
     "data": {
      "text/plain": [
       "scatter (generic function with 4 methods)"
      ]
     },
     "execution_count": 75,
     "metadata": {},
     "output_type": "execute_result"
    }
   ],
   "source": [
    "function scatter(dielectric::DielectricM.Dielectric, r_in, rec)\n",
    "    attenuation = [1, 1, 1]\n",
    "    etai_over_etat = if rec.front_face\n",
    "        1 / dielectric.ref_idx\n",
    "    else\n",
    "        dielectric.ref_idx\n",
    "    end\n",
    "    unit_direction = normalize(r_in.direction)\n",
    "    \n",
    "    cos_theta = min(dot(-unit_direction, rec.normal), 1)\n",
    "    sin_theta = sqrt(1 - cos_theta * cos_theta)\n",
    "    \n",
    "    if etai_over_etat * sin_theta > 1 \n",
    "        reflected = reflect(unit_direction, rec.normal)\n",
    "        scattered = RayM.Ray(rec.p, reflected)\n",
    "        return true, attenuation, scattered\n",
    "    end\n",
    "    \n",
    "    reflect_prob = schlick(cos_theta, etai_over_etat)\n",
    "    if rand() < reflect_prob\n",
    "        reflected = reflect(unit_direction, rec.normal)\n",
    "        scattered = RayM.Ray(rec.p, reflected)\n",
    "        return true, attenuation, scattered\n",
    "    end\n",
    "    \n",
    "    refracted = refract(unit_direction, rec.normal, etai_over_etat)\n",
    "    scattered = RayM.Ray(rec.p, refracted)\n",
    "    true, attenuation, scattered\n",
    "end"
   ]
  },
  {
   "cell_type": "code",
   "execution_count": 76,
   "metadata": {},
   "outputs": [
    {
     "data": {
      "text/plain": [
       "Main.HittableListM.HittableList(Main.SphereM.Sphere[Main.SphereM.Sphere([0, 0, -1], 0.5, Main.LambertianM.Lambertian([0.1, 0.2, 0.5])), Main.SphereM.Sphere([0.0, -100.5, -1.0], 100, Main.LambertianM.Lambertian([0.8, 0.8, 0.0])), Main.SphereM.Sphere([1, 0, -1], 0.5, Main.MetalM.Metal([0.8, 0.6, 0.2], 0.3)), Main.SphereM.Sphere([-1, 0, -1], 0.5, Main.DielectricM.Dielectric(1.5)), Main.SphereM.Sphere([-1, 0, -1], -0.45, Main.DielectricM.Dielectric(1.5))])"
      ]
     },
     "execution_count": 76,
     "metadata": {},
     "output_type": "execute_result"
    }
   ],
   "source": [
    "world = HittableListM.HittableList([\n",
    "        SphereM.Sphere([0, 0, -1], 0.5, LambertianM.Lambertian([0.1, 0.2, 0.5])),\n",
    "        SphereM.Sphere([0, -100.5, -1], 100, LambertianM.Lambertian([0.8, 0.8, 0])),\n",
    "        SphereM.Sphere([1, 0, -1], 0.5, MetalM.Metal([0.8, 0.6, 0.2], 0.3)),\n",
    "        SphereM.Sphere([-1, 0, -1], 0.5, DielectricM.Dielectric(1.5)),\n",
    "        SphereM.Sphere([-1, 0, -1], -0.45, DielectricM.Dielectric(1.5))\n",
    "        ])"
   ]
  },
  {
   "cell_type": "code",
   "execution_count": 77,
   "metadata": {},
   "outputs": [
    {
     "name": "stderr",
     "output_type": "stream",
     "text": [
      "\u001b[32mProgress: 100%|█████████████████████████████████████████| Time: 0:00:25\u001b[39m\n"
     ]
    },
    {
     "data": {
      "image/png": "[encoded data removed]",
      "text/plain": [
       "100×200 Array{RGB{Float64},2} with eltype RGB{Float64}:\n",
       " RGB{Float64}(0.80377,0.887484,1.0)   …  RGB{Float64}(0.804626,0.887949,1.0)\n",
       " RGB{Float64}(0.804814,0.888051,1.0)     RGB{Float64}(0.805693,0.888529,1.0)\n",
       " RGB{Float64}(0.80593,0.888659,1.0)      RGB{Float64}(0.806791,0.889127,1.0)\n",
       " RGB{Float64}(0.806998,0.88924,1.0)      RGB{Float64}(0.807838,0.889697,1.0)\n",
       " RGB{Float64}(0.80812,0.889851,1.0)      RGB{Float64}(0.808854,0.890251,1.0)\n",
       " RGB{Float64}(0.809222,0.890452,1.0)  …  RGB{Float64}(0.809988,0.890869,1.0)\n",
       " RGB{Float64}(0.810326,0.891054,1.0)     RGB{Float64}(0.811134,0.891495,1.0)\n",
       " RGB{Float64}(0.811476,0.891682,1.0)     RGB{Float64}(0.812209,0.892082,1.0)\n",
       " RGB{Float64}(0.812591,0.89229,1.0)      RGB{Float64}(0.813325,0.892692,1.0)\n",
       " RGB{Float64}(0.813642,0.892865,1.0)     RGB{Float64}(0.814427,0.893294,1.0)\n",
       " RGB{Float64}(0.814821,0.89351,1.0)   …  RGB{Float64}(0.815539,0.893903,1.0)\n",
       " RGB{Float64}(0.816001,0.894156,1.0)     RGB{Float64}(0.816736,0.894558,1.0)\n",
       " RGB{Float64}(0.817166,0.894794,1.0)     RGB{Float64}(0.817846,0.895167,1.0)\n",
       " ⋮                                    ⋱  \n",
       " RGB{Float64}(0.677888,0.766306,0.0)     RGB{Float64}(0.64268,0.693918,0.0)\n",
       " RGB{Float64}(0.6773,0.767642,0.0)       RGB{Float64}(0.657233,0.707581,0.0)\n",
       " RGB{Float64}(0.683639,0.77203,0.0)   …  RGB{Float64}(0.654872,0.707631,0.0)\n",
       " RGB{Float64}(0.663052,0.751899,0.0)     RGB{Float64}(0.64495,0.69773,0.0)\n",
       " RGB{Float64}(0.665956,0.756825,0.0)     RGB{Float64}(0.648679,0.699313,0.0)\n",
       " RGB{Float64}(0.681751,0.772212,0.0)     RGB{Float64}(0.63475,0.682828,0.0)\n",
       " RGB{Float64}(0.660799,0.748651,0.0)     RGB{Float64}(0.63237,0.68391,0.0)\n",
       " RGB{Float64}(0.680804,0.770527,0.0)  …  RGB{Float64}(0.649629,0.698913,0.0)\n",
       " RGB{Float64}(0.65635,0.748181,0.0)      RGB{Float64}(0.642618,0.700657,0.0)\n",
       " RGB{Float64}(0.652961,0.744749,0.0)     RGB{Float64}(0.631755,0.67521,0.0)\n",
       " RGB{Float64}(0.668393,0.759275,0.0)     RGB{Float64}(0.620474,0.678174,0.0)\n",
       " RGB{Float64}(0.66855,0.75706,0.0)       RGB{Float64}(0.630897,0.684003,0.0)"
      ]
     },
     "execution_count": 77,
     "metadata": {},
     "output_type": "execute_result"
    }
   ],
   "source": [
    "render()"
   ]
  },
  {
   "cell_type": "markdown",
   "metadata": {},
   "source": [
    "# 11. Positionable Camera"
   ]
  },
  {
   "cell_type": "code",
   "execution_count": 78,
   "metadata": {},
   "outputs": [
    {
     "name": "stderr",
     "output_type": "stream",
     "text": [
      "WARNING: replacing module CameraM.\n"
     ]
    },
    {
     "data": {
      "text/plain": [
       "Main.CameraM"
      ]
     },
     "execution_count": 78,
     "metadata": {},
     "output_type": "execute_result"
    }
   ],
   "source": [
    "module CameraM\n",
    "struct Camera\n",
    "    origin\n",
    "    lower_left_corner\n",
    "    horizontal\n",
    "    vertical\n",
    "    \n",
    "    function Camera(vfov, aspect) \n",
    "        origin = [0, 0, 0]\n",
    "        \n",
    "        theta = deg2rad(vfov)\n",
    "        half_height = tan(theta / 2)\n",
    "        half_width = aspect * half_height\n",
    "        \n",
    "        lower_left_corner = [-half_width, -half_height, -1]\n",
    "        \n",
    "        horizontal = [2 * half_width, 0, 0]\n",
    "        vertical = [0, 2 * half_height, 0]\n",
    "        \n",
    "        new(origin, lower_left_corner, horizontal, vertical)\n",
    "    end\n",
    "end\n",
    "end"
   ]
  },
  {
   "cell_type": "code",
   "execution_count": 79,
   "metadata": {},
   "outputs": [
    {
     "data": {
      "text/plain": [
       "get_ray (generic function with 2 methods)"
      ]
     },
     "execution_count": 79,
     "metadata": {},
     "output_type": "execute_result"
    }
   ],
   "source": [
    "get_ray(camera::CameraM.Camera, u, v) = RayM.Ray(camera.origin, camera.lower_left_corner + u * camera.horizontal + v * camera.vertical - camera.origin)"
   ]
  },
  {
   "cell_type": "code",
   "execution_count": 80,
   "metadata": {},
   "outputs": [
    {
     "data": {
      "text/plain": [
       "Main.CameraM.Camera([0, 0, 0], [-1.9999999999999998, -0.9999999999999999, -1.0], [3.9999999999999996, 0.0, 0.0], [0.0, 1.9999999999999998, 0.0])"
      ]
     },
     "execution_count": 80,
     "metadata": {},
     "output_type": "execute_result"
    }
   ],
   "source": [
    "cam = CameraM.Camera(90, image_width / image_height)"
   ]
  },
  {
   "cell_type": "code",
   "execution_count": 81,
   "metadata": {},
   "outputs": [
    {
     "data": {
      "text/plain": [
       "color (generic function with 4 methods)"
      ]
     },
     "execution_count": 81,
     "metadata": {},
     "output_type": "execute_result"
    }
   ],
   "source": [
    "function color(i, j) \n",
    "    c = [0, 0, 0]\n",
    "    for _ in 1:samples_per_pixel\n",
    "        u = (i + rand()) / image_width\n",
    "        v = (j + rand()) / image_height\n",
    "        r = get_ray(cam, u, v)\n",
    "        c += color(r, world, max_depth)\n",
    "    end\n",
    "    sqrt.(c / samples_per_pixel)\n",
    "end"
   ]
  },
  {
   "cell_type": "code",
   "execution_count": 82,
   "metadata": {},
   "outputs": [
    {
     "data": {
      "text/plain": [
       "0.7071067811865476"
      ]
     },
     "execution_count": 82,
     "metadata": {},
     "output_type": "execute_result"
    }
   ],
   "source": [
    "r = cos(pi / 4)"
   ]
  },
  {
   "cell_type": "code",
   "execution_count": 83,
   "metadata": {},
   "outputs": [
    {
     "data": {
      "text/plain": [
       "Main.HittableListM.HittableList(Main.SphereM.Sphere[Main.SphereM.Sphere([-0.7071067811865476, 0.0, -1.0], 0.7071067811865476, Main.LambertianM.Lambertian([0, 0, 1])), Main.SphereM.Sphere([0.7071067811865476, 0.0, -1.0], 0.7071067811865476, Main.LambertianM.Lambertian([1, 0, 0]))])"
      ]
     },
     "execution_count": 83,
     "metadata": {},
     "output_type": "execute_result"
    }
   ],
   "source": [
    "world = HittableListM.HittableList([\n",
    "        SphereM.Sphere([-r, 0, -1], r, LambertianM.Lambertian([0, 0, 1])),\n",
    "        SphereM.Sphere([r, 0, -1], r, LambertianM.Lambertian([1, 0, 0])),\n",
    "        ])"
   ]
  },
  {
   "cell_type": "code",
   "execution_count": 84,
   "metadata": {},
   "outputs": [
    {
     "name": "stderr",
     "output_type": "stream",
     "text": [
      "\u001b[32mProgress: 100%|█████████████████████████████████████████| Time: 0:00:11\u001b[39m\n"
     ]
    },
    {
     "data": {
      "image/png": "[encoded data removed]",
      "text/plain": [
       "100×200 Array{RGB{Float64},2} with eltype RGB{Float64}:\n",
       " RGB{Float64}(0.803766,0.887482,1.0)  …  RGB{Float64}(0.804587,0.887928,1.0)\n",
       " RGB{Float64}(0.804791,0.888039,1.0)     RGB{Float64}(0.805731,0.88855,1.0)\n",
       " RGB{Float64}(0.80592,0.888653,1.0)      RGB{Float64}(0.806674,0.889063,1.0)\n",
       " RGB{Float64}(0.806947,0.889212,1.0)     RGB{Float64}(0.807843,0.8897,1.0)\n",
       " RGB{Float64}(0.787539,0.867254,1.0)     RGB{Float64}(0.808877,0.890263,1.0)\n",
       " RGB{Float64}(0.198122,0.218063,1.0)  …  RGB{Float64}(0.812748,0.707048,0.793725)\n",
       " RGB{Float64}(0.0,0.0,1.0)               RGB{Float64}(0.826806,0.0,0.0)\n",
       " RGB{Float64}(0.0,0.0,1.0)               RGB{Float64}(0.819475,0.0,0.0)\n",
       " RGB{Float64}(0.0,0.0,1.0)               RGB{Float64}(0.828744,0.0,0.0)\n",
       " RGB{Float64}(0.0,0.0,1.0)               RGB{Float64}(0.819073,0.0,0.0)\n",
       " RGB{Float64}(0.0,0.0,1.0)            …  RGB{Float64}(0.821784,0.0,0.0)\n",
       " RGB{Float64}(0.0,0.0,1.0)               RGB{Float64}(0.834468,0.0,0.0)\n",
       " RGB{Float64}(0.0,0.0,1.0)               RGB{Float64}(0.842592,0.0,0.0)\n",
       " ⋮                                    ⋱  \n",
       " RGB{Float64}(0.0,0.0,1.0)               RGB{Float64}(0.89748,0.0,0.0)\n",
       " RGB{Float64}(0.0,0.0,1.0)               RGB{Float64}(0.900926,0.0,0.0)\n",
       " RGB{Float64}(0.0,0.0,1.0)            …  RGB{Float64}(0.899766,0.0,0.0)\n",
       " RGB{Float64}(0.0,0.0,1.0)               RGB{Float64}(0.894919,0.0,0.0)\n",
       " RGB{Float64}(0.0,0.0,1.0)               RGB{Float64}(0.905662,0.0,0.0)\n",
       " RGB{Float64}(0.0,0.0,1.0)               RGB{Float64}(0.918823,0.0,0.0)\n",
       " RGB{Float64}(0.0,0.0,1.0)               RGB{Float64}(0.911028,0.0,0.0)\n",
       " RGB{Float64}(0.0,0.0,1.0)            …  RGB{Float64}(0.910563,0.0,0.0)\n",
       " RGB{Float64}(0.24332,0.252037,1.0)      RGB{Float64}(0.916806,0.743607,0.781025)\n",
       " RGB{Float64}(0.901754,0.933754,1.0)     RGB{Float64}(0.919616,0.952584,1.0)\n",
       " RGB{Float64}(0.921304,0.953562,1.0)     RGB{Float64}(0.920595,0.953151,1.0)\n",
       " RGB{Float64}(0.922237,0.954103,1.0)     RGB{Float64}(0.921492,0.953671,1.0)"
      ]
     },
     "execution_count": 84,
     "metadata": {},
     "output_type": "execute_result"
    }
   ],
   "source": [
    "render()"
   ]
  },
  {
   "cell_type": "code",
   "execution_count": 85,
   "metadata": {},
   "outputs": [
    {
     "name": "stderr",
     "output_type": "stream",
     "text": [
      "WARNING: replacing module CameraM.\n"
     ]
    },
    {
     "data": {
      "text/plain": [
       "Main.CameraM"
      ]
     },
     "execution_count": 85,
     "metadata": {},
     "output_type": "execute_result"
    }
   ],
   "source": [
    "module CameraM\n",
    "using LinearAlgebra\n",
    "struct Camera\n",
    "    origin\n",
    "    lower_left_corner\n",
    "    horizontal\n",
    "    vertical\n",
    "    \n",
    "    function Camera(lookfrom, lookat, vup, vfov, aspect) \n",
    "        origin = lookfrom\n",
    "        \n",
    "        theta = deg2rad(vfov)\n",
    "        half_height = tan(theta / 2)\n",
    "        half_width = aspect * half_height\n",
    "        \n",
    "        w = normalize(lookfrom - lookat)\n",
    "        u = normalize(cross(vup, w))\n",
    "        v = cross(w, u)\n",
    "        \n",
    "        lower_left_corner = origin - half_width * u - half_height * v - w\n",
    "        \n",
    "        horizontal = 2 * half_width * u\n",
    "        vertical = 2 * half_height * v\n",
    "        \n",
    "        new(origin, lower_left_corner, horizontal, vertical)\n",
    "    end\n",
    "end\n",
    "end"
   ]
  },
  {
   "cell_type": "code",
   "execution_count": 86,
   "metadata": {},
   "outputs": [
    {
     "data": {
      "text/plain": [
       "get_ray (generic function with 3 methods)"
      ]
     },
     "execution_count": 86,
     "metadata": {},
     "output_type": "execute_result"
    }
   ],
   "source": [
    "get_ray(camera::CameraM.Camera, u, v) = RayM.Ray(camera.origin, camera.lower_left_corner + u * camera.horizontal + v * camera.vertical - camera.origin)"
   ]
  },
  {
   "cell_type": "code",
   "execution_count": 87,
   "metadata": {},
   "outputs": [
    {
     "data": {
      "text/plain": [
       "2.0"
      ]
     },
     "execution_count": 87,
     "metadata": {},
     "output_type": "execute_result"
    }
   ],
   "source": [
    "aspect_ratio = image_width / image_height"
   ]
  },
  {
   "cell_type": "code",
   "execution_count": 88,
   "metadata": {},
   "outputs": [
    {
     "data": {
      "text/plain": [
       "Main.CameraM.Camera([-2, 2, 1], [-3.2451115836473323, 0.6061531498826481, -0.5833155410988577], [2.82842712474619, -0.0, 2.82842712474619], [0.816496580927726, 1.632993161855452, -0.816496580927726])"
      ]
     },
     "execution_count": 88,
     "metadata": {},
     "output_type": "execute_result"
    }
   ],
   "source": [
    "cam = CameraM.Camera([-2, 2, 1], [0, 0, -1], [0, 1, 0], 90, aspect_ratio)"
   ]
  },
  {
   "cell_type": "code",
   "execution_count": 89,
   "metadata": {},
   "outputs": [
    {
     "data": {
      "text/plain": [
       "color (generic function with 4 methods)"
      ]
     },
     "execution_count": 89,
     "metadata": {},
     "output_type": "execute_result"
    }
   ],
   "source": [
    "function color(i, j) \n",
    "    c = [0, 0, 0]\n",
    "    for _ in 1:samples_per_pixel\n",
    "        u = (i + rand()) / image_width\n",
    "        v = (j + rand()) / image_height\n",
    "        r = get_ray(cam, u, v)\n",
    "        c += color(r, world, max_depth)\n",
    "    end\n",
    "    sqrt.(c / samples_per_pixel)\n",
    "end"
   ]
  },
  {
   "cell_type": "code",
   "execution_count": 90,
   "metadata": {},
   "outputs": [
    {
     "data": {
      "text/plain": [
       "Main.HittableListM.HittableList(Main.SphereM.Sphere[Main.SphereM.Sphere([0, 0, -1], 0.5, Main.LambertianM.Lambertian([0.1, 0.2, 0.5])), Main.SphereM.Sphere([0.0, -100.5, -1.0], 100, Main.LambertianM.Lambertian([0.8, 0.8, 0.0])), Main.SphereM.Sphere([1, 0, -1], 0.5, Main.MetalM.Metal([0.8, 0.6, 0.2], 0.3)), Main.SphereM.Sphere([-1, 0, -1], 0.5, Main.DielectricM.Dielectric(1.5)), Main.SphereM.Sphere([-1, 0, -1], -0.45, Main.DielectricM.Dielectric(1.5))])"
      ]
     },
     "execution_count": 90,
     "metadata": {},
     "output_type": "execute_result"
    }
   ],
   "source": [
    "world = HittableListM.HittableList([\n",
    "        SphereM.Sphere([0, 0, -1], 0.5, LambertianM.Lambertian([0.1, 0.2, 0.5])),\n",
    "        SphereM.Sphere([0, -100.5, -1], 100, LambertianM.Lambertian([0.8, 0.8, 0])),\n",
    "        SphereM.Sphere([1, 0, -1], 0.5, MetalM.Metal([0.8, 0.6, 0.2], 0.3)),\n",
    "        SphereM.Sphere([-1, 0, -1], 0.5, DielectricM.Dielectric(1.5)),\n",
    "        SphereM.Sphere([-1, 0, -1], -0.45, DielectricM.Dielectric(1.5))\n",
    "        ])"
   ]
  },
  {
   "cell_type": "code",
   "execution_count": 91,
   "metadata": {},
   "outputs": [
    {
     "name": "stderr",
     "output_type": "stream",
     "text": [
      "\u001b[32mProgress: 100%|█████████████████████████████████████████| Time: 0:00:14\u001b[39m\n"
     ]
    },
    {
     "data": {
      "image/png": "[encoded data removed]",
      "text/plain": [
       "100×200 Array{RGB{Float64},2} with eltype RGB{Float64}:\n",
       " RGB{Float64}(0.851247,0.913659,1.0)  …  RGB{Float64}(0.85141,0.91375,1.0)\n",
       " RGB{Float64}(0.852118,0.914146,1.0)     RGB{Float64}(0.852308,0.914252,1.0)\n",
       " RGB{Float64}(0.853062,0.914674,1.0)     RGB{Float64}(0.853268,0.914789,1.0)\n",
       " RGB{Float64}(0.85404,0.915222,1.0)      RGB{Float64}(0.854201,0.915312,1.0)\n",
       " RGB{Float64}(0.854961,0.915738,1.0)     RGB{Float64}(0.85518,0.91586,1.0)\n",
       " RGB{Float64}(0.855927,0.916278,1.0)  …  RGB{Float64}(0.856091,0.91637,1.0)\n",
       " RGB{Float64}(0.856906,0.916828,1.0)     RGB{Float64}(0.85706,0.916914,1.0)\n",
       " RGB{Float64}(0.857889,0.917379,1.0)     RGB{Float64}(0.858033,0.91746,1.0)\n",
       " RGB{Float64}(0.858895,0.917944,1.0)     RGB{Float64}(0.858964,0.917982,1.0)\n",
       " RGB{Float64}(0.859889,0.918502,1.0)     RGB{Float64}(0.859938,0.918529,1.0)\n",
       " RGB{Float64}(0.860892,0.919065,1.0)  …  RGB{Float64}(0.860934,0.919089,1.0)\n",
       " RGB{Float64}(0.861852,0.919605,1.0)     RGB{Float64}(0.861901,0.919633,1.0)\n",
       " RGB{Float64}(0.862847,0.920165,1.0)     RGB{Float64}(0.862917,0.920204,1.0)\n",
       " ⋮                                    ⋱  \n",
       " RGB{Float64}(0.688981,0.776218,0.0)     RGB{Float64}(0.682211,0.77411,0.0)\n",
       " RGB{Float64}(0.690282,0.778392,0.0)     RGB{Float64}(0.680915,0.773425,0.0)\n",
       " RGB{Float64}(0.676102,0.770888,0.0)  …  RGB{Float64}(0.683207,0.774638,0.0)\n",
       " RGB{Float64}(0.684372,0.775254,0.0)     RGB{Float64}(0.683072,0.774566,0.0)\n",
       " RGB{Float64}(0.682982,0.774519,0.0)     RGB{Float64}(0.68717,0.776738,0.0)\n",
       " RGB{Float64}(0.67959,0.772726,0.0)      RGB{Float64}(0.68494,0.775555,0.0)\n",
       " RGB{Float64}(0.680104,0.772998,0.0)     RGB{Float64}(0.684779,0.77547,0.0)\n",
       " RGB{Float64}(0.687742,0.777041,0.0)  …  RGB{Float64}(0.682647,0.774341,0.0)\n",
       " RGB{Float64}(0.68623,0.776239,0.0)      RGB{Float64}(0.683963,0.775038,0.0)\n",
       " RGB{Float64}(0.683196,0.774632,0.0)     RGB{Float64}(0.682311,0.774164,0.0)\n",
       " RGB{Float64}(0.683208,0.774638,0.0)     RGB{Float64}(0.689213,0.777823,0.0)\n",
       " RGB{Float64}(0.684101,0.77511,0.0)      RGB{Float64}(0.684785,0.775473,0.0)"
      ]
     },
     "execution_count": 91,
     "metadata": {},
     "output_type": "execute_result"
    }
   ],
   "source": [
    "render()"
   ]
  },
  {
   "cell_type": "code",
   "execution_count": 92,
   "metadata": {},
   "outputs": [
    {
     "data": {
      "text/plain": [
       "Main.CameraM.Camera([-2, 2, 1], [-1.6625813854941125, 1.3151559166596698, 0.29021189027733996], [0.37236949521677276, -0.0, 0.37236949521677276], [0.10749381415070441, 0.21498762830140883, -0.10749381415070441])"
      ]
     },
     "execution_count": 92,
     "metadata": {},
     "output_type": "execute_result"
    }
   ],
   "source": [
    "cam = CameraM.Camera([-2, 2, 1], [0, 0, -1], [0, 1, 0], 15, aspect_ratio)"
   ]
  },
  {
   "cell_type": "code",
   "execution_count": 93,
   "metadata": {},
   "outputs": [
    {
     "name": "stderr",
     "output_type": "stream",
     "text": [
      "\u001b[32mProgress: 100%|█████████████████████████████████████████| Time: 0:00:28\u001b[39m\n"
     ]
    },
    {
     "data": {
      "image/png": "[encoded data removed]",
      "text/plain": [
       "100×200 Array{RGB{Float64},2} with eltype RGB{Float64}:\n",
       " RGB{Float64}(0.672795,0.765951,0.0)       …  RGB{Float64}(0.722862,0.689303,0.447214)\n",
       " RGB{Float64}(0.674511,0.766171,0.0)          RGB{Float64}(0.723306,0.689512,0.447214)\n",
       " RGB{Float64}(0.682879,0.774464,0.0)          RGB{Float64}(0.727856,0.691664,0.447214)\n",
       " RGB{Float64}(0.673574,0.767957,0.0)          RGB{Float64}(0.730021,0.692689,0.447214)\n",
       " RGB{Float64}(0.672793,0.766403,0.0)          RGB{Float64}(0.732455,0.693845,0.447214)\n",
       " RGB{Float64}(0.677194,0.770261,0.0)       …  RGB{Float64}(0.735893,0.69548,0.447214)\n",
       " RGB{Float64}(0.683671,0.774883,0.0)          RGB{Float64}(0.739141,0.697028,0.447214)\n",
       " RGB{Float64}(0.675042,0.769141,0.0)          RGB{Float64}(0.7406,0.697725,0.447214)\n",
       " RGB{Float64}(0.678964,0.766679,0.0)          RGB{Float64}(0.745314,0.69998,0.447214)\n",
       " RGB{Float64}(0.680777,0.773353,0.0)          RGB{Float64}(0.745897,0.700259,0.447214)\n",
       " RGB{Float64}(0.677651,0.770495,0.0)       …  RGB{Float64}(0.750165,0.702308,0.447214)\n",
       " RGB{Float64}(0.676354,0.768948,0.0)          RGB{Float64}(0.753289,0.703811,0.447214)\n",
       " RGB{Float64}(0.66778,0.756154,0.0)           RGB{Float64}(0.75077,0.701915,0.442719)\n",
       " ⋮                                         ⋱  \n",
       " RGB{Float64}(0.66421,0.753811,0.316228)      RGB{Float64}(0.627503,0.700445,0.0)\n",
       " RGB{Float64}(0.677161,0.766599,0.374166)     RGB{Float64}(0.633806,0.706244,0.0)\n",
       " RGB{Float64}(0.67845,0.765422,0.360555)   …  RGB{Float64}(0.634204,0.711803,0.0)\n",
       " RGB{Float64}(0.684804,0.776127,0.4)          RGB{Float64}(0.621344,0.705548,0.0)\n",
       " RGB{Float64}(0.691021,0.779433,0.34641)      RGB{Float64}(0.647679,0.725108,0.0)\n",
       " RGB{Float64}(0.643737,0.736156,0.316228)     RGB{Float64}(0.638137,0.708,0.0)\n",
       " RGB{Float64}(0.657776,0.746946,0.331662)     RGB{Float64}(0.623809,0.70567,0.0)\n",
       " RGB{Float64}(0.662612,0.755997,0.43589)   …  RGB{Float64}(0.642421,0.724936,0.0)\n",
       " RGB{Float64}(0.660961,0.752716,0.387298)     RGB{Float64}(0.633155,0.715106,0.0)\n",
       " RGB{Float64}(0.666536,0.756023,0.374166)     RGB{Float64}(0.619095,0.702738,0.0)\n",
       " RGB{Float64}(0.661,0.7518,0.374166)          RGB{Float64}(0.65017,0.730951,0.0)\n",
       " RGB{Float64}(0.658196,0.750472,0.34641)      RGB{Float64}(0.639087,0.722736,0.0)"
      ]
     },
     "execution_count": 93,
     "metadata": {},
     "output_type": "execute_result"
    }
   ],
   "source": [
    "render()"
   ]
  }
 ],
 "metadata": {
  "kernelspec": {
   "display_name": "Julia (6 threads) 1.4.1",
   "language": "julia",
   "name": "julia-(6-threads)-1.4"
  },
  "language_info": {
   "file_extension": ".jl",
   "mimetype": "application/julia",
   "name": "julia",
   "version": "1.4.1"
  }
 },
 "nbformat": 4,
 "nbformat_minor": 4
}
