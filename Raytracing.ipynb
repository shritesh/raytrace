{
 "cells": [
  {
   "cell_type": "code",
   "execution_count": 1,
   "metadata": {},
   "outputs": [],
   "source": [
    "using Images, LinearAlgebra"
   ]
  },
  {
   "cell_type": "markdown",
   "metadata": {},
   "source": [
    "# 2. Output an Image"
   ]
  },
  {
   "cell_type": "code",
   "execution_count": 2,
   "metadata": {},
   "outputs": [
    {
     "data": {
      "text/plain": [
       "(200, 100)"
      ]
     },
     "execution_count": 2,
     "metadata": {},
     "output_type": "execute_result"
    }
   ],
   "source": [
    "(image_width, image_height) = (200, 100)"
   ]
  },
  {
   "cell_type": "code",
   "execution_count": 3,
   "metadata": {},
   "outputs": [
    {
     "data": {
      "image/png": "[encoded data removed]",
      "text/plain": [
       "100×200 Array{RGB{Float64},2} with eltype RGB{Float64}:\n",
       " RGB{Float64}(0.005,1.0,0.2)   …  RGB{Float64}(1.0,1.0,0.2)\n",
       " RGB{Float64}(0.005,0.99,0.2)     RGB{Float64}(1.0,0.99,0.2)\n",
       " RGB{Float64}(0.005,0.98,0.2)     RGB{Float64}(1.0,0.98,0.2)\n",
       " RGB{Float64}(0.005,0.97,0.2)     RGB{Float64}(1.0,0.97,0.2)\n",
       " RGB{Float64}(0.005,0.96,0.2)     RGB{Float64}(1.0,0.96,0.2)\n",
       " RGB{Float64}(0.005,0.95,0.2)  …  RGB{Float64}(1.0,0.95,0.2)\n",
       " RGB{Float64}(0.005,0.94,0.2)     RGB{Float64}(1.0,0.94,0.2)\n",
       " RGB{Float64}(0.005,0.93,0.2)     RGB{Float64}(1.0,0.93,0.2)\n",
       " RGB{Float64}(0.005,0.92,0.2)     RGB{Float64}(1.0,0.92,0.2)\n",
       " RGB{Float64}(0.005,0.91,0.2)     RGB{Float64}(1.0,0.91,0.2)\n",
       " RGB{Float64}(0.005,0.9,0.2)   …  RGB{Float64}(1.0,0.9,0.2)\n",
       " RGB{Float64}(0.005,0.89,0.2)     RGB{Float64}(1.0,0.89,0.2)\n",
       " RGB{Float64}(0.005,0.88,0.2)     RGB{Float64}(1.0,0.88,0.2)\n",
       " ⋮                             ⋱  \n",
       " RGB{Float64}(0.005,0.12,0.2)     RGB{Float64}(1.0,0.12,0.2)\n",
       " RGB{Float64}(0.005,0.11,0.2)     RGB{Float64}(1.0,0.11,0.2)\n",
       " RGB{Float64}(0.005,0.1,0.2)   …  RGB{Float64}(1.0,0.1,0.2)\n",
       " RGB{Float64}(0.005,0.09,0.2)     RGB{Float64}(1.0,0.09,0.2)\n",
       " RGB{Float64}(0.005,0.08,0.2)     RGB{Float64}(1.0,0.08,0.2)\n",
       " RGB{Float64}(0.005,0.07,0.2)     RGB{Float64}(1.0,0.07,0.2)\n",
       " RGB{Float64}(0.005,0.06,0.2)     RGB{Float64}(1.0,0.06,0.2)\n",
       " RGB{Float64}(0.005,0.05,0.2)  …  RGB{Float64}(1.0,0.05,0.2)\n",
       " RGB{Float64}(0.005,0.04,0.2)     RGB{Float64}(1.0,0.04,0.2)\n",
       " RGB{Float64}(0.005,0.03,0.2)     RGB{Float64}(1.0,0.03,0.2)\n",
       " RGB{Float64}(0.005,0.02,0.2)     RGB{Float64}(1.0,0.02,0.2)\n",
       " RGB{Float64}(0.005,0.01,0.2)     RGB{Float64}(1.0,0.01,0.2)"
      ]
     },
     "execution_count": 3,
     "metadata": {},
     "output_type": "execute_result"
    }
   ],
   "source": [
    "[RGB(i / image_width, j / image_height, 0.2) for j in image_height:-1:1, i in 1:image_width]"
   ]
  },
  {
   "cell_type": "markdown",
   "metadata": {},
   "source": [
    "# 3. The Vec3 ~~Class~~ Array"
   ]
  },
  {
   "cell_type": "code",
   "execution_count": 4,
   "metadata": {},
   "outputs": [],
   "source": [
    "x(vec) = vec[1]\n",
    "y(vec) = vec[2]\n",
    "z(vec) = vec[3];"
   ]
  },
  {
   "cell_type": "code",
   "execution_count": 5,
   "metadata": {},
   "outputs": [
    {
     "data": {
      "text/plain": [
       "color (generic function with 1 method)"
      ]
     },
     "execution_count": 5,
     "metadata": {},
     "output_type": "execute_result"
    }
   ],
   "source": [
    "color(i,j) = [i / image_width, j / image_height, 0.2]"
   ]
  },
  {
   "cell_type": "code",
   "execution_count": 6,
   "metadata": {},
   "outputs": [
    {
     "data": {
      "image/png": "[encoded data removed]",
      "text/plain": [
       "100×200 Array{RGB{Float64},2} with eltype RGB{Float64}:\n",
       " RGB{Float64}(0.005,1.0,0.2)   …  RGB{Float64}(1.0,1.0,0.2)\n",
       " RGB{Float64}(0.005,0.99,0.2)     RGB{Float64}(1.0,0.99,0.2)\n",
       " RGB{Float64}(0.005,0.98,0.2)     RGB{Float64}(1.0,0.98,0.2)\n",
       " RGB{Float64}(0.005,0.97,0.2)     RGB{Float64}(1.0,0.97,0.2)\n",
       " RGB{Float64}(0.005,0.96,0.2)     RGB{Float64}(1.0,0.96,0.2)\n",
       " RGB{Float64}(0.005,0.95,0.2)  …  RGB{Float64}(1.0,0.95,0.2)\n",
       " RGB{Float64}(0.005,0.94,0.2)     RGB{Float64}(1.0,0.94,0.2)\n",
       " RGB{Float64}(0.005,0.93,0.2)     RGB{Float64}(1.0,0.93,0.2)\n",
       " RGB{Float64}(0.005,0.92,0.2)     RGB{Float64}(1.0,0.92,0.2)\n",
       " RGB{Float64}(0.005,0.91,0.2)     RGB{Float64}(1.0,0.91,0.2)\n",
       " RGB{Float64}(0.005,0.9,0.2)   …  RGB{Float64}(1.0,0.9,0.2)\n",
       " RGB{Float64}(0.005,0.89,0.2)     RGB{Float64}(1.0,0.89,0.2)\n",
       " RGB{Float64}(0.005,0.88,0.2)     RGB{Float64}(1.0,0.88,0.2)\n",
       " ⋮                             ⋱  \n",
       " RGB{Float64}(0.005,0.12,0.2)     RGB{Float64}(1.0,0.12,0.2)\n",
       " RGB{Float64}(0.005,0.11,0.2)     RGB{Float64}(1.0,0.11,0.2)\n",
       " RGB{Float64}(0.005,0.1,0.2)   …  RGB{Float64}(1.0,0.1,0.2)\n",
       " RGB{Float64}(0.005,0.09,0.2)     RGB{Float64}(1.0,0.09,0.2)\n",
       " RGB{Float64}(0.005,0.08,0.2)     RGB{Float64}(1.0,0.08,0.2)\n",
       " RGB{Float64}(0.005,0.07,0.2)     RGB{Float64}(1.0,0.07,0.2)\n",
       " RGB{Float64}(0.005,0.06,0.2)     RGB{Float64}(1.0,0.06,0.2)\n",
       " RGB{Float64}(0.005,0.05,0.2)  …  RGB{Float64}(1.0,0.05,0.2)\n",
       " RGB{Float64}(0.005,0.04,0.2)     RGB{Float64}(1.0,0.04,0.2)\n",
       " RGB{Float64}(0.005,0.03,0.2)     RGB{Float64}(1.0,0.03,0.2)\n",
       " RGB{Float64}(0.005,0.02,0.2)     RGB{Float64}(1.0,0.02,0.2)\n",
       " RGB{Float64}(0.005,0.01,0.2)     RGB{Float64}(1.0,0.01,0.2)"
      ]
     },
     "execution_count": 6,
     "metadata": {},
     "output_type": "execute_result"
    }
   ],
   "source": [
    "render() = [RGB(color(i,j)...) for j in image_height:-1:1, i in 1:image_width]\n",
    "render()"
   ]
  },
  {
   "cell_type": "markdown",
   "metadata": {},
   "source": [
    "# 4. Rays, a Simple Camera, and Background"
   ]
  },
  {
   "cell_type": "code",
   "execution_count": 7,
   "metadata": {},
   "outputs": [],
   "source": [
    "struct Ray \n",
    "    origin\n",
    "    direction\n",
    "end"
   ]
  },
  {
   "cell_type": "code",
   "execution_count": 8,
   "metadata": {},
   "outputs": [
    {
     "data": {
      "text/plain": [
       "at (generic function with 1 method)"
      ]
     },
     "execution_count": 8,
     "metadata": {},
     "output_type": "execute_result"
    }
   ],
   "source": [
    "at(ray::Ray, t) = ray.origin + t * ray.direction"
   ]
  },
  {
   "cell_type": "code",
   "execution_count": 9,
   "metadata": {},
   "outputs": [
    {
     "data": {
      "text/plain": [
       "color (generic function with 2 methods)"
      ]
     },
     "execution_count": 9,
     "metadata": {},
     "output_type": "execute_result"
    }
   ],
   "source": [
    "function color(ray::Ray)\n",
    "    unit_direction = normalize(ray.direction)\n",
    "    t = 0.5 * (y(unit_direction) + 1)\n",
    "    (1 - t) * [1, 1, 1] + t * [0.5, 0.7, 1]\n",
    "end"
   ]
  },
  {
   "cell_type": "code",
   "execution_count": 10,
   "metadata": {},
   "outputs": [],
   "source": [
    "lower_left_corner = [-2, -1, -1]\n",
    "horizontal = [4, 0, 0]\n",
    "vertical = [0, 2, 0]\n",
    "origin = [0, 0, 0];"
   ]
  },
  {
   "cell_type": "code",
   "execution_count": 11,
   "metadata": {},
   "outputs": [
    {
     "data": {
      "text/plain": [
       "color (generic function with 2 methods)"
      ]
     },
     "execution_count": 11,
     "metadata": {},
     "output_type": "execute_result"
    }
   ],
   "source": [
    "function color(i, j) \n",
    "    u = i / image_width\n",
    "    v = j / image_height\n",
    "    r = Ray(origin, lower_left_corner + u * horizontal + v * vertical)\n",
    "    color(r)\n",
    "end"
   ]
  },
  {
   "cell_type": "code",
   "execution_count": 12,
   "metadata": {},
   "outputs": [
    {
     "data": {
      "image/png": "[encoded data removed]",
      "text/plain": [
       "100×200 Array{RGB{Float64},2} with eltype RGB{Float64}:\n",
       " RGB{Float64}(0.647254,0.788352,1.0)  …  RGB{Float64}(0.647938,0.788763,1.0)\n",
       " RGB{Float64}(0.648971,0.789382,1.0)     RGB{Float64}(0.649647,0.789788,1.0)\n",
       " RGB{Float64}(0.650704,0.790423,1.0)     RGB{Float64}(0.651374,0.790824,1.0)\n",
       " RGB{Float64}(0.652455,0.791473,1.0)     RGB{Float64}(0.653117,0.79187,1.0)\n",
       " RGB{Float64}(0.654223,0.792534,1.0)     RGB{Float64}(0.654877,0.792926,1.0)\n",
       " RGB{Float64}(0.656008,0.793605,1.0)  …  RGB{Float64}(0.656654,0.793993,1.0)\n",
       " RGB{Float64}(0.65781,0.794686,1.0)      RGB{Float64}(0.658448,0.795069,1.0)\n",
       " RGB{Float64}(0.659629,0.795777,1.0)     RGB{Float64}(0.660258,0.796155,1.0)\n",
       " RGB{Float64}(0.661464,0.796878,1.0)     RGB{Float64}(0.662084,0.79725,1.0)\n",
       " RGB{Float64}(0.663316,0.79799,1.0)      RGB{Float64}(0.663926,0.798356,1.0)\n",
       " RGB{Float64}(0.665184,0.79911,1.0)   …  RGB{Float64}(0.665785,0.799471,1.0)\n",
       " RGB{Float64}(0.667069,0.800241,1.0)     RGB{Float64}(0.667659,0.800596,1.0)\n",
       " RGB{Float64}(0.668969,0.801381,1.0)     RGB{Float64}(0.669549,0.80173,1.0)\n",
       " ⋮                                    ⋱  \n",
       " RGB{Float64}(0.831031,0.898619,1.0)     RGB{Float64}(0.830451,0.89827,1.0)\n",
       " RGB{Float64}(0.832931,0.899759,1.0)     RGB{Float64}(0.832341,0.899404,1.0)\n",
       " RGB{Float64}(0.834816,0.90089,1.0)   …  RGB{Float64}(0.834215,0.900529,1.0)\n",
       " RGB{Float64}(0.836684,0.90201,1.0)      RGB{Float64}(0.836074,0.901644,1.0)\n",
       " RGB{Float64}(0.838536,0.903122,1.0)     RGB{Float64}(0.837916,0.90275,1.0)\n",
       " RGB{Float64}(0.840371,0.904223,1.0)     RGB{Float64}(0.839742,0.903845,1.0)\n",
       " RGB{Float64}(0.84219,0.905314,1.0)      RGB{Float64}(0.841552,0.904931,1.0)\n",
       " RGB{Float64}(0.843992,0.906395,1.0)  …  RGB{Float64}(0.843346,0.906007,1.0)\n",
       " RGB{Float64}(0.845777,0.907466,1.0)     RGB{Float64}(0.845123,0.907074,1.0)\n",
       " RGB{Float64}(0.847545,0.908527,1.0)     RGB{Float64}(0.846883,0.90813,1.0)\n",
       " RGB{Float64}(0.849296,0.909577,1.0)     RGB{Float64}(0.848626,0.909176,1.0)\n",
       " RGB{Float64}(0.851029,0.910618,1.0)     RGB{Float64}(0.850353,0.910212,1.0)"
      ]
     },
     "execution_count": 12,
     "metadata": {},
     "output_type": "execute_result"
    }
   ],
   "source": [
    "render()"
   ]
  },
  {
   "cell_type": "markdown",
   "metadata": {},
   "source": [
    "# 5. Adding a Sphere"
   ]
  },
  {
   "cell_type": "code",
   "execution_count": 13,
   "metadata": {},
   "outputs": [
    {
     "data": {
      "text/plain": [
       "hit_sphere (generic function with 1 method)"
      ]
     },
     "execution_count": 13,
     "metadata": {},
     "output_type": "execute_result"
    }
   ],
   "source": [
    "function hit_sphere(center, radius, r)\n",
    "    oc = r.origin - center\n",
    "    a = dot(r.direction, r.direction)\n",
    "    b = 2 * dot(oc, r.direction)\n",
    "    c = dot(oc, oc) - radius * radius\n",
    "    discriminant = b * b - 4 * a * c\n",
    "    discriminant > 0\n",
    "end"
   ]
  },
  {
   "cell_type": "code",
   "execution_count": 14,
   "metadata": {},
   "outputs": [
    {
     "data": {
      "text/plain": [
       "color (generic function with 2 methods)"
      ]
     },
     "execution_count": 14,
     "metadata": {},
     "output_type": "execute_result"
    }
   ],
   "source": [
    "function color(r::Ray)\n",
    "    if hit_sphere([0, 0, -1], 0.5, r)\n",
    "        return [1, 0, 0]\n",
    "    end\n",
    "    unit_direction = normalize(r.direction)\n",
    "    t = 0.5 * (y(unit_direction) + 1)\n",
    "    (1 - t) * [1, 1, 1] + t * [0.5, 0.7, 1]\n",
    "end"
   ]
  },
  {
   "cell_type": "code",
   "execution_count": 15,
   "metadata": {},
   "outputs": [
    {
     "data": {
      "image/png": "[encoded data removed]",
      "text/plain": [
       "100×200 Array{RGB,2} with eltype RGB:\n",
       " RGB{Float64}(0.647254,0.788352,1.0)  …  RGB{Float64}(0.647938,0.788763,1.0)\n",
       " RGB{Float64}(0.648971,0.789382,1.0)     RGB{Float64}(0.649647,0.789788,1.0)\n",
       " RGB{Float64}(0.650704,0.790423,1.0)     RGB{Float64}(0.651374,0.790824,1.0)\n",
       " RGB{Float64}(0.652455,0.791473,1.0)     RGB{Float64}(0.653117,0.79187,1.0)\n",
       " RGB{Float64}(0.654223,0.792534,1.0)     RGB{Float64}(0.654877,0.792926,1.0)\n",
       " RGB{Float64}(0.656008,0.793605,1.0)  …  RGB{Float64}(0.656654,0.793993,1.0)\n",
       " RGB{Float64}(0.65781,0.794686,1.0)      RGB{Float64}(0.658448,0.795069,1.0)\n",
       " RGB{Float64}(0.659629,0.795777,1.0)     RGB{Float64}(0.660258,0.796155,1.0)\n",
       " RGB{Float64}(0.661464,0.796878,1.0)     RGB{Float64}(0.662084,0.79725,1.0)\n",
       " RGB{Float64}(0.663316,0.79799,1.0)      RGB{Float64}(0.663926,0.798356,1.0)\n",
       " RGB{Float64}(0.665184,0.79911,1.0)   …  RGB{Float64}(0.665785,0.799471,1.0)\n",
       " RGB{Float64}(0.667069,0.800241,1.0)     RGB{Float64}(0.667659,0.800596,1.0)\n",
       " RGB{Float64}(0.668969,0.801381,1.0)     RGB{Float64}(0.669549,0.80173,1.0)\n",
       " ⋮                                    ⋱  \n",
       " RGB{Float64}(0.831031,0.898619,1.0)     RGB{Float64}(0.830451,0.89827,1.0)\n",
       " RGB{Float64}(0.832931,0.899759,1.0)     RGB{Float64}(0.832341,0.899404,1.0)\n",
       " RGB{Float64}(0.834816,0.90089,1.0)   …  RGB{Float64}(0.834215,0.900529,1.0)\n",
       " RGB{Float64}(0.836684,0.90201,1.0)      RGB{Float64}(0.836074,0.901644,1.0)\n",
       " RGB{Float64}(0.838536,0.903122,1.0)     RGB{Float64}(0.837916,0.90275,1.0)\n",
       " RGB{Float64}(0.840371,0.904223,1.0)     RGB{Float64}(0.839742,0.903845,1.0)\n",
       " RGB{Float64}(0.84219,0.905314,1.0)      RGB{Float64}(0.841552,0.904931,1.0)\n",
       " RGB{Float64}(0.843992,0.906395,1.0)  …  RGB{Float64}(0.843346,0.906007,1.0)\n",
       " RGB{Float64}(0.845777,0.907466,1.0)     RGB{Float64}(0.845123,0.907074,1.0)\n",
       " RGB{Float64}(0.847545,0.908527,1.0)     RGB{Float64}(0.846883,0.90813,1.0)\n",
       " RGB{Float64}(0.849296,0.909577,1.0)     RGB{Float64}(0.848626,0.909176,1.0)\n",
       " RGB{Float64}(0.851029,0.910618,1.0)     RGB{Float64}(0.850353,0.910212,1.0)"
      ]
     },
     "execution_count": 15,
     "metadata": {},
     "output_type": "execute_result"
    }
   ],
   "source": [
    "render()"
   ]
  },
  {
   "cell_type": "markdown",
   "metadata": {},
   "source": [
    "# 6. Surface Normals and Multiple Objects"
   ]
  },
  {
   "cell_type": "code",
   "execution_count": 16,
   "metadata": {},
   "outputs": [
    {
     "data": {
      "text/plain": [
       "hit_sphere (generic function with 1 method)"
      ]
     },
     "execution_count": 16,
     "metadata": {},
     "output_type": "execute_result"
    }
   ],
   "source": [
    "function hit_sphere(center, radius, r)\n",
    "    oc = r.origin - center\n",
    "    a = dot(r.direction, r.direction)\n",
    "    b = 2 * dot(oc, r.direction)\n",
    "    c = dot(oc, oc) - radius * radius\n",
    "    discriminant = b * b - 4 * a * c\n",
    "    if discriminant < 0\n",
    "        -1\n",
    "    else\n",
    "        (-b - sqrt(discriminant)) / (2 * a)\n",
    "    end\n",
    "end"
   ]
  },
  {
   "cell_type": "code",
   "execution_count": 17,
   "metadata": {},
   "outputs": [
    {
     "data": {
      "text/plain": [
       "color (generic function with 2 methods)"
      ]
     },
     "execution_count": 17,
     "metadata": {},
     "output_type": "execute_result"
    }
   ],
   "source": [
    "function color(r::Ray)\n",
    "    t = hit_sphere([0, 0, -1], 0.5, r)\n",
    "    if t > 0\n",
    "        n = normalize(at(r, t) - [0, 0, -1])\n",
    "        return 0.5 * (n .+ 1)\n",
    "    end\n",
    "    unit_direction = normalize(r.direction)\n",
    "    t = 0.5 * (y(unit_direction) + 1)\n",
    "    (1 - t) * [1, 1, 1] + t * [0.5, 0.7, 1]\n",
    "end"
   ]
  },
  {
   "cell_type": "code",
   "execution_count": 18,
   "metadata": {},
   "outputs": [
    {
     "data": {
      "image/png": "[encoded data removed]",
      "text/plain": [
       "100×200 Array{RGB{Float64},2} with eltype RGB{Float64}:\n",
       " RGB{Float64}(0.647254,0.788352,1.0)  …  RGB{Float64}(0.647938,0.788763,1.0)\n",
       " RGB{Float64}(0.648971,0.789382,1.0)     RGB{Float64}(0.649647,0.789788,1.0)\n",
       " RGB{Float64}(0.650704,0.790423,1.0)     RGB{Float64}(0.651374,0.790824,1.0)\n",
       " RGB{Float64}(0.652455,0.791473,1.0)     RGB{Float64}(0.653117,0.79187,1.0)\n",
       " RGB{Float64}(0.654223,0.792534,1.0)     RGB{Float64}(0.654877,0.792926,1.0)\n",
       " RGB{Float64}(0.656008,0.793605,1.0)  …  RGB{Float64}(0.656654,0.793993,1.0)\n",
       " RGB{Float64}(0.65781,0.794686,1.0)      RGB{Float64}(0.658448,0.795069,1.0)\n",
       " RGB{Float64}(0.659629,0.795777,1.0)     RGB{Float64}(0.660258,0.796155,1.0)\n",
       " RGB{Float64}(0.661464,0.796878,1.0)     RGB{Float64}(0.662084,0.79725,1.0)\n",
       " RGB{Float64}(0.663316,0.79799,1.0)      RGB{Float64}(0.663926,0.798356,1.0)\n",
       " RGB{Float64}(0.665184,0.79911,1.0)   …  RGB{Float64}(0.665785,0.799471,1.0)\n",
       " RGB{Float64}(0.667069,0.800241,1.0)     RGB{Float64}(0.667659,0.800596,1.0)\n",
       " RGB{Float64}(0.668969,0.801381,1.0)     RGB{Float64}(0.669549,0.80173,1.0)\n",
       " ⋮                                    ⋱  \n",
       " RGB{Float64}(0.831031,0.898619,1.0)     RGB{Float64}(0.830451,0.89827,1.0)\n",
       " RGB{Float64}(0.832931,0.899759,1.0)     RGB{Float64}(0.832341,0.899404,1.0)\n",
       " RGB{Float64}(0.834816,0.90089,1.0)   …  RGB{Float64}(0.834215,0.900529,1.0)\n",
       " RGB{Float64}(0.836684,0.90201,1.0)      RGB{Float64}(0.836074,0.901644,1.0)\n",
       " RGB{Float64}(0.838536,0.903122,1.0)     RGB{Float64}(0.837916,0.90275,1.0)\n",
       " RGB{Float64}(0.840371,0.904223,1.0)     RGB{Float64}(0.839742,0.903845,1.0)\n",
       " RGB{Float64}(0.84219,0.905314,1.0)      RGB{Float64}(0.841552,0.904931,1.0)\n",
       " RGB{Float64}(0.843992,0.906395,1.0)  …  RGB{Float64}(0.843346,0.906007,1.0)\n",
       " RGB{Float64}(0.845777,0.907466,1.0)     RGB{Float64}(0.845123,0.907074,1.0)\n",
       " RGB{Float64}(0.847545,0.908527,1.0)     RGB{Float64}(0.846883,0.90813,1.0)\n",
       " RGB{Float64}(0.849296,0.909577,1.0)     RGB{Float64}(0.848626,0.909176,1.0)\n",
       " RGB{Float64}(0.851029,0.910618,1.0)     RGB{Float64}(0.850353,0.910212,1.0)"
      ]
     },
     "execution_count": 18,
     "metadata": {},
     "output_type": "execute_result"
    }
   ],
   "source": [
    "render()"
   ]
  },
  {
   "cell_type": "code",
   "execution_count": 19,
   "metadata": {},
   "outputs": [
    {
     "data": {
      "text/plain": [
       "hit_sphere (generic function with 1 method)"
      ]
     },
     "execution_count": 19,
     "metadata": {},
     "output_type": "execute_result"
    }
   ],
   "source": [
    "function hit_sphere(center, radius, r)\n",
    "    oc = r.origin - center\n",
    "    a = norm(r.direction)^2\n",
    "    half_b = dot(oc, r.direction)\n",
    "    c = norm(oc)^2 - radius * radius\n",
    "    discriminant = half_b * half_b - a * c\n",
    "    \n",
    "    if discriminant < 0\n",
    "        -1\n",
    "    else\n",
    "        (-half_b - sqrt(discriminant)) / a\n",
    "    end\n",
    "end"
   ]
  },
  {
   "cell_type": "code",
   "execution_count": 20,
   "metadata": {},
   "outputs": [
    {
     "data": {
      "image/png": "[encoded data removed]",
      "text/plain": [
       "100×200 Array{RGB{Float64},2} with eltype RGB{Float64}:\n",
       " RGB{Float64}(0.647254,0.788352,1.0)  …  RGB{Float64}(0.647938,0.788763,1.0)\n",
       " RGB{Float64}(0.648971,0.789382,1.0)     RGB{Float64}(0.649647,0.789788,1.0)\n",
       " RGB{Float64}(0.650704,0.790423,1.0)     RGB{Float64}(0.651374,0.790824,1.0)\n",
       " RGB{Float64}(0.652455,0.791473,1.0)     RGB{Float64}(0.653117,0.79187,1.0)\n",
       " RGB{Float64}(0.654223,0.792534,1.0)     RGB{Float64}(0.654877,0.792926,1.0)\n",
       " RGB{Float64}(0.656008,0.793605,1.0)  …  RGB{Float64}(0.656654,0.793993,1.0)\n",
       " RGB{Float64}(0.65781,0.794686,1.0)      RGB{Float64}(0.658448,0.795069,1.0)\n",
       " RGB{Float64}(0.659629,0.795777,1.0)     RGB{Float64}(0.660258,0.796155,1.0)\n",
       " RGB{Float64}(0.661464,0.796878,1.0)     RGB{Float64}(0.662084,0.79725,1.0)\n",
       " RGB{Float64}(0.663316,0.79799,1.0)      RGB{Float64}(0.663926,0.798356,1.0)\n",
       " RGB{Float64}(0.665184,0.79911,1.0)   …  RGB{Float64}(0.665785,0.799471,1.0)\n",
       " RGB{Float64}(0.667069,0.800241,1.0)     RGB{Float64}(0.667659,0.800596,1.0)\n",
       " RGB{Float64}(0.668969,0.801381,1.0)     RGB{Float64}(0.669549,0.80173,1.0)\n",
       " ⋮                                    ⋱  \n",
       " RGB{Float64}(0.831031,0.898619,1.0)     RGB{Float64}(0.830451,0.89827,1.0)\n",
       " RGB{Float64}(0.832931,0.899759,1.0)     RGB{Float64}(0.832341,0.899404,1.0)\n",
       " RGB{Float64}(0.834816,0.90089,1.0)   …  RGB{Float64}(0.834215,0.900529,1.0)\n",
       " RGB{Float64}(0.836684,0.90201,1.0)      RGB{Float64}(0.836074,0.901644,1.0)\n",
       " RGB{Float64}(0.838536,0.903122,1.0)     RGB{Float64}(0.837916,0.90275,1.0)\n",
       " RGB{Float64}(0.840371,0.904223,1.0)     RGB{Float64}(0.839742,0.903845,1.0)\n",
       " RGB{Float64}(0.84219,0.905314,1.0)      RGB{Float64}(0.841552,0.904931,1.0)\n",
       " RGB{Float64}(0.843992,0.906395,1.0)  …  RGB{Float64}(0.843346,0.906007,1.0)\n",
       " RGB{Float64}(0.845777,0.907466,1.0)     RGB{Float64}(0.845123,0.907074,1.0)\n",
       " RGB{Float64}(0.847545,0.908527,1.0)     RGB{Float64}(0.846883,0.90813,1.0)\n",
       " RGB{Float64}(0.849296,0.909577,1.0)     RGB{Float64}(0.848626,0.909176,1.0)\n",
       " RGB{Float64}(0.851029,0.910618,1.0)     RGB{Float64}(0.850353,0.910212,1.0)"
      ]
     },
     "execution_count": 20,
     "metadata": {},
     "output_type": "execute_result"
    }
   ],
   "source": [
    "render()"
   ]
  },
  {
   "cell_type": "code",
   "execution_count": 21,
   "metadata": {},
   "outputs": [],
   "source": [
    "mutable struct HitRecord\n",
    "    p\n",
    "    normal\n",
    "    t\n",
    "    front_face\n",
    "    \n",
    "    HitRecord() = new([0, 0, 0], [0, 0, 0], 0, false)\n",
    "end"
   ]
  },
  {
   "cell_type": "code",
   "execution_count": 22,
   "metadata": {},
   "outputs": [
    {
     "data": {
      "text/plain": [
       "set_face_normal (generic function with 1 method)"
      ]
     },
     "execution_count": 22,
     "metadata": {},
     "output_type": "execute_result"
    }
   ],
   "source": [
    "function set_face_normal(rec:: HitRecord, r, outward_normal)\n",
    "    rec.front_face = dot(r.direction, outward_normal) < 0\n",
    "    rec.normal = if rec.front_face\n",
    "        outward_normal \n",
    "    else\n",
    "        -outward_normal\n",
    "    end\n",
    "end"
   ]
  },
  {
   "cell_type": "code",
   "execution_count": 23,
   "metadata": {},
   "outputs": [],
   "source": [
    "abstract type Hittable end"
   ]
  },
  {
   "cell_type": "code",
   "execution_count": 24,
   "metadata": {},
   "outputs": [],
   "source": [
    "struct Sphere <: Hittable\n",
    "    center\n",
    "    radius\n",
    "end"
   ]
  },
  {
   "cell_type": "code",
   "execution_count": 25,
   "metadata": {},
   "outputs": [
    {
     "data": {
      "text/plain": [
       "hit (generic function with 1 method)"
      ]
     },
     "execution_count": 25,
     "metadata": {},
     "output_type": "execute_result"
    }
   ],
   "source": [
    "function hit(sphere::Sphere, r, t_min, t_max, rec)\n",
    "    oc = r.origin - sphere.center\n",
    "    a = norm(r.direction)^2\n",
    "    half_b = dot(oc, r.direction)\n",
    "    c = norm(oc)^2 - sphere.radius * sphere.radius\n",
    "    discriminant = half_b * half_b - a * c\n",
    "    \n",
    "    if discriminant > 0\n",
    "        root = sqrt(discriminant)\n",
    "        temp = (-half_b - root) / a\n",
    "        if t_min < temp < t_max \n",
    "            rec.t = temp\n",
    "            rec.p = at(r, rec.t)\n",
    "            outward_normal = (rec.p - sphere.center) / sphere.radius\n",
    "            set_face_normal(rec, r, outward_normal)\n",
    "            return true\n",
    "        end\n",
    "        temp = (-half_b + root) / a\n",
    "        if t_min < temp < t_max\n",
    "            rec.t = temp\n",
    "            rec.p = at(r, rec.t)\n",
    "            outward_normal = (rec.p - sphere.center) / sphere.radius\n",
    "            set_face_normal(rec, r, outward_normal)\n",
    "            return true\n",
    "        end\n",
    "    end\n",
    "    false\n",
    "end"
   ]
  },
  {
   "cell_type": "code",
   "execution_count": 26,
   "metadata": {},
   "outputs": [],
   "source": [
    "struct HittableList <: Hittable\n",
    "    objects\n",
    "end"
   ]
  },
  {
   "cell_type": "code",
   "execution_count": 27,
   "metadata": {},
   "outputs": [
    {
     "data": {
      "text/plain": [
       "hit (generic function with 2 methods)"
      ]
     },
     "execution_count": 27,
     "metadata": {},
     "output_type": "execute_result"
    }
   ],
   "source": [
    "function hit(hittable_list::HittableList, r, t_min, t_max, rec)\n",
    "    temp_rec = HitRecord()\n",
    "    hit_anything = false\n",
    "    closest_so_far = t_max\n",
    "    \n",
    "    for object in hittable_list.objects\n",
    "        if hit(object, r, t_min, closest_so_far, temp_rec)\n",
    "            hit_anything = true\n",
    "            closest_so_far = temp_rec.t\n",
    "            rec.p = temp_rec.p\n",
    "            rec.normal = temp_rec.normal\n",
    "            rec.t = temp_rec.t\n",
    "            rec.front_face = temp_rec.front_face\n",
    "        end\n",
    "    end\n",
    "    \n",
    "    hit_anything\n",
    "end"
   ]
  },
  {
   "cell_type": "code",
   "execution_count": 28,
   "metadata": {},
   "outputs": [
    {
     "data": {
      "text/plain": [
       "color (generic function with 3 methods)"
      ]
     },
     "execution_count": 28,
     "metadata": {},
     "output_type": "execute_result"
    }
   ],
   "source": [
    "function color(r::Ray, world::Hittable)\n",
    "    rec = HitRecord()\n",
    "    if hit(world, r, 0, Inf, rec)\n",
    "        return 0.5 * (rec.normal .+ 1)\n",
    "    end\n",
    "    unit_direction = normalize(r.direction)\n",
    "    t = 0.5 * (y(unit_direction) + 1)\n",
    "    (1 - t) * [1, 1, 1] + t * [0.5, 0.7, 1]\n",
    "end"
   ]
  },
  {
   "cell_type": "code",
   "execution_count": 29,
   "metadata": {},
   "outputs": [
    {
     "data": {
      "text/plain": [
       "HittableList(Sphere[Sphere([0, 0, -1], 0.5), Sphere([0.0, -100.5, -1.0], 100)])"
      ]
     },
     "execution_count": 29,
     "metadata": {},
     "output_type": "execute_result"
    }
   ],
   "source": [
    "world = HittableList([Sphere([0, 0, -1], 0.5), Sphere([0, -100.5, -1], 100)])"
   ]
  },
  {
   "cell_type": "code",
   "execution_count": 30,
   "metadata": {},
   "outputs": [
    {
     "data": {
      "text/plain": [
       "color (generic function with 3 methods)"
      ]
     },
     "execution_count": 30,
     "metadata": {},
     "output_type": "execute_result"
    }
   ],
   "source": [
    "function color(i, j) \n",
    "    u = i / image_width\n",
    "    v = j / image_height\n",
    "    r = Ray(origin, lower_left_corner + u * horizontal + v * vertical)\n",
    "    color(r, world)\n",
    "end"
   ]
  },
  {
   "cell_type": "code",
   "execution_count": 31,
   "metadata": {},
   "outputs": [
    {
     "data": {
      "image/png": "[encoded data removed]",
      "text/plain": [
       "100×200 Array{RGB{Float64},2} with eltype RGB{Float64}:\n",
       " RGB{Float64}(0.647254,0.788352,1.0)       …  RGB{Float64}(0.647938,0.788763,1.0)\n",
       " RGB{Float64}(0.648971,0.789382,1.0)          RGB{Float64}(0.649647,0.789788,1.0)\n",
       " RGB{Float64}(0.650704,0.790423,1.0)          RGB{Float64}(0.651374,0.790824,1.0)\n",
       " RGB{Float64}(0.652455,0.791473,1.0)          RGB{Float64}(0.653117,0.79187,1.0)\n",
       " RGB{Float64}(0.654223,0.792534,1.0)          RGB{Float64}(0.654877,0.792926,1.0)\n",
       " RGB{Float64}(0.656008,0.793605,1.0)       …  RGB{Float64}(0.656654,0.793993,1.0)\n",
       " RGB{Float64}(0.65781,0.794686,1.0)           RGB{Float64}(0.658448,0.795069,1.0)\n",
       " RGB{Float64}(0.659629,0.795777,1.0)          RGB{Float64}(0.660258,0.796155,1.0)\n",
       " RGB{Float64}(0.661464,0.796878,1.0)          RGB{Float64}(0.662084,0.79725,1.0)\n",
       " RGB{Float64}(0.663316,0.79799,1.0)           RGB{Float64}(0.663926,0.798356,1.0)\n",
       " RGB{Float64}(0.665184,0.79911,1.0)        …  RGB{Float64}(0.665785,0.799471,1.0)\n",
       " RGB{Float64}(0.667069,0.800241,1.0)          RGB{Float64}(0.667659,0.800596,1.0)\n",
       " RGB{Float64}(0.668969,0.801381,1.0)          RGB{Float64}(0.669549,0.80173,1.0)\n",
       " ⋮                                         ⋱  \n",
       " RGB{Float64}(0.493365,0.999953,0.501649)     RGB{Float64}(0.506704,0.999952,0.501648)\n",
       " RGB{Float64}(0.49354,0.999955,0.501738)      RGB{Float64}(0.506527,0.999954,0.501736)\n",
       " RGB{Float64}(0.493706,0.999957,0.501821)  …  RGB{Float64}(0.506359,0.999956,0.50182)\n",
       " RGB{Float64}(0.493864,0.999959,0.501901)     RGB{Float64}(0.5062,0.999958,0.5019)\n",
       " RGB{Float64}(0.494013,0.99996,0.501976)      RGB{Float64}(0.506049,0.99996,0.501976)\n",
       " RGB{Float64}(0.494156,0.999962,0.502048)     RGB{Float64}(0.505905,0.999961,0.502048)\n",
       " RGB{Float64}(0.494292,0.999963,0.502117)     RGB{Float64}(0.505768,0.999962,0.502116)\n",
       " RGB{Float64}(0.494421,0.999964,0.502182)  …  RGB{Float64}(0.505637,0.999963,0.502182)\n",
       " RGB{Float64}(0.494545,0.999965,0.502245)     RGB{Float64}(0.505512,0.999965,0.502244)\n",
       " RGB{Float64}(0.494663,0.999966,0.502304)     RGB{Float64}(0.505392,0.999966,0.502304)\n",
       " RGB{Float64}(0.494776,0.999967,0.502362)     RGB{Float64}(0.505278,0.999967,0.502361)\n",
       " RGB{Float64}(0.494884,0.999968,0.502416)     RGB{Float64}(0.505168,0.999967,0.502416)"
      ]
     },
     "execution_count": 31,
     "metadata": {},
     "output_type": "execute_result"
    }
   ],
   "source": [
    "render()"
   ]
  },
  {
   "cell_type": "markdown",
   "metadata": {},
   "source": [
    "# 7. Antialiasing"
   ]
  },
  {
   "cell_type": "code",
   "execution_count": 32,
   "metadata": {},
   "outputs": [],
   "source": [
    "struct Camera\n",
    "    origin\n",
    "    lower_left_corner\n",
    "    horizontal\n",
    "    vertical\n",
    "    \n",
    "    Camera() = new([0, 0, 0], [-2, -1, -1], [4, 0, 0], [0, 2, 0])\n",
    "end"
   ]
  },
  {
   "cell_type": "code",
   "execution_count": 33,
   "metadata": {},
   "outputs": [
    {
     "data": {
      "text/plain": [
       "get_ray (generic function with 1 method)"
      ]
     },
     "execution_count": 33,
     "metadata": {},
     "output_type": "execute_result"
    }
   ],
   "source": [
    "get_ray(camera:: Camera, u, v) = Ray(camera.origin, camera.lower_left_corner + u * camera.horizontal + v * camera.vertical - camera.origin)"
   ]
  },
  {
   "cell_type": "code",
   "execution_count": 34,
   "metadata": {},
   "outputs": [],
   "source": [
    "samples_per_pixel = 100;"
   ]
  },
  {
   "cell_type": "code",
   "execution_count": 35,
   "metadata": {},
   "outputs": [
    {
     "data": {
      "text/plain": [
       "Camera([0, 0, 0], [-2, -1, -1], [4, 0, 0], [0, 2, 0])"
      ]
     },
     "execution_count": 35,
     "metadata": {},
     "output_type": "execute_result"
    }
   ],
   "source": [
    "cam = Camera()"
   ]
  },
  {
   "cell_type": "code",
   "execution_count": 36,
   "metadata": {},
   "outputs": [
    {
     "data": {
      "text/plain": [
       "color (generic function with 3 methods)"
      ]
     },
     "execution_count": 36,
     "metadata": {},
     "output_type": "execute_result"
    }
   ],
   "source": [
    "function color(i, j) \n",
    "    c = [0, 0, 0]\n",
    "    for _ in 1:samples_per_pixel\n",
    "        u = (i + rand()) / image_width\n",
    "        v = (j + rand()) / image_height\n",
    "        r = get_ray(cam, u, v)\n",
    "        c += color(r, world)\n",
    "    end\n",
    "    c / samples_per_pixel\n",
    "end"
   ]
  },
  {
   "cell_type": "code",
   "execution_count": 37,
   "metadata": {},
   "outputs": [
    {
     "data": {
      "image/png": "[encoded data removed]",
      "text/plain": [
       "100×200 Array{RGB{Float64},2} with eltype RGB{Float64}:\n",
       " RGB{Float64}(0.646021,0.787613,1.0)       …  RGB{Float64}(0.647381,0.788428,1.0)\n",
       " RGB{Float64}(0.6477,0.78862,1.0)             RGB{Float64}(0.649132,0.789479,1.0)\n",
       " RGB{Float64}(0.649462,0.789677,1.0)          RGB{Float64}(0.650773,0.790464,1.0)\n",
       " RGB{Float64}(0.651208,0.790725,1.0)          RGB{Float64}(0.652497,0.791498,1.0)\n",
       " RGB{Float64}(0.65301,0.791806,1.0)           RGB{Float64}(0.654354,0.792613,1.0)\n",
       " RGB{Float64}(0.65466,0.792796,1.0)        …  RGB{Float64}(0.656097,0.793658,1.0)\n",
       " RGB{Float64}(0.656528,0.793917,1.0)          RGB{Float64}(0.657852,0.794711,1.0)\n",
       " RGB{Float64}(0.658309,0.794985,1.0)          RGB{Float64}(0.659617,0.79577,1.0)\n",
       " RGB{Float64}(0.660238,0.796143,1.0)          RGB{Float64}(0.661482,0.796889,1.0)\n",
       " RGB{Float64}(0.662021,0.797213,1.0)          RGB{Float64}(0.66333,0.797998,1.0)\n",
       " RGB{Float64}(0.663976,0.798386,1.0)       …  RGB{Float64}(0.665142,0.799085,1.0)\n",
       " RGB{Float64}(0.665811,0.799487,1.0)          RGB{Float64}(0.667062,0.800237,1.0)\n",
       " RGB{Float64}(0.667753,0.800652,1.0)          RGB{Float64}(0.668826,0.801295,1.0)\n",
       " ⋮                                         ⋱  \n",
       " RGB{Float64}(0.493302,0.999953,0.5016)       RGB{Float64}(0.506828,0.999951,0.501602)\n",
       " RGB{Float64}(0.493489,0.999955,0.501694)     RGB{Float64}(0.506636,0.999953,0.501698)\n",
       " RGB{Float64}(0.493659,0.999957,0.501781)  …  RGB{Float64}(0.506479,0.999955,0.501776)\n",
       " RGB{Float64}(0.493814,0.999958,0.50186)      RGB{Float64}(0.506313,0.999957,0.50186)\n",
       " RGB{Float64}(0.493964,0.99996,0.501936)      RGB{Float64}(0.50615,0.999958,0.501939)\n",
       " RGB{Float64}(0.49412,0.999961,0.502015)      RGB{Float64}(0.506002,0.99996,0.502014)\n",
       " RGB{Float64}(0.494251,0.999963,0.50208)      RGB{Float64}(0.505863,0.999961,0.502083)\n",
       " RGB{Float64}(0.494384,0.999964,0.502151)  …  RGB{Float64}(0.505732,0.999963,0.502148)\n",
       " RGB{Float64}(0.494503,0.999965,0.502209)     RGB{Float64}(0.505603,0.999964,0.502212)\n",
       " RGB{Float64}(0.494627,0.999966,0.502273)     RGB{Float64}(0.505478,0.999965,0.502275)\n",
       " RGB{Float64}(0.494742,0.999967,0.502332)     RGB{Float64}(0.505367,0.999966,0.50233)\n",
       " RGB{Float64}(0.494852,0.999968,0.502387)     RGB{Float64}(0.505255,0.999967,0.502386)"
      ]
     },
     "execution_count": 37,
     "metadata": {},
     "output_type": "execute_result"
    }
   ],
   "source": [
    "render()"
   ]
  },
  {
   "cell_type": "markdown",
   "metadata": {},
   "source": [
    "# 8. Diffuse Materials"
   ]
  },
  {
   "cell_type": "code",
   "execution_count": 38,
   "metadata": {},
   "outputs": [
    {
     "data": {
      "text/plain": [
       "random_in_unit_sphere (generic function with 1 method)"
      ]
     },
     "execution_count": 38,
     "metadata": {},
     "output_type": "execute_result"
    }
   ],
   "source": [
    "function random_in_unit_sphere()\n",
    "    while true\n",
    "        p = rand(-1:eps():1, 3)\n",
    "        if norm(p)^2 > 1\n",
    "            continue\n",
    "        end\n",
    "        return p\n",
    "    end\n",
    "end"
   ]
  },
  {
   "cell_type": "code",
   "execution_count": 39,
   "metadata": {},
   "outputs": [
    {
     "data": {
      "text/plain": [
       "color (generic function with 4 methods)"
      ]
     },
     "execution_count": 39,
     "metadata": {},
     "output_type": "execute_result"
    }
   ],
   "source": [
    "function color(r::Ray, world::Hittable, depth)\n",
    "    rec = HitRecord()\n",
    "    \n",
    "    if depth <= 0\n",
    "        return [0, 0, 0]\n",
    "    end\n",
    "    \n",
    "    if hit(world, r, 0, Inf, rec)\n",
    "        target = rec.p + rec.normal + random_in_unit_sphere()\n",
    "        return 0.5 * color(Ray(rec.p, target - rec.p), world, depth - 1)\n",
    "    end\n",
    "    unit_direction = normalize(r.direction)\n",
    "    t = 0.5 * (y(unit_direction) + 1)\n",
    "    (1 - t) * [1, 1, 1] + t * [0.5, 0.7, 1]\n",
    "end"
   ]
  },
  {
   "cell_type": "code",
   "execution_count": 40,
   "metadata": {},
   "outputs": [],
   "source": [
    "max_depth = 50;"
   ]
  },
  {
   "cell_type": "code",
   "execution_count": 41,
   "metadata": {},
   "outputs": [
    {
     "data": {
      "text/plain": [
       "color (generic function with 4 methods)"
      ]
     },
     "execution_count": 41,
     "metadata": {},
     "output_type": "execute_result"
    }
   ],
   "source": [
    "function color(i, j) \n",
    "    c = [0, 0, 0]\n",
    "    for _ in 1:samples_per_pixel\n",
    "        u = (i + rand()) / image_width\n",
    "        v = (j + rand()) / image_height\n",
    "        r = get_ray(cam, u, v)\n",
    "        c += color(r, world, max_depth)\n",
    "    end\n",
    "    c / samples_per_pixel\n",
    "end"
   ]
  },
  {
   "cell_type": "code",
   "execution_count": 42,
   "metadata": {},
   "outputs": [
    {
     "data": {
      "image/png": "[encoded data removed]",
      "text/plain": [
       "100×200 Array{RGB{Float64},2} with eltype RGB{Float64}:\n",
       " RGB{Float64}(0.64597,0.787582,1.0)        …  RGB{Float64}(0.647376,0.788425,1.0)\n",
       " RGB{Float64}(0.647799,0.78868,1.0)           RGB{Float64}(0.649107,0.789464,1.0)\n",
       " RGB{Float64}(0.649587,0.789752,1.0)          RGB{Float64}(0.650933,0.79056,1.0)\n",
       " RGB{Float64}(0.651287,0.790772,1.0)          RGB{Float64}(0.652708,0.791625,1.0)\n",
       " RGB{Float64}(0.653068,0.791841,1.0)          RGB{Float64}(0.65431,0.792586,1.0)\n",
       " RGB{Float64}(0.654829,0.792897,1.0)       …  RGB{Float64}(0.656121,0.793673,1.0)\n",
       " RGB{Float64}(0.656583,0.79395,1.0)           RGB{Float64}(0.657866,0.794719,1.0)\n",
       " RGB{Float64}(0.658368,0.795021,1.0)          RGB{Float64}(0.659651,0.795791,1.0)\n",
       " RGB{Float64}(0.660331,0.796198,1.0)          RGB{Float64}(0.661542,0.796925,1.0)\n",
       " RGB{Float64}(0.662108,0.797265,1.0)          RGB{Float64}(0.66333,0.797998,1.0)\n",
       " RGB{Float64}(0.663896,0.798338,1.0)       …  RGB{Float64}(0.665138,0.799083,1.0)\n",
       " RGB{Float64}(0.665882,0.799529,1.0)          RGB{Float64}(0.667079,0.800248,1.0)\n",
       " RGB{Float64}(0.667678,0.800607,1.0)          RGB{Float64}(0.668802,0.801281,1.0)\n",
       " ⋮                                         ⋱  \n",
       " RGB{Float64}(0.202429,0.268927,0.368674)     RGB{Float64}(0.231906,0.307644,0.421251)\n",
       " RGB{Float64}(0.205791,0.273367,0.374731)     RGB{Float64}(0.220699,0.293995,0.403939)\n",
       " RGB{Float64}(0.212472,0.283237,0.389385)  …  RGB{Float64}(0.232371,0.308208,0.421964)\n",
       " RGB{Float64}(0.233294,0.309848,0.424679)     RGB{Float64}(0.207672,0.275732,0.377821)\n",
       " RGB{Float64}(0.205399,0.273477,0.375593)     RGB{Float64}(0.202411,0.268958,0.368779)\n",
       " RGB{Float64}(0.21846,0.290238,0.397904)      RGB{Float64}(0.227931,0.300724,0.409915)\n",
       " RGB{Float64}(0.211208,0.279144,0.381047)     RGB{Float64}(0.218236,0.288529,0.393968)\n",
       " RGB{Float64}(0.194075,0.259617,0.357932)  …  RGB{Float64}(0.234809,0.313153,0.430669)\n",
       " RGB{Float64}(0.208632,0.27786,0.381701)      RGB{Float64}(0.22209,0.297456,0.410504)\n",
       " RGB{Float64}(0.217245,0.291526,0.402947)     RGB{Float64}(0.237354,0.315448,0.432589)\n",
       " RGB{Float64}(0.219997,0.29221,0.40053)       RGB{Float64}(0.217461,0.290002,0.398814)\n",
       " RGB{Float64}(0.219517,0.290275,0.396414)     RGB{Float64}(0.211059,0.279185,0.381374)"
      ]
     },
     "execution_count": 42,
     "metadata": {},
     "output_type": "execute_result"
    }
   ],
   "source": [
    "render()"
   ]
  },
  {
   "cell_type": "code",
   "execution_count": 43,
   "metadata": {},
   "outputs": [
    {
     "data": {
      "text/plain": [
       "color (generic function with 4 methods)"
      ]
     },
     "execution_count": 43,
     "metadata": {},
     "output_type": "execute_result"
    }
   ],
   "source": [
    "function color(i, j) \n",
    "    c = [0, 0, 0]\n",
    "    for _ in 1:samples_per_pixel\n",
    "        u = (i + rand()) / image_width\n",
    "        v = (j + rand()) / image_height\n",
    "        r = get_ray(cam, u, v)\n",
    "        c += color(r, world, max_depth)\n",
    "    end\n",
    "    sqrt.(c / samples_per_pixel)\n",
    "end"
   ]
  },
  {
   "cell_type": "code",
   "execution_count": 44,
   "metadata": {},
   "outputs": [
    {
     "data": {
      "image/png": "[encoded data removed]",
      "text/plain": [
       "100×200 Array{RGB{Float64},2} with eltype RGB{Float64}:\n",
       " RGB{Float64}(0.803755,0.887476,1.0)       …  RGB{Float64}(0.804619,0.887945,1.0)\n",
       " RGB{Float64}(0.804883,0.888089,1.0)          RGB{Float64}(0.805706,0.888537,1.0)\n",
       " RGB{Float64}(0.805927,0.888657,1.0)          RGB{Float64}(0.806777,0.889119,1.0)\n",
       " RGB{Float64}(0.806947,0.889212,1.0)          RGB{Float64}(0.807805,0.88968,1.0)\n",
       " RGB{Float64}(0.808102,0.889841,1.0)          RGB{Float64}(0.808877,0.890264,1.0)\n",
       " RGB{Float64}(0.809209,0.890445,1.0)       …  RGB{Float64}(0.810011,0.890882,1.0)\n",
       " RGB{Float64}(0.810358,0.891071,1.0)          RGB{Float64}(0.811093,0.891473,1.0)\n",
       " RGB{Float64}(0.811464,0.891675,1.0)          RGB{Float64}(0.812241,0.892099,1.0)\n",
       " RGB{Float64}(0.812565,0.892276,1.0)          RGB{Float64}(0.813323,0.89269,1.0)\n",
       " RGB{Float64}(0.813669,0.89288,1.0)           RGB{Float64}(0.814443,0.893303,1.0)\n",
       " RGB{Float64}(0.81482,0.893509,1.0)        …  RGB{Float64}(0.815604,0.893939,1.0)\n",
       " RGB{Float64}(0.815961,0.894134,1.0)          RGB{Float64}(0.816763,0.894573,1.0)\n",
       " RGB{Float64}(0.817173,0.894798,1.0)          RGB{Float64}(0.817872,0.895181,1.0)\n",
       " ⋮                                         ⋱  \n",
       " RGB{Float64}(0.447924,0.518346,0.608894)     RGB{Float64}(0.466679,0.538608,0.631317)\n",
       " RGB{Float64}(0.469866,0.540093,0.630943)     RGB{Float64}(0.446524,0.514979,0.603268)\n",
       " RGB{Float64}(0.457828,0.527732,0.617935)  …  RGB{Float64}(0.465714,0.536154,0.627151)\n",
       " RGB{Float64}(0.451914,0.519836,0.607646)     RGB{Float64}(0.465235,0.53351,0.622026)\n",
       " RGB{Float64}(0.460535,0.529056,0.617747)     RGB{Float64}(0.461979,0.53354,0.62572)\n",
       " RGB{Float64}(0.481023,0.554592,0.649504)     RGB{Float64}(0.475845,0.548562,0.642384)\n",
       " RGB{Float64}(0.452527,0.520923,0.609288)     RGB{Float64}(0.471601,0.544027,0.637419)\n",
       " RGB{Float64}(0.463638,0.535249,0.627525)  …  RGB{Float64}(0.454864,0.524478,0.614282)\n",
       " RGB{Float64}(0.472883,0.545377,0.638876)     RGB{Float64}(0.451722,0.521213,0.610801)\n",
       " RGB{Float64}(0.456019,0.5244,0.612828)       RGB{Float64}(0.454196,0.52258,0.61097)\n",
       " RGB{Float64}(0.470009,0.543243,0.637511)     RGB{Float64}(0.472822,0.543039,0.633947)\n",
       " RGB{Float64}(0.463164,0.535769,0.629158)     RGB{Float64}(0.456385,0.525849,0.615517)"
      ]
     },
     "execution_count": 44,
     "metadata": {},
     "output_type": "execute_result"
    }
   ],
   "source": [
    "render()"
   ]
  },
  {
   "cell_type": "code",
   "execution_count": 45,
   "metadata": {},
   "outputs": [
    {
     "data": {
      "text/plain": [
       "random_unit_vector (generic function with 1 method)"
      ]
     },
     "execution_count": 45,
     "metadata": {},
     "output_type": "execute_result"
    }
   ],
   "source": [
    "function random_unit_vector()\n",
    "    a = rand(0:eps():2pi)\n",
    "    z = rand(-1:eps():1)\n",
    "    r = sqrt(1 - z * z)\n",
    "    [r*cos(a), r*sin(a), z]\n",
    "end"
   ]
  },
  {
   "cell_type": "code",
   "execution_count": 46,
   "metadata": {},
   "outputs": [
    {
     "data": {
      "text/plain": [
       "color (generic function with 4 methods)"
      ]
     },
     "execution_count": 46,
     "metadata": {},
     "output_type": "execute_result"
    }
   ],
   "source": [
    "function color(r::Ray, world::Hittable, depth)\n",
    "    rec = HitRecord()\n",
    "    \n",
    "    if depth <= 0\n",
    "        return [0, 0, 0]\n",
    "    end\n",
    "    \n",
    "    if hit(world, r, 0.001, Inf, rec)\n",
    "        target = rec.p + rec.normal + random_unit_vector()\n",
    "        return 0.5 * color(Ray(rec.p, target - rec.p), world, depth - 1)\n",
    "    end\n",
    "    unit_direction = normalize(r.direction)\n",
    "    t = 0.5 * (y(unit_direction) + 1)\n",
    "    (1 - t) * [1, 1, 1] + t * [0.5, 0.7, 1]\n",
    "end"
   ]
  },
  {
   "cell_type": "code",
   "execution_count": 47,
   "metadata": {},
   "outputs": [
    {
     "data": {
      "image/png": "[encoded data removed]",
      "text/plain": [
       "100×200 Array{RGB{Float64},2} with eltype RGB{Float64}:\n",
       " RGB{Float64}(0.803757,0.887477,1.0)       …  RGB{Float64}(0.804615,0.887943,1.0)\n",
       " RGB{Float64}(0.804834,0.888063,1.0)          RGB{Float64}(0.805727,0.888548,1.0)\n",
       " RGB{Float64}(0.805918,0.888652,1.0)          RGB{Float64}(0.806794,0.889129,1.0)\n",
       " RGB{Float64}(0.806979,0.889229,1.0)          RGB{Float64}(0.807811,0.889683,1.0)\n",
       " RGB{Float64}(0.808076,0.889827,1.0)          RGB{Float64}(0.808915,0.890284,1.0)\n",
       " RGB{Float64}(0.809177,0.890427,1.0)       …  RGB{Float64}(0.809944,0.890846,1.0)\n",
       " RGB{Float64}(0.810274,0.891025,1.0)          RGB{Float64}(0.811077,0.891464,1.0)\n",
       " RGB{Float64}(0.811447,0.891666,1.0)          RGB{Float64}(0.812207,0.892081,1.0)\n",
       " RGB{Float64}(0.812539,0.892262,1.0)          RGB{Float64}(0.813318,0.892688,1.0)\n",
       " RGB{Float64}(0.81368,0.892886,1.0)           RGB{Float64}(0.814406,0.893283,1.0)\n",
       " RGB{Float64}(0.814842,0.893521,1.0)       …  RGB{Float64}(0.815575,0.893923,1.0)\n",
       " RGB{Float64}(0.815977,0.894143,1.0)          RGB{Float64}(0.816718,0.894549,1.0)\n",
       " RGB{Float64}(0.81707,0.894741,1.0)           RGB{Float64}(0.817873,0.895181,1.0)\n",
       " ⋮                                         ⋱  \n",
       " RGB{Float64}(0.533864,0.604578,0.69733)      RGB{Float64}(0.534601,0.607854,0.703576)\n",
       " RGB{Float64}(0.535039,0.606844,0.700892)     RGB{Float64}(0.532874,0.605906,0.701338)\n",
       " RGB{Float64}(0.539782,0.611407,0.705337)  …  RGB{Float64}(0.529326,0.603002,0.699107)\n",
       " RGB{Float64}(0.525962,0.599672,0.695746)     RGB{Float64}(0.532984,0.602863,0.694622)\n",
       " RGB{Float64}(0.540127,0.610362,0.702673)     RGB{Float64}(0.530742,0.602505,0.696419)\n",
       " RGB{Float64}(0.528729,0.60061,0.694622)      RGB{Float64}(0.532001,0.60524,0.700892)\n",
       " RGB{Float64}(0.532753,0.60481,0.699107)      RGB{Float64}(0.529401,0.601485,0.695746)\n",
       " RGB{Float64}(0.534775,0.607117,0.701783)  …  RGB{Float64}(0.52949,0.601428,0.695521)\n",
       " RGB{Float64}(0.526264,0.595964,0.687386)     RGB{Float64}(0.530049,0.598808,0.689202)\n",
       " RGB{Float64}(0.524361,0.595901,0.689429)     RGB{Float64}(0.523274,0.595222,0.689202)\n",
       " RGB{Float64}(0.523655,0.595423,0.689202)     RGB{Float64}(0.52725,0.598578,0.691918)\n",
       " RGB{Float64}(0.52715,0.593518,0.681049)      RGB{Float64}(0.527711,0.601841,0.698436)"
      ]
     },
     "execution_count": 47,
     "metadata": {},
     "output_type": "execute_result"
    }
   ],
   "source": [
    "render()"
   ]
  },
  {
   "cell_type": "code",
   "execution_count": 48,
   "metadata": {},
   "outputs": [
    {
     "data": {
      "text/plain": [
       "random_in_hemisphere (generic function with 1 method)"
      ]
     },
     "execution_count": 48,
     "metadata": {},
     "output_type": "execute_result"
    }
   ],
   "source": [
    "function random_in_hemisphere(normal)\n",
    "    in_unit_sphere = random_in_unit_sphere()\n",
    "    if dot(in_unit_sphere, normal) > 0\n",
    "        in_unit_sphere\n",
    "    else\n",
    "        -in_unit_sphere\n",
    "    end\n",
    "end"
   ]
  },
  {
   "cell_type": "code",
   "execution_count": 49,
   "metadata": {},
   "outputs": [
    {
     "data": {
      "text/plain": [
       "color (generic function with 4 methods)"
      ]
     },
     "execution_count": 49,
     "metadata": {},
     "output_type": "execute_result"
    }
   ],
   "source": [
    "function color(r::Ray, world::Hittable, depth)\n",
    "    rec = HitRecord()\n",
    "    \n",
    "    if depth <= 0\n",
    "        return [0, 0, 0]\n",
    "    end\n",
    "    \n",
    "    if hit(world, r, 0.001, Inf, rec)\n",
    "        target = rec.p + random_in_hemisphere(rec.normal)\n",
    "        return 0.5 * color(Ray(rec.p, target - rec.p), world, depth - 1)\n",
    "    end\n",
    "    unit_direction = normalize(r.direction)\n",
    "    t = 0.5 * (y(unit_direction) + 1)\n",
    "    (1 - t) * [1, 1, 1] + t * [0.5, 0.7, 1]\n",
    "end"
   ]
  },
  {
   "cell_type": "code",
   "execution_count": 50,
   "metadata": {},
   "outputs": [
    {
     "data": {
      "image/png": "[encoded data removed]",
      "text/plain": [
       "100×200 Array{RGB{Float64},2} with eltype RGB{Float64}:\n",
       " RGB{Float64}(0.803792,0.887496,1.0)       …  RGB{Float64}(0.804611,0.887941,1.0)\n",
       " RGB{Float64}(0.804788,0.888037,1.0)          RGB{Float64}(0.805713,0.88854,1.0)\n",
       " RGB{Float64}(0.805843,0.888611,1.0)          RGB{Float64}(0.806756,0.889108,1.0)\n",
       " RGB{Float64}(0.806993,0.889237,1.0)          RGB{Float64}(0.807891,0.889726,1.0)\n",
       " RGB{Float64}(0.808118,0.88985,1.0)           RGB{Float64}(0.808852,0.89025,1.0)\n",
       " RGB{Float64}(0.809183,0.89043,1.0)        …  RGB{Float64}(0.810004,0.890878,1.0)\n",
       " RGB{Float64}(0.810336,0.89106,1.0)           RGB{Float64}(0.811123,0.891489,1.0)\n",
       " RGB{Float64}(0.811452,0.891668,1.0)          RGB{Float64}(0.812202,0.892078,1.0)\n",
       " RGB{Float64}(0.812545,0.892265,1.0)          RGB{Float64}(0.813295,0.892675,1.0)\n",
       " RGB{Float64}(0.81366,0.892875,1.0)           RGB{Float64}(0.814426,0.893294,1.0)\n",
       " RGB{Float64}(0.814806,0.893502,1.0)       …  RGB{Float64}(0.815588,0.89393,1.0)\n",
       " RGB{Float64}(0.815964,0.894135,1.0)          RGB{Float64}(0.816753,0.894568,1.0)\n",
       " RGB{Float64}(0.81715,0.894785,1.0)           RGB{Float64}(0.81786,0.895174,1.0)\n",
       " ⋮                                         ⋱  \n",
       " RGB{Float64}(0.548177,0.609035,0.690335)     RGB{Float64}(0.550975,0.61249,0.694622)\n",
       " RGB{Float64}(0.547163,0.611255,0.696419)     RGB{Float64}(0.546798,0.606542,0.686477)\n",
       " RGB{Float64}(0.557793,0.619822,0.702673)  …  RGB{Float64}(0.538228,0.604825,0.69282)\n",
       " RGB{Float64}(0.534234,0.598012,0.682596)     RGB{Float64}(0.550968,0.61218,0.693947)\n",
       " RGB{Float64}(0.555526,0.617386,0.7)          RGB{Float64}(0.547762,0.610349,0.693722)\n",
       " RGB{Float64}(0.540118,0.605113,0.69124)      RGB{Float64}(0.549023,0.610209,0.691918)\n",
       " RGB{Float64}(0.546082,0.608624,0.691918)     RGB{Float64}(0.545017,0.609693,0.695521)\n",
       " RGB{Float64}(0.552239,0.612969,0.694172)  …  RGB{Float64}(0.547547,0.608644,0.690222)\n",
       " RGB{Float64}(0.549441,0.610078,0.69113)      RGB{Float64}(0.549301,0.612812,0.697316)\n",
       " RGB{Float64}(0.549427,0.612166,0.695746)     RGB{Float64}(0.552245,0.613583,0.695521)\n",
       " RGB{Float64}(0.540915,0.603576,0.686932)     RGB{Float64}(0.537965,0.599077,0.680533)\n",
       " RGB{Float64}(0.546172,0.606673,0.687514)     RGB{Float64}(0.543782,0.605326,0.687386)"
      ]
     },
     "execution_count": 50,
     "metadata": {},
     "output_type": "execute_result"
    }
   ],
   "source": [
    "render()"
   ]
  }
 ],
 "metadata": {
  "kernelspec": {
   "display_name": "Julia 1.4.1",
   "language": "julia",
   "name": "julia-1.4"
  },
  "language_info": {
   "file_extension": ".jl",
   "mimetype": "application/julia",
   "name": "julia",
   "version": "1.4.1"
  }
 },
 "nbformat": 4,
 "nbformat_minor": 4
}
