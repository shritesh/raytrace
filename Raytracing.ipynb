{
 "cells": [
  {
   "cell_type": "markdown",
   "metadata": {},
   "source": [
    "# Ray Tracing in One Weekend"
   ]
  },
  {
   "cell_type": "markdown",
   "metadata": {},
   "source": [
    "[Ray Tracing in One Weekend](https://raytracing.github.io/books/RayTracingInOneWeekend.html) in a Julia Notebook."
   ]
  },
  {
   "cell_type": "markdown",
   "metadata": {},
   "source": [
    "## Vec3"
   ]
  },
  {
   "cell_type": "code",
   "execution_count": 1,
   "metadata": {},
   "outputs": [],
   "source": [
    "struct Vec3\n",
    "    x::Float64\n",
    "    y::Float64\n",
    "    z::Float64\n",
    "end"
   ]
  },
  {
   "cell_type": "code",
   "execution_count": 2,
   "metadata": {},
   "outputs": [],
   "source": [
    "Base.:+(u::Vec3, v::Vec3) = Vec3(u.x + v.x, u.y + v.y, u.z + v.z)"
   ]
  },
  {
   "cell_type": "code",
   "execution_count": 3,
   "metadata": {},
   "outputs": [],
   "source": [
    "Base.:-(v::Vec3) = Vec3(-v.x, -v.y, -v.z)\n",
    "Base.:-(u::Vec3, v::Vec3) = Vec3(u.x - v.x, u.y - v.y, u.z - v.z)"
   ]
  },
  {
   "cell_type": "code",
   "execution_count": 4,
   "metadata": {},
   "outputs": [],
   "source": [
    "Base.:*(u::Vec3, v::Vec3) = Vec3(u.x * v.x, u.y * v.y, u.z * v.z)\n",
    "Base.:*(v::Vec3, t::Number) = Vec3(v.x * t, v.y * t, v.z * t)\n",
    "Base.:*(t::Number, v::Vec3) = v * t"
   ]
  },
  {
   "cell_type": "code",
   "execution_count": 5,
   "metadata": {},
   "outputs": [],
   "source": [
    "Base.:/(v::Vec3, t::Number) = Vec3(v.x / t, v.y / t, v.z / t)"
   ]
  },
  {
   "cell_type": "code",
   "execution_count": 6,
   "metadata": {},
   "outputs": [
    {
     "data": {
      "text/plain": [
       "length_squared (generic function with 1 method)"
      ]
     },
     "execution_count": 6,
     "metadata": {},
     "output_type": "execute_result"
    }
   ],
   "source": [
    "length_squared(v::Vec3) = v.x * v.x + v.y * v.y + v.z * v.z"
   ]
  },
  {
   "cell_type": "code",
   "execution_count": 7,
   "metadata": {},
   "outputs": [
    {
     "data": {
      "text/plain": [
       "length_vector (generic function with 1 method)"
      ]
     },
     "execution_count": 7,
     "metadata": {},
     "output_type": "execute_result"
    }
   ],
   "source": [
    "# length(collection) is for number of elements\n",
    "length_vector(v::Vec3) = sqrt(length_squared(v))"
   ]
  },
  {
   "cell_type": "code",
   "execution_count": 8,
   "metadata": {},
   "outputs": [
    {
     "data": {
      "text/plain": [
       "dot (generic function with 1 method)"
      ]
     },
     "execution_count": 8,
     "metadata": {},
     "output_type": "execute_result"
    }
   ],
   "source": [
    "dot(u::Vec3, v::Vec3) = u.x * v.x + u.y * v.y + u.z * v.z"
   ]
  },
  {
   "cell_type": "code",
   "execution_count": 9,
   "metadata": {},
   "outputs": [
    {
     "data": {
      "text/plain": [
       "cross (generic function with 1 method)"
      ]
     },
     "execution_count": 9,
     "metadata": {},
     "output_type": "execute_result"
    }
   ],
   "source": [
    "cross(u::Vec3, v::Vec3) = Vec3(\n",
    "    u.y * v.z - u.z * v.y,\n",
    "    u.z * v.x - u.x * v.z,\n",
    "    u.x * v.y - u.y * v.x\n",
    ")"
   ]
  },
  {
   "cell_type": "code",
   "execution_count": 10,
   "metadata": {},
   "outputs": [
    {
     "data": {
      "text/plain": [
       "unit_vector (generic function with 1 method)"
      ]
     },
     "execution_count": 10,
     "metadata": {},
     "output_type": "execute_result"
    }
   ],
   "source": [
    "unit_vector(v::Vec3) = v / length_vector(v)"
   ]
  },
  {
   "cell_type": "code",
   "execution_count": 11,
   "metadata": {},
   "outputs": [
    {
     "data": {
      "text/plain": [
       "reflect (generic function with 1 method)"
      ]
     },
     "execution_count": 11,
     "metadata": {},
     "output_type": "execute_result"
    }
   ],
   "source": [
    "reflect(v::Vec3, n::Vec3) = v - 2 * dot(v, n) * n"
   ]
  },
  {
   "cell_type": "code",
   "execution_count": 12,
   "metadata": {},
   "outputs": [
    {
     "data": {
      "text/plain": [
       "refract (generic function with 1 method)"
      ]
     },
     "execution_count": 12,
     "metadata": {},
     "output_type": "execute_result"
    }
   ],
   "source": [
    "function refract(uv::Vec3, n::Vec3, etai_over_etat::Float64)\n",
    "    cos_theta = dot(-uv, n)\n",
    "    r_out_parallel = etai_over_etat * (uv + cos_theta * n)\n",
    "    r_out_perp = -sqrt(1 - length_squared(r_out_parallel)) * n\n",
    "    r_out_parallel + r_out_perp\n",
    "end"
   ]
  },
  {
   "cell_type": "code",
   "execution_count": 13,
   "metadata": {},
   "outputs": [
    {
     "data": {
      "text/plain": [
       "random_in_unit_sphere (generic function with 1 method)"
      ]
     },
     "execution_count": 13,
     "metadata": {},
     "output_type": "execute_result"
    }
   ],
   "source": [
    "function random_in_unit_sphere()\n",
    "    while true\n",
    "        p = Vec3(rand(-1:eps():1, 3)...)\n",
    "        if length_squared(p) < 1\n",
    "            return p\n",
    "        end\n",
    "    end\n",
    " end"
   ]
  },
  {
   "cell_type": "code",
   "execution_count": 14,
   "metadata": {},
   "outputs": [
    {
     "data": {
      "text/plain": [
       "random_unit_vector (generic function with 1 method)"
      ]
     },
     "execution_count": 14,
     "metadata": {},
     "output_type": "execute_result"
    }
   ],
   "source": [
    "function random_unit_vector()\n",
    "    a = rand(0:eps():2pi)\n",
    "    z = rand(-1:eps():1)\n",
    "    r = sqrt(1 - z * z)\n",
    "    Vec3(r * cos(a), r * sin(a), z)\n",
    "end"
   ]
  },
  {
   "cell_type": "code",
   "execution_count": 15,
   "metadata": {},
   "outputs": [
    {
     "data": {
      "text/plain": [
       "random_in_hemisphere (generic function with 1 method)"
      ]
     },
     "execution_count": 15,
     "metadata": {},
     "output_type": "execute_result"
    }
   ],
   "source": [
    "function random_in_hemisphere(normal::Vec3)\n",
    "    in_unit_sphere = random_in_unit_sphere()\n",
    "    if dot(in_unit_sphere, normal) > 0\n",
    "        in_unit_sphere\n",
    "    else\n",
    "        -in_unit_sphere\n",
    "    end\n",
    "end"
   ]
  },
  {
   "cell_type": "markdown",
   "metadata": {},
   "source": [
    "## Ray"
   ]
  },
  {
   "cell_type": "code",
   "execution_count": 16,
   "metadata": {},
   "outputs": [],
   "source": [
    "struct Ray\n",
    "    origin::Vec3\n",
    "    direction::Vec3\n",
    "end"
   ]
  },
  {
   "cell_type": "code",
   "execution_count": 17,
   "metadata": {},
   "outputs": [
    {
     "data": {
      "text/plain": [
       "at (generic function with 1 method)"
      ]
     },
     "execution_count": 17,
     "metadata": {},
     "output_type": "execute_result"
    }
   ],
   "source": [
    "at(ray::Ray, t::Number) = ray.origin + t * ray.direction"
   ]
  },
  {
   "cell_type": "markdown",
   "metadata": {},
   "source": [
    "## Hittable and Material"
   ]
  },
  {
   "cell_type": "code",
   "execution_count": 18,
   "metadata": {},
   "outputs": [],
   "source": [
    "abstract type Hittable end"
   ]
  },
  {
   "cell_type": "code",
   "execution_count": 19,
   "metadata": {},
   "outputs": [],
   "source": [
    "abstract type Material end"
   ]
  },
  {
   "cell_type": "markdown",
   "metadata": {},
   "source": [
    "## HitRecord and HittableList"
   ]
  },
  {
   "cell_type": "code",
   "execution_count": 20,
   "metadata": {},
   "outputs": [],
   "source": [
    "struct HitRecord\n",
    "    p::Vec3\n",
    "    normal::Vec3\n",
    "    mat::Material\n",
    "    t::Float64\n",
    "    front_face::Bool\n",
    "    \n",
    "    function HitRecord(\n",
    "            p::Vec3,\n",
    "            t::Number,\n",
    "            mat::Material,\n",
    "            r::Ray,\n",
    "            outward_normal::Vec3)\n",
    "        front_face = dot(r.direction, outward_normal) < 0\n",
    "        normal = front_face ? outward_normal : -outward_normal\n",
    "        new(p, normal, mat, t, front_face)\n",
    "    end\n",
    "end"
   ]
  },
  {
   "cell_type": "code",
   "execution_count": 21,
   "metadata": {},
   "outputs": [],
   "source": [
    "struct HittableList <: Hittable\n",
    "    objects::Vector{Hittable}\n",
    "end"
   ]
  },
  {
   "cell_type": "code",
   "execution_count": 22,
   "metadata": {},
   "outputs": [
    {
     "data": {
      "text/plain": [
       "hit (generic function with 1 method)"
      ]
     },
     "execution_count": 22,
     "metadata": {},
     "output_type": "execute_result"
    }
   ],
   "source": [
    "function hit(\n",
    "        hl::HittableList,\n",
    "        r::Ray,\n",
    "        t_min::Number,\n",
    "        t_max::Number,\n",
    "        )::Union{HitRecord,Nothing}\n",
    "    closest_so_far = t_max\n",
    "    \n",
    "    hr::Union{HitRecord,Nothing} = nothing\n",
    "    \n",
    "    for obj in hl.objects\n",
    "        temp_hr = hit(obj, r, t_min, closest_so_far)\n",
    "        if temp_hr != nothing\n",
    "            closest_so_far = temp_hr.t\n",
    "            hr = temp_hr\n",
    "        end\n",
    "    end\n",
    "    \n",
    "    hr\n",
    " end"
   ]
  },
  {
   "cell_type": "markdown",
   "metadata": {},
   "source": [
    "## Sphere"
   ]
  },
  {
   "cell_type": "code",
   "execution_count": 23,
   "metadata": {},
   "outputs": [],
   "source": [
    "struct Sphere <: Hittable\n",
    "    center::Vec3\n",
    "    radius::Float64\n",
    "    mat::Material\n",
    "end"
   ]
  },
  {
   "cell_type": "code",
   "execution_count": 24,
   "metadata": {},
   "outputs": [
    {
     "data": {
      "text/plain": [
       "hit (generic function with 2 methods)"
      ]
     },
     "execution_count": 24,
     "metadata": {},
     "output_type": "execute_result"
    }
   ],
   "source": [
    "function hit(\n",
    "        sphere::Sphere,\n",
    "        r::Ray,\n",
    "        t_min::Number,\n",
    "        t_max::Number,\n",
    "        )::Union{HitRecord,Nothing}\n",
    "    \n",
    "    oc = r.origin - sphere.center\n",
    "    a = length_squared(r.direction)\n",
    "    half_b = dot(oc, r.direction)\n",
    "    c = length_squared(oc) - sphere.radius * sphere.radius\n",
    "    discriminant = half_b * half_b - a * c\n",
    "\n",
    "    if discriminant > 0\n",
    "        root = sqrt(discriminant)\n",
    "        temp = (-half_b - root) / a\n",
    "        if t_min < temp < t_max\n",
    "            p = at(r, temp)\n",
    "            outward_normal = (p - sphere.center) / sphere.radius\n",
    "            HitRecord(p, temp, sphere.mat, r, outward_normal)\n",
    "        else\n",
    "            temp = (-half_b + root) / a\n",
    "            if t_min < temp < t_max\n",
    "                p = at(r, temp)\n",
    "                outward_normal = (p - sphere.center) / sphere.radius\n",
    "                HitRecord(p, temp, sphere.mat, r, outward_normal)\n",
    "            end\n",
    "        end\n",
    "    end\n",
    "end"
   ]
  },
  {
   "cell_type": "markdown",
   "metadata": {},
   "source": [
    "## Lambertian"
   ]
  },
  {
   "cell_type": "code",
   "execution_count": 25,
   "metadata": {},
   "outputs": [],
   "source": [
    "struct Lambertian <: Material\n",
    "    albedo::Vec3\n",
    "end"
   ]
  },
  {
   "cell_type": "code",
   "execution_count": 26,
   "metadata": {},
   "outputs": [
    {
     "data": {
      "text/plain": [
       "scatter (generic function with 1 method)"
      ]
     },
     "execution_count": 26,
     "metadata": {},
     "output_type": "execute_result"
    }
   ],
   "source": [
    "function scatter(\n",
    "        lambertian::Lambertian,\n",
    "        r_in::Ray,\n",
    "        rec::HitRecord,\n",
    "        )::Tuple{Bool,Vec3,Ray}\n",
    "    scatter_direction = rec.normal + random_unit_vector()\n",
    "    scattered = Ray(rec.p, scatter_direction)\n",
    "    attenuation = lambertian.albedo\n",
    "    true, attenuation, scattered\n",
    "end"
   ]
  },
  {
   "cell_type": "markdown",
   "metadata": {},
   "source": [
    "## Metal"
   ]
  },
  {
   "cell_type": "code",
   "execution_count": 27,
   "metadata": {},
   "outputs": [],
   "source": [
    "struct Metal <: Material\n",
    "    albedo::Vec3\n",
    "    fuzz::Float64\n",
    "    \n",
    "    Metal(albedo::Vec3, fuzz::Number) = new(albedo, fuzz < 1 ? fuzz : 1)\n",
    " end"
   ]
  },
  {
   "cell_type": "code",
   "execution_count": 28,
   "metadata": {},
   "outputs": [
    {
     "data": {
      "text/plain": [
       "scatter (generic function with 2 methods)"
      ]
     },
     "execution_count": 28,
     "metadata": {},
     "output_type": "execute_result"
    }
   ],
   "source": [
    "function scatter(\n",
    "        metal::Metal, \n",
    "        r_in::Ray,\n",
    "        rec::HitRecord)::Tuple{Bool,Vec3,Ray}\n",
    "    reflected = reflect(unit_vector(r_in.direction), rec.normal)\n",
    "    scattered = Ray(rec.p, reflected)\n",
    "    attenuation = metal.albedo\n",
    "    dot(scattered.direction, rec.normal) > 0, attenuation, scattered\n",
    "end"
   ]
  },
  {
   "cell_type": "markdown",
   "metadata": {},
   "source": [
    "## Dielectric"
   ]
  },
  {
   "cell_type": "code",
   "execution_count": 29,
   "metadata": {},
   "outputs": [
    {
     "data": {
      "text/plain": [
       "schlick (generic function with 1 method)"
      ]
     },
     "execution_count": 29,
     "metadata": {},
     "output_type": "execute_result"
    }
   ],
   "source": [
    "function schlick(cosine::Float64, ref_idx::Float64)\n",
    "    r0 = (1 - ref_idx) / (1 + ref_idx)\n",
    "    r0 *= r0\n",
    "    r0 + (1 - r0) * (1 - cosine)^5\n",
    " end"
   ]
  },
  {
   "cell_type": "code",
   "execution_count": 30,
   "metadata": {},
   "outputs": [],
   "source": [
    "struct Dielectric <: Material\n",
    "    ref_idx::Float64\n",
    "end"
   ]
  },
  {
   "cell_type": "code",
   "execution_count": 31,
   "metadata": {},
   "outputs": [
    {
     "data": {
      "text/plain": [
       "scatter (generic function with 3 methods)"
      ]
     },
     "execution_count": 31,
     "metadata": {},
     "output_type": "execute_result"
    }
   ],
   "source": [
    "function scatter(\n",
    "        dielectric::Dielectric,\n",
    "        r_in::Ray,\n",
    "        rec::HitRecord\n",
    "        )::Tuple{Bool,Vec3,Ray}\n",
    "    attenuation = Vec3(1, 1, 1)\n",
    "    etai_over_etat = \n",
    "    rec.front_face ? 1 / dielectric.ref_idx : dielectric.ref_idx\n",
    "    \n",
    "    unit_direction = unit_vector(r_in.direction)\n",
    "    cos_theta = min(dot(-unit_direction, rec.normal), 1)\n",
    "    sin_theta = sqrt(1 - cos_theta * cos_theta)\n",
    "    \n",
    "    if etai_over_etat * sin_theta > 1\n",
    "        reflected = reflect(unit_direction, rec.normal)\n",
    "        scattered = Ray(rec.p, reflected)\n",
    "        true, attenuation, scattered\n",
    "    else\n",
    "        reflect_prob = schlick(cos_theta, etai_over_etat)\n",
    "        if rand() < reflect_prob\n",
    "            reflected = reflect(unit_direction, rec.normal)\n",
    "            scattered = Ray(rec.p, reflected)\n",
    "            true, attenuation, scattered\n",
    "        else\n",
    "            refracted = refract(unit_direction, rec.normal, etai_over_etat)\n",
    "            scattered = Ray(rec.p, refracted)\n",
    "            true, attenuation, scattered\n",
    "        end\n",
    "    end\n",
    "end"
   ]
  },
  {
   "cell_type": "markdown",
   "metadata": {},
   "source": [
    "## Camera"
   ]
  },
  {
   "cell_type": "code",
   "execution_count": 32,
   "metadata": {},
   "outputs": [],
   "source": [
    "struct Camera\n",
    "    origin::Vec3\n",
    "    lower_left_corner::Vec3\n",
    "    horizontal::Vec3\n",
    "    vertical::Vec3\n",
    "    \n",
    "    Camera() = new(Vec3(0, 0, 0), Vec3(-2, -1, -1), Vec3(4, 0, 0), Vec3(0, 2, 0))\n",
    "end"
   ]
  },
  {
   "cell_type": "code",
   "execution_count": 33,
   "metadata": {},
   "outputs": [
    {
     "data": {
      "text/plain": [
       "get_ray (generic function with 1 method)"
      ]
     },
     "execution_count": 33,
     "metadata": {},
     "output_type": "execute_result"
    }
   ],
   "source": [
    "get_ray(c::Camera, u::Number, v::Number)::Ray = Ray(\n",
    "    c.origin,\n",
    "    c.lower_left_corner + u * c.horizontal + v * c.vertical - c.origin,\n",
    ")"
   ]
  },
  {
   "cell_type": "markdown",
   "metadata": {},
   "source": [
    "## Image"
   ]
  },
  {
   "cell_type": "code",
   "execution_count": 34,
   "metadata": {},
   "outputs": [],
   "source": [
    "using Images"
   ]
  },
  {
   "cell_type": "code",
   "execution_count": 35,
   "metadata": {},
   "outputs": [],
   "source": [
    "const aspect_ratio = 16 / 9\n",
    "const image_width = 384\n",
    "const image_height = Int(image_width ÷ aspect_ratio)\n",
    "const samples_per_pixel = 100\n",
    "const max_depth = 50;"
   ]
  },
  {
   "cell_type": "code",
   "execution_count": 36,
   "metadata": {},
   "outputs": [
    {
     "data": {
      "text/plain": [
       "HittableList(Hittable[Sphere(Vec3(0.0, 0.0, -1.0), 0.5, Lambertian(Vec3(0.1, 0.2, 0.5))), Sphere(Vec3(0.0, -100.5, -1.0), 100.0, Lambertian(Vec3(0.8, 0.8, 0.0))), Sphere(Vec3(1.0, 0.0, -1.0), 0.5, Metal(Vec3(0.8, 0.6, 0.2), 0.3)), Sphere(Vec3(-1.0, 0.0, -1.0), 0.5, Dielectric(1.5)), Sphere(Vec3(-1.0, 0.0, -1.0), -0.45, Dielectric(1.5))])"
      ]
     },
     "execution_count": 36,
     "metadata": {},
     "output_type": "execute_result"
    }
   ],
   "source": [
    "const world = HittableList([\n",
    "        Sphere(Vec3(0, 0, -1), 0.5, Lambertian(Vec3(0.1, 0.2, 0.5))),\n",
    "        Sphere(Vec3(0, -100.5, -1), 100, Lambertian(Vec3(0.8, 0.8, 0))),\n",
    "        Sphere(Vec3(1, 0, -1), 0.5, Metal(Vec3(0.8, 0.6, 0.2), 0.3)),\n",
    "        Sphere(Vec3(-1, 0, -1), 0.5, Dielectric(1.5)),\n",
    "        Sphere(Vec3(-1, 0, -1), -0.45, Dielectric(1.5)),\n",
    "        ])"
   ]
  },
  {
   "cell_type": "code",
   "execution_count": 37,
   "metadata": {},
   "outputs": [
    {
     "data": {
      "text/plain": [
       "Camera(Vec3(0.0, 0.0, 0.0), Vec3(-2.0, -1.0, -1.0), Vec3(4.0, 0.0, 0.0), Vec3(0.0, 2.0, 0.0))"
      ]
     },
     "execution_count": 37,
     "metadata": {},
     "output_type": "execute_result"
    }
   ],
   "source": [
    "const cam = Camera()"
   ]
  },
  {
   "cell_type": "code",
   "execution_count": 38,
   "metadata": {},
   "outputs": [
    {
     "data": {
      "text/plain": [
       "ray_color (generic function with 1 method)"
      ]
     },
     "execution_count": 38,
     "metadata": {},
     "output_type": "execute_result"
    }
   ],
   "source": [
    "function ray_color(r::Ray, depth::Int)\n",
    "    if depth <= 0\n",
    "        return Vec3(0, 0, 0)\n",
    "    end\n",
    "    \n",
    "    hr = hit(world, r, 0.001, Inf)\n",
    "    \n",
    "    if hr != nothing\n",
    "        did_scatter, attenuation, scattered = scatter(hr.mat, r, hr)\n",
    "        if did_scatter\n",
    "            attenuation * ray_color(scattered, depth - 1)\n",
    "        else\n",
    "            Vec3(0, 0, 0)\n",
    "        end\n",
    "    else\n",
    "        unit_direction = unit_vector(r.direction)\n",
    "        t = 0.5 * (unit_direction.y + 1)\n",
    "        (1 - t) * Vec3(1, 1, 1) + t * Vec3(0.5, 0.7, 1)\n",
    "    end\n",
    "end"
   ]
  },
  {
   "cell_type": "code",
   "execution_count": 39,
   "metadata": {},
   "outputs": [
    {
     "data": {
      "text/plain": [
       "color (generic function with 1 method)"
      ]
     },
     "execution_count": 39,
     "metadata": {},
     "output_type": "execute_result"
    }
   ],
   "source": [
    "function color(i::Int, j::Int)\n",
    "    c = Vec3(0, 0, 0)\n",
    "    for _ = 1:samples_per_pixel\n",
    "        u = (i + rand()) / image_width\n",
    "        v = (j + rand()) / image_height\n",
    "        r = get_ray(cam, u, v)\n",
    "        c += ray_color(r, max_depth)\n",
    "    end\n",
    "    c /= samples_per_pixel\n",
    "    RGB(sqrt(c.x), sqrt(c.y), sqrt(c.z))\n",
    "end"
   ]
  },
  {
   "cell_type": "code",
   "execution_count": 40,
   "metadata": {},
   "outputs": [
    {
     "data": {
      "text/plain": [
       "render (generic function with 1 method)"
      ]
     },
     "execution_count": 40,
     "metadata": {},
     "output_type": "execute_result"
    }
   ],
   "source": [
    "function render()\n",
    "    [color(i, j) for j in image_height:-1:1, i in 1:image_width]\n",
    "end"
   ]
  },
  {
   "cell_type": "code",
   "execution_count": 41,
   "metadata": {},
   "outputs": [
    {
     "name": "stdout",
     "output_type": "stream",
     "text": [
      "  3.450962 seconds (25.30 M allocations: 1.887 GiB, 7.84% gc time)\n"
     ]
    },
    {
     "data": {
      "image/png": "[encoded data removed]",
      "text/plain": [
       "216×384 Array{RGB{Float64},2} with eltype RGB{Float64}:\n",
       " RGB{Float64}(0.804361,0.887805,1.0)  …  RGB{Float64}(0.804822,0.888056,1.0)\n",
       " RGB{Float64}(0.804862,0.888078,1.0)     RGB{Float64}(0.805282,0.888306,1.0)\n",
       " RGB{Float64}(0.805339,0.888337,1.0)     RGB{Float64}(0.805803,0.888589,1.0)\n",
       " RGB{Float64}(0.805801,0.888588,1.0)     RGB{Float64}(0.806258,0.888837,1.0)\n",
       " RGB{Float64}(0.806317,0.888869,1.0)     RGB{Float64}(0.806755,0.889107,1.0)\n",
       " RGB{Float64}(0.806873,0.889172,1.0)  …  RGB{Float64}(0.807287,0.889397,1.0)\n",
       " RGB{Float64}(0.807345,0.889429,1.0)     RGB{Float64}(0.807759,0.889654,1.0)\n",
       " RGB{Float64}(0.80786,0.889709,1.0)      RGB{Float64}(0.80828,0.889938,1.0)\n",
       " RGB{Float64}(0.80836,0.889982,1.0)      RGB{Float64}(0.808798,0.89022,1.0)\n",
       " RGB{Float64}(0.808858,0.890253,1.0)     RGB{Float64}(0.809298,0.890493,1.0)\n",
       " RGB{Float64}(0.809373,0.890534,1.0)  …  RGB{Float64}(0.809789,0.890761,1.0)\n",
       " RGB{Float64}(0.80988,0.89081,1.0)       RGB{Float64}(0.81029,0.891034,1.0)\n",
       " RGB{Float64}(0.81041,0.8911,1.0)        RGB{Float64}(0.810782,0.891303,1.0)\n",
       " ⋮                                    ⋱  \n",
       " RGB{Float64}(0.654501,0.744306,0.0)     RGB{Float64}(0.628762,0.673695,0.0)\n",
       " RGB{Float64}(0.678244,0.768524,0.0)  …  RGB{Float64}(0.629831,0.671722,0.0)\n",
       " RGB{Float64}(0.657579,0.746319,0.0)     RGB{Float64}(0.649092,0.69561,0.0)\n",
       " RGB{Float64}(0.661045,0.751001,0.0)     RGB{Float64}(0.630763,0.677594,0.0)\n",
       " RGB{Float64}(0.65736,0.748339,0.0)      RGB{Float64}(0.637487,0.683309,0.0)\n",
       " RGB{Float64}(0.675161,0.76585,0.0)      RGB{Float64}(0.643168,0.698185,0.0)\n",
       " RGB{Float64}(0.663416,0.751186,0.0)  …  RGB{Float64}(0.640144,0.690868,0.0)\n",
       " RGB{Float64}(0.665463,0.75421,0.0)      RGB{Float64}(0.623347,0.666548,0.0)\n",
       " RGB{Float64}(0.65882,0.748981,0.0)      RGB{Float64}(0.623954,0.674575,0.0)\n",
       " RGB{Float64}(0.647793,0.732463,0.0)     RGB{Float64}(0.617568,0.668589,0.0)\n",
       " RGB{Float64}(0.676011,0.764162,0.0)     RGB{Float64}(0.624571,0.68172,0.0)\n",
       " RGB{Float64}(0.637814,0.726262,0.0)  …  RGB{Float64}(0.636641,0.688959,0.0)"
      ]
     },
     "execution_count": 41,
     "metadata": {},
     "output_type": "execute_result"
    }
   ],
   "source": [
    "@time render()"
   ]
  }
 ],
 "metadata": {
  "@webio": {
   "lastCommId": null,
   "lastKernelId": null
  },
  "kernelspec": {
   "display_name": "Julia 1.4.1",
   "language": "julia",
   "name": "julia-1.4"
  },
  "language_info": {
   "file_extension": ".jl",
   "mimetype": "application/julia",
   "name": "julia",
   "version": "1.4.1"
  }
 },
 "nbformat": 4,
 "nbformat_minor": 4
}
