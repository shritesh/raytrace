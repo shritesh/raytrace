{
 "cells": [
  {
   "cell_type": "markdown",
   "metadata": {},
   "source": [
    "# Ray Tracing in One Weekend"
   ]
  },
  {
   "cell_type": "markdown",
   "metadata": {},
   "source": [
    "[Ray Tracing in One Weekend](https://raytracing.github.io/books/RayTracingInOneWeekend.html) in a Julia Notebook."
   ]
  },
  {
   "cell_type": "markdown",
   "metadata": {},
   "source": [
    "# Displaying Images"
   ]
  },
  {
   "cell_type": "code",
   "execution_count": 1,
   "metadata": {},
   "outputs": [],
   "source": [
    "using Images"
   ]
  },
  {
   "cell_type": "code",
   "execution_count": 2,
   "metadata": {},
   "outputs": [
    {
     "data": {
      "text/plain": [
       "(256, 256)"
      ]
     },
     "execution_count": 2,
     "metadata": {},
     "output_type": "execute_result"
    }
   ],
   "source": [
    "(image_width, image_height) = (256, 256)"
   ]
  },
  {
   "cell_type": "code",
   "execution_count": 3,
   "metadata": {},
   "outputs": [
    {
     "data": {
      "image/png": "[encoded data removed]",
      "text/plain": [
       "256×256 Array{RGB{Float64},2} with eltype RGB{Float64}:\n",
       " RGB{Float64}(0.00390625,1.0,0.25)         …  RGB{Float64}(1.0,1.0,0.25)\n",
       " RGB{Float64}(0.00390625,0.996094,0.25)       RGB{Float64}(1.0,0.996094,0.25)\n",
       " RGB{Float64}(0.00390625,0.992188,0.25)       RGB{Float64}(1.0,0.992188,0.25)\n",
       " RGB{Float64}(0.00390625,0.988281,0.25)       RGB{Float64}(1.0,0.988281,0.25)\n",
       " RGB{Float64}(0.00390625,0.984375,0.25)       RGB{Float64}(1.0,0.984375,0.25)\n",
       " RGB{Float64}(0.00390625,0.980469,0.25)    …  RGB{Float64}(1.0,0.980469,0.25)\n",
       " RGB{Float64}(0.00390625,0.976562,0.25)       RGB{Float64}(1.0,0.976562,0.25)\n",
       " RGB{Float64}(0.00390625,0.972656,0.25)       RGB{Float64}(1.0,0.972656,0.25)\n",
       " RGB{Float64}(0.00390625,0.96875,0.25)        RGB{Float64}(1.0,0.96875,0.25)\n",
       " RGB{Float64}(0.00390625,0.964844,0.25)       RGB{Float64}(1.0,0.964844,0.25)\n",
       " RGB{Float64}(0.00390625,0.960938,0.25)    …  RGB{Float64}(1.0,0.960938,0.25)\n",
       " RGB{Float64}(0.00390625,0.957031,0.25)       RGB{Float64}(1.0,0.957031,0.25)\n",
       " RGB{Float64}(0.00390625,0.953125,0.25)       RGB{Float64}(1.0,0.953125,0.25)\n",
       " ⋮                                         ⋱  ⋮\n",
       " RGB{Float64}(0.00390625,0.046875,0.25)       RGB{Float64}(1.0,0.046875,0.25)\n",
       " RGB{Float64}(0.00390625,0.0429688,0.25)   …  RGB{Float64}(1.0,0.0429688,0.25)\n",
       " RGB{Float64}(0.00390625,0.0390625,0.25)      RGB{Float64}(1.0,0.0390625,0.25)\n",
       " RGB{Float64}(0.00390625,0.0351562,0.25)      RGB{Float64}(1.0,0.0351562,0.25)\n",
       " RGB{Float64}(0.00390625,0.03125,0.25)        RGB{Float64}(1.0,0.03125,0.25)\n",
       " RGB{Float64}(0.00390625,0.0273438,0.25)      RGB{Float64}(1.0,0.0273438,0.25)\n",
       " RGB{Float64}(0.00390625,0.0234375,0.25)   …  RGB{Float64}(1.0,0.0234375,0.25)\n",
       " RGB{Float64}(0.00390625,0.0195312,0.25)      RGB{Float64}(1.0,0.0195312,0.25)\n",
       " RGB{Float64}(0.00390625,0.015625,0.25)       RGB{Float64}(1.0,0.015625,0.25)\n",
       " RGB{Float64}(0.00390625,0.0117188,0.25)      RGB{Float64}(1.0,0.0117188,0.25)\n",
       " RGB{Float64}(0.00390625,0.0078125,0.25)      RGB{Float64}(1.0,0.0078125,0.25)\n",
       " RGB{Float64}(0.00390625,0.00390625,0.25)  …  RGB{Float64}(1.0,0.00390625,0.25)"
      ]
     },
     "execution_count": 3,
     "metadata": {},
     "output_type": "execute_result"
    }
   ],
   "source": [
    "[RGB(i / image_width, j / image_height, 0.25) for j in image_height:-1:1, i in 1:image_width]"
   ]
  }
 ],
 "metadata": {
  "kernelspec": {
   "display_name": "Julia 1.4.1",
   "language": "julia",
   "name": "julia-1.4"
  },
  "language_info": {
   "file_extension": ".jl",
   "mimetype": "application/julia",
   "name": "julia",
   "version": "1.4.1"
  }
 },
 "nbformat": 4,
 "nbformat_minor": 4
}
