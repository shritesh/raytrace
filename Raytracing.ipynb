{
 "cells": [
  {
   "cell_type": "code",
   "execution_count": 1,
   "metadata": {},
   "outputs": [],
   "source": [
    "using Images, LinearAlgebra"
   ]
  },
  {
   "cell_type": "markdown",
   "metadata": {},
   "source": [
    "# 2. Output an Image"
   ]
  },
  {
   "cell_type": "code",
   "execution_count": 2,
   "metadata": {},
   "outputs": [
    {
     "data": {
      "text/plain": [
       "(200, 100)"
      ]
     },
     "execution_count": 2,
     "metadata": {},
     "output_type": "execute_result"
    }
   ],
   "source": [
    "(image_width, image_height) = (200, 100)"
   ]
  },
  {
   "cell_type": "code",
   "execution_count": 3,
   "metadata": {},
   "outputs": [
    {
     "data": {
      "image/png": "[encoded data removed]",
      "text/plain": [
       "100×200 Array{RGB{Float64},2} with eltype RGB{Float64}:\n",
       " RGB{Float64}(0.005,1.0,0.2)   …  RGB{Float64}(1.0,1.0,0.2)\n",
       " RGB{Float64}(0.005,0.99,0.2)     RGB{Float64}(1.0,0.99,0.2)\n",
       " RGB{Float64}(0.005,0.98,0.2)     RGB{Float64}(1.0,0.98,0.2)\n",
       " RGB{Float64}(0.005,0.97,0.2)     RGB{Float64}(1.0,0.97,0.2)\n",
       " RGB{Float64}(0.005,0.96,0.2)     RGB{Float64}(1.0,0.96,0.2)\n",
       " RGB{Float64}(0.005,0.95,0.2)  …  RGB{Float64}(1.0,0.95,0.2)\n",
       " RGB{Float64}(0.005,0.94,0.2)     RGB{Float64}(1.0,0.94,0.2)\n",
       " RGB{Float64}(0.005,0.93,0.2)     RGB{Float64}(1.0,0.93,0.2)\n",
       " RGB{Float64}(0.005,0.92,0.2)     RGB{Float64}(1.0,0.92,0.2)\n",
       " RGB{Float64}(0.005,0.91,0.2)     RGB{Float64}(1.0,0.91,0.2)\n",
       " RGB{Float64}(0.005,0.9,0.2)   …  RGB{Float64}(1.0,0.9,0.2)\n",
       " RGB{Float64}(0.005,0.89,0.2)     RGB{Float64}(1.0,0.89,0.2)\n",
       " RGB{Float64}(0.005,0.88,0.2)     RGB{Float64}(1.0,0.88,0.2)\n",
       " ⋮                             ⋱  \n",
       " RGB{Float64}(0.005,0.12,0.2)     RGB{Float64}(1.0,0.12,0.2)\n",
       " RGB{Float64}(0.005,0.11,0.2)     RGB{Float64}(1.0,0.11,0.2)\n",
       " RGB{Float64}(0.005,0.1,0.2)   …  RGB{Float64}(1.0,0.1,0.2)\n",
       " RGB{Float64}(0.005,0.09,0.2)     RGB{Float64}(1.0,0.09,0.2)\n",
       " RGB{Float64}(0.005,0.08,0.2)     RGB{Float64}(1.0,0.08,0.2)\n",
       " RGB{Float64}(0.005,0.07,0.2)     RGB{Float64}(1.0,0.07,0.2)\n",
       " RGB{Float64}(0.005,0.06,0.2)     RGB{Float64}(1.0,0.06,0.2)\n",
       " RGB{Float64}(0.005,0.05,0.2)  …  RGB{Float64}(1.0,0.05,0.2)\n",
       " RGB{Float64}(0.005,0.04,0.2)     RGB{Float64}(1.0,0.04,0.2)\n",
       " RGB{Float64}(0.005,0.03,0.2)     RGB{Float64}(1.0,0.03,0.2)\n",
       " RGB{Float64}(0.005,0.02,0.2)     RGB{Float64}(1.0,0.02,0.2)\n",
       " RGB{Float64}(0.005,0.01,0.2)     RGB{Float64}(1.0,0.01,0.2)"
      ]
     },
     "execution_count": 3,
     "metadata": {},
     "output_type": "execute_result"
    }
   ],
   "source": [
    "[RGB(i / image_width, j / image_height, 0.2) for j in image_height:-1:1, i in 1:image_width]"
   ]
  },
  {
   "cell_type": "markdown",
   "metadata": {},
   "source": [
    "# 3. The Vec3 ~~Class~~ Array"
   ]
  },
  {
   "cell_type": "code",
   "execution_count": 4,
   "metadata": {},
   "outputs": [],
   "source": [
    "x(vec) = vec[1]\n",
    "y(vec) = vec[2]\n",
    "z(vec) = vec[3];"
   ]
  },
  {
   "cell_type": "code",
   "execution_count": 5,
   "metadata": {},
   "outputs": [
    {
     "data": {
      "text/plain": [
       "color (generic function with 1 method)"
      ]
     },
     "execution_count": 5,
     "metadata": {},
     "output_type": "execute_result"
    }
   ],
   "source": [
    "color(i,j) = [i / image_width, j / image_height, 0.2]"
   ]
  },
  {
   "cell_type": "code",
   "execution_count": 6,
   "metadata": {
    "scrolled": true
   },
   "outputs": [
    {
     "data": {
      "image/png": "[encoded data removed]",
      "text/plain": [
       "100×200 Array{RGB{Float64},2} with eltype RGB{Float64}:\n",
       " RGB{Float64}(0.005,1.0,0.2)   …  RGB{Float64}(1.0,1.0,0.2)\n",
       " RGB{Float64}(0.005,0.99,0.2)     RGB{Float64}(1.0,0.99,0.2)\n",
       " RGB{Float64}(0.005,0.98,0.2)     RGB{Float64}(1.0,0.98,0.2)\n",
       " RGB{Float64}(0.005,0.97,0.2)     RGB{Float64}(1.0,0.97,0.2)\n",
       " RGB{Float64}(0.005,0.96,0.2)     RGB{Float64}(1.0,0.96,0.2)\n",
       " RGB{Float64}(0.005,0.95,0.2)  …  RGB{Float64}(1.0,0.95,0.2)\n",
       " RGB{Float64}(0.005,0.94,0.2)     RGB{Float64}(1.0,0.94,0.2)\n",
       " RGB{Float64}(0.005,0.93,0.2)     RGB{Float64}(1.0,0.93,0.2)\n",
       " RGB{Float64}(0.005,0.92,0.2)     RGB{Float64}(1.0,0.92,0.2)\n",
       " RGB{Float64}(0.005,0.91,0.2)     RGB{Float64}(1.0,0.91,0.2)\n",
       " RGB{Float64}(0.005,0.9,0.2)   …  RGB{Float64}(1.0,0.9,0.2)\n",
       " RGB{Float64}(0.005,0.89,0.2)     RGB{Float64}(1.0,0.89,0.2)\n",
       " RGB{Float64}(0.005,0.88,0.2)     RGB{Float64}(1.0,0.88,0.2)\n",
       " ⋮                             ⋱  \n",
       " RGB{Float64}(0.005,0.12,0.2)     RGB{Float64}(1.0,0.12,0.2)\n",
       " RGB{Float64}(0.005,0.11,0.2)     RGB{Float64}(1.0,0.11,0.2)\n",
       " RGB{Float64}(0.005,0.1,0.2)   …  RGB{Float64}(1.0,0.1,0.2)\n",
       " RGB{Float64}(0.005,0.09,0.2)     RGB{Float64}(1.0,0.09,0.2)\n",
       " RGB{Float64}(0.005,0.08,0.2)     RGB{Float64}(1.0,0.08,0.2)\n",
       " RGB{Float64}(0.005,0.07,0.2)     RGB{Float64}(1.0,0.07,0.2)\n",
       " RGB{Float64}(0.005,0.06,0.2)     RGB{Float64}(1.0,0.06,0.2)\n",
       " RGB{Float64}(0.005,0.05,0.2)  …  RGB{Float64}(1.0,0.05,0.2)\n",
       " RGB{Float64}(0.005,0.04,0.2)     RGB{Float64}(1.0,0.04,0.2)\n",
       " RGB{Float64}(0.005,0.03,0.2)     RGB{Float64}(1.0,0.03,0.2)\n",
       " RGB{Float64}(0.005,0.02,0.2)     RGB{Float64}(1.0,0.02,0.2)\n",
       " RGB{Float64}(0.005,0.01,0.2)     RGB{Float64}(1.0,0.01,0.2)"
      ]
     },
     "execution_count": 6,
     "metadata": {},
     "output_type": "execute_result"
    }
   ],
   "source": [
    "render() = [RGB(color(i,j)...) for j in image_height:-1:1, i in 1:image_width]\n",
    "render()"
   ]
  },
  {
   "cell_type": "markdown",
   "metadata": {},
   "source": [
    "# 4. Rays, a Simple Camera, and Background"
   ]
  },
  {
   "cell_type": "code",
   "execution_count": 7,
   "metadata": {},
   "outputs": [
    {
     "data": {
      "text/plain": [
       "Main.RayM"
      ]
     },
     "execution_count": 7,
     "metadata": {},
     "output_type": "execute_result"
    }
   ],
   "source": [
    "module RayM\n",
    "struct Ray \n",
    "    origin\n",
    "    direction\n",
    "end\n",
    "end"
   ]
  },
  {
   "cell_type": "code",
   "execution_count": 8,
   "metadata": {},
   "outputs": [
    {
     "data": {
      "text/plain": [
       "at (generic function with 1 method)"
      ]
     },
     "execution_count": 8,
     "metadata": {},
     "output_type": "execute_result"
    }
   ],
   "source": [
    "at(ray::RayM.Ray, t) = ray.origin + t * ray.direction"
   ]
  },
  {
   "cell_type": "code",
   "execution_count": 9,
   "metadata": {},
   "outputs": [
    {
     "data": {
      "text/plain": [
       "color (generic function with 2 methods)"
      ]
     },
     "execution_count": 9,
     "metadata": {},
     "output_type": "execute_result"
    }
   ],
   "source": [
    "function color(ray::RayM.Ray)\n",
    "    unit_direction = normalize(ray.direction)\n",
    "    t = 0.5 * (y(unit_direction) + 1)\n",
    "    (1 - t) * [1, 1, 1] + t * [0.5, 0.7, 1]\n",
    "end"
   ]
  },
  {
   "cell_type": "code",
   "execution_count": 10,
   "metadata": {},
   "outputs": [],
   "source": [
    "lower_left_corner = [-2, -1, -1]\n",
    "horizontal = [4, 0, 0]\n",
    "vertical = [0, 2, 0]\n",
    "origin = [0, 0, 0];"
   ]
  },
  {
   "cell_type": "code",
   "execution_count": 11,
   "metadata": {},
   "outputs": [
    {
     "data": {
      "text/plain": [
       "color (generic function with 2 methods)"
      ]
     },
     "execution_count": 11,
     "metadata": {},
     "output_type": "execute_result"
    }
   ],
   "source": [
    "function color(i, j) \n",
    "    u = i / image_width\n",
    "    v = j / image_height\n",
    "    r = RayM.Ray(origin, lower_left_corner + u * horizontal + v * vertical)\n",
    "    color(r)\n",
    "end"
   ]
  },
  {
   "cell_type": "code",
   "execution_count": 12,
   "metadata": {},
   "outputs": [
    {
     "data": {
      "image/png": "[encoded data removed]",
      "text/plain": [
       "100×200 Array{RGB{Float64},2} with eltype RGB{Float64}:\n",
       " RGB{Float64}(0.647254,0.788352,1.0)  …  RGB{Float64}(0.647938,0.788763,1.0)\n",
       " RGB{Float64}(0.648971,0.789382,1.0)     RGB{Float64}(0.649647,0.789788,1.0)\n",
       " RGB{Float64}(0.650704,0.790423,1.0)     RGB{Float64}(0.651374,0.790824,1.0)\n",
       " RGB{Float64}(0.652455,0.791473,1.0)     RGB{Float64}(0.653117,0.79187,1.0)\n",
       " RGB{Float64}(0.654223,0.792534,1.0)     RGB{Float64}(0.654877,0.792926,1.0)\n",
       " RGB{Float64}(0.656008,0.793605,1.0)  …  RGB{Float64}(0.656654,0.793993,1.0)\n",
       " RGB{Float64}(0.65781,0.794686,1.0)      RGB{Float64}(0.658448,0.795069,1.0)\n",
       " RGB{Float64}(0.659629,0.795777,1.0)     RGB{Float64}(0.660258,0.796155,1.0)\n",
       " RGB{Float64}(0.661464,0.796878,1.0)     RGB{Float64}(0.662084,0.79725,1.0)\n",
       " RGB{Float64}(0.663316,0.79799,1.0)      RGB{Float64}(0.663926,0.798356,1.0)\n",
       " RGB{Float64}(0.665184,0.79911,1.0)   …  RGB{Float64}(0.665785,0.799471,1.0)\n",
       " RGB{Float64}(0.667069,0.800241,1.0)     RGB{Float64}(0.667659,0.800596,1.0)\n",
       " RGB{Float64}(0.668969,0.801381,1.0)     RGB{Float64}(0.669549,0.80173,1.0)\n",
       " ⋮                                    ⋱  \n",
       " RGB{Float64}(0.831031,0.898619,1.0)     RGB{Float64}(0.830451,0.89827,1.0)\n",
       " RGB{Float64}(0.832931,0.899759,1.0)     RGB{Float64}(0.832341,0.899404,1.0)\n",
       " RGB{Float64}(0.834816,0.90089,1.0)   …  RGB{Float64}(0.834215,0.900529,1.0)\n",
       " RGB{Float64}(0.836684,0.90201,1.0)      RGB{Float64}(0.836074,0.901644,1.0)\n",
       " RGB{Float64}(0.838536,0.903122,1.0)     RGB{Float64}(0.837916,0.90275,1.0)\n",
       " RGB{Float64}(0.840371,0.904223,1.0)     RGB{Float64}(0.839742,0.903845,1.0)\n",
       " RGB{Float64}(0.84219,0.905314,1.0)      RGB{Float64}(0.841552,0.904931,1.0)\n",
       " RGB{Float64}(0.843992,0.906395,1.0)  …  RGB{Float64}(0.843346,0.906007,1.0)\n",
       " RGB{Float64}(0.845777,0.907466,1.0)     RGB{Float64}(0.845123,0.907074,1.0)\n",
       " RGB{Float64}(0.847545,0.908527,1.0)     RGB{Float64}(0.846883,0.90813,1.0)\n",
       " RGB{Float64}(0.849296,0.909577,1.0)     RGB{Float64}(0.848626,0.909176,1.0)\n",
       " RGB{Float64}(0.851029,0.910618,1.0)     RGB{Float64}(0.850353,0.910212,1.0)"
      ]
     },
     "execution_count": 12,
     "metadata": {},
     "output_type": "execute_result"
    }
   ],
   "source": [
    "render()"
   ]
  },
  {
   "cell_type": "markdown",
   "metadata": {},
   "source": [
    "# 5. Adding a Sphere"
   ]
  },
  {
   "cell_type": "code",
   "execution_count": 13,
   "metadata": {},
   "outputs": [
    {
     "data": {
      "text/plain": [
       "hit_sphere (generic function with 1 method)"
      ]
     },
     "execution_count": 13,
     "metadata": {},
     "output_type": "execute_result"
    }
   ],
   "source": [
    "function hit_sphere(center, radius, r)\n",
    "    oc = r.origin - center\n",
    "    a = dot(r.direction, r.direction)\n",
    "    b = 2 * dot(oc, r.direction)\n",
    "    c = dot(oc, oc) - radius * radius\n",
    "    discriminant = b * b - 4 * a * c\n",
    "    discriminant > 0\n",
    "end"
   ]
  },
  {
   "cell_type": "code",
   "execution_count": 14,
   "metadata": {},
   "outputs": [
    {
     "data": {
      "text/plain": [
       "color (generic function with 2 methods)"
      ]
     },
     "execution_count": 14,
     "metadata": {},
     "output_type": "execute_result"
    }
   ],
   "source": [
    "function color(r::RayM.Ray)\n",
    "    if hit_sphere([0, 0, -1], 0.5, r)\n",
    "        return [1, 0, 0]\n",
    "    end\n",
    "    unit_direction = normalize(r.direction)\n",
    "    t = 0.5 * (y(unit_direction) + 1)\n",
    "    (1 - t) * [1, 1, 1] + t * [0.5, 0.7, 1]\n",
    "end"
   ]
  },
  {
   "cell_type": "code",
   "execution_count": 15,
   "metadata": {},
   "outputs": [
    {
     "data": {
      "image/png": "[encoded data removed]",
      "text/plain": [
       "100×200 Array{RGB,2} with eltype RGB:\n",
       " RGB{Float64}(0.647254,0.788352,1.0)  …  RGB{Float64}(0.647938,0.788763,1.0)\n",
       " RGB{Float64}(0.648971,0.789382,1.0)     RGB{Float64}(0.649647,0.789788,1.0)\n",
       " RGB{Float64}(0.650704,0.790423,1.0)     RGB{Float64}(0.651374,0.790824,1.0)\n",
       " RGB{Float64}(0.652455,0.791473,1.0)     RGB{Float64}(0.653117,0.79187,1.0)\n",
       " RGB{Float64}(0.654223,0.792534,1.0)     RGB{Float64}(0.654877,0.792926,1.0)\n",
       " RGB{Float64}(0.656008,0.793605,1.0)  …  RGB{Float64}(0.656654,0.793993,1.0)\n",
       " RGB{Float64}(0.65781,0.794686,1.0)      RGB{Float64}(0.658448,0.795069,1.0)\n",
       " RGB{Float64}(0.659629,0.795777,1.0)     RGB{Float64}(0.660258,0.796155,1.0)\n",
       " RGB{Float64}(0.661464,0.796878,1.0)     RGB{Float64}(0.662084,0.79725,1.0)\n",
       " RGB{Float64}(0.663316,0.79799,1.0)      RGB{Float64}(0.663926,0.798356,1.0)\n",
       " RGB{Float64}(0.665184,0.79911,1.0)   …  RGB{Float64}(0.665785,0.799471,1.0)\n",
       " RGB{Float64}(0.667069,0.800241,1.0)     RGB{Float64}(0.667659,0.800596,1.0)\n",
       " RGB{Float64}(0.668969,0.801381,1.0)     RGB{Float64}(0.669549,0.80173,1.0)\n",
       " ⋮                                    ⋱  \n",
       " RGB{Float64}(0.831031,0.898619,1.0)     RGB{Float64}(0.830451,0.89827,1.0)\n",
       " RGB{Float64}(0.832931,0.899759,1.0)     RGB{Float64}(0.832341,0.899404,1.0)\n",
       " RGB{Float64}(0.834816,0.90089,1.0)   …  RGB{Float64}(0.834215,0.900529,1.0)\n",
       " RGB{Float64}(0.836684,0.90201,1.0)      RGB{Float64}(0.836074,0.901644,1.0)\n",
       " RGB{Float64}(0.838536,0.903122,1.0)     RGB{Float64}(0.837916,0.90275,1.0)\n",
       " RGB{Float64}(0.840371,0.904223,1.0)     RGB{Float64}(0.839742,0.903845,1.0)\n",
       " RGB{Float64}(0.84219,0.905314,1.0)      RGB{Float64}(0.841552,0.904931,1.0)\n",
       " RGB{Float64}(0.843992,0.906395,1.0)  …  RGB{Float64}(0.843346,0.906007,1.0)\n",
       " RGB{Float64}(0.845777,0.907466,1.0)     RGB{Float64}(0.845123,0.907074,1.0)\n",
       " RGB{Float64}(0.847545,0.908527,1.0)     RGB{Float64}(0.846883,0.90813,1.0)\n",
       " RGB{Float64}(0.849296,0.909577,1.0)     RGB{Float64}(0.848626,0.909176,1.0)\n",
       " RGB{Float64}(0.851029,0.910618,1.0)     RGB{Float64}(0.850353,0.910212,1.0)"
      ]
     },
     "execution_count": 15,
     "metadata": {},
     "output_type": "execute_result"
    }
   ],
   "source": [
    "render()"
   ]
  },
  {
   "cell_type": "markdown",
   "metadata": {},
   "source": [
    "# 6. Surface Normals and Multiple Objects"
   ]
  },
  {
   "cell_type": "code",
   "execution_count": 16,
   "metadata": {},
   "outputs": [
    {
     "data": {
      "text/plain": [
       "hit_sphere (generic function with 1 method)"
      ]
     },
     "execution_count": 16,
     "metadata": {},
     "output_type": "execute_result"
    }
   ],
   "source": [
    "function hit_sphere(center, radius, r)\n",
    "    oc = r.origin - center\n",
    "    a = dot(r.direction, r.direction)\n",
    "    b = 2 * dot(oc, r.direction)\n",
    "    c = dot(oc, oc) - radius * radius\n",
    "    discriminant = b * b - 4 * a * c\n",
    "    if discriminant < 0\n",
    "        -1\n",
    "    else\n",
    "        (-b - sqrt(discriminant)) / (2 * a)\n",
    "    end\n",
    "end"
   ]
  },
  {
   "cell_type": "code",
   "execution_count": 17,
   "metadata": {},
   "outputs": [
    {
     "data": {
      "text/plain": [
       "color (generic function with 2 methods)"
      ]
     },
     "execution_count": 17,
     "metadata": {},
     "output_type": "execute_result"
    }
   ],
   "source": [
    "function color(r::RayM.Ray)\n",
    "    t = hit_sphere([0, 0, -1], 0.5, r)\n",
    "    if t > 0\n",
    "        n = normalize(at(r, t) - [0, 0, -1])\n",
    "        return 0.5 * (n .+ 1)\n",
    "    end\n",
    "    unit_direction = normalize(r.direction)\n",
    "    t = 0.5 * (y(unit_direction) + 1)\n",
    "    (1 - t) * [1, 1, 1] + t * [0.5, 0.7, 1]\n",
    "end"
   ]
  },
  {
   "cell_type": "code",
   "execution_count": 18,
   "metadata": {},
   "outputs": [
    {
     "data": {
      "image/png": "[encoded data removed]",
      "text/plain": [
       "100×200 Array{RGB{Float64},2} with eltype RGB{Float64}:\n",
       " RGB{Float64}(0.647254,0.788352,1.0)  …  RGB{Float64}(0.647938,0.788763,1.0)\n",
       " RGB{Float64}(0.648971,0.789382,1.0)     RGB{Float64}(0.649647,0.789788,1.0)\n",
       " RGB{Float64}(0.650704,0.790423,1.0)     RGB{Float64}(0.651374,0.790824,1.0)\n",
       " RGB{Float64}(0.652455,0.791473,1.0)     RGB{Float64}(0.653117,0.79187,1.0)\n",
       " RGB{Float64}(0.654223,0.792534,1.0)     RGB{Float64}(0.654877,0.792926,1.0)\n",
       " RGB{Float64}(0.656008,0.793605,1.0)  …  RGB{Float64}(0.656654,0.793993,1.0)\n",
       " RGB{Float64}(0.65781,0.794686,1.0)      RGB{Float64}(0.658448,0.795069,1.0)\n",
       " RGB{Float64}(0.659629,0.795777,1.0)     RGB{Float64}(0.660258,0.796155,1.0)\n",
       " RGB{Float64}(0.661464,0.796878,1.0)     RGB{Float64}(0.662084,0.79725,1.0)\n",
       " RGB{Float64}(0.663316,0.79799,1.0)      RGB{Float64}(0.663926,0.798356,1.0)\n",
       " RGB{Float64}(0.665184,0.79911,1.0)   …  RGB{Float64}(0.665785,0.799471,1.0)\n",
       " RGB{Float64}(0.667069,0.800241,1.0)     RGB{Float64}(0.667659,0.800596,1.0)\n",
       " RGB{Float64}(0.668969,0.801381,1.0)     RGB{Float64}(0.669549,0.80173,1.0)\n",
       " ⋮                                    ⋱  \n",
       " RGB{Float64}(0.831031,0.898619,1.0)     RGB{Float64}(0.830451,0.89827,1.0)\n",
       " RGB{Float64}(0.832931,0.899759,1.0)     RGB{Float64}(0.832341,0.899404,1.0)\n",
       " RGB{Float64}(0.834816,0.90089,1.0)   …  RGB{Float64}(0.834215,0.900529,1.0)\n",
       " RGB{Float64}(0.836684,0.90201,1.0)      RGB{Float64}(0.836074,0.901644,1.0)\n",
       " RGB{Float64}(0.838536,0.903122,1.0)     RGB{Float64}(0.837916,0.90275,1.0)\n",
       " RGB{Float64}(0.840371,0.904223,1.0)     RGB{Float64}(0.839742,0.903845,1.0)\n",
       " RGB{Float64}(0.84219,0.905314,1.0)      RGB{Float64}(0.841552,0.904931,1.0)\n",
       " RGB{Float64}(0.843992,0.906395,1.0)  …  RGB{Float64}(0.843346,0.906007,1.0)\n",
       " RGB{Float64}(0.845777,0.907466,1.0)     RGB{Float64}(0.845123,0.907074,1.0)\n",
       " RGB{Float64}(0.847545,0.908527,1.0)     RGB{Float64}(0.846883,0.90813,1.0)\n",
       " RGB{Float64}(0.849296,0.909577,1.0)     RGB{Float64}(0.848626,0.909176,1.0)\n",
       " RGB{Float64}(0.851029,0.910618,1.0)     RGB{Float64}(0.850353,0.910212,1.0)"
      ]
     },
     "execution_count": 18,
     "metadata": {},
     "output_type": "execute_result"
    }
   ],
   "source": [
    "render()"
   ]
  },
  {
   "cell_type": "code",
   "execution_count": 19,
   "metadata": {},
   "outputs": [
    {
     "data": {
      "text/plain": [
       "hit_sphere (generic function with 1 method)"
      ]
     },
     "execution_count": 19,
     "metadata": {},
     "output_type": "execute_result"
    }
   ],
   "source": [
    "function hit_sphere(center, radius, r)\n",
    "    oc = r.origin - center\n",
    "    a = norm(r.direction)^2\n",
    "    half_b = dot(oc, r.direction)\n",
    "    c = norm(oc)^2 - radius * radius\n",
    "    discriminant = half_b * half_b - a * c\n",
    "    \n",
    "    if discriminant < 0\n",
    "        -1\n",
    "    else\n",
    "        (-half_b - sqrt(discriminant)) / a\n",
    "    end\n",
    "end"
   ]
  },
  {
   "cell_type": "code",
   "execution_count": 20,
   "metadata": {},
   "outputs": [
    {
     "data": {
      "image/png": "[encoded data removed]",
      "text/plain": [
       "100×200 Array{RGB{Float64},2} with eltype RGB{Float64}:\n",
       " RGB{Float64}(0.647254,0.788352,1.0)  …  RGB{Float64}(0.647938,0.788763,1.0)\n",
       " RGB{Float64}(0.648971,0.789382,1.0)     RGB{Float64}(0.649647,0.789788,1.0)\n",
       " RGB{Float64}(0.650704,0.790423,1.0)     RGB{Float64}(0.651374,0.790824,1.0)\n",
       " RGB{Float64}(0.652455,0.791473,1.0)     RGB{Float64}(0.653117,0.79187,1.0)\n",
       " RGB{Float64}(0.654223,0.792534,1.0)     RGB{Float64}(0.654877,0.792926,1.0)\n",
       " RGB{Float64}(0.656008,0.793605,1.0)  …  RGB{Float64}(0.656654,0.793993,1.0)\n",
       " RGB{Float64}(0.65781,0.794686,1.0)      RGB{Float64}(0.658448,0.795069,1.0)\n",
       " RGB{Float64}(0.659629,0.795777,1.0)     RGB{Float64}(0.660258,0.796155,1.0)\n",
       " RGB{Float64}(0.661464,0.796878,1.0)     RGB{Float64}(0.662084,0.79725,1.0)\n",
       " RGB{Float64}(0.663316,0.79799,1.0)      RGB{Float64}(0.663926,0.798356,1.0)\n",
       " RGB{Float64}(0.665184,0.79911,1.0)   …  RGB{Float64}(0.665785,0.799471,1.0)\n",
       " RGB{Float64}(0.667069,0.800241,1.0)     RGB{Float64}(0.667659,0.800596,1.0)\n",
       " RGB{Float64}(0.668969,0.801381,1.0)     RGB{Float64}(0.669549,0.80173,1.0)\n",
       " ⋮                                    ⋱  \n",
       " RGB{Float64}(0.831031,0.898619,1.0)     RGB{Float64}(0.830451,0.89827,1.0)\n",
       " RGB{Float64}(0.832931,0.899759,1.0)     RGB{Float64}(0.832341,0.899404,1.0)\n",
       " RGB{Float64}(0.834816,0.90089,1.0)   …  RGB{Float64}(0.834215,0.900529,1.0)\n",
       " RGB{Float64}(0.836684,0.90201,1.0)      RGB{Float64}(0.836074,0.901644,1.0)\n",
       " RGB{Float64}(0.838536,0.903122,1.0)     RGB{Float64}(0.837916,0.90275,1.0)\n",
       " RGB{Float64}(0.840371,0.904223,1.0)     RGB{Float64}(0.839742,0.903845,1.0)\n",
       " RGB{Float64}(0.84219,0.905314,1.0)      RGB{Float64}(0.841552,0.904931,1.0)\n",
       " RGB{Float64}(0.843992,0.906395,1.0)  …  RGB{Float64}(0.843346,0.906007,1.0)\n",
       " RGB{Float64}(0.845777,0.907466,1.0)     RGB{Float64}(0.845123,0.907074,1.0)\n",
       " RGB{Float64}(0.847545,0.908527,1.0)     RGB{Float64}(0.846883,0.90813,1.0)\n",
       " RGB{Float64}(0.849296,0.909577,1.0)     RGB{Float64}(0.848626,0.909176,1.0)\n",
       " RGB{Float64}(0.851029,0.910618,1.0)     RGB{Float64}(0.850353,0.910212,1.0)"
      ]
     },
     "execution_count": 20,
     "metadata": {},
     "output_type": "execute_result"
    }
   ],
   "source": [
    "render()"
   ]
  },
  {
   "cell_type": "code",
   "execution_count": 21,
   "metadata": {},
   "outputs": [
    {
     "data": {
      "text/plain": [
       "Main.HitRecordM"
      ]
     },
     "execution_count": 21,
     "metadata": {},
     "output_type": "execute_result"
    }
   ],
   "source": [
    "module HitRecordM\n",
    "mutable struct HitRecord\n",
    "    p\n",
    "    normal\n",
    "    t\n",
    "    front_face\n",
    "    \n",
    "    HitRecord() = new([0, 0, 0], [0, 0, 0], 0, false)\n",
    "end\n",
    "end"
   ]
  },
  {
   "cell_type": "code",
   "execution_count": 22,
   "metadata": {},
   "outputs": [
    {
     "data": {
      "text/plain": [
       "set_face_normal (generic function with 1 method)"
      ]
     },
     "execution_count": 22,
     "metadata": {},
     "output_type": "execute_result"
    }
   ],
   "source": [
    "function set_face_normal(rec::HitRecordM.HitRecord, r, outward_normal)\n",
    "    rec.front_face = dot(r.direction, outward_normal) < 0\n",
    "    rec.normal = if rec.front_face\n",
    "        outward_normal \n",
    "    else\n",
    "        -outward_normal\n",
    "    end\n",
    "end"
   ]
  },
  {
   "cell_type": "code",
   "execution_count": 23,
   "metadata": {},
   "outputs": [],
   "source": [
    "abstract type Hittable end"
   ]
  },
  {
   "cell_type": "code",
   "execution_count": 24,
   "metadata": {},
   "outputs": [
    {
     "data": {
      "text/plain": [
       "Main.SphereM"
      ]
     },
     "execution_count": 24,
     "metadata": {},
     "output_type": "execute_result"
    }
   ],
   "source": [
    "module SphereM\n",
    "struct Sphere <: Main.Hittable\n",
    "    center\n",
    "    radius\n",
    "end\n",
    "end"
   ]
  },
  {
   "cell_type": "code",
   "execution_count": 25,
   "metadata": {},
   "outputs": [
    {
     "data": {
      "text/plain": [
       "hit (generic function with 1 method)"
      ]
     },
     "execution_count": 25,
     "metadata": {},
     "output_type": "execute_result"
    }
   ],
   "source": [
    "function hit(sphere::SphereM.Sphere, r, t_min, t_max, rec)\n",
    "    oc = r.origin - sphere.center\n",
    "    a = norm(r.direction)^2\n",
    "    half_b = dot(oc, r.direction)\n",
    "    c = norm(oc)^2 - sphere.radius * sphere.radius\n",
    "    discriminant = half_b * half_b - a * c\n",
    "    \n",
    "    if discriminant > 0\n",
    "        root = sqrt(discriminant)\n",
    "        temp = (-half_b - root) / a\n",
    "        if t_min < temp < t_max \n",
    "            rec.t = temp\n",
    "            rec.p = at(r, rec.t)\n",
    "            outward_normal = (rec.p - sphere.center) / sphere.radius\n",
    "            set_face_normal(rec, r, outward_normal)\n",
    "            return true\n",
    "        end\n",
    "        temp = (-half_b + root) / a\n",
    "        if t_min < temp < t_max\n",
    "            rec.t = temp\n",
    "            rec.p = at(r, rec.t)\n",
    "            outward_normal = (rec.p - sphere.center) / sphere.radius\n",
    "            set_face_normal(rec, r, outward_normal)\n",
    "            return true\n",
    "        end\n",
    "    end\n",
    "    false\n",
    "end"
   ]
  },
  {
   "cell_type": "code",
   "execution_count": 26,
   "metadata": {},
   "outputs": [
    {
     "data": {
      "text/plain": [
       "Main.HittableListM"
      ]
     },
     "execution_count": 26,
     "metadata": {},
     "output_type": "execute_result"
    }
   ],
   "source": [
    "module HittableListM\n",
    "struct HittableList <: Main.Hittable\n",
    "    objects\n",
    "end\n",
    "end"
   ]
  },
  {
   "cell_type": "code",
   "execution_count": 27,
   "metadata": {},
   "outputs": [
    {
     "data": {
      "text/plain": [
       "hit (generic function with 2 methods)"
      ]
     },
     "execution_count": 27,
     "metadata": {},
     "output_type": "execute_result"
    }
   ],
   "source": [
    "function hit(hittable_list::HittableListM.HittableList, r, t_min, t_max, rec)\n",
    "    temp_rec = HitRecordM.HitRecord()\n",
    "    hit_anything = false\n",
    "    closest_so_far = t_max\n",
    "    \n",
    "    for object in hittable_list.objects\n",
    "        if hit(object, r, t_min, closest_so_far, temp_rec)\n",
    "            hit_anything = true\n",
    "            closest_so_far = temp_rec.t\n",
    "            rec.p = temp_rec.p\n",
    "            rec.normal = temp_rec.normal\n",
    "            rec.t = temp_rec.t\n",
    "            rec.front_face = temp_rec.front_face\n",
    "        end\n",
    "    end\n",
    "    \n",
    "    hit_anything\n",
    "end"
   ]
  },
  {
   "cell_type": "code",
   "execution_count": 28,
   "metadata": {},
   "outputs": [
    {
     "data": {
      "text/plain": [
       "color (generic function with 3 methods)"
      ]
     },
     "execution_count": 28,
     "metadata": {},
     "output_type": "execute_result"
    }
   ],
   "source": [
    "function color(r::RayM.Ray, world::Hittable)\n",
    "    rec = HitRecordM.HitRecord()\n",
    "    if hit(world, r, 0, Inf, rec)\n",
    "        return 0.5 * (rec.normal .+ 1)\n",
    "    end\n",
    "    unit_direction = normalize(r.direction)\n",
    "    t = 0.5 * (y(unit_direction) + 1)\n",
    "    (1 - t) * [1, 1, 1] + t * [0.5, 0.7, 1]\n",
    "end"
   ]
  },
  {
   "cell_type": "code",
   "execution_count": 29,
   "metadata": {},
   "outputs": [
    {
     "data": {
      "text/plain": [
       "Main.HittableListM.HittableList(Main.SphereM.Sphere[Main.SphereM.Sphere([0, 0, -1], 0.5), Main.SphereM.Sphere([0.0, -100.5, -1.0], 100)])"
      ]
     },
     "execution_count": 29,
     "metadata": {},
     "output_type": "execute_result"
    }
   ],
   "source": [
    "world = HittableListM.HittableList([\n",
    "        SphereM.Sphere([0, 0, -1], 0.5), \n",
    "        SphereM.Sphere([0, -100.5, -1], 100)\n",
    "        ])"
   ]
  },
  {
   "cell_type": "code",
   "execution_count": 30,
   "metadata": {},
   "outputs": [
    {
     "data": {
      "text/plain": [
       "color (generic function with 3 methods)"
      ]
     },
     "execution_count": 30,
     "metadata": {},
     "output_type": "execute_result"
    }
   ],
   "source": [
    "function color(i, j) \n",
    "    u = i / image_width\n",
    "    v = j / image_height\n",
    "    r = RayM.Ray(origin, lower_left_corner + u * horizontal + v * vertical)\n",
    "    color(r, world)\n",
    "end"
   ]
  },
  {
   "cell_type": "code",
   "execution_count": 31,
   "metadata": {},
   "outputs": [
    {
     "data": {
      "image/png": "[encoded data removed]",
      "text/plain": [
       "100×200 Array{RGB{Float64},2} with eltype RGB{Float64}:\n",
       " RGB{Float64}(0.647254,0.788352,1.0)       …  RGB{Float64}(0.647938,0.788763,1.0)\n",
       " RGB{Float64}(0.648971,0.789382,1.0)          RGB{Float64}(0.649647,0.789788,1.0)\n",
       " RGB{Float64}(0.650704,0.790423,1.0)          RGB{Float64}(0.651374,0.790824,1.0)\n",
       " RGB{Float64}(0.652455,0.791473,1.0)          RGB{Float64}(0.653117,0.79187,1.0)\n",
       " RGB{Float64}(0.654223,0.792534,1.0)          RGB{Float64}(0.654877,0.792926,1.0)\n",
       " RGB{Float64}(0.656008,0.793605,1.0)       …  RGB{Float64}(0.656654,0.793993,1.0)\n",
       " RGB{Float64}(0.65781,0.794686,1.0)           RGB{Float64}(0.658448,0.795069,1.0)\n",
       " RGB{Float64}(0.659629,0.795777,1.0)          RGB{Float64}(0.660258,0.796155,1.0)\n",
       " RGB{Float64}(0.661464,0.796878,1.0)          RGB{Float64}(0.662084,0.79725,1.0)\n",
       " RGB{Float64}(0.663316,0.79799,1.0)           RGB{Float64}(0.663926,0.798356,1.0)\n",
       " RGB{Float64}(0.665184,0.79911,1.0)        …  RGB{Float64}(0.665785,0.799471,1.0)\n",
       " RGB{Float64}(0.667069,0.800241,1.0)          RGB{Float64}(0.667659,0.800596,1.0)\n",
       " RGB{Float64}(0.668969,0.801381,1.0)          RGB{Float64}(0.669549,0.80173,1.0)\n",
       " ⋮                                         ⋱  \n",
       " RGB{Float64}(0.493365,0.999953,0.501649)     RGB{Float64}(0.506704,0.999952,0.501648)\n",
       " RGB{Float64}(0.49354,0.999955,0.501738)      RGB{Float64}(0.506527,0.999954,0.501736)\n",
       " RGB{Float64}(0.493706,0.999957,0.501821)  …  RGB{Float64}(0.506359,0.999956,0.50182)\n",
       " RGB{Float64}(0.493864,0.999959,0.501901)     RGB{Float64}(0.5062,0.999958,0.5019)\n",
       " RGB{Float64}(0.494013,0.99996,0.501976)      RGB{Float64}(0.506049,0.99996,0.501976)\n",
       " RGB{Float64}(0.494156,0.999962,0.502048)     RGB{Float64}(0.505905,0.999961,0.502048)\n",
       " RGB{Float64}(0.494292,0.999963,0.502117)     RGB{Float64}(0.505768,0.999962,0.502116)\n",
       " RGB{Float64}(0.494421,0.999964,0.502182)  …  RGB{Float64}(0.505637,0.999963,0.502182)\n",
       " RGB{Float64}(0.494545,0.999965,0.502245)     RGB{Float64}(0.505512,0.999965,0.502244)\n",
       " RGB{Float64}(0.494663,0.999966,0.502304)     RGB{Float64}(0.505392,0.999966,0.502304)\n",
       " RGB{Float64}(0.494776,0.999967,0.502362)     RGB{Float64}(0.505278,0.999967,0.502361)\n",
       " RGB{Float64}(0.494884,0.999968,0.502416)     RGB{Float64}(0.505168,0.999967,0.502416)"
      ]
     },
     "execution_count": 31,
     "metadata": {},
     "output_type": "execute_result"
    }
   ],
   "source": [
    "render()"
   ]
  },
  {
   "cell_type": "markdown",
   "metadata": {},
   "source": [
    "# 7. Antialiasing"
   ]
  },
  {
   "cell_type": "code",
   "execution_count": 32,
   "metadata": {},
   "outputs": [
    {
     "data": {
      "text/plain": [
       "Main.CameraM"
      ]
     },
     "execution_count": 32,
     "metadata": {},
     "output_type": "execute_result"
    }
   ],
   "source": [
    "module CameraM\n",
    "struct Camera\n",
    "    origin\n",
    "    lower_left_corner\n",
    "    horizontal\n",
    "    vertical\n",
    "    \n",
    "    Camera() = new([0, 0, 0], [-2, -1, -1], [4, 0, 0], [0, 2, 0])\n",
    "end\n",
    "end"
   ]
  },
  {
   "cell_type": "code",
   "execution_count": 33,
   "metadata": {},
   "outputs": [
    {
     "data": {
      "text/plain": [
       "get_ray (generic function with 1 method)"
      ]
     },
     "execution_count": 33,
     "metadata": {},
     "output_type": "execute_result"
    }
   ],
   "source": [
    "get_ray(camera::CameraM.Camera, u, v) = RayM.Ray(camera.origin, camera.lower_left_corner + u * camera.horizontal + v * camera.vertical - camera.origin)"
   ]
  },
  {
   "cell_type": "code",
   "execution_count": 34,
   "metadata": {},
   "outputs": [],
   "source": [
    "samples_per_pixel = 100;"
   ]
  },
  {
   "cell_type": "code",
   "execution_count": 35,
   "metadata": {},
   "outputs": [
    {
     "data": {
      "text/plain": [
       "Main.CameraM.Camera([0, 0, 0], [-2, -1, -1], [4, 0, 0], [0, 2, 0])"
      ]
     },
     "execution_count": 35,
     "metadata": {},
     "output_type": "execute_result"
    }
   ],
   "source": [
    "cam = CameraM.Camera()"
   ]
  },
  {
   "cell_type": "code",
   "execution_count": 36,
   "metadata": {},
   "outputs": [
    {
     "data": {
      "text/plain": [
       "color (generic function with 3 methods)"
      ]
     },
     "execution_count": 36,
     "metadata": {},
     "output_type": "execute_result"
    }
   ],
   "source": [
    "function color(i, j) \n",
    "    c = [0, 0, 0]\n",
    "    for _ in 1:samples_per_pixel\n",
    "        u = (i + rand()) / image_width\n",
    "        v = (j + rand()) / image_height\n",
    "        r = get_ray(cam, u, v)\n",
    "        c += color(r, world)\n",
    "    end\n",
    "    c / samples_per_pixel\n",
    "end"
   ]
  },
  {
   "cell_type": "code",
   "execution_count": 37,
   "metadata": {},
   "outputs": [
    {
     "data": {
      "image/png": "[encoded data removed]",
      "text/plain": [
       "100×200 Array{RGB{Float64},2} with eltype RGB{Float64}:\n",
       " RGB{Float64}(0.646083,0.78765,1.0)        …  RGB{Float64}(0.647487,0.788492,1.0)\n",
       " RGB{Float64}(0.647783,0.78867,1.0)           RGB{Float64}(0.649066,0.78944,1.0)\n",
       " RGB{Float64}(0.64956,0.789736,1.0)           RGB{Float64}(0.650761,0.790457,1.0)\n",
       " RGB{Float64}(0.651243,0.790746,1.0)          RGB{Float64}(0.652577,0.791546,1.0)\n",
       " RGB{Float64}(0.653068,0.791841,1.0)          RGB{Float64}(0.654268,0.792561,1.0)\n",
       " RGB{Float64}(0.65483,0.792898,1.0)        …  RGB{Float64}(0.656077,0.793646,1.0)\n",
       " RGB{Float64}(0.656585,0.793951,1.0)          RGB{Float64}(0.657911,0.794747,1.0)\n",
       " RGB{Float64}(0.658343,0.795006,1.0)          RGB{Float64}(0.659653,0.795792,1.0)\n",
       " RGB{Float64}(0.660161,0.796097,1.0)          RGB{Float64}(0.661487,0.796892,1.0)\n",
       " RGB{Float64}(0.662184,0.797311,1.0)          RGB{Float64}(0.663243,0.797946,1.0)\n",
       " RGB{Float64}(0.664097,0.798458,1.0)       …  RGB{Float64}(0.665152,0.799091,1.0)\n",
       " RGB{Float64}(0.665873,0.799524,1.0)          RGB{Float64}(0.666958,0.800175,1.0)\n",
       " RGB{Float64}(0.667766,0.800659,1.0)          RGB{Float64}(0.668873,0.801324,1.0)\n",
       " ⋮                                         ⋱  \n",
       " RGB{Float64}(0.493294,0.999952,0.501597)     RGB{Float64}(0.506837,0.999951,0.501599)\n",
       " RGB{Float64}(0.493482,0.999955,0.501692)     RGB{Float64}(0.50665,0.999953,0.501692)\n",
       " RGB{Float64}(0.493657,0.999957,0.501779)  …  RGB{Float64}(0.506481,0.999955,0.501776)\n",
       " RGB{Float64}(0.493824,0.999958,0.501863)     RGB{Float64}(0.506311,0.999957,0.50186)\n",
       " RGB{Float64}(0.493966,0.99996,0.501937)      RGB{Float64}(0.506156,0.999958,0.501936)\n",
       " RGB{Float64}(0.494113,0.999961,0.502012)     RGB{Float64}(0.506005,0.99996,0.502013)\n",
       " RGB{Float64}(0.494256,0.999963,0.502085)     RGB{Float64}(0.505861,0.999961,0.502084)\n",
       " RGB{Float64}(0.494384,0.999964,0.502151)  …  RGB{Float64}(0.505741,0.999962,0.502144)\n",
       " RGB{Float64}(0.494513,0.999965,0.502213)     RGB{Float64}(0.505604,0.999964,0.502213)\n",
       " RGB{Float64}(0.494632,0.999966,0.502275)     RGB{Float64}(0.505486,0.999965,0.502272)\n",
       " RGB{Float64}(0.494748,0.999967,0.502334)     RGB{Float64}(0.505365,0.999966,0.502331)\n",
       " RGB{Float64}(0.494856,0.999968,0.502388)     RGB{Float64}(0.50525,0.999967,0.502388)"
      ]
     },
     "execution_count": 37,
     "metadata": {},
     "output_type": "execute_result"
    }
   ],
   "source": [
    "render()"
   ]
  },
  {
   "cell_type": "markdown",
   "metadata": {},
   "source": [
    "# 8. Diffuse Materials"
   ]
  },
  {
   "cell_type": "code",
   "execution_count": 38,
   "metadata": {},
   "outputs": [
    {
     "data": {
      "text/plain": [
       "random_in_unit_sphere (generic function with 1 method)"
      ]
     },
     "execution_count": 38,
     "metadata": {},
     "output_type": "execute_result"
    }
   ],
   "source": [
    "function random_in_unit_sphere()\n",
    "    while true\n",
    "        p = rand(-1:eps():1, 3)\n",
    "        if norm(p)^2 > 1\n",
    "            continue\n",
    "        end\n",
    "        return p\n",
    "    end\n",
    "end"
   ]
  },
  {
   "cell_type": "code",
   "execution_count": 39,
   "metadata": {},
   "outputs": [
    {
     "data": {
      "text/plain": [
       "color (generic function with 4 methods)"
      ]
     },
     "execution_count": 39,
     "metadata": {},
     "output_type": "execute_result"
    }
   ],
   "source": [
    "function color(r::RayM.Ray, world::Hittable, depth)\n",
    "    rec = HitRecordM.HitRecord()\n",
    "    \n",
    "    if depth <= 0\n",
    "        return [0, 0, 0]\n",
    "    end\n",
    "    \n",
    "    if hit(world, r, 0, Inf, rec)\n",
    "        target = rec.p + rec.normal + random_in_unit_sphere()\n",
    "        return 0.5 * color(RayM.Ray(rec.p, target - rec.p), world, depth - 1)\n",
    "    end\n",
    "    unit_direction = normalize(r.direction)\n",
    "    t = 0.5 * (y(unit_direction) + 1)\n",
    "    (1 - t) * [1, 1, 1] + t * [0.5, 0.7, 1]\n",
    "end"
   ]
  },
  {
   "cell_type": "code",
   "execution_count": 40,
   "metadata": {},
   "outputs": [],
   "source": [
    "max_depth = 50;"
   ]
  },
  {
   "cell_type": "code",
   "execution_count": 41,
   "metadata": {},
   "outputs": [
    {
     "data": {
      "text/plain": [
       "color (generic function with 4 methods)"
      ]
     },
     "execution_count": 41,
     "metadata": {},
     "output_type": "execute_result"
    }
   ],
   "source": [
    "function color(i, j) \n",
    "    c = [0, 0, 0]\n",
    "    for _ in 1:samples_per_pixel\n",
    "        u = (i + rand()) / image_width\n",
    "        v = (j + rand()) / image_height\n",
    "        r = get_ray(cam, u, v)\n",
    "        c += color(r, world, max_depth)\n",
    "    end\n",
    "    c / samples_per_pixel\n",
    "end"
   ]
  },
  {
   "cell_type": "code",
   "execution_count": 42,
   "metadata": {},
   "outputs": [
    {
     "data": {
      "image/png": "[encoded data removed]",
      "text/plain": [
       "100×200 Array{RGB{Float64},2} with eltype RGB{Float64}:\n",
       " RGB{Float64}(0.646046,0.787627,1.0)       …  RGB{Float64}(0.647496,0.788498,1.0)\n",
       " RGB{Float64}(0.647718,0.788631,1.0)          RGB{Float64}(0.649154,0.789492,1.0)\n",
       " RGB{Float64}(0.649514,0.789708,1.0)          RGB{Float64}(0.650848,0.790509,1.0)\n",
       " RGB{Float64}(0.651203,0.790722,1.0)          RGB{Float64}(0.652619,0.791572,1.0)\n",
       " RGB{Float64}(0.652952,0.791771,1.0)          RGB{Float64}(0.654327,0.792596,1.0)\n",
       " RGB{Float64}(0.654847,0.792908,1.0)       …  RGB{Float64}(0.65616,0.793696,1.0)\n",
       " RGB{Float64}(0.656588,0.793953,1.0)          RGB{Float64}(0.657857,0.794714,1.0)\n",
       " RGB{Float64}(0.658464,0.795078,1.0)          RGB{Float64}(0.659673,0.795804,1.0)\n",
       " RGB{Float64}(0.660276,0.796165,1.0)          RGB{Float64}(0.661509,0.796905,1.0)\n",
       " RGB{Float64}(0.662009,0.797205,1.0)          RGB{Float64}(0.663381,0.798029,1.0)\n",
       " RGB{Float64}(0.663942,0.798365,1.0)       …  RGB{Float64}(0.665252,0.799151,1.0)\n",
       " RGB{Float64}(0.665838,0.799503,1.0)          RGB{Float64}(0.666998,0.800199,1.0)\n",
       " RGB{Float64}(0.667645,0.800587,1.0)          RGB{Float64}(0.668943,0.801366,1.0)\n",
       " ⋮                                         ⋱  \n",
       " RGB{Float64}(0.234206,0.31065,0.425315)      RGB{Float64}(0.22523,0.2969,0.404405)\n",
       " RGB{Float64}(0.224682,0.297633,0.407059)     RGB{Float64}(0.236899,0.312968,0.427072)\n",
       " RGB{Float64}(0.202588,0.267206,0.364134)  …  RGB{Float64}(0.21357,0.282851,0.386773)\n",
       " RGB{Float64}(0.223768,0.299174,0.412283)     RGB{Float64}(0.220873,0.291455,0.397327)\n",
       " RGB{Float64}(0.22609,0.30061,0.41239)        RGB{Float64}(0.21444,0.284569,0.389761)\n",
       " RGB{Float64}(0.211892,0.282285,0.387875)     RGB{Float64}(0.22085,0.295104,0.406485)\n",
       " RGB{Float64}(0.187577,0.25062,0.345184)      RGB{Float64}(0.210433,0.280398,0.385345)\n",
       " RGB{Float64}(0.194962,0.26015,0.357933)   …  RGB{Float64}(0.195808,0.260981,0.35874)\n",
       " RGB{Float64}(0.210957,0.279187,0.381532)     RGB{Float64}(0.21762,0.288877,0.395763)\n",
       " RGB{Float64}(0.220132,0.292305,0.400563)     RGB{Float64}(0.219456,0.288069,0.39099)\n",
       " RGB{Float64}(0.216606,0.287218,0.393136)     RGB{Float64}(0.214507,0.285667,0.392407)\n",
       " RGB{Float64}(0.197069,0.263567,0.363315)     RGB{Float64}(0.227021,0.300311,0.410246)"
      ]
     },
     "execution_count": 42,
     "metadata": {},
     "output_type": "execute_result"
    }
   ],
   "source": [
    "render()"
   ]
  },
  {
   "cell_type": "code",
   "execution_count": 43,
   "metadata": {},
   "outputs": [
    {
     "data": {
      "text/plain": [
       "color (generic function with 4 methods)"
      ]
     },
     "execution_count": 43,
     "metadata": {},
     "output_type": "execute_result"
    }
   ],
   "source": [
    "function color(i, j) \n",
    "    c = [0, 0, 0]\n",
    "    for _ in 1:samples_per_pixel\n",
    "        u = (i + rand()) / image_width\n",
    "        v = (j + rand()) / image_height\n",
    "        r = get_ray(cam, u, v)\n",
    "        c += color(r, world, max_depth)\n",
    "    end\n",
    "    sqrt.(c / samples_per_pixel)\n",
    "end"
   ]
  },
  {
   "cell_type": "code",
   "execution_count": 44,
   "metadata": {},
   "outputs": [
    {
     "data": {
      "image/png": "[encoded data removed]",
      "text/plain": [
       "100×200 Array{RGB{Float64},2} with eltype RGB{Float64}:\n",
       " RGB{Float64}(0.803736,0.887466,1.0)       …  RGB{Float64}(0.804616,0.887944,1.0)\n",
       " RGB{Float64}(0.80486,0.888076,1.0)           RGB{Float64}(0.805655,0.888509,1.0)\n",
       " RGB{Float64}(0.80591,0.888648,1.0)           RGB{Float64}(0.806744,0.889102,1.0)\n",
       " RGB{Float64}(0.806932,0.889204,1.0)          RGB{Float64}(0.807777,0.889664,1.0)\n",
       " RGB{Float64}(0.808141,0.889862,1.0)          RGB{Float64}(0.808842,0.890244,1.0)\n",
       " RGB{Float64}(0.809114,0.890393,1.0)       …  RGB{Float64}(0.810015,0.890884,1.0)\n",
       " RGB{Float64}(0.810279,0.891028,1.0)          RGB{Float64}(0.811063,0.891456,1.0)\n",
       " RGB{Float64}(0.81141,0.891645,1.0)           RGB{Float64}(0.812192,0.892073,1.0)\n",
       " RGB{Float64}(0.812571,0.89228,1.0)           RGB{Float64}(0.813266,0.89266,1.0)\n",
       " RGB{Float64}(0.813657,0.892873,1.0)          RGB{Float64}(0.814413,0.893286,1.0)\n",
       " RGB{Float64}(0.814842,0.893521,1.0)       …  RGB{Float64}(0.815563,0.893916,1.0)\n",
       " RGB{Float64}(0.816036,0.894175,1.0)          RGB{Float64}(0.816748,0.894565,1.0)\n",
       " RGB{Float64}(0.817194,0.894809,1.0)          RGB{Float64}(0.817883,0.895187,1.0)\n",
       " ⋮                                         ⋱  \n",
       " RGB{Float64}(0.450556,0.518218,0.6057)       RGB{Float64}(0.466721,0.538958,0.632017)\n",
       " RGB{Float64}(0.479545,0.551872,0.645339)     RGB{Float64}(0.459241,0.528675,0.618377)\n",
       " RGB{Float64}(0.479394,0.553161,0.64826)   …  RGB{Float64}(0.459867,0.529894,0.620284)\n",
       " RGB{Float64}(0.445304,0.511781,0.597792)     RGB{Float64}(0.466985,0.538627,0.631019)\n",
       " RGB{Float64}(0.456437,0.526562,0.616983)     RGB{Float64}(0.456809,0.526824,0.617128)\n",
       " RGB{Float64}(0.452196,0.521304,0.61047)      RGB{Float64}(0.472156,0.543596,0.635881)\n",
       " RGB{Float64}(0.47965,0.551549,0.644531)      RGB{Float64}(0.484611,0.557592,0.651921)\n",
       " RGB{Float64}(0.465384,0.536298,0.627826)  …  RGB{Float64}(0.471559,0.544152,0.63773)\n",
       " RGB{Float64}(0.453847,0.522563,0.611322)     RGB{Float64}(0.447851,0.515498,0.602902)\n",
       " RGB{Float64}(0.446011,0.513244,0.600133)     RGB{Float64}(0.460767,0.531885,0.623535)\n",
       " RGB{Float64}(0.453181,0.52023,0.607074)      RGB{Float64}(0.468373,0.538381,0.628947)\n",
       " RGB{Float64}(0.448775,0.517631,0.606428)     RGB{Float64}(0.452672,0.522665,0.612845)"
      ]
     },
     "execution_count": 44,
     "metadata": {},
     "output_type": "execute_result"
    }
   ],
   "source": [
    "render()"
   ]
  },
  {
   "cell_type": "code",
   "execution_count": 45,
   "metadata": {},
   "outputs": [
    {
     "data": {
      "text/plain": [
       "random_unit_vector (generic function with 1 method)"
      ]
     },
     "execution_count": 45,
     "metadata": {},
     "output_type": "execute_result"
    }
   ],
   "source": [
    "function random_unit_vector()\n",
    "    a = rand(0:eps():2pi)\n",
    "    z = rand(-1:eps():1)\n",
    "    r = sqrt(1 - z * z)\n",
    "    [r*cos(a), r*sin(a), z]\n",
    "end"
   ]
  },
  {
   "cell_type": "code",
   "execution_count": 46,
   "metadata": {},
   "outputs": [
    {
     "data": {
      "text/plain": [
       "color (generic function with 4 methods)"
      ]
     },
     "execution_count": 46,
     "metadata": {},
     "output_type": "execute_result"
    }
   ],
   "source": [
    "function color(r::RayM.Ray, world::Hittable, depth)\n",
    "    rec = HitRecordM.HitRecord()\n",
    "    \n",
    "    if depth <= 0\n",
    "        return [0, 0, 0]\n",
    "    end\n",
    "    \n",
    "    if hit(world, r, 0.001, Inf, rec)\n",
    "        target = rec.p + rec.normal + random_unit_vector()\n",
    "        return 0.5 * color(RayM.Ray(rec.p, target - rec.p), world, depth - 1)\n",
    "    end\n",
    "    unit_direction = normalize(r.direction)\n",
    "    t = 0.5 * (y(unit_direction) + 1)\n",
    "    (1 - t) * [1, 1, 1] + t * [0.5, 0.7, 1]\n",
    "end"
   ]
  },
  {
   "cell_type": "code",
   "execution_count": 47,
   "metadata": {},
   "outputs": [
    {
     "data": {
      "image/png": "[encoded data removed]",
      "text/plain": [
       "100×200 Array{RGB{Float64},2} with eltype RGB{Float64}:\n",
       " RGB{Float64}(0.803777,0.887488,1.0)       …  RGB{Float64}(0.804668,0.887972,1.0)\n",
       " RGB{Float64}(0.804859,0.888076,1.0)          RGB{Float64}(0.805737,0.888553,1.0)\n",
       " RGB{Float64}(0.80592,0.888653,1.0)           RGB{Float64}(0.806681,0.889067,1.0)\n",
       " RGB{Float64}(0.807014,0.889249,1.0)          RGB{Float64}(0.807844,0.889701,1.0)\n",
       " RGB{Float64}(0.808156,0.889871,1.0)          RGB{Float64}(0.808917,0.890285,1.0)\n",
       " RGB{Float64}(0.809181,0.890429,1.0)       …  RGB{Float64}(0.809962,0.890856,1.0)\n",
       " RGB{Float64}(0.810323,0.891052,1.0)          RGB{Float64}(0.81106,0.891455,1.0)\n",
       " RGB{Float64}(0.811425,0.891654,1.0)          RGB{Float64}(0.812256,0.892108,1.0)\n",
       " RGB{Float64}(0.812497,0.892239,1.0)          RGB{Float64}(0.813381,0.892722,1.0)\n",
       " RGB{Float64}(0.813693,0.892893,1.0)          RGB{Float64}(0.814471,0.893318,1.0)\n",
       " RGB{Float64}(0.814888,0.893547,1.0)       …  RGB{Float64}(0.815527,0.893896,1.0)\n",
       " RGB{Float64}(0.815949,0.894127,1.0)          RGB{Float64}(0.816732,0.894556,1.0)\n",
       " RGB{Float64}(0.817139,0.894779,1.0)          RGB{Float64}(0.817796,0.895139,1.0)\n",
       " ⋮                                         ⋱  \n",
       " RGB{Float64}(0.531973,0.604812,0.7)          RGB{Float64}(0.53795,0.609208,0.702673)\n",
       " RGB{Float64}(0.537236,0.608008,0.700892)     RGB{Float64}(0.538441,0.608852,0.701338)\n",
       " RGB{Float64}(0.526233,0.597309,0.690335)  …  RGB{Float64}(0.524606,0.596868,0.69124)\n",
       " RGB{Float64}(0.530634,0.601617,0.694622)     RGB{Float64}(0.527616,0.599606,0.693722)\n",
       " RGB{Float64}(0.532674,0.605594,0.700892)     RGB{Float64}(0.533288,0.607156,0.703562)\n",
       " RGB{Float64}(0.522489,0.593177,0.685679)     RGB{Float64}(0.532061,0.604134,0.698436)\n",
       " RGB{Float64}(0.527173,0.599372,0.693722)     RGB{Float64}(0.530926,0.602187,0.695521)\n",
       " RGB{Float64}(0.52773,0.599353,0.693046)   …  RGB{Float64}(0.526486,0.599844,0.695521)\n",
       " RGB{Float64}(0.533913,0.604597,0.697316)     RGB{Float64}(0.520603,0.590543,0.682138)\n",
       " RGB{Float64}(0.523997,0.595604,0.689202)     RGB{Float64}(0.535969,0.608776,0.704006)\n",
       " RGB{Float64}(0.528211,0.600336,0.694622)     RGB{Float64}(0.532337,0.602934,0.695521)\n",
       " RGB{Float64}(0.522734,0.592622,0.684197)     RGB{Float64}(0.527103,0.600585,0.696419)"
      ]
     },
     "execution_count": 47,
     "metadata": {},
     "output_type": "execute_result"
    }
   ],
   "source": [
    "render()"
   ]
  },
  {
   "cell_type": "code",
   "execution_count": 48,
   "metadata": {},
   "outputs": [
    {
     "data": {
      "text/plain": [
       "random_in_hemisphere (generic function with 1 method)"
      ]
     },
     "execution_count": 48,
     "metadata": {},
     "output_type": "execute_result"
    }
   ],
   "source": [
    "function random_in_hemisphere(normal)\n",
    "    in_unit_sphere = random_in_unit_sphere()\n",
    "    if dot(in_unit_sphere, normal) > 0\n",
    "        in_unit_sphere\n",
    "    else\n",
    "        -in_unit_sphere\n",
    "    end\n",
    "end"
   ]
  },
  {
   "cell_type": "code",
   "execution_count": 49,
   "metadata": {},
   "outputs": [
    {
     "data": {
      "text/plain": [
       "color (generic function with 4 methods)"
      ]
     },
     "execution_count": 49,
     "metadata": {},
     "output_type": "execute_result"
    }
   ],
   "source": [
    "function color(r::RayM.Ray, world::Hittable, depth)\n",
    "    rec = HitRecordM.HitRecord()\n",
    "    \n",
    "    if depth <= 0\n",
    "        return [0, 0, 0]\n",
    "    end\n",
    "    \n",
    "    if hit(world, r, 0.001, Inf, rec)\n",
    "        target = rec.p + random_in_hemisphere(rec.normal)\n",
    "        return 0.5 * color(RayM.Ray(rec.p, target - rec.p), world, depth - 1)\n",
    "    end\n",
    "    unit_direction = normalize(r.direction)\n",
    "    t = 0.5 * (y(unit_direction) + 1)\n",
    "    (1 - t) * [1, 1, 1] + t * [0.5, 0.7, 1]\n",
    "end"
   ]
  },
  {
   "cell_type": "code",
   "execution_count": 50,
   "metadata": {},
   "outputs": [
    {
     "data": {
      "image/png": "[encoded data removed]",
      "text/plain": [
       "100×200 Array{RGB{Float64},2} with eltype RGB{Float64}:\n",
       " RGB{Float64}(0.803814,0.887508,1.0)       …  RGB{Float64}(0.804638,0.887956,1.0)\n",
       " RGB{Float64}(0.804827,0.888058,1.0)          RGB{Float64}(0.805705,0.888536,1.0)\n",
       " RGB{Float64}(0.805981,0.888686,1.0)          RGB{Float64}(0.806752,0.889106,1.0)\n",
       " RGB{Float64}(0.807004,0.889243,1.0)          RGB{Float64}(0.80783,0.889693,1.0)\n",
       " RGB{Float64}(0.808101,0.88984,1.0)           RGB{Float64}(0.808904,0.890278,1.0)\n",
       " RGB{Float64}(0.809173,0.890425,1.0)       …  RGB{Float64}(0.809987,0.890869,1.0)\n",
       " RGB{Float64}(0.810263,0.89102,1.0)           RGB{Float64}(0.811053,0.891451,1.0)\n",
       " RGB{Float64}(0.811432,0.891658,1.0)          RGB{Float64}(0.812193,0.892073,1.0)\n",
       " RGB{Float64}(0.812537,0.892261,1.0)          RGB{Float64}(0.813323,0.89269,1.0)\n",
       " RGB{Float64}(0.81369,0.892891,1.0)           RGB{Float64}(0.814431,0.893297,1.0)\n",
       " RGB{Float64}(0.814784,0.89349,1.0)        …  RGB{Float64}(0.815552,0.89391,1.0)\n",
       " RGB{Float64}(0.815901,0.894101,1.0)          RGB{Float64}(0.816731,0.894556,1.0)\n",
       " RGB{Float64}(0.817157,0.894789,1.0)          RGB{Float64}(0.817845,0.895166,1.0)\n",
       " ⋮                                         ⋱  \n",
       " RGB{Float64}(0.538648,0.603394,0.689202)     RGB{Float64}(0.544726,0.607894,0.691918)\n",
       " RGB{Float64}(0.549746,0.612644,0.696419)     RGB{Float64}(0.53979,0.603386,0.687841)\n",
       " RGB{Float64}(0.543897,0.605491,0.687614)  …  RGB{Float64}(0.540403,0.602471,0.685109)\n",
       " RGB{Float64}(0.549992,0.608683,0.687386)     RGB{Float64}(0.546666,0.612623,0.7)\n",
       " RGB{Float64}(0.552662,0.614623,0.697316)     RGB{Float64}(0.54384,0.604117,0.684653)\n",
       " RGB{Float64}(0.553852,0.615874,0.698659)     RGB{Float64}(0.54903,0.611441,0.694622)\n",
       " RGB{Float64}(0.549783,0.609403,0.689231)     RGB{Float64}(0.544128,0.608421,0.693778)\n",
       " RGB{Float64}(0.540229,0.604862,0.690561)  …  RGB{Float64}(0.545824,0.610536,0.696419)\n",
       " RGB{Float64}(0.543745,0.608704,0.694847)     RGB{Float64}(0.534186,0.597359,0.681221)\n",
       " RGB{Float64}(0.547901,0.610948,0.694875)     RGB{Float64}(0.550581,0.608746,0.686818)\n",
       " RGB{Float64}(0.54634,0.60717,0.688408)       RGB{Float64}(0.548388,0.611913,0.69642)\n",
       " RGB{Float64}(0.542586,0.602715,0.683054)     RGB{Float64}(0.534673,0.597856,0.681737)"
      ]
     },
     "execution_count": 50,
     "metadata": {},
     "output_type": "execute_result"
    }
   ],
   "source": [
    "render()"
   ]
  },
  {
   "cell_type": "markdown",
   "metadata": {},
   "source": [
    "# 9. Metal"
   ]
  },
  {
   "cell_type": "code",
   "execution_count": 51,
   "metadata": {},
   "outputs": [],
   "source": [
    "abstract type Material end"
   ]
  },
  {
   "cell_type": "code",
   "execution_count": 52,
   "metadata": {},
   "outputs": [
    {
     "name": "stderr",
     "output_type": "stream",
     "text": [
      "WARNING: replacing module HitRecordM.\n"
     ]
    },
    {
     "data": {
      "text/plain": [
       "Main.HitRecordM"
      ]
     },
     "execution_count": 52,
     "metadata": {},
     "output_type": "execute_result"
    }
   ],
   "source": [
    "module HitRecordM\n",
    "mutable struct HitRecord\n",
    "    p\n",
    "    normal\n",
    "    mat\n",
    "    t\n",
    "    front_face\n",
    "    \n",
    "    HitRecord() = new([0, 0, 0], [0, 0, 0], nothing, 0, false)\n",
    "end\n",
    "end"
   ]
  },
  {
   "cell_type": "code",
   "execution_count": 53,
   "metadata": {},
   "outputs": [
    {
     "data": {
      "text/plain": [
       "set_face_normal (generic function with 2 methods)"
      ]
     },
     "execution_count": 53,
     "metadata": {},
     "output_type": "execute_result"
    }
   ],
   "source": [
    "function set_face_normal(rec::HitRecordM.HitRecord, r, outward_normal)\n",
    "    rec.front_face = dot(r.direction, outward_normal) < 0\n",
    "    rec.normal = if rec.front_face\n",
    "        outward_normal \n",
    "    else\n",
    "        -outward_normal\n",
    "    end\n",
    "end"
   ]
  },
  {
   "cell_type": "code",
   "execution_count": 54,
   "metadata": {},
   "outputs": [
    {
     "name": "stderr",
     "output_type": "stream",
     "text": [
      "WARNING: replacing module SphereM.\n"
     ]
    },
    {
     "data": {
      "text/plain": [
       "Main.SphereM"
      ]
     },
     "execution_count": 54,
     "metadata": {},
     "output_type": "execute_result"
    }
   ],
   "source": [
    "module SphereM\n",
    "struct Sphere <: Main.Hittable\n",
    "    center\n",
    "    radius\n",
    "    mat\n",
    "end\n",
    "end"
   ]
  },
  {
   "cell_type": "code",
   "execution_count": 55,
   "metadata": {},
   "outputs": [
    {
     "data": {
      "text/plain": [
       "hit (generic function with 3 methods)"
      ]
     },
     "execution_count": 55,
     "metadata": {},
     "output_type": "execute_result"
    }
   ],
   "source": [
    "function hit(sphere::SphereM.Sphere, r, t_min, t_max, rec)\n",
    "    oc = r.origin - sphere.center\n",
    "    a = norm(r.direction)^2\n",
    "    half_b = dot(oc, r.direction)\n",
    "    c = norm(oc)^2 - sphere.radius * sphere.radius\n",
    "    discriminant = half_b * half_b - a * c\n",
    "    \n",
    "    if discriminant > 0\n",
    "        root = sqrt(discriminant)\n",
    "        temp = (-half_b - root) / a\n",
    "        if t_min < temp < t_max \n",
    "            rec.t = temp\n",
    "            rec.p = at(r, rec.t)\n",
    "            outward_normal = (rec.p - sphere.center) / sphere.radius\n",
    "            set_face_normal(rec, r, outward_normal)\n",
    "            rec.mat = sphere.mat\n",
    "            return true\n",
    "        end\n",
    "        temp = (-half_b + root) / a\n",
    "        if t_min < temp < t_max\n",
    "            rec.t = temp\n",
    "            rec.p = at(r, rec.t)\n",
    "            outward_normal = (rec.p - sphere.center) / sphere.radius\n",
    "            set_face_normal(rec, r, outward_normal)\n",
    "            rec.mat = sphere.mat\n",
    "            return true\n",
    "        end\n",
    "    end\n",
    "    false\n",
    "end"
   ]
  },
  {
   "cell_type": "code",
   "execution_count": 56,
   "metadata": {},
   "outputs": [
    {
     "data": {
      "text/plain": [
       "Main.LambertianM"
      ]
     },
     "execution_count": 56,
     "metadata": {},
     "output_type": "execute_result"
    }
   ],
   "source": [
    "module LambertianM\n",
    "struct Lambertian <: Main.Material\n",
    "    albedo\n",
    "end\n",
    "end"
   ]
  },
  {
   "cell_type": "code",
   "execution_count": 57,
   "metadata": {},
   "outputs": [
    {
     "data": {
      "text/plain": [
       "scatter (generic function with 1 method)"
      ]
     },
     "execution_count": 57,
     "metadata": {},
     "output_type": "execute_result"
    }
   ],
   "source": [
    "function scatter(lambertian::LambertianM.Lambertian, r_in, rec)\n",
    "    scatter_direction = rec.normal + random_unit_vector()\n",
    "    scattered = RayM.Ray(rec.p, scatter_direction)\n",
    "    attenuation = lambertian.albedo\n",
    "    true, attenuation, scattered\n",
    "end"
   ]
  },
  {
   "cell_type": "code",
   "execution_count": 58,
   "metadata": {},
   "outputs": [
    {
     "data": {
      "text/plain": [
       "reflect (generic function with 1 method)"
      ]
     },
     "execution_count": 58,
     "metadata": {},
     "output_type": "execute_result"
    }
   ],
   "source": [
    "reflect(v, n) = v - 2 * dot(v, n) * n"
   ]
  },
  {
   "cell_type": "code",
   "execution_count": 59,
   "metadata": {},
   "outputs": [
    {
     "data": {
      "text/plain": [
       "Main.MetalM"
      ]
     },
     "execution_count": 59,
     "metadata": {},
     "output_type": "execute_result"
    }
   ],
   "source": [
    "module MetalM\n",
    "struct Metal <: Main.Material\n",
    "    albedo\n",
    "end\n",
    "end"
   ]
  },
  {
   "cell_type": "code",
   "execution_count": 60,
   "metadata": {},
   "outputs": [
    {
     "data": {
      "text/plain": [
       "scatter (generic function with 2 methods)"
      ]
     },
     "execution_count": 60,
     "metadata": {},
     "output_type": "execute_result"
    }
   ],
   "source": [
    "function scatter(metal::MetalM.Metal, r_in, rec)\n",
    "    reflected = reflect(normalize(r_in.direction), rec.normal)\n",
    "    scattered = RayM.Ray(rec.p, reflected)\n",
    "    attenuation = metal.albedo\n",
    "    dot(scattered.direction, rec.normal) > 0, attenuation, scattered\n",
    "end"
   ]
  },
  {
   "cell_type": "code",
   "execution_count": 61,
   "metadata": {},
   "outputs": [
    {
     "data": {
      "text/plain": [
       "hit (generic function with 3 methods)"
      ]
     },
     "execution_count": 61,
     "metadata": {},
     "output_type": "execute_result"
    }
   ],
   "source": [
    "function hit(hittable_list::HittableListM.HittableList, r, t_min, t_max, rec)\n",
    "    temp_rec = HitRecordM.HitRecord()\n",
    "    hit_anything = false\n",
    "    closest_so_far = t_max\n",
    "    \n",
    "    for object in hittable_list.objects\n",
    "        if hit(object, r, t_min, closest_so_far, temp_rec)\n",
    "            hit_anything = true\n",
    "            closest_so_far = temp_rec.t\n",
    "            rec.p = temp_rec.p\n",
    "            rec.normal = temp_rec.normal\n",
    "            rec.t = temp_rec.t\n",
    "            rec.front_face = temp_rec.front_face\n",
    "            rec.mat = temp_rec.mat\n",
    "        end\n",
    "    end\n",
    "    \n",
    "    hit_anything\n",
    "end"
   ]
  },
  {
   "cell_type": "code",
   "execution_count": 62,
   "metadata": {},
   "outputs": [
    {
     "data": {
      "text/plain": [
       "color (generic function with 4 methods)"
      ]
     },
     "execution_count": 62,
     "metadata": {},
     "output_type": "execute_result"
    }
   ],
   "source": [
    "function color(r::RayM.Ray, world::Hittable, depth)\n",
    "    rec = HitRecordM.HitRecord()\n",
    "    \n",
    "    if depth <= 0\n",
    "        return [0, 0, 0]\n",
    "    end\n",
    "    \n",
    "    if hit(world, r, 0.001, Inf, rec)\n",
    "        result, attenuation, scattered = scatter(rec.mat, r, rec)\n",
    "        if result \n",
    "            return attenuation .* color(scattered, world, depth - 1)\n",
    "        end\n",
    "        return [0, 0, 0]\n",
    "    end\n",
    "    unit_direction = normalize(r.direction)\n",
    "    t = 0.5 * (y(unit_direction) + 1)\n",
    "    (1 - t) * [1, 1, 1] + t * [0.5, 0.7, 1]\n",
    "end"
   ]
  },
  {
   "cell_type": "code",
   "execution_count": 63,
   "metadata": {},
   "outputs": [
    {
     "data": {
      "text/plain": [
       "Main.HittableListM.HittableList(Main.SphereM.Sphere[Main.SphereM.Sphere([0, 0, -1], 0.5, Main.LambertianM.Lambertian([0.7, 0.3, 0.3])), Main.SphereM.Sphere([0.0, -100.5, -1.0], 100, Main.LambertianM.Lambertian([0.8, 0.8, 0.0])), Main.SphereM.Sphere([1, 0, -1], 0.5, Main.MetalM.Metal([0.8, 0.6, 0.2])), Main.SphereM.Sphere([-1, 0, -1], 0.5, Main.MetalM.Metal([0.8, 0.8, 0.8]))])"
      ]
     },
     "execution_count": 63,
     "metadata": {},
     "output_type": "execute_result"
    }
   ],
   "source": [
    "world = HittableListM.HittableList([\n",
    "        SphereM.Sphere([0, 0, -1], 0.5, LambertianM.Lambertian([0.7, 0.3, 0.3])),\n",
    "        SphereM.Sphere([0, -100.5, -1], 100, LambertianM.Lambertian([0.8, 0.8, 0])),\n",
    "        SphereM.Sphere([1, 0, -1], 0.5, MetalM.Metal([0.8, 0.6, 0.2])),\n",
    "        SphereM.Sphere([-1, 0, -1], 0.5, MetalM.Metal([0.8, 0.8, 0.8]))\n",
    "        ])"
   ]
  },
  {
   "cell_type": "code",
   "execution_count": 64,
   "metadata": {},
   "outputs": [
    {
     "data": {
      "image/png": "[encoded data removed]",
      "text/plain": [
       "100×200 Array{RGB{Float64},2} with eltype RGB{Float64}:\n",
       " RGB{Float64}(0.803737,0.887466,1.0)  …  RGB{Float64}(0.804622,0.887947,1.0)\n",
       " RGB{Float64}(0.804829,0.88806,1.0)      RGB{Float64}(0.805744,0.888557,1.0)\n",
       " RGB{Float64}(0.805927,0.888657,1.0)     RGB{Float64}(0.806749,0.889104,1.0)\n",
       " RGB{Float64}(0.807011,0.889247,1.0)     RGB{Float64}(0.807847,0.889703,1.0)\n",
       " RGB{Float64}(0.808081,0.88983,1.0)      RGB{Float64}(0.808949,0.890303,1.0)\n",
       " RGB{Float64}(0.809179,0.890428,1.0)  …  RGB{Float64}(0.809985,0.890868,1.0)\n",
       " RGB{Float64}(0.810289,0.891033,1.0)     RGB{Float64}(0.811144,0.8915,1.0)\n",
       " RGB{Float64}(0.811394,0.891637,1.0)     RGB{Float64}(0.812151,0.89205,1.0)\n",
       " RGB{Float64}(0.812502,0.892242,1.0)     RGB{Float64}(0.813312,0.892685,1.0)\n",
       " RGB{Float64}(0.813629,0.892858,1.0)     RGB{Float64}(0.814403,0.893281,1.0)\n",
       " RGB{Float64}(0.814824,0.893512,1.0)  …  RGB{Float64}(0.815597,0.893935,1.0)\n",
       " RGB{Float64}(0.815975,0.894141,1.0)     RGB{Float64}(0.816667,0.89452,1.0)\n",
       " RGB{Float64}(0.81715,0.894785,1.0)      RGB{Float64}(0.817807,0.895145,1.0)\n",
       " ⋮                                    ⋱  \n",
       " RGB{Float64}(0.641027,0.714407,0.0)     RGB{Float64}(0.653163,0.705396,0.0)\n",
       " RGB{Float64}(0.643268,0.721066,0.0)     RGB{Float64}(0.648306,0.692428,0.0)\n",
       " RGB{Float64}(0.659401,0.738805,0.0)  …  RGB{Float64}(0.652944,0.705635,0.0)\n",
       " RGB{Float64}(0.650383,0.726419,0.0)     RGB{Float64}(0.648606,0.698052,0.0)\n",
       " RGB{Float64}(0.644076,0.7182,0.0)       RGB{Float64}(0.646058,0.692725,0.0)\n",
       " RGB{Float64}(0.636845,0.716853,0.0)     RGB{Float64}(0.635573,0.68222,0.0)\n",
       " RGB{Float64}(0.637939,0.708681,0.0)     RGB{Float64}(0.649623,0.70368,0.0)\n",
       " RGB{Float64}(0.625848,0.695451,0.0)  …  RGB{Float64}(0.638365,0.685358,0.0)\n",
       " RGB{Float64}(0.623091,0.692821,0.0)     RGB{Float64}(0.643047,0.68517,0.0)\n",
       " RGB{Float64}(0.619948,0.689058,0.0)     RGB{Float64}(0.645512,0.693465,0.0)\n",
       " RGB{Float64}(0.634769,0.703944,0.0)     RGB{Float64}(0.64163,0.685736,0.0)\n",
       " RGB{Float64}(0.643821,0.720118,0.0)     RGB{Float64}(0.636736,0.679618,0.0)"
      ]
     },
     "execution_count": 64,
     "metadata": {},
     "output_type": "execute_result"
    }
   ],
   "source": [
    "render()"
   ]
  },
  {
   "cell_type": "code",
   "execution_count": 65,
   "metadata": {},
   "outputs": [
    {
     "name": "stderr",
     "output_type": "stream",
     "text": [
      "WARNING: replacing module MetalM.\n"
     ]
    },
    {
     "data": {
      "text/plain": [
       "Main.MetalM"
      ]
     },
     "execution_count": 65,
     "metadata": {},
     "output_type": "execute_result"
    }
   ],
   "source": [
    "module MetalM\n",
    "struct Metal <: Main.Material\n",
    "    albedo\n",
    "    fuzz\n",
    "    \n",
    "    Metal(albedo, fuzz) = new(albedo, fuzz < 1 ? fuzz : 1)\n",
    "end\n",
    "end"
   ]
  },
  {
   "cell_type": "code",
   "execution_count": 66,
   "metadata": {},
   "outputs": [
    {
     "data": {
      "text/plain": [
       "scatter (generic function with 3 methods)"
      ]
     },
     "execution_count": 66,
     "metadata": {},
     "output_type": "execute_result"
    }
   ],
   "source": [
    "function scatter(metal::MetalM.Metal, r_in, rec)\n",
    "    reflected = reflect(normalize(r_in.direction), rec.normal)\n",
    "    scattered = RayM.Ray(rec.p, reflected + metal.fuzz * random_in_unit_sphere())\n",
    "    attenuation = metal.albedo\n",
    "    dot(scattered.direction, rec.normal) > 0, attenuation, scattered\n",
    "end"
   ]
  },
  {
   "cell_type": "code",
   "execution_count": 68,
   "metadata": {},
   "outputs": [
    {
     "data": {
      "text/plain": [
       "Main.HittableListM.HittableList(Main.SphereM.Sphere[Main.SphereM.Sphere([0, 0, -1], 0.5, Main.LambertianM.Lambertian([0.7, 0.3, 0.3])), Main.SphereM.Sphere([0.0, -100.5, -1.0], 100, Main.LambertianM.Lambertian([0.8, 0.8, 0.0])), Main.SphereM.Sphere([1, 0, -1], 0.5, Main.MetalM.Metal([0.8, 0.6, 0.2], 0.3)), Main.SphereM.Sphere([-1, 0, -1], 0.5, Main.MetalM.Metal([0.8, 0.8, 0.8], 1))])"
      ]
     },
     "execution_count": 68,
     "metadata": {},
     "output_type": "execute_result"
    }
   ],
   "source": [
    "world = HittableListM.HittableList([\n",
    "        SphereM.Sphere([0, 0, -1], 0.5, LambertianM.Lambertian([0.7, 0.3, 0.3])),\n",
    "        SphereM.Sphere([0, -100.5, -1], 100, LambertianM.Lambertian([0.8, 0.8, 0])),\n",
    "        SphereM.Sphere([1, 0, -1], 0.5, MetalM.Metal([0.8, 0.6, 0.2], 0.3)),\n",
    "        SphereM.Sphere([-1, 0, -1], 0.5, MetalM.Metal([0.8, 0.8, 0.8], 1))\n",
    "        ])"
   ]
  },
  {
   "cell_type": "code",
   "execution_count": 69,
   "metadata": {},
   "outputs": [
    {
     "data": {
      "image/png": "[encoded data removed]",
      "text/plain": [
       "100×200 Array{RGB{Float64},2} with eltype RGB{Float64}:\n",
       " RGB{Float64}(0.803778,0.887488,1.0)  …  RGB{Float64}(0.80465,0.887962,1.0)\n",
       " RGB{Float64}(0.80484,0.888066,1.0)      RGB{Float64}(0.805652,0.888507,1.0)\n",
       " RGB{Float64}(0.805914,0.88865,1.0)      RGB{Float64}(0.806797,0.88913,1.0)\n",
       " RGB{Float64}(0.806974,0.889227,1.0)     RGB{Float64}(0.807814,0.889684,1.0)\n",
       " RGB{Float64}(0.808018,0.889795,1.0)     RGB{Float64}(0.808835,0.890241,1.0)\n",
       " RGB{Float64}(0.809239,0.890461,1.0)  …  RGB{Float64}(0.80999,0.89087,1.0)\n",
       " RGB{Float64}(0.810344,0.891064,1.0)     RGB{Float64}(0.811182,0.891521,1.0)\n",
       " RGB{Float64}(0.811453,0.891669,1.0)     RGB{Float64}(0.812245,0.892101,1.0)\n",
       " RGB{Float64}(0.812546,0.892266,1.0)     RGB{Float64}(0.813326,0.892692,1.0)\n",
       " RGB{Float64}(0.813688,0.89289,1.0)      RGB{Float64}(0.814426,0.893294,1.0)\n",
       " RGB{Float64}(0.814818,0.893508,1.0)  …  RGB{Float64}(0.815573,0.893922,1.0)\n",
       " RGB{Float64}(0.815921,0.894112,1.0)     RGB{Float64}(0.816673,0.894524,1.0)\n",
       " RGB{Float64}(0.817142,0.894781,1.0)     RGB{Float64}(0.817874,0.895182,1.0)\n",
       " ⋮                                    ⋱  \n",
       " RGB{Float64}(0.627501,0.705541,0.0)     RGB{Float64}(0.652862,0.701029,0.0)\n",
       " RGB{Float64}(0.63495,0.712082,0.0)      RGB{Float64}(0.643601,0.691633,0.0)\n",
       " RGB{Float64}(0.628365,0.70278,0.0)   …  RGB{Float64}(0.64336,0.682983,0.0)\n",
       " RGB{Float64}(0.622309,0.697697,0.0)     RGB{Float64}(0.63125,0.675544,0.0)\n",
       " RGB{Float64}(0.603253,0.677687,0.0)     RGB{Float64}(0.641509,0.684064,0.0)\n",
       " RGB{Float64}(0.637459,0.716023,0.0)     RGB{Float64}(0.643087,0.682755,0.0)\n",
       " RGB{Float64}(0.64401,0.718307,0.0)      RGB{Float64}(0.652509,0.705725,0.0)\n",
       " RGB{Float64}(0.628012,0.7034,0.0)    …  RGB{Float64}(0.645039,0.691295,0.0)\n",
       " RGB{Float64}(0.62178,0.69643,0.0)       RGB{Float64}(0.638747,0.689621,0.0)\n",
       " RGB{Float64}(0.610612,0.68543,0.0)      RGB{Float64}(0.631035,0.669152,0.0)\n",
       " RGB{Float64}(0.618306,0.685817,0.0)     RGB{Float64}(0.622697,0.66404,0.0)\n",
       " RGB{Float64}(0.63517,0.708817,0.0)      RGB{Float64}(0.642943,0.682996,0.0)"
      ]
     },
     "execution_count": 69,
     "metadata": {},
     "output_type": "execute_result"
    }
   ],
   "source": [
    "render()"
   ]
  }
 ],
 "metadata": {
  "kernelspec": {
   "display_name": "Julia 1.4.1",
   "language": "julia",
   "name": "julia-1.4"
  },
  "language_info": {
   "file_extension": ".jl",
   "mimetype": "application/julia",
   "name": "julia",
   "version": "1.4.1"
  }
 },
 "nbformat": 4,
 "nbformat_minor": 4
}
