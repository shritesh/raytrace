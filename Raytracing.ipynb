{
 "cells": [
  {
   "cell_type": "code",
   "execution_count": 1,
   "metadata": {},
   "outputs": [],
   "source": [
    "using Images, LinearAlgebra, ProgressMeter"
   ]
  },
  {
   "cell_type": "markdown",
   "metadata": {},
   "source": [
    "# 2. Output an Image"
   ]
  },
  {
   "cell_type": "code",
   "execution_count": 2,
   "metadata": {},
   "outputs": [
    {
     "data": {
      "text/plain": [
       "(200, 100)"
      ]
     },
     "execution_count": 2,
     "metadata": {},
     "output_type": "execute_result"
    }
   ],
   "source": [
    "(image_width, image_height) = (200, 100)"
   ]
  },
  {
   "cell_type": "code",
   "execution_count": 3,
   "metadata": {},
   "outputs": [
    {
     "data": {
      "image/png": "[encoded data removed]",
      "text/plain": [
       "100×200 Array{RGB{Float64},2} with eltype RGB{Float64}:\n",
       " RGB{Float64}(0.005,1.0,0.2)   …  RGB{Float64}(1.0,1.0,0.2)\n",
       " RGB{Float64}(0.005,0.99,0.2)     RGB{Float64}(1.0,0.99,0.2)\n",
       " RGB{Float64}(0.005,0.98,0.2)     RGB{Float64}(1.0,0.98,0.2)\n",
       " RGB{Float64}(0.005,0.97,0.2)     RGB{Float64}(1.0,0.97,0.2)\n",
       " RGB{Float64}(0.005,0.96,0.2)     RGB{Float64}(1.0,0.96,0.2)\n",
       " RGB{Float64}(0.005,0.95,0.2)  …  RGB{Float64}(1.0,0.95,0.2)\n",
       " RGB{Float64}(0.005,0.94,0.2)     RGB{Float64}(1.0,0.94,0.2)\n",
       " RGB{Float64}(0.005,0.93,0.2)     RGB{Float64}(1.0,0.93,0.2)\n",
       " RGB{Float64}(0.005,0.92,0.2)     RGB{Float64}(1.0,0.92,0.2)\n",
       " RGB{Float64}(0.005,0.91,0.2)     RGB{Float64}(1.0,0.91,0.2)\n",
       " RGB{Float64}(0.005,0.9,0.2)   …  RGB{Float64}(1.0,0.9,0.2)\n",
       " RGB{Float64}(0.005,0.89,0.2)     RGB{Float64}(1.0,0.89,0.2)\n",
       " RGB{Float64}(0.005,0.88,0.2)     RGB{Float64}(1.0,0.88,0.2)\n",
       " ⋮                             ⋱  \n",
       " RGB{Float64}(0.005,0.12,0.2)     RGB{Float64}(1.0,0.12,0.2)\n",
       " RGB{Float64}(0.005,0.11,0.2)     RGB{Float64}(1.0,0.11,0.2)\n",
       " RGB{Float64}(0.005,0.1,0.2)   …  RGB{Float64}(1.0,0.1,0.2)\n",
       " RGB{Float64}(0.005,0.09,0.2)     RGB{Float64}(1.0,0.09,0.2)\n",
       " RGB{Float64}(0.005,0.08,0.2)     RGB{Float64}(1.0,0.08,0.2)\n",
       " RGB{Float64}(0.005,0.07,0.2)     RGB{Float64}(1.0,0.07,0.2)\n",
       " RGB{Float64}(0.005,0.06,0.2)     RGB{Float64}(1.0,0.06,0.2)\n",
       " RGB{Float64}(0.005,0.05,0.2)  …  RGB{Float64}(1.0,0.05,0.2)\n",
       " RGB{Float64}(0.005,0.04,0.2)     RGB{Float64}(1.0,0.04,0.2)\n",
       " RGB{Float64}(0.005,0.03,0.2)     RGB{Float64}(1.0,0.03,0.2)\n",
       " RGB{Float64}(0.005,0.02,0.2)     RGB{Float64}(1.0,0.02,0.2)\n",
       " RGB{Float64}(0.005,0.01,0.2)     RGB{Float64}(1.0,0.01,0.2)"
      ]
     },
     "execution_count": 3,
     "metadata": {},
     "output_type": "execute_result"
    }
   ],
   "source": [
    "[RGB(i / image_width, j / image_height, 0.2) for j in image_height:-1:1, i in 1:image_width]"
   ]
  },
  {
   "cell_type": "markdown",
   "metadata": {},
   "source": [
    "# 3. The Vec3 ~~Class~~ Array"
   ]
  },
  {
   "cell_type": "code",
   "execution_count": 4,
   "metadata": {},
   "outputs": [],
   "source": [
    "x(vec) = vec[1]\n",
    "y(vec) = vec[2]\n",
    "z(vec) = vec[3];"
   ]
  },
  {
   "cell_type": "code",
   "execution_count": 5,
   "metadata": {},
   "outputs": [
    {
     "data": {
      "text/plain": [
       "color (generic function with 1 method)"
      ]
     },
     "execution_count": 5,
     "metadata": {},
     "output_type": "execute_result"
    }
   ],
   "source": [
    "color(i,j) = [i / image_width, j / image_height, 0.2]"
   ]
  },
  {
   "cell_type": "code",
   "execution_count": 6,
   "metadata": {},
   "outputs": [
    {
     "name": "stderr",
     "output_type": "stream",
     "text": [
      "\u001b[32mProgress: 100%|█████████████████████████████████████████| Time: 0:00:00\u001b[39m\n"
     ]
    },
    {
     "data": {
      "image/png": "[encoded data removed]",
      "text/plain": [
       "100×200 Array{RGB{Float64},2} with eltype RGB{Float64}:\n",
       " RGB{Float64}(0.005,1.0,0.2)   …  RGB{Float64}(1.0,1.0,0.2)\n",
       " RGB{Float64}(0.005,0.99,0.2)     RGB{Float64}(1.0,0.99,0.2)\n",
       " RGB{Float64}(0.005,0.98,0.2)     RGB{Float64}(1.0,0.98,0.2)\n",
       " RGB{Float64}(0.005,0.97,0.2)     RGB{Float64}(1.0,0.97,0.2)\n",
       " RGB{Float64}(0.005,0.96,0.2)     RGB{Float64}(1.0,0.96,0.2)\n",
       " RGB{Float64}(0.005,0.95,0.2)  …  RGB{Float64}(1.0,0.95,0.2)\n",
       " RGB{Float64}(0.005,0.94,0.2)     RGB{Float64}(1.0,0.94,0.2)\n",
       " RGB{Float64}(0.005,0.93,0.2)     RGB{Float64}(1.0,0.93,0.2)\n",
       " RGB{Float64}(0.005,0.92,0.2)     RGB{Float64}(1.0,0.92,0.2)\n",
       " RGB{Float64}(0.005,0.91,0.2)     RGB{Float64}(1.0,0.91,0.2)\n",
       " RGB{Float64}(0.005,0.9,0.2)   …  RGB{Float64}(1.0,0.9,0.2)\n",
       " RGB{Float64}(0.005,0.89,0.2)     RGB{Float64}(1.0,0.89,0.2)\n",
       " RGB{Float64}(0.005,0.88,0.2)     RGB{Float64}(1.0,0.88,0.2)\n",
       " ⋮                             ⋱  \n",
       " RGB{Float64}(0.005,0.12,0.2)     RGB{Float64}(1.0,0.12,0.2)\n",
       " RGB{Float64}(0.005,0.11,0.2)     RGB{Float64}(1.0,0.11,0.2)\n",
       " RGB{Float64}(0.005,0.1,0.2)   …  RGB{Float64}(1.0,0.1,0.2)\n",
       " RGB{Float64}(0.005,0.09,0.2)     RGB{Float64}(1.0,0.09,0.2)\n",
       " RGB{Float64}(0.005,0.08,0.2)     RGB{Float64}(1.0,0.08,0.2)\n",
       " RGB{Float64}(0.005,0.07,0.2)     RGB{Float64}(1.0,0.07,0.2)\n",
       " RGB{Float64}(0.005,0.06,0.2)     RGB{Float64}(1.0,0.06,0.2)\n",
       " RGB{Float64}(0.005,0.05,0.2)  …  RGB{Float64}(1.0,0.05,0.2)\n",
       " RGB{Float64}(0.005,0.04,0.2)     RGB{Float64}(1.0,0.04,0.2)\n",
       " RGB{Float64}(0.005,0.03,0.2)     RGB{Float64}(1.0,0.03,0.2)\n",
       " RGB{Float64}(0.005,0.02,0.2)     RGB{Float64}(1.0,0.02,0.2)\n",
       " RGB{Float64}(0.005,0.01,0.2)     RGB{Float64}(1.0,0.01,0.2)"
      ]
     },
     "execution_count": 6,
     "metadata": {},
     "output_type": "execute_result"
    }
   ],
   "source": [
    "render() = @showprogress map(coords -> RGB(color(coords...)...), [(i,j) for j in image_height:-1:1, i in 1:image_width])\n",
    "render()"
   ]
  },
  {
   "cell_type": "markdown",
   "metadata": {},
   "source": [
    "# 4. Rays, a Simple Camera, and Background"
   ]
  },
  {
   "cell_type": "code",
   "execution_count": 7,
   "metadata": {},
   "outputs": [
    {
     "data": {
      "text/plain": [
       "Main.RayM"
      ]
     },
     "execution_count": 7,
     "metadata": {},
     "output_type": "execute_result"
    }
   ],
   "source": [
    "module RayM\n",
    "struct Ray \n",
    "    origin\n",
    "    direction\n",
    "end\n",
    "end"
   ]
  },
  {
   "cell_type": "code",
   "execution_count": 8,
   "metadata": {},
   "outputs": [
    {
     "data": {
      "text/plain": [
       "at (generic function with 1 method)"
      ]
     },
     "execution_count": 8,
     "metadata": {},
     "output_type": "execute_result"
    }
   ],
   "source": [
    "at(ray::RayM.Ray, t) = ray.origin + t * ray.direction"
   ]
  },
  {
   "cell_type": "code",
   "execution_count": 9,
   "metadata": {},
   "outputs": [
    {
     "data": {
      "text/plain": [
       "color (generic function with 2 methods)"
      ]
     },
     "execution_count": 9,
     "metadata": {},
     "output_type": "execute_result"
    }
   ],
   "source": [
    "function color(ray::RayM.Ray)\n",
    "    unit_direction = normalize(ray.direction)\n",
    "    t = 0.5 * (y(unit_direction) + 1)\n",
    "    (1 - t) * [1, 1, 1] + t * [0.5, 0.7, 1]\n",
    "end"
   ]
  },
  {
   "cell_type": "code",
   "execution_count": 10,
   "metadata": {},
   "outputs": [],
   "source": [
    "lower_left_corner = [-2, -1, -1]\n",
    "horizontal = [4, 0, 0]\n",
    "vertical = [0, 2, 0]\n",
    "origin = [0, 0, 0];"
   ]
  },
  {
   "cell_type": "code",
   "execution_count": 11,
   "metadata": {},
   "outputs": [
    {
     "data": {
      "text/plain": [
       "color (generic function with 2 methods)"
      ]
     },
     "execution_count": 11,
     "metadata": {},
     "output_type": "execute_result"
    }
   ],
   "source": [
    "function color(i, j) \n",
    "    u = i / image_width\n",
    "    v = j / image_height\n",
    "    r = RayM.Ray(origin, lower_left_corner + u * horizontal + v * vertical)\n",
    "    color(r)\n",
    "end"
   ]
  },
  {
   "cell_type": "code",
   "execution_count": 12,
   "metadata": {},
   "outputs": [
    {
     "name": "stderr",
     "output_type": "stream",
     "text": [
      "\u001b[32mProgress: 100%|█████████████████████████████████████████| Time: 0:00:00\u001b[39m\n"
     ]
    },
    {
     "data": {
      "image/png": "[encoded data removed]",
      "text/plain": [
       "100×200 Array{RGB{Float64},2} with eltype RGB{Float64}:\n",
       " RGB{Float64}(0.647254,0.788352,1.0)  …  RGB{Float64}(0.647938,0.788763,1.0)\n",
       " RGB{Float64}(0.648971,0.789382,1.0)     RGB{Float64}(0.649647,0.789788,1.0)\n",
       " RGB{Float64}(0.650704,0.790423,1.0)     RGB{Float64}(0.651374,0.790824,1.0)\n",
       " RGB{Float64}(0.652455,0.791473,1.0)     RGB{Float64}(0.653117,0.79187,1.0)\n",
       " RGB{Float64}(0.654223,0.792534,1.0)     RGB{Float64}(0.654877,0.792926,1.0)\n",
       " RGB{Float64}(0.656008,0.793605,1.0)  …  RGB{Float64}(0.656654,0.793993,1.0)\n",
       " RGB{Float64}(0.65781,0.794686,1.0)      RGB{Float64}(0.658448,0.795069,1.0)\n",
       " RGB{Float64}(0.659629,0.795777,1.0)     RGB{Float64}(0.660258,0.796155,1.0)\n",
       " RGB{Float64}(0.661464,0.796878,1.0)     RGB{Float64}(0.662084,0.79725,1.0)\n",
       " RGB{Float64}(0.663316,0.79799,1.0)      RGB{Float64}(0.663926,0.798356,1.0)\n",
       " RGB{Float64}(0.665184,0.79911,1.0)   …  RGB{Float64}(0.665785,0.799471,1.0)\n",
       " RGB{Float64}(0.667069,0.800241,1.0)     RGB{Float64}(0.667659,0.800596,1.0)\n",
       " RGB{Float64}(0.668969,0.801381,1.0)     RGB{Float64}(0.669549,0.80173,1.0)\n",
       " ⋮                                    ⋱  \n",
       " RGB{Float64}(0.831031,0.898619,1.0)     RGB{Float64}(0.830451,0.89827,1.0)\n",
       " RGB{Float64}(0.832931,0.899759,1.0)     RGB{Float64}(0.832341,0.899404,1.0)\n",
       " RGB{Float64}(0.834816,0.90089,1.0)   …  RGB{Float64}(0.834215,0.900529,1.0)\n",
       " RGB{Float64}(0.836684,0.90201,1.0)      RGB{Float64}(0.836074,0.901644,1.0)\n",
       " RGB{Float64}(0.838536,0.903122,1.0)     RGB{Float64}(0.837916,0.90275,1.0)\n",
       " RGB{Float64}(0.840371,0.904223,1.0)     RGB{Float64}(0.839742,0.903845,1.0)\n",
       " RGB{Float64}(0.84219,0.905314,1.0)      RGB{Float64}(0.841552,0.904931,1.0)\n",
       " RGB{Float64}(0.843992,0.906395,1.0)  …  RGB{Float64}(0.843346,0.906007,1.0)\n",
       " RGB{Float64}(0.845777,0.907466,1.0)     RGB{Float64}(0.845123,0.907074,1.0)\n",
       " RGB{Float64}(0.847545,0.908527,1.0)     RGB{Float64}(0.846883,0.90813,1.0)\n",
       " RGB{Float64}(0.849296,0.909577,1.0)     RGB{Float64}(0.848626,0.909176,1.0)\n",
       " RGB{Float64}(0.851029,0.910618,1.0)     RGB{Float64}(0.850353,0.910212,1.0)"
      ]
     },
     "execution_count": 12,
     "metadata": {},
     "output_type": "execute_result"
    }
   ],
   "source": [
    "render()"
   ]
  },
  {
   "cell_type": "markdown",
   "metadata": {},
   "source": [
    "# 5. Adding a Sphere"
   ]
  },
  {
   "cell_type": "code",
   "execution_count": 13,
   "metadata": {},
   "outputs": [
    {
     "data": {
      "text/plain": [
       "hit_sphere (generic function with 1 method)"
      ]
     },
     "execution_count": 13,
     "metadata": {},
     "output_type": "execute_result"
    }
   ],
   "source": [
    "function hit_sphere(center, radius, r)\n",
    "    oc = r.origin - center\n",
    "    a = dot(r.direction, r.direction)\n",
    "    b = 2 * dot(oc, r.direction)\n",
    "    c = dot(oc, oc) - radius * radius\n",
    "    discriminant = b * b - 4 * a * c\n",
    "    discriminant > 0\n",
    "end"
   ]
  },
  {
   "cell_type": "code",
   "execution_count": 14,
   "metadata": {},
   "outputs": [
    {
     "data": {
      "text/plain": [
       "color (generic function with 2 methods)"
      ]
     },
     "execution_count": 14,
     "metadata": {},
     "output_type": "execute_result"
    }
   ],
   "source": [
    "function color(r::RayM.Ray)\n",
    "    if hit_sphere([0, 0, -1], 0.5, r)\n",
    "        return [1, 0, 0]\n",
    "    end\n",
    "    unit_direction = normalize(r.direction)\n",
    "    t = 0.5 * (y(unit_direction) + 1)\n",
    "    (1 - t) * [1, 1, 1] + t * [0.5, 0.7, 1]\n",
    "end"
   ]
  },
  {
   "cell_type": "code",
   "execution_count": 15,
   "metadata": {},
   "outputs": [
    {
     "name": "stderr",
     "output_type": "stream",
     "text": [
      "\u001b[32mProgress: 100%|█████████████████████████████████████████| Time: 0:00:00\u001b[39m\n"
     ]
    },
    {
     "data": {
      "image/png": "[encoded data removed]",
      "text/plain": [
       "100×200 Array{RGB,2} with eltype RGB:\n",
       " RGB{Float64}(0.647254,0.788352,1.0)  …  RGB{Float64}(0.647938,0.788763,1.0)\n",
       " RGB{Float64}(0.648971,0.789382,1.0)     RGB{Float64}(0.649647,0.789788,1.0)\n",
       " RGB{Float64}(0.650704,0.790423,1.0)     RGB{Float64}(0.651374,0.790824,1.0)\n",
       " RGB{Float64}(0.652455,0.791473,1.0)     RGB{Float64}(0.653117,0.79187,1.0)\n",
       " RGB{Float64}(0.654223,0.792534,1.0)     RGB{Float64}(0.654877,0.792926,1.0)\n",
       " RGB{Float64}(0.656008,0.793605,1.0)  …  RGB{Float64}(0.656654,0.793993,1.0)\n",
       " RGB{Float64}(0.65781,0.794686,1.0)      RGB{Float64}(0.658448,0.795069,1.0)\n",
       " RGB{Float64}(0.659629,0.795777,1.0)     RGB{Float64}(0.660258,0.796155,1.0)\n",
       " RGB{Float64}(0.661464,0.796878,1.0)     RGB{Float64}(0.662084,0.79725,1.0)\n",
       " RGB{Float64}(0.663316,0.79799,1.0)      RGB{Float64}(0.663926,0.798356,1.0)\n",
       " RGB{Float64}(0.665184,0.79911,1.0)   …  RGB{Float64}(0.665785,0.799471,1.0)\n",
       " RGB{Float64}(0.667069,0.800241,1.0)     RGB{Float64}(0.667659,0.800596,1.0)\n",
       " RGB{Float64}(0.668969,0.801381,1.0)     RGB{Float64}(0.669549,0.80173,1.0)\n",
       " ⋮                                    ⋱  \n",
       " RGB{Float64}(0.831031,0.898619,1.0)     RGB{Float64}(0.830451,0.89827,1.0)\n",
       " RGB{Float64}(0.832931,0.899759,1.0)     RGB{Float64}(0.832341,0.899404,1.0)\n",
       " RGB{Float64}(0.834816,0.90089,1.0)   …  RGB{Float64}(0.834215,0.900529,1.0)\n",
       " RGB{Float64}(0.836684,0.90201,1.0)      RGB{Float64}(0.836074,0.901644,1.0)\n",
       " RGB{Float64}(0.838536,0.903122,1.0)     RGB{Float64}(0.837916,0.90275,1.0)\n",
       " RGB{Float64}(0.840371,0.904223,1.0)     RGB{Float64}(0.839742,0.903845,1.0)\n",
       " RGB{Float64}(0.84219,0.905314,1.0)      RGB{Float64}(0.841552,0.904931,1.0)\n",
       " RGB{Float64}(0.843992,0.906395,1.0)  …  RGB{Float64}(0.843346,0.906007,1.0)\n",
       " RGB{Float64}(0.845777,0.907466,1.0)     RGB{Float64}(0.845123,0.907074,1.0)\n",
       " RGB{Float64}(0.847545,0.908527,1.0)     RGB{Float64}(0.846883,0.90813,1.0)\n",
       " RGB{Float64}(0.849296,0.909577,1.0)     RGB{Float64}(0.848626,0.909176,1.0)\n",
       " RGB{Float64}(0.851029,0.910618,1.0)     RGB{Float64}(0.850353,0.910212,1.0)"
      ]
     },
     "execution_count": 15,
     "metadata": {},
     "output_type": "execute_result"
    }
   ],
   "source": [
    "render()"
   ]
  },
  {
   "cell_type": "markdown",
   "metadata": {},
   "source": [
    "# 6. Surface Normals and Multiple Objects"
   ]
  },
  {
   "cell_type": "code",
   "execution_count": 16,
   "metadata": {},
   "outputs": [
    {
     "data": {
      "text/plain": [
       "hit_sphere (generic function with 1 method)"
      ]
     },
     "execution_count": 16,
     "metadata": {},
     "output_type": "execute_result"
    }
   ],
   "source": [
    "function hit_sphere(center, radius, r)\n",
    "    oc = r.origin - center\n",
    "    a = dot(r.direction, r.direction)\n",
    "    b = 2 * dot(oc, r.direction)\n",
    "    c = dot(oc, oc) - radius * radius\n",
    "    discriminant = b * b - 4 * a * c\n",
    "    if discriminant < 0\n",
    "        -1\n",
    "    else\n",
    "        (-b - sqrt(discriminant)) / (2 * a)\n",
    "    end\n",
    "end"
   ]
  },
  {
   "cell_type": "code",
   "execution_count": 17,
   "metadata": {},
   "outputs": [
    {
     "data": {
      "text/plain": [
       "color (generic function with 2 methods)"
      ]
     },
     "execution_count": 17,
     "metadata": {},
     "output_type": "execute_result"
    }
   ],
   "source": [
    "function color(r::RayM.Ray)\n",
    "    t = hit_sphere([0, 0, -1], 0.5, r)\n",
    "    if t > 0\n",
    "        n = normalize(at(r, t) - [0, 0, -1])\n",
    "        return 0.5 * (n .+ 1)\n",
    "    end\n",
    "    unit_direction = normalize(r.direction)\n",
    "    t = 0.5 * (y(unit_direction) + 1)\n",
    "    (1 - t) * [1, 1, 1] + t * [0.5, 0.7, 1]\n",
    "end"
   ]
  },
  {
   "cell_type": "code",
   "execution_count": 18,
   "metadata": {},
   "outputs": [
    {
     "name": "stderr",
     "output_type": "stream",
     "text": [
      "\u001b[32mProgress: 100%|█████████████████████████████████████████| Time: 0:00:00\u001b[39m\n"
     ]
    },
    {
     "data": {
      "image/png": "[encoded data removed]",
      "text/plain": [
       "100×200 Array{RGB{Float64},2} with eltype RGB{Float64}:\n",
       " RGB{Float64}(0.647254,0.788352,1.0)  …  RGB{Float64}(0.647938,0.788763,1.0)\n",
       " RGB{Float64}(0.648971,0.789382,1.0)     RGB{Float64}(0.649647,0.789788,1.0)\n",
       " RGB{Float64}(0.650704,0.790423,1.0)     RGB{Float64}(0.651374,0.790824,1.0)\n",
       " RGB{Float64}(0.652455,0.791473,1.0)     RGB{Float64}(0.653117,0.79187,1.0)\n",
       " RGB{Float64}(0.654223,0.792534,1.0)     RGB{Float64}(0.654877,0.792926,1.0)\n",
       " RGB{Float64}(0.656008,0.793605,1.0)  …  RGB{Float64}(0.656654,0.793993,1.0)\n",
       " RGB{Float64}(0.65781,0.794686,1.0)      RGB{Float64}(0.658448,0.795069,1.0)\n",
       " RGB{Float64}(0.659629,0.795777,1.0)     RGB{Float64}(0.660258,0.796155,1.0)\n",
       " RGB{Float64}(0.661464,0.796878,1.0)     RGB{Float64}(0.662084,0.79725,1.0)\n",
       " RGB{Float64}(0.663316,0.79799,1.0)      RGB{Float64}(0.663926,0.798356,1.0)\n",
       " RGB{Float64}(0.665184,0.79911,1.0)   …  RGB{Float64}(0.665785,0.799471,1.0)\n",
       " RGB{Float64}(0.667069,0.800241,1.0)     RGB{Float64}(0.667659,0.800596,1.0)\n",
       " RGB{Float64}(0.668969,0.801381,1.0)     RGB{Float64}(0.669549,0.80173,1.0)\n",
       " ⋮                                    ⋱  \n",
       " RGB{Float64}(0.831031,0.898619,1.0)     RGB{Float64}(0.830451,0.89827,1.0)\n",
       " RGB{Float64}(0.832931,0.899759,1.0)     RGB{Float64}(0.832341,0.899404,1.0)\n",
       " RGB{Float64}(0.834816,0.90089,1.0)   …  RGB{Float64}(0.834215,0.900529,1.0)\n",
       " RGB{Float64}(0.836684,0.90201,1.0)      RGB{Float64}(0.836074,0.901644,1.0)\n",
       " RGB{Float64}(0.838536,0.903122,1.0)     RGB{Float64}(0.837916,0.90275,1.0)\n",
       " RGB{Float64}(0.840371,0.904223,1.0)     RGB{Float64}(0.839742,0.903845,1.0)\n",
       " RGB{Float64}(0.84219,0.905314,1.0)      RGB{Float64}(0.841552,0.904931,1.0)\n",
       " RGB{Float64}(0.843992,0.906395,1.0)  …  RGB{Float64}(0.843346,0.906007,1.0)\n",
       " RGB{Float64}(0.845777,0.907466,1.0)     RGB{Float64}(0.845123,0.907074,1.0)\n",
       " RGB{Float64}(0.847545,0.908527,1.0)     RGB{Float64}(0.846883,0.90813,1.0)\n",
       " RGB{Float64}(0.849296,0.909577,1.0)     RGB{Float64}(0.848626,0.909176,1.0)\n",
       " RGB{Float64}(0.851029,0.910618,1.0)     RGB{Float64}(0.850353,0.910212,1.0)"
      ]
     },
     "execution_count": 18,
     "metadata": {},
     "output_type": "execute_result"
    }
   ],
   "source": [
    "render()"
   ]
  },
  {
   "cell_type": "code",
   "execution_count": 19,
   "metadata": {},
   "outputs": [
    {
     "data": {
      "text/plain": [
       "hit_sphere (generic function with 1 method)"
      ]
     },
     "execution_count": 19,
     "metadata": {},
     "output_type": "execute_result"
    }
   ],
   "source": [
    "function hit_sphere(center, radius, r)\n",
    "    oc = r.origin - center\n",
    "    a = norm(r.direction)^2\n",
    "    half_b = dot(oc, r.direction)\n",
    "    c = norm(oc)^2 - radius * radius\n",
    "    discriminant = half_b * half_b - a * c\n",
    "    \n",
    "    if discriminant < 0\n",
    "        -1\n",
    "    else\n",
    "        (-half_b - sqrt(discriminant)) / a\n",
    "    end\n",
    "end"
   ]
  },
  {
   "cell_type": "code",
   "execution_count": 20,
   "metadata": {},
   "outputs": [
    {
     "name": "stderr",
     "output_type": "stream",
     "text": [
      "\u001b[32mProgress: 100%|█████████████████████████████████████████| Time: 0:00:00\u001b[39m\n"
     ]
    },
    {
     "data": {
      "image/png": "[encoded data removed]",
      "text/plain": [
       "100×200 Array{RGB{Float64},2} with eltype RGB{Float64}:\n",
       " RGB{Float64}(0.647254,0.788352,1.0)  …  RGB{Float64}(0.647938,0.788763,1.0)\n",
       " RGB{Float64}(0.648971,0.789382,1.0)     RGB{Float64}(0.649647,0.789788,1.0)\n",
       " RGB{Float64}(0.650704,0.790423,1.0)     RGB{Float64}(0.651374,0.790824,1.0)\n",
       " RGB{Float64}(0.652455,0.791473,1.0)     RGB{Float64}(0.653117,0.79187,1.0)\n",
       " RGB{Float64}(0.654223,0.792534,1.0)     RGB{Float64}(0.654877,0.792926,1.0)\n",
       " RGB{Float64}(0.656008,0.793605,1.0)  …  RGB{Float64}(0.656654,0.793993,1.0)\n",
       " RGB{Float64}(0.65781,0.794686,1.0)      RGB{Float64}(0.658448,0.795069,1.0)\n",
       " RGB{Float64}(0.659629,0.795777,1.0)     RGB{Float64}(0.660258,0.796155,1.0)\n",
       " RGB{Float64}(0.661464,0.796878,1.0)     RGB{Float64}(0.662084,0.79725,1.0)\n",
       " RGB{Float64}(0.663316,0.79799,1.0)      RGB{Float64}(0.663926,0.798356,1.0)\n",
       " RGB{Float64}(0.665184,0.79911,1.0)   …  RGB{Float64}(0.665785,0.799471,1.0)\n",
       " RGB{Float64}(0.667069,0.800241,1.0)     RGB{Float64}(0.667659,0.800596,1.0)\n",
       " RGB{Float64}(0.668969,0.801381,1.0)     RGB{Float64}(0.669549,0.80173,1.0)\n",
       " ⋮                                    ⋱  \n",
       " RGB{Float64}(0.831031,0.898619,1.0)     RGB{Float64}(0.830451,0.89827,1.0)\n",
       " RGB{Float64}(0.832931,0.899759,1.0)     RGB{Float64}(0.832341,0.899404,1.0)\n",
       " RGB{Float64}(0.834816,0.90089,1.0)   …  RGB{Float64}(0.834215,0.900529,1.0)\n",
       " RGB{Float64}(0.836684,0.90201,1.0)      RGB{Float64}(0.836074,0.901644,1.0)\n",
       " RGB{Float64}(0.838536,0.903122,1.0)     RGB{Float64}(0.837916,0.90275,1.0)\n",
       " RGB{Float64}(0.840371,0.904223,1.0)     RGB{Float64}(0.839742,0.903845,1.0)\n",
       " RGB{Float64}(0.84219,0.905314,1.0)      RGB{Float64}(0.841552,0.904931,1.0)\n",
       " RGB{Float64}(0.843992,0.906395,1.0)  …  RGB{Float64}(0.843346,0.906007,1.0)\n",
       " RGB{Float64}(0.845777,0.907466,1.0)     RGB{Float64}(0.845123,0.907074,1.0)\n",
       " RGB{Float64}(0.847545,0.908527,1.0)     RGB{Float64}(0.846883,0.90813,1.0)\n",
       " RGB{Float64}(0.849296,0.909577,1.0)     RGB{Float64}(0.848626,0.909176,1.0)\n",
       " RGB{Float64}(0.851029,0.910618,1.0)     RGB{Float64}(0.850353,0.910212,1.0)"
      ]
     },
     "execution_count": 20,
     "metadata": {},
     "output_type": "execute_result"
    }
   ],
   "source": [
    "render()"
   ]
  },
  {
   "cell_type": "code",
   "execution_count": 21,
   "metadata": {},
   "outputs": [
    {
     "data": {
      "text/plain": [
       "Main.HitRecordM"
      ]
     },
     "execution_count": 21,
     "metadata": {},
     "output_type": "execute_result"
    }
   ],
   "source": [
    "module HitRecordM\n",
    "mutable struct HitRecord\n",
    "    p\n",
    "    normal\n",
    "    t\n",
    "    front_face\n",
    "    \n",
    "    HitRecord() = new([0, 0, 0], [0, 0, 0], 0, false)\n",
    "end\n",
    "end"
   ]
  },
  {
   "cell_type": "code",
   "execution_count": 22,
   "metadata": {},
   "outputs": [
    {
     "data": {
      "text/plain": [
       "set_face_normal (generic function with 1 method)"
      ]
     },
     "execution_count": 22,
     "metadata": {},
     "output_type": "execute_result"
    }
   ],
   "source": [
    "function set_face_normal(rec::HitRecordM.HitRecord, r, outward_normal)\n",
    "    rec.front_face = dot(r.direction, outward_normal) < 0\n",
    "    rec.normal = if rec.front_face\n",
    "        outward_normal \n",
    "    else\n",
    "        -outward_normal\n",
    "    end\n",
    "end"
   ]
  },
  {
   "cell_type": "code",
   "execution_count": 23,
   "metadata": {},
   "outputs": [],
   "source": [
    "abstract type Hittable end"
   ]
  },
  {
   "cell_type": "code",
   "execution_count": 24,
   "metadata": {},
   "outputs": [
    {
     "data": {
      "text/plain": [
       "Main.SphereM"
      ]
     },
     "execution_count": 24,
     "metadata": {},
     "output_type": "execute_result"
    }
   ],
   "source": [
    "module SphereM\n",
    "struct Sphere <: Main.Hittable\n",
    "    center\n",
    "    radius\n",
    "end\n",
    "end"
   ]
  },
  {
   "cell_type": "code",
   "execution_count": 25,
   "metadata": {},
   "outputs": [
    {
     "data": {
      "text/plain": [
       "hit (generic function with 1 method)"
      ]
     },
     "execution_count": 25,
     "metadata": {},
     "output_type": "execute_result"
    }
   ],
   "source": [
    "function hit(sphere::SphereM.Sphere, r, t_min, t_max, rec)\n",
    "    oc = r.origin - sphere.center\n",
    "    a = norm(r.direction)^2\n",
    "    half_b = dot(oc, r.direction)\n",
    "    c = norm(oc)^2 - sphere.radius * sphere.radius\n",
    "    discriminant = half_b * half_b - a * c\n",
    "    \n",
    "    if discriminant > 0\n",
    "        root = sqrt(discriminant)\n",
    "        temp = (-half_b - root) / a\n",
    "        if t_min < temp < t_max \n",
    "            rec.t = temp\n",
    "            rec.p = at(r, rec.t)\n",
    "            outward_normal = (rec.p - sphere.center) / sphere.radius\n",
    "            set_face_normal(rec, r, outward_normal)\n",
    "            return true\n",
    "        end\n",
    "        temp = (-half_b + root) / a\n",
    "        if t_min < temp < t_max\n",
    "            rec.t = temp\n",
    "            rec.p = at(r, rec.t)\n",
    "            outward_normal = (rec.p - sphere.center) / sphere.radius\n",
    "            set_face_normal(rec, r, outward_normal)\n",
    "            return true\n",
    "        end\n",
    "    end\n",
    "    false\n",
    "end"
   ]
  },
  {
   "cell_type": "code",
   "execution_count": 26,
   "metadata": {},
   "outputs": [
    {
     "data": {
      "text/plain": [
       "Main.HittableListM"
      ]
     },
     "execution_count": 26,
     "metadata": {},
     "output_type": "execute_result"
    }
   ],
   "source": [
    "module HittableListM\n",
    "struct HittableList <: Main.Hittable\n",
    "    objects\n",
    "end\n",
    "end"
   ]
  },
  {
   "cell_type": "code",
   "execution_count": 27,
   "metadata": {},
   "outputs": [
    {
     "data": {
      "text/plain": [
       "hit (generic function with 2 methods)"
      ]
     },
     "execution_count": 27,
     "metadata": {},
     "output_type": "execute_result"
    }
   ],
   "source": [
    "function hit(hittable_list::HittableListM.HittableList, r, t_min, t_max, rec)\n",
    "    temp_rec = HitRecordM.HitRecord()\n",
    "    hit_anything = false\n",
    "    closest_so_far = t_max\n",
    "    \n",
    "    for object in hittable_list.objects\n",
    "        if hit(object, r, t_min, closest_so_far, temp_rec)\n",
    "            hit_anything = true\n",
    "            closest_so_far = temp_rec.t\n",
    "            rec.p = temp_rec.p\n",
    "            rec.normal = temp_rec.normal\n",
    "            rec.t = temp_rec.t\n",
    "            rec.front_face = temp_rec.front_face\n",
    "        end\n",
    "    end\n",
    "    \n",
    "    hit_anything\n",
    "end"
   ]
  },
  {
   "cell_type": "code",
   "execution_count": 28,
   "metadata": {},
   "outputs": [
    {
     "data": {
      "text/plain": [
       "color (generic function with 3 methods)"
      ]
     },
     "execution_count": 28,
     "metadata": {},
     "output_type": "execute_result"
    }
   ],
   "source": [
    "function color(r::RayM.Ray, world::Hittable)\n",
    "    rec = HitRecordM.HitRecord()\n",
    "    if hit(world, r, 0, Inf, rec)\n",
    "        return 0.5 * (rec.normal .+ 1)\n",
    "    end\n",
    "    unit_direction = normalize(r.direction)\n",
    "    t = 0.5 * (y(unit_direction) + 1)\n",
    "    (1 - t) * [1, 1, 1] + t * [0.5, 0.7, 1]\n",
    "end"
   ]
  },
  {
   "cell_type": "code",
   "execution_count": 29,
   "metadata": {},
   "outputs": [
    {
     "data": {
      "text/plain": [
       "Main.HittableListM.HittableList(Main.SphereM.Sphere[Main.SphereM.Sphere([0, 0, -1], 0.5), Main.SphereM.Sphere([0.0, -100.5, -1.0], 100)])"
      ]
     },
     "execution_count": 29,
     "metadata": {},
     "output_type": "execute_result"
    }
   ],
   "source": [
    "world = HittableListM.HittableList([\n",
    "        SphereM.Sphere([0, 0, -1], 0.5), \n",
    "        SphereM.Sphere([0, -100.5, -1], 100)\n",
    "        ])"
   ]
  },
  {
   "cell_type": "code",
   "execution_count": 30,
   "metadata": {},
   "outputs": [
    {
     "data": {
      "text/plain": [
       "color (generic function with 3 methods)"
      ]
     },
     "execution_count": 30,
     "metadata": {},
     "output_type": "execute_result"
    }
   ],
   "source": [
    "function color(i, j) \n",
    "    u = i / image_width\n",
    "    v = j / image_height\n",
    "    r = RayM.Ray(origin, lower_left_corner + u * horizontal + v * vertical)\n",
    "    color(r, world)\n",
    "end"
   ]
  },
  {
   "cell_type": "code",
   "execution_count": 31,
   "metadata": {},
   "outputs": [
    {
     "name": "stderr",
     "output_type": "stream",
     "text": [
      "\u001b[32mProgress: 100%|█████████████████████████████████████████| Time: 0:00:00\u001b[39m\n"
     ]
    },
    {
     "data": {
      "image/png": "[encoded data removed]",
      "text/plain": [
       "100×200 Array{RGB{Float64},2} with eltype RGB{Float64}:\n",
       " RGB{Float64}(0.647254,0.788352,1.0)       …  RGB{Float64}(0.647938,0.788763,1.0)\n",
       " RGB{Float64}(0.648971,0.789382,1.0)          RGB{Float64}(0.649647,0.789788,1.0)\n",
       " RGB{Float64}(0.650704,0.790423,1.0)          RGB{Float64}(0.651374,0.790824,1.0)\n",
       " RGB{Float64}(0.652455,0.791473,1.0)          RGB{Float64}(0.653117,0.79187,1.0)\n",
       " RGB{Float64}(0.654223,0.792534,1.0)          RGB{Float64}(0.654877,0.792926,1.0)\n",
       " RGB{Float64}(0.656008,0.793605,1.0)       …  RGB{Float64}(0.656654,0.793993,1.0)\n",
       " RGB{Float64}(0.65781,0.794686,1.0)           RGB{Float64}(0.658448,0.795069,1.0)\n",
       " RGB{Float64}(0.659629,0.795777,1.0)          RGB{Float64}(0.660258,0.796155,1.0)\n",
       " RGB{Float64}(0.661464,0.796878,1.0)          RGB{Float64}(0.662084,0.79725,1.0)\n",
       " RGB{Float64}(0.663316,0.79799,1.0)           RGB{Float64}(0.663926,0.798356,1.0)\n",
       " RGB{Float64}(0.665184,0.79911,1.0)        …  RGB{Float64}(0.665785,0.799471,1.0)\n",
       " RGB{Float64}(0.667069,0.800241,1.0)          RGB{Float64}(0.667659,0.800596,1.0)\n",
       " RGB{Float64}(0.668969,0.801381,1.0)          RGB{Float64}(0.669549,0.80173,1.0)\n",
       " ⋮                                         ⋱  \n",
       " RGB{Float64}(0.493365,0.999953,0.501649)     RGB{Float64}(0.506704,0.999952,0.501648)\n",
       " RGB{Float64}(0.49354,0.999955,0.501738)      RGB{Float64}(0.506527,0.999954,0.501736)\n",
       " RGB{Float64}(0.493706,0.999957,0.501821)  …  RGB{Float64}(0.506359,0.999956,0.50182)\n",
       " RGB{Float64}(0.493864,0.999959,0.501901)     RGB{Float64}(0.5062,0.999958,0.5019)\n",
       " RGB{Float64}(0.494013,0.99996,0.501976)      RGB{Float64}(0.506049,0.99996,0.501976)\n",
       " RGB{Float64}(0.494156,0.999962,0.502048)     RGB{Float64}(0.505905,0.999961,0.502048)\n",
       " RGB{Float64}(0.494292,0.999963,0.502117)     RGB{Float64}(0.505768,0.999962,0.502116)\n",
       " RGB{Float64}(0.494421,0.999964,0.502182)  …  RGB{Float64}(0.505637,0.999963,0.502182)\n",
       " RGB{Float64}(0.494545,0.999965,0.502245)     RGB{Float64}(0.505512,0.999965,0.502244)\n",
       " RGB{Float64}(0.494663,0.999966,0.502304)     RGB{Float64}(0.505392,0.999966,0.502304)\n",
       " RGB{Float64}(0.494776,0.999967,0.502362)     RGB{Float64}(0.505278,0.999967,0.502361)\n",
       " RGB{Float64}(0.494884,0.999968,0.502416)     RGB{Float64}(0.505168,0.999967,0.502416)"
      ]
     },
     "execution_count": 31,
     "metadata": {},
     "output_type": "execute_result"
    }
   ],
   "source": [
    "render()"
   ]
  },
  {
   "cell_type": "markdown",
   "metadata": {},
   "source": [
    "# 7. Antialiasing"
   ]
  },
  {
   "cell_type": "code",
   "execution_count": 32,
   "metadata": {},
   "outputs": [
    {
     "data": {
      "text/plain": [
       "Main.CameraM"
      ]
     },
     "execution_count": 32,
     "metadata": {},
     "output_type": "execute_result"
    }
   ],
   "source": [
    "module CameraM\n",
    "struct Camera\n",
    "    origin\n",
    "    lower_left_corner\n",
    "    horizontal\n",
    "    vertical\n",
    "    \n",
    "    Camera() = new([0, 0, 0], [-2, -1, -1], [4, 0, 0], [0, 2, 0])\n",
    "end\n",
    "end"
   ]
  },
  {
   "cell_type": "code",
   "execution_count": 33,
   "metadata": {},
   "outputs": [
    {
     "data": {
      "text/plain": [
       "get_ray (generic function with 1 method)"
      ]
     },
     "execution_count": 33,
     "metadata": {},
     "output_type": "execute_result"
    }
   ],
   "source": [
    "get_ray(camera::CameraM.Camera, u, v) = RayM.Ray(camera.origin, camera.lower_left_corner + u * camera.horizontal + v * camera.vertical - camera.origin)"
   ]
  },
  {
   "cell_type": "code",
   "execution_count": 34,
   "metadata": {},
   "outputs": [],
   "source": [
    "samples_per_pixel = 100;"
   ]
  },
  {
   "cell_type": "code",
   "execution_count": 35,
   "metadata": {},
   "outputs": [
    {
     "data": {
      "text/plain": [
       "Main.CameraM.Camera([0, 0, 0], [-2, -1, -1], [4, 0, 0], [0, 2, 0])"
      ]
     },
     "execution_count": 35,
     "metadata": {},
     "output_type": "execute_result"
    }
   ],
   "source": [
    "cam = CameraM.Camera()"
   ]
  },
  {
   "cell_type": "code",
   "execution_count": 36,
   "metadata": {},
   "outputs": [
    {
     "data": {
      "text/plain": [
       "color (generic function with 3 methods)"
      ]
     },
     "execution_count": 36,
     "metadata": {},
     "output_type": "execute_result"
    }
   ],
   "source": [
    "function color(i, j) \n",
    "    c = [0, 0, 0]\n",
    "    for _ in 1:samples_per_pixel\n",
    "        u = (i + rand()) / image_width\n",
    "        v = (j + rand()) / image_height\n",
    "        r = get_ray(cam, u, v)\n",
    "        c += color(r, world)\n",
    "    end\n",
    "    c / samples_per_pixel\n",
    "end"
   ]
  },
  {
   "cell_type": "code",
   "execution_count": 37,
   "metadata": {},
   "outputs": [
    {
     "name": "stderr",
     "output_type": "stream",
     "text": [
      "\u001b[32mProgress: 100%|█████████████████████████████████████████| Time: 0:00:05\u001b[39m\n"
     ]
    },
    {
     "data": {
      "image/png": "[encoded data removed]",
      "text/plain": [
       "100×200 Array{RGB{Float64},2} with eltype RGB{Float64}:\n",
       " RGB{Float64}(0.646053,0.787632,1.0)       …  RGB{Float64}(0.647416,0.788449,1.0)\n",
       " RGB{Float64}(0.647755,0.788653,1.0)          RGB{Float64}(0.649169,0.789501,1.0)\n",
       " RGB{Float64}(0.649499,0.789699,1.0)          RGB{Float64}(0.650869,0.790521,1.0)\n",
       " RGB{Float64}(0.651152,0.790691,1.0)          RGB{Float64}(0.652547,0.791528,1.0)\n",
       " RGB{Float64}(0.653026,0.791816,1.0)          RGB{Float64}(0.654325,0.792595,1.0)\n",
       " RGB{Float64}(0.654761,0.792856,1.0)       …  RGB{Float64}(0.65602,0.793612,1.0)\n",
       " RGB{Float64}(0.656685,0.794011,1.0)          RGB{Float64}(0.657866,0.79472,1.0)\n",
       " RGB{Float64}(0.658449,0.795069,1.0)          RGB{Float64}(0.659652,0.795791,1.0)\n",
       " RGB{Float64}(0.660222,0.796133,1.0)          RGB{Float64}(0.661496,0.796898,1.0)\n",
       " RGB{Float64}(0.662081,0.797249,1.0)          RGB{Float64}(0.663446,0.798068,1.0)\n",
       " RGB{Float64}(0.663924,0.798354,1.0)       …  RGB{Float64}(0.665045,0.799027,1.0)\n",
       " RGB{Float64}(0.665789,0.799473,1.0)          RGB{Float64}(0.666987,0.800192,1.0)\n",
       " RGB{Float64}(0.667764,0.800658,1.0)          RGB{Float64}(0.668902,0.801341,1.0)\n",
       " ⋮                                         ⋱  \n",
       " RGB{Float64}(0.493303,0.999953,0.5016)       RGB{Float64}(0.506833,0.999951,0.501602)\n",
       " RGB{Float64}(0.493482,0.999955,0.501691)     RGB{Float64}(0.506639,0.999953,0.501697)\n",
       " RGB{Float64}(0.49365,0.999957,0.501777)   …  RGB{Float64}(0.506468,0.999955,0.501781)\n",
       " RGB{Float64}(0.493817,0.999958,0.501861)     RGB{Float64}(0.506314,0.999957,0.50186)\n",
       " RGB{Float64}(0.493967,0.99996,0.501939)      RGB{Float64}(0.506154,0.999958,0.501938)\n",
       " RGB{Float64}(0.494115,0.999961,0.502012)     RGB{Float64}(0.506007,0.99996,0.502011)\n",
       " RGB{Float64}(0.494259,0.999963,0.502085)     RGB{Float64}(0.505858,0.999961,0.502086)\n",
       " RGB{Float64}(0.494384,0.999964,0.502149)  …  RGB{Float64}(0.505731,0.999963,0.502149)\n",
       " RGB{Float64}(0.494501,0.999965,0.50221)      RGB{Float64}(0.505596,0.999964,0.502216)\n",
       " RGB{Float64}(0.494629,0.999966,0.502274)     RGB{Float64}(0.505478,0.999965,0.502275)\n",
       " RGB{Float64}(0.494746,0.999967,0.502333)     RGB{Float64}(0.505365,0.999966,0.502331)\n",
       " RGB{Float64}(0.494854,0.999968,0.502388)     RGB{Float64}(0.505253,0.999967,0.502387)"
      ]
     },
     "execution_count": 37,
     "metadata": {},
     "output_type": "execute_result"
    }
   ],
   "source": [
    "render()"
   ]
  },
  {
   "cell_type": "markdown",
   "metadata": {},
   "source": [
    "# 8. Diffuse Materials"
   ]
  },
  {
   "cell_type": "code",
   "execution_count": 38,
   "metadata": {},
   "outputs": [
    {
     "data": {
      "text/plain": [
       "random_in_unit_sphere (generic function with 1 method)"
      ]
     },
     "execution_count": 38,
     "metadata": {},
     "output_type": "execute_result"
    }
   ],
   "source": [
    "function random_in_unit_sphere()\n",
    "    while true\n",
    "        p = rand(-1:eps():1, 3)\n",
    "        if norm(p)^2 > 1\n",
    "            continue\n",
    "        end\n",
    "        return p\n",
    "    end\n",
    "end"
   ]
  },
  {
   "cell_type": "code",
   "execution_count": 39,
   "metadata": {},
   "outputs": [
    {
     "data": {
      "text/plain": [
       "color (generic function with 4 methods)"
      ]
     },
     "execution_count": 39,
     "metadata": {},
     "output_type": "execute_result"
    }
   ],
   "source": [
    "function color(r::RayM.Ray, world::Hittable, depth)\n",
    "    rec = HitRecordM.HitRecord()\n",
    "    \n",
    "    if depth <= 0\n",
    "        return [0, 0, 0]\n",
    "    end\n",
    "    \n",
    "    if hit(world, r, 0, Inf, rec)\n",
    "        target = rec.p + rec.normal + random_in_unit_sphere()\n",
    "        return 0.5 * color(RayM.Ray(rec.p, target - rec.p), world, depth - 1)\n",
    "    end\n",
    "    unit_direction = normalize(r.direction)\n",
    "    t = 0.5 * (y(unit_direction) + 1)\n",
    "    (1 - t) * [1, 1, 1] + t * [0.5, 0.7, 1]\n",
    "end"
   ]
  },
  {
   "cell_type": "code",
   "execution_count": 40,
   "metadata": {},
   "outputs": [],
   "source": [
    "max_depth = 50;"
   ]
  },
  {
   "cell_type": "code",
   "execution_count": 41,
   "metadata": {},
   "outputs": [
    {
     "data": {
      "text/plain": [
       "color (generic function with 4 methods)"
      ]
     },
     "execution_count": 41,
     "metadata": {},
     "output_type": "execute_result"
    }
   ],
   "source": [
    "function color(i, j) \n",
    "    c = [0, 0, 0]\n",
    "    for _ in 1:samples_per_pixel\n",
    "        u = (i + rand()) / image_width\n",
    "        v = (j + rand()) / image_height\n",
    "        r = get_ray(cam, u, v)\n",
    "        c += color(r, world, max_depth)\n",
    "    end\n",
    "    c / samples_per_pixel\n",
    "end"
   ]
  },
  {
   "cell_type": "code",
   "execution_count": 42,
   "metadata": {},
   "outputs": [
    {
     "name": "stderr",
     "output_type": "stream",
     "text": [
      "\u001b[32mProgress: 100%|█████████████████████████████████████████| Time: 0:00:16\u001b[39m\n"
     ]
    },
    {
     "data": {
      "image/png": "[encoded data removed]",
      "text/plain": [
       "100×200 Array{RGB{Float64},2} with eltype RGB{Float64}:\n",
       " RGB{Float64}(0.646099,0.78766,1.0)        …  RGB{Float64}(0.647412,0.788447,1.0)\n",
       " RGB{Float64}(0.647718,0.788631,1.0)          RGB{Float64}(0.649074,0.789444,1.0)\n",
       " RGB{Float64}(0.649411,0.789647,1.0)          RGB{Float64}(0.650829,0.790497,1.0)\n",
       " RGB{Float64}(0.651253,0.790752,1.0)          RGB{Float64}(0.652537,0.791522,1.0)\n",
       " RGB{Float64}(0.652957,0.791774,1.0)          RGB{Float64}(0.654334,0.7926,1.0)\n",
       " RGB{Float64}(0.654723,0.792834,1.0)       …  RGB{Float64}(0.656016,0.79361,1.0)\n",
       " RGB{Float64}(0.656616,0.79397,1.0)           RGB{Float64}(0.657872,0.794723,1.0)\n",
       " RGB{Float64}(0.658457,0.795074,1.0)          RGB{Float64}(0.659604,0.795762,1.0)\n",
       " RGB{Float64}(0.660172,0.796103,1.0)          RGB{Float64}(0.661456,0.796873,1.0)\n",
       " RGB{Float64}(0.662189,0.797313,1.0)          RGB{Float64}(0.663237,0.797942,1.0)\n",
       " RGB{Float64}(0.663948,0.798369,1.0)       …  RGB{Float64}(0.665188,0.799113,1.0)\n",
       " RGB{Float64}(0.665799,0.79948,1.0)           RGB{Float64}(0.666949,0.800169,1.0)\n",
       " RGB{Float64}(0.667718,0.800631,1.0)          RGB{Float64}(0.668966,0.80138,1.0)\n",
       " ⋮                                         ⋱  \n",
       " RGB{Float64}(0.222867,0.294756,0.40259)      RGB{Float64}(0.230447,0.306286,0.420044)\n",
       " RGB{Float64}(0.204418,0.271401,0.371876)     RGB{Float64}(0.209442,0.277992,0.380817)\n",
       " RGB{Float64}(0.2004,0.266168,0.364819)    …  RGB{Float64}(0.20786,0.276638,0.379805)\n",
       " RGB{Float64}(0.205548,0.273523,0.375486)     RGB{Float64}(0.206031,0.274472,0.377134)\n",
       " RGB{Float64}(0.217488,0.289515,0.397555)     RGB{Float64}(0.207209,0.276933,0.381518)\n",
       " RGB{Float64}(0.223383,0.297362,0.408329)     RGB{Float64}(0.213958,0.285701,0.393314)\n",
       " RGB{Float64}(0.223219,0.296103,0.40543)      RGB{Float64}(0.186134,0.247892,0.340531)\n",
       " RGB{Float64}(0.203471,0.2706,0.371293)    …  RGB{Float64}(0.198657,0.262652,0.358643)\n",
       " RGB{Float64}(0.222228,0.295986,0.406622)     RGB{Float64}(0.203714,0.271951,0.374307)\n",
       " RGB{Float64}(0.216375,0.287903,0.395196)     RGB{Float64}(0.215027,0.285919,0.392257)\n",
       " RGB{Float64}(0.226281,0.300664,0.412239)     RGB{Float64}(0.205197,0.27457,0.37863)\n",
       " RGB{Float64}(0.239234,0.317305,0.434411)     RGB{Float64}(0.212512,0.28339,0.389708)"
      ]
     },
     "execution_count": 42,
     "metadata": {},
     "output_type": "execute_result"
    }
   ],
   "source": [
    "render()"
   ]
  },
  {
   "cell_type": "code",
   "execution_count": 43,
   "metadata": {},
   "outputs": [
    {
     "data": {
      "text/plain": [
       "color (generic function with 4 methods)"
      ]
     },
     "execution_count": 43,
     "metadata": {},
     "output_type": "execute_result"
    }
   ],
   "source": [
    "function color(i, j) \n",
    "    c = [0, 0, 0]\n",
    "    for _ in 1:samples_per_pixel\n",
    "        u = (i + rand()) / image_width\n",
    "        v = (j + rand()) / image_height\n",
    "        r = get_ray(cam, u, v)\n",
    "        c += color(r, world, max_depth)\n",
    "    end\n",
    "    sqrt.(c / samples_per_pixel)\n",
    "end"
   ]
  },
  {
   "cell_type": "code",
   "execution_count": 44,
   "metadata": {},
   "outputs": [
    {
     "name": "stderr",
     "output_type": "stream",
     "text": [
      "\u001b[32mProgress: 100%|█████████████████████████████████████████| Time: 0:00:16\u001b[39m\n"
     ]
    },
    {
     "data": {
      "image/png": "[encoded data removed]",
      "text/plain": [
       "100×200 Array{RGB{Float64},2} with eltype RGB{Float64}:\n",
       " RGB{Float64}(0.803762,0.88748,1.0)        …  RGB{Float64}(0.804639,0.887956,1.0)\n",
       " RGB{Float64}(0.804837,0.888064,1.0)          RGB{Float64}(0.805761,0.888566,1.0)\n",
       " RGB{Float64}(0.805908,0.888646,1.0)          RGB{Float64}(0.806648,0.889049,1.0)\n",
       " RGB{Float64}(0.807021,0.889252,1.0)          RGB{Float64}(0.807825,0.88969,1.0)\n",
       " RGB{Float64}(0.808148,0.889866,1.0)          RGB{Float64}(0.808968,0.890313,1.0)\n",
       " RGB{Float64}(0.809234,0.890458,1.0)       …  RGB{Float64}(0.810076,0.890918,1.0)\n",
       " RGB{Float64}(0.810298,0.891038,1.0)          RGB{Float64}(0.811148,0.891503,1.0)\n",
       " RGB{Float64}(0.811443,0.891663,1.0)          RGB{Float64}(0.812194,0.892074,1.0)\n",
       " RGB{Float64}(0.812544,0.892265,1.0)          RGB{Float64}(0.813293,0.892674,1.0)\n",
       " RGB{Float64}(0.813658,0.892874,1.0)          RGB{Float64}(0.814431,0.893297,1.0)\n",
       " RGB{Float64}(0.814812,0.893505,1.0)       …  RGB{Float64}(0.81551,0.893887,1.0)\n",
       " RGB{Float64}(0.816039,0.894177,1.0)          RGB{Float64}(0.816671,0.894523,1.0)\n",
       " RGB{Float64}(0.817105,0.894761,1.0)          RGB{Float64}(0.817859,0.895173,1.0)\n",
       " ⋮                                         ⋱  \n",
       " RGB{Float64}(0.473164,0.545995,0.639883)     RGB{Float64}(0.434861,0.498497,0.581027)\n",
       " RGB{Float64}(0.455487,0.525278,0.615296)     RGB{Float64}(0.4628,0.534413,0.626671)\n",
       " RGB{Float64}(0.467794,0.53915,0.631236)   …  RGB{Float64}(0.482342,0.556927,0.653023)\n",
       " RGB{Float64}(0.479184,0.550681,0.643193)     RGB{Float64}(0.44874,0.51875,0.608853)\n",
       " RGB{Float64}(0.460465,0.533099,0.626454)     RGB{Float64}(0.457199,0.52701,0.617092)\n",
       " RGB{Float64}(0.446681,0.512687,0.598193)     RGB{Float64}(0.452397,0.523449,0.614818)\n",
       " RGB{Float64}(0.472233,0.542395,0.633226)     RGB{Float64}(0.46617,0.538476,0.631601)\n",
       " RGB{Float64}(0.457158,0.525353,0.613596)  …  RGB{Float64}(0.465977,0.537907,0.630601)\n",
       " RGB{Float64}(0.437106,0.502987,0.588131)     RGB{Float64}(0.431063,0.497201,0.582494)\n",
       " RGB{Float64}(0.473208,0.544703,0.637074)     RGB{Float64}(0.466801,0.537207,0.62819)\n",
       " RGB{Float64}(0.451169,0.52054,0.609978)      RGB{Float64}(0.459649,0.529116,0.618866)\n",
       " RGB{Float64}(0.428254,0.491795,0.574068)     RGB{Float64}(0.455735,0.52382,0.611906)"
      ]
     },
     "execution_count": 44,
     "metadata": {},
     "output_type": "execute_result"
    }
   ],
   "source": [
    "render()"
   ]
  },
  {
   "cell_type": "code",
   "execution_count": 45,
   "metadata": {},
   "outputs": [
    {
     "data": {
      "text/plain": [
       "random_unit_vector (generic function with 1 method)"
      ]
     },
     "execution_count": 45,
     "metadata": {},
     "output_type": "execute_result"
    }
   ],
   "source": [
    "function random_unit_vector()\n",
    "    a = rand(0:eps():2pi)\n",
    "    z = rand(-1:eps():1)\n",
    "    r = sqrt(1 - z * z)\n",
    "    [r*cos(a), r*sin(a), z]\n",
    "end"
   ]
  },
  {
   "cell_type": "code",
   "execution_count": 46,
   "metadata": {},
   "outputs": [
    {
     "data": {
      "text/plain": [
       "color (generic function with 4 methods)"
      ]
     },
     "execution_count": 46,
     "metadata": {},
     "output_type": "execute_result"
    }
   ],
   "source": [
    "function color(r::RayM.Ray, world::Hittable, depth)\n",
    "    rec = HitRecordM.HitRecord()\n",
    "    \n",
    "    if depth <= 0\n",
    "        return [0, 0, 0]\n",
    "    end\n",
    "    \n",
    "    if hit(world, r, 0.001, Inf, rec)\n",
    "        target = rec.p + rec.normal + random_unit_vector()\n",
    "        return 0.5 * color(RayM.Ray(rec.p, target - rec.p), world, depth - 1)\n",
    "    end\n",
    "    unit_direction = normalize(r.direction)\n",
    "    t = 0.5 * (y(unit_direction) + 1)\n",
    "    (1 - t) * [1, 1, 1] + t * [0.5, 0.7, 1]\n",
    "end"
   ]
  },
  {
   "cell_type": "code",
   "execution_count": 47,
   "metadata": {},
   "outputs": [
    {
     "name": "stderr",
     "output_type": "stream",
     "text": [
      "\u001b[32mProgress: 100%|█████████████████████████████████████████| Time: 0:00:09\u001b[39m\n"
     ]
    },
    {
     "data": {
      "image/png": "[encoded data removed]",
      "text/plain": [
       "100×200 Array{RGB{Float64},2} with eltype RGB{Float64}:\n",
       " RGB{Float64}(0.803827,0.887515,1.0)       …  RGB{Float64}(0.80464,0.887957,1.0)\n",
       " RGB{Float64}(0.804902,0.888099,1.0)          RGB{Float64}(0.805653,0.888508,1.0)\n",
       " RGB{Float64}(0.805948,0.888669,1.0)          RGB{Float64}(0.806864,0.889167,1.0)\n",
       " RGB{Float64}(0.807001,0.889242,1.0)          RGB{Float64}(0.807801,0.889677,1.0)\n",
       " RGB{Float64}(0.808079,0.889828,1.0)          RGB{Float64}(0.80883,0.890238,1.0)\n",
       " RGB{Float64}(0.809167,0.890422,1.0)       …  RGB{Float64}(0.810076,0.890917,1.0)\n",
       " RGB{Float64}(0.810267,0.891021,1.0)          RGB{Float64}(0.811071,0.89146,1.0)\n",
       " RGB{Float64}(0.811489,0.891689,1.0)          RGB{Float64}(0.812201,0.892077,1.0)\n",
       " RGB{Float64}(0.812539,0.892262,1.0)          RGB{Float64}(0.813276,0.892665,1.0)\n",
       " RGB{Float64}(0.813663,0.892876,1.0)          RGB{Float64}(0.814399,0.893279,1.0)\n",
       " RGB{Float64}(0.814861,0.893532,1.0)       …  RGB{Float64}(0.815574,0.893922,1.0)\n",
       " RGB{Float64}(0.815991,0.894151,1.0)          RGB{Float64}(0.816672,0.894523,1.0)\n",
       " RGB{Float64}(0.817188,0.894806,1.0)          RGB{Float64}(0.817924,0.895209,1.0)\n",
       " ⋮                                         ⋱  \n",
       " RGB{Float64}(0.529987,0.602625,0.69754)      RGB{Float64}(0.531254,0.604846,0.700892)\n",
       " RGB{Float64}(0.529207,0.599196,0.691014)     RGB{Float64}(0.522901,0.598795,0.697316)\n",
       " RGB{Float64}(0.526013,0.598447,0.693046)  …  RGB{Float64}(0.536613,0.606854,0.699107)\n",
       " RGB{Float64}(0.528467,0.600055,0.693722)     RGB{Float64}(0.523212,0.599792,0.699107)\n",
       " RGB{Float64}(0.530141,0.602395,0.696868)     RGB{Float64}(0.528867,0.60276,0.699107)\n",
       " RGB{Float64}(0.534016,0.606716,0.701783)     RGB{Float64}(0.53673,0.608973,0.703562)\n",
       " RGB{Float64}(0.528249,0.600773,0.695521)     RGB{Float64}(0.534642,0.605397,0.698212)\n",
       " RGB{Float64}(0.525922,0.595782,0.687386)  …  RGB{Float64}(0.529658,0.602348,0.697316)\n",
       " RGB{Float64}(0.511017,0.580836,0.6721)       RGB{Float64}(0.523571,0.597082,0.692877)\n",
       " RGB{Float64}(0.52681,0.601679,0.699107)      RGB{Float64}(0.528065,0.601092,0.696419)\n",
       " RGB{Float64}(0.532209,0.602555,0.694847)     RGB{Float64}(0.527589,0.59753,0.689259)\n",
       " RGB{Float64}(0.521685,0.591222,0.682367)     RGB{Float64}(0.525273,0.597115,0.691014)"
      ]
     },
     "execution_count": 47,
     "metadata": {},
     "output_type": "execute_result"
    }
   ],
   "source": [
    "render()"
   ]
  },
  {
   "cell_type": "code",
   "execution_count": 48,
   "metadata": {},
   "outputs": [
    {
     "data": {
      "text/plain": [
       "random_in_hemisphere (generic function with 1 method)"
      ]
     },
     "execution_count": 48,
     "metadata": {},
     "output_type": "execute_result"
    }
   ],
   "source": [
    "function random_in_hemisphere(normal)\n",
    "    in_unit_sphere = random_in_unit_sphere()\n",
    "    if dot(in_unit_sphere, normal) > 0\n",
    "        in_unit_sphere\n",
    "    else\n",
    "        -in_unit_sphere\n",
    "    end\n",
    "end"
   ]
  },
  {
   "cell_type": "code",
   "execution_count": 49,
   "metadata": {},
   "outputs": [
    {
     "data": {
      "text/plain": [
       "color (generic function with 4 methods)"
      ]
     },
     "execution_count": 49,
     "metadata": {},
     "output_type": "execute_result"
    }
   ],
   "source": [
    "function color(r::RayM.Ray, world::Hittable, depth)\n",
    "    rec = HitRecordM.HitRecord()\n",
    "    \n",
    "    if depth <= 0\n",
    "        return [0, 0, 0]\n",
    "    end\n",
    "    \n",
    "    if hit(world, r, 0.001, Inf, rec)\n",
    "        target = rec.p + random_in_hemisphere(rec.normal)\n",
    "        return 0.5 * color(RayM.Ray(rec.p, target - rec.p), world, depth - 1)\n",
    "    end\n",
    "    unit_direction = normalize(r.direction)\n",
    "    t = 0.5 * (y(unit_direction) + 1)\n",
    "    (1 - t) * [1, 1, 1] + t * [0.5, 0.7, 1]\n",
    "end"
   ]
  },
  {
   "cell_type": "code",
   "execution_count": 50,
   "metadata": {},
   "outputs": [
    {
     "name": "stderr",
     "output_type": "stream",
     "text": [
      "\u001b[32mProgress: 100%|█████████████████████████████████████████| Time: 0:00:09\u001b[39m\n"
     ]
    },
    {
     "data": {
      "image/png": "[encoded data removed]",
      "text/plain": [
       "100×200 Array{RGB{Float64},2} with eltype RGB{Float64}:\n",
       " RGB{Float64}(0.803784,0.887491,1.0)       …  RGB{Float64}(0.804586,0.887927,1.0)\n",
       " RGB{Float64}(0.804799,0.888043,1.0)          RGB{Float64}(0.805623,0.888491,1.0)\n",
       " RGB{Float64}(0.805967,0.888679,1.0)          RGB{Float64}(0.806739,0.889099,1.0)\n",
       " RGB{Float64}(0.807007,0.889245,1.0)          RGB{Float64}(0.807828,0.889692,1.0)\n",
       " RGB{Float64}(0.808091,0.889835,1.0)          RGB{Float64}(0.808871,0.89026,1.0)\n",
       " RGB{Float64}(0.809149,0.890412,1.0)       …  RGB{Float64}(0.80996,0.890854,1.0)\n",
       " RGB{Float64}(0.81031,0.891045,1.0)           RGB{Float64}(0.811085,0.891468,1.0)\n",
       " RGB{Float64}(0.811438,0.891661,1.0)          RGB{Float64}(0.812196,0.892075,1.0)\n",
       " RGB{Float64}(0.812575,0.892282,1.0)          RGB{Float64}(0.813322,0.89269,1.0)\n",
       " RGB{Float64}(0.813658,0.892874,1.0)          RGB{Float64}(0.814411,0.893286,1.0)\n",
       " RGB{Float64}(0.814795,0.893496,1.0)       …  RGB{Float64}(0.81559,0.893931,1.0)\n",
       " RGB{Float64}(0.815934,0.894119,1.0)          RGB{Float64}(0.816676,0.894525,1.0)\n",
       " RGB{Float64}(0.817134,0.894777,1.0)          RGB{Float64}(0.81786,0.895174,1.0)\n",
       " ⋮                                         ⋱  \n",
       " RGB{Float64}(0.539572,0.602335,0.685793)     RGB{Float64}(0.540052,0.607474,0.696476)\n",
       " RGB{Float64}(0.54423,0.606083,0.688522)      RGB{Float64}(0.546897,0.608755,0.69124)\n",
       " RGB{Float64}(0.554099,0.61864,0.70445)    …  RGB{Float64}(0.548141,0.61178,0.696419)\n",
       " RGB{Float64}(0.554457,0.618024,0.702673)     RGB{Float64}(0.548957,0.614257,0.700892)\n",
       " RGB{Float64}(0.544276,0.608937,0.694735)     RGB{Float64}(0.544856,0.609299,0.694847)\n",
       " RGB{Float64}(0.546285,0.610073,0.694861)     RGB{Float64}(0.53786,0.600896,0.684653)\n",
       " RGB{Float64}(0.53681,0.600853,0.685793)      RGB{Float64}(0.545541,0.608538,0.692369)\n",
       " RGB{Float64}(0.551105,0.615004,0.7)       …  RGB{Float64}(0.534866,0.59652,0.678578)\n",
       " RGB{Float64}(0.54552,0.610783,0.697316)      RGB{Float64}(0.544443,0.604675,0.685166)\n",
       " RGB{Float64}(0.546658,0.60955,0.693271)      RGB{Float64}(0.54672,0.60619,0.685793)\n",
       " RGB{Float64}(0.543503,0.607237,0.691918)     RGB{Float64}(0.548881,0.61177,0.695521)\n",
       " RGB{Float64}(0.536987,0.59876,0.680992)      RGB{Float64}(0.547916,0.610637,0.694172)"
      ]
     },
     "execution_count": 50,
     "metadata": {},
     "output_type": "execute_result"
    }
   ],
   "source": [
    "render()"
   ]
  },
  {
   "cell_type": "markdown",
   "metadata": {},
   "source": [
    "# 9. Metal"
   ]
  },
  {
   "cell_type": "code",
   "execution_count": 51,
   "metadata": {},
   "outputs": [],
   "source": [
    "abstract type Material end"
   ]
  },
  {
   "cell_type": "code",
   "execution_count": 52,
   "metadata": {},
   "outputs": [
    {
     "name": "stderr",
     "output_type": "stream",
     "text": [
      "WARNING: replacing module HitRecordM.\n"
     ]
    },
    {
     "data": {
      "text/plain": [
       "Main.HitRecordM"
      ]
     },
     "execution_count": 52,
     "metadata": {},
     "output_type": "execute_result"
    }
   ],
   "source": [
    "module HitRecordM\n",
    "mutable struct HitRecord\n",
    "    p\n",
    "    normal\n",
    "    mat\n",
    "    t\n",
    "    front_face\n",
    "    \n",
    "    HitRecord() = new([0, 0, 0], [0, 0, 0], nothing, 0, false)\n",
    "end\n",
    "end"
   ]
  },
  {
   "cell_type": "code",
   "execution_count": 53,
   "metadata": {},
   "outputs": [
    {
     "data": {
      "text/plain": [
       "set_face_normal (generic function with 2 methods)"
      ]
     },
     "execution_count": 53,
     "metadata": {},
     "output_type": "execute_result"
    }
   ],
   "source": [
    "function set_face_normal(rec::HitRecordM.HitRecord, r, outward_normal)\n",
    "    rec.front_face = dot(r.direction, outward_normal) < 0\n",
    "    rec.normal = if rec.front_face\n",
    "        outward_normal \n",
    "    else\n",
    "        -outward_normal\n",
    "    end\n",
    "end"
   ]
  },
  {
   "cell_type": "code",
   "execution_count": 54,
   "metadata": {},
   "outputs": [
    {
     "name": "stderr",
     "output_type": "stream",
     "text": [
      "WARNING: replacing module SphereM.\n"
     ]
    },
    {
     "data": {
      "text/plain": [
       "Main.SphereM"
      ]
     },
     "execution_count": 54,
     "metadata": {},
     "output_type": "execute_result"
    }
   ],
   "source": [
    "module SphereM\n",
    "struct Sphere <: Main.Hittable\n",
    "    center\n",
    "    radius\n",
    "    mat\n",
    "end\n",
    "end"
   ]
  },
  {
   "cell_type": "code",
   "execution_count": 55,
   "metadata": {},
   "outputs": [
    {
     "data": {
      "text/plain": [
       "hit (generic function with 3 methods)"
      ]
     },
     "execution_count": 55,
     "metadata": {},
     "output_type": "execute_result"
    }
   ],
   "source": [
    "function hit(sphere::SphereM.Sphere, r, t_min, t_max, rec)\n",
    "    oc = r.origin - sphere.center\n",
    "    a = norm(r.direction)^2\n",
    "    half_b = dot(oc, r.direction)\n",
    "    c = norm(oc)^2 - sphere.radius * sphere.radius\n",
    "    discriminant = half_b * half_b - a * c\n",
    "    \n",
    "    if discriminant > 0\n",
    "        root = sqrt(discriminant)\n",
    "        temp = (-half_b - root) / a\n",
    "        if t_min < temp < t_max \n",
    "            rec.t = temp\n",
    "            rec.p = at(r, rec.t)\n",
    "            outward_normal = (rec.p - sphere.center) / sphere.radius\n",
    "            set_face_normal(rec, r, outward_normal)\n",
    "            rec.mat = sphere.mat\n",
    "            return true\n",
    "        end\n",
    "        temp = (-half_b + root) / a\n",
    "        if t_min < temp < t_max\n",
    "            rec.t = temp\n",
    "            rec.p = at(r, rec.t)\n",
    "            outward_normal = (rec.p - sphere.center) / sphere.radius\n",
    "            set_face_normal(rec, r, outward_normal)\n",
    "            rec.mat = sphere.mat\n",
    "            return true\n",
    "        end\n",
    "    end\n",
    "    false\n",
    "end"
   ]
  },
  {
   "cell_type": "code",
   "execution_count": 56,
   "metadata": {},
   "outputs": [
    {
     "data": {
      "text/plain": [
       "Main.LambertianM"
      ]
     },
     "execution_count": 56,
     "metadata": {},
     "output_type": "execute_result"
    }
   ],
   "source": [
    "module LambertianM\n",
    "struct Lambertian <: Main.Material\n",
    "    albedo\n",
    "end\n",
    "end"
   ]
  },
  {
   "cell_type": "code",
   "execution_count": 57,
   "metadata": {},
   "outputs": [
    {
     "data": {
      "text/plain": [
       "scatter (generic function with 1 method)"
      ]
     },
     "execution_count": 57,
     "metadata": {},
     "output_type": "execute_result"
    }
   ],
   "source": [
    "function scatter(lambertian::LambertianM.Lambertian, r_in, rec)\n",
    "    scatter_direction = rec.normal + random_unit_vector()\n",
    "    scattered = RayM.Ray(rec.p, scatter_direction)\n",
    "    attenuation = lambertian.albedo\n",
    "    true, attenuation, scattered\n",
    "end"
   ]
  },
  {
   "cell_type": "code",
   "execution_count": 58,
   "metadata": {},
   "outputs": [
    {
     "data": {
      "text/plain": [
       "reflect (generic function with 1 method)"
      ]
     },
     "execution_count": 58,
     "metadata": {},
     "output_type": "execute_result"
    }
   ],
   "source": [
    "reflect(v, n) = v - 2 * dot(v, n) * n"
   ]
  },
  {
   "cell_type": "code",
   "execution_count": 59,
   "metadata": {},
   "outputs": [
    {
     "data": {
      "text/plain": [
       "Main.MetalM"
      ]
     },
     "execution_count": 59,
     "metadata": {},
     "output_type": "execute_result"
    }
   ],
   "source": [
    "module MetalM\n",
    "struct Metal <: Main.Material\n",
    "    albedo\n",
    "end\n",
    "end"
   ]
  },
  {
   "cell_type": "code",
   "execution_count": 60,
   "metadata": {},
   "outputs": [
    {
     "data": {
      "text/plain": [
       "scatter (generic function with 2 methods)"
      ]
     },
     "execution_count": 60,
     "metadata": {},
     "output_type": "execute_result"
    }
   ],
   "source": [
    "function scatter(metal::MetalM.Metal, r_in, rec)\n",
    "    reflected = reflect(normalize(r_in.direction), rec.normal)\n",
    "    scattered = RayM.Ray(rec.p, reflected)\n",
    "    attenuation = metal.albedo\n",
    "    dot(scattered.direction, rec.normal) > 0, attenuation, scattered\n",
    "end"
   ]
  },
  {
   "cell_type": "code",
   "execution_count": 61,
   "metadata": {},
   "outputs": [
    {
     "data": {
      "text/plain": [
       "hit (generic function with 3 methods)"
      ]
     },
     "execution_count": 61,
     "metadata": {},
     "output_type": "execute_result"
    }
   ],
   "source": [
    "function hit(hittable_list::HittableListM.HittableList, r, t_min, t_max, rec)\n",
    "    temp_rec = HitRecordM.HitRecord()\n",
    "    hit_anything = false\n",
    "    closest_so_far = t_max\n",
    "    \n",
    "    for object in hittable_list.objects\n",
    "        if hit(object, r, t_min, closest_so_far, temp_rec)\n",
    "            hit_anything = true\n",
    "            closest_so_far = temp_rec.t\n",
    "            rec.p = temp_rec.p\n",
    "            rec.normal = temp_rec.normal\n",
    "            rec.t = temp_rec.t\n",
    "            rec.front_face = temp_rec.front_face\n",
    "            rec.mat = temp_rec.mat\n",
    "        end\n",
    "    end\n",
    "    \n",
    "    hit_anything\n",
    "end"
   ]
  },
  {
   "cell_type": "code",
   "execution_count": 62,
   "metadata": {},
   "outputs": [
    {
     "data": {
      "text/plain": [
       "color (generic function with 4 methods)"
      ]
     },
     "execution_count": 62,
     "metadata": {},
     "output_type": "execute_result"
    }
   ],
   "source": [
    "function color(r::RayM.Ray, world::Hittable, depth)\n",
    "    rec = HitRecordM.HitRecord()\n",
    "    \n",
    "    if depth <= 0\n",
    "        return [0, 0, 0]\n",
    "    end\n",
    "    \n",
    "    if hit(world, r, 0.001, Inf, rec)\n",
    "        result, attenuation, scattered = scatter(rec.mat, r, rec)\n",
    "        if result \n",
    "            return attenuation .* color(scattered, world, depth - 1)\n",
    "        end\n",
    "        return [0, 0, 0]\n",
    "    end\n",
    "    unit_direction = normalize(r.direction)\n",
    "    t = 0.5 * (y(unit_direction) + 1)\n",
    "    (1 - t) * [1, 1, 1] + t * [0.5, 0.7, 1]\n",
    "end"
   ]
  },
  {
   "cell_type": "code",
   "execution_count": 63,
   "metadata": {},
   "outputs": [
    {
     "data": {
      "text/plain": [
       "Main.HittableListM.HittableList(Main.SphereM.Sphere[Main.SphereM.Sphere([0, 0, -1], 0.5, Main.LambertianM.Lambertian([0.7, 0.3, 0.3])), Main.SphereM.Sphere([0.0, -100.5, -1.0], 100, Main.LambertianM.Lambertian([0.8, 0.8, 0.0])), Main.SphereM.Sphere([1, 0, -1], 0.5, Main.MetalM.Metal([0.8, 0.6, 0.2])), Main.SphereM.Sphere([-1, 0, -1], 0.5, Main.MetalM.Metal([0.8, 0.8, 0.8]))])"
      ]
     },
     "execution_count": 63,
     "metadata": {},
     "output_type": "execute_result"
    }
   ],
   "source": [
    "world = HittableListM.HittableList([\n",
    "        SphereM.Sphere([0, 0, -1], 0.5, LambertianM.Lambertian([0.7, 0.3, 0.3])),\n",
    "        SphereM.Sphere([0, -100.5, -1], 100, LambertianM.Lambertian([0.8, 0.8, 0])),\n",
    "        SphereM.Sphere([1, 0, -1], 0.5, MetalM.Metal([0.8, 0.6, 0.2])),\n",
    "        SphereM.Sphere([-1, 0, -1], 0.5, MetalM.Metal([0.8, 0.8, 0.8]))\n",
    "        ])"
   ]
  },
  {
   "cell_type": "code",
   "execution_count": 64,
   "metadata": {},
   "outputs": [
    {
     "name": "stderr",
     "output_type": "stream",
     "text": [
      "\u001b[32mProgress: 100%|█████████████████████████████████████████| Time: 0:00:18\u001b[39m\n"
     ]
    },
    {
     "data": {
      "image/png": "[encoded data removed]",
      "text/plain": [
       "100×200 Array{RGB{Float64},2} with eltype RGB{Float64}:\n",
       " RGB{Float64}(0.803817,0.887509,1.0)  …  RGB{Float64}(0.804634,0.887953,1.0)\n",
       " RGB{Float64}(0.804903,0.8881,1.0)       RGB{Float64}(0.805697,0.888532,1.0)\n",
       " RGB{Float64}(0.805958,0.888674,1.0)     RGB{Float64}(0.806776,0.889119,1.0)\n",
       " RGB{Float64}(0.806999,0.889241,1.0)     RGB{Float64}(0.807772,0.889661,1.0)\n",
       " RGB{Float64}(0.808109,0.889845,1.0)     RGB{Float64}(0.808875,0.890263,1.0)\n",
       " RGB{Float64}(0.809229,0.890456,1.0)  …  RGB{Float64}(0.810009,0.890881,1.0)\n",
       " RGB{Float64}(0.810269,0.891023,1.0)     RGB{Float64}(0.811126,0.89149,1.0)\n",
       " RGB{Float64}(0.811355,0.891615,1.0)     RGB{Float64}(0.812248,0.892103,1.0)\n",
       " RGB{Float64}(0.812567,0.892277,1.0)     RGB{Float64}(0.813298,0.892677,1.0)\n",
       " RGB{Float64}(0.813642,0.892865,1.0)     RGB{Float64}(0.814428,0.893295,1.0)\n",
       " RGB{Float64}(0.814851,0.893526,1.0)  …  RGB{Float64}(0.815595,0.893934,1.0)\n",
       " RGB{Float64}(0.815966,0.894137,1.0)     RGB{Float64}(0.816683,0.894529,1.0)\n",
       " RGB{Float64}(0.817175,0.894799,1.0)     RGB{Float64}(0.817804,0.895144,1.0)\n",
       " ⋮                                    ⋱  \n",
       " RGB{Float64}(0.653148,0.729916,0.0)     RGB{Float64}(0.650743,0.705204,0.0)\n",
       " RGB{Float64}(0.644223,0.722113,0.0)     RGB{Float64}(0.660363,0.709657,0.0)\n",
       " RGB{Float64}(0.645144,0.72048,0.0)   …  RGB{Float64}(0.644905,0.691665,0.0)\n",
       " RGB{Float64}(0.632577,0.709148,0.0)     RGB{Float64}(0.639398,0.688596,0.0)\n",
       " RGB{Float64}(0.650116,0.728458,0.0)     RGB{Float64}(0.64928,0.704391,0.0)\n",
       " RGB{Float64}(0.644169,0.721064,0.0)     RGB{Float64}(0.651378,0.69612,0.0)\n",
       " RGB{Float64}(0.616264,0.692359,0.0)     RGB{Float64}(0.647177,0.695913,0.0)\n",
       " RGB{Float64}(0.638761,0.711654,0.0)  …  RGB{Float64}(0.64413,0.686943,0.0)\n",
       " RGB{Float64}(0.65685,0.723664,0.0)      RGB{Float64}(0.638242,0.683155,0.0)\n",
       " RGB{Float64}(0.637497,0.702416,0.0)     RGB{Float64}(0.637743,0.681883,0.0)\n",
       " RGB{Float64}(0.651162,0.729735,0.0)     RGB{Float64}(0.640456,0.693796,0.0)\n",
       " RGB{Float64}(0.632883,0.70658,0.0)      RGB{Float64}(0.64083,0.683845,0.0)"
      ]
     },
     "execution_count": 64,
     "metadata": {},
     "output_type": "execute_result"
    }
   ],
   "source": [
    "render()"
   ]
  },
  {
   "cell_type": "code",
   "execution_count": 65,
   "metadata": {},
   "outputs": [
    {
     "name": "stderr",
     "output_type": "stream",
     "text": [
      "WARNING: replacing module MetalM.\n"
     ]
    },
    {
     "data": {
      "text/plain": [
       "Main.MetalM"
      ]
     },
     "execution_count": 65,
     "metadata": {},
     "output_type": "execute_result"
    }
   ],
   "source": [
    "module MetalM\n",
    "struct Metal <: Main.Material\n",
    "    albedo\n",
    "    fuzz\n",
    "    \n",
    "    Metal(albedo, fuzz) = new(albedo, fuzz < 1 ? fuzz : 1)\n",
    "end\n",
    "end"
   ]
  },
  {
   "cell_type": "code",
   "execution_count": 66,
   "metadata": {},
   "outputs": [
    {
     "data": {
      "text/plain": [
       "scatter (generic function with 3 methods)"
      ]
     },
     "execution_count": 66,
     "metadata": {},
     "output_type": "execute_result"
    }
   ],
   "source": [
    "function scatter(metal::MetalM.Metal, r_in, rec)\n",
    "    reflected = reflect(normalize(r_in.direction), rec.normal)\n",
    "    scattered = RayM.Ray(rec.p, reflected + metal.fuzz * random_in_unit_sphere())\n",
    "    attenuation = metal.albedo\n",
    "    dot(scattered.direction, rec.normal) > 0, attenuation, scattered\n",
    "end"
   ]
  },
  {
   "cell_type": "code",
   "execution_count": 67,
   "metadata": {},
   "outputs": [
    {
     "data": {
      "text/plain": [
       "Main.HittableListM.HittableList(Main.SphereM.Sphere[Main.SphereM.Sphere([0, 0, -1], 0.5, Main.LambertianM.Lambertian([0.7, 0.3, 0.3])), Main.SphereM.Sphere([0.0, -100.5, -1.0], 100, Main.LambertianM.Lambertian([0.8, 0.8, 0.0])), Main.SphereM.Sphere([1, 0, -1], 0.5, Main.MetalM.Metal([0.8, 0.6, 0.2], 0.3)), Main.SphereM.Sphere([-1, 0, -1], 0.5, Main.MetalM.Metal([0.8, 0.8, 0.8], 1))])"
      ]
     },
     "execution_count": 67,
     "metadata": {},
     "output_type": "execute_result"
    }
   ],
   "source": [
    "world = HittableListM.HittableList([\n",
    "        SphereM.Sphere([0, 0, -1], 0.5, LambertianM.Lambertian([0.7, 0.3, 0.3])),\n",
    "        SphereM.Sphere([0, -100.5, -1], 100, LambertianM.Lambertian([0.8, 0.8, 0])),\n",
    "        SphereM.Sphere([1, 0, -1], 0.5, MetalM.Metal([0.8, 0.6, 0.2], 0.3)),\n",
    "        SphereM.Sphere([-1, 0, -1], 0.5, MetalM.Metal([0.8, 0.8, 0.8], 1))\n",
    "        ])"
   ]
  },
  {
   "cell_type": "code",
   "execution_count": 68,
   "metadata": {},
   "outputs": [
    {
     "name": "stderr",
     "output_type": "stream",
     "text": [
      "\u001b[32mProgress: 100%|█████████████████████████████████████████| Time: 0:00:18\u001b[39m\n"
     ]
    },
    {
     "data": {
      "image/png": "[encoded data removed]",
      "text/plain": [
       "100×200 Array{RGB{Float64},2} with eltype RGB{Float64}:\n",
       " RGB{Float64}(0.803783,0.887491,1.0)  …  RGB{Float64}(0.804638,0.887956,1.0)\n",
       " RGB{Float64}(0.804795,0.888041,1.0)     RGB{Float64}(0.805633,0.888497,1.0)\n",
       " RGB{Float64}(0.805875,0.888628,1.0)     RGB{Float64}(0.806755,0.889108,1.0)\n",
       " RGB{Float64}(0.806947,0.889212,1.0)     RGB{Float64}(0.807815,0.889685,1.0)\n",
       " RGB{Float64}(0.808131,0.889857,1.0)     RGB{Float64}(0.808854,0.890251,1.0)\n",
       " RGB{Float64}(0.809156,0.890416,1.0)  …  RGB{Float64}(0.810037,0.890896,1.0)\n",
       " RGB{Float64}(0.810306,0.891043,1.0)     RGB{Float64}(0.811056,0.891452,1.0)\n",
       " RGB{Float64}(0.81142,0.891651,1.0)      RGB{Float64}(0.812173,0.892062,1.0)\n",
       " RGB{Float64}(0.812544,0.892265,1.0)     RGB{Float64}(0.813317,0.892687,1.0)\n",
       " RGB{Float64}(0.813717,0.892906,1.0)     RGB{Float64}(0.814476,0.893321,1.0)\n",
       " RGB{Float64}(0.814913,0.89356,1.0)   …  RGB{Float64}(0.815557,0.893913,1.0)\n",
       " RGB{Float64}(0.815957,0.894131,1.0)     RGB{Float64}(0.816664,0.894519,1.0)\n",
       " RGB{Float64}(0.817194,0.894809,1.0)     RGB{Float64}(0.817873,0.895181,1.0)\n",
       " ⋮                                    ⋱  \n",
       " RGB{Float64}(0.621045,0.698858,0.0)     RGB{Float64}(0.652219,0.704622,0.0)\n",
       " RGB{Float64}(0.621973,0.699134,0.0)     RGB{Float64}(0.642947,0.700947,0.0)\n",
       " RGB{Float64}(0.611459,0.687586,0.0)  …  RGB{Float64}(0.655747,0.703057,0.0)\n",
       " RGB{Float64}(0.629155,0.704392,0.0)     RGB{Float64}(0.648341,0.686329,0.0)\n",
       " RGB{Float64}(0.632507,0.705018,0.0)     RGB{Float64}(0.628264,0.666868,0.0)\n",
       " RGB{Float64}(0.633168,0.706131,0.0)     RGB{Float64}(0.637226,0.676053,0.0)\n",
       " RGB{Float64}(0.619308,0.687764,0.0)     RGB{Float64}(0.650508,0.701253,0.0)\n",
       " RGB{Float64}(0.628008,0.699465,0.0)  …  RGB{Float64}(0.62807,0.668773,0.0)\n",
       " RGB{Float64}(0.620891,0.68694,0.0)      RGB{Float64}(0.636853,0.68047,0.0)\n",
       " RGB{Float64}(0.603975,0.671394,0.0)     RGB{Float64}(0.661102,0.705803,0.0)\n",
       " RGB{Float64}(0.630126,0.706453,0.0)     RGB{Float64}(0.639228,0.684336,0.0)\n",
       " RGB{Float64}(0.61783,0.690083,0.0)      RGB{Float64}(0.632111,0.675283,0.0)"
      ]
     },
     "execution_count": 68,
     "metadata": {},
     "output_type": "execute_result"
    }
   ],
   "source": [
    "render()"
   ]
  },
  {
   "cell_type": "markdown",
   "metadata": {},
   "source": [
    "# 10. Dielectrics"
   ]
  },
  {
   "cell_type": "code",
   "execution_count": 69,
   "metadata": {},
   "outputs": [
    {
     "data": {
      "text/plain": [
       "refract (generic function with 1 method)"
      ]
     },
     "execution_count": 69,
     "metadata": {},
     "output_type": "execute_result"
    }
   ],
   "source": [
    "function refract(uv, n, etai_over_etat)\n",
    "    cos_theta = dot(-uv, n)\n",
    "    r_out_parallel = etai_over_etat * (uv + cos_theta * n)\n",
    "    r_out_perp = -sqrt(1 - norm(r_out_parallel)^2) * n\n",
    "    r_out_parallel + r_out_perp\n",
    "end"
   ]
  },
  {
   "cell_type": "code",
   "execution_count": 70,
   "metadata": {},
   "outputs": [
    {
     "data": {
      "text/plain": [
       "Main.DielectricM"
      ]
     },
     "execution_count": 70,
     "metadata": {},
     "output_type": "execute_result"
    }
   ],
   "source": [
    "module DielectricM\n",
    "struct Dielectric <: Main.Material\n",
    "    ref_idx\n",
    "end\n",
    "end"
   ]
  },
  {
   "cell_type": "code",
   "execution_count": 71,
   "metadata": {},
   "outputs": [
    {
     "data": {
      "text/plain": [
       "scatter (generic function with 4 methods)"
      ]
     },
     "execution_count": 71,
     "metadata": {},
     "output_type": "execute_result"
    }
   ],
   "source": [
    "function scatter(dielectric::DielectricM.Dielectric, r_in, rec)\n",
    "    attenuation = [1, 1, 1]\n",
    "    etai_over_etat = if rec.front_face\n",
    "        1 / dielectric.ref_idx\n",
    "    else\n",
    "        dielectric.ref_idx\n",
    "    end\n",
    "    unit_direction = normalize(r_in.direction)\n",
    "    \n",
    "    cos_theta = min(dot(-unit_direction, rec.normal), 1)\n",
    "    sin_theta = sqrt(1 - cos_theta * cos_theta)\n",
    "    \n",
    "    if etai_over_etat * sin_theta > 1 \n",
    "        reflected = reflect(unit_direction, rec.normal)\n",
    "        scattered = RayM.Ray(rec.p, reflected)\n",
    "        return true, attenuation, scattered\n",
    "    end\n",
    "    \n",
    "    refracted = refract(unit_direction, rec.normal, etai_over_etat)\n",
    "    scattered = RayM.Ray(rec.p, refracted)\n",
    "    true, attenuation, scattered\n",
    "end"
   ]
  },
  {
   "cell_type": "code",
   "execution_count": 72,
   "metadata": {},
   "outputs": [
    {
     "data": {
      "text/plain": [
       "Main.HittableListM.HittableList(Main.SphereM.Sphere[Main.SphereM.Sphere([0, 0, -1], 0.5, Main.LambertianM.Lambertian([0.1, 0.2, 0.5])), Main.SphereM.Sphere([0.0, -100.5, -1.0], 100, Main.LambertianM.Lambertian([0.8, 0.8, 0.0])), Main.SphereM.Sphere([1, 0, -1], 0.5, Main.MetalM.Metal([0.8, 0.6, 0.2], 0)), Main.SphereM.Sphere([-1, 0, -1], 0.5, Main.DielectricM.Dielectric(1.5))])"
      ]
     },
     "execution_count": 72,
     "metadata": {},
     "output_type": "execute_result"
    }
   ],
   "source": [
    "world = HittableListM.HittableList([\n",
    "        SphereM.Sphere([0, 0, -1], 0.5, LambertianM.Lambertian([0.1, 0.2, 0.5])),\n",
    "        SphereM.Sphere([0, -100.5, -1], 100, LambertianM.Lambertian([0.8, 0.8, 0])),\n",
    "        SphereM.Sphere([1, 0, -1], 0.5, MetalM.Metal([0.8, 0.6, 0.2], 0)),\n",
    "        SphereM.Sphere([-1, 0, -1], 0.5, DielectricM.Dielectric(1.5))\n",
    "        ])"
   ]
  },
  {
   "cell_type": "code",
   "execution_count": 73,
   "metadata": {},
   "outputs": [
    {
     "name": "stderr",
     "output_type": "stream",
     "text": [
      "\u001b[32mProgress: 100%|█████████████████████████████████████████| Time: 0:00:19\u001b[39m\n"
     ]
    },
    {
     "data": {
      "image/png": "[encoded data removed]",
      "text/plain": [
       "100×200 Array{RGB{Float64},2} with eltype RGB{Float64}:\n",
       " RGB{Float64}(0.803747,0.887471,1.0)  …  RGB{Float64}(0.804575,0.887922,1.0)\n",
       " RGB{Float64}(0.804813,0.888051,1.0)     RGB{Float64}(0.8057,0.888534,1.0)\n",
       " RGB{Float64}(0.805924,0.888655,1.0)     RGB{Float64}(0.806784,0.889123,1.0)\n",
       " RGB{Float64}(0.80703,0.889257,1.0)      RGB{Float64}(0.807828,0.889692,1.0)\n",
       " RGB{Float64}(0.808039,0.889807,1.0)     RGB{Float64}(0.808887,0.890269,1.0)\n",
       " RGB{Float64}(0.809145,0.89041,1.0)   …  RGB{Float64}(0.809955,0.890851,1.0)\n",
       " RGB{Float64}(0.810329,0.891055,1.0)     RGB{Float64}(0.81105,0.891449,1.0)\n",
       " RGB{Float64}(0.811409,0.891645,1.0)     RGB{Float64}(0.812132,0.89204,1.0)\n",
       " RGB{Float64}(0.812543,0.892264,1.0)     RGB{Float64}(0.813298,0.892677,1.0)\n",
       " RGB{Float64}(0.813694,0.892894,1.0)     RGB{Float64}(0.814432,0.893297,1.0)\n",
       " RGB{Float64}(0.814837,0.893519,1.0)  …  RGB{Float64}(0.815581,0.893926,1.0)\n",
       " RGB{Float64}(0.815904,0.894103,1.0)     RGB{Float64}(0.816685,0.89453,1.0)\n",
       " RGB{Float64}(0.817118,0.894768,1.0)     RGB{Float64}(0.817867,0.895178,1.0)\n",
       " ⋮                                    ⋱  \n",
       " RGB{Float64}(0.687232,0.776771,0.0)     RGB{Float64}(0.648255,0.693424,0.0)\n",
       " RGB{Float64}(0.685638,0.775925,0.0)     RGB{Float64}(0.655028,0.700245,0.0)\n",
       " RGB{Float64}(0.685277,0.775734,0.0)  …  RGB{Float64}(0.642841,0.686393,0.0)\n",
       " RGB{Float64}(0.68146,0.772443,0.0)      RGB{Float64}(0.647239,0.697213,0.0)\n",
       " RGB{Float64}(0.674766,0.764648,0.0)     RGB{Float64}(0.628015,0.675066,0.0)\n",
       " RGB{Float64}(0.679366,0.771166,0.0)     RGB{Float64}(0.655294,0.711487,0.0)\n",
       " RGB{Float64}(0.686005,0.77612,0.0)      RGB{Float64}(0.645039,0.702242,0.0)\n",
       " RGB{Float64}(0.66154,0.752589,0.0)   …  RGB{Float64}(0.647561,0.699737,0.0)\n",
       " RGB{Float64}(0.682391,0.774206,0.0)     RGB{Float64}(0.621621,0.665072,0.0)\n",
       " RGB{Float64}(0.683706,0.771376,0.0)     RGB{Float64}(0.635156,0.692573,0.0)\n",
       " RGB{Float64}(0.673102,0.763336,0.0)     RGB{Float64}(0.622183,0.665043,0.0)\n",
       " RGB{Float64}(0.664741,0.754278,0.0)     RGB{Float64}(0.612867,0.654405,0.0)"
      ]
     },
     "execution_count": 73,
     "metadata": {},
     "output_type": "execute_result"
    }
   ],
   "source": [
    "render()"
   ]
  },
  {
   "cell_type": "code",
   "execution_count": 74,
   "metadata": {},
   "outputs": [
    {
     "data": {
      "text/plain": [
       "schlick (generic function with 1 method)"
      ]
     },
     "execution_count": 74,
     "metadata": {},
     "output_type": "execute_result"
    }
   ],
   "source": [
    "function schlick(cosine, ref_idx)\n",
    "    r0 = (1 - ref_idx) / (1 + ref_idx)\n",
    "    r0 *= r0\n",
    "    r0 + (1 - r0) * (1 - cosine)^5\n",
    "end"
   ]
  },
  {
   "cell_type": "code",
   "execution_count": 75,
   "metadata": {},
   "outputs": [
    {
     "data": {
      "text/plain": [
       "scatter (generic function with 4 methods)"
      ]
     },
     "execution_count": 75,
     "metadata": {},
     "output_type": "execute_result"
    }
   ],
   "source": [
    "function scatter(dielectric::DielectricM.Dielectric, r_in, rec)\n",
    "    attenuation = [1, 1, 1]\n",
    "    etai_over_etat = if rec.front_face\n",
    "        1 / dielectric.ref_idx\n",
    "    else\n",
    "        dielectric.ref_idx\n",
    "    end\n",
    "    unit_direction = normalize(r_in.direction)\n",
    "    \n",
    "    cos_theta = min(dot(-unit_direction, rec.normal), 1)\n",
    "    sin_theta = sqrt(1 - cos_theta * cos_theta)\n",
    "    \n",
    "    if etai_over_etat * sin_theta > 1 \n",
    "        reflected = reflect(unit_direction, rec.normal)\n",
    "        scattered = RayM.Ray(rec.p, reflected)\n",
    "        return true, attenuation, scattered\n",
    "    end\n",
    "    \n",
    "    reflect_prob = schlick(cos_theta, etai_over_etat)\n",
    "    if rand() < reflect_prob\n",
    "        reflected = reflect(unit_direction, rec.normal)\n",
    "        scattered = RayM.Ray(rec.p, reflected)\n",
    "        return true, attenuation, scattered\n",
    "    end\n",
    "    \n",
    "    refracted = refract(unit_direction, rec.normal, etai_over_etat)\n",
    "    scattered = RayM.Ray(rec.p, refracted)\n",
    "    true, attenuation, scattered\n",
    "end"
   ]
  },
  {
   "cell_type": "code",
   "execution_count": 76,
   "metadata": {},
   "outputs": [
    {
     "data": {
      "text/plain": [
       "Main.HittableListM.HittableList(Main.SphereM.Sphere[Main.SphereM.Sphere([0, 0, -1], 0.5, Main.LambertianM.Lambertian([0.1, 0.2, 0.5])), Main.SphereM.Sphere([0.0, -100.5, -1.0], 100, Main.LambertianM.Lambertian([0.8, 0.8, 0.0])), Main.SphereM.Sphere([1, 0, -1], 0.5, Main.MetalM.Metal([0.8, 0.6, 0.2], 0.3)), Main.SphereM.Sphere([-1, 0, -1], 0.5, Main.DielectricM.Dielectric(1.5)), Main.SphereM.Sphere([-1, 0, -1], -0.45, Main.DielectricM.Dielectric(1.5))])"
      ]
     },
     "execution_count": 76,
     "metadata": {},
     "output_type": "execute_result"
    }
   ],
   "source": [
    "world = HittableListM.HittableList([\n",
    "        SphereM.Sphere([0, 0, -1], 0.5, LambertianM.Lambertian([0.1, 0.2, 0.5])),\n",
    "        SphereM.Sphere([0, -100.5, -1], 100, LambertianM.Lambertian([0.8, 0.8, 0])),\n",
    "        SphereM.Sphere([1, 0, -1], 0.5, MetalM.Metal([0.8, 0.6, 0.2], 0.3)),\n",
    "        SphereM.Sphere([-1, 0, -1], 0.5, DielectricM.Dielectric(1.5)),\n",
    "        SphereM.Sphere([-1, 0, -1], -0.45, DielectricM.Dielectric(1.5))\n",
    "        ])"
   ]
  },
  {
   "cell_type": "code",
   "execution_count": 77,
   "metadata": {},
   "outputs": [
    {
     "name": "stderr",
     "output_type": "stream",
     "text": [
      "\u001b[32mProgress: 100%|█████████████████████████████████████████| Time: 0:00:24\u001b[39m\n"
     ]
    },
    {
     "data": {
      "image/png": "[encoded data removed]",
      "text/plain": [
       "100×200 Array{RGB{Float64},2} with eltype RGB{Float64}:\n",
       " RGB{Float64}(0.80378,0.887489,1.0)   …  RGB{Float64}(0.804616,0.887944,1.0)\n",
       " RGB{Float64}(0.804823,0.888056,1.0)     RGB{Float64}(0.805665,0.888514,1.0)\n",
       " RGB{Float64}(0.80588,0.888631,1.0)      RGB{Float64}(0.806728,0.889093,1.0)\n",
       " RGB{Float64}(0.806993,0.889237,1.0)     RGB{Float64}(0.807805,0.889679,1.0)\n",
       " RGB{Float64}(0.808052,0.889814,1.0)     RGB{Float64}(0.808909,0.890281,1.0)\n",
       " RGB{Float64}(0.80915,0.890413,1.0)   …  RGB{Float64}(0.809956,0.890852,1.0)\n",
       " RGB{Float64}(0.810296,0.891038,1.0)     RGB{Float64}(0.81105,0.891449,1.0)\n",
       " RGB{Float64}(0.811475,0.891681,1.0)     RGB{Float64}(0.812173,0.892062,1.0)\n",
       " RGB{Float64}(0.812576,0.892283,1.0)     RGB{Float64}(0.813313,0.892685,1.0)\n",
       " RGB{Float64}(0.813683,0.892887,1.0)     RGB{Float64}(0.814482,0.893325,1.0)\n",
       " RGB{Float64}(0.814804,0.893501,1.0)  …  RGB{Float64}(0.815573,0.893922,1.0)\n",
       " RGB{Float64}(0.815984,0.894146,1.0)     RGB{Float64}(0.816695,0.894536,1.0)\n",
       " RGB{Float64}(0.81712,0.894769,1.0)      RGB{Float64}(0.817859,0.895174,1.0)\n",
       " ⋮                                    ⋱  \n",
       " RGB{Float64}(0.669894,0.760397,0.0)     RGB{Float64}(0.655872,0.719287,0.0)\n",
       " RGB{Float64}(0.665239,0.755311,0.0)     RGB{Float64}(0.647398,0.689701,0.0)\n",
       " RGB{Float64}(0.669897,0.762091,0.0)  …  RGB{Float64}(0.640522,0.692726,0.0)\n",
       " RGB{Float64}(0.669592,0.761799,0.0)     RGB{Float64}(0.654084,0.709581,0.0)\n",
       " RGB{Float64}(0.676235,0.766262,0.0)     RGB{Float64}(0.654006,0.701236,0.0)\n",
       " RGB{Float64}(0.679068,0.765906,0.0)     RGB{Float64}(0.629168,0.672125,0.0)\n",
       " RGB{Float64}(0.663917,0.750479,0.0)     RGB{Float64}(0.625354,0.665429,0.0)\n",
       " RGB{Float64}(0.674798,0.762819,0.0)  …  RGB{Float64}(0.626746,0.673045,0.0)\n",
       " RGB{Float64}(0.662865,0.752629,0.0)     RGB{Float64}(0.638196,0.688322,0.0)\n",
       " RGB{Float64}(0.680309,0.7689,0.0)       RGB{Float64}(0.621322,0.677311,0.0)\n",
       " RGB{Float64}(0.655393,0.744281,0.0)     RGB{Float64}(0.641962,0.69803,0.0)\n",
       " RGB{Float64}(0.656105,0.745547,0.0)     RGB{Float64}(0.624621,0.675172,0.0)"
      ]
     },
     "execution_count": 77,
     "metadata": {},
     "output_type": "execute_result"
    }
   ],
   "source": [
    "render()"
   ]
  }
 ],
 "metadata": {
  "kernelspec": {
   "display_name": "Julia (6 threads) 1.4.1",
   "language": "julia",
   "name": "julia-(6-threads)-1.4"
  },
  "language_info": {
   "file_extension": ".jl",
   "mimetype": "application/julia",
   "name": "julia",
   "version": "1.4.1"
  }
 },
 "nbformat": 4,
 "nbformat_minor": 4
}
