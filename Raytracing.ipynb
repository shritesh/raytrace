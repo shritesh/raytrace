{
 "cells": [
  {
   "cell_type": "code",
   "execution_count": 1,
   "metadata": {},
   "outputs": [],
   "source": [
    "using Images, LinearAlgebra, ProgressMeter"
   ]
  },
  {
   "cell_type": "markdown",
   "metadata": {},
   "source": [
    "# 2. Output an Image"
   ]
  },
  {
   "cell_type": "code",
   "execution_count": 2,
   "metadata": {},
   "outputs": [
    {
     "data": {
      "text/plain": [
       "(200, 100)"
      ]
     },
     "execution_count": 2,
     "metadata": {},
     "output_type": "execute_result"
    }
   ],
   "source": [
    "(image_width, image_height) = (200, 100)"
   ]
  },
  {
   "cell_type": "code",
   "execution_count": 3,
   "metadata": {},
   "outputs": [
    {
     "data": {
      "image/png": "[encoded data removed]",
      "text/plain": [
       "100×200 Array{RGB{Float64},2} with eltype RGB{Float64}:\n",
       " RGB{Float64}(0.005,1.0,0.2)   …  RGB{Float64}(1.0,1.0,0.2)\n",
       " RGB{Float64}(0.005,0.99,0.2)     RGB{Float64}(1.0,0.99,0.2)\n",
       " RGB{Float64}(0.005,0.98,0.2)     RGB{Float64}(1.0,0.98,0.2)\n",
       " RGB{Float64}(0.005,0.97,0.2)     RGB{Float64}(1.0,0.97,0.2)\n",
       " RGB{Float64}(0.005,0.96,0.2)     RGB{Float64}(1.0,0.96,0.2)\n",
       " RGB{Float64}(0.005,0.95,0.2)  …  RGB{Float64}(1.0,0.95,0.2)\n",
       " RGB{Float64}(0.005,0.94,0.2)     RGB{Float64}(1.0,0.94,0.2)\n",
       " RGB{Float64}(0.005,0.93,0.2)     RGB{Float64}(1.0,0.93,0.2)\n",
       " RGB{Float64}(0.005,0.92,0.2)     RGB{Float64}(1.0,0.92,0.2)\n",
       " RGB{Float64}(0.005,0.91,0.2)     RGB{Float64}(1.0,0.91,0.2)\n",
       " RGB{Float64}(0.005,0.9,0.2)   …  RGB{Float64}(1.0,0.9,0.2)\n",
       " RGB{Float64}(0.005,0.89,0.2)     RGB{Float64}(1.0,0.89,0.2)\n",
       " RGB{Float64}(0.005,0.88,0.2)     RGB{Float64}(1.0,0.88,0.2)\n",
       " ⋮                             ⋱  \n",
       " RGB{Float64}(0.005,0.12,0.2)     RGB{Float64}(1.0,0.12,0.2)\n",
       " RGB{Float64}(0.005,0.11,0.2)     RGB{Float64}(1.0,0.11,0.2)\n",
       " RGB{Float64}(0.005,0.1,0.2)   …  RGB{Float64}(1.0,0.1,0.2)\n",
       " RGB{Float64}(0.005,0.09,0.2)     RGB{Float64}(1.0,0.09,0.2)\n",
       " RGB{Float64}(0.005,0.08,0.2)     RGB{Float64}(1.0,0.08,0.2)\n",
       " RGB{Float64}(0.005,0.07,0.2)     RGB{Float64}(1.0,0.07,0.2)\n",
       " RGB{Float64}(0.005,0.06,0.2)     RGB{Float64}(1.0,0.06,0.2)\n",
       " RGB{Float64}(0.005,0.05,0.2)  …  RGB{Float64}(1.0,0.05,0.2)\n",
       " RGB{Float64}(0.005,0.04,0.2)     RGB{Float64}(1.0,0.04,0.2)\n",
       " RGB{Float64}(0.005,0.03,0.2)     RGB{Float64}(1.0,0.03,0.2)\n",
       " RGB{Float64}(0.005,0.02,0.2)     RGB{Float64}(1.0,0.02,0.2)\n",
       " RGB{Float64}(0.005,0.01,0.2)     RGB{Float64}(1.0,0.01,0.2)"
      ]
     },
     "execution_count": 3,
     "metadata": {},
     "output_type": "execute_result"
    }
   ],
   "source": [
    "[RGB(i / image_width, j / image_height, 0.2) for j in image_height:-1:1, i in 1:image_width]"
   ]
  },
  {
   "cell_type": "markdown",
   "metadata": {},
   "source": [
    "# 3. The Vec3 ~~Class~~ Array"
   ]
  },
  {
   "cell_type": "code",
   "execution_count": 4,
   "metadata": {},
   "outputs": [],
   "source": [
    "x(vec) = vec[1]\n",
    "y(vec) = vec[2]\n",
    "z(vec) = vec[3];"
   ]
  },
  {
   "cell_type": "code",
   "execution_count": 5,
   "metadata": {},
   "outputs": [
    {
     "data": {
      "text/plain": [
       "color (generic function with 1 method)"
      ]
     },
     "execution_count": 5,
     "metadata": {},
     "output_type": "execute_result"
    }
   ],
   "source": [
    "color(i,j) = [i / image_width, j / image_height, 0.2]"
   ]
  },
  {
   "cell_type": "code",
   "execution_count": 6,
   "metadata": {},
   "outputs": [
    {
     "name": "stderr",
     "output_type": "stream",
     "text": [
      "\u001b[32mProgress: 100%|█████████████████████████████████████████| Time: 0:00:00\u001b[39m\n"
     ]
    },
    {
     "data": {
      "image/png": "[encoded data removed]",
      "text/plain": [
       "100×200 Array{RGB{Float64},2} with eltype RGB{Float64}:\n",
       " RGB{Float64}(0.005,1.0,0.2)   …  RGB{Float64}(1.0,1.0,0.2)\n",
       " RGB{Float64}(0.005,0.99,0.2)     RGB{Float64}(1.0,0.99,0.2)\n",
       " RGB{Float64}(0.005,0.98,0.2)     RGB{Float64}(1.0,0.98,0.2)\n",
       " RGB{Float64}(0.005,0.97,0.2)     RGB{Float64}(1.0,0.97,0.2)\n",
       " RGB{Float64}(0.005,0.96,0.2)     RGB{Float64}(1.0,0.96,0.2)\n",
       " RGB{Float64}(0.005,0.95,0.2)  …  RGB{Float64}(1.0,0.95,0.2)\n",
       " RGB{Float64}(0.005,0.94,0.2)     RGB{Float64}(1.0,0.94,0.2)\n",
       " RGB{Float64}(0.005,0.93,0.2)     RGB{Float64}(1.0,0.93,0.2)\n",
       " RGB{Float64}(0.005,0.92,0.2)     RGB{Float64}(1.0,0.92,0.2)\n",
       " RGB{Float64}(0.005,0.91,0.2)     RGB{Float64}(1.0,0.91,0.2)\n",
       " RGB{Float64}(0.005,0.9,0.2)   …  RGB{Float64}(1.0,0.9,0.2)\n",
       " RGB{Float64}(0.005,0.89,0.2)     RGB{Float64}(1.0,0.89,0.2)\n",
       " RGB{Float64}(0.005,0.88,0.2)     RGB{Float64}(1.0,0.88,0.2)\n",
       " ⋮                             ⋱  \n",
       " RGB{Float64}(0.005,0.12,0.2)     RGB{Float64}(1.0,0.12,0.2)\n",
       " RGB{Float64}(0.005,0.11,0.2)     RGB{Float64}(1.0,0.11,0.2)\n",
       " RGB{Float64}(0.005,0.1,0.2)   …  RGB{Float64}(1.0,0.1,0.2)\n",
       " RGB{Float64}(0.005,0.09,0.2)     RGB{Float64}(1.0,0.09,0.2)\n",
       " RGB{Float64}(0.005,0.08,0.2)     RGB{Float64}(1.0,0.08,0.2)\n",
       " RGB{Float64}(0.005,0.07,0.2)     RGB{Float64}(1.0,0.07,0.2)\n",
       " RGB{Float64}(0.005,0.06,0.2)     RGB{Float64}(1.0,0.06,0.2)\n",
       " RGB{Float64}(0.005,0.05,0.2)  …  RGB{Float64}(1.0,0.05,0.2)\n",
       " RGB{Float64}(0.005,0.04,0.2)     RGB{Float64}(1.0,0.04,0.2)\n",
       " RGB{Float64}(0.005,0.03,0.2)     RGB{Float64}(1.0,0.03,0.2)\n",
       " RGB{Float64}(0.005,0.02,0.2)     RGB{Float64}(1.0,0.02,0.2)\n",
       " RGB{Float64}(0.005,0.01,0.2)     RGB{Float64}(1.0,0.01,0.2)"
      ]
     },
     "execution_count": 6,
     "metadata": {},
     "output_type": "execute_result"
    }
   ],
   "source": [
    "render() = @showprogress map(coords -> RGB(color(coords...)...), [(i,j) for j in image_height:-1:1, i in 1:image_width])\n",
    "render()"
   ]
  },
  {
   "cell_type": "markdown",
   "metadata": {},
   "source": [
    "# 4. Rays, a Simple Camera, and Background"
   ]
  },
  {
   "cell_type": "code",
   "execution_count": 7,
   "metadata": {},
   "outputs": [
    {
     "data": {
      "text/plain": [
       "Main.RayM"
      ]
     },
     "execution_count": 7,
     "metadata": {},
     "output_type": "execute_result"
    }
   ],
   "source": [
    "module RayM\n",
    "struct Ray \n",
    "    origin\n",
    "    direction\n",
    "end\n",
    "end"
   ]
  },
  {
   "cell_type": "code",
   "execution_count": 8,
   "metadata": {},
   "outputs": [
    {
     "data": {
      "text/plain": [
       "at (generic function with 1 method)"
      ]
     },
     "execution_count": 8,
     "metadata": {},
     "output_type": "execute_result"
    }
   ],
   "source": [
    "at(ray::RayM.Ray, t) = ray.origin + t * ray.direction"
   ]
  },
  {
   "cell_type": "code",
   "execution_count": 9,
   "metadata": {},
   "outputs": [
    {
     "data": {
      "text/plain": [
       "color (generic function with 2 methods)"
      ]
     },
     "execution_count": 9,
     "metadata": {},
     "output_type": "execute_result"
    }
   ],
   "source": [
    "function color(ray::RayM.Ray)\n",
    "    unit_direction = normalize(ray.direction)\n",
    "    t = 0.5 * (y(unit_direction) + 1)\n",
    "    (1 - t) * [1, 1, 1] + t * [0.5, 0.7, 1]\n",
    "end"
   ]
  },
  {
   "cell_type": "code",
   "execution_count": 10,
   "metadata": {},
   "outputs": [],
   "source": [
    "lower_left_corner = [-2, -1, -1]\n",
    "horizontal = [4, 0, 0]\n",
    "vertical = [0, 2, 0]\n",
    "origin = [0, 0, 0];"
   ]
  },
  {
   "cell_type": "code",
   "execution_count": 11,
   "metadata": {},
   "outputs": [
    {
     "data": {
      "text/plain": [
       "color (generic function with 2 methods)"
      ]
     },
     "execution_count": 11,
     "metadata": {},
     "output_type": "execute_result"
    }
   ],
   "source": [
    "function color(i, j) \n",
    "    u = i / image_width\n",
    "    v = j / image_height\n",
    "    r = RayM.Ray(origin, lower_left_corner + u * horizontal + v * vertical)\n",
    "    color(r)\n",
    "end"
   ]
  },
  {
   "cell_type": "code",
   "execution_count": 12,
   "metadata": {},
   "outputs": [
    {
     "name": "stderr",
     "output_type": "stream",
     "text": [
      "\u001b[32mProgress: 100%|█████████████████████████████████████████| Time: 0:00:00\u001b[39m\n"
     ]
    },
    {
     "data": {
      "image/png": "[encoded data removed]",
      "text/plain": [
       "100×200 Array{RGB{Float64},2} with eltype RGB{Float64}:\n",
       " RGB{Float64}(0.647254,0.788352,1.0)  …  RGB{Float64}(0.647938,0.788763,1.0)\n",
       " RGB{Float64}(0.648971,0.789382,1.0)     RGB{Float64}(0.649647,0.789788,1.0)\n",
       " RGB{Float64}(0.650704,0.790423,1.0)     RGB{Float64}(0.651374,0.790824,1.0)\n",
       " RGB{Float64}(0.652455,0.791473,1.0)     RGB{Float64}(0.653117,0.79187,1.0)\n",
       " RGB{Float64}(0.654223,0.792534,1.0)     RGB{Float64}(0.654877,0.792926,1.0)\n",
       " RGB{Float64}(0.656008,0.793605,1.0)  …  RGB{Float64}(0.656654,0.793993,1.0)\n",
       " RGB{Float64}(0.65781,0.794686,1.0)      RGB{Float64}(0.658448,0.795069,1.0)\n",
       " RGB{Float64}(0.659629,0.795777,1.0)     RGB{Float64}(0.660258,0.796155,1.0)\n",
       " RGB{Float64}(0.661464,0.796878,1.0)     RGB{Float64}(0.662084,0.79725,1.0)\n",
       " RGB{Float64}(0.663316,0.79799,1.0)      RGB{Float64}(0.663926,0.798356,1.0)\n",
       " RGB{Float64}(0.665184,0.79911,1.0)   …  RGB{Float64}(0.665785,0.799471,1.0)\n",
       " RGB{Float64}(0.667069,0.800241,1.0)     RGB{Float64}(0.667659,0.800596,1.0)\n",
       " RGB{Float64}(0.668969,0.801381,1.0)     RGB{Float64}(0.669549,0.80173,1.0)\n",
       " ⋮                                    ⋱  \n",
       " RGB{Float64}(0.831031,0.898619,1.0)     RGB{Float64}(0.830451,0.89827,1.0)\n",
       " RGB{Float64}(0.832931,0.899759,1.0)     RGB{Float64}(0.832341,0.899404,1.0)\n",
       " RGB{Float64}(0.834816,0.90089,1.0)   …  RGB{Float64}(0.834215,0.900529,1.0)\n",
       " RGB{Float64}(0.836684,0.90201,1.0)      RGB{Float64}(0.836074,0.901644,1.0)\n",
       " RGB{Float64}(0.838536,0.903122,1.0)     RGB{Float64}(0.837916,0.90275,1.0)\n",
       " RGB{Float64}(0.840371,0.904223,1.0)     RGB{Float64}(0.839742,0.903845,1.0)\n",
       " RGB{Float64}(0.84219,0.905314,1.0)      RGB{Float64}(0.841552,0.904931,1.0)\n",
       " RGB{Float64}(0.843992,0.906395,1.0)  …  RGB{Float64}(0.843346,0.906007,1.0)\n",
       " RGB{Float64}(0.845777,0.907466,1.0)     RGB{Float64}(0.845123,0.907074,1.0)\n",
       " RGB{Float64}(0.847545,0.908527,1.0)     RGB{Float64}(0.846883,0.90813,1.0)\n",
       " RGB{Float64}(0.849296,0.909577,1.0)     RGB{Float64}(0.848626,0.909176,1.0)\n",
       " RGB{Float64}(0.851029,0.910618,1.0)     RGB{Float64}(0.850353,0.910212,1.0)"
      ]
     },
     "execution_count": 12,
     "metadata": {},
     "output_type": "execute_result"
    }
   ],
   "source": [
    "render()"
   ]
  },
  {
   "cell_type": "markdown",
   "metadata": {},
   "source": [
    "# 5. Adding a Sphere"
   ]
  },
  {
   "cell_type": "code",
   "execution_count": 13,
   "metadata": {},
   "outputs": [
    {
     "data": {
      "text/plain": [
       "hit_sphere (generic function with 1 method)"
      ]
     },
     "execution_count": 13,
     "metadata": {},
     "output_type": "execute_result"
    }
   ],
   "source": [
    "function hit_sphere(center, radius, r)\n",
    "    oc = r.origin - center\n",
    "    a = dot(r.direction, r.direction)\n",
    "    b = 2 * dot(oc, r.direction)\n",
    "    c = dot(oc, oc) - radius * radius\n",
    "    discriminant = b * b - 4 * a * c\n",
    "    discriminant > 0\n",
    "end"
   ]
  },
  {
   "cell_type": "code",
   "execution_count": 14,
   "metadata": {},
   "outputs": [
    {
     "data": {
      "text/plain": [
       "color (generic function with 2 methods)"
      ]
     },
     "execution_count": 14,
     "metadata": {},
     "output_type": "execute_result"
    }
   ],
   "source": [
    "function color(r::RayM.Ray)\n",
    "    if hit_sphere([0, 0, -1], 0.5, r)\n",
    "        return [1, 0, 0]\n",
    "    end\n",
    "    unit_direction = normalize(r.direction)\n",
    "    t = 0.5 * (y(unit_direction) + 1)\n",
    "    (1 - t) * [1, 1, 1] + t * [0.5, 0.7, 1]\n",
    "end"
   ]
  },
  {
   "cell_type": "code",
   "execution_count": 15,
   "metadata": {},
   "outputs": [
    {
     "name": "stderr",
     "output_type": "stream",
     "text": [
      "\u001b[32mProgress: 100%|█████████████████████████████████████████| Time: 0:00:00\u001b[39m\n"
     ]
    },
    {
     "data": {
      "image/png": "[encoded data removed]",
      "text/plain": [
       "100×200 Array{RGB,2} with eltype RGB:\n",
       " RGB{Float64}(0.647254,0.788352,1.0)  …  RGB{Float64}(0.647938,0.788763,1.0)\n",
       " RGB{Float64}(0.648971,0.789382,1.0)     RGB{Float64}(0.649647,0.789788,1.0)\n",
       " RGB{Float64}(0.650704,0.790423,1.0)     RGB{Float64}(0.651374,0.790824,1.0)\n",
       " RGB{Float64}(0.652455,0.791473,1.0)     RGB{Float64}(0.653117,0.79187,1.0)\n",
       " RGB{Float64}(0.654223,0.792534,1.0)     RGB{Float64}(0.654877,0.792926,1.0)\n",
       " RGB{Float64}(0.656008,0.793605,1.0)  …  RGB{Float64}(0.656654,0.793993,1.0)\n",
       " RGB{Float64}(0.65781,0.794686,1.0)      RGB{Float64}(0.658448,0.795069,1.0)\n",
       " RGB{Float64}(0.659629,0.795777,1.0)     RGB{Float64}(0.660258,0.796155,1.0)\n",
       " RGB{Float64}(0.661464,0.796878,1.0)     RGB{Float64}(0.662084,0.79725,1.0)\n",
       " RGB{Float64}(0.663316,0.79799,1.0)      RGB{Float64}(0.663926,0.798356,1.0)\n",
       " RGB{Float64}(0.665184,0.79911,1.0)   …  RGB{Float64}(0.665785,0.799471,1.0)\n",
       " RGB{Float64}(0.667069,0.800241,1.0)     RGB{Float64}(0.667659,0.800596,1.0)\n",
       " RGB{Float64}(0.668969,0.801381,1.0)     RGB{Float64}(0.669549,0.80173,1.0)\n",
       " ⋮                                    ⋱  \n",
       " RGB{Float64}(0.831031,0.898619,1.0)     RGB{Float64}(0.830451,0.89827,1.0)\n",
       " RGB{Float64}(0.832931,0.899759,1.0)     RGB{Float64}(0.832341,0.899404,1.0)\n",
       " RGB{Float64}(0.834816,0.90089,1.0)   …  RGB{Float64}(0.834215,0.900529,1.0)\n",
       " RGB{Float64}(0.836684,0.90201,1.0)      RGB{Float64}(0.836074,0.901644,1.0)\n",
       " RGB{Float64}(0.838536,0.903122,1.0)     RGB{Float64}(0.837916,0.90275,1.0)\n",
       " RGB{Float64}(0.840371,0.904223,1.0)     RGB{Float64}(0.839742,0.903845,1.0)\n",
       " RGB{Float64}(0.84219,0.905314,1.0)      RGB{Float64}(0.841552,0.904931,1.0)\n",
       " RGB{Float64}(0.843992,0.906395,1.0)  …  RGB{Float64}(0.843346,0.906007,1.0)\n",
       " RGB{Float64}(0.845777,0.907466,1.0)     RGB{Float64}(0.845123,0.907074,1.0)\n",
       " RGB{Float64}(0.847545,0.908527,1.0)     RGB{Float64}(0.846883,0.90813,1.0)\n",
       " RGB{Float64}(0.849296,0.909577,1.0)     RGB{Float64}(0.848626,0.909176,1.0)\n",
       " RGB{Float64}(0.851029,0.910618,1.0)     RGB{Float64}(0.850353,0.910212,1.0)"
      ]
     },
     "execution_count": 15,
     "metadata": {},
     "output_type": "execute_result"
    }
   ],
   "source": [
    "render()"
   ]
  },
  {
   "cell_type": "markdown",
   "metadata": {},
   "source": [
    "# 6. Surface Normals and Multiple Objects"
   ]
  },
  {
   "cell_type": "code",
   "execution_count": 16,
   "metadata": {},
   "outputs": [
    {
     "data": {
      "text/plain": [
       "hit_sphere (generic function with 1 method)"
      ]
     },
     "execution_count": 16,
     "metadata": {},
     "output_type": "execute_result"
    }
   ],
   "source": [
    "function hit_sphere(center, radius, r)\n",
    "    oc = r.origin - center\n",
    "    a = dot(r.direction, r.direction)\n",
    "    b = 2 * dot(oc, r.direction)\n",
    "    c = dot(oc, oc) - radius * radius\n",
    "    discriminant = b * b - 4 * a * c\n",
    "    if discriminant < 0\n",
    "        -1\n",
    "    else\n",
    "        (-b - sqrt(discriminant)) / (2 * a)\n",
    "    end\n",
    "end"
   ]
  },
  {
   "cell_type": "code",
   "execution_count": 17,
   "metadata": {},
   "outputs": [
    {
     "data": {
      "text/plain": [
       "color (generic function with 2 methods)"
      ]
     },
     "execution_count": 17,
     "metadata": {},
     "output_type": "execute_result"
    }
   ],
   "source": [
    "function color(r::RayM.Ray)\n",
    "    t = hit_sphere([0, 0, -1], 0.5, r)\n",
    "    if t > 0\n",
    "        n = normalize(at(r, t) - [0, 0, -1])\n",
    "        return 0.5 * (n .+ 1)\n",
    "    end\n",
    "    unit_direction = normalize(r.direction)\n",
    "    t = 0.5 * (y(unit_direction) + 1)\n",
    "    (1 - t) * [1, 1, 1] + t * [0.5, 0.7, 1]\n",
    "end"
   ]
  },
  {
   "cell_type": "code",
   "execution_count": 18,
   "metadata": {},
   "outputs": [
    {
     "name": "stderr",
     "output_type": "stream",
     "text": [
      "\u001b[32mProgress: 100%|█████████████████████████████████████████| Time: 0:00:00\u001b[39m\n"
     ]
    },
    {
     "data": {
      "image/png": "[encoded data removed]",
      "text/plain": [
       "100×200 Array{RGB{Float64},2} with eltype RGB{Float64}:\n",
       " RGB{Float64}(0.647254,0.788352,1.0)  …  RGB{Float64}(0.647938,0.788763,1.0)\n",
       " RGB{Float64}(0.648971,0.789382,1.0)     RGB{Float64}(0.649647,0.789788,1.0)\n",
       " RGB{Float64}(0.650704,0.790423,1.0)     RGB{Float64}(0.651374,0.790824,1.0)\n",
       " RGB{Float64}(0.652455,0.791473,1.0)     RGB{Float64}(0.653117,0.79187,1.0)\n",
       " RGB{Float64}(0.654223,0.792534,1.0)     RGB{Float64}(0.654877,0.792926,1.0)\n",
       " RGB{Float64}(0.656008,0.793605,1.0)  …  RGB{Float64}(0.656654,0.793993,1.0)\n",
       " RGB{Float64}(0.65781,0.794686,1.0)      RGB{Float64}(0.658448,0.795069,1.0)\n",
       " RGB{Float64}(0.659629,0.795777,1.0)     RGB{Float64}(0.660258,0.796155,1.0)\n",
       " RGB{Float64}(0.661464,0.796878,1.0)     RGB{Float64}(0.662084,0.79725,1.0)\n",
       " RGB{Float64}(0.663316,0.79799,1.0)      RGB{Float64}(0.663926,0.798356,1.0)\n",
       " RGB{Float64}(0.665184,0.79911,1.0)   …  RGB{Float64}(0.665785,0.799471,1.0)\n",
       " RGB{Float64}(0.667069,0.800241,1.0)     RGB{Float64}(0.667659,0.800596,1.0)\n",
       " RGB{Float64}(0.668969,0.801381,1.0)     RGB{Float64}(0.669549,0.80173,1.0)\n",
       " ⋮                                    ⋱  \n",
       " RGB{Float64}(0.831031,0.898619,1.0)     RGB{Float64}(0.830451,0.89827,1.0)\n",
       " RGB{Float64}(0.832931,0.899759,1.0)     RGB{Float64}(0.832341,0.899404,1.0)\n",
       " RGB{Float64}(0.834816,0.90089,1.0)   …  RGB{Float64}(0.834215,0.900529,1.0)\n",
       " RGB{Float64}(0.836684,0.90201,1.0)      RGB{Float64}(0.836074,0.901644,1.0)\n",
       " RGB{Float64}(0.838536,0.903122,1.0)     RGB{Float64}(0.837916,0.90275,1.0)\n",
       " RGB{Float64}(0.840371,0.904223,1.0)     RGB{Float64}(0.839742,0.903845,1.0)\n",
       " RGB{Float64}(0.84219,0.905314,1.0)      RGB{Float64}(0.841552,0.904931,1.0)\n",
       " RGB{Float64}(0.843992,0.906395,1.0)  …  RGB{Float64}(0.843346,0.906007,1.0)\n",
       " RGB{Float64}(0.845777,0.907466,1.0)     RGB{Float64}(0.845123,0.907074,1.0)\n",
       " RGB{Float64}(0.847545,0.908527,1.0)     RGB{Float64}(0.846883,0.90813,1.0)\n",
       " RGB{Float64}(0.849296,0.909577,1.0)     RGB{Float64}(0.848626,0.909176,1.0)\n",
       " RGB{Float64}(0.851029,0.910618,1.0)     RGB{Float64}(0.850353,0.910212,1.0)"
      ]
     },
     "execution_count": 18,
     "metadata": {},
     "output_type": "execute_result"
    }
   ],
   "source": [
    "render()"
   ]
  },
  {
   "cell_type": "code",
   "execution_count": 19,
   "metadata": {},
   "outputs": [
    {
     "data": {
      "text/plain": [
       "hit_sphere (generic function with 1 method)"
      ]
     },
     "execution_count": 19,
     "metadata": {},
     "output_type": "execute_result"
    }
   ],
   "source": [
    "function hit_sphere(center, radius, r)\n",
    "    oc = r.origin - center\n",
    "    a = norm(r.direction)^2\n",
    "    half_b = dot(oc, r.direction)\n",
    "    c = norm(oc)^2 - radius * radius\n",
    "    discriminant = half_b * half_b - a * c\n",
    "    \n",
    "    if discriminant < 0\n",
    "        -1\n",
    "    else\n",
    "        (-half_b - sqrt(discriminant)) / a\n",
    "    end\n",
    "end"
   ]
  },
  {
   "cell_type": "code",
   "execution_count": 20,
   "metadata": {},
   "outputs": [
    {
     "name": "stderr",
     "output_type": "stream",
     "text": [
      "\u001b[32mProgress: 100%|█████████████████████████████████████████| Time: 0:00:00\u001b[39m\n"
     ]
    },
    {
     "data": {
      "image/png": "[encoded data removed]",
      "text/plain": [
       "100×200 Array{RGB{Float64},2} with eltype RGB{Float64}:\n",
       " RGB{Float64}(0.647254,0.788352,1.0)  …  RGB{Float64}(0.647938,0.788763,1.0)\n",
       " RGB{Float64}(0.648971,0.789382,1.0)     RGB{Float64}(0.649647,0.789788,1.0)\n",
       " RGB{Float64}(0.650704,0.790423,1.0)     RGB{Float64}(0.651374,0.790824,1.0)\n",
       " RGB{Float64}(0.652455,0.791473,1.0)     RGB{Float64}(0.653117,0.79187,1.0)\n",
       " RGB{Float64}(0.654223,0.792534,1.0)     RGB{Float64}(0.654877,0.792926,1.0)\n",
       " RGB{Float64}(0.656008,0.793605,1.0)  …  RGB{Float64}(0.656654,0.793993,1.0)\n",
       " RGB{Float64}(0.65781,0.794686,1.0)      RGB{Float64}(0.658448,0.795069,1.0)\n",
       " RGB{Float64}(0.659629,0.795777,1.0)     RGB{Float64}(0.660258,0.796155,1.0)\n",
       " RGB{Float64}(0.661464,0.796878,1.0)     RGB{Float64}(0.662084,0.79725,1.0)\n",
       " RGB{Float64}(0.663316,0.79799,1.0)      RGB{Float64}(0.663926,0.798356,1.0)\n",
       " RGB{Float64}(0.665184,0.79911,1.0)   …  RGB{Float64}(0.665785,0.799471,1.0)\n",
       " RGB{Float64}(0.667069,0.800241,1.0)     RGB{Float64}(0.667659,0.800596,1.0)\n",
       " RGB{Float64}(0.668969,0.801381,1.0)     RGB{Float64}(0.669549,0.80173,1.0)\n",
       " ⋮                                    ⋱  \n",
       " RGB{Float64}(0.831031,0.898619,1.0)     RGB{Float64}(0.830451,0.89827,1.0)\n",
       " RGB{Float64}(0.832931,0.899759,1.0)     RGB{Float64}(0.832341,0.899404,1.0)\n",
       " RGB{Float64}(0.834816,0.90089,1.0)   …  RGB{Float64}(0.834215,0.900529,1.0)\n",
       " RGB{Float64}(0.836684,0.90201,1.0)      RGB{Float64}(0.836074,0.901644,1.0)\n",
       " RGB{Float64}(0.838536,0.903122,1.0)     RGB{Float64}(0.837916,0.90275,1.0)\n",
       " RGB{Float64}(0.840371,0.904223,1.0)     RGB{Float64}(0.839742,0.903845,1.0)\n",
       " RGB{Float64}(0.84219,0.905314,1.0)      RGB{Float64}(0.841552,0.904931,1.0)\n",
       " RGB{Float64}(0.843992,0.906395,1.0)  …  RGB{Float64}(0.843346,0.906007,1.0)\n",
       " RGB{Float64}(0.845777,0.907466,1.0)     RGB{Float64}(0.845123,0.907074,1.0)\n",
       " RGB{Float64}(0.847545,0.908527,1.0)     RGB{Float64}(0.846883,0.90813,1.0)\n",
       " RGB{Float64}(0.849296,0.909577,1.0)     RGB{Float64}(0.848626,0.909176,1.0)\n",
       " RGB{Float64}(0.851029,0.910618,1.0)     RGB{Float64}(0.850353,0.910212,1.0)"
      ]
     },
     "execution_count": 20,
     "metadata": {},
     "output_type": "execute_result"
    }
   ],
   "source": [
    "render()"
   ]
  },
  {
   "cell_type": "code",
   "execution_count": 21,
   "metadata": {},
   "outputs": [
    {
     "data": {
      "text/plain": [
       "Main.HitRecordM"
      ]
     },
     "execution_count": 21,
     "metadata": {},
     "output_type": "execute_result"
    }
   ],
   "source": [
    "module HitRecordM\n",
    "mutable struct HitRecord\n",
    "    p\n",
    "    normal\n",
    "    t\n",
    "    front_face\n",
    "    \n",
    "    HitRecord() = new([0, 0, 0], [0, 0, 0], 0, false)\n",
    "end\n",
    "end"
   ]
  },
  {
   "cell_type": "code",
   "execution_count": 22,
   "metadata": {},
   "outputs": [
    {
     "data": {
      "text/plain": [
       "set_face_normal (generic function with 1 method)"
      ]
     },
     "execution_count": 22,
     "metadata": {},
     "output_type": "execute_result"
    }
   ],
   "source": [
    "function set_face_normal(rec::HitRecordM.HitRecord, r, outward_normal)\n",
    "    rec.front_face = dot(r.direction, outward_normal) < 0\n",
    "    rec.normal = if rec.front_face\n",
    "        outward_normal \n",
    "    else\n",
    "        -outward_normal\n",
    "    end\n",
    "end"
   ]
  },
  {
   "cell_type": "code",
   "execution_count": 23,
   "metadata": {},
   "outputs": [],
   "source": [
    "abstract type Hittable end"
   ]
  },
  {
   "cell_type": "code",
   "execution_count": 24,
   "metadata": {},
   "outputs": [
    {
     "data": {
      "text/plain": [
       "Main.SphereM"
      ]
     },
     "execution_count": 24,
     "metadata": {},
     "output_type": "execute_result"
    }
   ],
   "source": [
    "module SphereM\n",
    "struct Sphere <: Main.Hittable\n",
    "    center\n",
    "    radius\n",
    "end\n",
    "end"
   ]
  },
  {
   "cell_type": "code",
   "execution_count": 25,
   "metadata": {},
   "outputs": [
    {
     "data": {
      "text/plain": [
       "hit (generic function with 1 method)"
      ]
     },
     "execution_count": 25,
     "metadata": {},
     "output_type": "execute_result"
    }
   ],
   "source": [
    "function hit(sphere::SphereM.Sphere, r, t_min, t_max, rec)\n",
    "    oc = r.origin - sphere.center\n",
    "    a = norm(r.direction)^2\n",
    "    half_b = dot(oc, r.direction)\n",
    "    c = norm(oc)^2 - sphere.radius * sphere.radius\n",
    "    discriminant = half_b * half_b - a * c\n",
    "    \n",
    "    if discriminant > 0\n",
    "        root = sqrt(discriminant)\n",
    "        temp = (-half_b - root) / a\n",
    "        if t_min < temp < t_max \n",
    "            rec.t = temp\n",
    "            rec.p = at(r, rec.t)\n",
    "            outward_normal = (rec.p - sphere.center) / sphere.radius\n",
    "            set_face_normal(rec, r, outward_normal)\n",
    "            return true\n",
    "        end\n",
    "        temp = (-half_b + root) / a\n",
    "        if t_min < temp < t_max\n",
    "            rec.t = temp\n",
    "            rec.p = at(r, rec.t)\n",
    "            outward_normal = (rec.p - sphere.center) / sphere.radius\n",
    "            set_face_normal(rec, r, outward_normal)\n",
    "            return true\n",
    "        end\n",
    "    end\n",
    "    false\n",
    "end"
   ]
  },
  {
   "cell_type": "code",
   "execution_count": 26,
   "metadata": {},
   "outputs": [
    {
     "data": {
      "text/plain": [
       "Main.HittableListM"
      ]
     },
     "execution_count": 26,
     "metadata": {},
     "output_type": "execute_result"
    }
   ],
   "source": [
    "module HittableListM\n",
    "struct HittableList <: Main.Hittable\n",
    "    objects\n",
    "end\n",
    "end"
   ]
  },
  {
   "cell_type": "code",
   "execution_count": 27,
   "metadata": {},
   "outputs": [
    {
     "data": {
      "text/plain": [
       "hit (generic function with 2 methods)"
      ]
     },
     "execution_count": 27,
     "metadata": {},
     "output_type": "execute_result"
    }
   ],
   "source": [
    "function hit(hittable_list::HittableListM.HittableList, r, t_min, t_max, rec)\n",
    "    temp_rec = HitRecordM.HitRecord()\n",
    "    hit_anything = false\n",
    "    closest_so_far = t_max\n",
    "    \n",
    "    for object in hittable_list.objects\n",
    "        if hit(object, r, t_min, closest_so_far, temp_rec)\n",
    "            hit_anything = true\n",
    "            closest_so_far = temp_rec.t\n",
    "            rec.p = temp_rec.p\n",
    "            rec.normal = temp_rec.normal\n",
    "            rec.t = temp_rec.t\n",
    "            rec.front_face = temp_rec.front_face\n",
    "        end\n",
    "    end\n",
    "    \n",
    "    hit_anything\n",
    "end"
   ]
  },
  {
   "cell_type": "code",
   "execution_count": 28,
   "metadata": {},
   "outputs": [
    {
     "data": {
      "text/plain": [
       "color (generic function with 3 methods)"
      ]
     },
     "execution_count": 28,
     "metadata": {},
     "output_type": "execute_result"
    }
   ],
   "source": [
    "function color(r::RayM.Ray, world::Hittable)\n",
    "    rec = HitRecordM.HitRecord()\n",
    "    if hit(world, r, 0, Inf, rec)\n",
    "        return 0.5 * (rec.normal .+ 1)\n",
    "    end\n",
    "    unit_direction = normalize(r.direction)\n",
    "    t = 0.5 * (y(unit_direction) + 1)\n",
    "    (1 - t) * [1, 1, 1] + t * [0.5, 0.7, 1]\n",
    "end"
   ]
  },
  {
   "cell_type": "code",
   "execution_count": 29,
   "metadata": {},
   "outputs": [
    {
     "data": {
      "text/plain": [
       "Main.HittableListM.HittableList(Main.SphereM.Sphere[Main.SphereM.Sphere([0, 0, -1], 0.5), Main.SphereM.Sphere([0.0, -100.5, -1.0], 100)])"
      ]
     },
     "execution_count": 29,
     "metadata": {},
     "output_type": "execute_result"
    }
   ],
   "source": [
    "world = HittableListM.HittableList([\n",
    "        SphereM.Sphere([0, 0, -1], 0.5), \n",
    "        SphereM.Sphere([0, -100.5, -1], 100)\n",
    "        ])"
   ]
  },
  {
   "cell_type": "code",
   "execution_count": 30,
   "metadata": {},
   "outputs": [
    {
     "data": {
      "text/plain": [
       "color (generic function with 3 methods)"
      ]
     },
     "execution_count": 30,
     "metadata": {},
     "output_type": "execute_result"
    }
   ],
   "source": [
    "function color(i, j) \n",
    "    u = i / image_width\n",
    "    v = j / image_height\n",
    "    r = RayM.Ray(origin, lower_left_corner + u * horizontal + v * vertical)\n",
    "    color(r, world)\n",
    "end"
   ]
  },
  {
   "cell_type": "code",
   "execution_count": 31,
   "metadata": {},
   "outputs": [
    {
     "name": "stderr",
     "output_type": "stream",
     "text": [
      "\u001b[32mProgress: 100%|█████████████████████████████████████████| Time: 0:00:00\u001b[39m\n"
     ]
    },
    {
     "data": {
      "image/png": "[encoded data removed]",
      "text/plain": [
       "100×200 Array{RGB{Float64},2} with eltype RGB{Float64}:\n",
       " RGB{Float64}(0.647254,0.788352,1.0)       …  RGB{Float64}(0.647938,0.788763,1.0)\n",
       " RGB{Float64}(0.648971,0.789382,1.0)          RGB{Float64}(0.649647,0.789788,1.0)\n",
       " RGB{Float64}(0.650704,0.790423,1.0)          RGB{Float64}(0.651374,0.790824,1.0)\n",
       " RGB{Float64}(0.652455,0.791473,1.0)          RGB{Float64}(0.653117,0.79187,1.0)\n",
       " RGB{Float64}(0.654223,0.792534,1.0)          RGB{Float64}(0.654877,0.792926,1.0)\n",
       " RGB{Float64}(0.656008,0.793605,1.0)       …  RGB{Float64}(0.656654,0.793993,1.0)\n",
       " RGB{Float64}(0.65781,0.794686,1.0)           RGB{Float64}(0.658448,0.795069,1.0)\n",
       " RGB{Float64}(0.659629,0.795777,1.0)          RGB{Float64}(0.660258,0.796155,1.0)\n",
       " RGB{Float64}(0.661464,0.796878,1.0)          RGB{Float64}(0.662084,0.79725,1.0)\n",
       " RGB{Float64}(0.663316,0.79799,1.0)           RGB{Float64}(0.663926,0.798356,1.0)\n",
       " RGB{Float64}(0.665184,0.79911,1.0)        …  RGB{Float64}(0.665785,0.799471,1.0)\n",
       " RGB{Float64}(0.667069,0.800241,1.0)          RGB{Float64}(0.667659,0.800596,1.0)\n",
       " RGB{Float64}(0.668969,0.801381,1.0)          RGB{Float64}(0.669549,0.80173,1.0)\n",
       " ⋮                                         ⋱  \n",
       " RGB{Float64}(0.493365,0.999953,0.501649)     RGB{Float64}(0.506704,0.999952,0.501648)\n",
       " RGB{Float64}(0.49354,0.999955,0.501738)      RGB{Float64}(0.506527,0.999954,0.501736)\n",
       " RGB{Float64}(0.493706,0.999957,0.501821)  …  RGB{Float64}(0.506359,0.999956,0.50182)\n",
       " RGB{Float64}(0.493864,0.999959,0.501901)     RGB{Float64}(0.5062,0.999958,0.5019)\n",
       " RGB{Float64}(0.494013,0.99996,0.501976)      RGB{Float64}(0.506049,0.99996,0.501976)\n",
       " RGB{Float64}(0.494156,0.999962,0.502048)     RGB{Float64}(0.505905,0.999961,0.502048)\n",
       " RGB{Float64}(0.494292,0.999963,0.502117)     RGB{Float64}(0.505768,0.999962,0.502116)\n",
       " RGB{Float64}(0.494421,0.999964,0.502182)  …  RGB{Float64}(0.505637,0.999963,0.502182)\n",
       " RGB{Float64}(0.494545,0.999965,0.502245)     RGB{Float64}(0.505512,0.999965,0.502244)\n",
       " RGB{Float64}(0.494663,0.999966,0.502304)     RGB{Float64}(0.505392,0.999966,0.502304)\n",
       " RGB{Float64}(0.494776,0.999967,0.502362)     RGB{Float64}(0.505278,0.999967,0.502361)\n",
       " RGB{Float64}(0.494884,0.999968,0.502416)     RGB{Float64}(0.505168,0.999967,0.502416)"
      ]
     },
     "execution_count": 31,
     "metadata": {},
     "output_type": "execute_result"
    }
   ],
   "source": [
    "render()"
   ]
  },
  {
   "cell_type": "markdown",
   "metadata": {},
   "source": [
    "# 7. Antialiasing"
   ]
  },
  {
   "cell_type": "code",
   "execution_count": 32,
   "metadata": {},
   "outputs": [
    {
     "data": {
      "text/plain": [
       "Main.CameraM"
      ]
     },
     "execution_count": 32,
     "metadata": {},
     "output_type": "execute_result"
    }
   ],
   "source": [
    "module CameraM\n",
    "struct Camera\n",
    "    origin\n",
    "    lower_left_corner\n",
    "    horizontal\n",
    "    vertical\n",
    "    \n",
    "    Camera() = new([0, 0, 0], [-2, -1, -1], [4, 0, 0], [0, 2, 0])\n",
    "end\n",
    "end"
   ]
  },
  {
   "cell_type": "code",
   "execution_count": 33,
   "metadata": {},
   "outputs": [
    {
     "data": {
      "text/plain": [
       "get_ray (generic function with 1 method)"
      ]
     },
     "execution_count": 33,
     "metadata": {},
     "output_type": "execute_result"
    }
   ],
   "source": [
    "get_ray(camera::CameraM.Camera, u, v) = RayM.Ray(camera.origin, camera.lower_left_corner + u * camera.horizontal + v * camera.vertical - camera.origin)"
   ]
  },
  {
   "cell_type": "code",
   "execution_count": 34,
   "metadata": {},
   "outputs": [],
   "source": [
    "samples_per_pixel = 100;"
   ]
  },
  {
   "cell_type": "code",
   "execution_count": 35,
   "metadata": {},
   "outputs": [
    {
     "data": {
      "text/plain": [
       "Main.CameraM.Camera([0, 0, 0], [-2, -1, -1], [4, 0, 0], [0, 2, 0])"
      ]
     },
     "execution_count": 35,
     "metadata": {},
     "output_type": "execute_result"
    }
   ],
   "source": [
    "cam = CameraM.Camera()"
   ]
  },
  {
   "cell_type": "code",
   "execution_count": 36,
   "metadata": {},
   "outputs": [
    {
     "data": {
      "text/plain": [
       "color (generic function with 3 methods)"
      ]
     },
     "execution_count": 36,
     "metadata": {},
     "output_type": "execute_result"
    }
   ],
   "source": [
    "function color(i, j) \n",
    "    c = [0, 0, 0]\n",
    "    for _ in 1:samples_per_pixel\n",
    "        u = (i + rand()) / image_width\n",
    "        v = (j + rand()) / image_height\n",
    "        r = get_ray(cam, u, v)\n",
    "        c += color(r, world)\n",
    "    end\n",
    "    c / samples_per_pixel\n",
    "end"
   ]
  },
  {
   "cell_type": "code",
   "execution_count": 37,
   "metadata": {},
   "outputs": [
    {
     "name": "stderr",
     "output_type": "stream",
     "text": [
      "\u001b[32mProgress: 100%|█████████████████████████████████████████| Time: 0:00:05\u001b[39m\n"
     ]
    },
    {
     "data": {
      "image/png": "[encoded data removed]",
      "text/plain": [
       "100×200 Array{RGB{Float64},2} with eltype RGB{Float64}:\n",
       " RGB{Float64}(0.646165,0.787699,1.0)       …  RGB{Float64}(0.647412,0.788447,1.0)\n",
       " RGB{Float64}(0.647792,0.788675,1.0)          RGB{Float64}(0.649153,0.789492,1.0)\n",
       " RGB{Float64}(0.649528,0.789717,1.0)          RGB{Float64}(0.650857,0.790514,1.0)\n",
       " RGB{Float64}(0.651208,0.790725,1.0)          RGB{Float64}(0.652673,0.791604,1.0)\n",
       " RGB{Float64}(0.653018,0.791811,1.0)          RGB{Float64}(0.654217,0.79253,1.0)\n",
       " RGB{Float64}(0.654808,0.792885,1.0)       …  RGB{Float64}(0.656049,0.793629,1.0)\n",
       " RGB{Float64}(0.656681,0.794009,1.0)          RGB{Float64}(0.65783,0.794698,1.0)\n",
       " RGB{Float64}(0.658427,0.795056,1.0)          RGB{Float64}(0.659532,0.795719,1.0)\n",
       " RGB{Float64}(0.660217,0.79613,1.0)           RGB{Float64}(0.661432,0.796859,1.0)\n",
       " RGB{Float64}(0.662097,0.797258,1.0)          RGB{Float64}(0.663305,0.797983,1.0)\n",
       " RGB{Float64}(0.664029,0.798417,1.0)       …  RGB{Float64}(0.665177,0.799106,1.0)\n",
       " RGB{Float64}(0.665954,0.799573,1.0)          RGB{Float64}(0.666957,0.800174,1.0)\n",
       " RGB{Float64}(0.667709,0.800626,1.0)          RGB{Float64}(0.668955,0.801373,1.0)\n",
       " ⋮                                         ⋱  \n",
       " RGB{Float64}(0.493304,0.999953,0.501601)     RGB{Float64}(0.506825,0.999951,0.501605)\n",
       " RGB{Float64}(0.493488,0.999955,0.501695)     RGB{Float64}(0.506651,0.999953,0.50169)\n",
       " RGB{Float64}(0.493656,0.999957,0.501779)  …  RGB{Float64}(0.50648,0.999955,0.501776)\n",
       " RGB{Float64}(0.493821,0.999958,0.501865)     RGB{Float64}(0.506308,0.999957,0.50186)\n",
       " RGB{Float64}(0.493965,0.99996,0.501937)      RGB{Float64}(0.506157,0.999958,0.501937)\n",
       " RGB{Float64}(0.494113,0.999961,0.502013)     RGB{Float64}(0.506011,0.99996,0.502008)\n",
       " RGB{Float64}(0.494255,0.999963,0.502082)     RGB{Float64}(0.505866,0.999961,0.50208)\n",
       " RGB{Float64}(0.494382,0.999964,0.502148)  …  RGB{Float64}(0.505729,0.999963,0.50215)\n",
       " RGB{Float64}(0.494517,0.999965,0.502216)     RGB{Float64}(0.505602,0.999964,0.502212)\n",
       " RGB{Float64}(0.49463,0.999966,0.502274)      RGB{Float64}(0.505481,0.999965,0.502273)\n",
       " RGB{Float64}(0.494745,0.999967,0.502333)     RGB{Float64}(0.505361,0.999966,0.502332)\n",
       " RGB{Float64}(0.494857,0.999968,0.502389)     RGB{Float64}(0.505246,0.999967,0.50239)"
      ]
     },
     "execution_count": 37,
     "metadata": {},
     "output_type": "execute_result"
    }
   ],
   "source": [
    "render()"
   ]
  },
  {
   "cell_type": "markdown",
   "metadata": {},
   "source": [
    "# 8. Diffuse Materials"
   ]
  },
  {
   "cell_type": "code",
   "execution_count": 38,
   "metadata": {},
   "outputs": [
    {
     "data": {
      "text/plain": [
       "random_in_unit_sphere (generic function with 1 method)"
      ]
     },
     "execution_count": 38,
     "metadata": {},
     "output_type": "execute_result"
    }
   ],
   "source": [
    "function random_in_unit_sphere()\n",
    "    while true\n",
    "        p = rand(-1:eps():1, 3)\n",
    "        if norm(p)^2 > 1\n",
    "            continue\n",
    "        end\n",
    "        return p\n",
    "    end\n",
    "end"
   ]
  },
  {
   "cell_type": "code",
   "execution_count": 39,
   "metadata": {},
   "outputs": [
    {
     "data": {
      "text/plain": [
       "color (generic function with 4 methods)"
      ]
     },
     "execution_count": 39,
     "metadata": {},
     "output_type": "execute_result"
    }
   ],
   "source": [
    "function color(r::RayM.Ray, world::Hittable, depth)\n",
    "    rec = HitRecordM.HitRecord()\n",
    "    \n",
    "    if depth <= 0\n",
    "        return [0, 0, 0]\n",
    "    end\n",
    "    \n",
    "    if hit(world, r, 0, Inf, rec)\n",
    "        target = rec.p + rec.normal + random_in_unit_sphere()\n",
    "        return 0.5 * color(RayM.Ray(rec.p, target - rec.p), world, depth - 1)\n",
    "    end\n",
    "    unit_direction = normalize(r.direction)\n",
    "    t = 0.5 * (y(unit_direction) + 1)\n",
    "    (1 - t) * [1, 1, 1] + t * [0.5, 0.7, 1]\n",
    "end"
   ]
  },
  {
   "cell_type": "code",
   "execution_count": 40,
   "metadata": {},
   "outputs": [],
   "source": [
    "max_depth = 50;"
   ]
  },
  {
   "cell_type": "code",
   "execution_count": 41,
   "metadata": {},
   "outputs": [
    {
     "data": {
      "text/plain": [
       "color (generic function with 4 methods)"
      ]
     },
     "execution_count": 41,
     "metadata": {},
     "output_type": "execute_result"
    }
   ],
   "source": [
    "function color(i, j) \n",
    "    c = [0, 0, 0]\n",
    "    for _ in 1:samples_per_pixel\n",
    "        u = (i + rand()) / image_width\n",
    "        v = (j + rand()) / image_height\n",
    "        r = get_ray(cam, u, v)\n",
    "        c += color(r, world, max_depth)\n",
    "    end\n",
    "    c / samples_per_pixel\n",
    "end"
   ]
  },
  {
   "cell_type": "code",
   "execution_count": 42,
   "metadata": {},
   "outputs": [
    {
     "name": "stderr",
     "output_type": "stream",
     "text": [
      "\u001b[32mProgress: 100%|█████████████████████████████████████████| Time: 0:00:16\u001b[39m\n"
     ]
    },
    {
     "data": {
      "image/png": "[encoded data removed]",
      "text/plain": [
       "100×200 Array{RGB{Float64},2} with eltype RGB{Float64}:\n",
       " RGB{Float64}(0.646097,0.787658,1.0)       …  RGB{Float64}(0.647477,0.788486,1.0)\n",
       " RGB{Float64}(0.647761,0.788657,1.0)          RGB{Float64}(0.649077,0.789446,1.0)\n",
       " RGB{Float64}(0.649394,0.789636,1.0)          RGB{Float64}(0.650897,0.790538,1.0)\n",
       " RGB{Float64}(0.651195,0.790717,1.0)          RGB{Float64}(0.65261,0.791566,1.0)\n",
       " RGB{Float64}(0.65292,0.791752,1.0)           RGB{Float64}(0.654309,0.792585,1.0)\n",
       " RGB{Float64}(0.65477,0.792862,1.0)        …  RGB{Float64}(0.656052,0.793631,1.0)\n",
       " RGB{Float64}(0.656566,0.79394,1.0)           RGB{Float64}(0.657908,0.794745,1.0)\n",
       " RGB{Float64}(0.658462,0.795077,1.0)          RGB{Float64}(0.65962,0.795772,1.0)\n",
       " RGB{Float64}(0.660164,0.796099,1.0)          RGB{Float64}(0.661535,0.796921,1.0)\n",
       " RGB{Float64}(0.662106,0.797263,1.0)          RGB{Float64}(0.663189,0.797913,1.0)\n",
       " RGB{Float64}(0.663931,0.798358,1.0)       …  RGB{Float64}(0.665175,0.799105,1.0)\n",
       " RGB{Float64}(0.665911,0.799547,1.0)          RGB{Float64}(0.667019,0.800211,1.0)\n",
       " RGB{Float64}(0.667702,0.800621,1.0)          RGB{Float64}(0.668907,0.801344,1.0)\n",
       " ⋮                                         ⋱  \n",
       " RGB{Float64}(0.221648,0.294783,0.404485)     RGB{Float64}(0.208895,0.276965,0.379069)\n",
       " RGB{Float64}(0.221398,0.293668,0.402072)     RGB{Float64}(0.192629,0.255856,0.350697)\n",
       " RGB{Float64}(0.215609,0.288803,0.398595)  …  RGB{Float64}(0.208765,0.276909,0.379124)\n",
       " RGB{Float64}(0.213235,0.281763,0.384554)     RGB{Float64}(0.228698,0.304742,0.41881)\n",
       " RGB{Float64}(0.211162,0.280351,0.384135)     RGB{Float64}(0.212904,0.279597,0.379637)\n",
       " RGB{Float64}(0.199381,0.262739,0.357777)     RGB{Float64}(0.209882,0.278915,0.382464)\n",
       " RGB{Float64}(0.1902,0.252337,0.345542)       RGB{Float64}(0.210575,0.279059,0.381785)\n",
       " RGB{Float64}(0.218166,0.289888,0.397471)  …  RGB{Float64}(0.215757,0.287743,0.39572)\n",
       " RGB{Float64}(0.216421,0.286506,0.391632)     RGB{Float64}(0.220022,0.29119,0.397941)\n",
       " RGB{Float64}(0.211547,0.278654,0.379314)     RGB{Float64}(0.20733,0.275691,0.378231)\n",
       " RGB{Float64}(0.187213,0.24833,0.340005)      RGB{Float64}(0.215442,0.287324,0.395148)\n",
       " RGB{Float64}(0.207481,0.274562,0.375184)     RGB{Float64}(0.20783,0.276337,0.379097)"
      ]
     },
     "execution_count": 42,
     "metadata": {},
     "output_type": "execute_result"
    }
   ],
   "source": [
    "render()"
   ]
  },
  {
   "cell_type": "code",
   "execution_count": 43,
   "metadata": {},
   "outputs": [
    {
     "data": {
      "text/plain": [
       "color (generic function with 4 methods)"
      ]
     },
     "execution_count": 43,
     "metadata": {},
     "output_type": "execute_result"
    }
   ],
   "source": [
    "function color(i, j) \n",
    "    c = [0, 0, 0]\n",
    "    for _ in 1:samples_per_pixel\n",
    "        u = (i + rand()) / image_width\n",
    "        v = (j + rand()) / image_height\n",
    "        r = get_ray(cam, u, v)\n",
    "        c += color(r, world, max_depth)\n",
    "    end\n",
    "    sqrt.(c / samples_per_pixel)\n",
    "end"
   ]
  },
  {
   "cell_type": "code",
   "execution_count": 44,
   "metadata": {},
   "outputs": [
    {
     "name": "stderr",
     "output_type": "stream",
     "text": [
      "\u001b[32mProgress: 100%|█████████████████████████████████████████| Time: 0:00:16\u001b[39m\n"
     ]
    },
    {
     "data": {
      "image/png": "[encoded data removed]",
      "text/plain": [
       "100×200 Array{RGB{Float64},2} with eltype RGB{Float64}:\n",
       " RGB{Float64}(0.80377,0.887484,1.0)        …  RGB{Float64}(0.804619,0.887945,1.0)\n",
       " RGB{Float64}(0.804758,0.888021,1.0)          RGB{Float64}(0.805652,0.888507,1.0)\n",
       " RGB{Float64}(0.805948,0.888668,1.0)          RGB{Float64}(0.806758,0.889109,1.0)\n",
       " RGB{Float64}(0.806991,0.889236,1.0)          RGB{Float64}(0.807748,0.889648,1.0)\n",
       " RGB{Float64}(0.808103,0.889842,1.0)          RGB{Float64}(0.808813,0.890229,1.0)\n",
       " RGB{Float64}(0.809141,0.890408,1.0)       …  RGB{Float64}(0.810045,0.8909,1.0)\n",
       " RGB{Float64}(0.810273,0.891025,1.0)          RGB{Float64}(0.81111,0.891481,1.0)\n",
       " RGB{Float64}(0.811449,0.891667,1.0)          RGB{Float64}(0.812208,0.892081,1.0)\n",
       " RGB{Float64}(0.812446,0.892211,1.0)          RGB{Float64}(0.813359,0.89271,1.0)\n",
       " RGB{Float64}(0.813671,0.892881,1.0)          RGB{Float64}(0.814373,0.893265,1.0)\n",
       " RGB{Float64}(0.814886,0.893545,1.0)       …  RGB{Float64}(0.815554,0.893911,1.0)\n",
       " RGB{Float64}(0.815976,0.894142,1.0)          RGB{Float64}(0.816711,0.894544,1.0)\n",
       " RGB{Float64}(0.81708,0.894747,1.0)           RGB{Float64}(0.817897,0.895195,1.0)\n",
       " ⋮                                         ⋱  \n",
       " RGB{Float64}(0.456242,0.525134,0.614148)     RGB{Float64}(0.479148,0.550632,0.643128)\n",
       " RGB{Float64}(0.445879,0.511993,0.597605)     RGB{Float64}(0.463617,0.533564,0.623952)\n",
       " RGB{Float64}(0.453178,0.522507,0.611946)  …  RGB{Float64}(0.451674,0.521308,0.611056)\n",
       " RGB{Float64}(0.464154,0.535707,0.627931)     RGB{Float64}(0.455213,0.52406,0.613)\n",
       " RGB{Float64}(0.47992,0.554288,0.65008)       RGB{Float64}(0.444681,0.512497,0.600018)\n",
       " RGB{Float64}(0.465067,0.537194,0.630089)     RGB{Float64}(0.466504,0.538232,0.63071)\n",
       " RGB{Float64}(0.474357,0.544776,0.635948)     RGB{Float64}(0.456516,0.527701,0.619322)\n",
       " RGB{Float64}(0.461214,0.531202,0.621579)  …  RGB{Float64}(0.463583,0.534335,0.625636)\n",
       " RGB{Float64}(0.463078,0.532296,0.621841)     RGB{Float64}(0.469406,0.543156,0.637992)\n",
       " RGB{Float64}(0.466514,0.538456,0.631176)     RGB{Float64}(0.48399,0.557948,0.653372)\n",
       " RGB{Float64}(0.463484,0.532823,0.622515)     RGB{Float64}(0.467037,0.538744,0.63121)\n",
       " RGB{Float64}(0.473241,0.545274,0.638258)     RGB{Float64}(0.464167,0.537083,0.630848)"
      ]
     },
     "execution_count": 44,
     "metadata": {},
     "output_type": "execute_result"
    }
   ],
   "source": [
    "render()"
   ]
  },
  {
   "cell_type": "code",
   "execution_count": 45,
   "metadata": {},
   "outputs": [
    {
     "data": {
      "text/plain": [
       "random_unit_vector (generic function with 1 method)"
      ]
     },
     "execution_count": 45,
     "metadata": {},
     "output_type": "execute_result"
    }
   ],
   "source": [
    "function random_unit_vector()\n",
    "    a = rand(0:eps():2pi)\n",
    "    z = rand(-1:eps():1)\n",
    "    r = sqrt(1 - z * z)\n",
    "    [r*cos(a), r*sin(a), z]\n",
    "end"
   ]
  },
  {
   "cell_type": "code",
   "execution_count": 46,
   "metadata": {},
   "outputs": [
    {
     "data": {
      "text/plain": [
       "color (generic function with 4 methods)"
      ]
     },
     "execution_count": 46,
     "metadata": {},
     "output_type": "execute_result"
    }
   ],
   "source": [
    "function color(r::RayM.Ray, world::Hittable, depth)\n",
    "    rec = HitRecordM.HitRecord()\n",
    "    \n",
    "    if depth <= 0\n",
    "        return [0, 0, 0]\n",
    "    end\n",
    "    \n",
    "    if hit(world, r, 0.001, Inf, rec)\n",
    "        target = rec.p + rec.normal + random_unit_vector()\n",
    "        return 0.5 * color(RayM.Ray(rec.p, target - rec.p), world, depth - 1)\n",
    "    end\n",
    "    unit_direction = normalize(r.direction)\n",
    "    t = 0.5 * (y(unit_direction) + 1)\n",
    "    (1 - t) * [1, 1, 1] + t * [0.5, 0.7, 1]\n",
    "end"
   ]
  },
  {
   "cell_type": "code",
   "execution_count": 47,
   "metadata": {},
   "outputs": [
    {
     "name": "stderr",
     "output_type": "stream",
     "text": [
      "\u001b[32mProgress: 100%|█████████████████████████████████████████| Time: 0:00:09\u001b[39m\n"
     ]
    },
    {
     "data": {
      "image/png": "[encoded data removed]",
      "text/plain": [
       "100×200 Array{RGB{Float64},2} with eltype RGB{Float64}:\n",
       " RGB{Float64}(0.803768,0.887483,1.0)       …  RGB{Float64}(0.804643,0.887958,1.0)\n",
       " RGB{Float64}(0.804893,0.888094,1.0)          RGB{Float64}(0.80563,0.888495,1.0)\n",
       " RGB{Float64}(0.805882,0.888632,1.0)          RGB{Float64}(0.806716,0.889086,1.0)\n",
       " RGB{Float64}(0.807052,0.889269,1.0)          RGB{Float64}(0.8078,0.889677,1.0)\n",
       " RGB{Float64}(0.808126,0.889854,1.0)          RGB{Float64}(0.808832,0.890239,1.0)\n",
       " RGB{Float64}(0.809181,0.890429,1.0)       …  RGB{Float64}(0.810053,0.890905,1.0)\n",
       " RGB{Float64}(0.810349,0.891066,1.0)          RGB{Float64}(0.811116,0.891485,1.0)\n",
       " RGB{Float64}(0.811381,0.89163,1.0)           RGB{Float64}(0.812197,0.892075,1.0)\n",
       " RGB{Float64}(0.81258,0.892285,1.0)           RGB{Float64}(0.813261,0.892657,1.0)\n",
       " RGB{Float64}(0.813608,0.892846,1.0)          RGB{Float64}(0.814488,0.893328,1.0)\n",
       " RGB{Float64}(0.814805,0.893501,1.0)       …  RGB{Float64}(0.815571,0.89392,1.0)\n",
       " RGB{Float64}(0.816038,0.894176,1.0)          RGB{Float64}(0.816669,0.894521,1.0)\n",
       " RGB{Float64}(0.817143,0.894781,1.0)          RGB{Float64}(0.817846,0.895167,1.0)\n",
       " ⋮                                         ⋱  \n",
       " RGB{Float64}(0.533732,0.606566,0.701783)     RGB{Float64}(0.536041,0.608197,0.702673)\n",
       " RGB{Float64}(0.524074,0.593963,0.685565)     RGB{Float64}(0.535338,0.605353,0.697316)\n",
       " RGB{Float64}(0.526842,0.59878,0.69282)    …  RGB{Float64}(0.536923,0.607019,0.699107)\n",
       " RGB{Float64}(0.535262,0.609838,0.707107)     RGB{Float64}(0.534167,0.607207,0.702673)\n",
       " RGB{Float64}(0.535441,0.606645,0.7)          RGB{Float64}(0.531942,0.604382,0.699107)\n",
       " RGB{Float64}(0.533101,0.603442,0.695746)     RGB{Float64}(0.530279,0.600181,0.691918)\n",
       " RGB{Float64}(0.524758,0.597786,0.693046)     RGB{Float64}(0.531695,0.604665,0.7)\n",
       " RGB{Float64}(0.533808,0.605781,0.7)       …  RGB{Float64}(0.535856,0.604388,0.694622)\n",
       " RGB{Float64}(0.52953,0.601033,0.694622)      RGB{Float64}(0.530561,0.60241,0.696419)\n",
       " RGB{Float64}(0.526516,0.598608,0.69282)      RGB{Float64}(0.533464,0.606836,0.702673)\n",
       " RGB{Float64}(0.534882,0.60387,0.694622)      RGB{Float64}(0.531255,0.602776,0.696419)\n",
       " RGB{Float64}(0.530848,0.601315,0.693722)     RGB{Float64}(0.530092,0.600915,0.693722)"
      ]
     },
     "execution_count": 47,
     "metadata": {},
     "output_type": "execute_result"
    }
   ],
   "source": [
    "render()"
   ]
  },
  {
   "cell_type": "code",
   "execution_count": 48,
   "metadata": {},
   "outputs": [
    {
     "data": {
      "text/plain": [
       "random_in_hemisphere (generic function with 1 method)"
      ]
     },
     "execution_count": 48,
     "metadata": {},
     "output_type": "execute_result"
    }
   ],
   "source": [
    "function random_in_hemisphere(normal)\n",
    "    in_unit_sphere = random_in_unit_sphere()\n",
    "    if dot(in_unit_sphere, normal) > 0\n",
    "        in_unit_sphere\n",
    "    else\n",
    "        -in_unit_sphere\n",
    "    end\n",
    "end"
   ]
  },
  {
   "cell_type": "code",
   "execution_count": 49,
   "metadata": {},
   "outputs": [
    {
     "data": {
      "text/plain": [
       "color (generic function with 4 methods)"
      ]
     },
     "execution_count": 49,
     "metadata": {},
     "output_type": "execute_result"
    }
   ],
   "source": [
    "function color(r::RayM.Ray, world::Hittable, depth)\n",
    "    rec = HitRecordM.HitRecord()\n",
    "    \n",
    "    if depth <= 0\n",
    "        return [0, 0, 0]\n",
    "    end\n",
    "    \n",
    "    if hit(world, r, 0.001, Inf, rec)\n",
    "        target = rec.p + random_in_hemisphere(rec.normal)\n",
    "        return 0.5 * color(RayM.Ray(rec.p, target - rec.p), world, depth - 1)\n",
    "    end\n",
    "    unit_direction = normalize(r.direction)\n",
    "    t = 0.5 * (y(unit_direction) + 1)\n",
    "    (1 - t) * [1, 1, 1] + t * [0.5, 0.7, 1]\n",
    "end"
   ]
  },
  {
   "cell_type": "code",
   "execution_count": 50,
   "metadata": {},
   "outputs": [
    {
     "name": "stderr",
     "output_type": "stream",
     "text": [
      "\u001b[32mProgress: 100%|█████████████████████████████████████████| Time: 0:00:09\u001b[39m\n"
     ]
    },
    {
     "data": {
      "image/png": "[encoded data removed]",
      "text/plain": [
       "100×200 Array{RGB{Float64},2} with eltype RGB{Float64}:\n",
       " RGB{Float64}(0.803749,0.887473,1.0)       …  RGB{Float64}(0.804668,0.887972,1.0)\n",
       " RGB{Float64}(0.804799,0.888043,1.0)          RGB{Float64}(0.805689,0.888528,1.0)\n",
       " RGB{Float64}(0.805937,0.888662,1.0)          RGB{Float64}(0.806759,0.889109,1.0)\n",
       " RGB{Float64}(0.807009,0.889246,1.0)          RGB{Float64}(0.807836,0.889696,1.0)\n",
       " RGB{Float64}(0.808079,0.889829,1.0)          RGB{Float64}(0.808927,0.890291,1.0)\n",
       " RGB{Float64}(0.809266,0.890476,1.0)       …  RGB{Float64}(0.809988,0.890869,1.0)\n",
       " RGB{Float64}(0.810284,0.891031,1.0)          RGB{Float64}(0.811093,0.891472,1.0)\n",
       " RGB{Float64}(0.8114,0.89164,1.0)             RGB{Float64}(0.812146,0.892048,1.0)\n",
       " RGB{Float64}(0.812519,0.892251,1.0)          RGB{Float64}(0.813292,0.892674,1.0)\n",
       " RGB{Float64}(0.813668,0.892879,1.0)          RGB{Float64}(0.814443,0.893303,1.0)\n",
       " RGB{Float64}(0.814815,0.893507,1.0)       …  RGB{Float64}(0.815623,0.893949,1.0)\n",
       " RGB{Float64}(0.816003,0.894157,1.0)          RGB{Float64}(0.816641,0.894506,1.0)\n",
       " RGB{Float64}(0.817154,0.894787,1.0)          RGB{Float64}(0.817917,0.895206,1.0)\n",
       " ⋮                                         ⋱  \n",
       " RGB{Float64}(0.544902,0.608503,0.693046)     RGB{Float64}(0.547552,0.610652,0.694636)\n",
       " RGB{Float64}(0.555296,0.616857,0.699107)     RGB{Float64}(0.538189,0.600449,0.683283)\n",
       " RGB{Float64}(0.55296,0.616002,0.7)        …  RGB{Float64}(0.537591,0.59971,0.682367)\n",
       " RGB{Float64}(0.54731,0.611334,0.69642)       RGB{Float64}(0.55322,0.612996,0.69306)\n",
       " RGB{Float64}(0.544589,0.607821,0.691918)     RGB{Float64}(0.539883,0.602399,0.685566)\n",
       " RGB{Float64}(0.541092,0.605531,0.691014)     RGB{Float64}(0.543555,0.60492,0.686761)\n",
       " RGB{Float64}(0.538074,0.603502,0.690109)     RGB{Float64}(0.540247,0.602646,0.685679)\n",
       " RGB{Float64}(0.543137,0.603012,0.683054)  …  RGB{Float64}(0.545848,0.610958,0.697316)\n",
       " RGB{Float64}(0.533649,0.598744,0.684881)     RGB{Float64}(0.540742,0.60431,0.688749)\n",
       " RGB{Float64}(0.54345,0.604734,0.686477)      RGB{Float64}(0.532514,0.596908,0.682195)\n",
       " RGB{Float64}(0.536675,0.595243,0.673613)     RGB{Float64}(0.546598,0.609825,0.693947)\n",
       " RGB{Float64}(0.549512,0.610269,0.691466)     RGB{Float64}(0.55419,0.618285,0.703562)"
      ]
     },
     "execution_count": 50,
     "metadata": {},
     "output_type": "execute_result"
    }
   ],
   "source": [
    "render()"
   ]
  },
  {
   "cell_type": "markdown",
   "metadata": {},
   "source": [
    "# 9. Metal"
   ]
  },
  {
   "cell_type": "code",
   "execution_count": 51,
   "metadata": {},
   "outputs": [],
   "source": [
    "abstract type Material end"
   ]
  },
  {
   "cell_type": "code",
   "execution_count": 52,
   "metadata": {},
   "outputs": [
    {
     "name": "stderr",
     "output_type": "stream",
     "text": [
      "WARNING: replacing module HitRecordM.\n"
     ]
    },
    {
     "data": {
      "text/plain": [
       "Main.HitRecordM"
      ]
     },
     "execution_count": 52,
     "metadata": {},
     "output_type": "execute_result"
    }
   ],
   "source": [
    "module HitRecordM\n",
    "mutable struct HitRecord\n",
    "    p\n",
    "    normal\n",
    "    mat\n",
    "    t\n",
    "    front_face\n",
    "    \n",
    "    HitRecord() = new([0, 0, 0], [0, 0, 0], nothing, 0, false)\n",
    "end\n",
    "end"
   ]
  },
  {
   "cell_type": "code",
   "execution_count": 53,
   "metadata": {},
   "outputs": [
    {
     "data": {
      "text/plain": [
       "set_face_normal (generic function with 2 methods)"
      ]
     },
     "execution_count": 53,
     "metadata": {},
     "output_type": "execute_result"
    }
   ],
   "source": [
    "function set_face_normal(rec::HitRecordM.HitRecord, r, outward_normal)\n",
    "    rec.front_face = dot(r.direction, outward_normal) < 0\n",
    "    rec.normal = if rec.front_face\n",
    "        outward_normal \n",
    "    else\n",
    "        -outward_normal\n",
    "    end\n",
    "end"
   ]
  },
  {
   "cell_type": "code",
   "execution_count": 54,
   "metadata": {},
   "outputs": [
    {
     "name": "stderr",
     "output_type": "stream",
     "text": [
      "WARNING: replacing module SphereM.\n"
     ]
    },
    {
     "data": {
      "text/plain": [
       "Main.SphereM"
      ]
     },
     "execution_count": 54,
     "metadata": {},
     "output_type": "execute_result"
    }
   ],
   "source": [
    "module SphereM\n",
    "struct Sphere <: Main.Hittable\n",
    "    center\n",
    "    radius\n",
    "    mat\n",
    "end\n",
    "end"
   ]
  },
  {
   "cell_type": "code",
   "execution_count": 55,
   "metadata": {},
   "outputs": [
    {
     "data": {
      "text/plain": [
       "hit (generic function with 3 methods)"
      ]
     },
     "execution_count": 55,
     "metadata": {},
     "output_type": "execute_result"
    }
   ],
   "source": [
    "function hit(sphere::SphereM.Sphere, r, t_min, t_max, rec)\n",
    "    oc = r.origin - sphere.center\n",
    "    a = norm(r.direction)^2\n",
    "    half_b = dot(oc, r.direction)\n",
    "    c = norm(oc)^2 - sphere.radius * sphere.radius\n",
    "    discriminant = half_b * half_b - a * c\n",
    "    \n",
    "    if discriminant > 0\n",
    "        root = sqrt(discriminant)\n",
    "        temp = (-half_b - root) / a\n",
    "        if t_min < temp < t_max \n",
    "            rec.t = temp\n",
    "            rec.p = at(r, rec.t)\n",
    "            outward_normal = (rec.p - sphere.center) / sphere.radius\n",
    "            set_face_normal(rec, r, outward_normal)\n",
    "            rec.mat = sphere.mat\n",
    "            return true\n",
    "        end\n",
    "        temp = (-half_b + root) / a\n",
    "        if t_min < temp < t_max\n",
    "            rec.t = temp\n",
    "            rec.p = at(r, rec.t)\n",
    "            outward_normal = (rec.p - sphere.center) / sphere.radius\n",
    "            set_face_normal(rec, r, outward_normal)\n",
    "            rec.mat = sphere.mat\n",
    "            return true\n",
    "        end\n",
    "    end\n",
    "    false\n",
    "end"
   ]
  },
  {
   "cell_type": "code",
   "execution_count": 56,
   "metadata": {},
   "outputs": [
    {
     "data": {
      "text/plain": [
       "Main.LambertianM"
      ]
     },
     "execution_count": 56,
     "metadata": {},
     "output_type": "execute_result"
    }
   ],
   "source": [
    "module LambertianM\n",
    "struct Lambertian <: Main.Material\n",
    "    albedo\n",
    "end\n",
    "end"
   ]
  },
  {
   "cell_type": "code",
   "execution_count": 57,
   "metadata": {},
   "outputs": [
    {
     "data": {
      "text/plain": [
       "scatter (generic function with 1 method)"
      ]
     },
     "execution_count": 57,
     "metadata": {},
     "output_type": "execute_result"
    }
   ],
   "source": [
    "function scatter(lambertian::LambertianM.Lambertian, r_in, rec)\n",
    "    scatter_direction = rec.normal + random_unit_vector()\n",
    "    scattered = RayM.Ray(rec.p, scatter_direction)\n",
    "    attenuation = lambertian.albedo\n",
    "    true, attenuation, scattered\n",
    "end"
   ]
  },
  {
   "cell_type": "code",
   "execution_count": 58,
   "metadata": {},
   "outputs": [
    {
     "data": {
      "text/plain": [
       "reflect (generic function with 1 method)"
      ]
     },
     "execution_count": 58,
     "metadata": {},
     "output_type": "execute_result"
    }
   ],
   "source": [
    "reflect(v, n) = v - 2 * dot(v, n) * n"
   ]
  },
  {
   "cell_type": "code",
   "execution_count": 59,
   "metadata": {},
   "outputs": [
    {
     "data": {
      "text/plain": [
       "Main.MetalM"
      ]
     },
     "execution_count": 59,
     "metadata": {},
     "output_type": "execute_result"
    }
   ],
   "source": [
    "module MetalM\n",
    "struct Metal <: Main.Material\n",
    "    albedo\n",
    "end\n",
    "end"
   ]
  },
  {
   "cell_type": "code",
   "execution_count": 60,
   "metadata": {},
   "outputs": [
    {
     "data": {
      "text/plain": [
       "scatter (generic function with 2 methods)"
      ]
     },
     "execution_count": 60,
     "metadata": {},
     "output_type": "execute_result"
    }
   ],
   "source": [
    "function scatter(metal::MetalM.Metal, r_in, rec)\n",
    "    reflected = reflect(normalize(r_in.direction), rec.normal)\n",
    "    scattered = RayM.Ray(rec.p, reflected)\n",
    "    attenuation = metal.albedo\n",
    "    dot(scattered.direction, rec.normal) > 0, attenuation, scattered\n",
    "end"
   ]
  },
  {
   "cell_type": "code",
   "execution_count": 61,
   "metadata": {},
   "outputs": [
    {
     "data": {
      "text/plain": [
       "hit (generic function with 3 methods)"
      ]
     },
     "execution_count": 61,
     "metadata": {},
     "output_type": "execute_result"
    }
   ],
   "source": [
    "function hit(hittable_list::HittableListM.HittableList, r, t_min, t_max, rec)\n",
    "    temp_rec = HitRecordM.HitRecord()\n",
    "    hit_anything = false\n",
    "    closest_so_far = t_max\n",
    "    \n",
    "    for object in hittable_list.objects\n",
    "        if hit(object, r, t_min, closest_so_far, temp_rec)\n",
    "            hit_anything = true\n",
    "            closest_so_far = temp_rec.t\n",
    "            rec.p = temp_rec.p\n",
    "            rec.normal = temp_rec.normal\n",
    "            rec.t = temp_rec.t\n",
    "            rec.front_face = temp_rec.front_face\n",
    "            rec.mat = temp_rec.mat\n",
    "        end\n",
    "    end\n",
    "    \n",
    "    hit_anything\n",
    "end"
   ]
  },
  {
   "cell_type": "code",
   "execution_count": 62,
   "metadata": {},
   "outputs": [
    {
     "data": {
      "text/plain": [
       "color (generic function with 4 methods)"
      ]
     },
     "execution_count": 62,
     "metadata": {},
     "output_type": "execute_result"
    }
   ],
   "source": [
    "function color(r::RayM.Ray, world::Hittable, depth)\n",
    "    rec = HitRecordM.HitRecord()\n",
    "    \n",
    "    if depth <= 0\n",
    "        return [0, 0, 0]\n",
    "    end\n",
    "    \n",
    "    if hit(world, r, 0.001, Inf, rec)\n",
    "        result, attenuation, scattered = scatter(rec.mat, r, rec)\n",
    "        if result \n",
    "            return attenuation .* color(scattered, world, depth - 1)\n",
    "        end\n",
    "        return [0, 0, 0]\n",
    "    end\n",
    "    unit_direction = normalize(r.direction)\n",
    "    t = 0.5 * (y(unit_direction) + 1)\n",
    "    (1 - t) * [1, 1, 1] + t * [0.5, 0.7, 1]\n",
    "end"
   ]
  },
  {
   "cell_type": "code",
   "execution_count": 63,
   "metadata": {},
   "outputs": [
    {
     "data": {
      "text/plain": [
       "Main.HittableListM.HittableList(Main.SphereM.Sphere[Main.SphereM.Sphere([0, 0, -1], 0.5, Main.LambertianM.Lambertian([0.7, 0.3, 0.3])), Main.SphereM.Sphere([0.0, -100.5, -1.0], 100, Main.LambertianM.Lambertian([0.8, 0.8, 0.0])), Main.SphereM.Sphere([1, 0, -1], 0.5, Main.MetalM.Metal([0.8, 0.6, 0.2])), Main.SphereM.Sphere([-1, 0, -1], 0.5, Main.MetalM.Metal([0.8, 0.8, 0.8]))])"
      ]
     },
     "execution_count": 63,
     "metadata": {},
     "output_type": "execute_result"
    }
   ],
   "source": [
    "world = HittableListM.HittableList([\n",
    "        SphereM.Sphere([0, 0, -1], 0.5, LambertianM.Lambertian([0.7, 0.3, 0.3])),\n",
    "        SphereM.Sphere([0, -100.5, -1], 100, LambertianM.Lambertian([0.8, 0.8, 0])),\n",
    "        SphereM.Sphere([1, 0, -1], 0.5, MetalM.Metal([0.8, 0.6, 0.2])),\n",
    "        SphereM.Sphere([-1, 0, -1], 0.5, MetalM.Metal([0.8, 0.8, 0.8]))\n",
    "        ])"
   ]
  },
  {
   "cell_type": "code",
   "execution_count": 64,
   "metadata": {},
   "outputs": [
    {
     "name": "stderr",
     "output_type": "stream",
     "text": [
      "\u001b[32mProgress: 100%|█████████████████████████████████████████| Time: 0:00:18\u001b[39m\n"
     ]
    },
    {
     "data": {
      "image/png": "[encoded data removed]",
      "text/plain": [
       "100×200 Array{RGB{Float64},2} with eltype RGB{Float64}:\n",
       " RGB{Float64}(0.803794,0.887497,1.0)  …  RGB{Float64}(0.804657,0.887966,1.0)\n",
       " RGB{Float64}(0.80481,0.888049,1.0)      RGB{Float64}(0.805707,0.888537,1.0)\n",
       " RGB{Float64}(0.805904,0.888644,1.0)     RGB{Float64}(0.806713,0.889085,1.0)\n",
       " RGB{Float64}(0.807008,0.889245,1.0)     RGB{Float64}(0.807797,0.889675,1.0)\n",
       " RGB{Float64}(0.808033,0.889804,1.0)     RGB{Float64}(0.808891,0.890271,1.0)\n",
       " RGB{Float64}(0.809192,0.890435,1.0)  …  RGB{Float64}(0.810007,0.89088,1.0)\n",
       " RGB{Float64}(0.81033,0.891056,1.0)      RGB{Float64}(0.811072,0.891461,1.0)\n",
       " RGB{Float64}(0.811415,0.891648,1.0)     RGB{Float64}(0.81219,0.892071,1.0)\n",
       " RGB{Float64}(0.812557,0.892272,1.0)     RGB{Float64}(0.813333,0.892696,1.0)\n",
       " RGB{Float64}(0.813653,0.892871,1.0)     RGB{Float64}(0.814395,0.893277,1.0)\n",
       " RGB{Float64}(0.814847,0.893524,1.0)  …  RGB{Float64}(0.815568,0.893919,1.0)\n",
       " RGB{Float64}(0.81593,0.894117,1.0)      RGB{Float64}(0.816727,0.894553,1.0)\n",
       " RGB{Float64}(0.817151,0.894786,1.0)     RGB{Float64}(0.817882,0.895186,1.0)\n",
       " ⋮                                    ⋱  \n",
       " RGB{Float64}(0.657253,0.741246,0.0)     RGB{Float64}(0.643093,0.69697,0.0)\n",
       " RGB{Float64}(0.650629,0.7305,0.0)       RGB{Float64}(0.646336,0.699795,0.0)\n",
       " RGB{Float64}(0.645414,0.722778,0.0)  …  RGB{Float64}(0.653039,0.694288,0.0)\n",
       " RGB{Float64}(0.639892,0.718784,0.0)     RGB{Float64}(0.653415,0.701304,0.0)\n",
       " RGB{Float64}(0.63993,0.715025,0.0)      RGB{Float64}(0.639947,0.684767,0.0)\n",
       " RGB{Float64}(0.62538,0.695932,0.0)      RGB{Float64}(0.640894,0.678149,0.0)\n",
       " RGB{Float64}(0.635207,0.709422,0.0)     RGB{Float64}(0.65227,0.704324,0.0)\n",
       " RGB{Float64}(0.642246,0.708824,0.0)  …  RGB{Float64}(0.648888,0.693224,0.0)\n",
       " RGB{Float64}(0.632402,0.705183,0.0)     RGB{Float64}(0.643506,0.68119,0.0)\n",
       " RGB{Float64}(0.635504,0.7138,0.0)       RGB{Float64}(0.636957,0.678548,0.0)\n",
       " RGB{Float64}(0.646222,0.715339,0.0)     RGB{Float64}(0.636061,0.67821,0.0)\n",
       " RGB{Float64}(0.630413,0.70055,0.0)      RGB{Float64}(0.635741,0.672199,0.0)"
      ]
     },
     "execution_count": 64,
     "metadata": {},
     "output_type": "execute_result"
    }
   ],
   "source": [
    "render()"
   ]
  },
  {
   "cell_type": "code",
   "execution_count": 65,
   "metadata": {},
   "outputs": [
    {
     "name": "stderr",
     "output_type": "stream",
     "text": [
      "WARNING: replacing module MetalM.\n"
     ]
    },
    {
     "data": {
      "text/plain": [
       "Main.MetalM"
      ]
     },
     "execution_count": 65,
     "metadata": {},
     "output_type": "execute_result"
    }
   ],
   "source": [
    "module MetalM\n",
    "struct Metal <: Main.Material\n",
    "    albedo\n",
    "    fuzz\n",
    "    \n",
    "    Metal(albedo, fuzz) = new(albedo, fuzz < 1 ? fuzz : 1)\n",
    "end\n",
    "end"
   ]
  },
  {
   "cell_type": "code",
   "execution_count": 66,
   "metadata": {},
   "outputs": [
    {
     "data": {
      "text/plain": [
       "scatter (generic function with 3 methods)"
      ]
     },
     "execution_count": 66,
     "metadata": {},
     "output_type": "execute_result"
    }
   ],
   "source": [
    "function scatter(metal::MetalM.Metal, r_in, rec)\n",
    "    reflected = reflect(normalize(r_in.direction), rec.normal)\n",
    "    scattered = RayM.Ray(rec.p, reflected + metal.fuzz * random_in_unit_sphere())\n",
    "    attenuation = metal.albedo\n",
    "    dot(scattered.direction, rec.normal) > 0, attenuation, scattered\n",
    "end"
   ]
  },
  {
   "cell_type": "code",
   "execution_count": 67,
   "metadata": {},
   "outputs": [
    {
     "data": {
      "text/plain": [
       "Main.HittableListM.HittableList(Main.SphereM.Sphere[Main.SphereM.Sphere([0, 0, -1], 0.5, Main.LambertianM.Lambertian([0.7, 0.3, 0.3])), Main.SphereM.Sphere([0.0, -100.5, -1.0], 100, Main.LambertianM.Lambertian([0.8, 0.8, 0.0])), Main.SphereM.Sphere([1, 0, -1], 0.5, Main.MetalM.Metal([0.8, 0.6, 0.2], 0.3)), Main.SphereM.Sphere([-1, 0, -1], 0.5, Main.MetalM.Metal([0.8, 0.8, 0.8], 1))])"
      ]
     },
     "execution_count": 67,
     "metadata": {},
     "output_type": "execute_result"
    }
   ],
   "source": [
    "world = HittableListM.HittableList([\n",
    "        SphereM.Sphere([0, 0, -1], 0.5, LambertianM.Lambertian([0.7, 0.3, 0.3])),\n",
    "        SphereM.Sphere([0, -100.5, -1], 100, LambertianM.Lambertian([0.8, 0.8, 0])),\n",
    "        SphereM.Sphere([1, 0, -1], 0.5, MetalM.Metal([0.8, 0.6, 0.2], 0.3)),\n",
    "        SphereM.Sphere([-1, 0, -1], 0.5, MetalM.Metal([0.8, 0.8, 0.8], 1))\n",
    "        ])"
   ]
  },
  {
   "cell_type": "code",
   "execution_count": 68,
   "metadata": {},
   "outputs": [
    {
     "name": "stderr",
     "output_type": "stream",
     "text": [
      "\u001b[32mProgress: 100%|█████████████████████████████████████████| Time: 0:00:19\u001b[39m\n"
     ]
    },
    {
     "data": {
      "image/png": "[encoded data removed]",
      "text/plain": [
       "100×200 Array{RGB{Float64},2} with eltype RGB{Float64}:\n",
       " RGB{Float64}(0.803805,0.887503,1.0)  …  RGB{Float64}(0.804645,0.88796,1.0)\n",
       " RGB{Float64}(0.804897,0.888096,1.0)     RGB{Float64}(0.805662,0.888513,1.0)\n",
       " RGB{Float64}(0.805899,0.888642,1.0)     RGB{Float64}(0.806745,0.889102,1.0)\n",
       " RGB{Float64}(0.807041,0.889263,1.0)     RGB{Float64}(0.807716,0.889631,1.0)\n",
       " RGB{Float64}(0.808102,0.889841,1.0)     RGB{Float64}(0.808914,0.890284,1.0)\n",
       " RGB{Float64}(0.809195,0.890437,1.0)  …  RGB{Float64}(0.81,0.890876,1.0)\n",
       " RGB{Float64}(0.810339,0.891061,1.0)     RGB{Float64}(0.811084,0.891468,1.0)\n",
       " RGB{Float64}(0.811426,0.891654,1.0)     RGB{Float64}(0.812202,0.892078,1.0)\n",
       " RGB{Float64}(0.812577,0.892283,1.0)     RGB{Float64}(0.813294,0.892675,1.0)\n",
       " RGB{Float64}(0.813707,0.892901,1.0)     RGB{Float64}(0.814482,0.893324,1.0)\n",
       " RGB{Float64}(0.814779,0.893487,1.0)  …  RGB{Float64}(0.815572,0.893921,1.0)\n",
       " RGB{Float64}(0.816049,0.894182,1.0)     RGB{Float64}(0.816698,0.894537,1.0)\n",
       " RGB{Float64}(0.817201,0.894813,1.0)     RGB{Float64}(0.81784,0.895163,1.0)\n",
       " ⋮                                    ⋱  \n",
       " RGB{Float64}(0.649177,0.729843,0.0)     RGB{Float64}(0.648857,0.691261,0.0)\n",
       " RGB{Float64}(0.62013,0.695772,0.0)      RGB{Float64}(0.654048,0.697703,0.0)\n",
       " RGB{Float64}(0.63345,0.706496,0.0)   …  RGB{Float64}(0.646219,0.692675,0.0)\n",
       " RGB{Float64}(0.640496,0.715157,0.0)     RGB{Float64}(0.650691,0.69956,0.0)\n",
       " RGB{Float64}(0.615032,0.683045,0.0)     RGB{Float64}(0.635319,0.678341,0.0)\n",
       " RGB{Float64}(0.63375,0.709001,0.0)      RGB{Float64}(0.64707,0.689304,0.0)\n",
       " RGB{Float64}(0.615577,0.683954,0.0)     RGB{Float64}(0.636003,0.67164,0.0)\n",
       " RGB{Float64}(0.620866,0.699317,0.0)  …  RGB{Float64}(0.636558,0.671505,0.0)\n",
       " RGB{Float64}(0.636295,0.711779,0.0)     RGB{Float64}(0.63348,0.676544,0.0)\n",
       " RGB{Float64}(0.62535,0.697759,0.0)      RGB{Float64}(0.642303,0.686233,0.0)\n",
       " RGB{Float64}(0.619317,0.699193,0.0)     RGB{Float64}(0.631485,0.677172,0.0)\n",
       " RGB{Float64}(0.62567,0.700159,0.0)      RGB{Float64}(0.636868,0.682226,0.0)"
      ]
     },
     "execution_count": 68,
     "metadata": {},
     "output_type": "execute_result"
    }
   ],
   "source": [
    "render()"
   ]
  },
  {
   "cell_type": "markdown",
   "metadata": {},
   "source": [
    "# 10. Dielectrics"
   ]
  },
  {
   "cell_type": "code",
   "execution_count": 69,
   "metadata": {},
   "outputs": [
    {
     "data": {
      "text/plain": [
       "refract (generic function with 1 method)"
      ]
     },
     "execution_count": 69,
     "metadata": {},
     "output_type": "execute_result"
    }
   ],
   "source": [
    "function refract(uv, n, etai_over_etat)\n",
    "    cos_theta = dot(-uv, n)\n",
    "    r_out_parallel = etai_over_etat * (uv + cos_theta * n)\n",
    "    r_out_perp = -sqrt(1 - norm(r_out_parallel)^2) * n\n",
    "    r_out_parallel + r_out_perp\n",
    "end"
   ]
  },
  {
   "cell_type": "code",
   "execution_count": 70,
   "metadata": {},
   "outputs": [
    {
     "data": {
      "text/plain": [
       "Main.DielectricM"
      ]
     },
     "execution_count": 70,
     "metadata": {},
     "output_type": "execute_result"
    }
   ],
   "source": [
    "module DielectricM\n",
    "struct Dielectric <: Main.Material\n",
    "    ref_idx\n",
    "end\n",
    "end"
   ]
  },
  {
   "cell_type": "code",
   "execution_count": 71,
   "metadata": {},
   "outputs": [
    {
     "data": {
      "text/plain": [
       "scatter (generic function with 4 methods)"
      ]
     },
     "execution_count": 71,
     "metadata": {},
     "output_type": "execute_result"
    }
   ],
   "source": [
    "function scatter(dielectric::DielectricM.Dielectric, r_in, rec)\n",
    "    attenuation = [1, 1, 1]\n",
    "    etai_over_etat = if rec.front_face\n",
    "        1 / dielectric.ref_idx\n",
    "    else\n",
    "        dielectric.ref_idx\n",
    "    end\n",
    "    unit_direction = normalize(r_in.direction)\n",
    "    \n",
    "    cos_theta = min(dot(-unit_direction, rec.normal), 1)\n",
    "    sin_theta = sqrt(1 - cos_theta * cos_theta)\n",
    "    \n",
    "    if etai_over_etat * sin_theta > 1 \n",
    "        reflected = reflect(unit_direction, rec.normal)\n",
    "        scattered = RayM.Ray(rec.p, reflected)\n",
    "        return true, attenuation, scattered\n",
    "    end\n",
    "    \n",
    "    refracted = refract(unit_direction, rec.normal, etai_over_etat)\n",
    "    scattered = RayM.Ray(rec.p, refracted)\n",
    "    true, attenuation, scattered\n",
    "end"
   ]
  },
  {
   "cell_type": "code",
   "execution_count": 72,
   "metadata": {},
   "outputs": [
    {
     "data": {
      "text/plain": [
       "Main.HittableListM.HittableList(Main.SphereM.Sphere[Main.SphereM.Sphere([0, 0, -1], 0.5, Main.LambertianM.Lambertian([0.1, 0.2, 0.5])), Main.SphereM.Sphere([0.0, -100.5, -1.0], 100, Main.LambertianM.Lambertian([0.8, 0.8, 0.0])), Main.SphereM.Sphere([1, 0, -1], 0.5, Main.MetalM.Metal([0.8, 0.6, 0.2], 0)), Main.SphereM.Sphere([-1, 0, -1], 0.5, Main.DielectricM.Dielectric(1.5))])"
      ]
     },
     "execution_count": 72,
     "metadata": {},
     "output_type": "execute_result"
    }
   ],
   "source": [
    "world = HittableListM.HittableList([\n",
    "        SphereM.Sphere([0, 0, -1], 0.5, LambertianM.Lambertian([0.1, 0.2, 0.5])),\n",
    "        SphereM.Sphere([0, -100.5, -1], 100, LambertianM.Lambertian([0.8, 0.8, 0])),\n",
    "        SphereM.Sphere([1, 0, -1], 0.5, MetalM.Metal([0.8, 0.6, 0.2], 0)),\n",
    "        SphereM.Sphere([-1, 0, -1], 0.5, DielectricM.Dielectric(1.5))\n",
    "        ])"
   ]
  },
  {
   "cell_type": "code",
   "execution_count": 73,
   "metadata": {},
   "outputs": [
    {
     "name": "stderr",
     "output_type": "stream",
     "text": [
      "\u001b[32mProgress: 100%|█████████████████████████████████████████| Time: 0:00:19\u001b[39m\n"
     ]
    },
    {
     "data": {
      "image/png": "[encoded data removed]",
      "text/plain": [
       "100×200 Array{RGB{Float64},2} with eltype RGB{Float64}:\n",
       " RGB{Float64}(0.803754,0.887475,1.0)  …  RGB{Float64}(0.804625,0.887948,1.0)\n",
       " RGB{Float64}(0.804825,0.888057,1.0)     RGB{Float64}(0.805709,0.888538,1.0)\n",
       " RGB{Float64}(0.805867,0.888624,1.0)     RGB{Float64}(0.806699,0.889077,1.0)\n",
       " RGB{Float64}(0.807046,0.889266,1.0)     RGB{Float64}(0.807837,0.889697,1.0)\n",
       " RGB{Float64}(0.808148,0.889866,1.0)     RGB{Float64}(0.808863,0.890256,1.0)\n",
       " RGB{Float64}(0.809201,0.89044,1.0)   …  RGB{Float64}(0.810001,0.890876,1.0)\n",
       " RGB{Float64}(0.810321,0.891051,1.0)     RGB{Float64}(0.811119,0.891486,1.0)\n",
       " RGB{Float64}(0.811421,0.891652,1.0)     RGB{Float64}(0.812179,0.892065,1.0)\n",
       " RGB{Float64}(0.812577,0.892283,1.0)     RGB{Float64}(0.813355,0.892708,1.0)\n",
       " RGB{Float64}(0.813719,0.892907,1.0)     RGB{Float64}(0.814435,0.893298,1.0)\n",
       " RGB{Float64}(0.814772,0.893483,1.0)  …  RGB{Float64}(0.81559,0.893931,1.0)\n",
       " RGB{Float64}(0.815961,0.894134,1.0)     RGB{Float64}(0.816728,0.894554,1.0)\n",
       " RGB{Float64}(0.817222,0.894824,1.0)     RGB{Float64}(0.817918,0.895206,1.0)\n",
       " ⋮                                    ⋱  \n",
       " RGB{Float64}(0.687014,0.775288,0.0)     RGB{Float64}(0.635444,0.686501,0.0)\n",
       " RGB{Float64}(0.679163,0.769317,0.0)     RGB{Float64}(0.650827,0.707428,0.0)\n",
       " RGB{Float64}(0.679934,0.771469,0.0)  …  RGB{Float64}(0.644786,0.692002,0.0)\n",
       " RGB{Float64}(0.680184,0.769537,0.0)     RGB{Float64}(0.648621,0.687529,0.0)\n",
       " RGB{Float64}(0.666739,0.75826,0.0)      RGB{Float64}(0.645649,0.691643,0.0)\n",
       " RGB{Float64}(0.68287,0.772876,0.0)      RGB{Float64}(0.639319,0.687782,0.0)\n",
       " RGB{Float64}(0.678236,0.770547,0.0)     RGB{Float64}(0.624373,0.668323,0.0)\n",
       " RGB{Float64}(0.683083,0.772506,0.0)  …  RGB{Float64}(0.640354,0.68994,0.0)\n",
       " RGB{Float64}(0.671823,0.764303,0.0)     RGB{Float64}(0.633976,0.684264,0.0)\n",
       " RGB{Float64}(0.66558,0.755971,0.0)      RGB{Float64}(0.657129,0.709118,0.0)\n",
       " RGB{Float64}(0.676149,0.767986,0.0)     RGB{Float64}(0.643392,0.694341,0.0)\n",
       " RGB{Float64}(0.680404,0.770098,0.0)     RGB{Float64}(0.637501,0.684531,0.0)"
      ]
     },
     "execution_count": 73,
     "metadata": {},
     "output_type": "execute_result"
    }
   ],
   "source": [
    "render()"
   ]
  },
  {
   "cell_type": "code",
   "execution_count": 74,
   "metadata": {},
   "outputs": [
    {
     "data": {
      "text/plain": [
       "schlick (generic function with 1 method)"
      ]
     },
     "execution_count": 74,
     "metadata": {},
     "output_type": "execute_result"
    }
   ],
   "source": [
    "function schlick(cosine, ref_idx)\n",
    "    r0 = (1 - ref_idx) / (1 + ref_idx)\n",
    "    r0 *= r0\n",
    "    r0 + (1 - r0) * (1 - cosine)^5\n",
    "end"
   ]
  },
  {
   "cell_type": "code",
   "execution_count": 75,
   "metadata": {},
   "outputs": [
    {
     "data": {
      "text/plain": [
       "scatter (generic function with 4 methods)"
      ]
     },
     "execution_count": 75,
     "metadata": {},
     "output_type": "execute_result"
    }
   ],
   "source": [
    "function scatter(dielectric::DielectricM.Dielectric, r_in, rec)\n",
    "    attenuation = [1, 1, 1]\n",
    "    etai_over_etat = if rec.front_face\n",
    "        1 / dielectric.ref_idx\n",
    "    else\n",
    "        dielectric.ref_idx\n",
    "    end\n",
    "    unit_direction = normalize(r_in.direction)\n",
    "    \n",
    "    cos_theta = min(dot(-unit_direction, rec.normal), 1)\n",
    "    sin_theta = sqrt(1 - cos_theta * cos_theta)\n",
    "    \n",
    "    if etai_over_etat * sin_theta > 1 \n",
    "        reflected = reflect(unit_direction, rec.normal)\n",
    "        scattered = RayM.Ray(rec.p, reflected)\n",
    "        return true, attenuation, scattered\n",
    "    end\n",
    "    \n",
    "    reflect_prob = schlick(cos_theta, etai_over_etat)\n",
    "    if rand() < reflect_prob\n",
    "        reflected = reflect(unit_direction, rec.normal)\n",
    "        scattered = RayM.Ray(rec.p, reflected)\n",
    "        return true, attenuation, scattered\n",
    "    end\n",
    "    \n",
    "    refracted = refract(unit_direction, rec.normal, etai_over_etat)\n",
    "    scattered = RayM.Ray(rec.p, refracted)\n",
    "    true, attenuation, scattered\n",
    "end"
   ]
  },
  {
   "cell_type": "code",
   "execution_count": 76,
   "metadata": {},
   "outputs": [
    {
     "data": {
      "text/plain": [
       "Main.HittableListM.HittableList(Main.SphereM.Sphere[Main.SphereM.Sphere([0, 0, -1], 0.5, Main.LambertianM.Lambertian([0.1, 0.2, 0.5])), Main.SphereM.Sphere([0.0, -100.5, -1.0], 100, Main.LambertianM.Lambertian([0.8, 0.8, 0.0])), Main.SphereM.Sphere([1, 0, -1], 0.5, Main.MetalM.Metal([0.8, 0.6, 0.2], 0.3)), Main.SphereM.Sphere([-1, 0, -1], 0.5, Main.DielectricM.Dielectric(1.5)), Main.SphereM.Sphere([-1, 0, -1], -0.45, Main.DielectricM.Dielectric(1.5))])"
      ]
     },
     "execution_count": 76,
     "metadata": {},
     "output_type": "execute_result"
    }
   ],
   "source": [
    "world = HittableListM.HittableList([\n",
    "        SphereM.Sphere([0, 0, -1], 0.5, LambertianM.Lambertian([0.1, 0.2, 0.5])),\n",
    "        SphereM.Sphere([0, -100.5, -1], 100, LambertianM.Lambertian([0.8, 0.8, 0])),\n",
    "        SphereM.Sphere([1, 0, -1], 0.5, MetalM.Metal([0.8, 0.6, 0.2], 0.3)),\n",
    "        SphereM.Sphere([-1, 0, -1], 0.5, DielectricM.Dielectric(1.5)),\n",
    "        SphereM.Sphere([-1, 0, -1], -0.45, DielectricM.Dielectric(1.5))\n",
    "        ])"
   ]
  },
  {
   "cell_type": "code",
   "execution_count": 77,
   "metadata": {},
   "outputs": [
    {
     "name": "stderr",
     "output_type": "stream",
     "text": [
      "\u001b[32mProgress: 100%|█████████████████████████████████████████| Time: 0:00:25\u001b[39m\n"
     ]
    },
    {
     "data": {
      "image/png": "[encoded data removed]",
      "text/plain": [
       "100×200 Array{RGB{Float64},2} with eltype RGB{Float64}:\n",
       " RGB{Float64}(0.803823,0.887513,1.0)  …  RGB{Float64}(0.804634,0.887954,1.0)\n",
       " RGB{Float64}(0.804847,0.88807,1.0)      RGB{Float64}(0.805699,0.888533,1.0)\n",
       " RGB{Float64}(0.805923,0.888655,1.0)     RGB{Float64}(0.806718,0.889087,1.0)\n",
       " RGB{Float64}(0.80702,0.889252,1.0)      RGB{Float64}(0.807818,0.889686,1.0)\n",
       " RGB{Float64}(0.808106,0.889843,1.0)     RGB{Float64}(0.808886,0.890269,1.0)\n",
       " RGB{Float64}(0.809184,0.890431,1.0)  …  RGB{Float64}(0.809994,0.890873,1.0)\n",
       " RGB{Float64}(0.81029,0.891034,1.0)      RGB{Float64}(0.811079,0.891465,1.0)\n",
       " RGB{Float64}(0.811444,0.891664,1.0)     RGB{Float64}(0.812183,0.892068,1.0)\n",
       " RGB{Float64}(0.812571,0.89228,1.0)      RGB{Float64}(0.813312,0.892685,1.0)\n",
       " RGB{Float64}(0.813733,0.892915,1.0)     RGB{Float64}(0.814453,0.893309,1.0)\n",
       " RGB{Float64}(0.814796,0.893496,1.0)  …  RGB{Float64}(0.815534,0.8939,1.0)\n",
       " RGB{Float64}(0.816022,0.894168,1.0)     RGB{Float64}(0.816684,0.89453,1.0)\n",
       " RGB{Float64}(0.817014,0.894711,1.0)     RGB{Float64}(0.817875,0.895182,1.0)\n",
       " ⋮                                    ⋱  \n",
       " RGB{Float64}(0.687868,0.775047,0.0)     RGB{Float64}(0.660587,0.722268,0.0)\n",
       " RGB{Float64}(0.68106,0.770255,0.0)      RGB{Float64}(0.656757,0.709533,0.0)\n",
       " RGB{Float64}(0.669473,0.759476,0.0)  …  RGB{Float64}(0.631198,0.678176,0.0)\n",
       " RGB{Float64}(0.679287,0.767947,0.0)     RGB{Float64}(0.64222,0.694511,0.0)\n",
       " RGB{Float64}(0.671623,0.760923,0.0)     RGB{Float64}(0.643603,0.693885,0.0)\n",
       " RGB{Float64}(0.667664,0.757742,0.0)     RGB{Float64}(0.627424,0.665855,0.0)\n",
       " RGB{Float64}(0.665685,0.753867,0.0)     RGB{Float64}(0.619526,0.651264,0.0)\n",
       " RGB{Float64}(0.65701,0.751446,0.0)   …  RGB{Float64}(0.639853,0.685198,0.0)\n",
       " RGB{Float64}(0.653775,0.743243,0.0)     RGB{Float64}(0.633934,0.682404,0.0)\n",
       " RGB{Float64}(0.655833,0.745267,0.0)     RGB{Float64}(0.628253,0.679968,0.0)\n",
       " RGB{Float64}(0.662082,0.748044,0.0)     RGB{Float64}(0.618103,0.663007,0.0)\n",
       " RGB{Float64}(0.66936,0.755732,0.0)      RGB{Float64}(0.623339,0.675887,0.0)"
      ]
     },
     "execution_count": 77,
     "metadata": {},
     "output_type": "execute_result"
    }
   ],
   "source": [
    "render()"
   ]
  },
  {
   "cell_type": "markdown",
   "metadata": {},
   "source": [
    "# 11. Positionable Camera"
   ]
  },
  {
   "cell_type": "code",
   "execution_count": 78,
   "metadata": {},
   "outputs": [
    {
     "name": "stderr",
     "output_type": "stream",
     "text": [
      "WARNING: replacing module CameraM.\n"
     ]
    },
    {
     "data": {
      "text/plain": [
       "Main.CameraM"
      ]
     },
     "execution_count": 78,
     "metadata": {},
     "output_type": "execute_result"
    }
   ],
   "source": [
    "module CameraM\n",
    "struct Camera\n",
    "    origin\n",
    "    lower_left_corner\n",
    "    horizontal\n",
    "    vertical\n",
    "    \n",
    "    function Camera(vfov, aspect) \n",
    "        origin = [0, 0, 0]\n",
    "        \n",
    "        theta = deg2rad(vfov)\n",
    "        half_height = tan(theta / 2)\n",
    "        half_width = aspect * half_height\n",
    "        \n",
    "        lower_left_corner = [-half_width, -half_height, -1]\n",
    "        \n",
    "        horizontal = [2 * half_width, 0, 0]\n",
    "        vertical = [0, 2 * half_height, 0]\n",
    "        \n",
    "        new(origin, lower_left_corner, horizontal, vertical)\n",
    "    end\n",
    "end\n",
    "end"
   ]
  },
  {
   "cell_type": "code",
   "execution_count": 79,
   "metadata": {},
   "outputs": [
    {
     "data": {
      "text/plain": [
       "get_ray (generic function with 2 methods)"
      ]
     },
     "execution_count": 79,
     "metadata": {},
     "output_type": "execute_result"
    }
   ],
   "source": [
    "get_ray(camera::CameraM.Camera, u, v) = RayM.Ray(camera.origin, camera.lower_left_corner + u * camera.horizontal + v * camera.vertical - camera.origin)"
   ]
  },
  {
   "cell_type": "code",
   "execution_count": 80,
   "metadata": {},
   "outputs": [
    {
     "data": {
      "text/plain": [
       "Main.CameraM.Camera([0, 0, 0], [-1.9999999999999998, -0.9999999999999999, -1.0], [3.9999999999999996, 0.0, 0.0], [0.0, 1.9999999999999998, 0.0])"
      ]
     },
     "execution_count": 80,
     "metadata": {},
     "output_type": "execute_result"
    }
   ],
   "source": [
    "cam = CameraM.Camera(90, image_width / image_height)"
   ]
  },
  {
   "cell_type": "code",
   "execution_count": 81,
   "metadata": {},
   "outputs": [
    {
     "data": {
      "text/plain": [
       "color (generic function with 4 methods)"
      ]
     },
     "execution_count": 81,
     "metadata": {},
     "output_type": "execute_result"
    }
   ],
   "source": [
    "function color(i, j) \n",
    "    c = [0, 0, 0]\n",
    "    for _ in 1:samples_per_pixel\n",
    "        u = (i + rand()) / image_width\n",
    "        v = (j + rand()) / image_height\n",
    "        r = get_ray(cam, u, v)\n",
    "        c += color(r, world, max_depth)\n",
    "    end\n",
    "    sqrt.(c / samples_per_pixel)\n",
    "end"
   ]
  },
  {
   "cell_type": "code",
   "execution_count": 82,
   "metadata": {},
   "outputs": [
    {
     "data": {
      "text/plain": [
       "0.7071067811865476"
      ]
     },
     "execution_count": 82,
     "metadata": {},
     "output_type": "execute_result"
    }
   ],
   "source": [
    "r = cos(pi / 4)"
   ]
  },
  {
   "cell_type": "code",
   "execution_count": 83,
   "metadata": {},
   "outputs": [
    {
     "data": {
      "text/plain": [
       "Main.HittableListM.HittableList(Main.SphereM.Sphere[Main.SphereM.Sphere([-0.7071067811865476, 0.0, -1.0], 0.7071067811865476, Main.LambertianM.Lambertian([0, 0, 1])), Main.SphereM.Sphere([0.7071067811865476, 0.0, -1.0], 0.7071067811865476, Main.LambertianM.Lambertian([1, 0, 0]))])"
      ]
     },
     "execution_count": 83,
     "metadata": {},
     "output_type": "execute_result"
    }
   ],
   "source": [
    "world = HittableListM.HittableList([\n",
    "        SphereM.Sphere([-r, 0, -1], r, LambertianM.Lambertian([0, 0, 1])),\n",
    "        SphereM.Sphere([r, 0, -1], r, LambertianM.Lambertian([1, 0, 0])),\n",
    "        ])"
   ]
  },
  {
   "cell_type": "code",
   "execution_count": 84,
   "metadata": {},
   "outputs": [
    {
     "name": "stderr",
     "output_type": "stream",
     "text": [
      "\u001b[32mProgress: 100%|█████████████████████████████████████████| Time: 0:00:11\u001b[39m\n"
     ]
    },
    {
     "data": {
      "image/png": "[encoded data removed]",
      "text/plain": [
       "100×200 Array{RGB{Float64},2} with eltype RGB{Float64}:\n",
       " RGB{Float64}(0.803743,0.887469,1.0)  …  RGB{Float64}(0.804655,0.887965,1.0)\n",
       " RGB{Float64}(0.804888,0.888092,1.0)     RGB{Float64}(0.805685,0.888525,1.0)\n",
       " RGB{Float64}(0.805928,0.888657,1.0)     RGB{Float64}(0.806694,0.889074,1.0)\n",
       " RGB{Float64}(0.807006,0.889244,1.0)     RGB{Float64}(0.807797,0.889675,1.0)\n",
       " RGB{Float64}(0.808139,0.889861,1.0)     RGB{Float64}(0.80891,0.890282,1.0)\n",
       " RGB{Float64}(0.161742,0.178035,1.0)  …  RGB{Float64}(0.813237,0.712622,0.8)\n",
       " RGB{Float64}(0.0,0.0,1.0)               RGB{Float64}(0.817729,0.0,0.0)\n",
       " RGB{Float64}(0.0,0.0,1.0)               RGB{Float64}(0.817936,0.0,0.0)\n",
       " RGB{Float64}(0.0,0.0,1.0)               RGB{Float64}(0.829933,0.0,0.0)\n",
       " RGB{Float64}(0.0,0.0,1.0)               RGB{Float64}(0.818372,0.0,0.0)\n",
       " RGB{Float64}(0.0,0.0,1.0)            …  RGB{Float64}(0.82698,0.0,0.0)\n",
       " RGB{Float64}(0.0,0.0,1.0)               RGB{Float64}(0.82469,0.0,0.0)\n",
       " RGB{Float64}(0.0,0.0,1.0)               RGB{Float64}(0.8279,0.0,0.0)\n",
       " ⋮                                    ⋱  \n",
       " RGB{Float64}(0.0,0.0,1.0)               RGB{Float64}(0.905608,0.0,0.0)\n",
       " RGB{Float64}(0.0,0.0,1.0)               RGB{Float64}(0.910733,0.0,0.0)\n",
       " RGB{Float64}(0.0,0.0,1.0)            …  RGB{Float64}(0.904687,0.0,0.0)\n",
       " RGB{Float64}(0.0,0.0,1.0)               RGB{Float64}(0.9082,0.0,0.0)\n",
       " RGB{Float64}(0.0,0.0,1.0)               RGB{Float64}(0.907637,0.0,0.0)\n",
       " RGB{Float64}(0.0,0.0,1.0)               RGB{Float64}(0.911039,0.0,0.0)\n",
       " RGB{Float64}(0.0,0.0,1.0)               RGB{Float64}(0.915798,0.0,0.0)\n",
       " RGB{Float64}(0.0,0.0,1.0)            …  RGB{Float64}(0.900926,0.0,0.0)\n",
       " RGB{Float64}(0.205651,0.213015,1.0)     RGB{Float64}(0.913048,0.767607,0.806226)\n",
       " RGB{Float64}(0.906473,0.938625,1.0)     RGB{Float64}(0.919593,0.95257,1.0)\n",
       " RGB{Float64}(0.92128,0.953548,1.0)      RGB{Float64}(0.920543,0.953121,1.0)\n",
       " RGB{Float64}(0.922214,0.95409,1.0)      RGB{Float64}(0.921469,0.953658,1.0)"
      ]
     },
     "execution_count": 84,
     "metadata": {},
     "output_type": "execute_result"
    }
   ],
   "source": [
    "render()"
   ]
  },
  {
   "cell_type": "code",
   "execution_count": 85,
   "metadata": {},
   "outputs": [
    {
     "name": "stderr",
     "output_type": "stream",
     "text": [
      "WARNING: replacing module CameraM.\n"
     ]
    },
    {
     "data": {
      "text/plain": [
       "Main.CameraM"
      ]
     },
     "execution_count": 85,
     "metadata": {},
     "output_type": "execute_result"
    }
   ],
   "source": [
    "module CameraM\n",
    "using LinearAlgebra\n",
    "struct Camera\n",
    "    origin\n",
    "    lower_left_corner\n",
    "    horizontal\n",
    "    vertical\n",
    "    \n",
    "    function Camera(lookfrom, lookat, vup, vfov, aspect) \n",
    "        origin = lookfrom\n",
    "        \n",
    "        theta = deg2rad(vfov)\n",
    "        half_height = tan(theta / 2)\n",
    "        half_width = aspect * half_height\n",
    "        \n",
    "        w = normalize(lookfrom - lookat)\n",
    "        u = normalize(cross(vup, w))\n",
    "        v = cross(w, u)\n",
    "        \n",
    "        lower_left_corner = origin - half_width * u - half_height * v - w\n",
    "        \n",
    "        horizontal = 2 * half_width * u\n",
    "        vertical = 2 * half_height * v\n",
    "        \n",
    "        new(origin, lower_left_corner, horizontal, vertical)\n",
    "    end\n",
    "end\n",
    "end"
   ]
  },
  {
   "cell_type": "code",
   "execution_count": 86,
   "metadata": {},
   "outputs": [
    {
     "data": {
      "text/plain": [
       "get_ray (generic function with 3 methods)"
      ]
     },
     "execution_count": 86,
     "metadata": {},
     "output_type": "execute_result"
    }
   ],
   "source": [
    "get_ray(camera::CameraM.Camera, u, v) = RayM.Ray(camera.origin, camera.lower_left_corner + u * camera.horizontal + v * camera.vertical - camera.origin)"
   ]
  },
  {
   "cell_type": "code",
   "execution_count": 87,
   "metadata": {},
   "outputs": [
    {
     "data": {
      "text/plain": [
       "2.0"
      ]
     },
     "execution_count": 87,
     "metadata": {},
     "output_type": "execute_result"
    }
   ],
   "source": [
    "aspect_ratio = image_width / image_height"
   ]
  },
  {
   "cell_type": "code",
   "execution_count": 88,
   "metadata": {},
   "outputs": [
    {
     "data": {
      "text/plain": [
       "Main.CameraM.Camera([-2, 2, 1], [-3.2451115836473323, 0.6061531498826481, -0.5833155410988577], [2.82842712474619, -0.0, 2.82842712474619], [0.816496580927726, 1.632993161855452, -0.816496580927726])"
      ]
     },
     "execution_count": 88,
     "metadata": {},
     "output_type": "execute_result"
    }
   ],
   "source": [
    "cam = CameraM.Camera([-2, 2, 1], [0, 0, -1], [0, 1, 0], 90, aspect_ratio)"
   ]
  },
  {
   "cell_type": "code",
   "execution_count": 89,
   "metadata": {},
   "outputs": [
    {
     "data": {
      "text/plain": [
       "color (generic function with 4 methods)"
      ]
     },
     "execution_count": 89,
     "metadata": {},
     "output_type": "execute_result"
    }
   ],
   "source": [
    "function color(i, j) \n",
    "    c = [0, 0, 0]\n",
    "    for _ in 1:samples_per_pixel\n",
    "        u = (i + rand()) / image_width\n",
    "        v = (j + rand()) / image_height\n",
    "        r = get_ray(cam, u, v)\n",
    "        c += color(r, world, max_depth)\n",
    "    end\n",
    "    sqrt.(c / samples_per_pixel)\n",
    "end"
   ]
  },
  {
   "cell_type": "code",
   "execution_count": 90,
   "metadata": {},
   "outputs": [
    {
     "data": {
      "text/plain": [
       "Main.HittableListM.HittableList(Main.SphereM.Sphere[Main.SphereM.Sphere([0, 0, -1], 0.5, Main.LambertianM.Lambertian([0.1, 0.2, 0.5])), Main.SphereM.Sphere([0.0, -100.5, -1.0], 100, Main.LambertianM.Lambertian([0.8, 0.8, 0.0])), Main.SphereM.Sphere([1, 0, -1], 0.5, Main.MetalM.Metal([0.8, 0.6, 0.2], 0.3)), Main.SphereM.Sphere([-1, 0, -1], 0.5, Main.DielectricM.Dielectric(1.5)), Main.SphereM.Sphere([-1, 0, -1], -0.45, Main.DielectricM.Dielectric(1.5))])"
      ]
     },
     "execution_count": 90,
     "metadata": {},
     "output_type": "execute_result"
    }
   ],
   "source": [
    "world = HittableListM.HittableList([\n",
    "        SphereM.Sphere([0, 0, -1], 0.5, LambertianM.Lambertian([0.1, 0.2, 0.5])),\n",
    "        SphereM.Sphere([0, -100.5, -1], 100, LambertianM.Lambertian([0.8, 0.8, 0])),\n",
    "        SphereM.Sphere([1, 0, -1], 0.5, MetalM.Metal([0.8, 0.6, 0.2], 0.3)),\n",
    "        SphereM.Sphere([-1, 0, -1], 0.5, DielectricM.Dielectric(1.5)),\n",
    "        SphereM.Sphere([-1, 0, -1], -0.45, DielectricM.Dielectric(1.5))\n",
    "        ])"
   ]
  },
  {
   "cell_type": "code",
   "execution_count": 91,
   "metadata": {},
   "outputs": [
    {
     "name": "stderr",
     "output_type": "stream",
     "text": [
      "\u001b[32mProgress: 100%|█████████████████████████████████████████| Time: 0:00:14\u001b[39m\n"
     ]
    },
    {
     "data": {
      "image/png": "[encoded data removed]",
      "text/plain": [
       "100×200 Array{RGB{Float64},2} with eltype RGB{Float64}:\n",
       " RGB{Float64}(0.851225,0.913647,1.0)  …  RGB{Float64}(0.8514,0.913744,1.0)\n",
       " RGB{Float64}(0.852153,0.914166,1.0)     RGB{Float64}(0.852295,0.914245,1.0)\n",
       " RGB{Float64}(0.853106,0.914699,1.0)     RGB{Float64}(0.853288,0.914801,1.0)\n",
       " RGB{Float64}(0.854041,0.915222,1.0)     RGB{Float64}(0.854193,0.915307,1.0)\n",
       " RGB{Float64}(0.854978,0.915747,1.0)     RGB{Float64}(0.855183,0.915862,1.0)\n",
       " RGB{Float64}(0.85601,0.916325,1.0)   …  RGB{Float64}(0.856147,0.916402,1.0)\n",
       " RGB{Float64}(0.856909,0.916829,1.0)     RGB{Float64}(0.857044,0.916905,1.0)\n",
       " RGB{Float64}(0.857918,0.917395,1.0)     RGB{Float64}(0.858043,0.917465,1.0)\n",
       " RGB{Float64}(0.858912,0.917953,1.0)     RGB{Float64}(0.858966,0.917983,1.0)\n",
       " RGB{Float64}(0.859933,0.918527,1.0)     RGB{Float64}(0.859972,0.918548,1.0)\n",
       " RGB{Float64}(0.860847,0.91904,1.0)   …  RGB{Float64}(0.860904,0.919072,1.0)\n",
       " RGB{Float64}(0.861934,0.919651,1.0)     RGB{Float64}(0.861907,0.919636,1.0)\n",
       " RGB{Float64}(0.862853,0.920168,1.0)     RGB{Float64}(0.862896,0.920192,1.0)\n",
       " ⋮                                    ⋱  \n",
       " RGB{Float64}(0.68677,0.776526,0.0)      RGB{Float64}(0.679183,0.770912,0.0)\n",
       " RGB{Float64}(0.687675,0.777006,0.0)     RGB{Float64}(0.687031,0.776664,0.0)\n",
       " RGB{Float64}(0.677606,0.77168,0.0)   …  RGB{Float64}(0.680873,0.773403,0.0)\n",
       " RGB{Float64}(0.68024,0.773069,0.0)      RGB{Float64}(0.678733,0.772274,0.0)\n",
       " RGB{Float64}(0.686369,0.776313,0.0)     RGB{Float64}(0.675038,0.767378,0.0)\n",
       " RGB{Float64}(0.683166,0.774616,0.0)     RGB{Float64}(0.684392,0.775265,0.0)\n",
       " RGB{Float64}(0.684385,0.775261,0.0)     RGB{Float64}(0.676676,0.77119,0.0)\n",
       " RGB{Float64}(0.683307,0.77469,0.0)   …  RGB{Float64}(0.679645,0.772755,0.0)\n",
       " RGB{Float64}(0.679158,0.772498,0.0)     RGB{Float64}(0.680342,0.771981,0.0)\n",
       " RGB{Float64}(0.686104,0.774756,0.0)     RGB{Float64}(0.678266,0.770536,0.0)\n",
       " RGB{Float64}(0.67854,0.772172,0.0)      RGB{Float64}(0.67686,0.770082,0.0)\n",
       " RGB{Float64}(0.683451,0.774766,0.0)     RGB{Float64}(0.683277,0.774675,0.0)"
      ]
     },
     "execution_count": 91,
     "metadata": {},
     "output_type": "execute_result"
    }
   ],
   "source": [
    "render()"
   ]
  },
  {
   "cell_type": "code",
   "execution_count": 92,
   "metadata": {},
   "outputs": [
    {
     "data": {
      "text/plain": [
       "Main.CameraM.Camera([-2, 2, 1], [-1.6625813854941125, 1.3151559166596698, 0.29021189027733996], [0.37236949521677276, -0.0, 0.37236949521677276], [0.10749381415070441, 0.21498762830140883, -0.10749381415070441])"
      ]
     },
     "execution_count": 92,
     "metadata": {},
     "output_type": "execute_result"
    }
   ],
   "source": [
    "cam = CameraM.Camera([-2, 2, 1], [0, 0, -1], [0, 1, 0], 15, aspect_ratio)"
   ]
  },
  {
   "cell_type": "code",
   "execution_count": 93,
   "metadata": {},
   "outputs": [
    {
     "name": "stderr",
     "output_type": "stream",
     "text": [
      "\u001b[32mProgress: 100%|█████████████████████████████████████████| Time: 0:00:28\u001b[39m\n"
     ]
    },
    {
     "data": {
      "image/png": "[encoded data removed]",
      "text/plain": [
       "100×200 Array{RGB{Float64},2} with eltype RGB{Float64}:\n",
       " RGB{Float64}(0.672826,0.766376,0.0)       …  RGB{Float64}(0.72709,0.691301,0.447214)\n",
       " RGB{Float64}(0.679637,0.770844,0.0)          RGB{Float64}(0.727118,0.691314,0.447214)\n",
       " RGB{Float64}(0.671156,0.763912,0.0)          RGB{Float64}(0.72552,0.690558,0.447214)\n",
       " RGB{Float64}(0.675623,0.76787,0.0)           RGB{Float64}(0.731929,0.693595,0.447214)\n",
       " RGB{Float64}(0.679149,0.771029,0.0)          RGB{Float64}(0.735539,0.695311,0.447214)\n",
       " RGB{Float64}(0.682094,0.771447,0.0)       …  RGB{Float64}(0.735561,0.695322,0.447214)\n",
       " RGB{Float64}(0.68365,0.770932,0.0)           RGB{Float64}(0.739201,0.697057,0.447214)\n",
       " RGB{Float64}(0.678287,0.768605,0.0)          RGB{Float64}(0.742801,0.698777,0.447214)\n",
       " RGB{Float64}(0.678394,0.765895,0.0)          RGB{Float64}(0.743606,0.699162,0.447214)\n",
       " RGB{Float64}(0.68162,0.772465,0.0)           RGB{Float64}(0.748295,0.70141,0.447214)\n",
       " RGB{Float64}(0.679412,0.772632,0.0)       …  RGB{Float64}(0.748198,0.701363,0.447214)\n",
       " RGB{Float64}(0.675076,0.767731,0.0)          RGB{Float64}(0.754187,0.703903,0.444972)\n",
       " RGB{Float64}(0.672708,0.765597,0.0)          RGB{Float64}(0.758079,0.706121,0.447214)\n",
       " ⋮                                         ⋱  \n",
       " RGB{Float64}(0.657369,0.750644,0.3)          RGB{Float64}(0.63838,0.706666,0.0)\n",
       " RGB{Float64}(0.65291,0.740296,0.316228)      RGB{Float64}(0.640171,0.713323,0.0)\n",
       " RGB{Float64}(0.679029,0.772309,0.412311)  …  RGB{Float64}(0.633245,0.70977,0.0)\n",
       " RGB{Float64}(0.6664,0.75569,0.331662)        RGB{Float64}(0.630731,0.706605,0.0)\n",
       " RGB{Float64}(0.682001,0.774103,0.4)          RGB{Float64}(0.630006,0.711583,0.0)\n",
       " RGB{Float64}(0.680243,0.768622,0.43589)      RGB{Float64}(0.623029,0.694593,0.0)\n",
       " RGB{Float64}(0.656201,0.749646,0.4)          RGB{Float64}(0.65037,0.73086,0.0)\n",
       " RGB{Float64}(0.667561,0.762312,0.374166)  …  RGB{Float64}(0.61988,0.69374,0.0)\n",
       " RGB{Float64}(0.643693,0.736126,0.412311)     RGB{Float64}(0.612933,0.695682,0.0)\n",
       " RGB{Float64}(0.656263,0.746319,0.387298)     RGB{Float64}(0.619576,0.706404,0.0)\n",
       " RGB{Float64}(0.675732,0.768585,0.387298)     RGB{Float64}(0.619763,0.695117,0.0)\n",
       " RGB{Float64}(0.652248,0.743904,0.331662)     RGB{Float64}(0.622609,0.693348,0.0)"
      ]
     },
     "execution_count": 93,
     "metadata": {},
     "output_type": "execute_result"
    }
   ],
   "source": [
    "render()"
   ]
  },
  {
   "cell_type": "markdown",
   "metadata": {},
   "source": [
    "# 12. Defocus Blur"
   ]
  },
  {
   "cell_type": "code",
   "execution_count": 94,
   "metadata": {},
   "outputs": [
    {
     "data": {
      "text/plain": [
       "random_in_unit_disk (generic function with 1 method)"
      ]
     },
     "execution_count": 94,
     "metadata": {},
     "output_type": "execute_result"
    }
   ],
   "source": [
    "function random_in_unit_disk()\n",
    "    while true\n",
    "        p = [rand(-1:eps():1, 3), rand(-1:eps():1, 3), 0]\n",
    "        if norm(p)^2 > 1\n",
    "            continue\n",
    "        end\n",
    "        return p\n",
    "    end\n",
    "end"
   ]
  },
  {
   "cell_type": "code",
   "execution_count": 95,
   "metadata": {},
   "outputs": [
    {
     "name": "stderr",
     "output_type": "stream",
     "text": [
      "WARNING: replacing module CameraM.\n"
     ]
    },
    {
     "data": {
      "text/plain": [
       "Main.CameraM"
      ]
     },
     "execution_count": 95,
     "metadata": {},
     "output_type": "execute_result"
    }
   ],
   "source": [
    "module CameraM\n",
    "using LinearAlgebra\n",
    "struct Camera\n",
    "    origin\n",
    "    lower_left_corner\n",
    "    horizontal\n",
    "    vertical\n",
    "    u\n",
    "    v\n",
    "    w\n",
    "    lens_radius\n",
    "    \n",
    "    function Camera(lookfrom, lookat, vup, vfov, aspect, aperture, focus_dist) \n",
    "        origin = lookfrom\n",
    "        lens_radius = aperture / 2\n",
    "        \n",
    "        theta = deg2rad(vfov)\n",
    "        half_height = tan(theta / 2)\n",
    "        half_width = aspect * half_height\n",
    "        \n",
    "        w = normalize(lookfrom - lookat)\n",
    "        u = normalize(cross(vup, w))\n",
    "        v = cross(w, u)\n",
    "        \n",
    "    \n",
    "        lower_left_corner = origin - half_width * focus_dist * u - half_height * focus_dist * v - focus_dist * w\n",
    "        \n",
    "        horizontal = 2 * half_width * focus_dist * u\n",
    "        vertical = 2 * half_height * focus_dist * v\n",
    "        \n",
    "        new(origin, lower_left_corner, horizontal, vertical, u, v, w, lens_radius)\n",
    "    end\n",
    "end\n",
    "end"
   ]
  },
  {
   "cell_type": "code",
   "execution_count": 96,
   "metadata": {},
   "outputs": [
    {
     "data": {
      "text/plain": [
       "get_ray (generic function with 4 methods)"
      ]
     },
     "execution_count": 96,
     "metadata": {},
     "output_type": "execute_result"
    }
   ],
   "source": [
    "function get_ray(camera::CameraM.Camera, s, t) \n",
    "    rd = camera.lens_radius * random_in_unit_disk()\n",
    "    offset = camera.u .* x(rd) + camera.v .* y(rd)\n",
    "    \n",
    "    RayM.Ray(camera.origin + offset, camera.lower_left_corner + s * camera.horizontal + t * camera.vertical - camera.origin - offset)\n",
    "end"
   ]
  },
  {
   "cell_type": "code",
   "execution_count": 97,
   "metadata": {},
   "outputs": [],
   "source": [
    "lookfrom = [3, 3, 2]\n",
    "lookat = [0, 0, -1]\n",
    "vup = [0, 1, 0];"
   ]
  },
  {
   "cell_type": "code",
   "execution_count": 98,
   "metadata": {},
   "outputs": [
    {
     "data": {
      "text/plain": [
       "5.196152422706632"
      ]
     },
     "execution_count": 98,
     "metadata": {},
     "output_type": "execute_result"
    }
   ],
   "source": [
    "dist_to_focus = norm(lookfrom - lookat)"
   ]
  },
  {
   "cell_type": "code",
   "execution_count": 99,
   "metadata": {},
   "outputs": [
    {
     "data": {
      "text/plain": [
       "2"
      ]
     },
     "execution_count": 99,
     "metadata": {},
     "output_type": "execute_result"
    }
   ],
   "source": [
    "aperture = 2"
   ]
  },
  {
   "cell_type": "code",
   "execution_count": 100,
   "metadata": {},
   "outputs": [
    {
     "data": {
      "text/plain": [
       "Main.CameraM.Camera([3, 3, 2], [-0.9216873805686214, -0.7480920225906305, 0.6697794031592519], [2.5914667837278733, 0.0, -2.5914667837278733], [-0.7480920225906307, 1.4961840451812614, -0.7480920225906307], [0.7071067811865475, 0.0, -0.7071067811865475], [-0.40824829046386296, 0.8164965809277259, -0.40824829046386296], [0.5773502691896257, 0.5773502691896257, 0.5773502691896257], 1.0)"
      ]
     },
     "execution_count": 100,
     "metadata": {},
     "output_type": "execute_result"
    }
   ],
   "source": [
    "cam = CameraM.Camera(lookfrom, lookat, vup, 20, aspect_ratio, aperture, dist_to_focus)"
   ]
  },
  {
   "cell_type": "code",
   "execution_count": 101,
   "metadata": {},
   "outputs": [
    {
     "data": {
      "text/plain": [
       "color (generic function with 4 methods)"
      ]
     },
     "execution_count": 101,
     "metadata": {},
     "output_type": "execute_result"
    }
   ],
   "source": [
    "function color(i, j) \n",
    "    c = [0, 0, 0]\n",
    "    for _ in 1:samples_per_pixel\n",
    "        u = (i + rand()) / image_width\n",
    "        v = (j + rand()) / image_height\n",
    "        r = get_ray(cam, u, v)\n",
    "        c += color(r, world, max_depth)\n",
    "    end\n",
    "    sqrt.(c / samples_per_pixel)\n",
    "end"
   ]
  },
  {
   "cell_type": "code",
   "execution_count": 102,
   "metadata": {},
   "outputs": [
    {
     "name": "stderr",
     "output_type": "stream",
     "text": [
      "\u001b[32mProgress: 100%|█████████████████████████████████████████| Time: 0:01:18\u001b[39m\n"
     ]
    },
    {
     "data": {
      "image/png": "[encoded data removed]",
      "text/plain": [
       "100×200 Array{RGB{Float64},2} with eltype RGB{Float64}:\n",
       " RGB{Float64}(0.675271,0.768842,0.0)  …  RGB{Float64}(0.6859,0.774879,0.0)\n",
       " RGB{Float64}(0.686785,0.776534,0.0)     RGB{Float64}(0.676417,0.771054,0.0)\n",
       " RGB{Float64}(0.681799,0.773893,0.0)     RGB{Float64}(0.68768,0.777009,0.0)\n",
       " RGB{Float64}(0.685767,0.775993,0.0)     RGB{Float64}(0.680517,0.773216,0.0)\n",
       " RGB{Float64}(0.681825,0.773906,0.0)     RGB{Float64}(0.676656,0.769714,0.0)\n",
       " RGB{Float64}(0.680734,0.77333,0.0)   …  RGB{Float64}(0.681024,0.773483,0.0)\n",
       " RGB{Float64}(0.686516,0.776391,0.0)     RGB{Float64}(0.676047,0.770859,0.0)\n",
       " RGB{Float64}(0.679649,0.772757,0.0)     RGB{Float64}(0.681704,0.773843,0.0)\n",
       " RGB{Float64}(0.686414,0.776336,0.0)     RGB{Float64}(0.688311,0.777344,0.0)\n",
       " RGB{Float64}(0.684581,0.775365,0.0)     RGB{Float64}(0.683902,0.775005,0.0)\n",
       " RGB{Float64}(0.684153,0.775138,0.0)  …  RGB{Float64}(0.675099,0.768855,0.0)\n",
       " RGB{Float64}(0.679841,0.772859,0.0)     RGB{Float64}(0.679905,0.772478,0.0)\n",
       " RGB{Float64}(0.678653,0.772232,0.0)     RGB{Float64}(0.680324,0.771619,0.0)\n",
       " ⋮                                    ⋱  \n",
       " RGB{Float64}(0.676632,0.765771,0.0)     RGB{Float64}(0.666592,0.755941,0.0)\n",
       " RGB{Float64}(0.678151,0.769098,0.0)     RGB{Float64}(0.669115,0.757414,0.0)\n",
       " RGB{Float64}(0.677724,0.770308,0.0)  …  RGB{Float64}(0.674105,0.759683,0.0)\n",
       " RGB{Float64}(0.679936,0.771305,0.0)     RGB{Float64}(0.676646,0.760863,0.0)\n",
       " RGB{Float64}(0.670871,0.765026,0.0)     RGB{Float64}(0.675984,0.760157,0.0)\n",
       " RGB{Float64}(0.670336,0.760465,0.0)     RGB{Float64}(0.679269,0.758626,0.0)\n",
       " RGB{Float64}(0.676257,0.766354,0.0)     RGB{Float64}(0.673388,0.765218,0.0)\n",
       " RGB{Float64}(0.678874,0.769317,0.0)  …  RGB{Float64}(0.667941,0.755747,0.0)\n",
       " RGB{Float64}(0.681035,0.771033,0.0)     RGB{Float64}(0.668126,0.754644,0.0)\n",
       " RGB{Float64}(0.671787,0.762755,0.0)     RGB{Float64}(0.676557,0.761322,0.0)\n",
       " RGB{Float64}(0.677238,0.770035,0.0)     RGB{Float64}(0.669263,0.758333,0.0)\n",
       " RGB{Float64}(0.669846,0.764009,0.0)     RGB{Float64}(0.676957,0.764012,0.0)"
      ]
     },
     "execution_count": 102,
     "metadata": {},
     "output_type": "execute_result"
    }
   ],
   "source": [
    "render()"
   ]
  }
 ],
 "metadata": {
  "kernelspec": {
   "display_name": "Julia (6 threads) 1.4.1",
   "language": "julia",
   "name": "julia-(6-threads)-1.4"
  },
  "language_info": {
   "file_extension": ".jl",
   "mimetype": "application/julia",
   "name": "julia",
   "version": "1.4.1"
  }
 },
 "nbformat": 4,
 "nbformat_minor": 4
}
